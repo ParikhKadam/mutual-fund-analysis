{
  "cells": [
    {
      "cell_type": "markdown",
      "metadata": {
        "id": "aB4aZf0lqrIt"
      },
      "source": [
        "## Dependencies\n",
        "\n"
      ]
    },
    {
      "cell_type": "code",
      "execution_count": null,
      "metadata": {
        "colab": {
          "base_uri": "https://localhost:8080/"
        },
        "id": "4CmUNbJEpO2S",
        "outputId": "58faef8b-834f-49e1-cf18-26e8ad8be55f"
      },
      "outputs": [
        {
          "name": "stdout",
          "output_type": "stream",
          "text": [
            "Looking in indexes: https://pypi.org/simple, https://us-python.pkg.dev/colab-wheels/public/simple/\n",
            "Requirement already satisfied: python-dateutil in /usr/local/lib/python3.8/dist-packages (2.8.2)\n",
            "Requirement already satisfied: six>=1.5 in /usr/local/lib/python3.8/dist-packages (from python-dateutil) (1.15.0)\n"
          ]
        }
      ],
      "source": [
        "!pip install python-dateutil"
      ]
    },
    {
      "cell_type": "markdown",
      "metadata": {
        "id": "WOK-aJ-yqlVG"
      },
      "source": [
        "## Imports"
      ]
    },
    {
      "cell_type": "code",
      "execution_count": null,
      "metadata": {
        "id": "t27qmyWAqnVl"
      },
      "outputs": [],
      "source": [
        "import pandas as pd\n",
        "import datetime\n",
        "from dateutil.relativedelta import relativedelta\n",
        "import plotly.express as px"
      ]
    },
    {
      "cell_type": "markdown",
      "metadata": {
        "id": "vyiCUlaYZ10K"
      },
      "source": [
        "## Load Fund Data and Pre-Process"
      ]
    },
    {
      "cell_type": "code",
      "execution_count": null,
      "metadata": {
        "colab": {
          "base_uri": "https://localhost:8080/",
          "height": 238
        },
        "id": "5nc8KO5-Z4zv",
        "outputId": "11a83fe4-fafa-413f-db3b-9234aee80eda"
      },
      "outputs": [
        {
          "data": {
            "text/html": [
              "\n",
              "  <div id=\"df-946f411f-6b0a-4718-9d0f-08398954af30\">\n",
              "    <div class=\"colab-df-container\">\n",
              "      <div>\n",
              "<style scoped>\n",
              "    .dataframe tbody tr th:only-of-type {\n",
              "        vertical-align: middle;\n",
              "    }\n",
              "\n",
              "    .dataframe tbody tr th {\n",
              "        vertical-align: top;\n",
              "    }\n",
              "\n",
              "    .dataframe thead th {\n",
              "        text-align: right;\n",
              "    }\n",
              "</style>\n",
              "<table border=\"1\" class=\"dataframe\">\n",
              "  <thead>\n",
              "    <tr style=\"text-align: right;\">\n",
              "      <th></th>\n",
              "      <th>nav</th>\n",
              "      <th>dayChange</th>\n",
              "    </tr>\n",
              "    <tr>\n",
              "      <th>date</th>\n",
              "      <th></th>\n",
              "      <th></th>\n",
              "    </tr>\n",
              "  </thead>\n",
              "  <tbody>\n",
              "    <tr>\n",
              "      <th>09-11-2022</th>\n",
              "      <td>51.7279</td>\n",
              "      <td>0.2760</td>\n",
              "    </tr>\n",
              "    <tr>\n",
              "      <th>07-11-2022</th>\n",
              "      <td>51.4519</td>\n",
              "      <td>0.4838</td>\n",
              "    </tr>\n",
              "    <tr>\n",
              "      <th>04-11-2022</th>\n",
              "      <td>50.9681</td>\n",
              "      <td>-0.3444</td>\n",
              "    </tr>\n",
              "    <tr>\n",
              "      <th>03-11-2022</th>\n",
              "      <td>51.3125</td>\n",
              "      <td>-0.3929</td>\n",
              "    </tr>\n",
              "    <tr>\n",
              "      <th>02-11-2022</th>\n",
              "      <td>51.7054</td>\n",
              "      <td>-0.2795</td>\n",
              "    </tr>\n",
              "  </tbody>\n",
              "</table>\n",
              "</div>\n",
              "      <button class=\"colab-df-convert\" onclick=\"convertToInteractive('df-946f411f-6b0a-4718-9d0f-08398954af30')\"\n",
              "              title=\"Convert this dataframe to an interactive table.\"\n",
              "              style=\"display:none;\">\n",
              "        \n",
              "  <svg xmlns=\"http://www.w3.org/2000/svg\" height=\"24px\"viewBox=\"0 0 24 24\"\n",
              "       width=\"24px\">\n",
              "    <path d=\"M0 0h24v24H0V0z\" fill=\"none\"/>\n",
              "    <path d=\"M18.56 5.44l.94 2.06.94-2.06 2.06-.94-2.06-.94-.94-2.06-.94 2.06-2.06.94zm-11 1L8.5 8.5l.94-2.06 2.06-.94-2.06-.94L8.5 2.5l-.94 2.06-2.06.94zm10 10l.94 2.06.94-2.06 2.06-.94-2.06-.94-.94-2.06-.94 2.06-2.06.94z\"/><path d=\"M17.41 7.96l-1.37-1.37c-.4-.4-.92-.59-1.43-.59-.52 0-1.04.2-1.43.59L10.3 9.45l-7.72 7.72c-.78.78-.78 2.05 0 2.83L4 21.41c.39.39.9.59 1.41.59.51 0 1.02-.2 1.41-.59l7.78-7.78 2.81-2.81c.8-.78.8-2.07 0-2.86zM5.41 20L4 18.59l7.72-7.72 1.47 1.35L5.41 20z\"/>\n",
              "  </svg>\n",
              "      </button>\n",
              "      \n",
              "  <style>\n",
              "    .colab-df-container {\n",
              "      display:flex;\n",
              "      flex-wrap:wrap;\n",
              "      gap: 12px;\n",
              "    }\n",
              "\n",
              "    .colab-df-convert {\n",
              "      background-color: #E8F0FE;\n",
              "      border: none;\n",
              "      border-radius: 50%;\n",
              "      cursor: pointer;\n",
              "      display: none;\n",
              "      fill: #1967D2;\n",
              "      height: 32px;\n",
              "      padding: 0 0 0 0;\n",
              "      width: 32px;\n",
              "    }\n",
              "\n",
              "    .colab-df-convert:hover {\n",
              "      background-color: #E2EBFA;\n",
              "      box-shadow: 0px 1px 2px rgba(60, 64, 67, 0.3), 0px 1px 3px 1px rgba(60, 64, 67, 0.15);\n",
              "      fill: #174EA6;\n",
              "    }\n",
              "\n",
              "    [theme=dark] .colab-df-convert {\n",
              "      background-color: #3B4455;\n",
              "      fill: #D2E3FC;\n",
              "    }\n",
              "\n",
              "    [theme=dark] .colab-df-convert:hover {\n",
              "      background-color: #434B5C;\n",
              "      box-shadow: 0px 1px 3px 1px rgba(0, 0, 0, 0.15);\n",
              "      filter: drop-shadow(0px 1px 2px rgba(0, 0, 0, 0.3));\n",
              "      fill: #FFFFFF;\n",
              "    }\n",
              "  </style>\n",
              "\n",
              "      <script>\n",
              "        const buttonEl =\n",
              "          document.querySelector('#df-946f411f-6b0a-4718-9d0f-08398954af30 button.colab-df-convert');\n",
              "        buttonEl.style.display =\n",
              "          google.colab.kernel.accessAllowed ? 'block' : 'none';\n",
              "\n",
              "        async function convertToInteractive(key) {\n",
              "          const element = document.querySelector('#df-946f411f-6b0a-4718-9d0f-08398954af30');\n",
              "          const dataTable =\n",
              "            await google.colab.kernel.invokeFunction('convertToInteractive',\n",
              "                                                     [key], {});\n",
              "          if (!dataTable) return;\n",
              "\n",
              "          const docLinkHtml = 'Like what you see? Visit the ' +\n",
              "            '<a target=\"_blank\" href=https://colab.research.google.com/notebooks/data_table.ipynb>data table notebook</a>'\n",
              "            + ' to learn more about interactive tables.';\n",
              "          element.innerHTML = '';\n",
              "          dataTable['output_type'] = 'display_data';\n",
              "          await google.colab.output.renderOutput(dataTable, element);\n",
              "          const docLink = document.createElement('div');\n",
              "          docLink.innerHTML = docLinkHtml;\n",
              "          element.appendChild(docLink);\n",
              "        }\n",
              "      </script>\n",
              "    </div>\n",
              "  </div>\n",
              "  "
            ],
            "text/plain": [
              "                nav  dayChange\n",
              "date                          \n",
              "09-11-2022  51.7279     0.2760\n",
              "07-11-2022  51.4519     0.4838\n",
              "04-11-2022  50.9681    -0.3444\n",
              "03-11-2022  51.3125    -0.3929\n",
              "02-11-2022  51.7054    -0.2795"
            ]
          },
          "execution_count": 3,
          "metadata": {},
          "output_type": "execute_result"
        }
      ],
      "source": [
        "df_fund = pd.read_csv(\"../data/Parag Parikh Flexi Cap Fund - Direct Plan - Growth.csv\", index_col=\"date\")\n",
        "df_fund.head()"
      ]
    },
    {
      "cell_type": "code",
      "execution_count": null,
      "metadata": {
        "colab": {
          "base_uri": "https://localhost:8080/"
        },
        "id": "jMoXnV8daLoR",
        "outputId": "2a880b15-2260-44ef-d8cb-29435b323a93"
      },
      "outputs": [
        {
          "data": {
            "text/plain": [
              "(nav          float64\n",
              " dayChange    float64\n",
              " dtype: object, dtype('O'))"
            ]
          },
          "execution_count": 4,
          "metadata": {},
          "output_type": "execute_result"
        }
      ],
      "source": [
        "df_fund.dtypes, df_fund.index.dtype"
      ]
    },
    {
      "cell_type": "code",
      "execution_count": null,
      "metadata": {
        "colab": {
          "base_uri": "https://localhost:8080/"
        },
        "id": "twKDMHJqqTZO",
        "outputId": "a599c8f1-c9a3-4c1a-e8bc-bbbd692f1d31"
      },
      "outputs": [
        {
          "data": {
            "text/plain": [
              "DatetimeIndex(['2013-05-28 00:00:00+00:00', '2013-05-29 00:00:00+00:00',\n",
              "               '2013-05-30 00:00:00+00:00', '2013-05-31 00:00:00+00:00',\n",
              "               '2013-06-03 00:00:00+00:00', '2013-06-04 00:00:00+00:00',\n",
              "               '2013-06-05 00:00:00+00:00', '2013-06-06 00:00:00+00:00',\n",
              "               '2013-06-07 00:00:00+00:00', '2013-06-10 00:00:00+00:00',\n",
              "               ...\n",
              "               '2022-10-25 00:00:00+00:00', '2022-10-27 00:00:00+00:00',\n",
              "               '2022-10-28 00:00:00+00:00', '2022-10-31 00:00:00+00:00',\n",
              "               '2022-11-01 00:00:00+00:00', '2022-11-02 00:00:00+00:00',\n",
              "               '2022-11-03 00:00:00+00:00', '2022-11-04 00:00:00+00:00',\n",
              "               '2022-11-07 00:00:00+00:00', '2022-11-09 00:00:00+00:00'],\n",
              "              dtype='datetime64[ns, UTC]', name='date', length=2325, freq=None)"
            ]
          },
          "execution_count": 5,
          "metadata": {},
          "output_type": "execute_result"
        }
      ],
      "source": [
        "# pre-process\n",
        "df_fund.index = pd.to_datetime(df_fund.index, format=\"%d-%m-%Y\", utc=True)\n",
        "df_fund[\"nav\"] = df_fund[\"nav\"].astype(\"float64\")\n",
        "\n",
        "# sort df_nav\n",
        "df_fund = df_fund[::-1]\n",
        "\n",
        "df_fund.index"
      ]
    },
    {
      "cell_type": "code",
      "execution_count": null,
      "metadata": {
        "id": "RxTpOSB9EDw7"
      },
      "outputs": [],
      "source": [
        "# data will always be missing for holidays, and weekends\n",
        "# on holidays, the nav stays the same as previous day's nav\n",
        "\n",
        "# refer: https://pandas.pydata.org/pandas-docs/stable/development/extending.html\n",
        "\n",
        "@pd.api.extensions.register_dataframe_accessor(\"safe_nav\")\n",
        "class NAVAccessor:\n",
        "    def __init__(self, pandas_obj):\n",
        "        self._validate(pandas_obj)\n",
        "        self.start_date = pandas_obj.index[0]\n",
        "        self._obj = pandas_obj\n",
        "\n",
        "    @staticmethod\n",
        "    def _validate(obj):\n",
        "        # verify there is a column nav,\n",
        "        if \"nav\" not in obj.columns:\n",
        "        # or not pd.api.types.is_datetime64_any_dtype(obj.index):\n",
        "            raise AttributeError(\"Must have 'nav'\")\n",
        "\n",
        "    def is_date_available(self, date):\n",
        "      return date in self._obj.index\n",
        "\n",
        "    # let's create a separate function which handles this\n",
        "    def for_date(self, date):\n",
        "      if date > self.start_date:\n",
        "        # go back by a day till holidays are not over \n",
        "        while not self.is_date_available(date):\n",
        "          date -= datetime.timedelta(days=1)\n",
        "        \n",
        "        # return the data of the day before holidays\n",
        "        return self._obj.loc[date]\n",
        "\n",
        "      # return the data of inception if data is from very past\n",
        "      return self._obj.loc[self.start_date]"
      ]
    },
    {
      "cell_type": "code",
      "execution_count": null,
      "metadata": {
        "colab": {
          "base_uri": "https://localhost:8080/"
        },
        "id": "6kVtiTirYbTm",
        "outputId": "4fd7910f-a351-4af4-8279-3011ad6704f4"
      },
      "outputs": [
        {
          "data": {
            "text/plain": [
              "DatetimeIndex(['2013-05-28 00:00:00+00:00', '2013-05-29 00:00:00+00:00',\n",
              "               '2013-05-30 00:00:00+00:00', '2013-05-31 00:00:00+00:00',\n",
              "               '2013-06-03 00:00:00+00:00', '2013-06-04 00:00:00+00:00',\n",
              "               '2013-06-05 00:00:00+00:00', '2013-06-06 00:00:00+00:00',\n",
              "               '2013-06-07 00:00:00+00:00', '2013-06-10 00:00:00+00:00',\n",
              "               ...\n",
              "               '2022-10-25 00:00:00+00:00', '2022-10-27 00:00:00+00:00',\n",
              "               '2022-10-28 00:00:00+00:00', '2022-10-31 00:00:00+00:00',\n",
              "               '2022-11-01 00:00:00+00:00', '2022-11-02 00:00:00+00:00',\n",
              "               '2022-11-03 00:00:00+00:00', '2022-11-04 00:00:00+00:00',\n",
              "               '2022-11-07 00:00:00+00:00', '2022-11-09 00:00:00+00:00'],\n",
              "              dtype='datetime64[ns, UTC]', name='date', length=2325, freq=None)"
            ]
          },
          "execution_count": 7,
          "metadata": {},
          "output_type": "execute_result"
        }
      ],
      "source": [
        "df_fund.safe_nav._obj.index"
      ]
    },
    {
      "cell_type": "code",
      "execution_count": null,
      "metadata": {
        "colab": {
          "base_uri": "https://localhost:8080/"
        },
        "id": "N-7kP9LvkYCz",
        "outputId": "2f5de441-9997-485a-ace3-435502c256cb"
      },
      "outputs": [
        {
          "data": {
            "text/plain": [
              "(28, 5)"
            ]
          },
          "execution_count": 8,
          "metadata": {},
          "output_type": "execute_result"
        }
      ],
      "source": [
        "df_fund.safe_nav._obj.index[0].day, df_fund.safe_nav._obj.index[0].month"
      ]
    },
    {
      "cell_type": "code",
      "execution_count": null,
      "metadata": {
        "colab": {
          "base_uri": "https://localhost:8080/"
        },
        "id": "LT20S4WALxbR",
        "outputId": "c593bb25-d08e-41fa-d288-657ab49b51bf"
      },
      "outputs": [
        {
          "name": "stdout",
          "output_type": "stream",
          "text": [
            "2022-11-06 00:00:00+00:00\n",
            "4\n"
          ]
        }
      ],
      "source": [
        "# check if it works\n",
        "today = datetime.datetime.now().replace(tzinfo=datetime.timezone.utc)\n",
        "sunday_idx = (today.weekday() + 1) % 7\n",
        "\n",
        "sun = today - datetime.timedelta(days=sunday_idx, hours=today.hour, minutes=today.minute, seconds=today.second, microseconds=today.microsecond)\n",
        "\n",
        "sun = sun - datetime.timedelta(days=21)\n",
        "\n",
        "print(sun)\n",
        "print(df_fund.safe_nav.for_date(sun).name.day)"
      ]
    },
    {
      "cell_type": "code",
      "execution_count": null,
      "metadata": {
        "id": "oOdmTJZtmV0k"
      },
      "outputs": [],
      "source": [
        "def get_date(year, month, day):\n",
        "  return datetime.datetime(year=year, month=month, day=day, tzinfo=datetime.timezone.utc)"
      ]
    },
    {
      "cell_type": "code",
      "execution_count": null,
      "metadata": {
        "id": "BoWu-I1UnsAF"
      },
      "outputs": [],
      "source": [
        "def get_yesterday():\n",
        "  today = datetime.datetime.now()\n",
        "  yesterday = today - datetime.timedelta(days=1)\n",
        "  yesterday = get_date(yesterday.year, yesterday.month, yesterday.day)\n",
        "  return yesterday"
      ]
    },
    {
      "cell_type": "markdown",
      "metadata": {
        "id": "0N04vx4L-Yu9"
      },
      "source": [
        "## Calculate Returns"
      ]
    },
    {
      "cell_type": "markdown",
      "metadata": {
        "id": "w0Cxo7lwlZMP"
      },
      "source": [
        "### Absolute Returns"
      ]
    },
    {
      "cell_type": "code",
      "execution_count": null,
      "metadata": {
        "id": "VOE7gOpcHGTd"
      },
      "outputs": [],
      "source": [
        "def absolute_return(initial_value, final_value):\n",
        "  return (final_value - initial_value) * 100 / initial_value"
      ]
    },
    {
      "cell_type": "code",
      "execution_count": null,
      "metadata": {
        "colab": {
          "base_uri": "https://localhost:8080/"
        },
        "id": "HABNHKZacHCQ",
        "outputId": "26d82b70-9bfa-4352-fce9-a3b09138a8ed"
      },
      "outputs": [
        {
          "data": {
            "text/plain": [
              "nav          51.7279\n",
              "dayChange     0.2760\n",
              "Name: 2022-11-09 00:00:00+00:00, dtype: float64"
            ]
          },
          "execution_count": 13,
          "metadata": {},
          "output_type": "execute_result"
        }
      ],
      "source": [
        "df_fund.safe_nav.for_date(get_yesterday())"
      ]
    },
    {
      "cell_type": "code",
      "execution_count": null,
      "metadata": {
        "colab": {
          "base_uri": "https://localhost:8080/"
        },
        "id": "XTcWRr-WvpwU",
        "outputId": "4b97c6f1-7edf-48a3-93f8-d07a5e982bb3"
      },
      "outputs": [
        {
          "data": {
            "text/plain": [
              "0.0"
            ]
          },
          "execution_count": 14,
          "metadata": {},
          "output_type": "execute_result"
        }
      ],
      "source": [
        "def one_day_absolute_return(df_nav):\n",
        "  yesterday = get_yesterday()\n",
        "\n",
        "  day_before_yesterday = yesterday - datetime.timedelta(days=1)\n",
        "\n",
        "  return absolute_return(df_nav.safe_nav.for_date(day_before_yesterday)[\"nav\"], df_nav.safe_nav.for_date(yesterday)[\"nav\"])\n",
        "\n",
        "one_day_absolute_return(df_fund)"
      ]
    },
    {
      "cell_type": "code",
      "execution_count": null,
      "metadata": {
        "colab": {
          "base_uri": "https://localhost:8080/"
        },
        "id": "D_GLJmG8-v7C",
        "outputId": "e5800b5b-ecf5-43ee-b225-30e328a8ef69"
      },
      "outputs": [
        {
          "data": {
            "text/plain": [
              "-3.2436122853615745"
            ]
          },
          "execution_count": 15,
          "metadata": {},
          "output_type": "execute_result"
        }
      ],
      "source": [
        "def one_year_absolute_return(df_nav):\n",
        "  yesterday = get_yesterday()\n",
        "\n",
        "  one_year_before_yesterday = yesterday - relativedelta(years=1)\n",
        "\n",
        "  return absolute_return(df_nav.safe_nav.for_date(one_year_before_yesterday)[\"nav\"], df_nav.safe_nav.for_date(yesterday)[\"nav\"])\n",
        "\n",
        "one_year_absolute_return(df_fund)"
      ]
    },
    {
      "cell_type": "code",
      "execution_count": null,
      "metadata": {
        "colab": {
          "base_uri": "https://localhost:8080/"
        },
        "id": "s5d324jQ0LHL",
        "outputId": "88b65920-dfef-413a-cb9c-a50b8cd53dd5"
      },
      "outputs": [
        {
          "data": {
            "text/plain": [
              "Timestamp('2022-11-09 00:00:00+0000', tz='UTC')"
            ]
          },
          "execution_count": 16,
          "metadata": {},
          "output_type": "execute_result"
        }
      ],
      "source": [
        "df_fund.index[-1]"
      ]
    },
    {
      "cell_type": "code",
      "execution_count": null,
      "metadata": {
        "colab": {
          "base_uri": "https://localhost:8080/"
        },
        "id": "cnKUCefAw04d",
        "outputId": "a2e0fd4e-bdd8-4ac0-a286-90d5d134dffc"
      },
      "outputs": [
        {
          "data": {
            "text/plain": [
              "-5.240124275487103"
            ]
          },
          "execution_count": 17,
          "metadata": {},
          "output_type": "execute_result"
        }
      ],
      "source": [
        "def year_to_date_absolute_return(df_nav):\n",
        "  yesterday = get_yesterday()\n",
        "  \n",
        "  year_start = datetime.datetime(year=datetime.datetime.now().year, month=1, day=1, tzinfo=datetime.timezone.utc)\n",
        "\n",
        "  # handling holidays at the start of the year\n",
        "  while not df_nav.safe_nav.is_date_available(year_start):\n",
        "    year_start += datetime.timedelta(days=1)\n",
        "\n",
        "  return absolute_return(df_nav.safe_nav.for_date(year_start)[\"nav\"], df_nav.safe_nav.for_date(yesterday)[\"nav\"])\n",
        "\n",
        "year_to_date_absolute_return(df_fund)"
      ]
    },
    {
      "cell_type": "code",
      "execution_count": null,
      "metadata": {
        "id": "tQ4GQ5sZ_oyR"
      },
      "outputs": [],
      "source": [
        "# generic function\n",
        "\n",
        "def n_years_absolute_return(df_nav, n_years=7):\n",
        "  yesterday = get_yesterday()\n",
        "  n_years_before_yesterday = (yesterday - relativedelta(years=n_years))\n",
        "\n",
        "  return absolute_return(df_nav.safe_nav.for_date(n_years_before_yesterday)[\"nav\"], df_nav.safe_nav.for_date(yesterday)[\"nav\"])"
      ]
    },
    {
      "cell_type": "code",
      "execution_count": null,
      "metadata": {
        "colab": {
          "base_uri": "https://localhost:8080/"
        },
        "id": "W5oQaf2Ha3Ja",
        "outputId": "c6d247b2-5e71-4bcb-84da-4f25d678cd42"
      },
      "outputs": [
        {
          "name": "stdout",
          "output_type": "stream",
          "text": [
            "Years: 1 \t Abs. Return: -3.2436122853615745\n",
            "Years: 3 \t Abs. Return: 88.65094329300983\n",
            "Years: 5 \t Abs. Return: 120.92722302895702\n",
            "Years: 7 \t Abs. Return: 191.21806492292794\n"
          ]
        }
      ],
      "source": [
        "for n_years in (1, 3, 5, 7):\n",
        "  return_ = n_years_absolute_return(df_fund, n_years=n_years)\n",
        "  print(\"Years:\", n_years, \"\\t\", \"Abs. Return:\", return_)"
      ]
    },
    {
      "cell_type": "markdown",
      "metadata": {
        "id": "WcAZSgybm2UN"
      },
      "source": [
        "### Trailing Returns (AKA. CAGR i.e. Compounded Annual Growth Rate)"
      ]
    },
    {
      "cell_type": "markdown",
      "metadata": {
        "id": "9BJoPNTrm7KF"
      },
      "source": [
        "**Understanding**\n",
        "\n",
        "Trailing Return cancels the compounding effect from the absolute return.\n",
        "\n",
        "If it is a year-on-year compounding, trailing return tells you the yearly simple interest rate that would have applied to compound and reach the final amount in the given time span.\n",
        "\n",
        "For example, the absolute return for 7 years, which is 196.37% does not consider the time that you'll have to wait to earn this much profit.\n",
        "\n",
        "Like if we want to compare the return of this mutual fund with a typical compound interest scheme, we want to know the yearly simple interest rate that applies. What if a compound interest scheme for 7 years would generate more than 196.37% absolute return? You'd never know.\n",
        "\n",
        "Trailing return helps us with calculating the yearly rate of interest that you'd need to reach upto 196.37% in 7 years. Basically, it remove the timefactor from the absolute return and gets you the yearly interest rate."
      ]
    },
    {
      "cell_type": "code",
      "execution_count": null,
      "metadata": {
        "id": "ab3rbpK9pnX-"
      },
      "outputs": [],
      "source": [
        "# formulation\n",
        "\n",
        "# compound interest formula\n",
        "\n",
        "# final_value = initial_value * (1 + (interest_rate / num_times_interest_applied_per_period) ^ (num_times_interest_applied_per_period*num_periods))\n",
        "\n",
        "# for 5 year compounding and interest applied yearly\n",
        "# num_times_interest_applied_per_period = 1, num_periods=5\n",
        "\n",
        "# for 5 year compounding and interest applied mothly\n",
        "# num_times_interest_applied_per_period = 12, num_periods=5\n",
        "\n",
        "\n",
        "# deriving the formula of trailing returns from above, we get\n",
        "\n",
        "# trailing_return = ((final_value / initial_value) ^ (1 / num_times_interest_applied_per_period*num_periods) - 1) * num_times_interest_applied_per_period)"
      ]
    },
    {
      "cell_type": "code",
      "execution_count": null,
      "metadata": {
        "id": "GFMprfARQsxx"
      },
      "outputs": [],
      "source": [
        "# for most of the compounding schemes, num_times_interest_applied_per_period = 1\n",
        "\n",
        "def trailing_return(initial_value, final_value, n_years):\n",
        "  return (((final_value / initial_value) ** (1 / n_years)) - 1)*100"
      ]
    },
    {
      "cell_type": "code",
      "execution_count": null,
      "metadata": {
        "id": "RVlsHMTsmOlD"
      },
      "outputs": [],
      "source": [
        "def n_years_trailing_return(df_nav, n_years):\n",
        "  yesterday = get_yesterday()\n",
        "  n_years_before_yesterday = (yesterday - relativedelta(years=n_years))\n",
        "\n",
        "  final_value = df_nav.safe_nav.for_date(yesterday)[\"nav\"]\n",
        "  initial_value = df_nav.safe_nav.for_date(n_years_before_yesterday)[\"nav\"]\n",
        "\n",
        "  return trailing_return(initial_value, final_value, n_years)"
      ]
    },
    {
      "cell_type": "code",
      "execution_count": null,
      "metadata": {
        "colab": {
          "base_uri": "https://localhost:8080/"
        },
        "id": "9X9-QMS_sfjE",
        "outputId": "d1aa79d4-7f32-4caa-f8d8-d7226a254e2b"
      },
      "outputs": [
        {
          "name": "stdout",
          "output_type": "stream",
          "text": [
            "Years: 1 \t Trl. Return: -3.2436122853615745\n",
            "Years: 3 \t Trl. Return: 23.56239768244537\n",
            "Years: 5 \t Trl. Return: 17.179015998955236\n",
            "Years: 7 \t Trl. Return: 16.497579411831097\n"
          ]
        }
      ],
      "source": [
        "for n_years in (1, 3, 5, 7):\n",
        "  return_ = n_years_trailing_return(df_fund, n_years=n_years)\n",
        "  print(\"Years:\", n_years, \"\\t\", \"Trl. Return:\", return_)"
      ]
    },
    {
      "cell_type": "markdown",
      "metadata": {
        "id": "yHB_q0Vk1Chm"
      },
      "source": [
        "**Output for future**\n",
        "\n",
        "```\n",
        "Years: 1 \t Abs. Return: -4.817920370508706\n",
        "Years: 3 \t Abs. Return: 85.65517191136884\n",
        "Years: 5 \t Abs. Return: 119.47250570555055\n",
        "Years: 7 \t Abs. Return: 196.37096305255452\n",
        "```\n",
        "\n",
        "```\n",
        "Years: 1 \t Trl. Return: -4.817920370508711\n",
        "Years: 3 \t Trl. Return: 22.904848946865954\n",
        "Years: 5 \t Trl. Return: 17.024292561361843\n",
        "Years: 7 \t Trl. Return: 16.789847958013524\n",
        "```"
      ]
    },
    {
      "cell_type": "markdown",
      "metadata": {
        "id": "kZ1ac2ZftTZx"
      },
      "source": [
        "**Observations:**\n",
        "1. The fund has performed significantly well over the past 3 years, however, it's performance dropped last year. Basically, the fund performed very well from November 2019 to November 2021, and it's performance dropped after November 2021 till November 2022.\n",
        "2. We can confirm the same by looking at absolute returns. Out of 119.47% over 5 years, 85.65% alone was generate in the last 3 years.\n",
        "3. The fund is not able to maintain it's yearly interest rate i.e. trailing return value in the last year. If you had to invest in this fund, ignoring the last year, you could expect an average annual return of 16% or more in this fund, given that you stay invested for more than 3 years.\n",
        "\n",
        "**NOTE:** For 1 year, trailing return = absolute return as there is no compounding effect"
      ]
    },
    {
      "cell_type": "markdown",
      "metadata": {
        "id": "WSj9FaGd37_N"
      },
      "source": [
        "### Rolling Returns"
      ]
    },
    {
      "cell_type": "markdown",
      "metadata": {
        "id": "UySYxeJGAhu7"
      },
      "source": [
        "**Understanding**\n",
        "\n",
        "Trailing Return gives you an estimate about the year-on-year performance of the fund, if invested for a long term.\n",
        "\n",
        "Now, let's say for example that you have two funds having the same CAGR of 15% over the period of 5 years. How would you select one of them?\n",
        "\n",
        "Or let's say we consider absolute returns, and both the funds have same return value of 100% over the period of 5 years. Again, how would you select a fund of these two?\n",
        "\n",
        "What a professional would do is check for consistency.\n",
        "\n",
        "For example, if fund A had +300% in the first 2 years, -100% in the 3rd year, +100% in the 4th year and -200% in the last year, and fund B had +50% in the first 2 years, -10% in the 3rd year, +20% in the 4th year and +40% in the fifth year, which one would you select?\n",
        "\n",
        "I'd have opted for Fund B, as it is more stable and hence, less risky.\n",
        "\n",
        "Rolling returns give you a way to check on the stability of returns by calculating the returns over a certain time period.\n",
        "\n",
        "In the above case, we would select a 5 year time span and calculate different values of returns\n",
        "- jan 2017 - jan 2018\n",
        "- feb 2017 - feb 2018\n",
        "- mar 2017 - mar 2018\n",
        "- .\n",
        "- .\n",
        "- .\n",
        "- dec 2020 - dec 2021\n",
        "- jan 2021 - jan 2022\n",
        "\n",
        "\n",
        "By having a look at these values, we will be able to understand how volatile/stable a fund is over the period of 5 years. The above values are calculated using 1 year data, hence they are called \"rolling 1-year returns for a period of 5 years\"."
      ]
    },
    {
      "cell_type": "code",
      "execution_count": null,
      "metadata": {
        "colab": {
          "base_uri": "https://localhost:8080/",
          "height": 455
        },
        "id": "_3amzS1ap10o",
        "outputId": "9bded1f8-7d85-4319-dd61-b0e54d1c252c"
      },
      "outputs": [
        {
          "data": {
            "text/html": [
              "\n",
              "  <div id=\"df-d9c1bde2-889f-4ec4-b52a-43b7609bdc20\">\n",
              "    <div class=\"colab-df-container\">\n",
              "      <div>\n",
              "<style scoped>\n",
              "    .dataframe tbody tr th:only-of-type {\n",
              "        vertical-align: middle;\n",
              "    }\n",
              "\n",
              "    .dataframe tbody tr th {\n",
              "        vertical-align: top;\n",
              "    }\n",
              "\n",
              "    .dataframe thead th {\n",
              "        text-align: right;\n",
              "    }\n",
              "</style>\n",
              "<table border=\"1\" class=\"dataframe\">\n",
              "  <thead>\n",
              "    <tr style=\"text-align: right;\">\n",
              "      <th></th>\n",
              "      <th>nav</th>\n",
              "      <th>dayChange</th>\n",
              "    </tr>\n",
              "    <tr>\n",
              "      <th>date</th>\n",
              "      <th></th>\n",
              "      <th></th>\n",
              "    </tr>\n",
              "  </thead>\n",
              "  <tbody>\n",
              "    <tr>\n",
              "      <th>2013-05-28 00:00:00+00:00</th>\n",
              "      <td>9.9992</td>\n",
              "      <td>NaN</td>\n",
              "    </tr>\n",
              "    <tr>\n",
              "      <th>2013-05-29 00:00:00+00:00</th>\n",
              "      <td>10.0080</td>\n",
              "      <td>0.0088</td>\n",
              "    </tr>\n",
              "    <tr>\n",
              "      <th>2013-05-30 00:00:00+00:00</th>\n",
              "      <td>10.0327</td>\n",
              "      <td>0.0247</td>\n",
              "    </tr>\n",
              "    <tr>\n",
              "      <th>2013-05-31 00:00:00+00:00</th>\n",
              "      <td>10.0154</td>\n",
              "      <td>-0.0173</td>\n",
              "    </tr>\n",
              "    <tr>\n",
              "      <th>2013-06-03 00:00:00+00:00</th>\n",
              "      <td>10.0572</td>\n",
              "      <td>0.0418</td>\n",
              "    </tr>\n",
              "    <tr>\n",
              "      <th>...</th>\n",
              "      <td>...</td>\n",
              "      <td>...</td>\n",
              "    </tr>\n",
              "    <tr>\n",
              "      <th>2022-11-02 00:00:00+00:00</th>\n",
              "      <td>51.7054</td>\n",
              "      <td>-0.2795</td>\n",
              "    </tr>\n",
              "    <tr>\n",
              "      <th>2022-11-03 00:00:00+00:00</th>\n",
              "      <td>51.3125</td>\n",
              "      <td>-0.3929</td>\n",
              "    </tr>\n",
              "    <tr>\n",
              "      <th>2022-11-04 00:00:00+00:00</th>\n",
              "      <td>50.9681</td>\n",
              "      <td>-0.3444</td>\n",
              "    </tr>\n",
              "    <tr>\n",
              "      <th>2022-11-07 00:00:00+00:00</th>\n",
              "      <td>51.4519</td>\n",
              "      <td>0.4838</td>\n",
              "    </tr>\n",
              "    <tr>\n",
              "      <th>2022-11-09 00:00:00+00:00</th>\n",
              "      <td>51.7279</td>\n",
              "      <td>0.2760</td>\n",
              "    </tr>\n",
              "  </tbody>\n",
              "</table>\n",
              "<p>2325 rows × 2 columns</p>\n",
              "</div>\n",
              "      <button class=\"colab-df-convert\" onclick=\"convertToInteractive('df-d9c1bde2-889f-4ec4-b52a-43b7609bdc20')\"\n",
              "              title=\"Convert this dataframe to an interactive table.\"\n",
              "              style=\"display:none;\">\n",
              "        \n",
              "  <svg xmlns=\"http://www.w3.org/2000/svg\" height=\"24px\"viewBox=\"0 0 24 24\"\n",
              "       width=\"24px\">\n",
              "    <path d=\"M0 0h24v24H0V0z\" fill=\"none\"/>\n",
              "    <path d=\"M18.56 5.44l.94 2.06.94-2.06 2.06-.94-2.06-.94-.94-2.06-.94 2.06-2.06.94zm-11 1L8.5 8.5l.94-2.06 2.06-.94-2.06-.94L8.5 2.5l-.94 2.06-2.06.94zm10 10l.94 2.06.94-2.06 2.06-.94-2.06-.94-.94-2.06-.94 2.06-2.06.94z\"/><path d=\"M17.41 7.96l-1.37-1.37c-.4-.4-.92-.59-1.43-.59-.52 0-1.04.2-1.43.59L10.3 9.45l-7.72 7.72c-.78.78-.78 2.05 0 2.83L4 21.41c.39.39.9.59 1.41.59.51 0 1.02-.2 1.41-.59l7.78-7.78 2.81-2.81c.8-.78.8-2.07 0-2.86zM5.41 20L4 18.59l7.72-7.72 1.47 1.35L5.41 20z\"/>\n",
              "  </svg>\n",
              "      </button>\n",
              "      \n",
              "  <style>\n",
              "    .colab-df-container {\n",
              "      display:flex;\n",
              "      flex-wrap:wrap;\n",
              "      gap: 12px;\n",
              "    }\n",
              "\n",
              "    .colab-df-convert {\n",
              "      background-color: #E8F0FE;\n",
              "      border: none;\n",
              "      border-radius: 50%;\n",
              "      cursor: pointer;\n",
              "      display: none;\n",
              "      fill: #1967D2;\n",
              "      height: 32px;\n",
              "      padding: 0 0 0 0;\n",
              "      width: 32px;\n",
              "    }\n",
              "\n",
              "    .colab-df-convert:hover {\n",
              "      background-color: #E2EBFA;\n",
              "      box-shadow: 0px 1px 2px rgba(60, 64, 67, 0.3), 0px 1px 3px 1px rgba(60, 64, 67, 0.15);\n",
              "      fill: #174EA6;\n",
              "    }\n",
              "\n",
              "    [theme=dark] .colab-df-convert {\n",
              "      background-color: #3B4455;\n",
              "      fill: #D2E3FC;\n",
              "    }\n",
              "\n",
              "    [theme=dark] .colab-df-convert:hover {\n",
              "      background-color: #434B5C;\n",
              "      box-shadow: 0px 1px 3px 1px rgba(0, 0, 0, 0.15);\n",
              "      filter: drop-shadow(0px 1px 2px rgba(0, 0, 0, 0.3));\n",
              "      fill: #FFFFFF;\n",
              "    }\n",
              "  </style>\n",
              "\n",
              "      <script>\n",
              "        const buttonEl =\n",
              "          document.querySelector('#df-d9c1bde2-889f-4ec4-b52a-43b7609bdc20 button.colab-df-convert');\n",
              "        buttonEl.style.display =\n",
              "          google.colab.kernel.accessAllowed ? 'block' : 'none';\n",
              "\n",
              "        async function convertToInteractive(key) {\n",
              "          const element = document.querySelector('#df-d9c1bde2-889f-4ec4-b52a-43b7609bdc20');\n",
              "          const dataTable =\n",
              "            await google.colab.kernel.invokeFunction('convertToInteractive',\n",
              "                                                     [key], {});\n",
              "          if (!dataTable) return;\n",
              "\n",
              "          const docLinkHtml = 'Like what you see? Visit the ' +\n",
              "            '<a target=\"_blank\" href=https://colab.research.google.com/notebooks/data_table.ipynb>data table notebook</a>'\n",
              "            + ' to learn more about interactive tables.';\n",
              "          element.innerHTML = '';\n",
              "          dataTable['output_type'] = 'display_data';\n",
              "          await google.colab.output.renderOutput(dataTable, element);\n",
              "          const docLink = document.createElement('div');\n",
              "          docLink.innerHTML = docLinkHtml;\n",
              "          element.appendChild(docLink);\n",
              "        }\n",
              "      </script>\n",
              "    </div>\n",
              "  </div>\n",
              "  "
            ],
            "text/plain": [
              "                               nav  dayChange\n",
              "date                                         \n",
              "2013-05-28 00:00:00+00:00   9.9992        NaN\n",
              "2013-05-29 00:00:00+00:00  10.0080     0.0088\n",
              "2013-05-30 00:00:00+00:00  10.0327     0.0247\n",
              "2013-05-31 00:00:00+00:00  10.0154    -0.0173\n",
              "2013-06-03 00:00:00+00:00  10.0572     0.0418\n",
              "...                            ...        ...\n",
              "2022-11-02 00:00:00+00:00  51.7054    -0.2795\n",
              "2022-11-03 00:00:00+00:00  51.3125    -0.3929\n",
              "2022-11-04 00:00:00+00:00  50.9681    -0.3444\n",
              "2022-11-07 00:00:00+00:00  51.4519     0.4838\n",
              "2022-11-09 00:00:00+00:00  51.7279     0.2760\n",
              "\n",
              "[2325 rows x 2 columns]"
            ]
          },
          "execution_count": 24,
          "metadata": {},
          "output_type": "execute_result"
        }
      ],
      "source": [
        "df_fund"
      ]
    },
    {
      "cell_type": "code",
      "execution_count": null,
      "metadata": {
        "colab": {
          "base_uri": "https://localhost:8080/"
        },
        "id": "tQ0iQprCL4dK",
        "outputId": "90da38b4-8d09-44df-d8ed-5ed1a7ea1e4b"
      },
      "outputs": [
        {
          "data": {
            "text/plain": [
              "date\n",
              "2020-10-28 00:00:00+00:00    229.343347\n",
              "2020-12-11 00:00:00+00:00    263.226753\n",
              "2021-01-25 00:00:00+00:00    291.480866\n",
              "2021-03-09 00:00:00+00:00    285.547260\n",
              "2021-04-27 00:00:00+00:00    282.437033\n",
              "2021-06-09 00:00:00+00:00    295.856433\n",
              "2021-07-22 00:00:00+00:00    347.012985\n",
              "2021-09-03 00:00:00+00:00    330.642390\n",
              "2021-10-19 00:00:00+00:00    326.438323\n",
              "2021-12-03 00:00:00+00:00    277.889376\n",
              "2022-01-14 00:00:00+00:00    283.357544\n",
              "2022-02-28 00:00:00+00:00    241.070993\n",
              "2022-04-13 00:00:00+00:00    244.654482\n",
              "2022-05-30 00:00:00+00:00    203.480677\n",
              "2022-07-11 00:00:00+00:00    203.687845\n",
              "2022-08-24 00:00:00+00:00    213.405936\n",
              "2022-10-07 00:00:00+00:00    203.834941\n",
              "Name: nav, dtype: float64"
            ]
          },
          "execution_count": 25,
          "metadata": {},
          "output_type": "execute_result"
        }
      ],
      "source": [
        "# rolling returns over 5 year time span on a monthly basis\n",
        "df_fund[\"nav\"].rolling(365*5, closed=\"both\").apply(lambda x: absolute_return(x.iloc[0], x.iloc[-1])).dropna()[::30]"
      ]
    },
    {
      "cell_type": "code",
      "execution_count": null,
      "metadata": {
        "colab": {
          "base_uri": "https://localhost:8080/"
        },
        "id": "tFl-EOkbPIpk",
        "outputId": "e97f343d-b1e9-4d34-ea12-85d8a0c1b8ed"
      },
      "outputs": [
        {
          "data": {
            "text/plain": [
              "date  date\n",
              "2020  10      229.343347\n",
              "      11      223.336689\n",
              "      12      264.029197\n",
              "2021  1       272.589714\n",
              "      2       290.988640\n",
              "      3       288.613027\n",
              "      4       282.199661\n",
              "      5       291.710946\n",
              "      6       294.743545\n",
              "      7       316.695727\n",
              "      8       339.457820\n",
              "      9       333.976606\n",
              "      10      318.451892\n",
              "      11      299.578808\n",
              "      12      279.207291\n",
              "2022  1       273.721648\n",
              "      2       267.496191\n",
              "      3       237.565468\n",
              "      4       250.457457\n",
              "      5       215.633134\n",
              "      6       201.490579\n",
              "      7       188.307505\n",
              "      8       202.738981\n",
              "      9       206.373022\n",
              "      10      197.192762\n",
              "      11      213.819936\n",
              "Name: nav, dtype: float64"
            ]
          },
          "execution_count": 26,
          "metadata": {},
          "output_type": "execute_result"
        }
      ],
      "source": [
        "# having a look at the above, it seems like the missing dates are causing issues\n",
        "\n",
        "df_rr_temp = df_fund[\"nav\"].rolling(365*5, closed=\"both\").apply(lambda x: absolute_return(x.iloc[0], x.iloc[-1])).dropna()\n",
        "df_rr_temp.groupby([df_rr_temp.index.year, df_rr_temp.index.month]).first()"
      ]
    },
    {
      "cell_type": "code",
      "execution_count": null,
      "metadata": {
        "colab": {
          "base_uri": "https://localhost:8080/"
        },
        "id": "0maJmQsYGuXl",
        "outputId": "e98f88be-eedc-46cf-bc16-5b1f52d332da"
      },
      "outputs": [
        {
          "data": {
            "text/plain": [
              "date  date\n",
              "2020  10      225.738409\n",
              "      11      262.256205\n",
              "      12      271.648662\n",
              "2021  1       283.905749\n",
              "      2       285.969350\n",
              "      3       278.649799\n",
              "      4       289.454252\n",
              "      5       296.878502\n",
              "      6       312.579515\n",
              "      7       348.108853\n",
              "      8       333.393185\n",
              "      9       323.650311\n",
              "      10      291.209099\n",
              "      11      279.675418\n",
              "      12      270.644806\n",
              "2022  1       261.441171\n",
              "      2       241.070993\n",
              "      3       246.371659\n",
              "      4       222.141278\n",
              "      5       204.804605\n",
              "      6       188.035676\n",
              "      7       195.195596\n",
              "      8       209.110783\n",
              "      9       197.432963\n",
              "      10      211.894855\n",
              "      11      212.693212\n",
              "Name: nav, dtype: float64"
            ]
          },
          "execution_count": 27,
          "metadata": {},
          "output_type": "execute_result"
        }
      ],
      "source": [
        "df_rr_temp.groupby([df_rr_temp.index.year, df_rr_temp.index.month]).last()"
      ]
    },
    {
      "cell_type": "code",
      "execution_count": null,
      "metadata": {
        "id": "4S8zHhQPOg0t"
      },
      "outputs": [],
      "source": [
        "# in reality, it must be daywise. so no need to group values \n",
        "\n",
        "def n_years_absolute_rolling_returns(df_nav, n_years):\n",
        "  df_rr = df_nav[\"nav\"].rolling(365*n_years, closed=\"both\").apply(lambda window: absolute_return(window.iloc[0], window.iloc[-1])).dropna()\n",
        "  return df_rr"
      ]
    },
    {
      "cell_type": "code",
      "execution_count": null,
      "metadata": {
        "colab": {
          "base_uri": "https://localhost:8080/"
        },
        "id": "J7R1kEvjQfi_",
        "outputId": "7911ba66-4d64-4ea8-9c13-f9ecf0a84a5b"
      },
      "outputs": [
        {
          "data": {
            "text/plain": [
              "DatetimeIndex(['2020-10-28 00:00:00+00:00', '2020-10-29 00:00:00+00:00',\n",
              "               '2020-10-30 00:00:00+00:00', '2020-11-02 00:00:00+00:00',\n",
              "               '2020-11-03 00:00:00+00:00', '2020-11-04 00:00:00+00:00',\n",
              "               '2020-11-05 00:00:00+00:00', '2020-11-06 00:00:00+00:00',\n",
              "               '2020-11-09 00:00:00+00:00', '2020-11-10 00:00:00+00:00',\n",
              "               ...\n",
              "               '2022-10-25 00:00:00+00:00', '2022-10-27 00:00:00+00:00',\n",
              "               '2022-10-28 00:00:00+00:00', '2022-10-31 00:00:00+00:00',\n",
              "               '2022-11-01 00:00:00+00:00', '2022-11-02 00:00:00+00:00',\n",
              "               '2022-11-03 00:00:00+00:00', '2022-11-04 00:00:00+00:00',\n",
              "               '2022-11-07 00:00:00+00:00', '2022-11-09 00:00:00+00:00'],\n",
              "              dtype='datetime64[ns, UTC]', name='date', length=501, freq=None)"
            ]
          },
          "execution_count": 29,
          "metadata": {},
          "output_type": "execute_result"
        }
      ],
      "source": [
        "df_rr_temp = n_years_absolute_rolling_returns(df_fund, 5)\n",
        "df_rr_temp.index"
      ]
    },
    {
      "cell_type": "code",
      "execution_count": null,
      "metadata": {
        "id": "JfC6PgcMQkyU"
      },
      "outputs": [],
      "source": [
        "def n_years_trailing_rolling_returns(df_nav, n_years):\n",
        "  df_rr = df_nav[\"nav\"].rolling(365*n_years, closed=\"both\").apply(lambda window: trailing_return(window.iloc[0], window.iloc[-1], n_years)).dropna()\n",
        "  return df_rr"
      ]
    },
    {
      "cell_type": "code",
      "execution_count": null,
      "metadata": {
        "colab": {
          "base_uri": "https://localhost:8080/"
        },
        "id": "kyz_IdmHRSYS",
        "outputId": "60877242-8dbe-412f-a8b1-5fd7cc12fafc"
      },
      "outputs": [
        {
          "data": {
            "text/plain": [
              "date\n",
              "2020-10-28 00:00:00+00:00    26.919917\n",
              "2020-10-29 00:00:00+00:00    26.409720\n",
              "2020-10-30 00:00:00+00:00    26.640843\n",
              "2020-11-02 00:00:00+00:00    26.453542\n",
              "2020-11-03 00:00:00+00:00    26.681263\n",
              "                               ...    \n",
              "2022-11-02 00:00:00+00:00    25.698006\n",
              "2022-11-03 00:00:00+00:00    25.580864\n",
              "2022-11-04 00:00:00+00:00    25.335028\n",
              "2022-11-07 00:00:00+00:00    25.587622\n",
              "2022-11-09 00:00:00+00:00    25.609848\n",
              "Name: nav, Length: 501, dtype: float64"
            ]
          },
          "execution_count": 31,
          "metadata": {},
          "output_type": "execute_result"
        }
      ],
      "source": [
        "n_years_trailing_rolling_returns(df_fund, 5)"
      ]
    },
    {
      "cell_type": "code",
      "execution_count": null,
      "metadata": {
        "colab": {
          "base_uri": "https://localhost:8080/",
          "height": 238
        },
        "id": "w7vP7F37RVmZ",
        "outputId": "32f58cd9-e796-467e-83b7-b33353bdc8c6"
      },
      "outputs": [
        {
          "data": {
            "text/html": [
              "\n",
              "  <div id=\"df-cff2643d-3b21-4ae3-a5e3-5b0f722b2bd2\">\n",
              "    <div class=\"colab-df-container\">\n",
              "      <div>\n",
              "<style scoped>\n",
              "    .dataframe tbody tr th:only-of-type {\n",
              "        vertical-align: middle;\n",
              "    }\n",
              "\n",
              "    .dataframe tbody tr th {\n",
              "        vertical-align: top;\n",
              "    }\n",
              "\n",
              "    .dataframe thead th {\n",
              "        text-align: right;\n",
              "    }\n",
              "</style>\n",
              "<table border=\"1\" class=\"dataframe\">\n",
              "  <thead>\n",
              "    <tr style=\"text-align: right;\">\n",
              "      <th></th>\n",
              "      <th>nav</th>\n",
              "      <th>dayChange</th>\n",
              "    </tr>\n",
              "    <tr>\n",
              "      <th>date</th>\n",
              "      <th></th>\n",
              "      <th></th>\n",
              "    </tr>\n",
              "  </thead>\n",
              "  <tbody>\n",
              "    <tr>\n",
              "      <th>2013-05-28 00:00:00+00:00</th>\n",
              "      <td>9.9992</td>\n",
              "      <td>NaN</td>\n",
              "    </tr>\n",
              "    <tr>\n",
              "      <th>2013-05-29 00:00:00+00:00</th>\n",
              "      <td>10.0080</td>\n",
              "      <td>0.0088</td>\n",
              "    </tr>\n",
              "    <tr>\n",
              "      <th>2013-05-30 00:00:00+00:00</th>\n",
              "      <td>10.0327</td>\n",
              "      <td>0.0247</td>\n",
              "    </tr>\n",
              "    <tr>\n",
              "      <th>2013-05-31 00:00:00+00:00</th>\n",
              "      <td>10.0154</td>\n",
              "      <td>-0.0173</td>\n",
              "    </tr>\n",
              "    <tr>\n",
              "      <th>2013-06-03 00:00:00+00:00</th>\n",
              "      <td>10.0572</td>\n",
              "      <td>0.0418</td>\n",
              "    </tr>\n",
              "  </tbody>\n",
              "</table>\n",
              "</div>\n",
              "      <button class=\"colab-df-convert\" onclick=\"convertToInteractive('df-cff2643d-3b21-4ae3-a5e3-5b0f722b2bd2')\"\n",
              "              title=\"Convert this dataframe to an interactive table.\"\n",
              "              style=\"display:none;\">\n",
              "        \n",
              "  <svg xmlns=\"http://www.w3.org/2000/svg\" height=\"24px\"viewBox=\"0 0 24 24\"\n",
              "       width=\"24px\">\n",
              "    <path d=\"M0 0h24v24H0V0z\" fill=\"none\"/>\n",
              "    <path d=\"M18.56 5.44l.94 2.06.94-2.06 2.06-.94-2.06-.94-.94-2.06-.94 2.06-2.06.94zm-11 1L8.5 8.5l.94-2.06 2.06-.94-2.06-.94L8.5 2.5l-.94 2.06-2.06.94zm10 10l.94 2.06.94-2.06 2.06-.94-2.06-.94-.94-2.06-.94 2.06-2.06.94z\"/><path d=\"M17.41 7.96l-1.37-1.37c-.4-.4-.92-.59-1.43-.59-.52 0-1.04.2-1.43.59L10.3 9.45l-7.72 7.72c-.78.78-.78 2.05 0 2.83L4 21.41c.39.39.9.59 1.41.59.51 0 1.02-.2 1.41-.59l7.78-7.78 2.81-2.81c.8-.78.8-2.07 0-2.86zM5.41 20L4 18.59l7.72-7.72 1.47 1.35L5.41 20z\"/>\n",
              "  </svg>\n",
              "      </button>\n",
              "      \n",
              "  <style>\n",
              "    .colab-df-container {\n",
              "      display:flex;\n",
              "      flex-wrap:wrap;\n",
              "      gap: 12px;\n",
              "    }\n",
              "\n",
              "    .colab-df-convert {\n",
              "      background-color: #E8F0FE;\n",
              "      border: none;\n",
              "      border-radius: 50%;\n",
              "      cursor: pointer;\n",
              "      display: none;\n",
              "      fill: #1967D2;\n",
              "      height: 32px;\n",
              "      padding: 0 0 0 0;\n",
              "      width: 32px;\n",
              "    }\n",
              "\n",
              "    .colab-df-convert:hover {\n",
              "      background-color: #E2EBFA;\n",
              "      box-shadow: 0px 1px 2px rgba(60, 64, 67, 0.3), 0px 1px 3px 1px rgba(60, 64, 67, 0.15);\n",
              "      fill: #174EA6;\n",
              "    }\n",
              "\n",
              "    [theme=dark] .colab-df-convert {\n",
              "      background-color: #3B4455;\n",
              "      fill: #D2E3FC;\n",
              "    }\n",
              "\n",
              "    [theme=dark] .colab-df-convert:hover {\n",
              "      background-color: #434B5C;\n",
              "      box-shadow: 0px 1px 3px 1px rgba(0, 0, 0, 0.15);\n",
              "      filter: drop-shadow(0px 1px 2px rgba(0, 0, 0, 0.3));\n",
              "      fill: #FFFFFF;\n",
              "    }\n",
              "  </style>\n",
              "\n",
              "      <script>\n",
              "        const buttonEl =\n",
              "          document.querySelector('#df-cff2643d-3b21-4ae3-a5e3-5b0f722b2bd2 button.colab-df-convert');\n",
              "        buttonEl.style.display =\n",
              "          google.colab.kernel.accessAllowed ? 'block' : 'none';\n",
              "\n",
              "        async function convertToInteractive(key) {\n",
              "          const element = document.querySelector('#df-cff2643d-3b21-4ae3-a5e3-5b0f722b2bd2');\n",
              "          const dataTable =\n",
              "            await google.colab.kernel.invokeFunction('convertToInteractive',\n",
              "                                                     [key], {});\n",
              "          if (!dataTable) return;\n",
              "\n",
              "          const docLinkHtml = 'Like what you see? Visit the ' +\n",
              "            '<a target=\"_blank\" href=https://colab.research.google.com/notebooks/data_table.ipynb>data table notebook</a>'\n",
              "            + ' to learn more about interactive tables.';\n",
              "          element.innerHTML = '';\n",
              "          dataTable['output_type'] = 'display_data';\n",
              "          await google.colab.output.renderOutput(dataTable, element);\n",
              "          const docLink = document.createElement('div');\n",
              "          docLink.innerHTML = docLinkHtml;\n",
              "          element.appendChild(docLink);\n",
              "        }\n",
              "      </script>\n",
              "    </div>\n",
              "  </div>\n",
              "  "
            ],
            "text/plain": [
              "                               nav  dayChange\n",
              "date                                         \n",
              "2013-05-28 00:00:00+00:00   9.9992        NaN\n",
              "2013-05-29 00:00:00+00:00  10.0080     0.0088\n",
              "2013-05-30 00:00:00+00:00  10.0327     0.0247\n",
              "2013-05-31 00:00:00+00:00  10.0154    -0.0173\n",
              "2013-06-03 00:00:00+00:00  10.0572     0.0418"
            ]
          },
          "execution_count": 32,
          "metadata": {},
          "output_type": "execute_result"
        }
      ],
      "source": [
        "df_fund.head()"
      ]
    },
    {
      "cell_type": "code",
      "execution_count": null,
      "metadata": {
        "id": "BXfnX9ZbSYOg"
      },
      "outputs": [],
      "source": [
        "# the start year should be 2018, not 2020\n",
        "# this happens because the window size does not account for holidays\n",
        "\n",
        "def n_years_absolute_rolling_returns(df_nav, n_years, stride_timedelta=relativedelta(days=1)):\n",
        "  rolling_returns = []\n",
        "  dates = []\n",
        "\n",
        "  start_date = df_nav.index[0]\n",
        "  end_date = start_date + relativedelta(years=n_years)\n",
        "  last_date = df_nav.index[-1]\n",
        "\n",
        "  while end_date < last_date:\n",
        "    df_window = df_nav.loc[start_date:end_date, \"nav\"]\n",
        "    rolling_return = absolute_return(df_window.iloc[0], df_window.iloc[-1])\n",
        "\n",
        "    rolling_returns.append(rolling_return)\n",
        "    dates.append(end_date)\n",
        "\n",
        "    start_date = start_date + stride_timedelta\n",
        "    end_date = start_date + relativedelta(years=n_years)\n",
        "\n",
        "  df_returns = pd.DataFrame(rolling_returns, columns=[\"rolling_returns\"], index=dates)\n",
        "  return df_returns"
      ]
    },
    {
      "cell_type": "code",
      "execution_count": null,
      "metadata": {
        "colab": {
          "base_uri": "https://localhost:8080/"
        },
        "id": "36eEk8A1Spqo",
        "outputId": "8a8f260e-3b71-4e4c-854d-ae65c500808a"
      },
      "outputs": [
        {
          "data": {
            "text/plain": [
              "DatetimeIndex(['2018-05-28 00:00:00+00:00', '2018-05-29 00:00:00+00:00',\n",
              "               '2018-05-30 00:00:00+00:00', '2018-05-31 00:00:00+00:00',\n",
              "               '2018-06-01 00:00:00+00:00', '2018-06-02 00:00:00+00:00',\n",
              "               '2018-06-03 00:00:00+00:00', '2018-06-04 00:00:00+00:00',\n",
              "               '2018-06-05 00:00:00+00:00', '2018-06-06 00:00:00+00:00',\n",
              "               ...\n",
              "               '2022-10-30 00:00:00+00:00', '2022-10-31 00:00:00+00:00',\n",
              "               '2022-11-01 00:00:00+00:00', '2022-11-02 00:00:00+00:00',\n",
              "               '2022-11-03 00:00:00+00:00', '2022-11-04 00:00:00+00:00',\n",
              "               '2022-11-05 00:00:00+00:00', '2022-11-06 00:00:00+00:00',\n",
              "               '2022-11-07 00:00:00+00:00', '2022-11-08 00:00:00+00:00'],\n",
              "              dtype='datetime64[ns, UTC]', length=1626, freq=None)"
            ]
          },
          "execution_count": 34,
          "metadata": {},
          "output_type": "execute_result"
        }
      ],
      "source": [
        "df_abs_temp = n_years_absolute_rolling_returns(df_fund, 5)\n",
        "df_abs_temp.index"
      ]
    },
    {
      "cell_type": "code",
      "execution_count": null,
      "metadata": {
        "id": "pkfKE-1JUUYI"
      },
      "outputs": [],
      "source": [
        "def n_years_trailing_rolling_returns(df_nav, n_years, stride_timedelta=relativedelta(days=1)):\n",
        "  rolling_returns = []\n",
        "  dates = []\n",
        "\n",
        "  start_date = df_nav.index[0]\n",
        "  end_date = start_date + relativedelta(years=n_years)\n",
        "  last_date = df_nav.index[-1]\n",
        "\n",
        "  while end_date < last_date:\n",
        "    df_window = df_nav.loc[start_date:end_date, \"nav\"]\n",
        "    rolling_return = trailing_return(df_window.iloc[0], df_window.iloc[-1], n_years)\n",
        "\n",
        "    rolling_returns.append(rolling_return)\n",
        "    dates.append(end_date)\n",
        "\n",
        "    start_date = start_date + stride_timedelta\n",
        "    end_date = start_date + relativedelta(years=n_years)\n",
        "\n",
        "  df_returns = pd.DataFrame(rolling_returns, columns=[\"rolling_returns\"], index=dates)\n",
        "  return df_returns"
      ]
    },
    {
      "cell_type": "code",
      "execution_count": null,
      "metadata": {
        "colab": {
          "base_uri": "https://localhost:8080/",
          "height": 424
        },
        "id": "1CKdVv5EVrCz",
        "outputId": "d412eece-ab4f-41a5-a8f1-cf0a6eecf6f7"
      },
      "outputs": [
        {
          "data": {
            "text/html": [
              "\n",
              "  <div id=\"df-d9e87832-c05a-4cd5-8ce3-57430347211e\">\n",
              "    <div class=\"colab-df-container\">\n",
              "      <div>\n",
              "<style scoped>\n",
              "    .dataframe tbody tr th:only-of-type {\n",
              "        vertical-align: middle;\n",
              "    }\n",
              "\n",
              "    .dataframe tbody tr th {\n",
              "        vertical-align: top;\n",
              "    }\n",
              "\n",
              "    .dataframe thead th {\n",
              "        text-align: right;\n",
              "    }\n",
              "</style>\n",
              "<table border=\"1\" class=\"dataframe\">\n",
              "  <thead>\n",
              "    <tr style=\"text-align: right;\">\n",
              "      <th></th>\n",
              "      <th>rolling_returns</th>\n",
              "    </tr>\n",
              "  </thead>\n",
              "  <tbody>\n",
              "    <tr>\n",
              "      <th>2018-05-28 00:00:00+00:00</th>\n",
              "      <td>19.449295</td>\n",
              "    </tr>\n",
              "    <tr>\n",
              "      <th>2018-05-29 00:00:00+00:00</th>\n",
              "      <td>19.407547</td>\n",
              "    </tr>\n",
              "    <tr>\n",
              "      <th>2018-05-30 00:00:00+00:00</th>\n",
              "      <td>19.348890</td>\n",
              "    </tr>\n",
              "    <tr>\n",
              "      <th>2018-05-31 00:00:00+00:00</th>\n",
              "      <td>19.388520</td>\n",
              "    </tr>\n",
              "    <tr>\n",
              "      <th>2018-06-01 00:00:00+00:00</th>\n",
              "      <td>19.262094</td>\n",
              "    </tr>\n",
              "    <tr>\n",
              "      <th>...</th>\n",
              "      <td>...</td>\n",
              "    </tr>\n",
              "    <tr>\n",
              "      <th>2022-11-04 00:00:00+00:00</th>\n",
              "      <td>16.997805</td>\n",
              "    </tr>\n",
              "    <tr>\n",
              "      <th>2022-11-05 00:00:00+00:00</th>\n",
              "      <td>16.997805</td>\n",
              "    </tr>\n",
              "    <tr>\n",
              "      <th>2022-11-06 00:00:00+00:00</th>\n",
              "      <td>16.997805</td>\n",
              "    </tr>\n",
              "    <tr>\n",
              "      <th>2022-11-07 00:00:00+00:00</th>\n",
              "      <td>17.297992</td>\n",
              "    </tr>\n",
              "    <tr>\n",
              "      <th>2022-11-08 00:00:00+00:00</th>\n",
              "      <td>17.302447</td>\n",
              "    </tr>\n",
              "  </tbody>\n",
              "</table>\n",
              "<p>1626 rows × 1 columns</p>\n",
              "</div>\n",
              "      <button class=\"colab-df-convert\" onclick=\"convertToInteractive('df-d9e87832-c05a-4cd5-8ce3-57430347211e')\"\n",
              "              title=\"Convert this dataframe to an interactive table.\"\n",
              "              style=\"display:none;\">\n",
              "        \n",
              "  <svg xmlns=\"http://www.w3.org/2000/svg\" height=\"24px\"viewBox=\"0 0 24 24\"\n",
              "       width=\"24px\">\n",
              "    <path d=\"M0 0h24v24H0V0z\" fill=\"none\"/>\n",
              "    <path d=\"M18.56 5.44l.94 2.06.94-2.06 2.06-.94-2.06-.94-.94-2.06-.94 2.06-2.06.94zm-11 1L8.5 8.5l.94-2.06 2.06-.94-2.06-.94L8.5 2.5l-.94 2.06-2.06.94zm10 10l.94 2.06.94-2.06 2.06-.94-2.06-.94-.94-2.06-.94 2.06-2.06.94z\"/><path d=\"M17.41 7.96l-1.37-1.37c-.4-.4-.92-.59-1.43-.59-.52 0-1.04.2-1.43.59L10.3 9.45l-7.72 7.72c-.78.78-.78 2.05 0 2.83L4 21.41c.39.39.9.59 1.41.59.51 0 1.02-.2 1.41-.59l7.78-7.78 2.81-2.81c.8-.78.8-2.07 0-2.86zM5.41 20L4 18.59l7.72-7.72 1.47 1.35L5.41 20z\"/>\n",
              "  </svg>\n",
              "      </button>\n",
              "      \n",
              "  <style>\n",
              "    .colab-df-container {\n",
              "      display:flex;\n",
              "      flex-wrap:wrap;\n",
              "      gap: 12px;\n",
              "    }\n",
              "\n",
              "    .colab-df-convert {\n",
              "      background-color: #E8F0FE;\n",
              "      border: none;\n",
              "      border-radius: 50%;\n",
              "      cursor: pointer;\n",
              "      display: none;\n",
              "      fill: #1967D2;\n",
              "      height: 32px;\n",
              "      padding: 0 0 0 0;\n",
              "      width: 32px;\n",
              "    }\n",
              "\n",
              "    .colab-df-convert:hover {\n",
              "      background-color: #E2EBFA;\n",
              "      box-shadow: 0px 1px 2px rgba(60, 64, 67, 0.3), 0px 1px 3px 1px rgba(60, 64, 67, 0.15);\n",
              "      fill: #174EA6;\n",
              "    }\n",
              "\n",
              "    [theme=dark] .colab-df-convert {\n",
              "      background-color: #3B4455;\n",
              "      fill: #D2E3FC;\n",
              "    }\n",
              "\n",
              "    [theme=dark] .colab-df-convert:hover {\n",
              "      background-color: #434B5C;\n",
              "      box-shadow: 0px 1px 3px 1px rgba(0, 0, 0, 0.15);\n",
              "      filter: drop-shadow(0px 1px 2px rgba(0, 0, 0, 0.3));\n",
              "      fill: #FFFFFF;\n",
              "    }\n",
              "  </style>\n",
              "\n",
              "      <script>\n",
              "        const buttonEl =\n",
              "          document.querySelector('#df-d9e87832-c05a-4cd5-8ce3-57430347211e button.colab-df-convert');\n",
              "        buttonEl.style.display =\n",
              "          google.colab.kernel.accessAllowed ? 'block' : 'none';\n",
              "\n",
              "        async function convertToInteractive(key) {\n",
              "          const element = document.querySelector('#df-d9e87832-c05a-4cd5-8ce3-57430347211e');\n",
              "          const dataTable =\n",
              "            await google.colab.kernel.invokeFunction('convertToInteractive',\n",
              "                                                     [key], {});\n",
              "          if (!dataTable) return;\n",
              "\n",
              "          const docLinkHtml = 'Like what you see? Visit the ' +\n",
              "            '<a target=\"_blank\" href=https://colab.research.google.com/notebooks/data_table.ipynb>data table notebook</a>'\n",
              "            + ' to learn more about interactive tables.';\n",
              "          element.innerHTML = '';\n",
              "          dataTable['output_type'] = 'display_data';\n",
              "          await google.colab.output.renderOutput(dataTable, element);\n",
              "          const docLink = document.createElement('div');\n",
              "          docLink.innerHTML = docLinkHtml;\n",
              "          element.appendChild(docLink);\n",
              "        }\n",
              "      </script>\n",
              "    </div>\n",
              "  </div>\n",
              "  "
            ],
            "text/plain": [
              "                           rolling_returns\n",
              "2018-05-28 00:00:00+00:00        19.449295\n",
              "2018-05-29 00:00:00+00:00        19.407547\n",
              "2018-05-30 00:00:00+00:00        19.348890\n",
              "2018-05-31 00:00:00+00:00        19.388520\n",
              "2018-06-01 00:00:00+00:00        19.262094\n",
              "...                                    ...\n",
              "2022-11-04 00:00:00+00:00        16.997805\n",
              "2022-11-05 00:00:00+00:00        16.997805\n",
              "2022-11-06 00:00:00+00:00        16.997805\n",
              "2022-11-07 00:00:00+00:00        17.297992\n",
              "2022-11-08 00:00:00+00:00        17.302447\n",
              "\n",
              "[1626 rows x 1 columns]"
            ]
          },
          "execution_count": 36,
          "metadata": {},
          "output_type": "execute_result"
        }
      ],
      "source": [
        "df_rr_five = n_years_trailing_rolling_returns(df_fund, 5)\n",
        "df_rr_five"
      ]
    },
    {
      "cell_type": "code",
      "execution_count": null,
      "metadata": {
        "colab": {
          "base_uri": "https://localhost:8080/"
        },
        "id": "Wq_Cm4hRWjIW",
        "outputId": "40fc2d2a-8aea-466e-b38f-0a99e3a78684"
      },
      "outputs": [
        {
          "data": {
            "text/plain": [
              "rolling_returns    21.440297\n",
              "Name: 2018-09-09 00:00:00+00:00, dtype: float64"
            ]
          },
          "execution_count": 37,
          "metadata": {},
          "output_type": "execute_result"
        }
      ],
      "source": [
        "df_rr_five.loc[get_date(2018, 9, 9)]"
      ]
    },
    {
      "cell_type": "code",
      "execution_count": null,
      "metadata": {
        "colab": {
          "base_uri": "https://localhost:8080/"
        },
        "id": "u1FjtE1HZ19w",
        "outputId": "1eeffdec-caef-4db4-ac2a-e5a3452c90d2"
      },
      "outputs": [
        {
          "data": {
            "text/plain": [
              "rolling_returns    16.985412\n",
              "Name: 2018-09-09 00:00:00+00:00, dtype: float64"
            ]
          },
          "execution_count": 38,
          "metadata": {},
          "output_type": "execute_result"
        }
      ],
      "source": [
        "df_rr_three = n_years_trailing_rolling_returns(df_fund, 3)\n",
        "df_rr_three.loc[get_date(2018, 9, 9)]"
      ]
    },
    {
      "cell_type": "code",
      "execution_count": null,
      "metadata": {
        "colab": {
          "base_uri": "https://localhost:8080/",
          "height": 542
        },
        "id": "JE-SjLgea4E3",
        "outputId": "b47634de-b480-43e0-b7dd-90dfa00a1ea2"
      },
      "outputs": [
        {
          "data": {
            "text/html": [
              "<html>\n",
              "<head><meta charset=\"utf-8\" /></head>\n",
              "<body>\n",
              "    <div>            <script src=\"https://cdnjs.cloudflare.com/ajax/libs/mathjax/2.7.5/MathJax.js?config=TeX-AMS-MML_SVG\"></script><script type=\"text/javascript\">if (window.MathJax) {MathJax.Hub.Config({SVG: {font: \"STIX-Web\"}});}</script>                <script type=\"text/javascript\">window.PlotlyConfig = {MathJaxConfig: 'local'};</script>\n",
              "        <script src=\"https://cdn.plot.ly/plotly-2.8.3.min.js\"></script>                <div id=\"ec648330-0d78-49ee-981b-a198f67384b6\" class=\"plotly-graph-div\" style=\"height:525px; width:100%;\"></div>            <script type=\"text/javascript\">                                    window.PLOTLYENV=window.PLOTLYENV || {};                                    if (document.getElementById(\"ec648330-0d78-49ee-981b-a198f67384b6\")) {                    Plotly.newPlot(                        \"ec648330-0d78-49ee-981b-a198f67384b6\",                        [{\"hovertemplate\":\"index=%{x}<br>rolling_returns=%{y}<extra></extra>\",\"legendgroup\":\"\",\"line\":{\"color\":\"#636efa\",\"dash\":\"solid\"},\"marker\":{\"symbol\":\"circle\"},\"mode\":\"lines\",\"name\":\"\",\"showlegend\":false,\"x\":[\"2016-05-28T00:00:00+00:00\",\"2016-05-29T00:00:00+00:00\",\"2016-05-30T00:00:00+00:00\",\"2016-05-31T00:00:00+00:00\",\"2016-06-01T00:00:00+00:00\",\"2016-06-02T00:00:00+00:00\",\"2016-06-03T00:00:00+00:00\",\"2016-06-04T00:00:00+00:00\",\"2016-06-05T00:00:00+00:00\",\"2016-06-06T00:00:00+00:00\",\"2016-06-07T00:00:00+00:00\",\"2016-06-08T00:00:00+00:00\",\"2016-06-09T00:00:00+00:00\",\"2016-06-10T00:00:00+00:00\",\"2016-06-11T00:00:00+00:00\",\"2016-06-12T00:00:00+00:00\",\"2016-06-13T00:00:00+00:00\",\"2016-06-14T00:00:00+00:00\",\"2016-06-15T00:00:00+00:00\",\"2016-06-16T00:00:00+00:00\",\"2016-06-17T00:00:00+00:00\",\"2016-06-18T00:00:00+00:00\",\"2016-06-19T00:00:00+00:00\",\"2016-06-20T00:00:00+00:00\",\"2016-06-21T00:00:00+00:00\",\"2016-06-22T00:00:00+00:00\",\"2016-06-23T00:00:00+00:00\",\"2016-06-24T00:00:00+00:00\",\"2016-06-25T00:00:00+00:00\",\"2016-06-26T00:00:00+00:00\",\"2016-06-27T00:00:00+00:00\",\"2016-06-28T00:00:00+00:00\",\"2016-06-29T00:00:00+00:00\",\"2016-06-30T00:00:00+00:00\",\"2016-07-01T00:00:00+00:00\",\"2016-07-02T00:00:00+00:00\",\"2016-07-03T00:00:00+00:00\",\"2016-07-04T00:00:00+00:00\",\"2016-07-05T00:00:00+00:00\",\"2016-07-06T00:00:00+00:00\",\"2016-07-07T00:00:00+00:00\",\"2016-07-08T00:00:00+00:00\",\"2016-07-09T00:00:00+00:00\",\"2016-07-10T00:00:00+00:00\",\"2016-07-11T00:00:00+00:00\",\"2016-07-12T00:00:00+00:00\",\"2016-07-13T00:00:00+00:00\",\"2016-07-14T00:00:00+00:00\",\"2016-07-15T00:00:00+00:00\",\"2016-07-16T00:00:00+00:00\",\"2016-07-17T00:00:00+00:00\",\"2016-07-18T00:00:00+00:00\",\"2016-07-19T00:00:00+00:00\",\"2016-07-20T00:00:00+00:00\",\"2016-07-21T00:00:00+00:00\",\"2016-07-22T00:00:00+00:00\",\"2016-07-23T00:00:00+00:00\",\"2016-07-24T00:00:00+00:00\",\"2016-07-25T00:00:00+00:00\",\"2016-07-26T00:00:00+00:00\",\"2016-07-27T00:00:00+00:00\",\"2016-07-28T00:00:00+00:00\",\"2016-07-29T00:00:00+00:00\",\"2016-07-30T00:00:00+00:00\",\"2016-07-31T00:00:00+00:00\",\"2016-08-01T00:00:00+00:00\",\"2016-08-02T00:00:00+00:00\",\"2016-08-03T00:00:00+00:00\",\"2016-08-04T00:00:00+00:00\",\"2016-08-05T00:00:00+00:00\",\"2016-08-06T00:00:00+00:00\",\"2016-08-07T00:00:00+00:00\",\"2016-08-08T00:00:00+00:00\",\"2016-08-09T00:00:00+00:00\",\"2016-08-10T00:00:00+00:00\",\"2016-08-11T00:00:00+00:00\",\"2016-08-12T00:00:00+00:00\",\"2016-08-13T00:00:00+00:00\",\"2016-08-14T00:00:00+00:00\",\"2016-08-15T00:00:00+00:00\",\"2016-08-16T00:00:00+00:00\",\"2016-08-17T00:00:00+00:00\",\"2016-08-18T00:00:00+00:00\",\"2016-08-19T00:00:00+00:00\",\"2016-08-20T00:00:00+00:00\",\"2016-08-21T00:00:00+00:00\",\"2016-08-22T00:00:00+00:00\",\"2016-08-23T00:00:00+00:00\",\"2016-08-24T00:00:00+00:00\",\"2016-08-25T00:00:00+00:00\",\"2016-08-26T00:00:00+00:00\",\"2016-08-27T00:00:00+00:00\",\"2016-08-28T00:00:00+00:00\",\"2016-08-29T00:00:00+00:00\",\"2016-08-30T00:00:00+00:00\",\"2016-08-31T00:00:00+00:00\",\"2016-09-01T00:00:00+00:00\",\"2016-09-02T00:00:00+00:00\",\"2016-09-03T00:00:00+00:00\",\"2016-09-04T00:00:00+00:00\",\"2016-09-05T00:00:00+00:00\",\"2016-09-06T00:00:00+00:00\",\"2016-09-07T00:00:00+00:00\",\"2016-09-08T00:00:00+00:00\",\"2016-09-09T00:00:00+00:00\",\"2016-09-10T00:00:00+00:00\",\"2016-09-11T00:00:00+00:00\",\"2016-09-12T00:00:00+00:00\",\"2016-09-13T00:00:00+00:00\",\"2016-09-14T00:00:00+00:00\",\"2016-09-15T00:00:00+00:00\",\"2016-09-16T00:00:00+00:00\",\"2016-09-17T00:00:00+00:00\",\"2016-09-18T00:00:00+00:00\",\"2016-09-19T00:00:00+00:00\",\"2016-09-20T00:00:00+00:00\",\"2016-09-21T00:00:00+00:00\",\"2016-09-22T00:00:00+00:00\",\"2016-09-23T00:00:00+00:00\",\"2016-09-24T00:00:00+00:00\",\"2016-09-25T00:00:00+00:00\",\"2016-09-26T00:00:00+00:00\",\"2016-09-27T00:00:00+00:00\",\"2016-09-28T00:00:00+00:00\",\"2016-09-29T00:00:00+00:00\",\"2016-09-30T00:00:00+00:00\",\"2016-10-01T00:00:00+00:00\",\"2016-10-02T00:00:00+00:00\",\"2016-10-03T00:00:00+00:00\",\"2016-10-04T00:00:00+00:00\",\"2016-10-05T00:00:00+00:00\",\"2016-10-06T00:00:00+00:00\",\"2016-10-07T00:00:00+00:00\",\"2016-10-08T00:00:00+00:00\",\"2016-10-09T00:00:00+00:00\",\"2016-10-10T00:00:00+00:00\",\"2016-10-11T00:00:00+00:00\",\"2016-10-12T00:00:00+00:00\",\"2016-10-13T00:00:00+00:00\",\"2016-10-14T00:00:00+00:00\",\"2016-10-15T00:00:00+00:00\",\"2016-10-16T00:00:00+00:00\",\"2016-10-17T00:00:00+00:00\",\"2016-10-18T00:00:00+00:00\",\"2016-10-19T00:00:00+00:00\",\"2016-10-20T00:00:00+00:00\",\"2016-10-21T00:00:00+00:00\",\"2016-10-22T00:00:00+00:00\",\"2016-10-23T00:00:00+00:00\",\"2016-10-24T00:00:00+00:00\",\"2016-10-25T00:00:00+00:00\",\"2016-10-26T00:00:00+00:00\",\"2016-10-27T00:00:00+00:00\",\"2016-10-28T00:00:00+00:00\",\"2016-10-29T00:00:00+00:00\",\"2016-10-30T00:00:00+00:00\",\"2016-10-31T00:00:00+00:00\",\"2016-11-01T00:00:00+00:00\",\"2016-11-02T00:00:00+00:00\",\"2016-11-03T00:00:00+00:00\",\"2016-11-04T00:00:00+00:00\",\"2016-11-05T00:00:00+00:00\",\"2016-11-06T00:00:00+00:00\",\"2016-11-07T00:00:00+00:00\",\"2016-11-08T00:00:00+00:00\",\"2016-11-09T00:00:00+00:00\",\"2016-11-10T00:00:00+00:00\",\"2016-11-11T00:00:00+00:00\",\"2016-11-12T00:00:00+00:00\",\"2016-11-13T00:00:00+00:00\",\"2016-11-14T00:00:00+00:00\",\"2016-11-15T00:00:00+00:00\",\"2016-11-16T00:00:00+00:00\",\"2016-11-17T00:00:00+00:00\",\"2016-11-18T00:00:00+00:00\",\"2016-11-19T00:00:00+00:00\",\"2016-11-20T00:00:00+00:00\",\"2016-11-21T00:00:00+00:00\",\"2016-11-22T00:00:00+00:00\",\"2016-11-23T00:00:00+00:00\",\"2016-11-24T00:00:00+00:00\",\"2016-11-25T00:00:00+00:00\",\"2016-11-26T00:00:00+00:00\",\"2016-11-27T00:00:00+00:00\",\"2016-11-28T00:00:00+00:00\",\"2016-11-29T00:00:00+00:00\",\"2016-11-30T00:00:00+00:00\",\"2016-12-01T00:00:00+00:00\",\"2016-12-02T00:00:00+00:00\",\"2016-12-03T00:00:00+00:00\",\"2016-12-04T00:00:00+00:00\",\"2016-12-05T00:00:00+00:00\",\"2016-12-06T00:00:00+00:00\",\"2016-12-07T00:00:00+00:00\",\"2016-12-08T00:00:00+00:00\",\"2016-12-09T00:00:00+00:00\",\"2016-12-10T00:00:00+00:00\",\"2016-12-11T00:00:00+00:00\",\"2016-12-12T00:00:00+00:00\",\"2016-12-13T00:00:00+00:00\",\"2016-12-14T00:00:00+00:00\",\"2016-12-15T00:00:00+00:00\",\"2016-12-16T00:00:00+00:00\",\"2016-12-17T00:00:00+00:00\",\"2016-12-18T00:00:00+00:00\",\"2016-12-19T00:00:00+00:00\",\"2016-12-20T00:00:00+00:00\",\"2016-12-21T00:00:00+00:00\",\"2016-12-22T00:00:00+00:00\",\"2016-12-23T00:00:00+00:00\",\"2016-12-24T00:00:00+00:00\",\"2016-12-25T00:00:00+00:00\",\"2016-12-26T00:00:00+00:00\",\"2016-12-27T00:00:00+00:00\",\"2016-12-28T00:00:00+00:00\",\"2016-12-29T00:00:00+00:00\",\"2016-12-30T00:00:00+00:00\",\"2016-12-31T00:00:00+00:00\",\"2017-01-01T00:00:00+00:00\",\"2017-01-02T00:00:00+00:00\",\"2017-01-03T00:00:00+00:00\",\"2017-01-04T00:00:00+00:00\",\"2017-01-05T00:00:00+00:00\",\"2017-01-06T00:00:00+00:00\",\"2017-01-07T00:00:00+00:00\",\"2017-01-08T00:00:00+00:00\",\"2017-01-09T00:00:00+00:00\",\"2017-01-10T00:00:00+00:00\",\"2017-01-11T00:00:00+00:00\",\"2017-01-12T00:00:00+00:00\",\"2017-01-13T00:00:00+00:00\",\"2017-01-14T00:00:00+00:00\",\"2017-01-15T00:00:00+00:00\",\"2017-01-16T00:00:00+00:00\",\"2017-01-17T00:00:00+00:00\",\"2017-01-18T00:00:00+00:00\",\"2017-01-19T00:00:00+00:00\",\"2017-01-20T00:00:00+00:00\",\"2017-01-21T00:00:00+00:00\",\"2017-01-22T00:00:00+00:00\",\"2017-01-23T00:00:00+00:00\",\"2017-01-24T00:00:00+00:00\",\"2017-01-25T00:00:00+00:00\",\"2017-01-26T00:00:00+00:00\",\"2017-01-27T00:00:00+00:00\",\"2017-01-28T00:00:00+00:00\",\"2017-01-29T00:00:00+00:00\",\"2017-01-30T00:00:00+00:00\",\"2017-01-31T00:00:00+00:00\",\"2017-02-01T00:00:00+00:00\",\"2017-02-02T00:00:00+00:00\",\"2017-02-03T00:00:00+00:00\",\"2017-02-04T00:00:00+00:00\",\"2017-02-05T00:00:00+00:00\",\"2017-02-06T00:00:00+00:00\",\"2017-02-07T00:00:00+00:00\",\"2017-02-08T00:00:00+00:00\",\"2017-02-09T00:00:00+00:00\",\"2017-02-10T00:00:00+00:00\",\"2017-02-11T00:00:00+00:00\",\"2017-02-12T00:00:00+00:00\",\"2017-02-13T00:00:00+00:00\",\"2017-02-14T00:00:00+00:00\",\"2017-02-15T00:00:00+00:00\",\"2017-02-16T00:00:00+00:00\",\"2017-02-17T00:00:00+00:00\",\"2017-02-18T00:00:00+00:00\",\"2017-02-19T00:00:00+00:00\",\"2017-02-20T00:00:00+00:00\",\"2017-02-21T00:00:00+00:00\",\"2017-02-22T00:00:00+00:00\",\"2017-02-23T00:00:00+00:00\",\"2017-02-24T00:00:00+00:00\",\"2017-02-25T00:00:00+00:00\",\"2017-02-26T00:00:00+00:00\",\"2017-02-27T00:00:00+00:00\",\"2017-02-28T00:00:00+00:00\",\"2017-03-01T00:00:00+00:00\",\"2017-03-02T00:00:00+00:00\",\"2017-03-03T00:00:00+00:00\",\"2017-03-04T00:00:00+00:00\",\"2017-03-05T00:00:00+00:00\",\"2017-03-06T00:00:00+00:00\",\"2017-03-07T00:00:00+00:00\",\"2017-03-08T00:00:00+00:00\",\"2017-03-09T00:00:00+00:00\",\"2017-03-10T00:00:00+00:00\",\"2017-03-11T00:00:00+00:00\",\"2017-03-12T00:00:00+00:00\",\"2017-03-13T00:00:00+00:00\",\"2017-03-14T00:00:00+00:00\",\"2017-03-15T00:00:00+00:00\",\"2017-03-16T00:00:00+00:00\",\"2017-03-17T00:00:00+00:00\",\"2017-03-18T00:00:00+00:00\",\"2017-03-19T00:00:00+00:00\",\"2017-03-20T00:00:00+00:00\",\"2017-03-21T00:00:00+00:00\",\"2017-03-22T00:00:00+00:00\",\"2017-03-23T00:00:00+00:00\",\"2017-03-24T00:00:00+00:00\",\"2017-03-25T00:00:00+00:00\",\"2017-03-26T00:00:00+00:00\",\"2017-03-27T00:00:00+00:00\",\"2017-03-28T00:00:00+00:00\",\"2017-03-29T00:00:00+00:00\",\"2017-03-30T00:00:00+00:00\",\"2017-03-31T00:00:00+00:00\",\"2017-04-01T00:00:00+00:00\",\"2017-04-02T00:00:00+00:00\",\"2017-04-03T00:00:00+00:00\",\"2017-04-04T00:00:00+00:00\",\"2017-04-05T00:00:00+00:00\",\"2017-04-06T00:00:00+00:00\",\"2017-04-07T00:00:00+00:00\",\"2017-04-08T00:00:00+00:00\",\"2017-04-09T00:00:00+00:00\",\"2017-04-10T00:00:00+00:00\",\"2017-04-11T00:00:00+00:00\",\"2017-04-12T00:00:00+00:00\",\"2017-04-13T00:00:00+00:00\",\"2017-04-14T00:00:00+00:00\",\"2017-04-15T00:00:00+00:00\",\"2017-04-16T00:00:00+00:00\",\"2017-04-17T00:00:00+00:00\",\"2017-04-18T00:00:00+00:00\",\"2017-04-19T00:00:00+00:00\",\"2017-04-20T00:00:00+00:00\",\"2017-04-21T00:00:00+00:00\",\"2017-04-22T00:00:00+00:00\",\"2017-04-23T00:00:00+00:00\",\"2017-04-24T00:00:00+00:00\",\"2017-04-25T00:00:00+00:00\",\"2017-04-26T00:00:00+00:00\",\"2017-04-27T00:00:00+00:00\",\"2017-04-28T00:00:00+00:00\",\"2017-04-29T00:00:00+00:00\",\"2017-04-30T00:00:00+00:00\",\"2017-05-01T00:00:00+00:00\",\"2017-05-02T00:00:00+00:00\",\"2017-05-03T00:00:00+00:00\",\"2017-05-04T00:00:00+00:00\",\"2017-05-05T00:00:00+00:00\",\"2017-05-06T00:00:00+00:00\",\"2017-05-07T00:00:00+00:00\",\"2017-05-08T00:00:00+00:00\",\"2017-05-09T00:00:00+00:00\",\"2017-05-10T00:00:00+00:00\",\"2017-05-11T00:00:00+00:00\",\"2017-05-12T00:00:00+00:00\",\"2017-05-13T00:00:00+00:00\",\"2017-05-14T00:00:00+00:00\",\"2017-05-15T00:00:00+00:00\",\"2017-05-16T00:00:00+00:00\",\"2017-05-17T00:00:00+00:00\",\"2017-05-18T00:00:00+00:00\",\"2017-05-19T00:00:00+00:00\",\"2017-05-20T00:00:00+00:00\",\"2017-05-21T00:00:00+00:00\",\"2017-05-22T00:00:00+00:00\",\"2017-05-23T00:00:00+00:00\",\"2017-05-24T00:00:00+00:00\",\"2017-05-25T00:00:00+00:00\",\"2017-05-26T00:00:00+00:00\",\"2017-05-27T00:00:00+00:00\",\"2017-05-28T00:00:00+00:00\",\"2017-05-29T00:00:00+00:00\",\"2017-05-30T00:00:00+00:00\",\"2017-05-31T00:00:00+00:00\",\"2017-06-01T00:00:00+00:00\",\"2017-06-02T00:00:00+00:00\",\"2017-06-03T00:00:00+00:00\",\"2017-06-04T00:00:00+00:00\",\"2017-06-05T00:00:00+00:00\",\"2017-06-06T00:00:00+00:00\",\"2017-06-07T00:00:00+00:00\",\"2017-06-08T00:00:00+00:00\",\"2017-06-09T00:00:00+00:00\",\"2017-06-10T00:00:00+00:00\",\"2017-06-11T00:00:00+00:00\",\"2017-06-12T00:00:00+00:00\",\"2017-06-13T00:00:00+00:00\",\"2017-06-14T00:00:00+00:00\",\"2017-06-15T00:00:00+00:00\",\"2017-06-16T00:00:00+00:00\",\"2017-06-17T00:00:00+00:00\",\"2017-06-18T00:00:00+00:00\",\"2017-06-19T00:00:00+00:00\",\"2017-06-20T00:00:00+00:00\",\"2017-06-21T00:00:00+00:00\",\"2017-06-22T00:00:00+00:00\",\"2017-06-23T00:00:00+00:00\",\"2017-06-24T00:00:00+00:00\",\"2017-06-25T00:00:00+00:00\",\"2017-06-26T00:00:00+00:00\",\"2017-06-27T00:00:00+00:00\",\"2017-06-28T00:00:00+00:00\",\"2017-06-29T00:00:00+00:00\",\"2017-06-30T00:00:00+00:00\",\"2017-07-01T00:00:00+00:00\",\"2017-07-02T00:00:00+00:00\",\"2017-07-03T00:00:00+00:00\",\"2017-07-04T00:00:00+00:00\",\"2017-07-05T00:00:00+00:00\",\"2017-07-06T00:00:00+00:00\",\"2017-07-07T00:00:00+00:00\",\"2017-07-08T00:00:00+00:00\",\"2017-07-09T00:00:00+00:00\",\"2017-07-10T00:00:00+00:00\",\"2017-07-11T00:00:00+00:00\",\"2017-07-12T00:00:00+00:00\",\"2017-07-13T00:00:00+00:00\",\"2017-07-14T00:00:00+00:00\",\"2017-07-15T00:00:00+00:00\",\"2017-07-16T00:00:00+00:00\",\"2017-07-17T00:00:00+00:00\",\"2017-07-18T00:00:00+00:00\",\"2017-07-19T00:00:00+00:00\",\"2017-07-20T00:00:00+00:00\",\"2017-07-21T00:00:00+00:00\",\"2017-07-22T00:00:00+00:00\",\"2017-07-23T00:00:00+00:00\",\"2017-07-24T00:00:00+00:00\",\"2017-07-25T00:00:00+00:00\",\"2017-07-26T00:00:00+00:00\",\"2017-07-27T00:00:00+00:00\",\"2017-07-28T00:00:00+00:00\",\"2017-07-29T00:00:00+00:00\",\"2017-07-30T00:00:00+00:00\",\"2017-07-31T00:00:00+00:00\",\"2017-08-01T00:00:00+00:00\",\"2017-08-02T00:00:00+00:00\",\"2017-08-03T00:00:00+00:00\",\"2017-08-04T00:00:00+00:00\",\"2017-08-05T00:00:00+00:00\",\"2017-08-06T00:00:00+00:00\",\"2017-08-07T00:00:00+00:00\",\"2017-08-08T00:00:00+00:00\",\"2017-08-09T00:00:00+00:00\",\"2017-08-10T00:00:00+00:00\",\"2017-08-11T00:00:00+00:00\",\"2017-08-12T00:00:00+00:00\",\"2017-08-13T00:00:00+00:00\",\"2017-08-14T00:00:00+00:00\",\"2017-08-15T00:00:00+00:00\",\"2017-08-16T00:00:00+00:00\",\"2017-08-17T00:00:00+00:00\",\"2017-08-18T00:00:00+00:00\",\"2017-08-19T00:00:00+00:00\",\"2017-08-20T00:00:00+00:00\",\"2017-08-21T00:00:00+00:00\",\"2017-08-22T00:00:00+00:00\",\"2017-08-23T00:00:00+00:00\",\"2017-08-24T00:00:00+00:00\",\"2017-08-25T00:00:00+00:00\",\"2017-08-26T00:00:00+00:00\",\"2017-08-27T00:00:00+00:00\",\"2017-08-28T00:00:00+00:00\",\"2017-08-29T00:00:00+00:00\",\"2017-08-30T00:00:00+00:00\",\"2017-08-31T00:00:00+00:00\",\"2017-09-01T00:00:00+00:00\",\"2017-09-02T00:00:00+00:00\",\"2017-09-03T00:00:00+00:00\",\"2017-09-04T00:00:00+00:00\",\"2017-09-05T00:00:00+00:00\",\"2017-09-06T00:00:00+00:00\",\"2017-09-07T00:00:00+00:00\",\"2017-09-08T00:00:00+00:00\",\"2017-09-09T00:00:00+00:00\",\"2017-09-10T00:00:00+00:00\",\"2017-09-11T00:00:00+00:00\",\"2017-09-12T00:00:00+00:00\",\"2017-09-13T00:00:00+00:00\",\"2017-09-14T00:00:00+00:00\",\"2017-09-15T00:00:00+00:00\",\"2017-09-16T00:00:00+00:00\",\"2017-09-17T00:00:00+00:00\",\"2017-09-18T00:00:00+00:00\",\"2017-09-19T00:00:00+00:00\",\"2017-09-20T00:00:00+00:00\",\"2017-09-21T00:00:00+00:00\",\"2017-09-22T00:00:00+00:00\",\"2017-09-23T00:00:00+00:00\",\"2017-09-24T00:00:00+00:00\",\"2017-09-25T00:00:00+00:00\",\"2017-09-26T00:00:00+00:00\",\"2017-09-27T00:00:00+00:00\",\"2017-09-28T00:00:00+00:00\",\"2017-09-29T00:00:00+00:00\",\"2017-09-30T00:00:00+00:00\",\"2017-10-01T00:00:00+00:00\",\"2017-10-02T00:00:00+00:00\",\"2017-10-03T00:00:00+00:00\",\"2017-10-04T00:00:00+00:00\",\"2017-10-05T00:00:00+00:00\",\"2017-10-06T00:00:00+00:00\",\"2017-10-07T00:00:00+00:00\",\"2017-10-08T00:00:00+00:00\",\"2017-10-09T00:00:00+00:00\",\"2017-10-10T00:00:00+00:00\",\"2017-10-11T00:00:00+00:00\",\"2017-10-12T00:00:00+00:00\",\"2017-10-13T00:00:00+00:00\",\"2017-10-14T00:00:00+00:00\",\"2017-10-15T00:00:00+00:00\",\"2017-10-16T00:00:00+00:00\",\"2017-10-17T00:00:00+00:00\",\"2017-10-18T00:00:00+00:00\",\"2017-10-19T00:00:00+00:00\",\"2017-10-20T00:00:00+00:00\",\"2017-10-21T00:00:00+00:00\",\"2017-10-22T00:00:00+00:00\",\"2017-10-23T00:00:00+00:00\",\"2017-10-24T00:00:00+00:00\",\"2017-10-25T00:00:00+00:00\",\"2017-10-26T00:00:00+00:00\",\"2017-10-27T00:00:00+00:00\",\"2017-10-28T00:00:00+00:00\",\"2017-10-29T00:00:00+00:00\",\"2017-10-30T00:00:00+00:00\",\"2017-10-31T00:00:00+00:00\",\"2017-11-01T00:00:00+00:00\",\"2017-11-02T00:00:00+00:00\",\"2017-11-03T00:00:00+00:00\",\"2017-11-04T00:00:00+00:00\",\"2017-11-05T00:00:00+00:00\",\"2017-11-06T00:00:00+00:00\",\"2017-11-07T00:00:00+00:00\",\"2017-11-08T00:00:00+00:00\",\"2017-11-09T00:00:00+00:00\",\"2017-11-10T00:00:00+00:00\",\"2017-11-11T00:00:00+00:00\",\"2017-11-12T00:00:00+00:00\",\"2017-11-13T00:00:00+00:00\",\"2017-11-14T00:00:00+00:00\",\"2017-11-15T00:00:00+00:00\",\"2017-11-16T00:00:00+00:00\",\"2017-11-17T00:00:00+00:00\",\"2017-11-18T00:00:00+00:00\",\"2017-11-19T00:00:00+00:00\",\"2017-11-20T00:00:00+00:00\",\"2017-11-21T00:00:00+00:00\",\"2017-11-22T00:00:00+00:00\",\"2017-11-23T00:00:00+00:00\",\"2017-11-24T00:00:00+00:00\",\"2017-11-25T00:00:00+00:00\",\"2017-11-26T00:00:00+00:00\",\"2017-11-27T00:00:00+00:00\",\"2017-11-28T00:00:00+00:00\",\"2017-11-29T00:00:00+00:00\",\"2017-11-30T00:00:00+00:00\",\"2017-12-01T00:00:00+00:00\",\"2017-12-02T00:00:00+00:00\",\"2017-12-03T00:00:00+00:00\",\"2017-12-04T00:00:00+00:00\",\"2017-12-05T00:00:00+00:00\",\"2017-12-06T00:00:00+00:00\",\"2017-12-07T00:00:00+00:00\",\"2017-12-08T00:00:00+00:00\",\"2017-12-09T00:00:00+00:00\",\"2017-12-10T00:00:00+00:00\",\"2017-12-11T00:00:00+00:00\",\"2017-12-12T00:00:00+00:00\",\"2017-12-13T00:00:00+00:00\",\"2017-12-14T00:00:00+00:00\",\"2017-12-15T00:00:00+00:00\",\"2017-12-16T00:00:00+00:00\",\"2017-12-17T00:00:00+00:00\",\"2017-12-18T00:00:00+00:00\",\"2017-12-19T00:00:00+00:00\",\"2017-12-20T00:00:00+00:00\",\"2017-12-21T00:00:00+00:00\",\"2017-12-22T00:00:00+00:00\",\"2017-12-23T00:00:00+00:00\",\"2017-12-24T00:00:00+00:00\",\"2017-12-25T00:00:00+00:00\",\"2017-12-26T00:00:00+00:00\",\"2017-12-27T00:00:00+00:00\",\"2017-12-28T00:00:00+00:00\",\"2017-12-29T00:00:00+00:00\",\"2017-12-30T00:00:00+00:00\",\"2017-12-31T00:00:00+00:00\",\"2018-01-01T00:00:00+00:00\",\"2018-01-02T00:00:00+00:00\",\"2018-01-03T00:00:00+00:00\",\"2018-01-04T00:00:00+00:00\",\"2018-01-05T00:00:00+00:00\",\"2018-01-06T00:00:00+00:00\",\"2018-01-07T00:00:00+00:00\",\"2018-01-08T00:00:00+00:00\",\"2018-01-09T00:00:00+00:00\",\"2018-01-10T00:00:00+00:00\",\"2018-01-11T00:00:00+00:00\",\"2018-01-12T00:00:00+00:00\",\"2018-01-13T00:00:00+00:00\",\"2018-01-14T00:00:00+00:00\",\"2018-01-15T00:00:00+00:00\",\"2018-01-16T00:00:00+00:00\",\"2018-01-17T00:00:00+00:00\",\"2018-01-18T00:00:00+00:00\",\"2018-01-19T00:00:00+00:00\",\"2018-01-20T00:00:00+00:00\",\"2018-01-21T00:00:00+00:00\",\"2018-01-22T00:00:00+00:00\",\"2018-01-23T00:00:00+00:00\",\"2018-01-24T00:00:00+00:00\",\"2018-01-25T00:00:00+00:00\",\"2018-01-26T00:00:00+00:00\",\"2018-01-27T00:00:00+00:00\",\"2018-01-28T00:00:00+00:00\",\"2018-01-29T00:00:00+00:00\",\"2018-01-30T00:00:00+00:00\",\"2018-01-31T00:00:00+00:00\",\"2018-02-01T00:00:00+00:00\",\"2018-02-02T00:00:00+00:00\",\"2018-02-03T00:00:00+00:00\",\"2018-02-04T00:00:00+00:00\",\"2018-02-05T00:00:00+00:00\",\"2018-02-06T00:00:00+00:00\",\"2018-02-07T00:00:00+00:00\",\"2018-02-08T00:00:00+00:00\",\"2018-02-09T00:00:00+00:00\",\"2018-02-10T00:00:00+00:00\",\"2018-02-11T00:00:00+00:00\",\"2018-02-12T00:00:00+00:00\",\"2018-02-13T00:00:00+00:00\",\"2018-02-14T00:00:00+00:00\",\"2018-02-15T00:00:00+00:00\",\"2018-02-16T00:00:00+00:00\",\"2018-02-17T00:00:00+00:00\",\"2018-02-18T00:00:00+00:00\",\"2018-02-19T00:00:00+00:00\",\"2018-02-20T00:00:00+00:00\",\"2018-02-21T00:00:00+00:00\",\"2018-02-22T00:00:00+00:00\",\"2018-02-23T00:00:00+00:00\",\"2018-02-24T00:00:00+00:00\",\"2018-02-25T00:00:00+00:00\",\"2018-02-26T00:00:00+00:00\",\"2018-02-27T00:00:00+00:00\",\"2018-02-28T00:00:00+00:00\",\"2018-03-01T00:00:00+00:00\",\"2018-03-02T00:00:00+00:00\",\"2018-03-03T00:00:00+00:00\",\"2018-03-04T00:00:00+00:00\",\"2018-03-05T00:00:00+00:00\",\"2018-03-06T00:00:00+00:00\",\"2018-03-07T00:00:00+00:00\",\"2018-03-08T00:00:00+00:00\",\"2018-03-09T00:00:00+00:00\",\"2018-03-10T00:00:00+00:00\",\"2018-03-11T00:00:00+00:00\",\"2018-03-12T00:00:00+00:00\",\"2018-03-13T00:00:00+00:00\",\"2018-03-14T00:00:00+00:00\",\"2018-03-15T00:00:00+00:00\",\"2018-03-16T00:00:00+00:00\",\"2018-03-17T00:00:00+00:00\",\"2018-03-18T00:00:00+00:00\",\"2018-03-19T00:00:00+00:00\",\"2018-03-20T00:00:00+00:00\",\"2018-03-21T00:00:00+00:00\",\"2018-03-22T00:00:00+00:00\",\"2018-03-23T00:00:00+00:00\",\"2018-03-24T00:00:00+00:00\",\"2018-03-25T00:00:00+00:00\",\"2018-03-26T00:00:00+00:00\",\"2018-03-27T00:00:00+00:00\",\"2018-03-28T00:00:00+00:00\",\"2018-03-29T00:00:00+00:00\",\"2018-03-30T00:00:00+00:00\",\"2018-03-31T00:00:00+00:00\",\"2018-04-01T00:00:00+00:00\",\"2018-04-02T00:00:00+00:00\",\"2018-04-03T00:00:00+00:00\",\"2018-04-04T00:00:00+00:00\",\"2018-04-05T00:00:00+00:00\",\"2018-04-06T00:00:00+00:00\",\"2018-04-07T00:00:00+00:00\",\"2018-04-08T00:00:00+00:00\",\"2018-04-09T00:00:00+00:00\",\"2018-04-10T00:00:00+00:00\",\"2018-04-11T00:00:00+00:00\",\"2018-04-12T00:00:00+00:00\",\"2018-04-13T00:00:00+00:00\",\"2018-04-14T00:00:00+00:00\",\"2018-04-15T00:00:00+00:00\",\"2018-04-16T00:00:00+00:00\",\"2018-04-17T00:00:00+00:00\",\"2018-04-18T00:00:00+00:00\",\"2018-04-19T00:00:00+00:00\",\"2018-04-20T00:00:00+00:00\",\"2018-04-21T00:00:00+00:00\",\"2018-04-22T00:00:00+00:00\",\"2018-04-23T00:00:00+00:00\",\"2018-04-24T00:00:00+00:00\",\"2018-04-25T00:00:00+00:00\",\"2018-04-26T00:00:00+00:00\",\"2018-04-27T00:00:00+00:00\",\"2018-04-28T00:00:00+00:00\",\"2018-04-29T00:00:00+00:00\",\"2018-04-30T00:00:00+00:00\",\"2018-05-01T00:00:00+00:00\",\"2018-05-02T00:00:00+00:00\",\"2018-05-03T00:00:00+00:00\",\"2018-05-04T00:00:00+00:00\",\"2018-05-05T00:00:00+00:00\",\"2018-05-06T00:00:00+00:00\",\"2018-05-07T00:00:00+00:00\",\"2018-05-08T00:00:00+00:00\",\"2018-05-09T00:00:00+00:00\",\"2018-05-10T00:00:00+00:00\",\"2018-05-11T00:00:00+00:00\",\"2018-05-12T00:00:00+00:00\",\"2018-05-13T00:00:00+00:00\",\"2018-05-14T00:00:00+00:00\",\"2018-05-15T00:00:00+00:00\",\"2018-05-16T00:00:00+00:00\",\"2018-05-17T00:00:00+00:00\",\"2018-05-18T00:00:00+00:00\",\"2018-05-19T00:00:00+00:00\",\"2018-05-20T00:00:00+00:00\",\"2018-05-21T00:00:00+00:00\",\"2018-05-22T00:00:00+00:00\",\"2018-05-23T00:00:00+00:00\",\"2018-05-24T00:00:00+00:00\",\"2018-05-25T00:00:00+00:00\",\"2018-05-26T00:00:00+00:00\",\"2018-05-27T00:00:00+00:00\",\"2018-05-28T00:00:00+00:00\",\"2018-05-29T00:00:00+00:00\",\"2018-05-30T00:00:00+00:00\",\"2018-05-31T00:00:00+00:00\",\"2018-06-01T00:00:00+00:00\",\"2018-06-02T00:00:00+00:00\",\"2018-06-03T00:00:00+00:00\",\"2018-06-04T00:00:00+00:00\",\"2018-06-05T00:00:00+00:00\",\"2018-06-06T00:00:00+00:00\",\"2018-06-07T00:00:00+00:00\",\"2018-06-08T00:00:00+00:00\",\"2018-06-09T00:00:00+00:00\",\"2018-06-10T00:00:00+00:00\",\"2018-06-11T00:00:00+00:00\",\"2018-06-12T00:00:00+00:00\",\"2018-06-13T00:00:00+00:00\",\"2018-06-14T00:00:00+00:00\",\"2018-06-15T00:00:00+00:00\",\"2018-06-16T00:00:00+00:00\",\"2018-06-17T00:00:00+00:00\",\"2018-06-18T00:00:00+00:00\",\"2018-06-19T00:00:00+00:00\",\"2018-06-20T00:00:00+00:00\",\"2018-06-21T00:00:00+00:00\",\"2018-06-22T00:00:00+00:00\",\"2018-06-23T00:00:00+00:00\",\"2018-06-24T00:00:00+00:00\",\"2018-06-25T00:00:00+00:00\",\"2018-06-26T00:00:00+00:00\",\"2018-06-27T00:00:00+00:00\",\"2018-06-28T00:00:00+00:00\",\"2018-06-29T00:00:00+00:00\",\"2018-06-30T00:00:00+00:00\",\"2018-07-01T00:00:00+00:00\",\"2018-07-02T00:00:00+00:00\",\"2018-07-03T00:00:00+00:00\",\"2018-07-04T00:00:00+00:00\",\"2018-07-05T00:00:00+00:00\",\"2018-07-06T00:00:00+00:00\",\"2018-07-07T00:00:00+00:00\",\"2018-07-08T00:00:00+00:00\",\"2018-07-09T00:00:00+00:00\",\"2018-07-10T00:00:00+00:00\",\"2018-07-11T00:00:00+00:00\",\"2018-07-12T00:00:00+00:00\",\"2018-07-13T00:00:00+00:00\",\"2018-07-14T00:00:00+00:00\",\"2018-07-15T00:00:00+00:00\",\"2018-07-16T00:00:00+00:00\",\"2018-07-17T00:00:00+00:00\",\"2018-07-18T00:00:00+00:00\",\"2018-07-19T00:00:00+00:00\",\"2018-07-20T00:00:00+00:00\",\"2018-07-21T00:00:00+00:00\",\"2018-07-22T00:00:00+00:00\",\"2018-07-23T00:00:00+00:00\",\"2018-07-24T00:00:00+00:00\",\"2018-07-25T00:00:00+00:00\",\"2018-07-26T00:00:00+00:00\",\"2018-07-27T00:00:00+00:00\",\"2018-07-28T00:00:00+00:00\",\"2018-07-29T00:00:00+00:00\",\"2018-07-30T00:00:00+00:00\",\"2018-07-31T00:00:00+00:00\",\"2018-08-01T00:00:00+00:00\",\"2018-08-02T00:00:00+00:00\",\"2018-08-03T00:00:00+00:00\",\"2018-08-04T00:00:00+00:00\",\"2018-08-05T00:00:00+00:00\",\"2018-08-06T00:00:00+00:00\",\"2018-08-07T00:00:00+00:00\",\"2018-08-08T00:00:00+00:00\",\"2018-08-09T00:00:00+00:00\",\"2018-08-10T00:00:00+00:00\",\"2018-08-11T00:00:00+00:00\",\"2018-08-12T00:00:00+00:00\",\"2018-08-13T00:00:00+00:00\",\"2018-08-14T00:00:00+00:00\",\"2018-08-15T00:00:00+00:00\",\"2018-08-16T00:00:00+00:00\",\"2018-08-17T00:00:00+00:00\",\"2018-08-18T00:00:00+00:00\",\"2018-08-19T00:00:00+00:00\",\"2018-08-20T00:00:00+00:00\",\"2018-08-21T00:00:00+00:00\",\"2018-08-22T00:00:00+00:00\",\"2018-08-23T00:00:00+00:00\",\"2018-08-24T00:00:00+00:00\",\"2018-08-25T00:00:00+00:00\",\"2018-08-26T00:00:00+00:00\",\"2018-08-27T00:00:00+00:00\",\"2018-08-28T00:00:00+00:00\",\"2018-08-29T00:00:00+00:00\",\"2018-08-30T00:00:00+00:00\",\"2018-08-31T00:00:00+00:00\",\"2018-09-01T00:00:00+00:00\",\"2018-09-02T00:00:00+00:00\",\"2018-09-03T00:00:00+00:00\",\"2018-09-04T00:00:00+00:00\",\"2018-09-05T00:00:00+00:00\",\"2018-09-06T00:00:00+00:00\",\"2018-09-07T00:00:00+00:00\",\"2018-09-08T00:00:00+00:00\",\"2018-09-09T00:00:00+00:00\",\"2018-09-10T00:00:00+00:00\",\"2018-09-11T00:00:00+00:00\",\"2018-09-12T00:00:00+00:00\",\"2018-09-13T00:00:00+00:00\",\"2018-09-14T00:00:00+00:00\",\"2018-09-15T00:00:00+00:00\",\"2018-09-16T00:00:00+00:00\",\"2018-09-17T00:00:00+00:00\",\"2018-09-18T00:00:00+00:00\",\"2018-09-19T00:00:00+00:00\",\"2018-09-20T00:00:00+00:00\",\"2018-09-21T00:00:00+00:00\",\"2018-09-22T00:00:00+00:00\",\"2018-09-23T00:00:00+00:00\",\"2018-09-24T00:00:00+00:00\",\"2018-09-25T00:00:00+00:00\",\"2018-09-26T00:00:00+00:00\",\"2018-09-27T00:00:00+00:00\",\"2018-09-28T00:00:00+00:00\",\"2018-09-29T00:00:00+00:00\",\"2018-09-30T00:00:00+00:00\",\"2018-10-01T00:00:00+00:00\",\"2018-10-02T00:00:00+00:00\",\"2018-10-03T00:00:00+00:00\",\"2018-10-04T00:00:00+00:00\",\"2018-10-05T00:00:00+00:00\",\"2018-10-06T00:00:00+00:00\",\"2018-10-07T00:00:00+00:00\",\"2018-10-08T00:00:00+00:00\",\"2018-10-09T00:00:00+00:00\",\"2018-10-10T00:00:00+00:00\",\"2018-10-11T00:00:00+00:00\",\"2018-10-12T00:00:00+00:00\",\"2018-10-13T00:00:00+00:00\",\"2018-10-14T00:00:00+00:00\",\"2018-10-15T00:00:00+00:00\",\"2018-10-16T00:00:00+00:00\",\"2018-10-17T00:00:00+00:00\",\"2018-10-18T00:00:00+00:00\",\"2018-10-19T00:00:00+00:00\",\"2018-10-20T00:00:00+00:00\",\"2018-10-21T00:00:00+00:00\",\"2018-10-22T00:00:00+00:00\",\"2018-10-23T00:00:00+00:00\",\"2018-10-24T00:00:00+00:00\",\"2018-10-25T00:00:00+00:00\",\"2018-10-26T00:00:00+00:00\",\"2018-10-27T00:00:00+00:00\",\"2018-10-28T00:00:00+00:00\",\"2018-10-29T00:00:00+00:00\",\"2018-10-30T00:00:00+00:00\",\"2018-10-31T00:00:00+00:00\",\"2018-11-01T00:00:00+00:00\",\"2018-11-02T00:00:00+00:00\",\"2018-11-03T00:00:00+00:00\",\"2018-11-04T00:00:00+00:00\",\"2018-11-05T00:00:00+00:00\",\"2018-11-06T00:00:00+00:00\",\"2018-11-07T00:00:00+00:00\",\"2018-11-08T00:00:00+00:00\",\"2018-11-09T00:00:00+00:00\",\"2018-11-10T00:00:00+00:00\",\"2018-11-11T00:00:00+00:00\",\"2018-11-12T00:00:00+00:00\",\"2018-11-13T00:00:00+00:00\",\"2018-11-14T00:00:00+00:00\",\"2018-11-15T00:00:00+00:00\",\"2018-11-16T00:00:00+00:00\",\"2018-11-17T00:00:00+00:00\",\"2018-11-18T00:00:00+00:00\",\"2018-11-19T00:00:00+00:00\",\"2018-11-20T00:00:00+00:00\",\"2018-11-21T00:00:00+00:00\",\"2018-11-22T00:00:00+00:00\",\"2018-11-23T00:00:00+00:00\",\"2018-11-24T00:00:00+00:00\",\"2018-11-25T00:00:00+00:00\",\"2018-11-26T00:00:00+00:00\",\"2018-11-27T00:00:00+00:00\",\"2018-11-28T00:00:00+00:00\",\"2018-11-29T00:00:00+00:00\",\"2018-11-30T00:00:00+00:00\",\"2018-12-01T00:00:00+00:00\",\"2018-12-02T00:00:00+00:00\",\"2018-12-03T00:00:00+00:00\",\"2018-12-04T00:00:00+00:00\",\"2018-12-05T00:00:00+00:00\",\"2018-12-06T00:00:00+00:00\",\"2018-12-07T00:00:00+00:00\",\"2018-12-08T00:00:00+00:00\",\"2018-12-09T00:00:00+00:00\",\"2018-12-10T00:00:00+00:00\",\"2018-12-11T00:00:00+00:00\",\"2018-12-12T00:00:00+00:00\",\"2018-12-13T00:00:00+00:00\",\"2018-12-14T00:00:00+00:00\",\"2018-12-15T00:00:00+00:00\",\"2018-12-16T00:00:00+00:00\",\"2018-12-17T00:00:00+00:00\",\"2018-12-18T00:00:00+00:00\",\"2018-12-19T00:00:00+00:00\",\"2018-12-20T00:00:00+00:00\",\"2018-12-21T00:00:00+00:00\",\"2018-12-22T00:00:00+00:00\",\"2018-12-23T00:00:00+00:00\",\"2018-12-24T00:00:00+00:00\",\"2018-12-25T00:00:00+00:00\",\"2018-12-26T00:00:00+00:00\",\"2018-12-27T00:00:00+00:00\",\"2018-12-28T00:00:00+00:00\",\"2018-12-29T00:00:00+00:00\",\"2018-12-30T00:00:00+00:00\",\"2018-12-31T00:00:00+00:00\",\"2019-01-01T00:00:00+00:00\",\"2019-01-02T00:00:00+00:00\",\"2019-01-03T00:00:00+00:00\",\"2019-01-04T00:00:00+00:00\",\"2019-01-05T00:00:00+00:00\",\"2019-01-06T00:00:00+00:00\",\"2019-01-07T00:00:00+00:00\",\"2019-01-08T00:00:00+00:00\",\"2019-01-09T00:00:00+00:00\",\"2019-01-10T00:00:00+00:00\",\"2019-01-11T00:00:00+00:00\",\"2019-01-12T00:00:00+00:00\",\"2019-01-13T00:00:00+00:00\",\"2019-01-14T00:00:00+00:00\",\"2019-01-15T00:00:00+00:00\",\"2019-01-16T00:00:00+00:00\",\"2019-01-17T00:00:00+00:00\",\"2019-01-18T00:00:00+00:00\",\"2019-01-19T00:00:00+00:00\",\"2019-01-20T00:00:00+00:00\",\"2019-01-21T00:00:00+00:00\",\"2019-01-22T00:00:00+00:00\",\"2019-01-23T00:00:00+00:00\",\"2019-01-24T00:00:00+00:00\",\"2019-01-25T00:00:00+00:00\",\"2019-01-26T00:00:00+00:00\",\"2019-01-27T00:00:00+00:00\",\"2019-01-28T00:00:00+00:00\",\"2019-01-29T00:00:00+00:00\",\"2019-01-30T00:00:00+00:00\",\"2019-01-31T00:00:00+00:00\",\"2019-02-01T00:00:00+00:00\",\"2019-02-02T00:00:00+00:00\",\"2019-02-03T00:00:00+00:00\",\"2019-02-04T00:00:00+00:00\",\"2019-02-05T00:00:00+00:00\",\"2019-02-06T00:00:00+00:00\",\"2019-02-07T00:00:00+00:00\",\"2019-02-08T00:00:00+00:00\",\"2019-02-09T00:00:00+00:00\",\"2019-02-10T00:00:00+00:00\",\"2019-02-11T00:00:00+00:00\",\"2019-02-12T00:00:00+00:00\",\"2019-02-13T00:00:00+00:00\",\"2019-02-14T00:00:00+00:00\",\"2019-02-15T00:00:00+00:00\",\"2019-02-16T00:00:00+00:00\",\"2019-02-17T00:00:00+00:00\",\"2019-02-18T00:00:00+00:00\",\"2019-02-19T00:00:00+00:00\",\"2019-02-20T00:00:00+00:00\",\"2019-02-21T00:00:00+00:00\",\"2019-02-22T00:00:00+00:00\",\"2019-02-23T00:00:00+00:00\",\"2019-02-24T00:00:00+00:00\",\"2019-02-25T00:00:00+00:00\",\"2019-02-26T00:00:00+00:00\",\"2019-02-27T00:00:00+00:00\",\"2019-02-28T00:00:00+00:00\",\"2019-02-28T00:00:00+00:00\",\"2019-03-01T00:00:00+00:00\",\"2019-03-02T00:00:00+00:00\",\"2019-03-03T00:00:00+00:00\",\"2019-03-04T00:00:00+00:00\",\"2019-03-05T00:00:00+00:00\",\"2019-03-06T00:00:00+00:00\",\"2019-03-07T00:00:00+00:00\",\"2019-03-08T00:00:00+00:00\",\"2019-03-09T00:00:00+00:00\",\"2019-03-10T00:00:00+00:00\",\"2019-03-11T00:00:00+00:00\",\"2019-03-12T00:00:00+00:00\",\"2019-03-13T00:00:00+00:00\",\"2019-03-14T00:00:00+00:00\",\"2019-03-15T00:00:00+00:00\",\"2019-03-16T00:00:00+00:00\",\"2019-03-17T00:00:00+00:00\",\"2019-03-18T00:00:00+00:00\",\"2019-03-19T00:00:00+00:00\",\"2019-03-20T00:00:00+00:00\",\"2019-03-21T00:00:00+00:00\",\"2019-03-22T00:00:00+00:00\",\"2019-03-23T00:00:00+00:00\",\"2019-03-24T00:00:00+00:00\",\"2019-03-25T00:00:00+00:00\",\"2019-03-26T00:00:00+00:00\",\"2019-03-27T00:00:00+00:00\",\"2019-03-28T00:00:00+00:00\",\"2019-03-29T00:00:00+00:00\",\"2019-03-30T00:00:00+00:00\",\"2019-03-31T00:00:00+00:00\",\"2019-04-01T00:00:00+00:00\",\"2019-04-02T00:00:00+00:00\",\"2019-04-03T00:00:00+00:00\",\"2019-04-04T00:00:00+00:00\",\"2019-04-05T00:00:00+00:00\",\"2019-04-06T00:00:00+00:00\",\"2019-04-07T00:00:00+00:00\",\"2019-04-08T00:00:00+00:00\",\"2019-04-09T00:00:00+00:00\",\"2019-04-10T00:00:00+00:00\",\"2019-04-11T00:00:00+00:00\",\"2019-04-12T00:00:00+00:00\",\"2019-04-13T00:00:00+00:00\",\"2019-04-14T00:00:00+00:00\",\"2019-04-15T00:00:00+00:00\",\"2019-04-16T00:00:00+00:00\",\"2019-04-17T00:00:00+00:00\",\"2019-04-18T00:00:00+00:00\",\"2019-04-19T00:00:00+00:00\",\"2019-04-20T00:00:00+00:00\",\"2019-04-21T00:00:00+00:00\",\"2019-04-22T00:00:00+00:00\",\"2019-04-23T00:00:00+00:00\",\"2019-04-24T00:00:00+00:00\",\"2019-04-25T00:00:00+00:00\",\"2019-04-26T00:00:00+00:00\",\"2019-04-27T00:00:00+00:00\",\"2019-04-28T00:00:00+00:00\",\"2019-04-29T00:00:00+00:00\",\"2019-04-30T00:00:00+00:00\",\"2019-05-01T00:00:00+00:00\",\"2019-05-02T00:00:00+00:00\",\"2019-05-03T00:00:00+00:00\",\"2019-05-04T00:00:00+00:00\",\"2019-05-05T00:00:00+00:00\",\"2019-05-06T00:00:00+00:00\",\"2019-05-07T00:00:00+00:00\",\"2019-05-08T00:00:00+00:00\",\"2019-05-09T00:00:00+00:00\",\"2019-05-10T00:00:00+00:00\",\"2019-05-11T00:00:00+00:00\",\"2019-05-12T00:00:00+00:00\",\"2019-05-13T00:00:00+00:00\",\"2019-05-14T00:00:00+00:00\",\"2019-05-15T00:00:00+00:00\",\"2019-05-16T00:00:00+00:00\",\"2019-05-17T00:00:00+00:00\",\"2019-05-18T00:00:00+00:00\",\"2019-05-19T00:00:00+00:00\",\"2019-05-20T00:00:00+00:00\",\"2019-05-21T00:00:00+00:00\",\"2019-05-22T00:00:00+00:00\",\"2019-05-23T00:00:00+00:00\",\"2019-05-24T00:00:00+00:00\",\"2019-05-25T00:00:00+00:00\",\"2019-05-26T00:00:00+00:00\",\"2019-05-27T00:00:00+00:00\",\"2019-05-28T00:00:00+00:00\",\"2019-05-29T00:00:00+00:00\",\"2019-05-30T00:00:00+00:00\",\"2019-05-31T00:00:00+00:00\",\"2019-06-01T00:00:00+00:00\",\"2019-06-02T00:00:00+00:00\",\"2019-06-03T00:00:00+00:00\",\"2019-06-04T00:00:00+00:00\",\"2019-06-05T00:00:00+00:00\",\"2019-06-06T00:00:00+00:00\",\"2019-06-07T00:00:00+00:00\",\"2019-06-08T00:00:00+00:00\",\"2019-06-09T00:00:00+00:00\",\"2019-06-10T00:00:00+00:00\",\"2019-06-11T00:00:00+00:00\",\"2019-06-12T00:00:00+00:00\",\"2019-06-13T00:00:00+00:00\",\"2019-06-14T00:00:00+00:00\",\"2019-06-15T00:00:00+00:00\",\"2019-06-16T00:00:00+00:00\",\"2019-06-17T00:00:00+00:00\",\"2019-06-18T00:00:00+00:00\",\"2019-06-19T00:00:00+00:00\",\"2019-06-20T00:00:00+00:00\",\"2019-06-21T00:00:00+00:00\",\"2019-06-22T00:00:00+00:00\",\"2019-06-23T00:00:00+00:00\",\"2019-06-24T00:00:00+00:00\",\"2019-06-25T00:00:00+00:00\",\"2019-06-26T00:00:00+00:00\",\"2019-06-27T00:00:00+00:00\",\"2019-06-28T00:00:00+00:00\",\"2019-06-29T00:00:00+00:00\",\"2019-06-30T00:00:00+00:00\",\"2019-07-01T00:00:00+00:00\",\"2019-07-02T00:00:00+00:00\",\"2019-07-03T00:00:00+00:00\",\"2019-07-04T00:00:00+00:00\",\"2019-07-05T00:00:00+00:00\",\"2019-07-06T00:00:00+00:00\",\"2019-07-07T00:00:00+00:00\",\"2019-07-08T00:00:00+00:00\",\"2019-07-09T00:00:00+00:00\",\"2019-07-10T00:00:00+00:00\",\"2019-07-11T00:00:00+00:00\",\"2019-07-12T00:00:00+00:00\",\"2019-07-13T00:00:00+00:00\",\"2019-07-14T00:00:00+00:00\",\"2019-07-15T00:00:00+00:00\",\"2019-07-16T00:00:00+00:00\",\"2019-07-17T00:00:00+00:00\",\"2019-07-18T00:00:00+00:00\",\"2019-07-19T00:00:00+00:00\",\"2019-07-20T00:00:00+00:00\",\"2019-07-21T00:00:00+00:00\",\"2019-07-22T00:00:00+00:00\",\"2019-07-23T00:00:00+00:00\",\"2019-07-24T00:00:00+00:00\",\"2019-07-25T00:00:00+00:00\",\"2019-07-26T00:00:00+00:00\",\"2019-07-27T00:00:00+00:00\",\"2019-07-28T00:00:00+00:00\",\"2019-07-29T00:00:00+00:00\",\"2019-07-30T00:00:00+00:00\",\"2019-07-31T00:00:00+00:00\",\"2019-08-01T00:00:00+00:00\",\"2019-08-02T00:00:00+00:00\",\"2019-08-03T00:00:00+00:00\",\"2019-08-04T00:00:00+00:00\",\"2019-08-05T00:00:00+00:00\",\"2019-08-06T00:00:00+00:00\",\"2019-08-07T00:00:00+00:00\",\"2019-08-08T00:00:00+00:00\",\"2019-08-09T00:00:00+00:00\",\"2019-08-10T00:00:00+00:00\",\"2019-08-11T00:00:00+00:00\",\"2019-08-12T00:00:00+00:00\",\"2019-08-13T00:00:00+00:00\",\"2019-08-14T00:00:00+00:00\",\"2019-08-15T00:00:00+00:00\",\"2019-08-16T00:00:00+00:00\",\"2019-08-17T00:00:00+00:00\",\"2019-08-18T00:00:00+00:00\",\"2019-08-19T00:00:00+00:00\",\"2019-08-20T00:00:00+00:00\",\"2019-08-21T00:00:00+00:00\",\"2019-08-22T00:00:00+00:00\",\"2019-08-23T00:00:00+00:00\",\"2019-08-24T00:00:00+00:00\",\"2019-08-25T00:00:00+00:00\",\"2019-08-26T00:00:00+00:00\",\"2019-08-27T00:00:00+00:00\",\"2019-08-28T00:00:00+00:00\",\"2019-08-29T00:00:00+00:00\",\"2019-08-30T00:00:00+00:00\",\"2019-08-31T00:00:00+00:00\",\"2019-09-01T00:00:00+00:00\",\"2019-09-02T00:00:00+00:00\",\"2019-09-03T00:00:00+00:00\",\"2019-09-04T00:00:00+00:00\",\"2019-09-05T00:00:00+00:00\",\"2019-09-06T00:00:00+00:00\",\"2019-09-07T00:00:00+00:00\",\"2019-09-08T00:00:00+00:00\",\"2019-09-09T00:00:00+00:00\",\"2019-09-10T00:00:00+00:00\",\"2019-09-11T00:00:00+00:00\",\"2019-09-12T00:00:00+00:00\",\"2019-09-13T00:00:00+00:00\",\"2019-09-14T00:00:00+00:00\",\"2019-09-15T00:00:00+00:00\",\"2019-09-16T00:00:00+00:00\",\"2019-09-17T00:00:00+00:00\",\"2019-09-18T00:00:00+00:00\",\"2019-09-19T00:00:00+00:00\",\"2019-09-20T00:00:00+00:00\",\"2019-09-21T00:00:00+00:00\",\"2019-09-22T00:00:00+00:00\",\"2019-09-23T00:00:00+00:00\",\"2019-09-24T00:00:00+00:00\",\"2019-09-25T00:00:00+00:00\",\"2019-09-26T00:00:00+00:00\",\"2019-09-27T00:00:00+00:00\",\"2019-09-28T00:00:00+00:00\",\"2019-09-29T00:00:00+00:00\",\"2019-09-30T00:00:00+00:00\",\"2019-10-01T00:00:00+00:00\",\"2019-10-02T00:00:00+00:00\",\"2019-10-03T00:00:00+00:00\",\"2019-10-04T00:00:00+00:00\",\"2019-10-05T00:00:00+00:00\",\"2019-10-06T00:00:00+00:00\",\"2019-10-07T00:00:00+00:00\",\"2019-10-08T00:00:00+00:00\",\"2019-10-09T00:00:00+00:00\",\"2019-10-10T00:00:00+00:00\",\"2019-10-11T00:00:00+00:00\",\"2019-10-12T00:00:00+00:00\",\"2019-10-13T00:00:00+00:00\",\"2019-10-14T00:00:00+00:00\",\"2019-10-15T00:00:00+00:00\",\"2019-10-16T00:00:00+00:00\",\"2019-10-17T00:00:00+00:00\",\"2019-10-18T00:00:00+00:00\",\"2019-10-19T00:00:00+00:00\",\"2019-10-20T00:00:00+00:00\",\"2019-10-21T00:00:00+00:00\",\"2019-10-22T00:00:00+00:00\",\"2019-10-23T00:00:00+00:00\",\"2019-10-24T00:00:00+00:00\",\"2019-10-25T00:00:00+00:00\",\"2019-10-26T00:00:00+00:00\",\"2019-10-27T00:00:00+00:00\",\"2019-10-28T00:00:00+00:00\",\"2019-10-29T00:00:00+00:00\",\"2019-10-30T00:00:00+00:00\",\"2019-10-31T00:00:00+00:00\",\"2019-11-01T00:00:00+00:00\",\"2019-11-02T00:00:00+00:00\",\"2019-11-03T00:00:00+00:00\",\"2019-11-04T00:00:00+00:00\",\"2019-11-05T00:00:00+00:00\",\"2019-11-06T00:00:00+00:00\",\"2019-11-07T00:00:00+00:00\",\"2019-11-08T00:00:00+00:00\",\"2019-11-09T00:00:00+00:00\",\"2019-11-10T00:00:00+00:00\",\"2019-11-11T00:00:00+00:00\",\"2019-11-12T00:00:00+00:00\",\"2019-11-13T00:00:00+00:00\",\"2019-11-14T00:00:00+00:00\",\"2019-11-15T00:00:00+00:00\",\"2019-11-16T00:00:00+00:00\",\"2019-11-17T00:00:00+00:00\",\"2019-11-18T00:00:00+00:00\",\"2019-11-19T00:00:00+00:00\",\"2019-11-20T00:00:00+00:00\",\"2019-11-21T00:00:00+00:00\",\"2019-11-22T00:00:00+00:00\",\"2019-11-23T00:00:00+00:00\",\"2019-11-24T00:00:00+00:00\",\"2019-11-25T00:00:00+00:00\",\"2019-11-26T00:00:00+00:00\",\"2019-11-27T00:00:00+00:00\",\"2019-11-28T00:00:00+00:00\",\"2019-11-29T00:00:00+00:00\",\"2019-11-30T00:00:00+00:00\",\"2019-12-01T00:00:00+00:00\",\"2019-12-02T00:00:00+00:00\",\"2019-12-03T00:00:00+00:00\",\"2019-12-04T00:00:00+00:00\",\"2019-12-05T00:00:00+00:00\",\"2019-12-06T00:00:00+00:00\",\"2019-12-07T00:00:00+00:00\",\"2019-12-08T00:00:00+00:00\",\"2019-12-09T00:00:00+00:00\",\"2019-12-10T00:00:00+00:00\",\"2019-12-11T00:00:00+00:00\",\"2019-12-12T00:00:00+00:00\",\"2019-12-13T00:00:00+00:00\",\"2019-12-14T00:00:00+00:00\",\"2019-12-15T00:00:00+00:00\",\"2019-12-16T00:00:00+00:00\",\"2019-12-17T00:00:00+00:00\",\"2019-12-18T00:00:00+00:00\",\"2019-12-19T00:00:00+00:00\",\"2019-12-20T00:00:00+00:00\",\"2019-12-21T00:00:00+00:00\",\"2019-12-22T00:00:00+00:00\",\"2019-12-23T00:00:00+00:00\",\"2019-12-24T00:00:00+00:00\",\"2019-12-25T00:00:00+00:00\",\"2019-12-26T00:00:00+00:00\",\"2019-12-27T00:00:00+00:00\",\"2019-12-28T00:00:00+00:00\",\"2019-12-29T00:00:00+00:00\",\"2019-12-30T00:00:00+00:00\",\"2019-12-31T00:00:00+00:00\",\"2020-01-01T00:00:00+00:00\",\"2020-01-02T00:00:00+00:00\",\"2020-01-03T00:00:00+00:00\",\"2020-01-04T00:00:00+00:00\",\"2020-01-05T00:00:00+00:00\",\"2020-01-06T00:00:00+00:00\",\"2020-01-07T00:00:00+00:00\",\"2020-01-08T00:00:00+00:00\",\"2020-01-09T00:00:00+00:00\",\"2020-01-10T00:00:00+00:00\",\"2020-01-11T00:00:00+00:00\",\"2020-01-12T00:00:00+00:00\",\"2020-01-13T00:00:00+00:00\",\"2020-01-14T00:00:00+00:00\",\"2020-01-15T00:00:00+00:00\",\"2020-01-16T00:00:00+00:00\",\"2020-01-17T00:00:00+00:00\",\"2020-01-18T00:00:00+00:00\",\"2020-01-19T00:00:00+00:00\",\"2020-01-20T00:00:00+00:00\",\"2020-01-21T00:00:00+00:00\",\"2020-01-22T00:00:00+00:00\",\"2020-01-23T00:00:00+00:00\",\"2020-01-24T00:00:00+00:00\",\"2020-01-25T00:00:00+00:00\",\"2020-01-26T00:00:00+00:00\",\"2020-01-27T00:00:00+00:00\",\"2020-01-28T00:00:00+00:00\",\"2020-01-29T00:00:00+00:00\",\"2020-01-30T00:00:00+00:00\",\"2020-01-31T00:00:00+00:00\",\"2020-02-01T00:00:00+00:00\",\"2020-02-02T00:00:00+00:00\",\"2020-02-03T00:00:00+00:00\",\"2020-02-04T00:00:00+00:00\",\"2020-02-05T00:00:00+00:00\",\"2020-02-06T00:00:00+00:00\",\"2020-02-07T00:00:00+00:00\",\"2020-02-08T00:00:00+00:00\",\"2020-02-09T00:00:00+00:00\",\"2020-02-10T00:00:00+00:00\",\"2020-02-11T00:00:00+00:00\",\"2020-02-12T00:00:00+00:00\",\"2020-02-13T00:00:00+00:00\",\"2020-02-14T00:00:00+00:00\",\"2020-02-15T00:00:00+00:00\",\"2020-02-16T00:00:00+00:00\",\"2020-02-17T00:00:00+00:00\",\"2020-02-18T00:00:00+00:00\",\"2020-02-19T00:00:00+00:00\",\"2020-02-20T00:00:00+00:00\",\"2020-02-21T00:00:00+00:00\",\"2020-02-22T00:00:00+00:00\",\"2020-02-23T00:00:00+00:00\",\"2020-02-24T00:00:00+00:00\",\"2020-02-25T00:00:00+00:00\",\"2020-02-26T00:00:00+00:00\",\"2020-02-27T00:00:00+00:00\",\"2020-02-28T00:00:00+00:00\",\"2020-03-01T00:00:00+00:00\",\"2020-03-02T00:00:00+00:00\",\"2020-03-03T00:00:00+00:00\",\"2020-03-04T00:00:00+00:00\",\"2020-03-05T00:00:00+00:00\",\"2020-03-06T00:00:00+00:00\",\"2020-03-07T00:00:00+00:00\",\"2020-03-08T00:00:00+00:00\",\"2020-03-09T00:00:00+00:00\",\"2020-03-10T00:00:00+00:00\",\"2020-03-11T00:00:00+00:00\",\"2020-03-12T00:00:00+00:00\",\"2020-03-13T00:00:00+00:00\",\"2020-03-14T00:00:00+00:00\",\"2020-03-15T00:00:00+00:00\",\"2020-03-16T00:00:00+00:00\",\"2020-03-17T00:00:00+00:00\",\"2020-03-18T00:00:00+00:00\",\"2020-03-19T00:00:00+00:00\",\"2020-03-20T00:00:00+00:00\",\"2020-03-21T00:00:00+00:00\",\"2020-03-22T00:00:00+00:00\",\"2020-03-23T00:00:00+00:00\",\"2020-03-24T00:00:00+00:00\",\"2020-03-25T00:00:00+00:00\",\"2020-03-26T00:00:00+00:00\",\"2020-03-27T00:00:00+00:00\",\"2020-03-28T00:00:00+00:00\",\"2020-03-29T00:00:00+00:00\",\"2020-03-30T00:00:00+00:00\",\"2020-03-31T00:00:00+00:00\",\"2020-04-01T00:00:00+00:00\",\"2020-04-02T00:00:00+00:00\",\"2020-04-03T00:00:00+00:00\",\"2020-04-04T00:00:00+00:00\",\"2020-04-05T00:00:00+00:00\",\"2020-04-06T00:00:00+00:00\",\"2020-04-07T00:00:00+00:00\",\"2020-04-08T00:00:00+00:00\",\"2020-04-09T00:00:00+00:00\",\"2020-04-10T00:00:00+00:00\",\"2020-04-11T00:00:00+00:00\",\"2020-04-12T00:00:00+00:00\",\"2020-04-13T00:00:00+00:00\",\"2020-04-14T00:00:00+00:00\",\"2020-04-15T00:00:00+00:00\",\"2020-04-16T00:00:00+00:00\",\"2020-04-17T00:00:00+00:00\",\"2020-04-18T00:00:00+00:00\",\"2020-04-19T00:00:00+00:00\",\"2020-04-20T00:00:00+00:00\",\"2020-04-21T00:00:00+00:00\",\"2020-04-22T00:00:00+00:00\",\"2020-04-23T00:00:00+00:00\",\"2020-04-24T00:00:00+00:00\",\"2020-04-25T00:00:00+00:00\",\"2020-04-26T00:00:00+00:00\",\"2020-04-27T00:00:00+00:00\",\"2020-04-28T00:00:00+00:00\",\"2020-04-29T00:00:00+00:00\",\"2020-04-30T00:00:00+00:00\",\"2020-05-01T00:00:00+00:00\",\"2020-05-02T00:00:00+00:00\",\"2020-05-03T00:00:00+00:00\",\"2020-05-04T00:00:00+00:00\",\"2020-05-05T00:00:00+00:00\",\"2020-05-06T00:00:00+00:00\",\"2020-05-07T00:00:00+00:00\",\"2020-05-08T00:00:00+00:00\",\"2020-05-09T00:00:00+00:00\",\"2020-05-10T00:00:00+00:00\",\"2020-05-11T00:00:00+00:00\",\"2020-05-12T00:00:00+00:00\",\"2020-05-13T00:00:00+00:00\",\"2020-05-14T00:00:00+00:00\",\"2020-05-15T00:00:00+00:00\",\"2020-05-16T00:00:00+00:00\",\"2020-05-17T00:00:00+00:00\",\"2020-05-18T00:00:00+00:00\",\"2020-05-19T00:00:00+00:00\",\"2020-05-20T00:00:00+00:00\",\"2020-05-21T00:00:00+00:00\",\"2020-05-22T00:00:00+00:00\",\"2020-05-23T00:00:00+00:00\",\"2020-05-24T00:00:00+00:00\",\"2020-05-25T00:00:00+00:00\",\"2020-05-26T00:00:00+00:00\",\"2020-05-27T00:00:00+00:00\",\"2020-05-28T00:00:00+00:00\",\"2020-05-29T00:00:00+00:00\",\"2020-05-30T00:00:00+00:00\",\"2020-05-31T00:00:00+00:00\",\"2020-06-01T00:00:00+00:00\",\"2020-06-02T00:00:00+00:00\",\"2020-06-03T00:00:00+00:00\",\"2020-06-04T00:00:00+00:00\",\"2020-06-05T00:00:00+00:00\",\"2020-06-06T00:00:00+00:00\",\"2020-06-07T00:00:00+00:00\",\"2020-06-08T00:00:00+00:00\",\"2020-06-09T00:00:00+00:00\",\"2020-06-10T00:00:00+00:00\",\"2020-06-11T00:00:00+00:00\",\"2020-06-12T00:00:00+00:00\",\"2020-06-13T00:00:00+00:00\",\"2020-06-14T00:00:00+00:00\",\"2020-06-15T00:00:00+00:00\",\"2020-06-16T00:00:00+00:00\",\"2020-06-17T00:00:00+00:00\",\"2020-06-18T00:00:00+00:00\",\"2020-06-19T00:00:00+00:00\",\"2020-06-20T00:00:00+00:00\",\"2020-06-21T00:00:00+00:00\",\"2020-06-22T00:00:00+00:00\",\"2020-06-23T00:00:00+00:00\",\"2020-06-24T00:00:00+00:00\",\"2020-06-25T00:00:00+00:00\",\"2020-06-26T00:00:00+00:00\",\"2020-06-27T00:00:00+00:00\",\"2020-06-28T00:00:00+00:00\",\"2020-06-29T00:00:00+00:00\",\"2020-06-30T00:00:00+00:00\",\"2020-07-01T00:00:00+00:00\",\"2020-07-02T00:00:00+00:00\",\"2020-07-03T00:00:00+00:00\",\"2020-07-04T00:00:00+00:00\",\"2020-07-05T00:00:00+00:00\",\"2020-07-06T00:00:00+00:00\",\"2020-07-07T00:00:00+00:00\",\"2020-07-08T00:00:00+00:00\",\"2020-07-09T00:00:00+00:00\",\"2020-07-10T00:00:00+00:00\",\"2020-07-11T00:00:00+00:00\",\"2020-07-12T00:00:00+00:00\",\"2020-07-13T00:00:00+00:00\",\"2020-07-14T00:00:00+00:00\",\"2020-07-15T00:00:00+00:00\",\"2020-07-16T00:00:00+00:00\",\"2020-07-17T00:00:00+00:00\",\"2020-07-18T00:00:00+00:00\",\"2020-07-19T00:00:00+00:00\",\"2020-07-20T00:00:00+00:00\",\"2020-07-21T00:00:00+00:00\",\"2020-07-22T00:00:00+00:00\",\"2020-07-23T00:00:00+00:00\",\"2020-07-24T00:00:00+00:00\",\"2020-07-25T00:00:00+00:00\",\"2020-07-26T00:00:00+00:00\",\"2020-07-27T00:00:00+00:00\",\"2020-07-28T00:00:00+00:00\",\"2020-07-29T00:00:00+00:00\",\"2020-07-30T00:00:00+00:00\",\"2020-07-31T00:00:00+00:00\",\"2020-08-01T00:00:00+00:00\",\"2020-08-02T00:00:00+00:00\",\"2020-08-03T00:00:00+00:00\",\"2020-08-04T00:00:00+00:00\",\"2020-08-05T00:00:00+00:00\",\"2020-08-06T00:00:00+00:00\",\"2020-08-07T00:00:00+00:00\",\"2020-08-08T00:00:00+00:00\",\"2020-08-09T00:00:00+00:00\",\"2020-08-10T00:00:00+00:00\",\"2020-08-11T00:00:00+00:00\",\"2020-08-12T00:00:00+00:00\",\"2020-08-13T00:00:00+00:00\",\"2020-08-14T00:00:00+00:00\",\"2020-08-15T00:00:00+00:00\",\"2020-08-16T00:00:00+00:00\",\"2020-08-17T00:00:00+00:00\",\"2020-08-18T00:00:00+00:00\",\"2020-08-19T00:00:00+00:00\",\"2020-08-20T00:00:00+00:00\",\"2020-08-21T00:00:00+00:00\",\"2020-08-22T00:00:00+00:00\",\"2020-08-23T00:00:00+00:00\",\"2020-08-24T00:00:00+00:00\",\"2020-08-25T00:00:00+00:00\",\"2020-08-26T00:00:00+00:00\",\"2020-08-27T00:00:00+00:00\",\"2020-08-28T00:00:00+00:00\",\"2020-08-29T00:00:00+00:00\",\"2020-08-30T00:00:00+00:00\",\"2020-08-31T00:00:00+00:00\",\"2020-09-01T00:00:00+00:00\",\"2020-09-02T00:00:00+00:00\",\"2020-09-03T00:00:00+00:00\",\"2020-09-04T00:00:00+00:00\",\"2020-09-05T00:00:00+00:00\",\"2020-09-06T00:00:00+00:00\",\"2020-09-07T00:00:00+00:00\",\"2020-09-08T00:00:00+00:00\",\"2020-09-09T00:00:00+00:00\",\"2020-09-10T00:00:00+00:00\",\"2020-09-11T00:00:00+00:00\",\"2020-09-12T00:00:00+00:00\",\"2020-09-13T00:00:00+00:00\",\"2020-09-14T00:00:00+00:00\",\"2020-09-15T00:00:00+00:00\",\"2020-09-16T00:00:00+00:00\",\"2020-09-17T00:00:00+00:00\",\"2020-09-18T00:00:00+00:00\",\"2020-09-19T00:00:00+00:00\",\"2020-09-20T00:00:00+00:00\",\"2020-09-21T00:00:00+00:00\",\"2020-09-22T00:00:00+00:00\",\"2020-09-23T00:00:00+00:00\",\"2020-09-24T00:00:00+00:00\",\"2020-09-25T00:00:00+00:00\",\"2020-09-26T00:00:00+00:00\",\"2020-09-27T00:00:00+00:00\",\"2020-09-28T00:00:00+00:00\",\"2020-09-29T00:00:00+00:00\",\"2020-09-30T00:00:00+00:00\",\"2020-10-01T00:00:00+00:00\",\"2020-10-02T00:00:00+00:00\",\"2020-10-03T00:00:00+00:00\",\"2020-10-04T00:00:00+00:00\",\"2020-10-05T00:00:00+00:00\",\"2020-10-06T00:00:00+00:00\",\"2020-10-07T00:00:00+00:00\",\"2020-10-08T00:00:00+00:00\",\"2020-10-09T00:00:00+00:00\",\"2020-10-10T00:00:00+00:00\",\"2020-10-11T00:00:00+00:00\",\"2020-10-12T00:00:00+00:00\",\"2020-10-13T00:00:00+00:00\",\"2020-10-14T00:00:00+00:00\",\"2020-10-15T00:00:00+00:00\",\"2020-10-16T00:00:00+00:00\",\"2020-10-17T00:00:00+00:00\",\"2020-10-18T00:00:00+00:00\",\"2020-10-19T00:00:00+00:00\",\"2020-10-20T00:00:00+00:00\",\"2020-10-21T00:00:00+00:00\",\"2020-10-22T00:00:00+00:00\",\"2020-10-23T00:00:00+00:00\",\"2020-10-24T00:00:00+00:00\",\"2020-10-25T00:00:00+00:00\",\"2020-10-26T00:00:00+00:00\",\"2020-10-27T00:00:00+00:00\",\"2020-10-28T00:00:00+00:00\",\"2020-10-29T00:00:00+00:00\",\"2020-10-30T00:00:00+00:00\",\"2020-10-31T00:00:00+00:00\",\"2020-11-01T00:00:00+00:00\",\"2020-11-02T00:00:00+00:00\",\"2020-11-03T00:00:00+00:00\",\"2020-11-04T00:00:00+00:00\",\"2020-11-05T00:00:00+00:00\",\"2020-11-06T00:00:00+00:00\",\"2020-11-07T00:00:00+00:00\",\"2020-11-08T00:00:00+00:00\",\"2020-11-09T00:00:00+00:00\",\"2020-11-10T00:00:00+00:00\",\"2020-11-11T00:00:00+00:00\",\"2020-11-12T00:00:00+00:00\",\"2020-11-13T00:00:00+00:00\",\"2020-11-14T00:00:00+00:00\",\"2020-11-15T00:00:00+00:00\",\"2020-11-16T00:00:00+00:00\",\"2020-11-17T00:00:00+00:00\",\"2020-11-18T00:00:00+00:00\",\"2020-11-19T00:00:00+00:00\",\"2020-11-20T00:00:00+00:00\",\"2020-11-21T00:00:00+00:00\",\"2020-11-22T00:00:00+00:00\",\"2020-11-23T00:00:00+00:00\",\"2020-11-24T00:00:00+00:00\",\"2020-11-25T00:00:00+00:00\",\"2020-11-26T00:00:00+00:00\",\"2020-11-27T00:00:00+00:00\",\"2020-11-28T00:00:00+00:00\",\"2020-11-29T00:00:00+00:00\",\"2020-11-30T00:00:00+00:00\",\"2020-12-01T00:00:00+00:00\",\"2020-12-02T00:00:00+00:00\",\"2020-12-03T00:00:00+00:00\",\"2020-12-04T00:00:00+00:00\",\"2020-12-05T00:00:00+00:00\",\"2020-12-06T00:00:00+00:00\",\"2020-12-07T00:00:00+00:00\",\"2020-12-08T00:00:00+00:00\",\"2020-12-09T00:00:00+00:00\",\"2020-12-10T00:00:00+00:00\",\"2020-12-11T00:00:00+00:00\",\"2020-12-12T00:00:00+00:00\",\"2020-12-13T00:00:00+00:00\",\"2020-12-14T00:00:00+00:00\",\"2020-12-15T00:00:00+00:00\",\"2020-12-16T00:00:00+00:00\",\"2020-12-17T00:00:00+00:00\",\"2020-12-18T00:00:00+00:00\",\"2020-12-19T00:00:00+00:00\",\"2020-12-20T00:00:00+00:00\",\"2020-12-21T00:00:00+00:00\",\"2020-12-22T00:00:00+00:00\",\"2020-12-23T00:00:00+00:00\",\"2020-12-24T00:00:00+00:00\",\"2020-12-25T00:00:00+00:00\",\"2020-12-26T00:00:00+00:00\",\"2020-12-27T00:00:00+00:00\",\"2020-12-28T00:00:00+00:00\",\"2020-12-29T00:00:00+00:00\",\"2020-12-30T00:00:00+00:00\",\"2020-12-31T00:00:00+00:00\",\"2021-01-01T00:00:00+00:00\",\"2021-01-02T00:00:00+00:00\",\"2021-01-03T00:00:00+00:00\",\"2021-01-04T00:00:00+00:00\",\"2021-01-05T00:00:00+00:00\",\"2021-01-06T00:00:00+00:00\",\"2021-01-07T00:00:00+00:00\",\"2021-01-08T00:00:00+00:00\",\"2021-01-09T00:00:00+00:00\",\"2021-01-10T00:00:00+00:00\",\"2021-01-11T00:00:00+00:00\",\"2021-01-12T00:00:00+00:00\",\"2021-01-13T00:00:00+00:00\",\"2021-01-14T00:00:00+00:00\",\"2021-01-15T00:00:00+00:00\",\"2021-01-16T00:00:00+00:00\",\"2021-01-17T00:00:00+00:00\",\"2021-01-18T00:00:00+00:00\",\"2021-01-19T00:00:00+00:00\",\"2021-01-20T00:00:00+00:00\",\"2021-01-21T00:00:00+00:00\",\"2021-01-22T00:00:00+00:00\",\"2021-01-23T00:00:00+00:00\",\"2021-01-24T00:00:00+00:00\",\"2021-01-25T00:00:00+00:00\",\"2021-01-26T00:00:00+00:00\",\"2021-01-27T00:00:00+00:00\",\"2021-01-28T00:00:00+00:00\",\"2021-01-29T00:00:00+00:00\",\"2021-01-30T00:00:00+00:00\",\"2021-01-31T00:00:00+00:00\",\"2021-02-01T00:00:00+00:00\",\"2021-02-02T00:00:00+00:00\",\"2021-02-03T00:00:00+00:00\",\"2021-02-04T00:00:00+00:00\",\"2021-02-05T00:00:00+00:00\",\"2021-02-06T00:00:00+00:00\",\"2021-02-07T00:00:00+00:00\",\"2021-02-08T00:00:00+00:00\",\"2021-02-09T00:00:00+00:00\",\"2021-02-10T00:00:00+00:00\",\"2021-02-11T00:00:00+00:00\",\"2021-02-12T00:00:00+00:00\",\"2021-02-13T00:00:00+00:00\",\"2021-02-14T00:00:00+00:00\",\"2021-02-15T00:00:00+00:00\",\"2021-02-16T00:00:00+00:00\",\"2021-02-17T00:00:00+00:00\",\"2021-02-18T00:00:00+00:00\",\"2021-02-19T00:00:00+00:00\",\"2021-02-20T00:00:00+00:00\",\"2021-02-21T00:00:00+00:00\",\"2021-02-22T00:00:00+00:00\",\"2021-02-23T00:00:00+00:00\",\"2021-02-24T00:00:00+00:00\",\"2021-02-25T00:00:00+00:00\",\"2021-02-26T00:00:00+00:00\",\"2021-02-27T00:00:00+00:00\",\"2021-02-28T00:00:00+00:00\",\"2021-03-01T00:00:00+00:00\",\"2021-03-02T00:00:00+00:00\",\"2021-03-03T00:00:00+00:00\",\"2021-03-04T00:00:00+00:00\",\"2021-03-05T00:00:00+00:00\",\"2021-03-06T00:00:00+00:00\",\"2021-03-07T00:00:00+00:00\",\"2021-03-08T00:00:00+00:00\",\"2021-03-09T00:00:00+00:00\",\"2021-03-10T00:00:00+00:00\",\"2021-03-11T00:00:00+00:00\",\"2021-03-12T00:00:00+00:00\",\"2021-03-13T00:00:00+00:00\",\"2021-03-14T00:00:00+00:00\",\"2021-03-15T00:00:00+00:00\",\"2021-03-16T00:00:00+00:00\",\"2021-03-17T00:00:00+00:00\",\"2021-03-18T00:00:00+00:00\",\"2021-03-19T00:00:00+00:00\",\"2021-03-20T00:00:00+00:00\",\"2021-03-21T00:00:00+00:00\",\"2021-03-22T00:00:00+00:00\",\"2021-03-23T00:00:00+00:00\",\"2021-03-24T00:00:00+00:00\",\"2021-03-25T00:00:00+00:00\",\"2021-03-26T00:00:00+00:00\",\"2021-03-27T00:00:00+00:00\",\"2021-03-28T00:00:00+00:00\",\"2021-03-29T00:00:00+00:00\",\"2021-03-30T00:00:00+00:00\",\"2021-03-31T00:00:00+00:00\",\"2021-04-01T00:00:00+00:00\",\"2021-04-02T00:00:00+00:00\",\"2021-04-03T00:00:00+00:00\",\"2021-04-04T00:00:00+00:00\",\"2021-04-05T00:00:00+00:00\",\"2021-04-06T00:00:00+00:00\",\"2021-04-07T00:00:00+00:00\",\"2021-04-08T00:00:00+00:00\",\"2021-04-09T00:00:00+00:00\",\"2021-04-10T00:00:00+00:00\",\"2021-04-11T00:00:00+00:00\",\"2021-04-12T00:00:00+00:00\",\"2021-04-13T00:00:00+00:00\",\"2021-04-14T00:00:00+00:00\",\"2021-04-15T00:00:00+00:00\",\"2021-04-16T00:00:00+00:00\",\"2021-04-17T00:00:00+00:00\",\"2021-04-18T00:00:00+00:00\",\"2021-04-19T00:00:00+00:00\",\"2021-04-20T00:00:00+00:00\",\"2021-04-21T00:00:00+00:00\",\"2021-04-22T00:00:00+00:00\",\"2021-04-23T00:00:00+00:00\",\"2021-04-24T00:00:00+00:00\",\"2021-04-25T00:00:00+00:00\",\"2021-04-26T00:00:00+00:00\",\"2021-04-27T00:00:00+00:00\",\"2021-04-28T00:00:00+00:00\",\"2021-04-29T00:00:00+00:00\",\"2021-04-30T00:00:00+00:00\",\"2021-05-01T00:00:00+00:00\",\"2021-05-02T00:00:00+00:00\",\"2021-05-03T00:00:00+00:00\",\"2021-05-04T00:00:00+00:00\",\"2021-05-05T00:00:00+00:00\",\"2021-05-06T00:00:00+00:00\",\"2021-05-07T00:00:00+00:00\",\"2021-05-08T00:00:00+00:00\",\"2021-05-09T00:00:00+00:00\",\"2021-05-10T00:00:00+00:00\",\"2021-05-11T00:00:00+00:00\",\"2021-05-12T00:00:00+00:00\",\"2021-05-13T00:00:00+00:00\",\"2021-05-14T00:00:00+00:00\",\"2021-05-15T00:00:00+00:00\",\"2021-05-16T00:00:00+00:00\",\"2021-05-17T00:00:00+00:00\",\"2021-05-18T00:00:00+00:00\",\"2021-05-19T00:00:00+00:00\",\"2021-05-20T00:00:00+00:00\",\"2021-05-21T00:00:00+00:00\",\"2021-05-22T00:00:00+00:00\",\"2021-05-23T00:00:00+00:00\",\"2021-05-24T00:00:00+00:00\",\"2021-05-25T00:00:00+00:00\",\"2021-05-26T00:00:00+00:00\",\"2021-05-27T00:00:00+00:00\",\"2021-05-28T00:00:00+00:00\",\"2021-05-29T00:00:00+00:00\",\"2021-05-30T00:00:00+00:00\",\"2021-05-31T00:00:00+00:00\",\"2021-06-01T00:00:00+00:00\",\"2021-06-02T00:00:00+00:00\",\"2021-06-03T00:00:00+00:00\",\"2021-06-04T00:00:00+00:00\",\"2021-06-05T00:00:00+00:00\",\"2021-06-06T00:00:00+00:00\",\"2021-06-07T00:00:00+00:00\",\"2021-06-08T00:00:00+00:00\",\"2021-06-09T00:00:00+00:00\",\"2021-06-10T00:00:00+00:00\",\"2021-06-11T00:00:00+00:00\",\"2021-06-12T00:00:00+00:00\",\"2021-06-13T00:00:00+00:00\",\"2021-06-14T00:00:00+00:00\",\"2021-06-15T00:00:00+00:00\",\"2021-06-16T00:00:00+00:00\",\"2021-06-17T00:00:00+00:00\",\"2021-06-18T00:00:00+00:00\",\"2021-06-19T00:00:00+00:00\",\"2021-06-20T00:00:00+00:00\",\"2021-06-21T00:00:00+00:00\",\"2021-06-22T00:00:00+00:00\",\"2021-06-23T00:00:00+00:00\",\"2021-06-24T00:00:00+00:00\",\"2021-06-25T00:00:00+00:00\",\"2021-06-26T00:00:00+00:00\",\"2021-06-27T00:00:00+00:00\",\"2021-06-28T00:00:00+00:00\",\"2021-06-29T00:00:00+00:00\",\"2021-06-30T00:00:00+00:00\",\"2021-07-01T00:00:00+00:00\",\"2021-07-02T00:00:00+00:00\",\"2021-07-03T00:00:00+00:00\",\"2021-07-04T00:00:00+00:00\",\"2021-07-05T00:00:00+00:00\",\"2021-07-06T00:00:00+00:00\",\"2021-07-07T00:00:00+00:00\",\"2021-07-08T00:00:00+00:00\",\"2021-07-09T00:00:00+00:00\",\"2021-07-10T00:00:00+00:00\",\"2021-07-11T00:00:00+00:00\",\"2021-07-12T00:00:00+00:00\",\"2021-07-13T00:00:00+00:00\",\"2021-07-14T00:00:00+00:00\",\"2021-07-15T00:00:00+00:00\",\"2021-07-16T00:00:00+00:00\",\"2021-07-17T00:00:00+00:00\",\"2021-07-18T00:00:00+00:00\",\"2021-07-19T00:00:00+00:00\",\"2021-07-20T00:00:00+00:00\",\"2021-07-21T00:00:00+00:00\",\"2021-07-22T00:00:00+00:00\",\"2021-07-23T00:00:00+00:00\",\"2021-07-24T00:00:00+00:00\",\"2021-07-25T00:00:00+00:00\",\"2021-07-26T00:00:00+00:00\",\"2021-07-27T00:00:00+00:00\",\"2021-07-28T00:00:00+00:00\",\"2021-07-29T00:00:00+00:00\",\"2021-07-30T00:00:00+00:00\",\"2021-07-31T00:00:00+00:00\",\"2021-08-01T00:00:00+00:00\",\"2021-08-02T00:00:00+00:00\",\"2021-08-03T00:00:00+00:00\",\"2021-08-04T00:00:00+00:00\",\"2021-08-05T00:00:00+00:00\",\"2021-08-06T00:00:00+00:00\",\"2021-08-07T00:00:00+00:00\",\"2021-08-08T00:00:00+00:00\",\"2021-08-09T00:00:00+00:00\",\"2021-08-10T00:00:00+00:00\",\"2021-08-11T00:00:00+00:00\",\"2021-08-12T00:00:00+00:00\",\"2021-08-13T00:00:00+00:00\",\"2021-08-14T00:00:00+00:00\",\"2021-08-15T00:00:00+00:00\",\"2021-08-16T00:00:00+00:00\",\"2021-08-17T00:00:00+00:00\",\"2021-08-18T00:00:00+00:00\",\"2021-08-19T00:00:00+00:00\",\"2021-08-20T00:00:00+00:00\",\"2021-08-21T00:00:00+00:00\",\"2021-08-22T00:00:00+00:00\",\"2021-08-23T00:00:00+00:00\",\"2021-08-24T00:00:00+00:00\",\"2021-08-25T00:00:00+00:00\",\"2021-08-26T00:00:00+00:00\",\"2021-08-27T00:00:00+00:00\",\"2021-08-28T00:00:00+00:00\",\"2021-08-29T00:00:00+00:00\",\"2021-08-30T00:00:00+00:00\",\"2021-08-31T00:00:00+00:00\",\"2021-09-01T00:00:00+00:00\",\"2021-09-02T00:00:00+00:00\",\"2021-09-03T00:00:00+00:00\",\"2021-09-04T00:00:00+00:00\",\"2021-09-05T00:00:00+00:00\",\"2021-09-06T00:00:00+00:00\",\"2021-09-07T00:00:00+00:00\",\"2021-09-08T00:00:00+00:00\",\"2021-09-09T00:00:00+00:00\",\"2021-09-10T00:00:00+00:00\",\"2021-09-11T00:00:00+00:00\",\"2021-09-12T00:00:00+00:00\",\"2021-09-13T00:00:00+00:00\",\"2021-09-14T00:00:00+00:00\",\"2021-09-15T00:00:00+00:00\",\"2021-09-16T00:00:00+00:00\",\"2021-09-17T00:00:00+00:00\",\"2021-09-18T00:00:00+00:00\",\"2021-09-19T00:00:00+00:00\",\"2021-09-20T00:00:00+00:00\",\"2021-09-21T00:00:00+00:00\",\"2021-09-22T00:00:00+00:00\",\"2021-09-23T00:00:00+00:00\",\"2021-09-24T00:00:00+00:00\",\"2021-09-25T00:00:00+00:00\",\"2021-09-26T00:00:00+00:00\",\"2021-09-27T00:00:00+00:00\",\"2021-09-28T00:00:00+00:00\",\"2021-09-29T00:00:00+00:00\",\"2021-09-30T00:00:00+00:00\",\"2021-10-01T00:00:00+00:00\",\"2021-10-02T00:00:00+00:00\",\"2021-10-03T00:00:00+00:00\",\"2021-10-04T00:00:00+00:00\",\"2021-10-05T00:00:00+00:00\",\"2021-10-06T00:00:00+00:00\",\"2021-10-07T00:00:00+00:00\",\"2021-10-08T00:00:00+00:00\",\"2021-10-09T00:00:00+00:00\",\"2021-10-10T00:00:00+00:00\",\"2021-10-11T00:00:00+00:00\",\"2021-10-12T00:00:00+00:00\",\"2021-10-13T00:00:00+00:00\",\"2021-10-14T00:00:00+00:00\",\"2021-10-15T00:00:00+00:00\",\"2021-10-16T00:00:00+00:00\",\"2021-10-17T00:00:00+00:00\",\"2021-10-18T00:00:00+00:00\",\"2021-10-19T00:00:00+00:00\",\"2021-10-20T00:00:00+00:00\",\"2021-10-21T00:00:00+00:00\",\"2021-10-22T00:00:00+00:00\",\"2021-10-23T00:00:00+00:00\",\"2021-10-24T00:00:00+00:00\",\"2021-10-25T00:00:00+00:00\",\"2021-10-26T00:00:00+00:00\",\"2021-10-27T00:00:00+00:00\",\"2021-10-28T00:00:00+00:00\",\"2021-10-29T00:00:00+00:00\",\"2021-10-30T00:00:00+00:00\",\"2021-10-31T00:00:00+00:00\",\"2021-11-01T00:00:00+00:00\",\"2021-11-02T00:00:00+00:00\",\"2021-11-03T00:00:00+00:00\",\"2021-11-04T00:00:00+00:00\",\"2021-11-05T00:00:00+00:00\",\"2021-11-06T00:00:00+00:00\",\"2021-11-07T00:00:00+00:00\",\"2021-11-08T00:00:00+00:00\",\"2021-11-09T00:00:00+00:00\",\"2021-11-10T00:00:00+00:00\",\"2021-11-11T00:00:00+00:00\",\"2021-11-12T00:00:00+00:00\",\"2021-11-13T00:00:00+00:00\",\"2021-11-14T00:00:00+00:00\",\"2021-11-15T00:00:00+00:00\",\"2021-11-16T00:00:00+00:00\",\"2021-11-17T00:00:00+00:00\",\"2021-11-18T00:00:00+00:00\",\"2021-11-19T00:00:00+00:00\",\"2021-11-20T00:00:00+00:00\",\"2021-11-21T00:00:00+00:00\",\"2021-11-22T00:00:00+00:00\",\"2021-11-23T00:00:00+00:00\",\"2021-11-24T00:00:00+00:00\",\"2021-11-25T00:00:00+00:00\",\"2021-11-26T00:00:00+00:00\",\"2021-11-27T00:00:00+00:00\",\"2021-11-28T00:00:00+00:00\",\"2021-11-29T00:00:00+00:00\",\"2021-11-30T00:00:00+00:00\",\"2021-12-01T00:00:00+00:00\",\"2021-12-02T00:00:00+00:00\",\"2021-12-03T00:00:00+00:00\",\"2021-12-04T00:00:00+00:00\",\"2021-12-05T00:00:00+00:00\",\"2021-12-06T00:00:00+00:00\",\"2021-12-07T00:00:00+00:00\",\"2021-12-08T00:00:00+00:00\",\"2021-12-09T00:00:00+00:00\",\"2021-12-10T00:00:00+00:00\",\"2021-12-11T00:00:00+00:00\",\"2021-12-12T00:00:00+00:00\",\"2021-12-13T00:00:00+00:00\",\"2021-12-14T00:00:00+00:00\",\"2021-12-15T00:00:00+00:00\",\"2021-12-16T00:00:00+00:00\",\"2021-12-17T00:00:00+00:00\",\"2021-12-18T00:00:00+00:00\",\"2021-12-19T00:00:00+00:00\",\"2021-12-20T00:00:00+00:00\",\"2021-12-21T00:00:00+00:00\",\"2021-12-22T00:00:00+00:00\",\"2021-12-23T00:00:00+00:00\",\"2021-12-24T00:00:00+00:00\",\"2021-12-25T00:00:00+00:00\",\"2021-12-26T00:00:00+00:00\",\"2021-12-27T00:00:00+00:00\",\"2021-12-28T00:00:00+00:00\",\"2021-12-29T00:00:00+00:00\",\"2021-12-30T00:00:00+00:00\",\"2021-12-31T00:00:00+00:00\",\"2022-01-01T00:00:00+00:00\",\"2022-01-02T00:00:00+00:00\",\"2022-01-03T00:00:00+00:00\",\"2022-01-04T00:00:00+00:00\",\"2022-01-05T00:00:00+00:00\",\"2022-01-06T00:00:00+00:00\",\"2022-01-07T00:00:00+00:00\",\"2022-01-08T00:00:00+00:00\",\"2022-01-09T00:00:00+00:00\",\"2022-01-10T00:00:00+00:00\",\"2022-01-11T00:00:00+00:00\",\"2022-01-12T00:00:00+00:00\",\"2022-01-13T00:00:00+00:00\",\"2022-01-14T00:00:00+00:00\",\"2022-01-15T00:00:00+00:00\",\"2022-01-16T00:00:00+00:00\",\"2022-01-17T00:00:00+00:00\",\"2022-01-18T00:00:00+00:00\",\"2022-01-19T00:00:00+00:00\",\"2022-01-20T00:00:00+00:00\",\"2022-01-21T00:00:00+00:00\",\"2022-01-22T00:00:00+00:00\",\"2022-01-23T00:00:00+00:00\",\"2022-01-24T00:00:00+00:00\",\"2022-01-25T00:00:00+00:00\",\"2022-01-26T00:00:00+00:00\",\"2022-01-27T00:00:00+00:00\",\"2022-01-28T00:00:00+00:00\",\"2022-01-29T00:00:00+00:00\",\"2022-01-30T00:00:00+00:00\",\"2022-01-31T00:00:00+00:00\",\"2022-02-01T00:00:00+00:00\",\"2022-02-02T00:00:00+00:00\",\"2022-02-03T00:00:00+00:00\",\"2022-02-04T00:00:00+00:00\",\"2022-02-05T00:00:00+00:00\",\"2022-02-06T00:00:00+00:00\",\"2022-02-07T00:00:00+00:00\",\"2022-02-08T00:00:00+00:00\",\"2022-02-09T00:00:00+00:00\",\"2022-02-10T00:00:00+00:00\",\"2022-02-11T00:00:00+00:00\",\"2022-02-12T00:00:00+00:00\",\"2022-02-13T00:00:00+00:00\",\"2022-02-14T00:00:00+00:00\",\"2022-02-15T00:00:00+00:00\",\"2022-02-16T00:00:00+00:00\",\"2022-02-17T00:00:00+00:00\",\"2022-02-18T00:00:00+00:00\",\"2022-02-19T00:00:00+00:00\",\"2022-02-20T00:00:00+00:00\",\"2022-02-21T00:00:00+00:00\",\"2022-02-22T00:00:00+00:00\",\"2022-02-23T00:00:00+00:00\",\"2022-02-24T00:00:00+00:00\",\"2022-02-25T00:00:00+00:00\",\"2022-02-26T00:00:00+00:00\",\"2022-02-27T00:00:00+00:00\",\"2022-02-28T00:00:00+00:00\",\"2022-03-01T00:00:00+00:00\",\"2022-03-02T00:00:00+00:00\",\"2022-03-03T00:00:00+00:00\",\"2022-03-04T00:00:00+00:00\",\"2022-03-05T00:00:00+00:00\",\"2022-03-06T00:00:00+00:00\",\"2022-03-07T00:00:00+00:00\",\"2022-03-08T00:00:00+00:00\",\"2022-03-09T00:00:00+00:00\",\"2022-03-10T00:00:00+00:00\",\"2022-03-11T00:00:00+00:00\",\"2022-03-12T00:00:00+00:00\",\"2022-03-13T00:00:00+00:00\",\"2022-03-14T00:00:00+00:00\",\"2022-03-15T00:00:00+00:00\",\"2022-03-16T00:00:00+00:00\",\"2022-03-17T00:00:00+00:00\",\"2022-03-18T00:00:00+00:00\",\"2022-03-19T00:00:00+00:00\",\"2022-03-20T00:00:00+00:00\",\"2022-03-21T00:00:00+00:00\",\"2022-03-22T00:00:00+00:00\",\"2022-03-23T00:00:00+00:00\",\"2022-03-24T00:00:00+00:00\",\"2022-03-25T00:00:00+00:00\",\"2022-03-26T00:00:00+00:00\",\"2022-03-27T00:00:00+00:00\",\"2022-03-28T00:00:00+00:00\",\"2022-03-29T00:00:00+00:00\",\"2022-03-30T00:00:00+00:00\",\"2022-03-31T00:00:00+00:00\",\"2022-04-01T00:00:00+00:00\",\"2022-04-02T00:00:00+00:00\",\"2022-04-03T00:00:00+00:00\",\"2022-04-04T00:00:00+00:00\",\"2022-04-05T00:00:00+00:00\",\"2022-04-06T00:00:00+00:00\",\"2022-04-07T00:00:00+00:00\",\"2022-04-08T00:00:00+00:00\",\"2022-04-09T00:00:00+00:00\",\"2022-04-10T00:00:00+00:00\",\"2022-04-11T00:00:00+00:00\",\"2022-04-12T00:00:00+00:00\",\"2022-04-13T00:00:00+00:00\",\"2022-04-14T00:00:00+00:00\",\"2022-04-15T00:00:00+00:00\",\"2022-04-16T00:00:00+00:00\",\"2022-04-17T00:00:00+00:00\",\"2022-04-18T00:00:00+00:00\",\"2022-04-19T00:00:00+00:00\",\"2022-04-20T00:00:00+00:00\",\"2022-04-21T00:00:00+00:00\",\"2022-04-22T00:00:00+00:00\",\"2022-04-23T00:00:00+00:00\",\"2022-04-24T00:00:00+00:00\",\"2022-04-25T00:00:00+00:00\",\"2022-04-26T00:00:00+00:00\",\"2022-04-27T00:00:00+00:00\",\"2022-04-28T00:00:00+00:00\",\"2022-04-29T00:00:00+00:00\",\"2022-04-30T00:00:00+00:00\",\"2022-05-01T00:00:00+00:00\",\"2022-05-02T00:00:00+00:00\",\"2022-05-03T00:00:00+00:00\",\"2022-05-04T00:00:00+00:00\",\"2022-05-05T00:00:00+00:00\",\"2022-05-06T00:00:00+00:00\",\"2022-05-07T00:00:00+00:00\",\"2022-05-08T00:00:00+00:00\",\"2022-05-09T00:00:00+00:00\",\"2022-05-10T00:00:00+00:00\",\"2022-05-11T00:00:00+00:00\",\"2022-05-12T00:00:00+00:00\",\"2022-05-13T00:00:00+00:00\",\"2022-05-14T00:00:00+00:00\",\"2022-05-15T00:00:00+00:00\",\"2022-05-16T00:00:00+00:00\",\"2022-05-17T00:00:00+00:00\",\"2022-05-18T00:00:00+00:00\",\"2022-05-19T00:00:00+00:00\",\"2022-05-20T00:00:00+00:00\",\"2022-05-21T00:00:00+00:00\",\"2022-05-22T00:00:00+00:00\",\"2022-05-23T00:00:00+00:00\",\"2022-05-24T00:00:00+00:00\",\"2022-05-25T00:00:00+00:00\",\"2022-05-26T00:00:00+00:00\",\"2022-05-27T00:00:00+00:00\",\"2022-05-28T00:00:00+00:00\",\"2022-05-29T00:00:00+00:00\",\"2022-05-30T00:00:00+00:00\",\"2022-05-31T00:00:00+00:00\",\"2022-06-01T00:00:00+00:00\",\"2022-06-02T00:00:00+00:00\",\"2022-06-03T00:00:00+00:00\",\"2022-06-04T00:00:00+00:00\",\"2022-06-05T00:00:00+00:00\",\"2022-06-06T00:00:00+00:00\",\"2022-06-07T00:00:00+00:00\",\"2022-06-08T00:00:00+00:00\",\"2022-06-09T00:00:00+00:00\",\"2022-06-10T00:00:00+00:00\",\"2022-06-11T00:00:00+00:00\",\"2022-06-12T00:00:00+00:00\",\"2022-06-13T00:00:00+00:00\",\"2022-06-14T00:00:00+00:00\",\"2022-06-15T00:00:00+00:00\",\"2022-06-16T00:00:00+00:00\",\"2022-06-17T00:00:00+00:00\",\"2022-06-18T00:00:00+00:00\",\"2022-06-19T00:00:00+00:00\",\"2022-06-20T00:00:00+00:00\",\"2022-06-21T00:00:00+00:00\",\"2022-06-22T00:00:00+00:00\",\"2022-06-23T00:00:00+00:00\",\"2022-06-24T00:00:00+00:00\",\"2022-06-25T00:00:00+00:00\",\"2022-06-26T00:00:00+00:00\",\"2022-06-27T00:00:00+00:00\",\"2022-06-28T00:00:00+00:00\",\"2022-06-29T00:00:00+00:00\",\"2022-06-30T00:00:00+00:00\",\"2022-07-01T00:00:00+00:00\",\"2022-07-02T00:00:00+00:00\",\"2022-07-03T00:00:00+00:00\",\"2022-07-04T00:00:00+00:00\",\"2022-07-05T00:00:00+00:00\",\"2022-07-06T00:00:00+00:00\",\"2022-07-07T00:00:00+00:00\",\"2022-07-08T00:00:00+00:00\",\"2022-07-09T00:00:00+00:00\",\"2022-07-10T00:00:00+00:00\",\"2022-07-11T00:00:00+00:00\",\"2022-07-12T00:00:00+00:00\",\"2022-07-13T00:00:00+00:00\",\"2022-07-14T00:00:00+00:00\",\"2022-07-15T00:00:00+00:00\",\"2022-07-16T00:00:00+00:00\",\"2022-07-17T00:00:00+00:00\",\"2022-07-18T00:00:00+00:00\",\"2022-07-19T00:00:00+00:00\",\"2022-07-20T00:00:00+00:00\",\"2022-07-21T00:00:00+00:00\",\"2022-07-22T00:00:00+00:00\",\"2022-07-23T00:00:00+00:00\",\"2022-07-24T00:00:00+00:00\",\"2022-07-25T00:00:00+00:00\",\"2022-07-26T00:00:00+00:00\",\"2022-07-27T00:00:00+00:00\",\"2022-07-28T00:00:00+00:00\",\"2022-07-29T00:00:00+00:00\",\"2022-07-30T00:00:00+00:00\",\"2022-07-31T00:00:00+00:00\",\"2022-08-01T00:00:00+00:00\",\"2022-08-02T00:00:00+00:00\",\"2022-08-03T00:00:00+00:00\",\"2022-08-04T00:00:00+00:00\",\"2022-08-05T00:00:00+00:00\",\"2022-08-06T00:00:00+00:00\",\"2022-08-07T00:00:00+00:00\",\"2022-08-08T00:00:00+00:00\",\"2022-08-09T00:00:00+00:00\",\"2022-08-10T00:00:00+00:00\",\"2022-08-11T00:00:00+00:00\",\"2022-08-12T00:00:00+00:00\",\"2022-08-13T00:00:00+00:00\",\"2022-08-14T00:00:00+00:00\",\"2022-08-15T00:00:00+00:00\",\"2022-08-16T00:00:00+00:00\",\"2022-08-17T00:00:00+00:00\",\"2022-08-18T00:00:00+00:00\",\"2022-08-19T00:00:00+00:00\",\"2022-08-20T00:00:00+00:00\",\"2022-08-21T00:00:00+00:00\",\"2022-08-22T00:00:00+00:00\",\"2022-08-23T00:00:00+00:00\",\"2022-08-24T00:00:00+00:00\",\"2022-08-25T00:00:00+00:00\",\"2022-08-26T00:00:00+00:00\",\"2022-08-27T00:00:00+00:00\",\"2022-08-28T00:00:00+00:00\",\"2022-08-29T00:00:00+00:00\",\"2022-08-30T00:00:00+00:00\",\"2022-08-31T00:00:00+00:00\",\"2022-09-01T00:00:00+00:00\",\"2022-09-02T00:00:00+00:00\",\"2022-09-03T00:00:00+00:00\",\"2022-09-04T00:00:00+00:00\",\"2022-09-05T00:00:00+00:00\",\"2022-09-06T00:00:00+00:00\",\"2022-09-07T00:00:00+00:00\",\"2022-09-08T00:00:00+00:00\",\"2022-09-09T00:00:00+00:00\",\"2022-09-10T00:00:00+00:00\",\"2022-09-11T00:00:00+00:00\",\"2022-09-12T00:00:00+00:00\",\"2022-09-13T00:00:00+00:00\",\"2022-09-14T00:00:00+00:00\",\"2022-09-15T00:00:00+00:00\",\"2022-09-16T00:00:00+00:00\",\"2022-09-17T00:00:00+00:00\",\"2022-09-18T00:00:00+00:00\",\"2022-09-19T00:00:00+00:00\",\"2022-09-20T00:00:00+00:00\",\"2022-09-21T00:00:00+00:00\",\"2022-09-22T00:00:00+00:00\",\"2022-09-23T00:00:00+00:00\",\"2022-09-24T00:00:00+00:00\",\"2022-09-25T00:00:00+00:00\",\"2022-09-26T00:00:00+00:00\",\"2022-09-27T00:00:00+00:00\",\"2022-09-28T00:00:00+00:00\",\"2022-09-29T00:00:00+00:00\",\"2022-09-30T00:00:00+00:00\",\"2022-10-01T00:00:00+00:00\",\"2022-10-02T00:00:00+00:00\",\"2022-10-03T00:00:00+00:00\",\"2022-10-04T00:00:00+00:00\",\"2022-10-05T00:00:00+00:00\",\"2022-10-06T00:00:00+00:00\",\"2022-10-07T00:00:00+00:00\",\"2022-10-08T00:00:00+00:00\",\"2022-10-09T00:00:00+00:00\",\"2022-10-10T00:00:00+00:00\",\"2022-10-11T00:00:00+00:00\",\"2022-10-12T00:00:00+00:00\",\"2022-10-13T00:00:00+00:00\",\"2022-10-14T00:00:00+00:00\",\"2022-10-15T00:00:00+00:00\",\"2022-10-16T00:00:00+00:00\",\"2022-10-17T00:00:00+00:00\",\"2022-10-18T00:00:00+00:00\",\"2022-10-19T00:00:00+00:00\",\"2022-10-20T00:00:00+00:00\",\"2022-10-21T00:00:00+00:00\",\"2022-10-22T00:00:00+00:00\",\"2022-10-23T00:00:00+00:00\",\"2022-10-24T00:00:00+00:00\",\"2022-10-25T00:00:00+00:00\",\"2022-10-26T00:00:00+00:00\",\"2022-10-27T00:00:00+00:00\",\"2022-10-28T00:00:00+00:00\",\"2022-10-29T00:00:00+00:00\",\"2022-10-30T00:00:00+00:00\",\"2022-10-31T00:00:00+00:00\",\"2022-11-01T00:00:00+00:00\",\"2022-11-02T00:00:00+00:00\",\"2022-11-03T00:00:00+00:00\",\"2022-11-04T00:00:00+00:00\",\"2022-11-05T00:00:00+00:00\",\"2022-11-06T00:00:00+00:00\",\"2022-11-07T00:00:00+00:00\",\"2022-11-08T00:00:00+00:00\"],\"xaxis\":\"x\",\"y\":[20.334469642495435,20.299189404697728,20.336136787075176,20.32842832362396,20.148636782837315,20.051899078193358,20.125672812747354,20.21858332867592,20.24495362548093,20.142008135598566,20.49606298361293,20.710514331146502,20.857722421316872,20.768388883780364,20.936797754272128,21.039026710603448,20.775725647908637,20.560640997936886,20.507228186590897,20.73491352477468,20.727353116195513,20.66854934118776,20.619901417084918,20.775448371374416,20.984670056768984,21.471641299454003,21.494219928907942,21.163225493951575,21.248211815023033,21.366184196561065,20.99314486384065,20.35527595193758,20.592073976993564,20.88941629444301,20.971319251770094,20.969289981083826,21.05382281441237,21.23505725016448,21.015144825888086,21.09413407753882,21.075629367679017,21.056204760792706,20.854143646944156,20.829584378496826,21.05673377749897,20.926049057162842,20.76223908409027,20.63281475995824,20.551783322774696,20.849996485607747,20.67000204396965,20.311720254537402,21.02474939462273,20.91168783976265,20.925781362706374,21.002678593934142,21.09980203894024,21.622846896866555,22.056977865047898,22.26240250019358,22.58362520106698,22.87938863708392,22.871130193626943,23.074281021734432,23.366602173700525,23.278259013600877,23.15809299870899,22.974243392356296,22.929868278008115,23.399697972776433,23.863281508506716,23.812989135616093,23.52937049560191,22.905378513271167,22.69548344941923,22.76143206930048,22.983793322653455,22.705118531271307,22.7379661420936,23.24746955942647,23.113684704754323,23.554490518000605,23.807500921566003,23.90532932449969,23.87853374032416,23.965384510537426,23.900000555915057,23.60416343105234,23.991912429043595,23.960127038773727,24.043445695487865,24.471004115394045,24.607071520127132,24.571149303466775,24.85232757280622,24.699095101574798,24.441329198571736,24.539388263698434,24.795925336859483,24.788172592518443,24.359192488726045,24.667902036298607,24.118643529573202,24.186007681096868,23.952764976848684,23.952764976848684,23.611578351396332,22.85212214643333,22.695297821311655,22.815885061827434,22.758581170965698,22.999558034997204,22.945246916615638,22.621381685545437,22.088879850696564,22.237228247104056,22.738373010436106,23.061981066462845,23.065263261949156,23.132627170775777,22.93991063507068,22.60037743082004,22.479157481866153,22.554796959662447,22.219941322472557,22.41655647379681,22.22602924268069,22.167305899201505,22.570033958672077,23.090937642376687,23.231403324315437,23.373427332603747,23.445178258780054,23.510467003655265,23.5783350470369,23.329313368575132,23.049854696761308,22.669550640269655,22.50977980347355,22.846634514404542,22.891010088537666,22.880702901052487,23.116727151419525,22.826832311713076,22.492456121151783,22.544064004896992,22.545327326227206,22.428917606864964,22.360285033685834,22.500031098629147,22.748281753127685,22.251818054030338,21.64442356431191,21.751325768083916,21.64514533812014,21.602700310367506,21.27508537834317,21.0864709633382,20.500534996815077,20.30434409720714,19.907459316863907,19.907459316863907,19.908937283822237,20.116864948265366,20.763716135160813,20.793950956090846,21.072776849122032,20.43617217521747,20.48735771450907,20.528067108382086,20.221093073047026,18.753698671857123,18.879814209221223,18.798599483409873,18.84368409725714,18.806432112597737,18.631027765059784,18.401990102927247,18.899376270414535,18.996487595274147,19.051710948876057,19.170061137379935,19.363413139945006,19.209147920204206,19.143685601655335,19.084939322066585,19.28500429728488,19.2120885294371,18.91671790370417,19.24477930456092,19.31399722606035,19.12233419146412,19.37712516269805,19.13864711396034,19.574205599105056,19.598716441375185,19.96166371039645,19.90959717095404,20.21563221963114,20.461606560185032,20.456430567903872,20.462046081146788,20.48730941416592,20.42582262185544,20.123990035622107,19.639724513720445,19.036295178576434,18.581322773838572,18.19940151746975,18.166186713915057,18.141635029398206,17.91699491699472,17.690509658072664,18.019933781213403,18.147101829527745,18.261785306806043,18.445373680951292,18.281268688273087,18.125452038889623,18.302459594488774,18.601946110488644,18.576500769388282,18.760812891238498,18.782747151393387,18.845258758131322,18.606283328918295,18.96030171670693,19.131130413481976,19.222173219492646,19.177207887364567,19.117555268965813,19.379681799650704,19.256804735399236,19.310429159936838,19.714338687348622,19.774392059073897,19.743620546900907,19.498582264189636,19.314384889997438,19.321253735969023,19.3763174882311,20.013232123546576,21.00143733344675,21.00143733344675,21.341476693485983,21.429985026005305,21.43339435259344,21.895155141881983,21.30714839594834,21.676608279670194,21.732053435544852,21.834737807804427,22.00427009193553,21.807531433619975,22.21670720471156,21.913993534087407,21.88232422123775,21.996165671238742,21.873493677049805,21.878061520674553,21.72048675306122,21.801297337648773,21.923673552626187,21.96599052177335,22.110531488379735,22.158356282721158,21.824595889042662,21.742289345841503,22.041241092385498,21.882738318801653,21.107200509428203,21.18184592085455,21.18184592085455,20.93822365164204,20.60214473821038,20.383259615201666,20.445779827257038,20.59237515440031,20.67568477936501,20.587075295613634,20.510321883118433,20.433052253741057,20.55776455067999,20.40294636479072,19.661425096719864,19.65008652389686,19.572683867833575,19.66711692464753,19.625071276543316,20.00105323373489,20.35785060810249,20.114798527872303,20.309184859211115,20.393163818628235,20.393163818628235,19.922071526018126,19.839350377006415,19.72099540481913,19.376244113178863,19.374629144771017,19.379272061175158,19.409165070029722,19.198833498686785,19.181138308297463,19.116602203684852,19.120299464596613,19.139584599429437,19.059022760848187,18.835793890540884,18.2269222743612,18.223653589159184,18.039759866971373,18.25969207507885,18.104102365670304,17.972082875115625,17.356833925441116,17.356833925441116,17.336569749469312,17.216361350433473,17.44215841340835,17.47739198817351,17.47739198817351,17.47739198817351,17.336081746741815,17.06282665120977,17.02976674368879,16.97274572366738,16.921535666927177,16.97137809896132,16.91171538881331,16.952935257106084,17.419996361271693,17.859940436790488,17.889426300586564,17.831659612712023,17.852145252721343,17.62184285876225,18.048898011986083,17.840128816585366,17.91581751620164,17.76674842762698,17.99346171877232,17.877995145476035,17.784278109756514,17.882420149387013,18.030962561615716,17.77098294512498,17.67012275734445,17.547192750564044,17.447206333823285,17.130887797716543,16.92972154344867,17.401960291686546,17.462187934431704,16.82187691090389,16.388895535320547,16.29663003306372,15.91955280387456,15.888300726054627,15.368956837299642,14.708077449280378,14.955327194611456,15.275428987775497,15.528328338615127,15.339444890212238,14.621207728565588,14.79120979487032,15.379547493289913,15.043211566010228,15.105809125031433,15.196169223133026,15.444550389750834,15.007220988871971,14.854494047317313,14.546858494136572,14.433522329515935,14.499698337779531,14.59185462235082,13.998356451555537,14.223204279541314,13.980845215870573,14.673117723384511,14.803241869543804,14.787064641561942,14.805604453851707,14.43701609226098,14.579626378734666,15.183210928578838,15.339317582350809,15.299056339708518,15.26038763166837,15.08913859594545,14.64923053148568,14.747104865658024,14.790013039495697,14.473693313125647,13.996246201387642,14.267925000094618,14.187877074255862,13.841880275039454,13.092240890676244,12.969706189166153,12.591598396347425,12.325742992911426,12.44153078193866,12.352280353385293,13.03656549780914,13.317588940886393,13.57401166353418,14.44589826721787,14.52239941994089,14.677906091467396,14.643841420322556,14.084564409216638,13.61787064523028,13.250000214593992,13.146863235648665,13.238664629009268,13.29966225610586,13.403155435412128,13.520117214236805,13.58837624964291,13.324511893439528,13.683705242411515,13.649561592641724,13.80532180714864,13.687839560831328,13.910781834504293,13.910781834504293,14.183444502738517,14.394532867779652,14.231688679755194,14.03719310642555,14.037546694227366,13.959522151357584,14.192393831332684,14.744241502015122,15.054621683200352,14.663905054092407,14.200822956527448,14.016114938572489,14.085151013346376,14.535696022919598,14.783689345054496,14.124823010982613,14.447310837812122,14.388972647876951,14.224244052309999,13.884464907743865,13.73413682247422,13.531585500665866,13.63542644612592,14.33015761787435,14.41481875351267,14.41481875351267,14.532550195215133,14.292061054964966,14.443272222177939,14.270896796834155,14.418216777182668,14.454682318156674,14.677506717392475,14.195271932757713,14.231107163621282,14.028874556136351,14.250001764390174,13.744810531815954,14.101461118669679,14.356449233868318,14.39040419659774,14.300203674677103,13.947436604830443,13.971331472133697,13.711748291037896,13.749153474094665,13.828812505727095,14.742216811351438,14.524899535963787,14.036419343942752,13.855139121126282,13.714491489461356,13.843702850467032,13.343082430210096,13.794306819119573,14.254845330285981,14.580826876026975,14.59333635927611,14.234999451953566,14.615540343127286,14.771881831724244,15.020049470817497,14.914425965417411,15.377842866719305,15.525715616480905,15.46702166473397,15.392373715323448,15.5439600101841,15.5439600101841,15.737633052813905,15.245552235122982,15.938406421302332,16.08703392019455,16.31796348486192,16.415128327881234,16.561716993497132,16.76283089022985,16.79646866648752,16.73903486199535,16.402647721530062,16.402647721530062,16.402647721530062,16.31459788094436,16.017367014923888,15.89399164056493,15.74426112402847,15.768088603810115,15.787852898781551,15.87645588253852,15.935816140238114,15.811456861710148,16.041455690850825,15.763457196989727,15.279294839899826,15.299475081128433,15.27317320629491,15.47102597883705,15.47102597883705,15.494949913386646,15.365479710382669,15.394636969387875,15.499309758782731,15.700491293145259,15.46559838072632,15.393628443109009,15.568014638735095,15.477082721206802,15.25970476385603,15.167241582806845,15.319055294459115,15.232533873862476,15.21505816638886,15.410237853888887,15.423542152347224,15.372770152578298,15.26883243886521,15.308097923616359,15.46919127557722,15.041178335181149,15.012423726022806,14.817522450531563,14.594063700678905,14.483561562606972,14.463684359859496,14.142177989618698,13.93895077710907,13.8147583736141,13.81375891498553,13.727570903103814,13.927033621189167,14.27772058239345,14.55834168713781,14.516181620018664,14.76363314694975,15.053861536872336,15.282428379873302,15.321174565261387,15.53997588166176,16.177874449640008,16.26133136511305,15.486073781834087,15.189193273439617,14.912476405603403,14.848096693917201,14.796797518956083,14.381048469053702,14.270066962898099,14.239830675555588,14.339495848246697,14.108677685900073,14.228867343226725,14.393438423455995,14.34285747157169,13.953570892092483,13.862883622201515,13.378124053823747,13.476769645715315,13.645107795633947,13.944924590065643,14.783277569948904,15.013401251003543,14.873289030403258,14.733424938943273,14.792484285798402,14.773077192645424,14.894420236760308,14.807840263089588,14.946588716056297,14.692287058529185,14.599629509339017,14.557293022756834,14.529306484369364,14.735154168121056,14.454268239969824,14.544801011950526,14.511127380396216,14.591603066940163,14.734840891024348,14.667141737455847,14.667141737455847,14.667141737455847,14.755048592872221,14.861192108244769,14.896299200669993,14.721319209965733,14.662654888776604,14.175819026595104,14.340387239869079,14.39271436645122,14.078221238490451,13.576046367141693,14.063494896046969,14.292102716334142,13.829305941051473,13.98477070691353,13.803714339790085,13.83065472622318,13.336473540345528,13.605194505454786,13.637979353679697,13.595212751376916,13.544392129835092,13.544392129835092,13.625408698198038,13.569716689312262,13.67196097618677,13.718487717048088,13.990217514097125,14.08044418364085,13.99630175992872,14.28326624393106,14.063689761961351,12.994389311561672,12.786177527298936,12.786177527298936,12.718455573659316,12.550527456257953,12.001801012772795,12.478110275086141,12.347262813837867,12.481259471334205,12.497475040154328,12.70012581116331,12.82727180877663,13.113599661672893,13.339810811753882,13.325715865225906,13.413416605658846,13.181883298166785,12.621188737438338,12.581177453959548,12.317034846532282,12.400862303172456,12.372321070908665,12.216477554249284,11.68936782578931,11.712160884119683,11.783820531842304,12.37627637740455,12.538484428610431,11.833294193193233,11.833294193193233,11.833294193193233,11.653743613664602,11.452895911428973,11.746831209946818,11.67312955824016,11.638260760316221,11.94889064922624,12.296919698006237,12.202834618830693,12.012921349767458,11.792209303448953,11.61699217484009,11.719530797396072,11.744657831497452,11.83101495914256,12.007189125393491,12.007189125393491,11.984582896337725,12.094083081619655,12.547003105749566,12.515453250747433,12.640759490511044,12.462216049812236,12.432047526434985,12.359133700750302,12.84954360681947,12.963776324887121,12.988098532912673,13.439573226379942,12.938578645843556,12.779380435157051,12.919389280567128,12.512919085948603,12.272954911762524,12.165974151972293,12.068513003076697,12.168684398253848,12.93055029240553,13.536892845866099,13.179370870151686,12.71770258904521,12.754445957821602,12.98312325642037,13.110712394106617,12.94430838613061,12.98089989043627,12.907103245268225,12.69251384123471,12.844258277212116,12.710924187761075,12.745275114519394,12.600619989391525,12.224256029703584,12.675460647213853,12.68237859217538,12.699766243230858,12.849048102667204,12.862400333479451,13.011930880431644,12.975560614329783,12.727360284359811,12.878288814924122,12.875810771421548,12.833202381873775,13.21337692146194,13.452013567169008,13.355781008444678,13.39326758190651,13.726802849933172,13.911221554704433,14.117884287604854,14.230764267496788,14.114190853366892,14.324033735596409,14.477190427032149,14.449123058692326,14.495253860536806,14.556243202078312,14.556243202078312,14.380202222668647,14.307901489448827,14.208342222295922,13.87461755779702,13.98240578137868,13.942142087417665,13.803528661710263,13.889129122349475,13.969115518920638,13.592155102608938,13.594204764915174,13.093107751721366,13.379329767612669,13.522291465302905,13.323378914427696,13.170570942692517,13.264439337469568,13.517433696913272,13.596338934473184,13.952109484770547,13.721824512105973,13.990484908576173,14.505809138098446,14.688788389151352,14.283716571893713,14.288081872358017,14.312762126188417,14.179348982497132,13.959406368073402,13.496764890593882,13.24753633075173,12.870334002682338,12.871375151367426,13.101443817224734,13.431905852317282,13.350711831344686,13.535817797337435,14.084224940706601,14.810430242251904,14.99236849160357,14.708423797377712,14.71698612855976,14.521144405041797,14.197856195499647,13.986953601628095,13.65327855056664,13.657587724685971,14.064002893976223,13.95692366753547,14.031618176127193,13.896289637809666,14.14539887230768,14.376068615480108,14.400124072752064,14.262107782001344,14.37416894984278,14.749123133534049,14.631322121466294,14.601207886391476,14.56641833474055,14.694840793829611,14.730242433165163,14.684815239937832,14.556457711446914,14.937016766607991,15.240015760116709,17.10601680000776,17.18015189848836,17.12774286165777,16.894693721429334,17.149656558352632,16.599119474387834,16.745734545720236,16.83332492460139,16.92629511608592,16.8580529567693,17.359472806113608,17.67675753888782,17.16947230589132,17.514156773816158,17.689680297527467,17.83699761959774,17.88772695137506,17.507839534151493,16.985411559797203,16.79501782148631,16.531675833861392,16.213934363245876,16.213934363245876,16.303140451614606,16.756751168310814,16.592560578850325,15.970570052485433,15.691403945547954,15.863758219867364,15.863758219867364,15.764336255377343,15.982504165210475,16.160610256061013,15.810981651623223,15.950120811049029,15.951954275428637,15.654941520661737,15.638660593796327,16.015231275547848,15.856355087492013,15.70888476275476,15.13599354261106,14.956796133435724,14.756343923726556,14.118578923423897,13.933013911564473,13.953316247212522,13.547282991828213,13.31219998829627,13.596285065041647,12.896217058396386,13.10288991330979,12.853664215225047,12.629724382050679,12.726312445717202,12.687001436875356,12.695621235060784,12.695621235060784,12.249571261823222,12.090402981273996,12.248239270518013,11.83967541896953,11.736390970145782,11.176685931931685,10.633104557811235,10.84471044632853,10.66207752074324,10.919566737742237,10.855867755341531,10.52525305186267,10.737009391199436,11.065509334809875,11.06178199159591,10.936534691040611,11.08370525942204,11.101633956988465,11.029414254328064,11.042760222614255,11.042760222614255,11.304123907889597,11.587633713309465,11.476662873304445,11.356772790809577,11.188428698280205,11.204027745052624,11.337027086900498,11.688845535860537,11.479165680533798,11.689933817738506,11.357980911037103,10.790680081774195,10.51413048236316,10.633067302983633,10.633067302983633,10.632432254494994,10.178112950811213,10.221376327001108,10.434029137407919,10.253940682550166,10.509011170589844,10.677591552291844,10.875856231599613,10.787147512467786,10.943912315270277,11.174842865358304,10.646813659180232,10.572567676657263,10.662820476254552,10.901806646846124,11.327240917900117,10.886870477189191,11.262875845916431,11.789136833848346,12.027451386963595,11.95904562745782,11.736161024886616,11.575075475091534,11.195181277498744,11.18438725914508,11.395602346568978,11.262817142532633,10.988861353924051,10.789351428901494,10.626133577478857,10.34943492396554,10.175528236564668,10.105554124737948,10.528540928002394,10.700979588042458,10.641661654495271,10.542873106944374,10.614954803542398,10.834616998238044,10.905821370619595,10.850578036889203,10.514857934547361,10.6025987559216,10.641007467595088,11.539803596048959,11.68941455005459,12.160289755199782,12.244998093677474,12.317701950023263,12.437298011418974,12.7130288654556,13.107658237712826,13.469049793213351,14.923256894278957,14.971989281593823,14.883799129255614,14.355793145049912,14.619528784293689,14.662080375843246,14.16730730998388,13.64751853626618,13.723554268885497,13.61990101238979,13.63187491505482,13.63187491505482,13.66721137688629,13.15397423608269,13.214152228198262,13.49923702353375,14.027001364309456,14.159167994781917,14.522678116141163,14.81313966454505,14.919094359107433,15.20568910984803,15.229839763201714,14.839575531947746,15.10177693522552,15.397216567947037,16.335746887444856,16.50463396736448,15.808562848570418,15.886623035735559,15.724620392820675,16.24740209853808,15.989594810474284,15.432261658815062,15.572327258506391,15.598225776227626,15.681134032901012,15.550327935995668,15.702436637169237,16.189700992483314,16.573042811693895,16.557783353869127,16.80183966540978,16.769526614225107,16.769526614225107,16.405692259024086,15.655972920265949,15.522109791092964,15.443321014177759,15.937963674700795,15.98998776447138,15.979433708906242,15.838069012200751,15.774973905594102,15.8256772376822,15.987737341695096,16.23276005560419,16.112746561386015,16.158667800194127,16.226615102182773,16.05189983445907,15.816674079438853,15.441277803422837,15.216753477628785,15.285786090214426,15.285786090214426,15.251784601441475,15.091789295727143,15.384798296329215,15.056655037904854,15.180435600835661,15.198182763212632,15.526719846004555,15.280469645250694,14.804641540287022,14.667469965031854,14.719380640838597,14.85106740171991,14.841430814699198,14.788771665054213,15.27153696814867,15.459874230875958,15.499428441248586,15.335217073391739,15.184427828644754,15.10101157201651,15.100118765895076,15.126185626337163,14.698388915354311,14.131180822368549,14.23561229516832,14.413148352372552,14.413148352372552,14.573483676928035,14.595243895698529,14.595243895698529,14.520580838122775,14.403900858036822,14.906942979678162,15.045660766799497,14.883497636407682,14.981897386711541,15.107372480803116,15.073442457995956,15.162818015968638,15.061063381239649,15.061063381239649,14.752081166568566,14.775572727708862,14.912566247041337,15.13547895416898,15.017370699218958,14.646450016812862,14.260027144204823,14.24240027902226,13.96354217303939,13.818076179543514,13.517372594641097,13.465692191853629,13.465992196748221,13.341078540047313,13.627343321994424,13.79775875010003,13.892046808409297,14.102086880809605,14.711578134135973,14.35805737565703,14.618421798675406,14.492702053028971,14.701957824195455,14.361716090017463,13.98527845866937,14.236248419425479,14.064895726176797,14.059326773738444,14.035579347066962,14.061542913341807,14.073747579818473,14.165668095743156,14.117288428051932,13.785914516667086,13.785914516667086,13.788134131961804,13.658333092086327,13.561494619284954,13.423173538886623,13.775644149124243,14.432004864603009,14.393944127145208,14.274639784445963,14.220420392024957,14.168304470963623,13.953002631135746,13.751224931985595,14.049730998663712,14.090877072195894,14.258084335079669,14.101922748890505,14.078324128830587,14.05712367821872,14.345902918553687,14.617904714379382,14.527424023589909,14.585711138346436,14.754316678597279,14.39048325836616,14.109125862253325,14.256751432030379,14.011377228616539,14.111188711221523,14.203045744350096,14.082299960956268,14.099735838613391,14.099735838613391,13.64475490395436,13.233930785343716,13.167478932766642,13.44529980692859,13.318052520160473,13.267481593775997,13.389003812092625,13.488726098389115,13.724002041361194,13.683715899198301,13.51966822931605,12.734286251188177,12.610031471619031,12.596907123408464,12.259060429826295,12.204509815362607,12.021219220246081,12.150886567795727,12.028347533810857,11.990623337718231,11.721068517113874,11.935426564882423,11.623170726184306,11.611790031002567,11.208761235147557,11.377444369635882,11.64376280346322,11.684063869510574,10.897530264327958,10.620756071787474,10.775894278687815,11.004862571376538,11.68218038765534,11.873235002907357,11.813135627022554,11.61097151817836,11.109210605059584,11.350976188069218,11.350976188069218,11.166995221351383,11.260831822146411,11.033461527529308,11.120200680301595,11.308362774295722,11.152002916804982,11.093199520037356,10.998306039208416,10.737691380167647,10.766086323139934,10.773726728143561,10.893435173211131,10.821890438725923,10.738158926689811,10.702526456583916,10.565261473649112,10.794284698071976,10.707048168887567,10.234605820686248,10.248380397953017,10.400107841744077,10.804602432190835,10.82433023181526,10.764214063225497,11.178099445021195,11.746330490341595,11.80430999035087,11.94548227562331,12.074109027832879,12.074109027832879,12.126425390981588,11.83369624128865,11.441917232041444,11.438883065108318,11.170500829088216,12.332077088195238,12.254715455495301,11.959526560163214,12.775530326641139,12.959199922964949,12.43281204209794,12.570906335725462,12.570239632870583,12.40194707699307,12.709903579038361,12.26764647510754,11.764718052450785,11.764718052450785,11.283463148667572,10.819530694830327,10.673593996285536,10.546189677779827,10.64547313901909,10.67791862472598,10.737038411787614,10.607319554372419,10.762141532043735,10.762141532043735,10.762141532043735,10.863439122981022,10.860009496416678,11.173592989179904,11.413194998551713,11.5859327634952,11.60109632122721,11.554096930015966,11.552946917418993,11.492821377824836,11.402187663284735,11.502760010347512,11.357803085789818,11.726035236313948,12.283905265799898,12.185315810241072,12.685719873160295,12.609111450023992,12.662996229433187,12.829286584457812,13.101249979015162,13.285694158040284,13.700216604494964,13.732737628072345,13.85661051342395,13.813189143462367,13.348040560012752,13.406643469014433,13.145472382798062,13.674421549740634,14.699161406658035,14.461544721591846,14.660208915554884,14.699021839233328,14.577341561798374,14.65567049344909,14.669604175627104,15.172824503480985,15.238555979146962,15.183435932943045,14.706352166400304,14.571261073339459,14.518116022231474,14.597962369341877,14.588159788221077,14.658586865547463,14.856624283790643,14.634793417968606,14.25986650910065,14.329753263065514,14.374386742725376,14.12008652577259,14.28059181399679,14.23067416271313,13.843386970104499,13.992644124752074,13.577416917982399,13.70767967019062,13.471105835947306,13.475427567542653,13.618277590744077,13.738157183158407,13.646716435794627,13.641418629042024,13.491144431524216,13.876877808634092,13.955373153727301,14.047183571146782,14.351649975842085,14.359293360856885,14.728806610815038,14.837249979808686,15.167306106183553,15.167306106183553,15.01911473086881,15.271538195192601,15.022248485658608,14.910706524859663,14.758107132323595,14.678874740609205,14.756389515160805,14.960483100257193,14.858258879753183,14.787228954587972,14.609083679097967,14.141422698726046,14.214140727825143,14.268690413444386,14.559200651293436,14.62574487763768,14.419693575832149,14.462863906928437,14.53636208195861,14.815592308588489,14.916442387062379,14.980969209774031,14.992954274056181,14.877548145681295,14.907069182835686,15.104067739936244,15.03392846334124,15.087534611482202,15.230330268976733,14.913157816815858,14.636705735275047,14.315455383643872,14.046989995808357,13.884161173616661,14.16893300979365,14.139277074666357,14.38547314758356,14.217999595303699,14.16597685673544,13.852187664478134,14.243438933038345,14.384098808122525,14.478206994006948,14.574475223062699,14.596012893311027,14.489076940034717,14.511107116996858,14.797098985033564,14.852725035762738,14.894834100393094,14.640486351428294,14.655905221860976,14.520188218864583,14.52942246385951,14.240486297032785,14.514083590893968,14.488126497421838,14.327251576715906,14.344973712922581,14.274539667769414,13.646498609788793,13.071675669094773,12.534945507374061,12.55907582399911,11.422017676636331,11.308337820474579,11.094859277169755,11.827517454549774,11.29683209498098,11.622038369366706,10.75267000644522,10.762207832108551,10.831314837779015,9.663841329874145,9.734829722193062,9.511375892960338,7.39771133675684,6.889230438885585,6.889230438885585,6.880413630172333,5.9709152575097235,4.564086086752361,3.9487612512384196,2.9906838841376793,3.5023975291540665,3.58355061682627,3.8782106947557793,0.8253567378653459,0.7420260178524041,2.2942283818474296,2.7697998652369993,3.4241625737355896,3.249196910673513,3.054241003903835,2.121864875706536,3.1138850791935235,2.5078327771400843,2.5078327771400843,2.092073878666878,2.0733450427955935,2.0733450427955935,2.2078159187046698,4.379584139229631,4.792625491066582,5.94473856020179,5.94473856020179,5.8078311766565305,5.908669632268504,5.772954907122174,5.70076759644258,6.036482190135173,6.136145063756371,7.015758761407986,6.934845722528182,6.986973540347674,6.968975870186389,6.052285080621478,5.672627393719698,6.154383586264189,6.091022633353549,5.695009223705627,5.549900032862309,6.000108011183669,6.2138526767264946,6.188213912943263,6.999773600896897,6.999773600896897,6.999773600896897,7.111367213643538,5.721927114204051,5.717946240377114,6.07506464674854,6.117235737882498,6.100574192527652,6.077910817992294,5.922042220694634,6.429564671145793,6.942872678205125,6.99357231701081,6.659304760418205,6.668741397406919,6.507338087758319,6.341764734092736,6.093013759011701,6.48870930066292,6.776720894763311,7.486771236037604,7.304848034900302,7.386927874335192,7.481092178656068,7.182634036797708,7.145262373981809,7.879196926958021,8.165719480688093,8.398295074724981,8.172224587482324,8.034811641177475,8.354837470609278,8.82306295648334,8.80097011223262,8.854681644663987,9.076102180998792,8.969361801070953,8.869595594750246,9.191755563400505,9.062414887996573,9.50902480266944,9.216999350257925,8.750566945683257,8.715352809297361,8.630611865536553,8.497057184829337,8.622205181369601,8.698970808470818,9.016952857384064,9.169498769592078,8.958015797990516,8.954430978893235,9.452669875887798,10.149910544651085,10.330278315650808,10.152308267445376,10.321549788342189,10.321549788342189,10.456932724207778,9.71528485311941,9.688713703284545,10.162514258127175,10.727864418958589,10.854919026433429,10.88211003214492,10.707326104490345,10.914691612428328,11.679529151895363,11.485283710280836,11.673906664605415,11.638651370516385,11.538590506035584,11.432972224102045,11.263909375205294,10.88223954447296,11.108791365222404,11.274501401599778,11.46283578923606,11.448480379668569,11.275415424781432,11.503576241611114,11.76081889916263,11.609570683390835,11.74190054630493,11.662490834289807,11.632567509957713,11.77265761200379,11.610536760804857,12.204467624082183,11.794938552327894,11.796169486719421,12.094119198345442,12.15402381519366,12.190339597874544,12.496954538291671,12.815428619614956,12.514521924206568,12.8021996721724,13.061649881301275,13.194009328796707,13.406272326403212,14.04782262574573,14.260945894929167,13.63000022541987,13.991216302483945,13.717599817036131,13.397168158408235,13.397168158408235,13.547180687696581,13.95577324677635,14.406981270531949,14.231433159031305,14.6873115965787,14.69982671705219,14.245651642488365,14.40827575433461,14.196417264322303,14.726250657588235,15.099148945091345,14.940278134149354,14.896787899207165,14.748851731242052,13.972957378499151,13.75852686209127,14.38898018799286,14.672874263963465,13.72569579339753,13.544843737242385,13.823074877260332,13.17290959081092,12.748530516995672,12.11315671891735,12.51594305879613,12.341812160937504,12.150294477147261,12.352397083247336,13.016794275358222,13.312537153178173,13.413022698959786,13.232453794870924,13.368713565759638,13.32501674023192,13.35694240578218,12.252730603523098,12.523045921481746,13.133308152061506,12.099151612390568,12.644004156971022,12.562054918452748,12.660084043462948,13.337448122083462,13.40092070128338,13.402080507795855,13.457380975178612,13.457380975178612,13.457380975178612,13.515053390629216,13.590208983197805,13.653585340746034,13.289734377086027,13.663507694943045,13.778512662518638,13.568600765983053,13.57976811456072,13.64761460700381,13.93613249552903,14.018533947112143,13.355749378252169,13.390141740830952,13.440146132435071,13.540917447868583,13.318026658173011,13.001307939652062,13.068821789605778,13.152504409263898,13.27212826251638,13.418660748094702,13.395316829417037,13.175884616443522,12.947039211512635,12.494140203526971,11.741470616782724,12.115056435606597,12.058246979449528,11.963444909135678,11.759834142037873,12.056563115998253,12.24236366993563,13.169130210053481,13.56993501220467,13.6973901450407,13.704587756111808,13.823153869484518,13.354372691020489,13.694073604337209,14.14430776394411,14.136291132816158,14.200701684715566,14.359074863845024,14.450889200095741,14.642775478351622,14.387329662188787,14.133310475465443,14.438698994389876,14.228467292431679,14.122306039135356,14.423638246929539,14.644694066693798,14.2977484022762,14.5134613440153,14.72329321649568,14.625050839221565,14.685029754861944,14.795726354616367,14.890883957551049,15.15323468721521,15.27654069397646,15.391452975879183,15.431754778179684,15.495200110262752,15.35784154044011,14.898252442830696,15.215322016139353,15.101787630032515,15.19928344999919,15.287767319095114,15.277669030091822,15.206729552426989,15.04021902431083,14.988331429300207,15.112724333797779,15.079199547362032,14.881717902174119,14.977966865735514,14.23739278426568,14.630756210416651,15.015419660579798,15.155661336609572,15.155661336609572,15.155661336609572,15.29237853403249,15.340336862478443,15.535099075907599,15.779814129161318,15.573280859775917,15.630125110819959,15.816195342029516,15.694107758762165,15.751824612192777,15.40259812045317,15.12336184772758,14.97277074020853,15.381177386087419,15.370926257992945,15.270657592106751,15.593178536323848,15.34462505880465,15.351789871491928,15.5991128782349,15.241334132840901,15.320805426980488,15.20175868999576,14.972850760120027,14.998668942081327,15.313324842838538,15.485353980031924,15.272617798888755,15.068071285817354,15.020198470289593,15.09953317943522,15.131775415947368,15.099602898608877,14.792248940265985,14.63790181691149,14.798653803295437,14.962953689451064,15.327317149815055,16.58808478298326,17.595960193619376,18.323996082120342,18.327674946037178,19.043070643748816,18.646312779592634,18.798920576293398,19.102119419176965,18.862595008370132,19.112882286102682,19.158105347864197,18.875277303000203,18.875277303000203,18.980120165598425,18.825786340277606,18.890805331739614,18.966209254301013,18.623105782149718,18.594765823866766,18.61564527200126,18.16102686965777,17.859304849548074,17.86007882927119,17.909664625363277,16.94482143394429,16.828919015539824,17.068937683325203,17.73649704190381,18.728559485781204,18.629265607902923,18.39219921050144,18.084274779481913,18.04574437378723,18.183228684269004,18.397307717726854,18.0010108032818,18.217282811906422,18.217282811906422,18.46629215660083,18.388828967558357,18.630916085854675,18.318118762690272,18.9509002168208,19.17141074641289,19.213399882038917,19.38778969513304,19.684062458798458,19.756759132348932,19.940662808650835,20.684238485433593,20.259231633014842,19.48023021823433,19.587979773584774,19.387940723391473,19.819839559060036,19.49528872147588,20.117559246325524,19.991276982730554,20.45557161485776,20.45557161485776,20.535069472761492,20.572717076294246,20.109629708432596,20.32449439180011,20.642837358151468,20.867881812320444,21.131315368754034,21.071834792082743,20.968109826909288,20.14554262606452,20.049143469734922,19.950577440082107,19.91467413792545,20.374409797983617,20.283924561457777,20.205330633614405,20.036638626583535,19.706295755843996,19.826840074773887,19.902658745737245,19.79988523885452,19.629058844763,19.958856308844307,20.39071622541162,20.229917550434863,20.2186995160325,20.338661929422575,20.315357289671574,20.57251071879982,20.57251071879982,20.72429490927592,20.67053974800541,20.576237872957815,20.767247555381687,21.05168421896211,20.983680099191226,20.92069399862586,21.135851903773094,20.589459477303016,20.27268402604141,20.27268402604141,20.010462296040068,19.920971583262936,19.94451322819637,20.563400540918874,20.87110732488704,21.389587243077223,21.12721339506052,21.56061834478127,21.128996712029323,21.260379134717855,21.28784611737271,21.400094588635497,21.42193929907188,21.611420734664954,21.54334599247587,21.578523132145744,21.5781895083315,21.818121329509953,21.670491895691946,21.576457542324047,21.633044543478896,21.56297668011582,21.742229136856107,21.599913367647993,21.791718069019296,21.790606155724788,21.35926608622043,21.60231937326158,21.791097138599326,21.44726304349376,21.476801853711947,21.35579638878864,21.64637682762025,21.40770351567003,21.156497591276402,21.206094388014197,21.21046807683731,21.204312695760997,21.02213446202459,21.123028986593884,21.17838785388897,21.328031660480672,21.61766352060446,22.04123035360159,22.27269463888102,22.872721724814227,22.68057814607247,22.792025727091826,22.855371249916413,23.068928757259833,22.936864305968484,22.58920270602345,22.840939723977026,22.548794872374177,22.29095188127563,22.265446725613415,22.212460839512293,22.04408004282772,22.139333527490535,22.29558888315326,22.890233487921407,23.549475366442472,23.923274406049934,23.984824084375077,23.92477894615672,23.774684072813844,23.872465860445182,23.018933229229212,22.999283031514594,23.345375248315325,23.707331213309146,23.52487556831626,23.350694500424908,23.77737276083871,23.796172811910555,23.58565761470701,23.885344369588914,23.829135736007913,23.905590191451687,23.86037502462621,23.82226317356586,23.440100427974176,23.271187151544794,23.511094600939273,23.61942919736011,23.43512049948828,23.37809516505638,23.28269258776805,23.283987992400657,23.222379244809677,23.431918947008,23.73437959789544,23.462754541273956,23.324514752680493,23.1987063641917,23.38474013607108,23.154835579593637,23.154835579593637,22.857738018522845,22.84971910733118,22.77199710512534,22.936427634777345,23.283712696465763,23.03032056894745,23.114049583909903,23.20259955784969,22.942815693029004,22.898027382861198,23.45264941095857,23.98225348522476,24.346857739830675,24.51743526872663,24.53636856541919,24.70752053388989,25.1015767574851,25.19656828923913,25.12549475676453,25.634137782578303,25.75547170966257,25.75547170966257,25.90005850988657,25.944505927815097,25.859920559668815,25.988054374685188,26.571963284248913,27.06963486727425,26.922985086080907,27.22925326521064,27.261620660324603,26.987022321886723,27.104799004798274,27.776723676588855,28.122895581906036,28.07229224245664,27.995289168527894,27.993265271605104,28.42848051426998,28.10288347340748,27.930837739187808,27.922123914375607,27.622444562883896,27.821385488409934,27.821385488409934,28.573881496410202,28.905962572044118,29.37781952878844,29.828515456764837,30.362218809957795,30.39783917682768,30.051788577237403,31.380523686955787,31.197348354184818,31.03368202016874,31.492008205002243,31.492008205002243,31.41234119294536,31.3934531681237,32.25126052333771,32.39310071333779,32.29543751873398,31.847194731535744,31.641448036712248,31.76313188818427,31.759972813856365,31.730427315467622,31.75479188242567,31.676070588639995,31.19563726338179,31.2607930875473,31.544471504822358,31.02147782133744,31.161708078297366,31.12919754423311,31.109113857715,31.109113857715,31.109113857715,31.51908295176309,31.2102506192544,32.2387388836463,32.242759366259776,32.53982514057006,31.99463680844341,32.1691408903392,32.36925068903007,32.36718731414121,32.758196467062994,32.26057911452944,32.18814271173298,31.76100987362762,31.76100987362762,32.322100249400584,32.36935332462143,31.887630006403956,31.922043590713933,31.71158580358371,31.769729907774447,31.20638021101523,30.87363981799971,30.730058083629807,29.796338161782998,30.091086405847143,29.901921511174834,30.236438496940977,30.20719925812927,30.159889107822615,30.644106727260322,29.999269824514418,30.54104838089533,31.844767156077115,32.14017282761317,32.39967591401276,32.25723397949647,31.846896710417873,31.571990937874396,31.613193895339762,31.19213555513307,31.14513591407695,30.42801783227911,30.598475069974373,30.34339186960313,29.591024343858187,29.925936222438708,30.95725177526585,31.230766350629246,31.151695446883075,31.23504476996144,31.23504476996144,30.89222842160122,31.06449564445537,30.88244424821498,30.93540746491663,31.306161633463645,31.15005488704943,31.340750716743248,31.510925711919647,32.140796229283744,31.719874169905495,31.077769732244075,31.096533394955994,31.002836061903814,30.763356124708974,30.851397250344405,30.803873095580435,31.255213151152937,31.51711463263016,31.169387503519495,31.201013659745392,31.035450596260915,31.113325479369045,30.901365400355374,30.455311123096564,30.414606177766057,29.87360194769948,29.93260672724749,30.159280357731543,28.85970186848763,29.45867935557125,29.542482878664032,28.97552073044176,28.95771230523274,29.037596163362124,28.790722180791416,29.167082157995104,29.229791285832963,29.670891677661928,29.988632887434854,28.55225430324646,28.395272709947285,28.19553923279916,28.088755124289342,28.313105404538064,28.660885232772728,29.09873640654459,28.542014280334648,28.636679165696457,28.446935717004717,27.147737229551282,27.99870764870187,28.33006410217922,28.218964957494673,27.767488609915382,27.711136201177446,27.609573110034514,27.132065795380434,26.924206193355047,26.572663739863135,24.935952820868845,26.31429539095267,26.191344880731137,26.086723811352197,26.37464955153799,26.283527098019334,25.486938935491832,25.670132907225863,25.09557035983572,25.09557035983572,25.03946221371265,24.34290322782551,24.21446490254735,24.230430217267962,25.085187703652245,25.371483498810086,24.84436179938765,24.973400242940947,24.976199129531352,24.465448500384635,25.48190637844008,26.173900429674624,26.173900429674624,26.14626826219386,26.07073244150513,26.136133459520792,26.253189918087138,26.97965935445472,26.95828482453728,26.93487023629153,26.798457575483003,26.77892330192273,26.599048701487817,26.641136762943308,26.915036095401423,26.879448834230214,27.158137700188977,26.96910968319093,26.979763929360857,27.92770238496334,28.32297632612768,28.221272455049885,27.688077961463176,27.87009209695366,27.855245003990014,27.94790453654197,27.532716994608265,26.709845345857786,26.339366530624496,26.339366530624496,26.339366530624496,26.14332443820302,25.96679815816656,25.49325430950786,25.244739083514702,25.610217338466068,25.66860367912347,25.069696705642876,24.961648456143237,24.81097433915931,24.35695320971556,24.940209678857705,24.463163134912524,24.751706691445197,24.790510376580134,24.790510376580134,25.126522132306995,24.499817858379224,24.5458557114532,24.3150057641766,24.560987682733003,23.778440618811647,23.910279227965738,24.329338869746707,24.171759046040986,23.724060562208706,23.888307961722877,22.93216126470734,23.0450893069327,23.09309431304176,23.228755705392444,23.3403107508952,23.58643050527265,23.533765331331335,22.732748849285024,23.24195307178334,23.493581859174984,23.21305683812982,23.1904133648094,23.04355152532147,22.21212731341673,22.49407288321983,23.09375299680041,23.139597679836534,23.145609976964288,23.852251676435188,24.159063292989693,24.01314683324358,23.898597732851144,23.9378094137495,24.382518293922306,24.38009201861595,23.995007954055758,23.793405022607228,23.393048051026067,23.524106867548443,22.972610683027806,22.603829066380165,22.644621366925666,21.74268375098727,21.390416026340866,21.672178673905318,21.224598796763615,20.67734752061796,20.51998016258265,20.47651547817384,20.349173526043174,20.97573702514839,20.76668125511658,20.952248858671286,21.477670196650255,21.407237191063054,21.50315317609057,22.178225041035727,21.963174209990743,21.207350374025236,21.30448401554872,21.287125452904434,21.205711968550855,21.09969500432145,21.318228008754293,21.57509270927762,22.675700608057635,23.043686536558972,23.433467528274644,23.428069419722664,23.500546282778224,23.31091915183725,22.922765623525066,22.52831106877653,22.281245176974274,22.246955958957383,22.1057109762683,22.148981624068487,22.80861739308888,23.301037299490424,24.141109382853678,24.429708116076032,24.64536582974388,24.535598142850112,24.739364929675723,24.254665609627523,23.950536093540876,23.62392259782333,24.505101975814767,24.764100431524504,25.138356118509854,25.151116074121482,26.17036150850125,25.974695276032158,26.32362360550653,26.587027261242735,26.67279119292809,26.790830651422294,26.613264022448103,26.52704843541325,25.99169488483575,26.70916363754767,27.204827147835744,27.24147438025677,27.24147438025677,26.965207298551164,27.175334247937567,27.58563056422465,27.663055944961947,27.583405357536318,27.249992078395735,27.057364286165388,27.236098549620834,26.679991182448546,26.642642005722507,26.605313739054083,26.49052203403206,26.758428751177888,26.553446357311607,26.63514711771171,26.038098855588586,26.315573677932647,26.527249369361172,26.366481464131585,26.392261465823385,26.392261465823385,26.376469850879047,26.34454472052383,25.989330562722767,25.68510713132033,26.408071413951117,26.569416358313845,26.50377996667961,26.50377996667961,26.629910284775793,26.649210353134656,26.451356058718602,26.383292460648498,25.585927454391122,26.230625381877836,26.234062286295277,26.565475459215214,25.744507782929425,24.578335037119658,24.267897012354812,23.77880436185915,23.83147776820158,24.41123191632899,23.565839721930672,23.538731638102206,23.48162269157168,23.619315565352927,23.750832442615355,23.899259511704727,24.43507251148045,24.261241216274577,25.203174582003985,25.018120887921015,25.54120814242036,25.59282857645744,25.525777647622803,25.525777647622803,25.192580752020977,24.81266295006519,24.54170716952413,24.491264165064173,24.81182350341782,24.576403468049946,24.225015133239204,23.830840784056505,23.9787097503801,24.201541554676552,24.125402659546435,24.19809001797164,24.19809001797164,24.29913412198095,24.187019806107912,24.72325654922003,24.190018360527056,24.07813061415107,23.6087989249391,23.6087989249391,23.69289047889489,23.972590905945523,23.820451974827694,23.555145053098215,23.241391239357178,22.96504759128466,22.904848946865954,22.771131825004566,23.20535237988541,23.306130352211476],\"yaxis\":\"y\",\"type\":\"scattergl\"}],                        {\"template\":{\"data\":{\"bar\":[{\"error_x\":{\"color\":\"#2a3f5f\"},\"error_y\":{\"color\":\"#2a3f5f\"},\"marker\":{\"line\":{\"color\":\"#E5ECF6\",\"width\":0.5},\"pattern\":{\"fillmode\":\"overlay\",\"size\":10,\"solidity\":0.2}},\"type\":\"bar\"}],\"barpolar\":[{\"marker\":{\"line\":{\"color\":\"#E5ECF6\",\"width\":0.5},\"pattern\":{\"fillmode\":\"overlay\",\"size\":10,\"solidity\":0.2}},\"type\":\"barpolar\"}],\"carpet\":[{\"aaxis\":{\"endlinecolor\":\"#2a3f5f\",\"gridcolor\":\"white\",\"linecolor\":\"white\",\"minorgridcolor\":\"white\",\"startlinecolor\":\"#2a3f5f\"},\"baxis\":{\"endlinecolor\":\"#2a3f5f\",\"gridcolor\":\"white\",\"linecolor\":\"white\",\"minorgridcolor\":\"white\",\"startlinecolor\":\"#2a3f5f\"},\"type\":\"carpet\"}],\"choropleth\":[{\"colorbar\":{\"outlinewidth\":0,\"ticks\":\"\"},\"type\":\"choropleth\"}],\"contour\":[{\"colorbar\":{\"outlinewidth\":0,\"ticks\":\"\"},\"colorscale\":[[0.0,\"#0d0887\"],[0.1111111111111111,\"#46039f\"],[0.2222222222222222,\"#7201a8\"],[0.3333333333333333,\"#9c179e\"],[0.4444444444444444,\"#bd3786\"],[0.5555555555555556,\"#d8576b\"],[0.6666666666666666,\"#ed7953\"],[0.7777777777777778,\"#fb9f3a\"],[0.8888888888888888,\"#fdca26\"],[1.0,\"#f0f921\"]],\"type\":\"contour\"}],\"contourcarpet\":[{\"colorbar\":{\"outlinewidth\":0,\"ticks\":\"\"},\"type\":\"contourcarpet\"}],\"heatmap\":[{\"colorbar\":{\"outlinewidth\":0,\"ticks\":\"\"},\"colorscale\":[[0.0,\"#0d0887\"],[0.1111111111111111,\"#46039f\"],[0.2222222222222222,\"#7201a8\"],[0.3333333333333333,\"#9c179e\"],[0.4444444444444444,\"#bd3786\"],[0.5555555555555556,\"#d8576b\"],[0.6666666666666666,\"#ed7953\"],[0.7777777777777778,\"#fb9f3a\"],[0.8888888888888888,\"#fdca26\"],[1.0,\"#f0f921\"]],\"type\":\"heatmap\"}],\"heatmapgl\":[{\"colorbar\":{\"outlinewidth\":0,\"ticks\":\"\"},\"colorscale\":[[0.0,\"#0d0887\"],[0.1111111111111111,\"#46039f\"],[0.2222222222222222,\"#7201a8\"],[0.3333333333333333,\"#9c179e\"],[0.4444444444444444,\"#bd3786\"],[0.5555555555555556,\"#d8576b\"],[0.6666666666666666,\"#ed7953\"],[0.7777777777777778,\"#fb9f3a\"],[0.8888888888888888,\"#fdca26\"],[1.0,\"#f0f921\"]],\"type\":\"heatmapgl\"}],\"histogram\":[{\"marker\":{\"pattern\":{\"fillmode\":\"overlay\",\"size\":10,\"solidity\":0.2}},\"type\":\"histogram\"}],\"histogram2d\":[{\"colorbar\":{\"outlinewidth\":0,\"ticks\":\"\"},\"colorscale\":[[0.0,\"#0d0887\"],[0.1111111111111111,\"#46039f\"],[0.2222222222222222,\"#7201a8\"],[0.3333333333333333,\"#9c179e\"],[0.4444444444444444,\"#bd3786\"],[0.5555555555555556,\"#d8576b\"],[0.6666666666666666,\"#ed7953\"],[0.7777777777777778,\"#fb9f3a\"],[0.8888888888888888,\"#fdca26\"],[1.0,\"#f0f921\"]],\"type\":\"histogram2d\"}],\"histogram2dcontour\":[{\"colorbar\":{\"outlinewidth\":0,\"ticks\":\"\"},\"colorscale\":[[0.0,\"#0d0887\"],[0.1111111111111111,\"#46039f\"],[0.2222222222222222,\"#7201a8\"],[0.3333333333333333,\"#9c179e\"],[0.4444444444444444,\"#bd3786\"],[0.5555555555555556,\"#d8576b\"],[0.6666666666666666,\"#ed7953\"],[0.7777777777777778,\"#fb9f3a\"],[0.8888888888888888,\"#fdca26\"],[1.0,\"#f0f921\"]],\"type\":\"histogram2dcontour\"}],\"mesh3d\":[{\"colorbar\":{\"outlinewidth\":0,\"ticks\":\"\"},\"type\":\"mesh3d\"}],\"parcoords\":[{\"line\":{\"colorbar\":{\"outlinewidth\":0,\"ticks\":\"\"}},\"type\":\"parcoords\"}],\"pie\":[{\"automargin\":true,\"type\":\"pie\"}],\"scatter\":[{\"marker\":{\"colorbar\":{\"outlinewidth\":0,\"ticks\":\"\"}},\"type\":\"scatter\"}],\"scatter3d\":[{\"line\":{\"colorbar\":{\"outlinewidth\":0,\"ticks\":\"\"}},\"marker\":{\"colorbar\":{\"outlinewidth\":0,\"ticks\":\"\"}},\"type\":\"scatter3d\"}],\"scattercarpet\":[{\"marker\":{\"colorbar\":{\"outlinewidth\":0,\"ticks\":\"\"}},\"type\":\"scattercarpet\"}],\"scattergeo\":[{\"marker\":{\"colorbar\":{\"outlinewidth\":0,\"ticks\":\"\"}},\"type\":\"scattergeo\"}],\"scattergl\":[{\"marker\":{\"colorbar\":{\"outlinewidth\":0,\"ticks\":\"\"}},\"type\":\"scattergl\"}],\"scattermapbox\":[{\"marker\":{\"colorbar\":{\"outlinewidth\":0,\"ticks\":\"\"}},\"type\":\"scattermapbox\"}],\"scatterpolar\":[{\"marker\":{\"colorbar\":{\"outlinewidth\":0,\"ticks\":\"\"}},\"type\":\"scatterpolar\"}],\"scatterpolargl\":[{\"marker\":{\"colorbar\":{\"outlinewidth\":0,\"ticks\":\"\"}},\"type\":\"scatterpolargl\"}],\"scatterternary\":[{\"marker\":{\"colorbar\":{\"outlinewidth\":0,\"ticks\":\"\"}},\"type\":\"scatterternary\"}],\"surface\":[{\"colorbar\":{\"outlinewidth\":0,\"ticks\":\"\"},\"colorscale\":[[0.0,\"#0d0887\"],[0.1111111111111111,\"#46039f\"],[0.2222222222222222,\"#7201a8\"],[0.3333333333333333,\"#9c179e\"],[0.4444444444444444,\"#bd3786\"],[0.5555555555555556,\"#d8576b\"],[0.6666666666666666,\"#ed7953\"],[0.7777777777777778,\"#fb9f3a\"],[0.8888888888888888,\"#fdca26\"],[1.0,\"#f0f921\"]],\"type\":\"surface\"}],\"table\":[{\"cells\":{\"fill\":{\"color\":\"#EBF0F8\"},\"line\":{\"color\":\"white\"}},\"header\":{\"fill\":{\"color\":\"#C8D4E3\"},\"line\":{\"color\":\"white\"}},\"type\":\"table\"}]},\"layout\":{\"annotationdefaults\":{\"arrowcolor\":\"#2a3f5f\",\"arrowhead\":0,\"arrowwidth\":1},\"autotypenumbers\":\"strict\",\"coloraxis\":{\"colorbar\":{\"outlinewidth\":0,\"ticks\":\"\"}},\"colorscale\":{\"diverging\":[[0,\"#8e0152\"],[0.1,\"#c51b7d\"],[0.2,\"#de77ae\"],[0.3,\"#f1b6da\"],[0.4,\"#fde0ef\"],[0.5,\"#f7f7f7\"],[0.6,\"#e6f5d0\"],[0.7,\"#b8e186\"],[0.8,\"#7fbc41\"],[0.9,\"#4d9221\"],[1,\"#276419\"]],\"sequential\":[[0.0,\"#0d0887\"],[0.1111111111111111,\"#46039f\"],[0.2222222222222222,\"#7201a8\"],[0.3333333333333333,\"#9c179e\"],[0.4444444444444444,\"#bd3786\"],[0.5555555555555556,\"#d8576b\"],[0.6666666666666666,\"#ed7953\"],[0.7777777777777778,\"#fb9f3a\"],[0.8888888888888888,\"#fdca26\"],[1.0,\"#f0f921\"]],\"sequentialminus\":[[0.0,\"#0d0887\"],[0.1111111111111111,\"#46039f\"],[0.2222222222222222,\"#7201a8\"],[0.3333333333333333,\"#9c179e\"],[0.4444444444444444,\"#bd3786\"],[0.5555555555555556,\"#d8576b\"],[0.6666666666666666,\"#ed7953\"],[0.7777777777777778,\"#fb9f3a\"],[0.8888888888888888,\"#fdca26\"],[1.0,\"#f0f921\"]]},\"colorway\":[\"#636efa\",\"#EF553B\",\"#00cc96\",\"#ab63fa\",\"#FFA15A\",\"#19d3f3\",\"#FF6692\",\"#B6E880\",\"#FF97FF\",\"#FECB52\"],\"font\":{\"color\":\"#2a3f5f\"},\"geo\":{\"bgcolor\":\"white\",\"lakecolor\":\"white\",\"landcolor\":\"#E5ECF6\",\"showlakes\":true,\"showland\":true,\"subunitcolor\":\"white\"},\"hoverlabel\":{\"align\":\"left\"},\"hovermode\":\"closest\",\"mapbox\":{\"style\":\"light\"},\"paper_bgcolor\":\"white\",\"plot_bgcolor\":\"#E5ECF6\",\"polar\":{\"angularaxis\":{\"gridcolor\":\"white\",\"linecolor\":\"white\",\"ticks\":\"\"},\"bgcolor\":\"#E5ECF6\",\"radialaxis\":{\"gridcolor\":\"white\",\"linecolor\":\"white\",\"ticks\":\"\"}},\"scene\":{\"xaxis\":{\"backgroundcolor\":\"#E5ECF6\",\"gridcolor\":\"white\",\"gridwidth\":2,\"linecolor\":\"white\",\"showbackground\":true,\"ticks\":\"\",\"zerolinecolor\":\"white\"},\"yaxis\":{\"backgroundcolor\":\"#E5ECF6\",\"gridcolor\":\"white\",\"gridwidth\":2,\"linecolor\":\"white\",\"showbackground\":true,\"ticks\":\"\",\"zerolinecolor\":\"white\"},\"zaxis\":{\"backgroundcolor\":\"#E5ECF6\",\"gridcolor\":\"white\",\"gridwidth\":2,\"linecolor\":\"white\",\"showbackground\":true,\"ticks\":\"\",\"zerolinecolor\":\"white\"}},\"shapedefaults\":{\"line\":{\"color\":\"#2a3f5f\"}},\"ternary\":{\"aaxis\":{\"gridcolor\":\"white\",\"linecolor\":\"white\",\"ticks\":\"\"},\"baxis\":{\"gridcolor\":\"white\",\"linecolor\":\"white\",\"ticks\":\"\"},\"bgcolor\":\"#E5ECF6\",\"caxis\":{\"gridcolor\":\"white\",\"linecolor\":\"white\",\"ticks\":\"\"}},\"title\":{\"x\":0.05},\"xaxis\":{\"automargin\":true,\"gridcolor\":\"white\",\"linecolor\":\"white\",\"ticks\":\"\",\"title\":{\"standoff\":15},\"zerolinecolor\":\"white\",\"zerolinewidth\":2},\"yaxis\":{\"automargin\":true,\"gridcolor\":\"white\",\"linecolor\":\"white\",\"ticks\":\"\",\"title\":{\"standoff\":15},\"zerolinecolor\":\"white\",\"zerolinewidth\":2}}},\"xaxis\":{\"anchor\":\"y\",\"domain\":[0.0,1.0],\"title\":{\"text\":\"index\"}},\"yaxis\":{\"anchor\":\"x\",\"domain\":[0.0,1.0],\"title\":{\"text\":\"rolling_returns\"}},\"legend\":{\"tracegroupgap\":0},\"title\":{\"text\":\"Rolling 3-year returns\"}},                        {\"responsive\": true}                    ).then(function(){\n",
              "                            \n",
              "var gd = document.getElementById('ec648330-0d78-49ee-981b-a198f67384b6');\n",
              "var x = new MutationObserver(function (mutations, observer) {{\n",
              "        var display = window.getComputedStyle(gd).display;\n",
              "        if (!display || display === 'none') {{\n",
              "            console.log([gd, 'removed!']);\n",
              "            Plotly.purge(gd);\n",
              "            observer.disconnect();\n",
              "        }}\n",
              "}});\n",
              "\n",
              "// Listen for the removal of the full notebook cells\n",
              "var notebookContainer = gd.closest('#notebook-container');\n",
              "if (notebookContainer) {{\n",
              "    x.observe(notebookContainer, {childList: true});\n",
              "}}\n",
              "\n",
              "// Listen for the clearing of the current output cell\n",
              "var outputEl = gd.closest('.output');\n",
              "if (outputEl) {{\n",
              "    x.observe(outputEl, {childList: true});\n",
              "}}\n",
              "\n",
              "                        })                };                            </script>        </div>\n",
              "</body>\n",
              "</html>"
            ]
          },
          "metadata": {},
          "output_type": "display_data"
        }
      ],
      "source": [
        "fig = px.line(df_rr_three, x=df_rr_three.index, y=\"rolling_returns\", title=\"Rolling 3-year returns\")\n",
        "fig.show()"
      ]
    },
    {
      "cell_type": "markdown",
      "metadata": {
        "id": "m0oLwp4ekXoq"
      },
      "source": [
        "## Standard Deviation\n",
        "\n",
        "Refer: https://scripbox.com/mf/standard-deviation-in-mutual-fund/"
      ]
    },
    {
      "cell_type": "code",
      "execution_count": null,
      "metadata": {
        "colab": {
          "base_uri": "https://localhost:8080/"
        },
        "id": "5_SQzDgAbsOP",
        "outputId": "7a0524b7-0679-4092-8492-308387099040"
      },
      "outputs": [
        {
          "data": {
            "text/plain": [
              "rolling_returns    5.993386\n",
              "dtype: float64"
            ]
          },
          "execution_count": 40,
          "metadata": {},
          "output_type": "execute_result"
        }
      ],
      "source": [
        "df_rr_three.std()"
      ]
    },
    {
      "cell_type": "markdown",
      "metadata": {
        "id": "-Y3g3Nlll0uq"
      },
      "source": [
        "**Output for Future**\n",
        "```\n",
        "rolling_returns    5.993328\n",
        "dtype: float64\n",
        "```\n",
        "\n",
        "The value shown on morningstar.in is `19.52`."
      ]
    },
    {
      "cell_type": "code",
      "execution_count": null,
      "metadata": {
        "colab": {
          "base_uri": "https://localhost:8080/"
        },
        "id": "CKMCQZfglqnJ",
        "outputId": "f45a0fd5-ab66-48a4-bb85-550282e85b59"
      },
      "outputs": [
        {
          "data": {
            "text/plain": [
              "rolling_returns    4.356336\n",
              "dtype: float64"
            ]
          },
          "execution_count": 41,
          "metadata": {},
          "output_type": "execute_result"
        }
      ],
      "source": [
        "df_rr_five.std()"
      ]
    },
    {
      "cell_type": "code",
      "execution_count": null,
      "metadata": {
        "colab": {
          "base_uri": "https://localhost:8080/"
        },
        "id": "oZkEV1DOnSDX",
        "outputId": "89e5895f-ae3d-4b1a-d50e-7e11bddd9b83"
      },
      "outputs": [
        {
          "data": {
            "text/plain": [
              "(19.015743614843128, 19.558409506889657)"
            ]
          },
          "execution_count": 42,
          "metadata": {},
          "output_type": "execute_result"
        }
      ],
      "source": [
        "def mean_and_standard_deviation(df_nav):\n",
        "  # there won't be much change in return over one single day, but over a month, it would show a huge impact\n",
        "  df_rr_for_std = n_years_absolute_rolling_returns(df_nav, n_years=1, stride_timedelta=relativedelta(months=1))\n",
        "  # consider last 1-year (12 months) for standard deviation\n",
        "  df_rr_for_std = df_rr_for_std.iloc[-12:]\n",
        "  return df_rr_for_std.mean().item(), df_rr_for_std.std().item()\n",
        "\n",
        "mean_and_standard_deviation(df_fund)"
      ]
    },
    {
      "cell_type": "markdown",
      "metadata": {
        "id": "Ezp2tnMu03LD"
      },
      "source": [
        "**Output for future**\n",
        "```\n",
        "(19.015743614843128, 19.558409506889657)\n",
        "```\n",
        "\n",
        "**Understanding**\n",
        "\n",
        "Here we are accounting for three factors:\n",
        "- The variance in **yearly** returns, hence `n_years=1`\n",
        "- Capture the change in returns every month (to allow some amount of variance), hence `stride=1 month`\n",
        "- Consider only last 1 year data to calculate the standard deviation and mean, hence `iloc[-12:]`\n",
        "\n",
        "\n",
        "The output says that the fund's yearly mean return is `19.0154%`, and it can go as down as `-0.54%` or upto `38.56%`.\n",
        "\n",
        "This implies it's a highly risky scheme. Does it? We actually need to compare these values with the category average in order to decide how risky it is as compared to the funds in this category."
      ]
    },
    {
      "cell_type": "markdown",
      "metadata": {
        "id": "2VSOl3pFiwOI"
      },
      "source": [
        "## Load TRI Data and Pre-process"
      ]
    },
    {
      "cell_type": "code",
      "execution_count": null,
      "metadata": {
        "colab": {
          "base_uri": "https://localhost:8080/",
          "height": 455
        },
        "id": "hbWZ3mMyizOo",
        "outputId": "23c029bf-e52c-49a6-ab82-52c9eac9e31a"
      },
      "outputs": [
        {
          "data": {
            "text/html": [
              "\n",
              "  <div id=\"df-d1e6debf-4edf-40a4-b332-b19507372c59\">\n",
              "    <div class=\"colab-df-container\">\n",
              "      <div>\n",
              "<style scoped>\n",
              "    .dataframe tbody tr th:only-of-type {\n",
              "        vertical-align: middle;\n",
              "    }\n",
              "\n",
              "    .dataframe tbody tr th {\n",
              "        vertical-align: top;\n",
              "    }\n",
              "\n",
              "    .dataframe thead th {\n",
              "        text-align: right;\n",
              "    }\n",
              "</style>\n",
              "<table border=\"1\" class=\"dataframe\">\n",
              "  <thead>\n",
              "    <tr style=\"text-align: right;\">\n",
              "      <th></th>\n",
              "      <th>Open</th>\n",
              "      <th>High</th>\n",
              "      <th>Low</th>\n",
              "      <th>Close</th>\n",
              "    </tr>\n",
              "    <tr>\n",
              "      <th>Date</th>\n",
              "      <th></th>\n",
              "      <th></th>\n",
              "      <th></th>\n",
              "      <th></th>\n",
              "    </tr>\n",
              "  </thead>\n",
              "  <tbody>\n",
              "    <tr>\n",
              "      <th>09 Nov 2022</th>\n",
              "      <td>15684.45</td>\n",
              "      <td>15686.35</td>\n",
              "      <td>15534.85</td>\n",
              "      <td>15567.25</td>\n",
              "    </tr>\n",
              "    <tr>\n",
              "      <th>07 Nov 2022</th>\n",
              "      <td>15610.95</td>\n",
              "      <td>15647.25</td>\n",
              "      <td>15505.75</td>\n",
              "      <td>15615.15</td>\n",
              "    </tr>\n",
              "    <tr>\n",
              "      <th>04 Nov 2022</th>\n",
              "      <td>15495.75</td>\n",
              "      <td>15542.15</td>\n",
              "      <td>15454.30</td>\n",
              "      <td>15530.85</td>\n",
              "    </tr>\n",
              "    <tr>\n",
              "      <th>03 Nov 2022</th>\n",
              "      <td>15407.80</td>\n",
              "      <td>15519.15</td>\n",
              "      <td>15401.30</td>\n",
              "      <td>15484.70</td>\n",
              "    </tr>\n",
              "    <tr>\n",
              "      <th>02 Nov 2022</th>\n",
              "      <td>15560.45</td>\n",
              "      <td>15561.1</td>\n",
              "      <td>15470.4</td>\n",
              "      <td>15497.55</td>\n",
              "    </tr>\n",
              "    <tr>\n",
              "      <th>...</th>\n",
              "      <td>...</td>\n",
              "      <td>...</td>\n",
              "      <td>...</td>\n",
              "      <td>...</td>\n",
              "    </tr>\n",
              "    <tr>\n",
              "      <th>06 Jan 2012</th>\n",
              "      <td>3682.05</td>\n",
              "      <td>3720.95</td>\n",
              "      <td>3651.1</td>\n",
              "      <td>3694.80</td>\n",
              "    </tr>\n",
              "    <tr>\n",
              "      <th>05 Jan 2012</th>\n",
              "      <td>3694.7</td>\n",
              "      <td>3718.75</td>\n",
              "      <td>3682.5</td>\n",
              "      <td>3696.10</td>\n",
              "    </tr>\n",
              "    <tr>\n",
              "      <th>04 Jan 2012</th>\n",
              "      <td>3706.05</td>\n",
              "      <td>3717.9</td>\n",
              "      <td>3681.75</td>\n",
              "      <td>3695.00</td>\n",
              "    </tr>\n",
              "    <tr>\n",
              "      <th>03 Jan 2012</th>\n",
              "      <td>3623.85</td>\n",
              "      <td>3705.2</td>\n",
              "      <td>3623.85</td>\n",
              "      <td>3700.80</td>\n",
              "    </tr>\n",
              "    <tr>\n",
              "      <th>02 Jan 2012</th>\n",
              "      <td>3606.4</td>\n",
              "      <td>3615.1</td>\n",
              "      <td>3568.75</td>\n",
              "      <td>3602.50</td>\n",
              "    </tr>\n",
              "  </tbody>\n",
              "</table>\n",
              "<p>2690 rows × 4 columns</p>\n",
              "</div>\n",
              "      <button class=\"colab-df-convert\" onclick=\"convertToInteractive('df-d1e6debf-4edf-40a4-b332-b19507372c59')\"\n",
              "              title=\"Convert this dataframe to an interactive table.\"\n",
              "              style=\"display:none;\">\n",
              "        \n",
              "  <svg xmlns=\"http://www.w3.org/2000/svg\" height=\"24px\"viewBox=\"0 0 24 24\"\n",
              "       width=\"24px\">\n",
              "    <path d=\"M0 0h24v24H0V0z\" fill=\"none\"/>\n",
              "    <path d=\"M18.56 5.44l.94 2.06.94-2.06 2.06-.94-2.06-.94-.94-2.06-.94 2.06-2.06.94zm-11 1L8.5 8.5l.94-2.06 2.06-.94-2.06-.94L8.5 2.5l-.94 2.06-2.06.94zm10 10l.94 2.06.94-2.06 2.06-.94-2.06-.94-.94-2.06-.94 2.06-2.06.94z\"/><path d=\"M17.41 7.96l-1.37-1.37c-.4-.4-.92-.59-1.43-.59-.52 0-1.04.2-1.43.59L10.3 9.45l-7.72 7.72c-.78.78-.78 2.05 0 2.83L4 21.41c.39.39.9.59 1.41.59.51 0 1.02-.2 1.41-.59l7.78-7.78 2.81-2.81c.8-.78.8-2.07 0-2.86zM5.41 20L4 18.59l7.72-7.72 1.47 1.35L5.41 20z\"/>\n",
              "  </svg>\n",
              "      </button>\n",
              "      \n",
              "  <style>\n",
              "    .colab-df-container {\n",
              "      display:flex;\n",
              "      flex-wrap:wrap;\n",
              "      gap: 12px;\n",
              "    }\n",
              "\n",
              "    .colab-df-convert {\n",
              "      background-color: #E8F0FE;\n",
              "      border: none;\n",
              "      border-radius: 50%;\n",
              "      cursor: pointer;\n",
              "      display: none;\n",
              "      fill: #1967D2;\n",
              "      height: 32px;\n",
              "      padding: 0 0 0 0;\n",
              "      width: 32px;\n",
              "    }\n",
              "\n",
              "    .colab-df-convert:hover {\n",
              "      background-color: #E2EBFA;\n",
              "      box-shadow: 0px 1px 2px rgba(60, 64, 67, 0.3), 0px 1px 3px 1px rgba(60, 64, 67, 0.15);\n",
              "      fill: #174EA6;\n",
              "    }\n",
              "\n",
              "    [theme=dark] .colab-df-convert {\n",
              "      background-color: #3B4455;\n",
              "      fill: #D2E3FC;\n",
              "    }\n",
              "\n",
              "    [theme=dark] .colab-df-convert:hover {\n",
              "      background-color: #434B5C;\n",
              "      box-shadow: 0px 1px 3px 1px rgba(0, 0, 0, 0.15);\n",
              "      filter: drop-shadow(0px 1px 2px rgba(0, 0, 0, 0.3));\n",
              "      fill: #FFFFFF;\n",
              "    }\n",
              "  </style>\n",
              "\n",
              "      <script>\n",
              "        const buttonEl =\n",
              "          document.querySelector('#df-d1e6debf-4edf-40a4-b332-b19507372c59 button.colab-df-convert');\n",
              "        buttonEl.style.display =\n",
              "          google.colab.kernel.accessAllowed ? 'block' : 'none';\n",
              "\n",
              "        async function convertToInteractive(key) {\n",
              "          const element = document.querySelector('#df-d1e6debf-4edf-40a4-b332-b19507372c59');\n",
              "          const dataTable =\n",
              "            await google.colab.kernel.invokeFunction('convertToInteractive',\n",
              "                                                     [key], {});\n",
              "          if (!dataTable) return;\n",
              "\n",
              "          const docLinkHtml = 'Like what you see? Visit the ' +\n",
              "            '<a target=\"_blank\" href=https://colab.research.google.com/notebooks/data_table.ipynb>data table notebook</a>'\n",
              "            + ' to learn more about interactive tables.';\n",
              "          element.innerHTML = '';\n",
              "          dataTable['output_type'] = 'display_data';\n",
              "          await google.colab.output.renderOutput(dataTable, element);\n",
              "          const docLink = document.createElement('div');\n",
              "          docLink.innerHTML = docLinkHtml;\n",
              "          element.appendChild(docLink);\n",
              "        }\n",
              "      </script>\n",
              "    </div>\n",
              "  </div>\n",
              "  "
            ],
            "text/plain": [
              "                 Open      High       Low     Close\n",
              "Date                                               \n",
              "09 Nov 2022  15684.45  15686.35  15534.85  15567.25\n",
              "07 Nov 2022  15610.95  15647.25  15505.75  15615.15\n",
              "04 Nov 2022  15495.75  15542.15  15454.30  15530.85\n",
              "03 Nov 2022  15407.80  15519.15  15401.30  15484.70\n",
              "02 Nov 2022  15560.45   15561.1   15470.4  15497.55\n",
              "...               ...       ...       ...       ...\n",
              "06 Jan 2012   3682.05   3720.95    3651.1   3694.80\n",
              "05 Jan 2012    3694.7   3718.75    3682.5   3696.10\n",
              "04 Jan 2012   3706.05    3717.9   3681.75   3695.00\n",
              "03 Jan 2012   3623.85    3705.2   3623.85   3700.80\n",
              "02 Jan 2012    3606.4    3615.1   3568.75   3602.50\n",
              "\n",
              "[2690 rows x 4 columns]"
            ]
          },
          "execution_count": 43,
          "metadata": {},
          "output_type": "execute_result"
        }
      ],
      "source": [
        "df_tri = pd.read_csv(\"../data/NIFTY 500_Data.csv\", index_col=\"Date\")\n",
        "df_tri"
      ]
    },
    {
      "cell_type": "code",
      "execution_count": null,
      "metadata": {
        "colab": {
          "base_uri": "https://localhost:8080/"
        },
        "id": "035qCCTBlVbG",
        "outputId": "1b700432-5255-4fda-c120-8b9dc73dfe57"
      },
      "outputs": [
        {
          "data": {
            "text/plain": [
              "(Open      object\n",
              " High      object\n",
              " Low       object\n",
              " Close    float64\n",
              " dtype: object, dtype('O'))"
            ]
          },
          "execution_count": 44,
          "metadata": {},
          "output_type": "execute_result"
        }
      ],
      "source": [
        "df_tri.dtypes, df_tri.index.dtype"
      ]
    },
    {
      "cell_type": "code",
      "execution_count": null,
      "metadata": {
        "colab": {
          "base_uri": "https://localhost:8080/"
        },
        "id": "_STLuVzzlk2G",
        "outputId": "5fa791a1-2d6a-4f84-9c95-637b4ceebdd6"
      },
      "outputs": [
        {
          "data": {
            "text/plain": [
              "DatetimeIndex(['2022-11-09 00:00:00+00:00', '2022-11-07 00:00:00+00:00',\n",
              "               '2022-11-04 00:00:00+00:00', '2022-11-03 00:00:00+00:00',\n",
              "               '2022-11-02 00:00:00+00:00', '2022-11-01 00:00:00+00:00',\n",
              "               '2022-10-31 00:00:00+00:00', '2022-10-28 00:00:00+00:00',\n",
              "               '2022-10-27 00:00:00+00:00', '2022-10-25 00:00:00+00:00',\n",
              "               ...\n",
              "               '2012-01-12 00:00:00+00:00', '2012-01-11 00:00:00+00:00',\n",
              "               '2012-01-10 00:00:00+00:00', '2012-01-09 00:00:00+00:00',\n",
              "               '2012-01-07 00:00:00+00:00', '2012-01-06 00:00:00+00:00',\n",
              "               '2012-01-05 00:00:00+00:00', '2012-01-04 00:00:00+00:00',\n",
              "               '2012-01-03 00:00:00+00:00', '2012-01-02 00:00:00+00:00'],\n",
              "              dtype='datetime64[ns, UTC]', name='Date', length=2690, freq=None)"
            ]
          },
          "execution_count": 45,
          "metadata": {},
          "output_type": "execute_result"
        }
      ],
      "source": [
        "df_tri.index = pd.to_datetime(df_tri.index, utc=True)\n",
        "df_tri.index"
      ]
    },
    {
      "cell_type": "code",
      "execution_count": null,
      "metadata": {
        "id": "rXa2ZaUhl7xo"
      },
      "outputs": [],
      "source": [
        "df_tri[\"nav\"] = df_tri[\"Close\"].astype(\"float64\")"
      ]
    },
    {
      "cell_type": "code",
      "execution_count": null,
      "metadata": {
        "id": "W7xtbQOWq2MX"
      },
      "outputs": [],
      "source": [
        "df_tri = df_tri[::-1]"
      ]
    },
    {
      "cell_type": "code",
      "execution_count": null,
      "metadata": {
        "colab": {
          "base_uri": "https://localhost:8080/"
        },
        "id": "clU9d013n05d",
        "outputId": "84a68aad-055a-4ed8-ae94-1c345a4512f9"
      },
      "outputs": [
        {
          "data": {
            "text/plain": [
              "(datetime64[ns, UTC], Open      object\n",
              " High      object\n",
              " Low       object\n",
              " Close    float64\n",
              " nav      float64\n",
              " dtype: object)"
            ]
          },
          "execution_count": 48,
          "metadata": {},
          "output_type": "execute_result"
        }
      ],
      "source": [
        "df_tri.index.dtype, df_tri.dtypes"
      ]
    },
    {
      "cell_type": "code",
      "execution_count": null,
      "metadata": {
        "colab": {
          "base_uri": "https://localhost:8080/"
        },
        "id": "HKCtgwWDpZ7E",
        "outputId": "7a0d0847-ff97-4f87-fa95-69714f913d3a"
      },
      "outputs": [
        {
          "name": "stdout",
          "output_type": "stream",
          "text": [
            "2022-11-06 00:00:00+00:00\n",
            "Open     15495.75\n",
            "High     15542.15\n",
            "Low      15454.30\n",
            "Close    15530.85\n",
            "nav      15530.85\n",
            "Name: 2022-11-04 00:00:00+00:00, dtype: object\n"
          ]
        }
      ],
      "source": [
        "print(sun)\n",
        "print(df_tri.safe_nav.for_date(sun))"
      ]
    },
    {
      "cell_type": "markdown",
      "metadata": {
        "id": "MwNhnuZUoQxu"
      },
      "source": [
        "## Rolling Returns and Standard Deviation"
      ]
    },
    {
      "cell_type": "code",
      "execution_count": null,
      "metadata": {
        "colab": {
          "base_uri": "https://localhost:8080/",
          "height": 542
        },
        "id": "4gms9Nz6n3Wy",
        "outputId": "e515f7a3-070d-45c9-8c89-ae1837d642c2"
      },
      "outputs": [
        {
          "data": {
            "text/html": [
              "<html>\n",
              "<head><meta charset=\"utf-8\" /></head>\n",
              "<body>\n",
              "    <div>            <script src=\"https://cdnjs.cloudflare.com/ajax/libs/mathjax/2.7.5/MathJax.js?config=TeX-AMS-MML_SVG\"></script><script type=\"text/javascript\">if (window.MathJax) {MathJax.Hub.Config({SVG: {font: \"STIX-Web\"}});}</script>                <script type=\"text/javascript\">window.PlotlyConfig = {MathJaxConfig: 'local'};</script>\n",
              "        <script src=\"https://cdn.plot.ly/plotly-2.8.3.min.js\"></script>                <div id=\"c870592d-ce97-404a-9a14-ceebb2a8e2ee\" class=\"plotly-graph-div\" style=\"height:525px; width:100%;\"></div>            <script type=\"text/javascript\">                                    window.PLOTLYENV=window.PLOTLYENV || {};                                    if (document.getElementById(\"c870592d-ce97-404a-9a14-ceebb2a8e2ee\")) {                    Plotly.newPlot(                        \"c870592d-ce97-404a-9a14-ceebb2a8e2ee\",                        [{\"hovertemplate\":\"index=%{x}<br>rolling_returns=%{y}<extra></extra>\",\"legendgroup\":\"\",\"line\":{\"color\":\"#636efa\",\"dash\":\"solid\"},\"marker\":{\"symbol\":\"circle\"},\"mode\":\"lines\",\"name\":\"\",\"showlegend\":false,\"x\":[\"2015-01-02T00:00:00+00:00\",\"2015-01-03T00:00:00+00:00\",\"2015-01-04T00:00:00+00:00\",\"2015-01-05T00:00:00+00:00\",\"2015-01-06T00:00:00+00:00\",\"2015-01-07T00:00:00+00:00\",\"2015-01-08T00:00:00+00:00\",\"2015-01-09T00:00:00+00:00\",\"2015-01-10T00:00:00+00:00\",\"2015-01-11T00:00:00+00:00\",\"2015-01-12T00:00:00+00:00\",\"2015-01-13T00:00:00+00:00\",\"2015-01-14T00:00:00+00:00\",\"2015-01-15T00:00:00+00:00\",\"2015-01-16T00:00:00+00:00\",\"2015-01-17T00:00:00+00:00\",\"2015-01-18T00:00:00+00:00\",\"2015-01-19T00:00:00+00:00\",\"2015-01-20T00:00:00+00:00\",\"2015-01-21T00:00:00+00:00\",\"2015-01-22T00:00:00+00:00\",\"2015-01-23T00:00:00+00:00\",\"2015-01-24T00:00:00+00:00\",\"2015-01-25T00:00:00+00:00\",\"2015-01-26T00:00:00+00:00\",\"2015-01-27T00:00:00+00:00\",\"2015-01-28T00:00:00+00:00\",\"2015-01-29T00:00:00+00:00\",\"2015-01-30T00:00:00+00:00\",\"2015-01-31T00:00:00+00:00\",\"2015-02-01T00:00:00+00:00\",\"2015-02-02T00:00:00+00:00\",\"2015-02-03T00:00:00+00:00\",\"2015-02-04T00:00:00+00:00\",\"2015-02-05T00:00:00+00:00\",\"2015-02-06T00:00:00+00:00\",\"2015-02-07T00:00:00+00:00\",\"2015-02-08T00:00:00+00:00\",\"2015-02-09T00:00:00+00:00\",\"2015-02-10T00:00:00+00:00\",\"2015-02-11T00:00:00+00:00\",\"2015-02-12T00:00:00+00:00\",\"2015-02-13T00:00:00+00:00\",\"2015-02-14T00:00:00+00:00\",\"2015-02-15T00:00:00+00:00\",\"2015-02-16T00:00:00+00:00\",\"2015-02-17T00:00:00+00:00\",\"2015-02-18T00:00:00+00:00\",\"2015-02-19T00:00:00+00:00\",\"2015-02-20T00:00:00+00:00\",\"2015-02-21T00:00:00+00:00\",\"2015-02-22T00:00:00+00:00\",\"2015-02-23T00:00:00+00:00\",\"2015-02-24T00:00:00+00:00\",\"2015-02-25T00:00:00+00:00\",\"2015-02-26T00:00:00+00:00\",\"2015-02-27T00:00:00+00:00\",\"2015-02-28T00:00:00+00:00\",\"2015-02-28T00:00:00+00:00\",\"2015-03-01T00:00:00+00:00\",\"2015-03-02T00:00:00+00:00\",\"2015-03-03T00:00:00+00:00\",\"2015-03-04T00:00:00+00:00\",\"2015-03-05T00:00:00+00:00\",\"2015-03-06T00:00:00+00:00\",\"2015-03-07T00:00:00+00:00\",\"2015-03-08T00:00:00+00:00\",\"2015-03-09T00:00:00+00:00\",\"2015-03-10T00:00:00+00:00\",\"2015-03-11T00:00:00+00:00\",\"2015-03-12T00:00:00+00:00\",\"2015-03-13T00:00:00+00:00\",\"2015-03-14T00:00:00+00:00\",\"2015-03-15T00:00:00+00:00\",\"2015-03-16T00:00:00+00:00\",\"2015-03-17T00:00:00+00:00\",\"2015-03-18T00:00:00+00:00\",\"2015-03-19T00:00:00+00:00\",\"2015-03-20T00:00:00+00:00\",\"2015-03-21T00:00:00+00:00\",\"2015-03-22T00:00:00+00:00\",\"2015-03-23T00:00:00+00:00\",\"2015-03-24T00:00:00+00:00\",\"2015-03-25T00:00:00+00:00\",\"2015-03-26T00:00:00+00:00\",\"2015-03-27T00:00:00+00:00\",\"2015-03-28T00:00:00+00:00\",\"2015-03-29T00:00:00+00:00\",\"2015-03-30T00:00:00+00:00\",\"2015-03-31T00:00:00+00:00\",\"2015-04-01T00:00:00+00:00\",\"2015-04-02T00:00:00+00:00\",\"2015-04-03T00:00:00+00:00\",\"2015-04-04T00:00:00+00:00\",\"2015-04-05T00:00:00+00:00\",\"2015-04-06T00:00:00+00:00\",\"2015-04-07T00:00:00+00:00\",\"2015-04-08T00:00:00+00:00\",\"2015-04-09T00:00:00+00:00\",\"2015-04-10T00:00:00+00:00\",\"2015-04-11T00:00:00+00:00\",\"2015-04-12T00:00:00+00:00\",\"2015-04-13T00:00:00+00:00\",\"2015-04-14T00:00:00+00:00\",\"2015-04-15T00:00:00+00:00\",\"2015-04-16T00:00:00+00:00\",\"2015-04-17T00:00:00+00:00\",\"2015-04-18T00:00:00+00:00\",\"2015-04-19T00:00:00+00:00\",\"2015-04-20T00:00:00+00:00\",\"2015-04-21T00:00:00+00:00\",\"2015-04-22T00:00:00+00:00\",\"2015-04-23T00:00:00+00:00\",\"2015-04-24T00:00:00+00:00\",\"2015-04-25T00:00:00+00:00\",\"2015-04-26T00:00:00+00:00\",\"2015-04-27T00:00:00+00:00\",\"2015-04-28T00:00:00+00:00\",\"2015-04-29T00:00:00+00:00\",\"2015-04-30T00:00:00+00:00\",\"2015-05-01T00:00:00+00:00\",\"2015-05-02T00:00:00+00:00\",\"2015-05-03T00:00:00+00:00\",\"2015-05-04T00:00:00+00:00\",\"2015-05-05T00:00:00+00:00\",\"2015-05-06T00:00:00+00:00\",\"2015-05-07T00:00:00+00:00\",\"2015-05-08T00:00:00+00:00\",\"2015-05-09T00:00:00+00:00\",\"2015-05-10T00:00:00+00:00\",\"2015-05-11T00:00:00+00:00\",\"2015-05-12T00:00:00+00:00\",\"2015-05-13T00:00:00+00:00\",\"2015-05-14T00:00:00+00:00\",\"2015-05-15T00:00:00+00:00\",\"2015-05-16T00:00:00+00:00\",\"2015-05-17T00:00:00+00:00\",\"2015-05-18T00:00:00+00:00\",\"2015-05-19T00:00:00+00:00\",\"2015-05-20T00:00:00+00:00\",\"2015-05-21T00:00:00+00:00\",\"2015-05-22T00:00:00+00:00\",\"2015-05-23T00:00:00+00:00\",\"2015-05-24T00:00:00+00:00\",\"2015-05-25T00:00:00+00:00\",\"2015-05-26T00:00:00+00:00\",\"2015-05-27T00:00:00+00:00\",\"2015-05-28T00:00:00+00:00\",\"2015-05-29T00:00:00+00:00\",\"2015-05-30T00:00:00+00:00\",\"2015-05-31T00:00:00+00:00\",\"2015-06-01T00:00:00+00:00\",\"2015-06-02T00:00:00+00:00\",\"2015-06-03T00:00:00+00:00\",\"2015-06-04T00:00:00+00:00\",\"2015-06-05T00:00:00+00:00\",\"2015-06-06T00:00:00+00:00\",\"2015-06-07T00:00:00+00:00\",\"2015-06-08T00:00:00+00:00\",\"2015-06-09T00:00:00+00:00\",\"2015-06-10T00:00:00+00:00\",\"2015-06-11T00:00:00+00:00\",\"2015-06-12T00:00:00+00:00\",\"2015-06-13T00:00:00+00:00\",\"2015-06-14T00:00:00+00:00\",\"2015-06-15T00:00:00+00:00\",\"2015-06-16T00:00:00+00:00\",\"2015-06-17T00:00:00+00:00\",\"2015-06-18T00:00:00+00:00\",\"2015-06-19T00:00:00+00:00\",\"2015-06-20T00:00:00+00:00\",\"2015-06-21T00:00:00+00:00\",\"2015-06-22T00:00:00+00:00\",\"2015-06-23T00:00:00+00:00\",\"2015-06-24T00:00:00+00:00\",\"2015-06-25T00:00:00+00:00\",\"2015-06-26T00:00:00+00:00\",\"2015-06-27T00:00:00+00:00\",\"2015-06-28T00:00:00+00:00\",\"2015-06-29T00:00:00+00:00\",\"2015-06-30T00:00:00+00:00\",\"2015-07-01T00:00:00+00:00\",\"2015-07-02T00:00:00+00:00\",\"2015-07-03T00:00:00+00:00\",\"2015-07-04T00:00:00+00:00\",\"2015-07-05T00:00:00+00:00\",\"2015-07-06T00:00:00+00:00\",\"2015-07-07T00:00:00+00:00\",\"2015-07-08T00:00:00+00:00\",\"2015-07-09T00:00:00+00:00\",\"2015-07-10T00:00:00+00:00\",\"2015-07-11T00:00:00+00:00\",\"2015-07-12T00:00:00+00:00\",\"2015-07-13T00:00:00+00:00\",\"2015-07-14T00:00:00+00:00\",\"2015-07-15T00:00:00+00:00\",\"2015-07-16T00:00:00+00:00\",\"2015-07-17T00:00:00+00:00\",\"2015-07-18T00:00:00+00:00\",\"2015-07-19T00:00:00+00:00\",\"2015-07-20T00:00:00+00:00\",\"2015-07-21T00:00:00+00:00\",\"2015-07-22T00:00:00+00:00\",\"2015-07-23T00:00:00+00:00\",\"2015-07-24T00:00:00+00:00\",\"2015-07-25T00:00:00+00:00\",\"2015-07-26T00:00:00+00:00\",\"2015-07-27T00:00:00+00:00\",\"2015-07-28T00:00:00+00:00\",\"2015-07-29T00:00:00+00:00\",\"2015-07-30T00:00:00+00:00\",\"2015-07-31T00:00:00+00:00\",\"2015-08-01T00:00:00+00:00\",\"2015-08-02T00:00:00+00:00\",\"2015-08-03T00:00:00+00:00\",\"2015-08-04T00:00:00+00:00\",\"2015-08-05T00:00:00+00:00\",\"2015-08-06T00:00:00+00:00\",\"2015-08-07T00:00:00+00:00\",\"2015-08-08T00:00:00+00:00\",\"2015-08-09T00:00:00+00:00\",\"2015-08-10T00:00:00+00:00\",\"2015-08-11T00:00:00+00:00\",\"2015-08-12T00:00:00+00:00\",\"2015-08-13T00:00:00+00:00\",\"2015-08-14T00:00:00+00:00\",\"2015-08-15T00:00:00+00:00\",\"2015-08-16T00:00:00+00:00\",\"2015-08-17T00:00:00+00:00\",\"2015-08-18T00:00:00+00:00\",\"2015-08-19T00:00:00+00:00\",\"2015-08-20T00:00:00+00:00\",\"2015-08-21T00:00:00+00:00\",\"2015-08-22T00:00:00+00:00\",\"2015-08-23T00:00:00+00:00\",\"2015-08-24T00:00:00+00:00\",\"2015-08-25T00:00:00+00:00\",\"2015-08-26T00:00:00+00:00\",\"2015-08-27T00:00:00+00:00\",\"2015-08-28T00:00:00+00:00\",\"2015-08-29T00:00:00+00:00\",\"2015-08-30T00:00:00+00:00\",\"2015-08-31T00:00:00+00:00\",\"2015-09-01T00:00:00+00:00\",\"2015-09-02T00:00:00+00:00\",\"2015-09-03T00:00:00+00:00\",\"2015-09-04T00:00:00+00:00\",\"2015-09-05T00:00:00+00:00\",\"2015-09-06T00:00:00+00:00\",\"2015-09-07T00:00:00+00:00\",\"2015-09-08T00:00:00+00:00\",\"2015-09-09T00:00:00+00:00\",\"2015-09-10T00:00:00+00:00\",\"2015-09-11T00:00:00+00:00\",\"2015-09-12T00:00:00+00:00\",\"2015-09-13T00:00:00+00:00\",\"2015-09-14T00:00:00+00:00\",\"2015-09-15T00:00:00+00:00\",\"2015-09-16T00:00:00+00:00\",\"2015-09-17T00:00:00+00:00\",\"2015-09-18T00:00:00+00:00\",\"2015-09-19T00:00:00+00:00\",\"2015-09-20T00:00:00+00:00\",\"2015-09-21T00:00:00+00:00\",\"2015-09-22T00:00:00+00:00\",\"2015-09-23T00:00:00+00:00\",\"2015-09-24T00:00:00+00:00\",\"2015-09-25T00:00:00+00:00\",\"2015-09-26T00:00:00+00:00\",\"2015-09-27T00:00:00+00:00\",\"2015-09-28T00:00:00+00:00\",\"2015-09-29T00:00:00+00:00\",\"2015-09-30T00:00:00+00:00\",\"2015-10-01T00:00:00+00:00\",\"2015-10-02T00:00:00+00:00\",\"2015-10-03T00:00:00+00:00\",\"2015-10-04T00:00:00+00:00\",\"2015-10-05T00:00:00+00:00\",\"2015-10-06T00:00:00+00:00\",\"2015-10-07T00:00:00+00:00\",\"2015-10-08T00:00:00+00:00\",\"2015-10-09T00:00:00+00:00\",\"2015-10-10T00:00:00+00:00\",\"2015-10-11T00:00:00+00:00\",\"2015-10-12T00:00:00+00:00\",\"2015-10-13T00:00:00+00:00\",\"2015-10-14T00:00:00+00:00\",\"2015-10-15T00:00:00+00:00\",\"2015-10-16T00:00:00+00:00\",\"2015-10-17T00:00:00+00:00\",\"2015-10-18T00:00:00+00:00\",\"2015-10-19T00:00:00+00:00\",\"2015-10-20T00:00:00+00:00\",\"2015-10-21T00:00:00+00:00\",\"2015-10-22T00:00:00+00:00\",\"2015-10-23T00:00:00+00:00\",\"2015-10-24T00:00:00+00:00\",\"2015-10-25T00:00:00+00:00\",\"2015-10-26T00:00:00+00:00\",\"2015-10-27T00:00:00+00:00\",\"2015-10-28T00:00:00+00:00\",\"2015-10-29T00:00:00+00:00\",\"2015-10-30T00:00:00+00:00\",\"2015-10-31T00:00:00+00:00\",\"2015-11-01T00:00:00+00:00\",\"2015-11-02T00:00:00+00:00\",\"2015-11-03T00:00:00+00:00\",\"2015-11-04T00:00:00+00:00\",\"2015-11-05T00:00:00+00:00\",\"2015-11-06T00:00:00+00:00\",\"2015-11-07T00:00:00+00:00\",\"2015-11-08T00:00:00+00:00\",\"2015-11-09T00:00:00+00:00\",\"2015-11-10T00:00:00+00:00\",\"2015-11-11T00:00:00+00:00\",\"2015-11-12T00:00:00+00:00\",\"2015-11-13T00:00:00+00:00\",\"2015-11-14T00:00:00+00:00\",\"2015-11-15T00:00:00+00:00\",\"2015-11-16T00:00:00+00:00\",\"2015-11-17T00:00:00+00:00\",\"2015-11-18T00:00:00+00:00\",\"2015-11-19T00:00:00+00:00\",\"2015-11-20T00:00:00+00:00\",\"2015-11-21T00:00:00+00:00\",\"2015-11-22T00:00:00+00:00\",\"2015-11-23T00:00:00+00:00\",\"2015-11-24T00:00:00+00:00\",\"2015-11-25T00:00:00+00:00\",\"2015-11-26T00:00:00+00:00\",\"2015-11-27T00:00:00+00:00\",\"2015-11-28T00:00:00+00:00\",\"2015-11-29T00:00:00+00:00\",\"2015-11-30T00:00:00+00:00\",\"2015-12-01T00:00:00+00:00\",\"2015-12-02T00:00:00+00:00\",\"2015-12-03T00:00:00+00:00\",\"2015-12-04T00:00:00+00:00\",\"2015-12-05T00:00:00+00:00\",\"2015-12-06T00:00:00+00:00\",\"2015-12-07T00:00:00+00:00\",\"2015-12-08T00:00:00+00:00\",\"2015-12-09T00:00:00+00:00\",\"2015-12-10T00:00:00+00:00\",\"2015-12-11T00:00:00+00:00\",\"2015-12-12T00:00:00+00:00\",\"2015-12-13T00:00:00+00:00\",\"2015-12-14T00:00:00+00:00\",\"2015-12-15T00:00:00+00:00\",\"2015-12-16T00:00:00+00:00\",\"2015-12-17T00:00:00+00:00\",\"2015-12-18T00:00:00+00:00\",\"2015-12-19T00:00:00+00:00\",\"2015-12-20T00:00:00+00:00\",\"2015-12-21T00:00:00+00:00\",\"2015-12-22T00:00:00+00:00\",\"2015-12-23T00:00:00+00:00\",\"2015-12-24T00:00:00+00:00\",\"2015-12-25T00:00:00+00:00\",\"2015-12-26T00:00:00+00:00\",\"2015-12-27T00:00:00+00:00\",\"2015-12-28T00:00:00+00:00\",\"2015-12-29T00:00:00+00:00\",\"2015-12-30T00:00:00+00:00\",\"2015-12-31T00:00:00+00:00\",\"2016-01-01T00:00:00+00:00\",\"2016-01-02T00:00:00+00:00\",\"2016-01-03T00:00:00+00:00\",\"2016-01-04T00:00:00+00:00\",\"2016-01-05T00:00:00+00:00\",\"2016-01-06T00:00:00+00:00\",\"2016-01-07T00:00:00+00:00\",\"2016-01-08T00:00:00+00:00\",\"2016-01-09T00:00:00+00:00\",\"2016-01-10T00:00:00+00:00\",\"2016-01-11T00:00:00+00:00\",\"2016-01-12T00:00:00+00:00\",\"2016-01-13T00:00:00+00:00\",\"2016-01-14T00:00:00+00:00\",\"2016-01-15T00:00:00+00:00\",\"2016-01-16T00:00:00+00:00\",\"2016-01-17T00:00:00+00:00\",\"2016-01-18T00:00:00+00:00\",\"2016-01-19T00:00:00+00:00\",\"2016-01-20T00:00:00+00:00\",\"2016-01-21T00:00:00+00:00\",\"2016-01-22T00:00:00+00:00\",\"2016-01-23T00:00:00+00:00\",\"2016-01-24T00:00:00+00:00\",\"2016-01-25T00:00:00+00:00\",\"2016-01-26T00:00:00+00:00\",\"2016-01-27T00:00:00+00:00\",\"2016-01-28T00:00:00+00:00\",\"2016-01-29T00:00:00+00:00\",\"2016-01-30T00:00:00+00:00\",\"2016-01-31T00:00:00+00:00\",\"2016-02-01T00:00:00+00:00\",\"2016-02-02T00:00:00+00:00\",\"2016-02-03T00:00:00+00:00\",\"2016-02-04T00:00:00+00:00\",\"2016-02-05T00:00:00+00:00\",\"2016-02-06T00:00:00+00:00\",\"2016-02-07T00:00:00+00:00\",\"2016-02-08T00:00:00+00:00\",\"2016-02-09T00:00:00+00:00\",\"2016-02-10T00:00:00+00:00\",\"2016-02-11T00:00:00+00:00\",\"2016-02-12T00:00:00+00:00\",\"2016-02-13T00:00:00+00:00\",\"2016-02-14T00:00:00+00:00\",\"2016-02-15T00:00:00+00:00\",\"2016-02-16T00:00:00+00:00\",\"2016-02-17T00:00:00+00:00\",\"2016-02-18T00:00:00+00:00\",\"2016-02-19T00:00:00+00:00\",\"2016-02-20T00:00:00+00:00\",\"2016-02-21T00:00:00+00:00\",\"2016-02-22T00:00:00+00:00\",\"2016-02-23T00:00:00+00:00\",\"2016-02-24T00:00:00+00:00\",\"2016-02-25T00:00:00+00:00\",\"2016-02-26T00:00:00+00:00\",\"2016-02-27T00:00:00+00:00\",\"2016-02-28T00:00:00+00:00\",\"2016-03-01T00:00:00+00:00\",\"2016-03-02T00:00:00+00:00\",\"2016-03-03T00:00:00+00:00\",\"2016-03-04T00:00:00+00:00\",\"2016-03-05T00:00:00+00:00\",\"2016-03-06T00:00:00+00:00\",\"2016-03-07T00:00:00+00:00\",\"2016-03-08T00:00:00+00:00\",\"2016-03-09T00:00:00+00:00\",\"2016-03-10T00:00:00+00:00\",\"2016-03-11T00:00:00+00:00\",\"2016-03-12T00:00:00+00:00\",\"2016-03-13T00:00:00+00:00\",\"2016-03-14T00:00:00+00:00\",\"2016-03-15T00:00:00+00:00\",\"2016-03-16T00:00:00+00:00\",\"2016-03-17T00:00:00+00:00\",\"2016-03-18T00:00:00+00:00\",\"2016-03-19T00:00:00+00:00\",\"2016-03-20T00:00:00+00:00\",\"2016-03-21T00:00:00+00:00\",\"2016-03-22T00:00:00+00:00\",\"2016-03-23T00:00:00+00:00\",\"2016-03-24T00:00:00+00:00\",\"2016-03-25T00:00:00+00:00\",\"2016-03-26T00:00:00+00:00\",\"2016-03-27T00:00:00+00:00\",\"2016-03-28T00:00:00+00:00\",\"2016-03-29T00:00:00+00:00\",\"2016-03-30T00:00:00+00:00\",\"2016-03-31T00:00:00+00:00\",\"2016-04-01T00:00:00+00:00\",\"2016-04-02T00:00:00+00:00\",\"2016-04-03T00:00:00+00:00\",\"2016-04-04T00:00:00+00:00\",\"2016-04-05T00:00:00+00:00\",\"2016-04-06T00:00:00+00:00\",\"2016-04-07T00:00:00+00:00\",\"2016-04-08T00:00:00+00:00\",\"2016-04-09T00:00:00+00:00\",\"2016-04-10T00:00:00+00:00\",\"2016-04-11T00:00:00+00:00\",\"2016-04-12T00:00:00+00:00\",\"2016-04-13T00:00:00+00:00\",\"2016-04-14T00:00:00+00:00\",\"2016-04-15T00:00:00+00:00\",\"2016-04-16T00:00:00+00:00\",\"2016-04-17T00:00:00+00:00\",\"2016-04-18T00:00:00+00:00\",\"2016-04-19T00:00:00+00:00\",\"2016-04-20T00:00:00+00:00\",\"2016-04-21T00:00:00+00:00\",\"2016-04-22T00:00:00+00:00\",\"2016-04-23T00:00:00+00:00\",\"2016-04-24T00:00:00+00:00\",\"2016-04-25T00:00:00+00:00\",\"2016-04-26T00:00:00+00:00\",\"2016-04-27T00:00:00+00:00\",\"2016-04-28T00:00:00+00:00\",\"2016-04-29T00:00:00+00:00\",\"2016-04-30T00:00:00+00:00\",\"2016-05-01T00:00:00+00:00\",\"2016-05-02T00:00:00+00:00\",\"2016-05-03T00:00:00+00:00\",\"2016-05-04T00:00:00+00:00\",\"2016-05-05T00:00:00+00:00\",\"2016-05-06T00:00:00+00:00\",\"2016-05-07T00:00:00+00:00\",\"2016-05-08T00:00:00+00:00\",\"2016-05-09T00:00:00+00:00\",\"2016-05-10T00:00:00+00:00\",\"2016-05-11T00:00:00+00:00\",\"2016-05-12T00:00:00+00:00\",\"2016-05-13T00:00:00+00:00\",\"2016-05-14T00:00:00+00:00\",\"2016-05-15T00:00:00+00:00\",\"2016-05-16T00:00:00+00:00\",\"2016-05-17T00:00:00+00:00\",\"2016-05-18T00:00:00+00:00\",\"2016-05-19T00:00:00+00:00\",\"2016-05-20T00:00:00+00:00\",\"2016-05-21T00:00:00+00:00\",\"2016-05-22T00:00:00+00:00\",\"2016-05-23T00:00:00+00:00\",\"2016-05-24T00:00:00+00:00\",\"2016-05-25T00:00:00+00:00\",\"2016-05-26T00:00:00+00:00\",\"2016-05-27T00:00:00+00:00\",\"2016-05-28T00:00:00+00:00\",\"2016-05-29T00:00:00+00:00\",\"2016-05-30T00:00:00+00:00\",\"2016-05-31T00:00:00+00:00\",\"2016-06-01T00:00:00+00:00\",\"2016-06-02T00:00:00+00:00\",\"2016-06-03T00:00:00+00:00\",\"2016-06-04T00:00:00+00:00\",\"2016-06-05T00:00:00+00:00\",\"2016-06-06T00:00:00+00:00\",\"2016-06-07T00:00:00+00:00\",\"2016-06-08T00:00:00+00:00\",\"2016-06-09T00:00:00+00:00\",\"2016-06-10T00:00:00+00:00\",\"2016-06-11T00:00:00+00:00\",\"2016-06-12T00:00:00+00:00\",\"2016-06-13T00:00:00+00:00\",\"2016-06-14T00:00:00+00:00\",\"2016-06-15T00:00:00+00:00\",\"2016-06-16T00:00:00+00:00\",\"2016-06-17T00:00:00+00:00\",\"2016-06-18T00:00:00+00:00\",\"2016-06-19T00:00:00+00:00\",\"2016-06-20T00:00:00+00:00\",\"2016-06-21T00:00:00+00:00\",\"2016-06-22T00:00:00+00:00\",\"2016-06-23T00:00:00+00:00\",\"2016-06-24T00:00:00+00:00\",\"2016-06-25T00:00:00+00:00\",\"2016-06-26T00:00:00+00:00\",\"2016-06-27T00:00:00+00:00\",\"2016-06-28T00:00:00+00:00\",\"2016-06-29T00:00:00+00:00\",\"2016-06-30T00:00:00+00:00\",\"2016-07-01T00:00:00+00:00\",\"2016-07-02T00:00:00+00:00\",\"2016-07-03T00:00:00+00:00\",\"2016-07-04T00:00:00+00:00\",\"2016-07-05T00:00:00+00:00\",\"2016-07-06T00:00:00+00:00\",\"2016-07-07T00:00:00+00:00\",\"2016-07-08T00:00:00+00:00\",\"2016-07-09T00:00:00+00:00\",\"2016-07-10T00:00:00+00:00\",\"2016-07-11T00:00:00+00:00\",\"2016-07-12T00:00:00+00:00\",\"2016-07-13T00:00:00+00:00\",\"2016-07-14T00:00:00+00:00\",\"2016-07-15T00:00:00+00:00\",\"2016-07-16T00:00:00+00:00\",\"2016-07-17T00:00:00+00:00\",\"2016-07-18T00:00:00+00:00\",\"2016-07-19T00:00:00+00:00\",\"2016-07-20T00:00:00+00:00\",\"2016-07-21T00:00:00+00:00\",\"2016-07-22T00:00:00+00:00\",\"2016-07-23T00:00:00+00:00\",\"2016-07-24T00:00:00+00:00\",\"2016-07-25T00:00:00+00:00\",\"2016-07-26T00:00:00+00:00\",\"2016-07-27T00:00:00+00:00\",\"2016-07-28T00:00:00+00:00\",\"2016-07-29T00:00:00+00:00\",\"2016-07-30T00:00:00+00:00\",\"2016-07-31T00:00:00+00:00\",\"2016-08-01T00:00:00+00:00\",\"2016-08-02T00:00:00+00:00\",\"2016-08-03T00:00:00+00:00\",\"2016-08-04T00:00:00+00:00\",\"2016-08-05T00:00:00+00:00\",\"2016-08-06T00:00:00+00:00\",\"2016-08-07T00:00:00+00:00\",\"2016-08-08T00:00:00+00:00\",\"2016-08-09T00:00:00+00:00\",\"2016-08-10T00:00:00+00:00\",\"2016-08-11T00:00:00+00:00\",\"2016-08-12T00:00:00+00:00\",\"2016-08-13T00:00:00+00:00\",\"2016-08-14T00:00:00+00:00\",\"2016-08-15T00:00:00+00:00\",\"2016-08-16T00:00:00+00:00\",\"2016-08-17T00:00:00+00:00\",\"2016-08-18T00:00:00+00:00\",\"2016-08-19T00:00:00+00:00\",\"2016-08-20T00:00:00+00:00\",\"2016-08-21T00:00:00+00:00\",\"2016-08-22T00:00:00+00:00\",\"2016-08-23T00:00:00+00:00\",\"2016-08-24T00:00:00+00:00\",\"2016-08-25T00:00:00+00:00\",\"2016-08-26T00:00:00+00:00\",\"2016-08-27T00:00:00+00:00\",\"2016-08-28T00:00:00+00:00\",\"2016-08-29T00:00:00+00:00\",\"2016-08-30T00:00:00+00:00\",\"2016-08-31T00:00:00+00:00\",\"2016-09-01T00:00:00+00:00\",\"2016-09-02T00:00:00+00:00\",\"2016-09-03T00:00:00+00:00\",\"2016-09-04T00:00:00+00:00\",\"2016-09-05T00:00:00+00:00\",\"2016-09-06T00:00:00+00:00\",\"2016-09-07T00:00:00+00:00\",\"2016-09-08T00:00:00+00:00\",\"2016-09-09T00:00:00+00:00\",\"2016-09-10T00:00:00+00:00\",\"2016-09-11T00:00:00+00:00\",\"2016-09-12T00:00:00+00:00\",\"2016-09-13T00:00:00+00:00\",\"2016-09-14T00:00:00+00:00\",\"2016-09-15T00:00:00+00:00\",\"2016-09-16T00:00:00+00:00\",\"2016-09-17T00:00:00+00:00\",\"2016-09-18T00:00:00+00:00\",\"2016-09-19T00:00:00+00:00\",\"2016-09-20T00:00:00+00:00\",\"2016-09-21T00:00:00+00:00\",\"2016-09-22T00:00:00+00:00\",\"2016-09-23T00:00:00+00:00\",\"2016-09-24T00:00:00+00:00\",\"2016-09-25T00:00:00+00:00\",\"2016-09-26T00:00:00+00:00\",\"2016-09-27T00:00:00+00:00\",\"2016-09-28T00:00:00+00:00\",\"2016-09-29T00:00:00+00:00\",\"2016-09-30T00:00:00+00:00\",\"2016-10-01T00:00:00+00:00\",\"2016-10-02T00:00:00+00:00\",\"2016-10-03T00:00:00+00:00\",\"2016-10-04T00:00:00+00:00\",\"2016-10-05T00:00:00+00:00\",\"2016-10-06T00:00:00+00:00\",\"2016-10-07T00:00:00+00:00\",\"2016-10-08T00:00:00+00:00\",\"2016-10-09T00:00:00+00:00\",\"2016-10-10T00:00:00+00:00\",\"2016-10-11T00:00:00+00:00\",\"2016-10-12T00:00:00+00:00\",\"2016-10-13T00:00:00+00:00\",\"2016-10-14T00:00:00+00:00\",\"2016-10-15T00:00:00+00:00\",\"2016-10-16T00:00:00+00:00\",\"2016-10-17T00:00:00+00:00\",\"2016-10-18T00:00:00+00:00\",\"2016-10-19T00:00:00+00:00\",\"2016-10-20T00:00:00+00:00\",\"2016-10-21T00:00:00+00:00\",\"2016-10-22T00:00:00+00:00\",\"2016-10-23T00:00:00+00:00\",\"2016-10-24T00:00:00+00:00\",\"2016-10-25T00:00:00+00:00\",\"2016-10-26T00:00:00+00:00\",\"2016-10-27T00:00:00+00:00\",\"2016-10-28T00:00:00+00:00\",\"2016-10-29T00:00:00+00:00\",\"2016-10-30T00:00:00+00:00\",\"2016-10-31T00:00:00+00:00\",\"2016-11-01T00:00:00+00:00\",\"2016-11-02T00:00:00+00:00\",\"2016-11-03T00:00:00+00:00\",\"2016-11-04T00:00:00+00:00\",\"2016-11-05T00:00:00+00:00\",\"2016-11-06T00:00:00+00:00\",\"2016-11-07T00:00:00+00:00\",\"2016-11-08T00:00:00+00:00\",\"2016-11-09T00:00:00+00:00\",\"2016-11-10T00:00:00+00:00\",\"2016-11-11T00:00:00+00:00\",\"2016-11-12T00:00:00+00:00\",\"2016-11-13T00:00:00+00:00\",\"2016-11-14T00:00:00+00:00\",\"2016-11-15T00:00:00+00:00\",\"2016-11-16T00:00:00+00:00\",\"2016-11-17T00:00:00+00:00\",\"2016-11-18T00:00:00+00:00\",\"2016-11-19T00:00:00+00:00\",\"2016-11-20T00:00:00+00:00\",\"2016-11-21T00:00:00+00:00\",\"2016-11-22T00:00:00+00:00\",\"2016-11-23T00:00:00+00:00\",\"2016-11-24T00:00:00+00:00\",\"2016-11-25T00:00:00+00:00\",\"2016-11-26T00:00:00+00:00\",\"2016-11-27T00:00:00+00:00\",\"2016-11-28T00:00:00+00:00\",\"2016-11-29T00:00:00+00:00\",\"2016-11-30T00:00:00+00:00\",\"2016-12-01T00:00:00+00:00\",\"2016-12-02T00:00:00+00:00\",\"2016-12-03T00:00:00+00:00\",\"2016-12-04T00:00:00+00:00\",\"2016-12-05T00:00:00+00:00\",\"2016-12-06T00:00:00+00:00\",\"2016-12-07T00:00:00+00:00\",\"2016-12-08T00:00:00+00:00\",\"2016-12-09T00:00:00+00:00\",\"2016-12-10T00:00:00+00:00\",\"2016-12-11T00:00:00+00:00\",\"2016-12-12T00:00:00+00:00\",\"2016-12-13T00:00:00+00:00\",\"2016-12-14T00:00:00+00:00\",\"2016-12-15T00:00:00+00:00\",\"2016-12-16T00:00:00+00:00\",\"2016-12-17T00:00:00+00:00\",\"2016-12-18T00:00:00+00:00\",\"2016-12-19T00:00:00+00:00\",\"2016-12-20T00:00:00+00:00\",\"2016-12-21T00:00:00+00:00\",\"2016-12-22T00:00:00+00:00\",\"2016-12-23T00:00:00+00:00\",\"2016-12-24T00:00:00+00:00\",\"2016-12-25T00:00:00+00:00\",\"2016-12-26T00:00:00+00:00\",\"2016-12-27T00:00:00+00:00\",\"2016-12-28T00:00:00+00:00\",\"2016-12-29T00:00:00+00:00\",\"2016-12-30T00:00:00+00:00\",\"2016-12-31T00:00:00+00:00\",\"2017-01-01T00:00:00+00:00\",\"2017-01-02T00:00:00+00:00\",\"2017-01-03T00:00:00+00:00\",\"2017-01-04T00:00:00+00:00\",\"2017-01-05T00:00:00+00:00\",\"2017-01-06T00:00:00+00:00\",\"2017-01-07T00:00:00+00:00\",\"2017-01-08T00:00:00+00:00\",\"2017-01-09T00:00:00+00:00\",\"2017-01-10T00:00:00+00:00\",\"2017-01-11T00:00:00+00:00\",\"2017-01-12T00:00:00+00:00\",\"2017-01-13T00:00:00+00:00\",\"2017-01-14T00:00:00+00:00\",\"2017-01-15T00:00:00+00:00\",\"2017-01-16T00:00:00+00:00\",\"2017-01-17T00:00:00+00:00\",\"2017-01-18T00:00:00+00:00\",\"2017-01-19T00:00:00+00:00\",\"2017-01-20T00:00:00+00:00\",\"2017-01-21T00:00:00+00:00\",\"2017-01-22T00:00:00+00:00\",\"2017-01-23T00:00:00+00:00\",\"2017-01-24T00:00:00+00:00\",\"2017-01-25T00:00:00+00:00\",\"2017-01-26T00:00:00+00:00\",\"2017-01-27T00:00:00+00:00\",\"2017-01-28T00:00:00+00:00\",\"2017-01-29T00:00:00+00:00\",\"2017-01-30T00:00:00+00:00\",\"2017-01-31T00:00:00+00:00\",\"2017-02-01T00:00:00+00:00\",\"2017-02-02T00:00:00+00:00\",\"2017-02-03T00:00:00+00:00\",\"2017-02-04T00:00:00+00:00\",\"2017-02-05T00:00:00+00:00\",\"2017-02-06T00:00:00+00:00\",\"2017-02-07T00:00:00+00:00\",\"2017-02-08T00:00:00+00:00\",\"2017-02-09T00:00:00+00:00\",\"2017-02-10T00:00:00+00:00\",\"2017-02-11T00:00:00+00:00\",\"2017-02-12T00:00:00+00:00\",\"2017-02-13T00:00:00+00:00\",\"2017-02-14T00:00:00+00:00\",\"2017-02-15T00:00:00+00:00\",\"2017-02-16T00:00:00+00:00\",\"2017-02-17T00:00:00+00:00\",\"2017-02-18T00:00:00+00:00\",\"2017-02-19T00:00:00+00:00\",\"2017-02-20T00:00:00+00:00\",\"2017-02-21T00:00:00+00:00\",\"2017-02-22T00:00:00+00:00\",\"2017-02-23T00:00:00+00:00\",\"2017-02-24T00:00:00+00:00\",\"2017-02-25T00:00:00+00:00\",\"2017-02-26T00:00:00+00:00\",\"2017-02-27T00:00:00+00:00\",\"2017-02-28T00:00:00+00:00\",\"2017-03-01T00:00:00+00:00\",\"2017-03-02T00:00:00+00:00\",\"2017-03-03T00:00:00+00:00\",\"2017-03-04T00:00:00+00:00\",\"2017-03-05T00:00:00+00:00\",\"2017-03-06T00:00:00+00:00\",\"2017-03-07T00:00:00+00:00\",\"2017-03-08T00:00:00+00:00\",\"2017-03-09T00:00:00+00:00\",\"2017-03-10T00:00:00+00:00\",\"2017-03-11T00:00:00+00:00\",\"2017-03-12T00:00:00+00:00\",\"2017-03-13T00:00:00+00:00\",\"2017-03-14T00:00:00+00:00\",\"2017-03-15T00:00:00+00:00\",\"2017-03-16T00:00:00+00:00\",\"2017-03-17T00:00:00+00:00\",\"2017-03-18T00:00:00+00:00\",\"2017-03-19T00:00:00+00:00\",\"2017-03-20T00:00:00+00:00\",\"2017-03-21T00:00:00+00:00\",\"2017-03-22T00:00:00+00:00\",\"2017-03-23T00:00:00+00:00\",\"2017-03-24T00:00:00+00:00\",\"2017-03-25T00:00:00+00:00\",\"2017-03-26T00:00:00+00:00\",\"2017-03-27T00:00:00+00:00\",\"2017-03-28T00:00:00+00:00\",\"2017-03-29T00:00:00+00:00\",\"2017-03-30T00:00:00+00:00\",\"2017-03-31T00:00:00+00:00\",\"2017-04-01T00:00:00+00:00\",\"2017-04-02T00:00:00+00:00\",\"2017-04-03T00:00:00+00:00\",\"2017-04-04T00:00:00+00:00\",\"2017-04-05T00:00:00+00:00\",\"2017-04-06T00:00:00+00:00\",\"2017-04-07T00:00:00+00:00\",\"2017-04-08T00:00:00+00:00\",\"2017-04-09T00:00:00+00:00\",\"2017-04-10T00:00:00+00:00\",\"2017-04-11T00:00:00+00:00\",\"2017-04-12T00:00:00+00:00\",\"2017-04-13T00:00:00+00:00\",\"2017-04-14T00:00:00+00:00\",\"2017-04-15T00:00:00+00:00\",\"2017-04-16T00:00:00+00:00\",\"2017-04-17T00:00:00+00:00\",\"2017-04-18T00:00:00+00:00\",\"2017-04-19T00:00:00+00:00\",\"2017-04-20T00:00:00+00:00\",\"2017-04-21T00:00:00+00:00\",\"2017-04-22T00:00:00+00:00\",\"2017-04-23T00:00:00+00:00\",\"2017-04-24T00:00:00+00:00\",\"2017-04-25T00:00:00+00:00\",\"2017-04-26T00:00:00+00:00\",\"2017-04-27T00:00:00+00:00\",\"2017-04-28T00:00:00+00:00\",\"2017-04-29T00:00:00+00:00\",\"2017-04-30T00:00:00+00:00\",\"2017-05-01T00:00:00+00:00\",\"2017-05-02T00:00:00+00:00\",\"2017-05-03T00:00:00+00:00\",\"2017-05-04T00:00:00+00:00\",\"2017-05-05T00:00:00+00:00\",\"2017-05-06T00:00:00+00:00\",\"2017-05-07T00:00:00+00:00\",\"2017-05-08T00:00:00+00:00\",\"2017-05-09T00:00:00+00:00\",\"2017-05-10T00:00:00+00:00\",\"2017-05-11T00:00:00+00:00\",\"2017-05-12T00:00:00+00:00\",\"2017-05-13T00:00:00+00:00\",\"2017-05-14T00:00:00+00:00\",\"2017-05-15T00:00:00+00:00\",\"2017-05-16T00:00:00+00:00\",\"2017-05-17T00:00:00+00:00\",\"2017-05-18T00:00:00+00:00\",\"2017-05-19T00:00:00+00:00\",\"2017-05-20T00:00:00+00:00\",\"2017-05-21T00:00:00+00:00\",\"2017-05-22T00:00:00+00:00\",\"2017-05-23T00:00:00+00:00\",\"2017-05-24T00:00:00+00:00\",\"2017-05-25T00:00:00+00:00\",\"2017-05-26T00:00:00+00:00\",\"2017-05-27T00:00:00+00:00\",\"2017-05-28T00:00:00+00:00\",\"2017-05-29T00:00:00+00:00\",\"2017-05-30T00:00:00+00:00\",\"2017-05-31T00:00:00+00:00\",\"2017-06-01T00:00:00+00:00\",\"2017-06-02T00:00:00+00:00\",\"2017-06-03T00:00:00+00:00\",\"2017-06-04T00:00:00+00:00\",\"2017-06-05T00:00:00+00:00\",\"2017-06-06T00:00:00+00:00\",\"2017-06-07T00:00:00+00:00\",\"2017-06-08T00:00:00+00:00\",\"2017-06-09T00:00:00+00:00\",\"2017-06-10T00:00:00+00:00\",\"2017-06-11T00:00:00+00:00\",\"2017-06-12T00:00:00+00:00\",\"2017-06-13T00:00:00+00:00\",\"2017-06-14T00:00:00+00:00\",\"2017-06-15T00:00:00+00:00\",\"2017-06-16T00:00:00+00:00\",\"2017-06-17T00:00:00+00:00\",\"2017-06-18T00:00:00+00:00\",\"2017-06-19T00:00:00+00:00\",\"2017-06-20T00:00:00+00:00\",\"2017-06-21T00:00:00+00:00\",\"2017-06-22T00:00:00+00:00\",\"2017-06-23T00:00:00+00:00\",\"2017-06-24T00:00:00+00:00\",\"2017-06-25T00:00:00+00:00\",\"2017-06-26T00:00:00+00:00\",\"2017-06-27T00:00:00+00:00\",\"2017-06-28T00:00:00+00:00\",\"2017-06-29T00:00:00+00:00\",\"2017-06-30T00:00:00+00:00\",\"2017-07-01T00:00:00+00:00\",\"2017-07-02T00:00:00+00:00\",\"2017-07-03T00:00:00+00:00\",\"2017-07-04T00:00:00+00:00\",\"2017-07-05T00:00:00+00:00\",\"2017-07-06T00:00:00+00:00\",\"2017-07-07T00:00:00+00:00\",\"2017-07-08T00:00:00+00:00\",\"2017-07-09T00:00:00+00:00\",\"2017-07-10T00:00:00+00:00\",\"2017-07-11T00:00:00+00:00\",\"2017-07-12T00:00:00+00:00\",\"2017-07-13T00:00:00+00:00\",\"2017-07-14T00:00:00+00:00\",\"2017-07-15T00:00:00+00:00\",\"2017-07-16T00:00:00+00:00\",\"2017-07-17T00:00:00+00:00\",\"2017-07-18T00:00:00+00:00\",\"2017-07-19T00:00:00+00:00\",\"2017-07-20T00:00:00+00:00\",\"2017-07-21T00:00:00+00:00\",\"2017-07-22T00:00:00+00:00\",\"2017-07-23T00:00:00+00:00\",\"2017-07-24T00:00:00+00:00\",\"2017-07-25T00:00:00+00:00\",\"2017-07-26T00:00:00+00:00\",\"2017-07-27T00:00:00+00:00\",\"2017-07-28T00:00:00+00:00\",\"2017-07-29T00:00:00+00:00\",\"2017-07-30T00:00:00+00:00\",\"2017-07-31T00:00:00+00:00\",\"2017-08-01T00:00:00+00:00\",\"2017-08-02T00:00:00+00:00\",\"2017-08-03T00:00:00+00:00\",\"2017-08-04T00:00:00+00:00\",\"2017-08-05T00:00:00+00:00\",\"2017-08-06T00:00:00+00:00\",\"2017-08-07T00:00:00+00:00\",\"2017-08-08T00:00:00+00:00\",\"2017-08-09T00:00:00+00:00\",\"2017-08-10T00:00:00+00:00\",\"2017-08-11T00:00:00+00:00\",\"2017-08-12T00:00:00+00:00\",\"2017-08-13T00:00:00+00:00\",\"2017-08-14T00:00:00+00:00\",\"2017-08-15T00:00:00+00:00\",\"2017-08-16T00:00:00+00:00\",\"2017-08-17T00:00:00+00:00\",\"2017-08-18T00:00:00+00:00\",\"2017-08-19T00:00:00+00:00\",\"2017-08-20T00:00:00+00:00\",\"2017-08-21T00:00:00+00:00\",\"2017-08-22T00:00:00+00:00\",\"2017-08-23T00:00:00+00:00\",\"2017-08-24T00:00:00+00:00\",\"2017-08-25T00:00:00+00:00\",\"2017-08-26T00:00:00+00:00\",\"2017-08-27T00:00:00+00:00\",\"2017-08-28T00:00:00+00:00\",\"2017-08-29T00:00:00+00:00\",\"2017-08-30T00:00:00+00:00\",\"2017-08-31T00:00:00+00:00\",\"2017-09-01T00:00:00+00:00\",\"2017-09-02T00:00:00+00:00\",\"2017-09-03T00:00:00+00:00\",\"2017-09-04T00:00:00+00:00\",\"2017-09-05T00:00:00+00:00\",\"2017-09-06T00:00:00+00:00\",\"2017-09-07T00:00:00+00:00\",\"2017-09-08T00:00:00+00:00\",\"2017-09-09T00:00:00+00:00\",\"2017-09-10T00:00:00+00:00\",\"2017-09-11T00:00:00+00:00\",\"2017-09-12T00:00:00+00:00\",\"2017-09-13T00:00:00+00:00\",\"2017-09-14T00:00:00+00:00\",\"2017-09-15T00:00:00+00:00\",\"2017-09-16T00:00:00+00:00\",\"2017-09-17T00:00:00+00:00\",\"2017-09-18T00:00:00+00:00\",\"2017-09-19T00:00:00+00:00\",\"2017-09-20T00:00:00+00:00\",\"2017-09-21T00:00:00+00:00\",\"2017-09-22T00:00:00+00:00\",\"2017-09-23T00:00:00+00:00\",\"2017-09-24T00:00:00+00:00\",\"2017-09-25T00:00:00+00:00\",\"2017-09-26T00:00:00+00:00\",\"2017-09-27T00:00:00+00:00\",\"2017-09-28T00:00:00+00:00\",\"2017-09-29T00:00:00+00:00\",\"2017-09-30T00:00:00+00:00\",\"2017-10-01T00:00:00+00:00\",\"2017-10-02T00:00:00+00:00\",\"2017-10-03T00:00:00+00:00\",\"2017-10-04T00:00:00+00:00\",\"2017-10-05T00:00:00+00:00\",\"2017-10-06T00:00:00+00:00\",\"2017-10-07T00:00:00+00:00\",\"2017-10-08T00:00:00+00:00\",\"2017-10-09T00:00:00+00:00\",\"2017-10-10T00:00:00+00:00\",\"2017-10-11T00:00:00+00:00\",\"2017-10-12T00:00:00+00:00\",\"2017-10-13T00:00:00+00:00\",\"2017-10-14T00:00:00+00:00\",\"2017-10-15T00:00:00+00:00\",\"2017-10-16T00:00:00+00:00\",\"2017-10-17T00:00:00+00:00\",\"2017-10-18T00:00:00+00:00\",\"2017-10-19T00:00:00+00:00\",\"2017-10-20T00:00:00+00:00\",\"2017-10-21T00:00:00+00:00\",\"2017-10-22T00:00:00+00:00\",\"2017-10-23T00:00:00+00:00\",\"2017-10-24T00:00:00+00:00\",\"2017-10-25T00:00:00+00:00\",\"2017-10-26T00:00:00+00:00\",\"2017-10-27T00:00:00+00:00\",\"2017-10-28T00:00:00+00:00\",\"2017-10-29T00:00:00+00:00\",\"2017-10-30T00:00:00+00:00\",\"2017-10-31T00:00:00+00:00\",\"2017-11-01T00:00:00+00:00\",\"2017-11-02T00:00:00+00:00\",\"2017-11-03T00:00:00+00:00\",\"2017-11-04T00:00:00+00:00\",\"2017-11-05T00:00:00+00:00\",\"2017-11-06T00:00:00+00:00\",\"2017-11-07T00:00:00+00:00\",\"2017-11-08T00:00:00+00:00\",\"2017-11-09T00:00:00+00:00\",\"2017-11-10T00:00:00+00:00\",\"2017-11-11T00:00:00+00:00\",\"2017-11-12T00:00:00+00:00\",\"2017-11-13T00:00:00+00:00\",\"2017-11-14T00:00:00+00:00\",\"2017-11-15T00:00:00+00:00\",\"2017-11-16T00:00:00+00:00\",\"2017-11-17T00:00:00+00:00\",\"2017-11-18T00:00:00+00:00\",\"2017-11-19T00:00:00+00:00\",\"2017-11-20T00:00:00+00:00\",\"2017-11-21T00:00:00+00:00\",\"2017-11-22T00:00:00+00:00\",\"2017-11-23T00:00:00+00:00\",\"2017-11-24T00:00:00+00:00\",\"2017-11-25T00:00:00+00:00\",\"2017-11-26T00:00:00+00:00\",\"2017-11-27T00:00:00+00:00\",\"2017-11-28T00:00:00+00:00\",\"2017-11-29T00:00:00+00:00\",\"2017-11-30T00:00:00+00:00\",\"2017-12-01T00:00:00+00:00\",\"2017-12-02T00:00:00+00:00\",\"2017-12-03T00:00:00+00:00\",\"2017-12-04T00:00:00+00:00\",\"2017-12-05T00:00:00+00:00\",\"2017-12-06T00:00:00+00:00\",\"2017-12-07T00:00:00+00:00\",\"2017-12-08T00:00:00+00:00\",\"2017-12-09T00:00:00+00:00\",\"2017-12-10T00:00:00+00:00\",\"2017-12-11T00:00:00+00:00\",\"2017-12-12T00:00:00+00:00\",\"2017-12-13T00:00:00+00:00\",\"2017-12-14T00:00:00+00:00\",\"2017-12-15T00:00:00+00:00\",\"2017-12-16T00:00:00+00:00\",\"2017-12-17T00:00:00+00:00\",\"2017-12-18T00:00:00+00:00\",\"2017-12-19T00:00:00+00:00\",\"2017-12-20T00:00:00+00:00\",\"2017-12-21T00:00:00+00:00\",\"2017-12-22T00:00:00+00:00\",\"2017-12-23T00:00:00+00:00\",\"2017-12-24T00:00:00+00:00\",\"2017-12-25T00:00:00+00:00\",\"2017-12-26T00:00:00+00:00\",\"2017-12-27T00:00:00+00:00\",\"2017-12-28T00:00:00+00:00\",\"2017-12-29T00:00:00+00:00\",\"2017-12-30T00:00:00+00:00\",\"2017-12-31T00:00:00+00:00\",\"2018-01-01T00:00:00+00:00\",\"2018-01-02T00:00:00+00:00\",\"2018-01-03T00:00:00+00:00\",\"2018-01-04T00:00:00+00:00\",\"2018-01-05T00:00:00+00:00\",\"2018-01-06T00:00:00+00:00\",\"2018-01-07T00:00:00+00:00\",\"2018-01-08T00:00:00+00:00\",\"2018-01-09T00:00:00+00:00\",\"2018-01-10T00:00:00+00:00\",\"2018-01-11T00:00:00+00:00\",\"2018-01-12T00:00:00+00:00\",\"2018-01-13T00:00:00+00:00\",\"2018-01-14T00:00:00+00:00\",\"2018-01-15T00:00:00+00:00\",\"2018-01-16T00:00:00+00:00\",\"2018-01-17T00:00:00+00:00\",\"2018-01-18T00:00:00+00:00\",\"2018-01-19T00:00:00+00:00\",\"2018-01-20T00:00:00+00:00\",\"2018-01-21T00:00:00+00:00\",\"2018-01-22T00:00:00+00:00\",\"2018-01-23T00:00:00+00:00\",\"2018-01-24T00:00:00+00:00\",\"2018-01-25T00:00:00+00:00\",\"2018-01-26T00:00:00+00:00\",\"2018-01-27T00:00:00+00:00\",\"2018-01-28T00:00:00+00:00\",\"2018-01-29T00:00:00+00:00\",\"2018-01-30T00:00:00+00:00\",\"2018-01-31T00:00:00+00:00\",\"2018-02-01T00:00:00+00:00\",\"2018-02-02T00:00:00+00:00\",\"2018-02-03T00:00:00+00:00\",\"2018-02-04T00:00:00+00:00\",\"2018-02-05T00:00:00+00:00\",\"2018-02-06T00:00:00+00:00\",\"2018-02-07T00:00:00+00:00\",\"2018-02-08T00:00:00+00:00\",\"2018-02-09T00:00:00+00:00\",\"2018-02-10T00:00:00+00:00\",\"2018-02-11T00:00:00+00:00\",\"2018-02-12T00:00:00+00:00\",\"2018-02-13T00:00:00+00:00\",\"2018-02-14T00:00:00+00:00\",\"2018-02-15T00:00:00+00:00\",\"2018-02-16T00:00:00+00:00\",\"2018-02-17T00:00:00+00:00\",\"2018-02-18T00:00:00+00:00\",\"2018-02-19T00:00:00+00:00\",\"2018-02-20T00:00:00+00:00\",\"2018-02-21T00:00:00+00:00\",\"2018-02-22T00:00:00+00:00\",\"2018-02-23T00:00:00+00:00\",\"2018-02-24T00:00:00+00:00\",\"2018-02-25T00:00:00+00:00\",\"2018-02-26T00:00:00+00:00\",\"2018-02-27T00:00:00+00:00\",\"2018-02-28T00:00:00+00:00\",\"2018-03-01T00:00:00+00:00\",\"2018-03-02T00:00:00+00:00\",\"2018-03-03T00:00:00+00:00\",\"2018-03-04T00:00:00+00:00\",\"2018-03-05T00:00:00+00:00\",\"2018-03-06T00:00:00+00:00\",\"2018-03-07T00:00:00+00:00\",\"2018-03-08T00:00:00+00:00\",\"2018-03-09T00:00:00+00:00\",\"2018-03-10T00:00:00+00:00\",\"2018-03-11T00:00:00+00:00\",\"2018-03-12T00:00:00+00:00\",\"2018-03-13T00:00:00+00:00\",\"2018-03-14T00:00:00+00:00\",\"2018-03-15T00:00:00+00:00\",\"2018-03-16T00:00:00+00:00\",\"2018-03-17T00:00:00+00:00\",\"2018-03-18T00:00:00+00:00\",\"2018-03-19T00:00:00+00:00\",\"2018-03-20T00:00:00+00:00\",\"2018-03-21T00:00:00+00:00\",\"2018-03-22T00:00:00+00:00\",\"2018-03-23T00:00:00+00:00\",\"2018-03-24T00:00:00+00:00\",\"2018-03-25T00:00:00+00:00\",\"2018-03-26T00:00:00+00:00\",\"2018-03-27T00:00:00+00:00\",\"2018-03-28T00:00:00+00:00\",\"2018-03-29T00:00:00+00:00\",\"2018-03-30T00:00:00+00:00\",\"2018-03-31T00:00:00+00:00\",\"2018-04-01T00:00:00+00:00\",\"2018-04-02T00:00:00+00:00\",\"2018-04-03T00:00:00+00:00\",\"2018-04-04T00:00:00+00:00\",\"2018-04-05T00:00:00+00:00\",\"2018-04-06T00:00:00+00:00\",\"2018-04-07T00:00:00+00:00\",\"2018-04-08T00:00:00+00:00\",\"2018-04-09T00:00:00+00:00\",\"2018-04-10T00:00:00+00:00\",\"2018-04-11T00:00:00+00:00\",\"2018-04-12T00:00:00+00:00\",\"2018-04-13T00:00:00+00:00\",\"2018-04-14T00:00:00+00:00\",\"2018-04-15T00:00:00+00:00\",\"2018-04-16T00:00:00+00:00\",\"2018-04-17T00:00:00+00:00\",\"2018-04-18T00:00:00+00:00\",\"2018-04-19T00:00:00+00:00\",\"2018-04-20T00:00:00+00:00\",\"2018-04-21T00:00:00+00:00\",\"2018-04-22T00:00:00+00:00\",\"2018-04-23T00:00:00+00:00\",\"2018-04-24T00:00:00+00:00\",\"2018-04-25T00:00:00+00:00\",\"2018-04-26T00:00:00+00:00\",\"2018-04-27T00:00:00+00:00\",\"2018-04-28T00:00:00+00:00\",\"2018-04-29T00:00:00+00:00\",\"2018-04-30T00:00:00+00:00\",\"2018-05-01T00:00:00+00:00\",\"2018-05-02T00:00:00+00:00\",\"2018-05-03T00:00:00+00:00\",\"2018-05-04T00:00:00+00:00\",\"2018-05-05T00:00:00+00:00\",\"2018-05-06T00:00:00+00:00\",\"2018-05-07T00:00:00+00:00\",\"2018-05-08T00:00:00+00:00\",\"2018-05-09T00:00:00+00:00\",\"2018-05-10T00:00:00+00:00\",\"2018-05-11T00:00:00+00:00\",\"2018-05-12T00:00:00+00:00\",\"2018-05-13T00:00:00+00:00\",\"2018-05-14T00:00:00+00:00\",\"2018-05-15T00:00:00+00:00\",\"2018-05-16T00:00:00+00:00\",\"2018-05-17T00:00:00+00:00\",\"2018-05-18T00:00:00+00:00\",\"2018-05-19T00:00:00+00:00\",\"2018-05-20T00:00:00+00:00\",\"2018-05-21T00:00:00+00:00\",\"2018-05-22T00:00:00+00:00\",\"2018-05-23T00:00:00+00:00\",\"2018-05-24T00:00:00+00:00\",\"2018-05-25T00:00:00+00:00\",\"2018-05-26T00:00:00+00:00\",\"2018-05-27T00:00:00+00:00\",\"2018-05-28T00:00:00+00:00\",\"2018-05-29T00:00:00+00:00\",\"2018-05-30T00:00:00+00:00\",\"2018-05-31T00:00:00+00:00\",\"2018-06-01T00:00:00+00:00\",\"2018-06-02T00:00:00+00:00\",\"2018-06-03T00:00:00+00:00\",\"2018-06-04T00:00:00+00:00\",\"2018-06-05T00:00:00+00:00\",\"2018-06-06T00:00:00+00:00\",\"2018-06-07T00:00:00+00:00\",\"2018-06-08T00:00:00+00:00\",\"2018-06-09T00:00:00+00:00\",\"2018-06-10T00:00:00+00:00\",\"2018-06-11T00:00:00+00:00\",\"2018-06-12T00:00:00+00:00\",\"2018-06-13T00:00:00+00:00\",\"2018-06-14T00:00:00+00:00\",\"2018-06-15T00:00:00+00:00\",\"2018-06-16T00:00:00+00:00\",\"2018-06-17T00:00:00+00:00\",\"2018-06-18T00:00:00+00:00\",\"2018-06-19T00:00:00+00:00\",\"2018-06-20T00:00:00+00:00\",\"2018-06-21T00:00:00+00:00\",\"2018-06-22T00:00:00+00:00\",\"2018-06-23T00:00:00+00:00\",\"2018-06-24T00:00:00+00:00\",\"2018-06-25T00:00:00+00:00\",\"2018-06-26T00:00:00+00:00\",\"2018-06-27T00:00:00+00:00\",\"2018-06-28T00:00:00+00:00\",\"2018-06-29T00:00:00+00:00\",\"2018-06-30T00:00:00+00:00\",\"2018-07-01T00:00:00+00:00\",\"2018-07-02T00:00:00+00:00\",\"2018-07-03T00:00:00+00:00\",\"2018-07-04T00:00:00+00:00\",\"2018-07-05T00:00:00+00:00\",\"2018-07-06T00:00:00+00:00\",\"2018-07-07T00:00:00+00:00\",\"2018-07-08T00:00:00+00:00\",\"2018-07-09T00:00:00+00:00\",\"2018-07-10T00:00:00+00:00\",\"2018-07-11T00:00:00+00:00\",\"2018-07-12T00:00:00+00:00\",\"2018-07-13T00:00:00+00:00\",\"2018-07-14T00:00:00+00:00\",\"2018-07-15T00:00:00+00:00\",\"2018-07-16T00:00:00+00:00\",\"2018-07-17T00:00:00+00:00\",\"2018-07-18T00:00:00+00:00\",\"2018-07-19T00:00:00+00:00\",\"2018-07-20T00:00:00+00:00\",\"2018-07-21T00:00:00+00:00\",\"2018-07-22T00:00:00+00:00\",\"2018-07-23T00:00:00+00:00\",\"2018-07-24T00:00:00+00:00\",\"2018-07-25T00:00:00+00:00\",\"2018-07-26T00:00:00+00:00\",\"2018-07-27T00:00:00+00:00\",\"2018-07-28T00:00:00+00:00\",\"2018-07-29T00:00:00+00:00\",\"2018-07-30T00:00:00+00:00\",\"2018-07-31T00:00:00+00:00\",\"2018-08-01T00:00:00+00:00\",\"2018-08-02T00:00:00+00:00\",\"2018-08-03T00:00:00+00:00\",\"2018-08-04T00:00:00+00:00\",\"2018-08-05T00:00:00+00:00\",\"2018-08-06T00:00:00+00:00\",\"2018-08-07T00:00:00+00:00\",\"2018-08-08T00:00:00+00:00\",\"2018-08-09T00:00:00+00:00\",\"2018-08-10T00:00:00+00:00\",\"2018-08-11T00:00:00+00:00\",\"2018-08-12T00:00:00+00:00\",\"2018-08-13T00:00:00+00:00\",\"2018-08-14T00:00:00+00:00\",\"2018-08-15T00:00:00+00:00\",\"2018-08-16T00:00:00+00:00\",\"2018-08-17T00:00:00+00:00\",\"2018-08-18T00:00:00+00:00\",\"2018-08-19T00:00:00+00:00\",\"2018-08-20T00:00:00+00:00\",\"2018-08-21T00:00:00+00:00\",\"2018-08-22T00:00:00+00:00\",\"2018-08-23T00:00:00+00:00\",\"2018-08-24T00:00:00+00:00\",\"2018-08-25T00:00:00+00:00\",\"2018-08-26T00:00:00+00:00\",\"2018-08-27T00:00:00+00:00\",\"2018-08-28T00:00:00+00:00\",\"2018-08-29T00:00:00+00:00\",\"2018-08-30T00:00:00+00:00\",\"2018-08-31T00:00:00+00:00\",\"2018-09-01T00:00:00+00:00\",\"2018-09-02T00:00:00+00:00\",\"2018-09-03T00:00:00+00:00\",\"2018-09-04T00:00:00+00:00\",\"2018-09-05T00:00:00+00:00\",\"2018-09-06T00:00:00+00:00\",\"2018-09-07T00:00:00+00:00\",\"2018-09-08T00:00:00+00:00\",\"2018-09-09T00:00:00+00:00\",\"2018-09-10T00:00:00+00:00\",\"2018-09-11T00:00:00+00:00\",\"2018-09-12T00:00:00+00:00\",\"2018-09-13T00:00:00+00:00\",\"2018-09-14T00:00:00+00:00\",\"2018-09-15T00:00:00+00:00\",\"2018-09-16T00:00:00+00:00\",\"2018-09-17T00:00:00+00:00\",\"2018-09-18T00:00:00+00:00\",\"2018-09-19T00:00:00+00:00\",\"2018-09-20T00:00:00+00:00\",\"2018-09-21T00:00:00+00:00\",\"2018-09-22T00:00:00+00:00\",\"2018-09-23T00:00:00+00:00\",\"2018-09-24T00:00:00+00:00\",\"2018-09-25T00:00:00+00:00\",\"2018-09-26T00:00:00+00:00\",\"2018-09-27T00:00:00+00:00\",\"2018-09-28T00:00:00+00:00\",\"2018-09-29T00:00:00+00:00\",\"2018-09-30T00:00:00+00:00\",\"2018-10-01T00:00:00+00:00\",\"2018-10-02T00:00:00+00:00\",\"2018-10-03T00:00:00+00:00\",\"2018-10-04T00:00:00+00:00\",\"2018-10-05T00:00:00+00:00\",\"2018-10-06T00:00:00+00:00\",\"2018-10-07T00:00:00+00:00\",\"2018-10-08T00:00:00+00:00\",\"2018-10-09T00:00:00+00:00\",\"2018-10-10T00:00:00+00:00\",\"2018-10-11T00:00:00+00:00\",\"2018-10-12T00:00:00+00:00\",\"2018-10-13T00:00:00+00:00\",\"2018-10-14T00:00:00+00:00\",\"2018-10-15T00:00:00+00:00\",\"2018-10-16T00:00:00+00:00\",\"2018-10-17T00:00:00+00:00\",\"2018-10-18T00:00:00+00:00\",\"2018-10-19T00:00:00+00:00\",\"2018-10-20T00:00:00+00:00\",\"2018-10-21T00:00:00+00:00\",\"2018-10-22T00:00:00+00:00\",\"2018-10-23T00:00:00+00:00\",\"2018-10-24T00:00:00+00:00\",\"2018-10-25T00:00:00+00:00\",\"2018-10-26T00:00:00+00:00\",\"2018-10-27T00:00:00+00:00\",\"2018-10-28T00:00:00+00:00\",\"2018-10-29T00:00:00+00:00\",\"2018-10-30T00:00:00+00:00\",\"2018-10-31T00:00:00+00:00\",\"2018-11-01T00:00:00+00:00\",\"2018-11-02T00:00:00+00:00\",\"2018-11-03T00:00:00+00:00\",\"2018-11-04T00:00:00+00:00\",\"2018-11-05T00:00:00+00:00\",\"2018-11-06T00:00:00+00:00\",\"2018-11-07T00:00:00+00:00\",\"2018-11-08T00:00:00+00:00\",\"2018-11-09T00:00:00+00:00\",\"2018-11-10T00:00:00+00:00\",\"2018-11-11T00:00:00+00:00\",\"2018-11-12T00:00:00+00:00\",\"2018-11-13T00:00:00+00:00\",\"2018-11-14T00:00:00+00:00\",\"2018-11-15T00:00:00+00:00\",\"2018-11-16T00:00:00+00:00\",\"2018-11-17T00:00:00+00:00\",\"2018-11-18T00:00:00+00:00\",\"2018-11-19T00:00:00+00:00\",\"2018-11-20T00:00:00+00:00\",\"2018-11-21T00:00:00+00:00\",\"2018-11-22T00:00:00+00:00\",\"2018-11-23T00:00:00+00:00\",\"2018-11-24T00:00:00+00:00\",\"2018-11-25T00:00:00+00:00\",\"2018-11-26T00:00:00+00:00\",\"2018-11-27T00:00:00+00:00\",\"2018-11-28T00:00:00+00:00\",\"2018-11-29T00:00:00+00:00\",\"2018-11-30T00:00:00+00:00\",\"2018-12-01T00:00:00+00:00\",\"2018-12-02T00:00:00+00:00\",\"2018-12-03T00:00:00+00:00\",\"2018-12-04T00:00:00+00:00\",\"2018-12-05T00:00:00+00:00\",\"2018-12-06T00:00:00+00:00\",\"2018-12-07T00:00:00+00:00\",\"2018-12-08T00:00:00+00:00\",\"2018-12-09T00:00:00+00:00\",\"2018-12-10T00:00:00+00:00\",\"2018-12-11T00:00:00+00:00\",\"2018-12-12T00:00:00+00:00\",\"2018-12-13T00:00:00+00:00\",\"2018-12-14T00:00:00+00:00\",\"2018-12-15T00:00:00+00:00\",\"2018-12-16T00:00:00+00:00\",\"2018-12-17T00:00:00+00:00\",\"2018-12-18T00:00:00+00:00\",\"2018-12-19T00:00:00+00:00\",\"2018-12-20T00:00:00+00:00\",\"2018-12-21T00:00:00+00:00\",\"2018-12-22T00:00:00+00:00\",\"2018-12-23T00:00:00+00:00\",\"2018-12-24T00:00:00+00:00\",\"2018-12-25T00:00:00+00:00\",\"2018-12-26T00:00:00+00:00\",\"2018-12-27T00:00:00+00:00\",\"2018-12-28T00:00:00+00:00\",\"2018-12-29T00:00:00+00:00\",\"2018-12-30T00:00:00+00:00\",\"2018-12-31T00:00:00+00:00\",\"2019-01-01T00:00:00+00:00\",\"2019-01-02T00:00:00+00:00\",\"2019-01-03T00:00:00+00:00\",\"2019-01-04T00:00:00+00:00\",\"2019-01-05T00:00:00+00:00\",\"2019-01-06T00:00:00+00:00\",\"2019-01-07T00:00:00+00:00\",\"2019-01-08T00:00:00+00:00\",\"2019-01-09T00:00:00+00:00\",\"2019-01-10T00:00:00+00:00\",\"2019-01-11T00:00:00+00:00\",\"2019-01-12T00:00:00+00:00\",\"2019-01-13T00:00:00+00:00\",\"2019-01-14T00:00:00+00:00\",\"2019-01-15T00:00:00+00:00\",\"2019-01-16T00:00:00+00:00\",\"2019-01-17T00:00:00+00:00\",\"2019-01-18T00:00:00+00:00\",\"2019-01-19T00:00:00+00:00\",\"2019-01-20T00:00:00+00:00\",\"2019-01-21T00:00:00+00:00\",\"2019-01-22T00:00:00+00:00\",\"2019-01-23T00:00:00+00:00\",\"2019-01-24T00:00:00+00:00\",\"2019-01-25T00:00:00+00:00\",\"2019-01-26T00:00:00+00:00\",\"2019-01-27T00:00:00+00:00\",\"2019-01-28T00:00:00+00:00\",\"2019-01-29T00:00:00+00:00\",\"2019-01-30T00:00:00+00:00\",\"2019-01-31T00:00:00+00:00\",\"2019-02-01T00:00:00+00:00\",\"2019-02-02T00:00:00+00:00\",\"2019-02-03T00:00:00+00:00\",\"2019-02-04T00:00:00+00:00\",\"2019-02-05T00:00:00+00:00\",\"2019-02-06T00:00:00+00:00\",\"2019-02-07T00:00:00+00:00\",\"2019-02-08T00:00:00+00:00\",\"2019-02-09T00:00:00+00:00\",\"2019-02-10T00:00:00+00:00\",\"2019-02-11T00:00:00+00:00\",\"2019-02-12T00:00:00+00:00\",\"2019-02-13T00:00:00+00:00\",\"2019-02-14T00:00:00+00:00\",\"2019-02-15T00:00:00+00:00\",\"2019-02-16T00:00:00+00:00\",\"2019-02-17T00:00:00+00:00\",\"2019-02-18T00:00:00+00:00\",\"2019-02-19T00:00:00+00:00\",\"2019-02-20T00:00:00+00:00\",\"2019-02-21T00:00:00+00:00\",\"2019-02-22T00:00:00+00:00\",\"2019-02-23T00:00:00+00:00\",\"2019-02-24T00:00:00+00:00\",\"2019-02-25T00:00:00+00:00\",\"2019-02-26T00:00:00+00:00\",\"2019-02-27T00:00:00+00:00\",\"2019-02-28T00:00:00+00:00\",\"2019-02-28T00:00:00+00:00\",\"2019-03-01T00:00:00+00:00\",\"2019-03-02T00:00:00+00:00\",\"2019-03-03T00:00:00+00:00\",\"2019-03-04T00:00:00+00:00\",\"2019-03-05T00:00:00+00:00\",\"2019-03-06T00:00:00+00:00\",\"2019-03-07T00:00:00+00:00\",\"2019-03-08T00:00:00+00:00\",\"2019-03-09T00:00:00+00:00\",\"2019-03-10T00:00:00+00:00\",\"2019-03-11T00:00:00+00:00\",\"2019-03-12T00:00:00+00:00\",\"2019-03-13T00:00:00+00:00\",\"2019-03-14T00:00:00+00:00\",\"2019-03-15T00:00:00+00:00\",\"2019-03-16T00:00:00+00:00\",\"2019-03-17T00:00:00+00:00\",\"2019-03-18T00:00:00+00:00\",\"2019-03-19T00:00:00+00:00\",\"2019-03-20T00:00:00+00:00\",\"2019-03-21T00:00:00+00:00\",\"2019-03-22T00:00:00+00:00\",\"2019-03-23T00:00:00+00:00\",\"2019-03-24T00:00:00+00:00\",\"2019-03-25T00:00:00+00:00\",\"2019-03-26T00:00:00+00:00\",\"2019-03-27T00:00:00+00:00\",\"2019-03-28T00:00:00+00:00\",\"2019-03-29T00:00:00+00:00\",\"2019-03-30T00:00:00+00:00\",\"2019-03-31T00:00:00+00:00\",\"2019-04-01T00:00:00+00:00\",\"2019-04-02T00:00:00+00:00\",\"2019-04-03T00:00:00+00:00\",\"2019-04-04T00:00:00+00:00\",\"2019-04-05T00:00:00+00:00\",\"2019-04-06T00:00:00+00:00\",\"2019-04-07T00:00:00+00:00\",\"2019-04-08T00:00:00+00:00\",\"2019-04-09T00:00:00+00:00\",\"2019-04-10T00:00:00+00:00\",\"2019-04-11T00:00:00+00:00\",\"2019-04-12T00:00:00+00:00\",\"2019-04-13T00:00:00+00:00\",\"2019-04-14T00:00:00+00:00\",\"2019-04-15T00:00:00+00:00\",\"2019-04-16T00:00:00+00:00\",\"2019-04-17T00:00:00+00:00\",\"2019-04-18T00:00:00+00:00\",\"2019-04-19T00:00:00+00:00\",\"2019-04-20T00:00:00+00:00\",\"2019-04-21T00:00:00+00:00\",\"2019-04-22T00:00:00+00:00\",\"2019-04-23T00:00:00+00:00\",\"2019-04-24T00:00:00+00:00\",\"2019-04-25T00:00:00+00:00\",\"2019-04-26T00:00:00+00:00\",\"2019-04-27T00:00:00+00:00\",\"2019-04-28T00:00:00+00:00\",\"2019-04-29T00:00:00+00:00\",\"2019-04-30T00:00:00+00:00\",\"2019-05-01T00:00:00+00:00\",\"2019-05-02T00:00:00+00:00\",\"2019-05-03T00:00:00+00:00\",\"2019-05-04T00:00:00+00:00\",\"2019-05-05T00:00:00+00:00\",\"2019-05-06T00:00:00+00:00\",\"2019-05-07T00:00:00+00:00\",\"2019-05-08T00:00:00+00:00\",\"2019-05-09T00:00:00+00:00\",\"2019-05-10T00:00:00+00:00\",\"2019-05-11T00:00:00+00:00\",\"2019-05-12T00:00:00+00:00\",\"2019-05-13T00:00:00+00:00\",\"2019-05-14T00:00:00+00:00\",\"2019-05-15T00:00:00+00:00\",\"2019-05-16T00:00:00+00:00\",\"2019-05-17T00:00:00+00:00\",\"2019-05-18T00:00:00+00:00\",\"2019-05-19T00:00:00+00:00\",\"2019-05-20T00:00:00+00:00\",\"2019-05-21T00:00:00+00:00\",\"2019-05-22T00:00:00+00:00\",\"2019-05-23T00:00:00+00:00\",\"2019-05-24T00:00:00+00:00\",\"2019-05-25T00:00:00+00:00\",\"2019-05-26T00:00:00+00:00\",\"2019-05-27T00:00:00+00:00\",\"2019-05-28T00:00:00+00:00\",\"2019-05-29T00:00:00+00:00\",\"2019-05-30T00:00:00+00:00\",\"2019-05-31T00:00:00+00:00\",\"2019-06-01T00:00:00+00:00\",\"2019-06-02T00:00:00+00:00\",\"2019-06-03T00:00:00+00:00\",\"2019-06-04T00:00:00+00:00\",\"2019-06-05T00:00:00+00:00\",\"2019-06-06T00:00:00+00:00\",\"2019-06-07T00:00:00+00:00\",\"2019-06-08T00:00:00+00:00\",\"2019-06-09T00:00:00+00:00\",\"2019-06-10T00:00:00+00:00\",\"2019-06-11T00:00:00+00:00\",\"2019-06-12T00:00:00+00:00\",\"2019-06-13T00:00:00+00:00\",\"2019-06-14T00:00:00+00:00\",\"2019-06-15T00:00:00+00:00\",\"2019-06-16T00:00:00+00:00\",\"2019-06-17T00:00:00+00:00\",\"2019-06-18T00:00:00+00:00\",\"2019-06-19T00:00:00+00:00\",\"2019-06-20T00:00:00+00:00\",\"2019-06-21T00:00:00+00:00\",\"2019-06-22T00:00:00+00:00\",\"2019-06-23T00:00:00+00:00\",\"2019-06-24T00:00:00+00:00\",\"2019-06-25T00:00:00+00:00\",\"2019-06-26T00:00:00+00:00\",\"2019-06-27T00:00:00+00:00\",\"2019-06-28T00:00:00+00:00\",\"2019-06-29T00:00:00+00:00\",\"2019-06-30T00:00:00+00:00\",\"2019-07-01T00:00:00+00:00\",\"2019-07-02T00:00:00+00:00\",\"2019-07-03T00:00:00+00:00\",\"2019-07-04T00:00:00+00:00\",\"2019-07-05T00:00:00+00:00\",\"2019-07-06T00:00:00+00:00\",\"2019-07-07T00:00:00+00:00\",\"2019-07-08T00:00:00+00:00\",\"2019-07-09T00:00:00+00:00\",\"2019-07-10T00:00:00+00:00\",\"2019-07-11T00:00:00+00:00\",\"2019-07-12T00:00:00+00:00\",\"2019-07-13T00:00:00+00:00\",\"2019-07-14T00:00:00+00:00\",\"2019-07-15T00:00:00+00:00\",\"2019-07-16T00:00:00+00:00\",\"2019-07-17T00:00:00+00:00\",\"2019-07-18T00:00:00+00:00\",\"2019-07-19T00:00:00+00:00\",\"2019-07-20T00:00:00+00:00\",\"2019-07-21T00:00:00+00:00\",\"2019-07-22T00:00:00+00:00\",\"2019-07-23T00:00:00+00:00\",\"2019-07-24T00:00:00+00:00\",\"2019-07-25T00:00:00+00:00\",\"2019-07-26T00:00:00+00:00\",\"2019-07-27T00:00:00+00:00\",\"2019-07-28T00:00:00+00:00\",\"2019-07-29T00:00:00+00:00\",\"2019-07-30T00:00:00+00:00\",\"2019-07-31T00:00:00+00:00\",\"2019-08-01T00:00:00+00:00\",\"2019-08-02T00:00:00+00:00\",\"2019-08-03T00:00:00+00:00\",\"2019-08-04T00:00:00+00:00\",\"2019-08-05T00:00:00+00:00\",\"2019-08-06T00:00:00+00:00\",\"2019-08-07T00:00:00+00:00\",\"2019-08-08T00:00:00+00:00\",\"2019-08-09T00:00:00+00:00\",\"2019-08-10T00:00:00+00:00\",\"2019-08-11T00:00:00+00:00\",\"2019-08-12T00:00:00+00:00\",\"2019-08-13T00:00:00+00:00\",\"2019-08-14T00:00:00+00:00\",\"2019-08-15T00:00:00+00:00\",\"2019-08-16T00:00:00+00:00\",\"2019-08-17T00:00:00+00:00\",\"2019-08-18T00:00:00+00:00\",\"2019-08-19T00:00:00+00:00\",\"2019-08-20T00:00:00+00:00\",\"2019-08-21T00:00:00+00:00\",\"2019-08-22T00:00:00+00:00\",\"2019-08-23T00:00:00+00:00\",\"2019-08-24T00:00:00+00:00\",\"2019-08-25T00:00:00+00:00\",\"2019-08-26T00:00:00+00:00\",\"2019-08-27T00:00:00+00:00\",\"2019-08-28T00:00:00+00:00\",\"2019-08-29T00:00:00+00:00\",\"2019-08-30T00:00:00+00:00\",\"2019-08-31T00:00:00+00:00\",\"2019-09-01T00:00:00+00:00\",\"2019-09-02T00:00:00+00:00\",\"2019-09-03T00:00:00+00:00\",\"2019-09-04T00:00:00+00:00\",\"2019-09-05T00:00:00+00:00\",\"2019-09-06T00:00:00+00:00\",\"2019-09-07T00:00:00+00:00\",\"2019-09-08T00:00:00+00:00\",\"2019-09-09T00:00:00+00:00\",\"2019-09-10T00:00:00+00:00\",\"2019-09-11T00:00:00+00:00\",\"2019-09-12T00:00:00+00:00\",\"2019-09-13T00:00:00+00:00\",\"2019-09-14T00:00:00+00:00\",\"2019-09-15T00:00:00+00:00\",\"2019-09-16T00:00:00+00:00\",\"2019-09-17T00:00:00+00:00\",\"2019-09-18T00:00:00+00:00\",\"2019-09-19T00:00:00+00:00\",\"2019-09-20T00:00:00+00:00\",\"2019-09-21T00:00:00+00:00\",\"2019-09-22T00:00:00+00:00\",\"2019-09-23T00:00:00+00:00\",\"2019-09-24T00:00:00+00:00\",\"2019-09-25T00:00:00+00:00\",\"2019-09-26T00:00:00+00:00\",\"2019-09-27T00:00:00+00:00\",\"2019-09-28T00:00:00+00:00\",\"2019-09-29T00:00:00+00:00\",\"2019-09-30T00:00:00+00:00\",\"2019-10-01T00:00:00+00:00\",\"2019-10-02T00:00:00+00:00\",\"2019-10-03T00:00:00+00:00\",\"2019-10-04T00:00:00+00:00\",\"2019-10-05T00:00:00+00:00\",\"2019-10-06T00:00:00+00:00\",\"2019-10-07T00:00:00+00:00\",\"2019-10-08T00:00:00+00:00\",\"2019-10-09T00:00:00+00:00\",\"2019-10-10T00:00:00+00:00\",\"2019-10-11T00:00:00+00:00\",\"2019-10-12T00:00:00+00:00\",\"2019-10-13T00:00:00+00:00\",\"2019-10-14T00:00:00+00:00\",\"2019-10-15T00:00:00+00:00\",\"2019-10-16T00:00:00+00:00\",\"2019-10-17T00:00:00+00:00\",\"2019-10-18T00:00:00+00:00\",\"2019-10-19T00:00:00+00:00\",\"2019-10-20T00:00:00+00:00\",\"2019-10-21T00:00:00+00:00\",\"2019-10-22T00:00:00+00:00\",\"2019-10-23T00:00:00+00:00\",\"2019-10-24T00:00:00+00:00\",\"2019-10-25T00:00:00+00:00\",\"2019-10-26T00:00:00+00:00\",\"2019-10-27T00:00:00+00:00\",\"2019-10-28T00:00:00+00:00\",\"2019-10-29T00:00:00+00:00\",\"2019-10-30T00:00:00+00:00\",\"2019-10-31T00:00:00+00:00\",\"2019-11-01T00:00:00+00:00\",\"2019-11-02T00:00:00+00:00\",\"2019-11-03T00:00:00+00:00\",\"2019-11-04T00:00:00+00:00\",\"2019-11-05T00:00:00+00:00\",\"2019-11-06T00:00:00+00:00\",\"2019-11-07T00:00:00+00:00\",\"2019-11-08T00:00:00+00:00\",\"2019-11-09T00:00:00+00:00\",\"2019-11-10T00:00:00+00:00\",\"2019-11-11T00:00:00+00:00\",\"2019-11-12T00:00:00+00:00\",\"2019-11-13T00:00:00+00:00\",\"2019-11-14T00:00:00+00:00\",\"2019-11-15T00:00:00+00:00\",\"2019-11-16T00:00:00+00:00\",\"2019-11-17T00:00:00+00:00\",\"2019-11-18T00:00:00+00:00\",\"2019-11-19T00:00:00+00:00\",\"2019-11-20T00:00:00+00:00\",\"2019-11-21T00:00:00+00:00\",\"2019-11-22T00:00:00+00:00\",\"2019-11-23T00:00:00+00:00\",\"2019-11-24T00:00:00+00:00\",\"2019-11-25T00:00:00+00:00\",\"2019-11-26T00:00:00+00:00\",\"2019-11-27T00:00:00+00:00\",\"2019-11-28T00:00:00+00:00\",\"2019-11-29T00:00:00+00:00\",\"2019-11-30T00:00:00+00:00\",\"2019-12-01T00:00:00+00:00\",\"2019-12-02T00:00:00+00:00\",\"2019-12-03T00:00:00+00:00\",\"2019-12-04T00:00:00+00:00\",\"2019-12-05T00:00:00+00:00\",\"2019-12-06T00:00:00+00:00\",\"2019-12-07T00:00:00+00:00\",\"2019-12-08T00:00:00+00:00\",\"2019-12-09T00:00:00+00:00\",\"2019-12-10T00:00:00+00:00\",\"2019-12-11T00:00:00+00:00\",\"2019-12-12T00:00:00+00:00\",\"2019-12-13T00:00:00+00:00\",\"2019-12-14T00:00:00+00:00\",\"2019-12-15T00:00:00+00:00\",\"2019-12-16T00:00:00+00:00\",\"2019-12-17T00:00:00+00:00\",\"2019-12-18T00:00:00+00:00\",\"2019-12-19T00:00:00+00:00\",\"2019-12-20T00:00:00+00:00\",\"2019-12-21T00:00:00+00:00\",\"2019-12-22T00:00:00+00:00\",\"2019-12-23T00:00:00+00:00\",\"2019-12-24T00:00:00+00:00\",\"2019-12-25T00:00:00+00:00\",\"2019-12-26T00:00:00+00:00\",\"2019-12-27T00:00:00+00:00\",\"2019-12-28T00:00:00+00:00\",\"2019-12-29T00:00:00+00:00\",\"2019-12-30T00:00:00+00:00\",\"2019-12-31T00:00:00+00:00\",\"2020-01-01T00:00:00+00:00\",\"2020-01-02T00:00:00+00:00\",\"2020-01-03T00:00:00+00:00\",\"2020-01-04T00:00:00+00:00\",\"2020-01-05T00:00:00+00:00\",\"2020-01-06T00:00:00+00:00\",\"2020-01-07T00:00:00+00:00\",\"2020-01-08T00:00:00+00:00\",\"2020-01-09T00:00:00+00:00\",\"2020-01-10T00:00:00+00:00\",\"2020-01-11T00:00:00+00:00\",\"2020-01-12T00:00:00+00:00\",\"2020-01-13T00:00:00+00:00\",\"2020-01-14T00:00:00+00:00\",\"2020-01-15T00:00:00+00:00\",\"2020-01-16T00:00:00+00:00\",\"2020-01-17T00:00:00+00:00\",\"2020-01-18T00:00:00+00:00\",\"2020-01-19T00:00:00+00:00\",\"2020-01-20T00:00:00+00:00\",\"2020-01-21T00:00:00+00:00\",\"2020-01-22T00:00:00+00:00\",\"2020-01-23T00:00:00+00:00\",\"2020-01-24T00:00:00+00:00\",\"2020-01-25T00:00:00+00:00\",\"2020-01-26T00:00:00+00:00\",\"2020-01-27T00:00:00+00:00\",\"2020-01-28T00:00:00+00:00\",\"2020-01-29T00:00:00+00:00\",\"2020-01-30T00:00:00+00:00\",\"2020-01-31T00:00:00+00:00\",\"2020-02-01T00:00:00+00:00\",\"2020-02-02T00:00:00+00:00\",\"2020-02-03T00:00:00+00:00\",\"2020-02-04T00:00:00+00:00\",\"2020-02-05T00:00:00+00:00\",\"2020-02-06T00:00:00+00:00\",\"2020-02-07T00:00:00+00:00\",\"2020-02-08T00:00:00+00:00\",\"2020-02-09T00:00:00+00:00\",\"2020-02-10T00:00:00+00:00\",\"2020-02-11T00:00:00+00:00\",\"2020-02-12T00:00:00+00:00\",\"2020-02-13T00:00:00+00:00\",\"2020-02-14T00:00:00+00:00\",\"2020-02-15T00:00:00+00:00\",\"2020-02-16T00:00:00+00:00\",\"2020-02-17T00:00:00+00:00\",\"2020-02-18T00:00:00+00:00\",\"2020-02-19T00:00:00+00:00\",\"2020-02-20T00:00:00+00:00\",\"2020-02-21T00:00:00+00:00\",\"2020-02-22T00:00:00+00:00\",\"2020-02-23T00:00:00+00:00\",\"2020-02-24T00:00:00+00:00\",\"2020-02-25T00:00:00+00:00\",\"2020-02-26T00:00:00+00:00\",\"2020-02-27T00:00:00+00:00\",\"2020-02-28T00:00:00+00:00\",\"2020-03-01T00:00:00+00:00\",\"2020-03-02T00:00:00+00:00\",\"2020-03-03T00:00:00+00:00\",\"2020-03-04T00:00:00+00:00\",\"2020-03-05T00:00:00+00:00\",\"2020-03-06T00:00:00+00:00\",\"2020-03-07T00:00:00+00:00\",\"2020-03-08T00:00:00+00:00\",\"2020-03-09T00:00:00+00:00\",\"2020-03-10T00:00:00+00:00\",\"2020-03-11T00:00:00+00:00\",\"2020-03-12T00:00:00+00:00\",\"2020-03-13T00:00:00+00:00\",\"2020-03-14T00:00:00+00:00\",\"2020-03-15T00:00:00+00:00\",\"2020-03-16T00:00:00+00:00\",\"2020-03-17T00:00:00+00:00\",\"2020-03-18T00:00:00+00:00\",\"2020-03-19T00:00:00+00:00\",\"2020-03-20T00:00:00+00:00\",\"2020-03-21T00:00:00+00:00\",\"2020-03-22T00:00:00+00:00\",\"2020-03-23T00:00:00+00:00\",\"2020-03-24T00:00:00+00:00\",\"2020-03-25T00:00:00+00:00\",\"2020-03-26T00:00:00+00:00\",\"2020-03-27T00:00:00+00:00\",\"2020-03-28T00:00:00+00:00\",\"2020-03-29T00:00:00+00:00\",\"2020-03-30T00:00:00+00:00\",\"2020-03-31T00:00:00+00:00\",\"2020-04-01T00:00:00+00:00\",\"2020-04-02T00:00:00+00:00\",\"2020-04-03T00:00:00+00:00\",\"2020-04-04T00:00:00+00:00\",\"2020-04-05T00:00:00+00:00\",\"2020-04-06T00:00:00+00:00\",\"2020-04-07T00:00:00+00:00\",\"2020-04-08T00:00:00+00:00\",\"2020-04-09T00:00:00+00:00\",\"2020-04-10T00:00:00+00:00\",\"2020-04-11T00:00:00+00:00\",\"2020-04-12T00:00:00+00:00\",\"2020-04-13T00:00:00+00:00\",\"2020-04-14T00:00:00+00:00\",\"2020-04-15T00:00:00+00:00\",\"2020-04-16T00:00:00+00:00\",\"2020-04-17T00:00:00+00:00\",\"2020-04-18T00:00:00+00:00\",\"2020-04-19T00:00:00+00:00\",\"2020-04-20T00:00:00+00:00\",\"2020-04-21T00:00:00+00:00\",\"2020-04-22T00:00:00+00:00\",\"2020-04-23T00:00:00+00:00\",\"2020-04-24T00:00:00+00:00\",\"2020-04-25T00:00:00+00:00\",\"2020-04-26T00:00:00+00:00\",\"2020-04-27T00:00:00+00:00\",\"2020-04-28T00:00:00+00:00\",\"2020-04-29T00:00:00+00:00\",\"2020-04-30T00:00:00+00:00\",\"2020-05-01T00:00:00+00:00\",\"2020-05-02T00:00:00+00:00\",\"2020-05-03T00:00:00+00:00\",\"2020-05-04T00:00:00+00:00\",\"2020-05-05T00:00:00+00:00\",\"2020-05-06T00:00:00+00:00\",\"2020-05-07T00:00:00+00:00\",\"2020-05-08T00:00:00+00:00\",\"2020-05-09T00:00:00+00:00\",\"2020-05-10T00:00:00+00:00\",\"2020-05-11T00:00:00+00:00\",\"2020-05-12T00:00:00+00:00\",\"2020-05-13T00:00:00+00:00\",\"2020-05-14T00:00:00+00:00\",\"2020-05-15T00:00:00+00:00\",\"2020-05-16T00:00:00+00:00\",\"2020-05-17T00:00:00+00:00\",\"2020-05-18T00:00:00+00:00\",\"2020-05-19T00:00:00+00:00\",\"2020-05-20T00:00:00+00:00\",\"2020-05-21T00:00:00+00:00\",\"2020-05-22T00:00:00+00:00\",\"2020-05-23T00:00:00+00:00\",\"2020-05-24T00:00:00+00:00\",\"2020-05-25T00:00:00+00:00\",\"2020-05-26T00:00:00+00:00\",\"2020-05-27T00:00:00+00:00\",\"2020-05-28T00:00:00+00:00\",\"2020-05-29T00:00:00+00:00\",\"2020-05-30T00:00:00+00:00\",\"2020-05-31T00:00:00+00:00\",\"2020-06-01T00:00:00+00:00\",\"2020-06-02T00:00:00+00:00\",\"2020-06-03T00:00:00+00:00\",\"2020-06-04T00:00:00+00:00\",\"2020-06-05T00:00:00+00:00\",\"2020-06-06T00:00:00+00:00\",\"2020-06-07T00:00:00+00:00\",\"2020-06-08T00:00:00+00:00\",\"2020-06-09T00:00:00+00:00\",\"2020-06-10T00:00:00+00:00\",\"2020-06-11T00:00:00+00:00\",\"2020-06-12T00:00:00+00:00\",\"2020-06-13T00:00:00+00:00\",\"2020-06-14T00:00:00+00:00\",\"2020-06-15T00:00:00+00:00\",\"2020-06-16T00:00:00+00:00\",\"2020-06-17T00:00:00+00:00\",\"2020-06-18T00:00:00+00:00\",\"2020-06-19T00:00:00+00:00\",\"2020-06-20T00:00:00+00:00\",\"2020-06-21T00:00:00+00:00\",\"2020-06-22T00:00:00+00:00\",\"2020-06-23T00:00:00+00:00\",\"2020-06-24T00:00:00+00:00\",\"2020-06-25T00:00:00+00:00\",\"2020-06-26T00:00:00+00:00\",\"2020-06-27T00:00:00+00:00\",\"2020-06-28T00:00:00+00:00\",\"2020-06-29T00:00:00+00:00\",\"2020-06-30T00:00:00+00:00\",\"2020-07-01T00:00:00+00:00\",\"2020-07-02T00:00:00+00:00\",\"2020-07-03T00:00:00+00:00\",\"2020-07-04T00:00:00+00:00\",\"2020-07-05T00:00:00+00:00\",\"2020-07-06T00:00:00+00:00\",\"2020-07-07T00:00:00+00:00\",\"2020-07-08T00:00:00+00:00\",\"2020-07-09T00:00:00+00:00\",\"2020-07-10T00:00:00+00:00\",\"2020-07-11T00:00:00+00:00\",\"2020-07-12T00:00:00+00:00\",\"2020-07-13T00:00:00+00:00\",\"2020-07-14T00:00:00+00:00\",\"2020-07-15T00:00:00+00:00\",\"2020-07-16T00:00:00+00:00\",\"2020-07-17T00:00:00+00:00\",\"2020-07-18T00:00:00+00:00\",\"2020-07-19T00:00:00+00:00\",\"2020-07-20T00:00:00+00:00\",\"2020-07-21T00:00:00+00:00\",\"2020-07-22T00:00:00+00:00\",\"2020-07-23T00:00:00+00:00\",\"2020-07-24T00:00:00+00:00\",\"2020-07-25T00:00:00+00:00\",\"2020-07-26T00:00:00+00:00\",\"2020-07-27T00:00:00+00:00\",\"2020-07-28T00:00:00+00:00\",\"2020-07-29T00:00:00+00:00\",\"2020-07-30T00:00:00+00:00\",\"2020-07-31T00:00:00+00:00\",\"2020-08-01T00:00:00+00:00\",\"2020-08-02T00:00:00+00:00\",\"2020-08-03T00:00:00+00:00\",\"2020-08-04T00:00:00+00:00\",\"2020-08-05T00:00:00+00:00\",\"2020-08-06T00:00:00+00:00\",\"2020-08-07T00:00:00+00:00\",\"2020-08-08T00:00:00+00:00\",\"2020-08-09T00:00:00+00:00\",\"2020-08-10T00:00:00+00:00\",\"2020-08-11T00:00:00+00:00\",\"2020-08-12T00:00:00+00:00\",\"2020-08-13T00:00:00+00:00\",\"2020-08-14T00:00:00+00:00\",\"2020-08-15T00:00:00+00:00\",\"2020-08-16T00:00:00+00:00\",\"2020-08-17T00:00:00+00:00\",\"2020-08-18T00:00:00+00:00\",\"2020-08-19T00:00:00+00:00\",\"2020-08-20T00:00:00+00:00\",\"2020-08-21T00:00:00+00:00\",\"2020-08-22T00:00:00+00:00\",\"2020-08-23T00:00:00+00:00\",\"2020-08-24T00:00:00+00:00\",\"2020-08-25T00:00:00+00:00\",\"2020-08-26T00:00:00+00:00\",\"2020-08-27T00:00:00+00:00\",\"2020-08-28T00:00:00+00:00\",\"2020-08-29T00:00:00+00:00\",\"2020-08-30T00:00:00+00:00\",\"2020-08-31T00:00:00+00:00\",\"2020-09-01T00:00:00+00:00\",\"2020-09-02T00:00:00+00:00\",\"2020-09-03T00:00:00+00:00\",\"2020-09-04T00:00:00+00:00\",\"2020-09-05T00:00:00+00:00\",\"2020-09-06T00:00:00+00:00\",\"2020-09-07T00:00:00+00:00\",\"2020-09-08T00:00:00+00:00\",\"2020-09-09T00:00:00+00:00\",\"2020-09-10T00:00:00+00:00\",\"2020-09-11T00:00:00+00:00\",\"2020-09-12T00:00:00+00:00\",\"2020-09-13T00:00:00+00:00\",\"2020-09-14T00:00:00+00:00\",\"2020-09-15T00:00:00+00:00\",\"2020-09-16T00:00:00+00:00\",\"2020-09-17T00:00:00+00:00\",\"2020-09-18T00:00:00+00:00\",\"2020-09-19T00:00:00+00:00\",\"2020-09-20T00:00:00+00:00\",\"2020-09-21T00:00:00+00:00\",\"2020-09-22T00:00:00+00:00\",\"2020-09-23T00:00:00+00:00\",\"2020-09-24T00:00:00+00:00\",\"2020-09-25T00:00:00+00:00\",\"2020-09-26T00:00:00+00:00\",\"2020-09-27T00:00:00+00:00\",\"2020-09-28T00:00:00+00:00\",\"2020-09-29T00:00:00+00:00\",\"2020-09-30T00:00:00+00:00\",\"2020-10-01T00:00:00+00:00\",\"2020-10-02T00:00:00+00:00\",\"2020-10-03T00:00:00+00:00\",\"2020-10-04T00:00:00+00:00\",\"2020-10-05T00:00:00+00:00\",\"2020-10-06T00:00:00+00:00\",\"2020-10-07T00:00:00+00:00\",\"2020-10-08T00:00:00+00:00\",\"2020-10-09T00:00:00+00:00\",\"2020-10-10T00:00:00+00:00\",\"2020-10-11T00:00:00+00:00\",\"2020-10-12T00:00:00+00:00\",\"2020-10-13T00:00:00+00:00\",\"2020-10-14T00:00:00+00:00\",\"2020-10-15T00:00:00+00:00\",\"2020-10-16T00:00:00+00:00\",\"2020-10-17T00:00:00+00:00\",\"2020-10-18T00:00:00+00:00\",\"2020-10-19T00:00:00+00:00\",\"2020-10-20T00:00:00+00:00\",\"2020-10-21T00:00:00+00:00\",\"2020-10-22T00:00:00+00:00\",\"2020-10-23T00:00:00+00:00\",\"2020-10-24T00:00:00+00:00\",\"2020-10-25T00:00:00+00:00\",\"2020-10-26T00:00:00+00:00\",\"2020-10-27T00:00:00+00:00\",\"2020-10-28T00:00:00+00:00\",\"2020-10-29T00:00:00+00:00\",\"2020-10-30T00:00:00+00:00\",\"2020-10-31T00:00:00+00:00\",\"2020-11-01T00:00:00+00:00\",\"2020-11-02T00:00:00+00:00\",\"2020-11-03T00:00:00+00:00\",\"2020-11-04T00:00:00+00:00\",\"2020-11-05T00:00:00+00:00\",\"2020-11-06T00:00:00+00:00\",\"2020-11-07T00:00:00+00:00\",\"2020-11-08T00:00:00+00:00\",\"2020-11-09T00:00:00+00:00\",\"2020-11-10T00:00:00+00:00\",\"2020-11-11T00:00:00+00:00\",\"2020-11-12T00:00:00+00:00\",\"2020-11-13T00:00:00+00:00\",\"2020-11-14T00:00:00+00:00\",\"2020-11-15T00:00:00+00:00\",\"2020-11-16T00:00:00+00:00\",\"2020-11-17T00:00:00+00:00\",\"2020-11-18T00:00:00+00:00\",\"2020-11-19T00:00:00+00:00\",\"2020-11-20T00:00:00+00:00\",\"2020-11-21T00:00:00+00:00\",\"2020-11-22T00:00:00+00:00\",\"2020-11-23T00:00:00+00:00\",\"2020-11-24T00:00:00+00:00\",\"2020-11-25T00:00:00+00:00\",\"2020-11-26T00:00:00+00:00\",\"2020-11-27T00:00:00+00:00\",\"2020-11-28T00:00:00+00:00\",\"2020-11-29T00:00:00+00:00\",\"2020-11-30T00:00:00+00:00\",\"2020-12-01T00:00:00+00:00\",\"2020-12-02T00:00:00+00:00\",\"2020-12-03T00:00:00+00:00\",\"2020-12-04T00:00:00+00:00\",\"2020-12-05T00:00:00+00:00\",\"2020-12-06T00:00:00+00:00\",\"2020-12-07T00:00:00+00:00\",\"2020-12-08T00:00:00+00:00\",\"2020-12-09T00:00:00+00:00\",\"2020-12-10T00:00:00+00:00\",\"2020-12-11T00:00:00+00:00\",\"2020-12-12T00:00:00+00:00\",\"2020-12-13T00:00:00+00:00\",\"2020-12-14T00:00:00+00:00\",\"2020-12-15T00:00:00+00:00\",\"2020-12-16T00:00:00+00:00\",\"2020-12-17T00:00:00+00:00\",\"2020-12-18T00:00:00+00:00\",\"2020-12-19T00:00:00+00:00\",\"2020-12-20T00:00:00+00:00\",\"2020-12-21T00:00:00+00:00\",\"2020-12-22T00:00:00+00:00\",\"2020-12-23T00:00:00+00:00\",\"2020-12-24T00:00:00+00:00\",\"2020-12-25T00:00:00+00:00\",\"2020-12-26T00:00:00+00:00\",\"2020-12-27T00:00:00+00:00\",\"2020-12-28T00:00:00+00:00\",\"2020-12-29T00:00:00+00:00\",\"2020-12-30T00:00:00+00:00\",\"2020-12-31T00:00:00+00:00\",\"2021-01-01T00:00:00+00:00\",\"2021-01-02T00:00:00+00:00\",\"2021-01-03T00:00:00+00:00\",\"2021-01-04T00:00:00+00:00\",\"2021-01-05T00:00:00+00:00\",\"2021-01-06T00:00:00+00:00\",\"2021-01-07T00:00:00+00:00\",\"2021-01-08T00:00:00+00:00\",\"2021-01-09T00:00:00+00:00\",\"2021-01-10T00:00:00+00:00\",\"2021-01-11T00:00:00+00:00\",\"2021-01-12T00:00:00+00:00\",\"2021-01-13T00:00:00+00:00\",\"2021-01-14T00:00:00+00:00\",\"2021-01-15T00:00:00+00:00\",\"2021-01-16T00:00:00+00:00\",\"2021-01-17T00:00:00+00:00\",\"2021-01-18T00:00:00+00:00\",\"2021-01-19T00:00:00+00:00\",\"2021-01-20T00:00:00+00:00\",\"2021-01-21T00:00:00+00:00\",\"2021-01-22T00:00:00+00:00\",\"2021-01-23T00:00:00+00:00\",\"2021-01-24T00:00:00+00:00\",\"2021-01-25T00:00:00+00:00\",\"2021-01-26T00:00:00+00:00\",\"2021-01-27T00:00:00+00:00\",\"2021-01-28T00:00:00+00:00\",\"2021-01-29T00:00:00+00:00\",\"2021-01-30T00:00:00+00:00\",\"2021-01-31T00:00:00+00:00\",\"2021-02-01T00:00:00+00:00\",\"2021-02-02T00:00:00+00:00\",\"2021-02-03T00:00:00+00:00\",\"2021-02-04T00:00:00+00:00\",\"2021-02-05T00:00:00+00:00\",\"2021-02-06T00:00:00+00:00\",\"2021-02-07T00:00:00+00:00\",\"2021-02-08T00:00:00+00:00\",\"2021-02-09T00:00:00+00:00\",\"2021-02-10T00:00:00+00:00\",\"2021-02-11T00:00:00+00:00\",\"2021-02-12T00:00:00+00:00\",\"2021-02-13T00:00:00+00:00\",\"2021-02-14T00:00:00+00:00\",\"2021-02-15T00:00:00+00:00\",\"2021-02-16T00:00:00+00:00\",\"2021-02-17T00:00:00+00:00\",\"2021-02-18T00:00:00+00:00\",\"2021-02-19T00:00:00+00:00\",\"2021-02-20T00:00:00+00:00\",\"2021-02-21T00:00:00+00:00\",\"2021-02-22T00:00:00+00:00\",\"2021-02-23T00:00:00+00:00\",\"2021-02-24T00:00:00+00:00\",\"2021-02-25T00:00:00+00:00\",\"2021-02-26T00:00:00+00:00\",\"2021-02-27T00:00:00+00:00\",\"2021-02-28T00:00:00+00:00\",\"2021-03-01T00:00:00+00:00\",\"2021-03-02T00:00:00+00:00\",\"2021-03-03T00:00:00+00:00\",\"2021-03-04T00:00:00+00:00\",\"2021-03-05T00:00:00+00:00\",\"2021-03-06T00:00:00+00:00\",\"2021-03-07T00:00:00+00:00\",\"2021-03-08T00:00:00+00:00\",\"2021-03-09T00:00:00+00:00\",\"2021-03-10T00:00:00+00:00\",\"2021-03-11T00:00:00+00:00\",\"2021-03-12T00:00:00+00:00\",\"2021-03-13T00:00:00+00:00\",\"2021-03-14T00:00:00+00:00\",\"2021-03-15T00:00:00+00:00\",\"2021-03-16T00:00:00+00:00\",\"2021-03-17T00:00:00+00:00\",\"2021-03-18T00:00:00+00:00\",\"2021-03-19T00:00:00+00:00\",\"2021-03-20T00:00:00+00:00\",\"2021-03-21T00:00:00+00:00\",\"2021-03-22T00:00:00+00:00\",\"2021-03-23T00:00:00+00:00\",\"2021-03-24T00:00:00+00:00\",\"2021-03-25T00:00:00+00:00\",\"2021-03-26T00:00:00+00:00\",\"2021-03-27T00:00:00+00:00\",\"2021-03-28T00:00:00+00:00\",\"2021-03-29T00:00:00+00:00\",\"2021-03-30T00:00:00+00:00\",\"2021-03-31T00:00:00+00:00\",\"2021-04-01T00:00:00+00:00\",\"2021-04-02T00:00:00+00:00\",\"2021-04-03T00:00:00+00:00\",\"2021-04-04T00:00:00+00:00\",\"2021-04-05T00:00:00+00:00\",\"2021-04-06T00:00:00+00:00\",\"2021-04-07T00:00:00+00:00\",\"2021-04-08T00:00:00+00:00\",\"2021-04-09T00:00:00+00:00\",\"2021-04-10T00:00:00+00:00\",\"2021-04-11T00:00:00+00:00\",\"2021-04-12T00:00:00+00:00\",\"2021-04-13T00:00:00+00:00\",\"2021-04-14T00:00:00+00:00\",\"2021-04-15T00:00:00+00:00\",\"2021-04-16T00:00:00+00:00\",\"2021-04-17T00:00:00+00:00\",\"2021-04-18T00:00:00+00:00\",\"2021-04-19T00:00:00+00:00\",\"2021-04-20T00:00:00+00:00\",\"2021-04-21T00:00:00+00:00\",\"2021-04-22T00:00:00+00:00\",\"2021-04-23T00:00:00+00:00\",\"2021-04-24T00:00:00+00:00\",\"2021-04-25T00:00:00+00:00\",\"2021-04-26T00:00:00+00:00\",\"2021-04-27T00:00:00+00:00\",\"2021-04-28T00:00:00+00:00\",\"2021-04-29T00:00:00+00:00\",\"2021-04-30T00:00:00+00:00\",\"2021-05-01T00:00:00+00:00\",\"2021-05-02T00:00:00+00:00\",\"2021-05-03T00:00:00+00:00\",\"2021-05-04T00:00:00+00:00\",\"2021-05-05T00:00:00+00:00\",\"2021-05-06T00:00:00+00:00\",\"2021-05-07T00:00:00+00:00\",\"2021-05-08T00:00:00+00:00\",\"2021-05-09T00:00:00+00:00\",\"2021-05-10T00:00:00+00:00\",\"2021-05-11T00:00:00+00:00\",\"2021-05-12T00:00:00+00:00\",\"2021-05-13T00:00:00+00:00\",\"2021-05-14T00:00:00+00:00\",\"2021-05-15T00:00:00+00:00\",\"2021-05-16T00:00:00+00:00\",\"2021-05-17T00:00:00+00:00\",\"2021-05-18T00:00:00+00:00\",\"2021-05-19T00:00:00+00:00\",\"2021-05-20T00:00:00+00:00\",\"2021-05-21T00:00:00+00:00\",\"2021-05-22T00:00:00+00:00\",\"2021-05-23T00:00:00+00:00\",\"2021-05-24T00:00:00+00:00\",\"2021-05-25T00:00:00+00:00\",\"2021-05-26T00:00:00+00:00\",\"2021-05-27T00:00:00+00:00\",\"2021-05-28T00:00:00+00:00\",\"2021-05-29T00:00:00+00:00\",\"2021-05-30T00:00:00+00:00\",\"2021-05-31T00:00:00+00:00\",\"2021-06-01T00:00:00+00:00\",\"2021-06-02T00:00:00+00:00\",\"2021-06-03T00:00:00+00:00\",\"2021-06-04T00:00:00+00:00\",\"2021-06-05T00:00:00+00:00\",\"2021-06-06T00:00:00+00:00\",\"2021-06-07T00:00:00+00:00\",\"2021-06-08T00:00:00+00:00\",\"2021-06-09T00:00:00+00:00\",\"2021-06-10T00:00:00+00:00\",\"2021-06-11T00:00:00+00:00\",\"2021-06-12T00:00:00+00:00\",\"2021-06-13T00:00:00+00:00\",\"2021-06-14T00:00:00+00:00\",\"2021-06-15T00:00:00+00:00\",\"2021-06-16T00:00:00+00:00\",\"2021-06-17T00:00:00+00:00\",\"2021-06-18T00:00:00+00:00\",\"2021-06-19T00:00:00+00:00\",\"2021-06-20T00:00:00+00:00\",\"2021-06-21T00:00:00+00:00\",\"2021-06-22T00:00:00+00:00\",\"2021-06-23T00:00:00+00:00\",\"2021-06-24T00:00:00+00:00\",\"2021-06-25T00:00:00+00:00\",\"2021-06-26T00:00:00+00:00\",\"2021-06-27T00:00:00+00:00\",\"2021-06-28T00:00:00+00:00\",\"2021-06-29T00:00:00+00:00\",\"2021-06-30T00:00:00+00:00\",\"2021-07-01T00:00:00+00:00\",\"2021-07-02T00:00:00+00:00\",\"2021-07-03T00:00:00+00:00\",\"2021-07-04T00:00:00+00:00\",\"2021-07-05T00:00:00+00:00\",\"2021-07-06T00:00:00+00:00\",\"2021-07-07T00:00:00+00:00\",\"2021-07-08T00:00:00+00:00\",\"2021-07-09T00:00:00+00:00\",\"2021-07-10T00:00:00+00:00\",\"2021-07-11T00:00:00+00:00\",\"2021-07-12T00:00:00+00:00\",\"2021-07-13T00:00:00+00:00\",\"2021-07-14T00:00:00+00:00\",\"2021-07-15T00:00:00+00:00\",\"2021-07-16T00:00:00+00:00\",\"2021-07-17T00:00:00+00:00\",\"2021-07-18T00:00:00+00:00\",\"2021-07-19T00:00:00+00:00\",\"2021-07-20T00:00:00+00:00\",\"2021-07-21T00:00:00+00:00\",\"2021-07-22T00:00:00+00:00\",\"2021-07-23T00:00:00+00:00\",\"2021-07-24T00:00:00+00:00\",\"2021-07-25T00:00:00+00:00\",\"2021-07-26T00:00:00+00:00\",\"2021-07-27T00:00:00+00:00\",\"2021-07-28T00:00:00+00:00\",\"2021-07-29T00:00:00+00:00\",\"2021-07-30T00:00:00+00:00\",\"2021-07-31T00:00:00+00:00\",\"2021-08-01T00:00:00+00:00\",\"2021-08-02T00:00:00+00:00\",\"2021-08-03T00:00:00+00:00\",\"2021-08-04T00:00:00+00:00\",\"2021-08-05T00:00:00+00:00\",\"2021-08-06T00:00:00+00:00\",\"2021-08-07T00:00:00+00:00\",\"2021-08-08T00:00:00+00:00\",\"2021-08-09T00:00:00+00:00\",\"2021-08-10T00:00:00+00:00\",\"2021-08-11T00:00:00+00:00\",\"2021-08-12T00:00:00+00:00\",\"2021-08-13T00:00:00+00:00\",\"2021-08-14T00:00:00+00:00\",\"2021-08-15T00:00:00+00:00\",\"2021-08-16T00:00:00+00:00\",\"2021-08-17T00:00:00+00:00\",\"2021-08-18T00:00:00+00:00\",\"2021-08-19T00:00:00+00:00\",\"2021-08-20T00:00:00+00:00\",\"2021-08-21T00:00:00+00:00\",\"2021-08-22T00:00:00+00:00\",\"2021-08-23T00:00:00+00:00\",\"2021-08-24T00:00:00+00:00\",\"2021-08-25T00:00:00+00:00\",\"2021-08-26T00:00:00+00:00\",\"2021-08-27T00:00:00+00:00\",\"2021-08-28T00:00:00+00:00\",\"2021-08-29T00:00:00+00:00\",\"2021-08-30T00:00:00+00:00\",\"2021-08-31T00:00:00+00:00\",\"2021-09-01T00:00:00+00:00\",\"2021-09-02T00:00:00+00:00\",\"2021-09-03T00:00:00+00:00\",\"2021-09-04T00:00:00+00:00\",\"2021-09-05T00:00:00+00:00\",\"2021-09-06T00:00:00+00:00\",\"2021-09-07T00:00:00+00:00\",\"2021-09-08T00:00:00+00:00\",\"2021-09-09T00:00:00+00:00\",\"2021-09-10T00:00:00+00:00\",\"2021-09-11T00:00:00+00:00\",\"2021-09-12T00:00:00+00:00\",\"2021-09-13T00:00:00+00:00\",\"2021-09-14T00:00:00+00:00\",\"2021-09-15T00:00:00+00:00\",\"2021-09-16T00:00:00+00:00\",\"2021-09-17T00:00:00+00:00\",\"2021-09-18T00:00:00+00:00\",\"2021-09-19T00:00:00+00:00\",\"2021-09-20T00:00:00+00:00\",\"2021-09-21T00:00:00+00:00\",\"2021-09-22T00:00:00+00:00\",\"2021-09-23T00:00:00+00:00\",\"2021-09-24T00:00:00+00:00\",\"2021-09-25T00:00:00+00:00\",\"2021-09-26T00:00:00+00:00\",\"2021-09-27T00:00:00+00:00\",\"2021-09-28T00:00:00+00:00\",\"2021-09-29T00:00:00+00:00\",\"2021-09-30T00:00:00+00:00\",\"2021-10-01T00:00:00+00:00\",\"2021-10-02T00:00:00+00:00\",\"2021-10-03T00:00:00+00:00\",\"2021-10-04T00:00:00+00:00\",\"2021-10-05T00:00:00+00:00\",\"2021-10-06T00:00:00+00:00\",\"2021-10-07T00:00:00+00:00\",\"2021-10-08T00:00:00+00:00\",\"2021-10-09T00:00:00+00:00\",\"2021-10-10T00:00:00+00:00\",\"2021-10-11T00:00:00+00:00\",\"2021-10-12T00:00:00+00:00\",\"2021-10-13T00:00:00+00:00\",\"2021-10-14T00:00:00+00:00\",\"2021-10-15T00:00:00+00:00\",\"2021-10-16T00:00:00+00:00\",\"2021-10-17T00:00:00+00:00\",\"2021-10-18T00:00:00+00:00\",\"2021-10-19T00:00:00+00:00\",\"2021-10-20T00:00:00+00:00\",\"2021-10-21T00:00:00+00:00\",\"2021-10-22T00:00:00+00:00\",\"2021-10-23T00:00:00+00:00\",\"2021-10-24T00:00:00+00:00\",\"2021-10-25T00:00:00+00:00\",\"2021-10-26T00:00:00+00:00\",\"2021-10-27T00:00:00+00:00\",\"2021-10-28T00:00:00+00:00\",\"2021-10-29T00:00:00+00:00\",\"2021-10-30T00:00:00+00:00\",\"2021-10-31T00:00:00+00:00\",\"2021-11-01T00:00:00+00:00\",\"2021-11-02T00:00:00+00:00\",\"2021-11-03T00:00:00+00:00\",\"2021-11-04T00:00:00+00:00\",\"2021-11-05T00:00:00+00:00\",\"2021-11-06T00:00:00+00:00\",\"2021-11-07T00:00:00+00:00\",\"2021-11-08T00:00:00+00:00\",\"2021-11-09T00:00:00+00:00\",\"2021-11-10T00:00:00+00:00\",\"2021-11-11T00:00:00+00:00\",\"2021-11-12T00:00:00+00:00\",\"2021-11-13T00:00:00+00:00\",\"2021-11-14T00:00:00+00:00\",\"2021-11-15T00:00:00+00:00\",\"2021-11-16T00:00:00+00:00\",\"2021-11-17T00:00:00+00:00\",\"2021-11-18T00:00:00+00:00\",\"2021-11-19T00:00:00+00:00\",\"2021-11-20T00:00:00+00:00\",\"2021-11-21T00:00:00+00:00\",\"2021-11-22T00:00:00+00:00\",\"2021-11-23T00:00:00+00:00\",\"2021-11-24T00:00:00+00:00\",\"2021-11-25T00:00:00+00:00\",\"2021-11-26T00:00:00+00:00\",\"2021-11-27T00:00:00+00:00\",\"2021-11-28T00:00:00+00:00\",\"2021-11-29T00:00:00+00:00\",\"2021-11-30T00:00:00+00:00\",\"2021-12-01T00:00:00+00:00\",\"2021-12-02T00:00:00+00:00\",\"2021-12-03T00:00:00+00:00\",\"2021-12-04T00:00:00+00:00\",\"2021-12-05T00:00:00+00:00\",\"2021-12-06T00:00:00+00:00\",\"2021-12-07T00:00:00+00:00\",\"2021-12-08T00:00:00+00:00\",\"2021-12-09T00:00:00+00:00\",\"2021-12-10T00:00:00+00:00\",\"2021-12-11T00:00:00+00:00\",\"2021-12-12T00:00:00+00:00\",\"2021-12-13T00:00:00+00:00\",\"2021-12-14T00:00:00+00:00\",\"2021-12-15T00:00:00+00:00\",\"2021-12-16T00:00:00+00:00\",\"2021-12-17T00:00:00+00:00\",\"2021-12-18T00:00:00+00:00\",\"2021-12-19T00:00:00+00:00\",\"2021-12-20T00:00:00+00:00\",\"2021-12-21T00:00:00+00:00\",\"2021-12-22T00:00:00+00:00\",\"2021-12-23T00:00:00+00:00\",\"2021-12-24T00:00:00+00:00\",\"2021-12-25T00:00:00+00:00\",\"2021-12-26T00:00:00+00:00\",\"2021-12-27T00:00:00+00:00\",\"2021-12-28T00:00:00+00:00\",\"2021-12-29T00:00:00+00:00\",\"2021-12-30T00:00:00+00:00\",\"2021-12-31T00:00:00+00:00\",\"2022-01-01T00:00:00+00:00\",\"2022-01-02T00:00:00+00:00\",\"2022-01-03T00:00:00+00:00\",\"2022-01-04T00:00:00+00:00\",\"2022-01-05T00:00:00+00:00\",\"2022-01-06T00:00:00+00:00\",\"2022-01-07T00:00:00+00:00\",\"2022-01-08T00:00:00+00:00\",\"2022-01-09T00:00:00+00:00\",\"2022-01-10T00:00:00+00:00\",\"2022-01-11T00:00:00+00:00\",\"2022-01-12T00:00:00+00:00\",\"2022-01-13T00:00:00+00:00\",\"2022-01-14T00:00:00+00:00\",\"2022-01-15T00:00:00+00:00\",\"2022-01-16T00:00:00+00:00\",\"2022-01-17T00:00:00+00:00\",\"2022-01-18T00:00:00+00:00\",\"2022-01-19T00:00:00+00:00\",\"2022-01-20T00:00:00+00:00\",\"2022-01-21T00:00:00+00:00\",\"2022-01-22T00:00:00+00:00\",\"2022-01-23T00:00:00+00:00\",\"2022-01-24T00:00:00+00:00\",\"2022-01-25T00:00:00+00:00\",\"2022-01-26T00:00:00+00:00\",\"2022-01-27T00:00:00+00:00\",\"2022-01-28T00:00:00+00:00\",\"2022-01-29T00:00:00+00:00\",\"2022-01-30T00:00:00+00:00\",\"2022-01-31T00:00:00+00:00\",\"2022-02-01T00:00:00+00:00\",\"2022-02-02T00:00:00+00:00\",\"2022-02-03T00:00:00+00:00\",\"2022-02-04T00:00:00+00:00\",\"2022-02-05T00:00:00+00:00\",\"2022-02-06T00:00:00+00:00\",\"2022-02-07T00:00:00+00:00\",\"2022-02-08T00:00:00+00:00\",\"2022-02-09T00:00:00+00:00\",\"2022-02-10T00:00:00+00:00\",\"2022-02-11T00:00:00+00:00\",\"2022-02-12T00:00:00+00:00\",\"2022-02-13T00:00:00+00:00\",\"2022-02-14T00:00:00+00:00\",\"2022-02-15T00:00:00+00:00\",\"2022-02-16T00:00:00+00:00\",\"2022-02-17T00:00:00+00:00\",\"2022-02-18T00:00:00+00:00\",\"2022-02-19T00:00:00+00:00\",\"2022-02-20T00:00:00+00:00\",\"2022-02-21T00:00:00+00:00\",\"2022-02-22T00:00:00+00:00\",\"2022-02-23T00:00:00+00:00\",\"2022-02-24T00:00:00+00:00\",\"2022-02-25T00:00:00+00:00\",\"2022-02-26T00:00:00+00:00\",\"2022-02-27T00:00:00+00:00\",\"2022-02-28T00:00:00+00:00\",\"2022-03-01T00:00:00+00:00\",\"2022-03-02T00:00:00+00:00\",\"2022-03-03T00:00:00+00:00\",\"2022-03-04T00:00:00+00:00\",\"2022-03-05T00:00:00+00:00\",\"2022-03-06T00:00:00+00:00\",\"2022-03-07T00:00:00+00:00\",\"2022-03-08T00:00:00+00:00\",\"2022-03-09T00:00:00+00:00\",\"2022-03-10T00:00:00+00:00\",\"2022-03-11T00:00:00+00:00\",\"2022-03-12T00:00:00+00:00\",\"2022-03-13T00:00:00+00:00\",\"2022-03-14T00:00:00+00:00\",\"2022-03-15T00:00:00+00:00\",\"2022-03-16T00:00:00+00:00\",\"2022-03-17T00:00:00+00:00\",\"2022-03-18T00:00:00+00:00\",\"2022-03-19T00:00:00+00:00\",\"2022-03-20T00:00:00+00:00\",\"2022-03-21T00:00:00+00:00\",\"2022-03-22T00:00:00+00:00\",\"2022-03-23T00:00:00+00:00\",\"2022-03-24T00:00:00+00:00\",\"2022-03-25T00:00:00+00:00\",\"2022-03-26T00:00:00+00:00\",\"2022-03-27T00:00:00+00:00\",\"2022-03-28T00:00:00+00:00\",\"2022-03-29T00:00:00+00:00\",\"2022-03-30T00:00:00+00:00\",\"2022-03-31T00:00:00+00:00\",\"2022-04-01T00:00:00+00:00\",\"2022-04-02T00:00:00+00:00\",\"2022-04-03T00:00:00+00:00\",\"2022-04-04T00:00:00+00:00\",\"2022-04-05T00:00:00+00:00\",\"2022-04-06T00:00:00+00:00\",\"2022-04-07T00:00:00+00:00\",\"2022-04-08T00:00:00+00:00\",\"2022-04-09T00:00:00+00:00\",\"2022-04-10T00:00:00+00:00\",\"2022-04-11T00:00:00+00:00\",\"2022-04-12T00:00:00+00:00\",\"2022-04-13T00:00:00+00:00\",\"2022-04-14T00:00:00+00:00\",\"2022-04-15T00:00:00+00:00\",\"2022-04-16T00:00:00+00:00\",\"2022-04-17T00:00:00+00:00\",\"2022-04-18T00:00:00+00:00\",\"2022-04-19T00:00:00+00:00\",\"2022-04-20T00:00:00+00:00\",\"2022-04-21T00:00:00+00:00\",\"2022-04-22T00:00:00+00:00\",\"2022-04-23T00:00:00+00:00\",\"2022-04-24T00:00:00+00:00\",\"2022-04-25T00:00:00+00:00\",\"2022-04-26T00:00:00+00:00\",\"2022-04-27T00:00:00+00:00\",\"2022-04-28T00:00:00+00:00\",\"2022-04-29T00:00:00+00:00\",\"2022-04-30T00:00:00+00:00\",\"2022-05-01T00:00:00+00:00\",\"2022-05-02T00:00:00+00:00\",\"2022-05-03T00:00:00+00:00\",\"2022-05-04T00:00:00+00:00\",\"2022-05-05T00:00:00+00:00\",\"2022-05-06T00:00:00+00:00\",\"2022-05-07T00:00:00+00:00\",\"2022-05-08T00:00:00+00:00\",\"2022-05-09T00:00:00+00:00\",\"2022-05-10T00:00:00+00:00\",\"2022-05-11T00:00:00+00:00\",\"2022-05-12T00:00:00+00:00\",\"2022-05-13T00:00:00+00:00\",\"2022-05-14T00:00:00+00:00\",\"2022-05-15T00:00:00+00:00\",\"2022-05-16T00:00:00+00:00\",\"2022-05-17T00:00:00+00:00\",\"2022-05-18T00:00:00+00:00\",\"2022-05-19T00:00:00+00:00\",\"2022-05-20T00:00:00+00:00\",\"2022-05-21T00:00:00+00:00\",\"2022-05-22T00:00:00+00:00\",\"2022-05-23T00:00:00+00:00\",\"2022-05-24T00:00:00+00:00\",\"2022-05-25T00:00:00+00:00\",\"2022-05-26T00:00:00+00:00\",\"2022-05-27T00:00:00+00:00\",\"2022-05-28T00:00:00+00:00\",\"2022-05-29T00:00:00+00:00\",\"2022-05-30T00:00:00+00:00\",\"2022-05-31T00:00:00+00:00\",\"2022-06-01T00:00:00+00:00\",\"2022-06-02T00:00:00+00:00\",\"2022-06-03T00:00:00+00:00\",\"2022-06-04T00:00:00+00:00\",\"2022-06-05T00:00:00+00:00\",\"2022-06-06T00:00:00+00:00\",\"2022-06-07T00:00:00+00:00\",\"2022-06-08T00:00:00+00:00\",\"2022-06-09T00:00:00+00:00\",\"2022-06-10T00:00:00+00:00\",\"2022-06-11T00:00:00+00:00\",\"2022-06-12T00:00:00+00:00\",\"2022-06-13T00:00:00+00:00\",\"2022-06-14T00:00:00+00:00\",\"2022-06-15T00:00:00+00:00\",\"2022-06-16T00:00:00+00:00\",\"2022-06-17T00:00:00+00:00\",\"2022-06-18T00:00:00+00:00\",\"2022-06-19T00:00:00+00:00\",\"2022-06-20T00:00:00+00:00\",\"2022-06-21T00:00:00+00:00\",\"2022-06-22T00:00:00+00:00\",\"2022-06-23T00:00:00+00:00\",\"2022-06-24T00:00:00+00:00\",\"2022-06-25T00:00:00+00:00\",\"2022-06-26T00:00:00+00:00\",\"2022-06-27T00:00:00+00:00\",\"2022-06-28T00:00:00+00:00\",\"2022-06-29T00:00:00+00:00\",\"2022-06-30T00:00:00+00:00\",\"2022-07-01T00:00:00+00:00\",\"2022-07-02T00:00:00+00:00\",\"2022-07-03T00:00:00+00:00\",\"2022-07-04T00:00:00+00:00\",\"2022-07-05T00:00:00+00:00\",\"2022-07-06T00:00:00+00:00\",\"2022-07-07T00:00:00+00:00\",\"2022-07-08T00:00:00+00:00\",\"2022-07-09T00:00:00+00:00\",\"2022-07-10T00:00:00+00:00\",\"2022-07-11T00:00:00+00:00\",\"2022-07-12T00:00:00+00:00\",\"2022-07-13T00:00:00+00:00\",\"2022-07-14T00:00:00+00:00\",\"2022-07-15T00:00:00+00:00\",\"2022-07-16T00:00:00+00:00\",\"2022-07-17T00:00:00+00:00\",\"2022-07-18T00:00:00+00:00\",\"2022-07-19T00:00:00+00:00\",\"2022-07-20T00:00:00+00:00\",\"2022-07-21T00:00:00+00:00\",\"2022-07-22T00:00:00+00:00\",\"2022-07-23T00:00:00+00:00\",\"2022-07-24T00:00:00+00:00\",\"2022-07-25T00:00:00+00:00\",\"2022-07-26T00:00:00+00:00\",\"2022-07-27T00:00:00+00:00\",\"2022-07-28T00:00:00+00:00\",\"2022-07-29T00:00:00+00:00\",\"2022-07-30T00:00:00+00:00\",\"2022-07-31T00:00:00+00:00\",\"2022-08-01T00:00:00+00:00\",\"2022-08-02T00:00:00+00:00\",\"2022-08-03T00:00:00+00:00\",\"2022-08-04T00:00:00+00:00\",\"2022-08-05T00:00:00+00:00\",\"2022-08-06T00:00:00+00:00\",\"2022-08-07T00:00:00+00:00\",\"2022-08-08T00:00:00+00:00\",\"2022-08-09T00:00:00+00:00\",\"2022-08-10T00:00:00+00:00\",\"2022-08-11T00:00:00+00:00\",\"2022-08-12T00:00:00+00:00\",\"2022-08-13T00:00:00+00:00\",\"2022-08-14T00:00:00+00:00\",\"2022-08-15T00:00:00+00:00\",\"2022-08-16T00:00:00+00:00\",\"2022-08-17T00:00:00+00:00\",\"2022-08-18T00:00:00+00:00\",\"2022-08-19T00:00:00+00:00\",\"2022-08-20T00:00:00+00:00\",\"2022-08-21T00:00:00+00:00\",\"2022-08-22T00:00:00+00:00\",\"2022-08-23T00:00:00+00:00\",\"2022-08-24T00:00:00+00:00\",\"2022-08-25T00:00:00+00:00\",\"2022-08-26T00:00:00+00:00\",\"2022-08-27T00:00:00+00:00\",\"2022-08-28T00:00:00+00:00\",\"2022-08-29T00:00:00+00:00\",\"2022-08-30T00:00:00+00:00\",\"2022-08-31T00:00:00+00:00\",\"2022-09-01T00:00:00+00:00\",\"2022-09-02T00:00:00+00:00\",\"2022-09-03T00:00:00+00:00\",\"2022-09-04T00:00:00+00:00\",\"2022-09-05T00:00:00+00:00\",\"2022-09-06T00:00:00+00:00\",\"2022-09-07T00:00:00+00:00\",\"2022-09-08T00:00:00+00:00\",\"2022-09-09T00:00:00+00:00\",\"2022-09-10T00:00:00+00:00\",\"2022-09-11T00:00:00+00:00\",\"2022-09-12T00:00:00+00:00\",\"2022-09-13T00:00:00+00:00\",\"2022-09-14T00:00:00+00:00\",\"2022-09-15T00:00:00+00:00\",\"2022-09-16T00:00:00+00:00\",\"2022-09-17T00:00:00+00:00\",\"2022-09-18T00:00:00+00:00\",\"2022-09-19T00:00:00+00:00\",\"2022-09-20T00:00:00+00:00\",\"2022-09-21T00:00:00+00:00\",\"2022-09-22T00:00:00+00:00\",\"2022-09-23T00:00:00+00:00\",\"2022-09-24T00:00:00+00:00\",\"2022-09-25T00:00:00+00:00\",\"2022-09-26T00:00:00+00:00\",\"2022-09-27T00:00:00+00:00\",\"2022-09-28T00:00:00+00:00\",\"2022-09-29T00:00:00+00:00\",\"2022-09-30T00:00:00+00:00\",\"2022-10-01T00:00:00+00:00\",\"2022-10-02T00:00:00+00:00\",\"2022-10-03T00:00:00+00:00\",\"2022-10-04T00:00:00+00:00\",\"2022-10-05T00:00:00+00:00\",\"2022-10-06T00:00:00+00:00\",\"2022-10-07T00:00:00+00:00\",\"2022-10-08T00:00:00+00:00\",\"2022-10-09T00:00:00+00:00\",\"2022-10-10T00:00:00+00:00\",\"2022-10-11T00:00:00+00:00\",\"2022-10-12T00:00:00+00:00\",\"2022-10-13T00:00:00+00:00\",\"2022-10-14T00:00:00+00:00\",\"2022-10-15T00:00:00+00:00\",\"2022-10-16T00:00:00+00:00\",\"2022-10-17T00:00:00+00:00\",\"2022-10-18T00:00:00+00:00\",\"2022-10-19T00:00:00+00:00\",\"2022-10-20T00:00:00+00:00\",\"2022-10-21T00:00:00+00:00\",\"2022-10-22T00:00:00+00:00\",\"2022-10-23T00:00:00+00:00\",\"2022-10-24T00:00:00+00:00\",\"2022-10-25T00:00:00+00:00\",\"2022-10-26T00:00:00+00:00\",\"2022-10-27T00:00:00+00:00\",\"2022-10-28T00:00:00+00:00\",\"2022-10-29T00:00:00+00:00\",\"2022-10-30T00:00:00+00:00\",\"2022-10-31T00:00:00+00:00\",\"2022-11-01T00:00:00+00:00\",\"2022-11-02T00:00:00+00:00\",\"2022-11-03T00:00:00+00:00\",\"2022-11-04T00:00:00+00:00\",\"2022-11-05T00:00:00+00:00\",\"2022-11-06T00:00:00+00:00\",\"2022-11-07T00:00:00+00:00\",\"2022-11-08T00:00:00+00:00\"],\"xaxis\":\"x\",\"y\":[23.98668161404327,22.87904517257595,22.943305513751298,22.87737454223151,21.68158497258792,21.57723406230221,22.20780041811745,22.37400583296867,21.462021294771528,21.246728789862267,21.523379365195684,21.126467855807164,20.97938325796016,21.866484233131224,22.006269010080203,21.304615978283948,21.493901241131553,21.1532463334851,21.44847588454988,21.55701000696466,21.683578534312442,21.95861170155151,21.30538573734153,20.956094751272026,20.62456825109582,20.953402604649707,21.91999349452487,22.008039812550262,21.498754945506814,20.629549620801214,20.289726961823785,20.043238211406035,19.443896324406353,18.918444966988734,18.739179076555267,18.474598344050985,18.738291082802473,18.422326700415304,17.451753101742227,17.79282807772784,18.137909112526927,18.56422215490372,18.941101137767568,18.71236412469186,17.876493962415797,17.829597278016386,17.57902616152154,17.573850893385657,17.651331172207428,17.470203692372866,17.470203692372866,18.424924156440127,18.247778802169258,18.59501725530819,19.705158517084588,19.331460894721065,20.073206853388047,19.34804442832028,19.189652676946412,19.48662645425174,19.71544333743285,19.951748039935357,20.166116148969927,20.295280436572828,20.718784300901994,20.76243442920007,19.883313573078752,19.15776783089047,18.74647710818076,18.662727813498535,19.083054374004462,18.03295380695782,17.802398832950782,18.41725838847612,18.762344246054695,19.645073322156527,19.55022757261442,19.324784063329936,18.750390782616066,18.06148355836403,19.05087957827687,18.528866627119413,19.130741684644637,19.060771173045232,18.338062331273484,17.986336563606752,18.36042564324569,18.40536816612792,18.188792930480812,18.001732762543043,18.46270803098271,18.46270803098271,18.128021430330833,18.32078973228972,18.959640845035096,19.33196778369659,19.430677781587203,19.7042044764987,19.927876664299294,19.967461209257962,20.132762448078534,19.779383928951376,20.44969463355104,20.284522516522618,19.94237370980145,19.715592884099344,18.788483948675673,18.696002254879463,18.529516239665345,18.079553121113847,18.467912339153436,18.639158475673923,18.55017222833626,17.913208751619013,18.080755803156066,18.206328181897092,17.630112573833202,17.888957987391162,17.52032533912331,17.33461132697385,17.400209043622294,17.400209043622294,17.80355846688224,19.273401744652354,19.067233241432334,17.915981949917903,17.53765381891277,19.005321821574594,19.292854988042052,19.33401503687373,20.30019670852017,19.633173537909943,20.17321314029319,20.269434395901918,20.181881730685625,20.81493346070833,20.73494143522041,21.123978414916266,20.958101743204782,21.160244604280432,21.127085875257112,21.63682126101756,21.85764693091432,21.27230645111844,20.902308602809082,20.268178216740473,20.236170793475083,20.134798543214515,20.668426897325396,21.04958335100504,21.160847903269776,21.784118332305667,20.86666598496487,20.29513318023648,20.302909013643735,20.157410589689583,19.17309659655522,18.79918256560018,18.24577004524417,18.26322608047075,18.728160851128962,17.99795249814626,17.631973615794227,17.60481650904151,18.108364194535163,17.707037473823494,18.41340408657237,18.7329795040438,19.12268892081357,19.09853831170505,18.887761430591475,18.532643321980746,19.241168780078354,19.55860768373643,19.416609841046515,19.588004082581236,19.45422881967014,19.291596557152204,19.240833338687157,17.95102124051331,18.159237518870274,18.586548356281263,18.6488791334787,18.61619921236819,18.46302705443652,18.239860215556703,18.581258175687097,19.000710127318875,18.37124450669725,18.232350412597253,17.863891671206456,18.098558488905958,18.53178568053595,19.066781960275712,19.298548678991278,19.555166266370037,19.955410357668924,20.131546977502126,19.969788022693468,19.80025050695047,20.020925810412106,20.221843705437404,20.668515156300128,20.555325532486336,20.146618846414466,20.31299575683805,20.899139110156995,19.968790556851147,19.111959134647584,19.33195217124588,19.590902602397353,19.86398178183011,19.715238251157263,19.743191985862584,19.966846774565482,19.590235391430255,19.868329890372838,19.956115427361354,19.53402578666448,19.576685027201577,19.685980409686454,19.570190947739754,19.006637460630206,18.362407605185748,18.30703839347596,18.870306013759098,18.98186681344678,18.98186681344678,18.894542393737023,18.618218507627105,18.726060386031264,18.11814282998574,17.803644219281466,17.880289422569007,17.89508735009362,15.39574766895242,16.12975562756378,15.795893073010902,16.642458298698017,17.032547003571395,17.339602150708778,17.157984916423153,17.32221106975631,16.470149868472504,16.192100194793113,16.694721014044433,15.67624199500699,15.984616248569527,15.885204297940492,14.652116340970167,15.01644287727919,15.639160298361787,15.533867564092162,15.422253863038616,15.190594306622017,15.192396948119402,14.818413745511116,14.288606816239223,14.453720304218054,14.453720304218054,14.764404144703835,15.04368636617186,15.04368636617186,14.259528616682427,13.620106103076601,13.767266810665957,13.882874044887462,13.801965284773999,13.822383687523953,13.821532628143274,13.144466571311586,13.151138813041708,13.688524122883795,13.736400900271306,13.596760711995515,13.596760711995515,13.266709278429921,14.28794741563153,14.859609189596723,14.956106342299137,14.720187668005359,14.721703277555287,15.112402562810257,14.71832175001464,14.714500581288114,14.63919438768755,14.574509091806043,14.844017897995476,15.317930381254751,15.248520579825353,14.851574769363495,15.275824148011253,15.111042557115638,15.04767836171592,15.04767836171592,15.300185232972275,15.22869072472739,15.22869072472739,15.384767236273756,15.361498114319128,15.124814760686455,14.880946094423852,15.127457393323262,14.913997045104722,14.69954714793975,14.333639412020105,14.404566022497423,14.32604187269404,13.874842022966982,13.666109365807856,13.409565338322116,13.494268162277411,13.780076684409902,13.090386032663059,13.370554530139378,13.370554530139378,13.043011622580568,13.21953573206347,13.21953573206347,13.751095610935637,14.039830363440986,13.61483902648908,14.11891207373175,14.316117320423881,14.05913390416793,13.9450917154311,13.924989094840567,13.723260878131116,13.723260878131116,13.92822896208461,13.590973960616438,13.01997787968643,13.01997787968643,12.6654851546969,12.734861208022785,12.66371848274963,12.381061962034368,11.885548091958098,11.800795881594638,11.579438785757468,11.659442026397194,11.248759246757011,10.735265334949151,11.072602541383558,10.858581778758802,10.908773138308225,11.191217846829149,11.180355930658115,11.47163328964378,11.663896964263198,12.153256742011642,11.597136409863772,11.38159752272272,11.451171464211662,12.24463811609835,11.998092814886396,12.31922917950472,12.341735675752252,12.051322638250973,12.051322638250973,12.25175140087007,12.244707726623872,12.229577773057798,12.11900008623983,12.338267480797583,12.162624835991354,11.908345134563469,11.778598898527992,11.033474836058922,11.178495674343614,11.000154474701995,10.092331057373215,10.292787593558007,10.462008200235218,10.511751734667518,10.528740322351137,9.816020452203112,9.875992701416326,9.660358366621757,8.82640454162862,9.212874265706738,9.03324377944803,8.27689846059343,8.632108790161608,7.991398431645047,7.851719169107096,8.834995030927084,8.891476366201513,9.278685761118322,8.982651988302571,8.968325063708127,9.01491463074413,8.942683811436257,9.755397326548287,9.737853548790888,9.751582507446454,9.912699254765878,9.52156358961307,9.01708124811127,9.134819269315276,9.825588380973116,9.790808498021741,9.983811905044604,9.866833804541987,9.404619872934994,8.964082050473676,7.696858204232271,7.540911164823161,7.555436385636138,7.848372432797368,8.883607033098784,8.118521318680315,8.368848859874657,8.725244020406354,8.505095123818563,8.495856519706235,9.091978184320325,9.234629863316158,8.748428640282114,8.311503345429848,8.044674959135033,8.858977534299338,8.611379926466366,9.339857403190809,10.18884829641662,11.142967201601085,11.631597216381095,11.75652170964343,11.188164711006742,10.932947482019673,10.68246275010798,10.237937798422125,10.41827830155162,10.22908782601113,10.320238776163947,10.512616761966775,10.928036496951442,10.744700544189389,10.61007220975978,10.90982037927577,11.012248831594507,11.40657726991121,11.995867324433963,12.454131607776642,13.22710909694733,13.37251984393042,13.526439536729562,13.526439536729562,13.526439536729562,13.489399912718314,13.115694242869601,12.590859026286893,12.291733826662199,12.960814796686382,13.050830438404116,13.01226986440167,12.650177518077,13.083219290128078,13.95611671004431,13.344173917471736,13.508788897597569,13.222128295627499,13.322207887850546,13.650644539960766,13.27633860769566,13.586911882563136,14.125865959255046,14.53707454628146,14.53707454628146,14.53707454628146,13.834719094897153,13.798988624479946,13.592556368262422,13.197177048139096,13.244358413271584,13.193196098093175,13.156785849807973,13.17328197020171,12.748294729301591,12.552325924053974,13.251268870096933,13.094926082541658,12.521270537849482,12.552028529171455,12.383657184431286,11.956759042468601,11.90915909666115,11.930373894210188,11.437825614901342,11.52769209838631,11.553423321040102,11.144565319667743,11.012717407076966,11.70234698607311,11.534590027796089,11.316825387920893,12.295053468970085,11.963776020251737,11.862096869835014,11.015541293573538,11.012705841055848,11.003660113801562,11.150834586152602,10.729581266395027,10.540947362877805,10.79967537349984,10.965235329630119,11.638593944661114,11.519684407091857,11.688510132612606,12.238609572870462,12.636626088977266,12.474484031090594,12.556225379615027,12.6264394100013,13.273812519653138,13.515950989020764,13.703296990235048,13.6783900943515,13.733746479907015,13.701170846323985,13.65769581976959,14.209071608464342,14.444899376931275,14.200624553580422,14.057786086721125,14.680508530287351,14.914374647369378,15.119798388044735,14.49923927005301,14.631670524056538,14.379533362740538,14.505182915271075,14.646227208990092,14.545410460170727,15.872101085275258,15.925882343059762,16.49932259539053,16.722139903418686,15.957061287786933,15.917063218125227,16.04703614980223,15.690668084530746,14.87237871900231,14.743961756738955,15.150631661618785,15.408480754933862,15.655225270556228,16.251113897367198,16.11033032030862,15.841882378469773,16.13794437796694,16.133002828425003,16.074221047191873,15.743457722938171,15.986676126766053,15.958971885907536,15.80628171625984,15.518795733962932,15.723919644727523,15.612075416869885,16.106296395603835,16.096194266355667,15.507189090495599,15.716101127697502,15.960588190367098,15.775087818107458,15.993230535790403,15.747152059772418,16.35362463792738,17.254193785966045,17.276013210580544,17.839510288669747,18.058165873831598,18.01203095753605,18.63238428773093,18.728917773565577,18.988200839017754,19.21567702174396,18.712657656944387,18.798490796450153,19.426160178776097,20.448939588147375,20.451797960193076,20.291653383153886,19.728449324899856,19.231338135729636,19.299568595682448,19.614598746105894,18.99511813326116,18.710859887213328,20.26141521468352,20.216659668898384,20.936115285947032,21.19083255478291,21.232362092775592,21.364044261855874,22.046145629060597,21.20028789253796,20.717431336222567,20.756273266018898,20.524211849297778,20.4765971787344,21.785557986226813,21.915798232710905,21.217170681930853,21.349105176875895,20.933761352824188,20.84597791434677,21.009056565640694,22.39550589471182,21.6900008675877,20.73600022612292,20.8042354868639,19.44915956289539,19.63467968480197,19.283009503190975,19.283009503190975,19.05317996511846,18.619974533276064,18.579980382972238,18.84968729797858,18.888996999727368,19.018958840193733,18.98681544281926,18.68670788152773,17.533503784501757,17.989025786154112,18.67780591925441,19.10555986201794,19.010593955488254,18.992012651762778,19.054881915052423,18.611760759854512,18.79362016111752,19.60618131114067,18.653744865651547,18.965591164052764,18.687897730437577,17.896215539600348,18.621934252030627,18.77730099434689,18.70711512874632,18.55891567528216,18.506459684931322,18.387914793392255,17.904735698229878,17.804471656227516,17.42931991168255,17.310913025500806,16.714009460887503,16.826655703591943,17.047828395617735,17.28000812772663,16.988704587164328,16.863615180675406,16.641023212611582,16.801859793689133,16.816834854681883,16.756813243391868,16.878629637077893,17.01600375592416,17.1269197338493,17.095657518618633,16.967092858548384,17.186423316887577,16.487714050867417,16.33607516190143,16.008284095024262,15.86629641802244,15.15711878175081,14.91095016663202,14.797451723399945,14.797451723399945,14.985888069553832,15.547429317927275,15.944209056055648,15.691871542288904,16.19465334704382,15.044942835057128,15.399439378017732,15.58835308733022,15.128638768213175,13.259020993700421,13.322849191231413,13.188016293763539,13.215882600619878,13.12802628059937,13.539572433903778,13.43952987152608,13.845842617483207,13.429559253824074,13.181257357336174,13.856992189558582,14.155505940949698,14.149813900070484,14.03869126651356,13.657461011197336,13.793930318001845,13.583508494029871,13.081692054198513,13.14845929873416,13.396480087021413,13.198357495708347,13.1686354789474,12.484659593265125,13.115779794002759,13.179036828242774,13.366822706570503,13.508288480572062,13.444019455488544,13.995020656719737,13.775083947635004,13.691642498701118,13.622738127245636,13.682526992271882,13.199075477891231,13.24729596435028,12.424197824422944,12.226326108365049,11.792300616171358,11.78464641779251,11.80527512069589,11.715993858096052,11.219269300379132,11.604990510645274,11.80112162923741,12.16999390376554,12.533232860865562,12.419396932010818,12.370642139055521,13.032490470428248,13.160063255882836,13.21438068813432,13.621924524954787,13.494948107896887,13.689259635959772,13.584886948128538,13.700745432098248,14.001040772094942,13.995411748075771,14.088565934863784,14.070157681658536,14.220463389514526,13.838428828843053,14.00564023013322,14.374924812095546,14.21900055627674,14.316862084440451,13.87067843418901,13.804617322506507,13.67140821658921,13.883491824854776,14.786906332854223,16.217296641678523,16.217296641678523,16.41229159670623,16.453377904574708,16.453377904574708,16.81427639273314,16.151748322824353,17.370236237316348,17.5318998536937,17.650136585958865,17.616410239728218,17.45422223040802,17.6747546171635,17.3763228722136,17.512168043862797,17.557932643754228,17.596984341154798,17.537733950487855,17.435370860940047,17.932009773913492,17.585162299335867,17.100600417172362,17.450933918702315,17.64945624568717,17.307812550544234,17.131487617265662,17.70877869273837,17.49485107897799,17.30934588126578,17.34984486462583,17.34984486462583,17.261654229250787,17.078771691880522,16.6953111597709,16.708433143136283,17.206174230147255,16.887405810089273,16.910702866380344,16.453899743938493,16.234875619610413,16.023775891715996,15.396791835086798,15.17930839310333,15.174827056689466,15.17930839310333,15.32804807927155,15.31428605594176,15.47909653543298,16.065061971389994,15.97522104419502,16.33731018266813,16.35980490274822,16.35980490274822,16.29209926565096,16.44788261813117,16.276713130532762,15.837919767529929,15.701777506426717,15.797557571838428,15.710500813209482,15.61993744765411,15.188611675670739,15.001725623484319,14.995331560175028,15.147582810664307,15.234608968226638,15.17585475982175,14.886775113529382,15.296487155450889,15.441677596235227,15.644229872743743,15.62994240025768,15.406599170852676,14.817356617613608,14.817356617613608,14.754778772305643,15.092555292113996,15.245262343283915,15.083840196526022,15.083840196526022,15.083840196526022,15.43336343147721,14.836928181967446,14.387158494415031,14.472375702178164,14.672304215597087,14.646699145143227,14.650987568097218,14.538272635274607,15.15666236154507,15.529999136475192,15.647432164593189,15.607139827225591,15.570102332664293,15.828242595256526,16.051142049581358,16.01215773663105,16.09213402632237,16.079620154102734,16.258520875983717,15.917146336951916,15.823277351279375,16.119851938365425,16.246939491635203,15.311539587504575,14.936771641092662,14.98648120036783,14.839990884952137,14.267327164964772,14.12320962779261,14.384061304853702,14.08739658863909,13.366477274059442,12.837871280266167,12.742840871933092,12.558883625547379,12.549814393711856,12.129021085749581,11.263361609137368,11.27460839632981,11.854043709670181,12.295608268171666,12.548036347464597,12.4391184115479,12.71053913217266,12.801969344551312,12.203644991198392,12.27615314092736,12.452110360547298,12.167592745214684,12.067344597478403,11.794111795121843,11.060690457374633,10.810638598420375,10.800123633896575,10.903434240497045,10.929695865297106,11.16838018719939,10.877320663589728,11.549191458588615,11.610682358714119,11.519596101874697,11.56913717552397,11.066514600428757,11.397127621944737,11.70404363928994,11.868717773250737,11.827147007875528,11.739668108803492,11.43507561362085,10.972015757244025,10.96415140808531,11.263962291814632,10.854940982276196,10.275229239273909,10.370154565432998,10.50516379267541,10.352262622396836,9.899166971028372,10.327625470238644,10.124941322681824,10.160636040623782,10.291693502233157,10.281723259318154,11.286514227285483,11.579274334895718,11.91084811108205,12.560403531660413,12.744666669759352,13.01018246920307,12.985779210014957,12.508280136448446,12.01444826133411,11.904831081666734,11.573096450909404,11.790139124383693,11.701880768980843,11.82282391218994,11.5178983483055,11.459684610728482,11.495792527406422,11.817740878723715,12.163256947778889,12.113662179431216,12.157701095409257,11.96180989156479,11.96180989156479,12.387380262590941,12.974564699654367,12.472975195561165,12.22710053153202,12.427729551733812,12.121740659709811,12.44047584060226,12.691735601564712,12.847891578016934,12.183492640358473,11.576681162126047,11.269464213332036,10.857235407673693,10.970364275851985,11.177532011609514,10.713395088300025,11.118909166500357,11.151496993412513,10.940624392484422,10.737494948784843,10.779520567600564,10.311099008315615,10.192165900514638,10.676984982838889,10.765867712456135,10.765867712456135,10.789200105814189,10.633827571903542,10.874425503158381,10.009795719992386,10.398996121862458,10.53391323028614,10.788846050212975,10.526815493191322,10.33769358817953,10.19569985039639,10.39108906032502,9.90393713279547,10.007462386579547,9.977305108436685,9.982878659282868,10.18877462631027,10.36274254297096,10.593368716127127,10.677882414367378,10.753140985999622,10.764358639735816,11.501760643060411,11.32089543462933,10.897795903311325,10.908608304225265,10.76931053869239,10.656837516496465,9.935225289592209,10.565334003671655,10.723127881348017,10.843162466925138,10.603328978290039,9.96324430728639,10.11874609631127,10.302461824046993,10.260037134576127,10.361621260975461,10.785745563465788,11.053047025058316,11.24246161511917,11.240758055216693,11.584669885227061,11.584669885227061,11.63293417508655,11.0970290876236,11.759304803033466,11.443959432017126,11.854804039314025,12.052412985093941,12.126006976591231,12.809860949590757,13.011460558074761,12.9032407935618,12.354019207282295,12.157762140157269,12.157762140157269,11.903377991884456,11.563906614659514,11.556550700386614,11.783365724873573,12.077982928960918,12.249164353251562,12.239713625915073,12.087890150043279,11.808423993042204,11.73365426534363,11.040569825691037,11.26485805577584,11.276503654254167,11.36837822489396,11.316377504263953,11.316377504263953,11.326657491619653,10.910519730291979,10.66315597055123,10.78359014337047,10.814263027325088,10.67515562639283,10.541636624537754,10.380046719438152,10.080053885021778,9.548924115170344,9.919194539775278,10.209845574135134,10.147483829105841,10.360957881555688,10.414171976145138,10.28748651974598,10.149353695058982,10.19604947866577,10.349825690061575,10.728756539072993,10.647581830678954,10.625870940458991,10.184626911178295,10.25286340639131,9.893113914397977,9.515282334116094,9.527456933255918,9.317543780434656,9.18104373953408,9.291754246412998,9.441552855645119,9.904300523366615,10.255319507152748,10.739226547623781,10.583669276085384,11.029536148377517,11.081101371085111,10.931466570810588,11.060507724161184,11.396311025606831,12.20026294282941,12.386008169061768,11.848629327397742,11.957713662909697,11.55863501581258,11.655057722259965,11.828437263561531,12.056533476797071,12.350061294892756,12.214118947381515,12.36778665480287,11.996245397021866,11.986751574915466,12.203127217322907,12.11919439986242,11.89861407988866,11.60908419653126,11.106864020089823,11.239971469614861,11.500197086860808,11.764272816826814,12.875838145736008,12.943179085673751,12.580729429481941,12.433656475736976,12.21799244002748,12.294456654444152,12.352220903980982,12.427057108473761,12.505960671774229,11.82030540202572,11.356291868794166,11.477677410874044,11.324789156969084,11.617521291077693,11.150536652841625,11.051294116760335,11.179412741648465,11.267293947047996,10.877470247269683,10.7125687936793,10.7125687936793,10.7125687936793,10.64882950592101,10.604472895898652,10.77928779218642,10.576025331633687,10.534772497534139,9.470022044425841,9.651215966132787,9.798583007039174,9.709000271937951,9.34722054638688,9.971214552133368,10.432154333174172,10.149108421715836,9.950394497932402,9.57436314665081,9.562009777223214,9.214849557497873,9.136168001386702,9.124075134975929,8.779669892972898,8.51063623449011,8.51063623449011,8.142283735239086,8.273938671393877,8.651025720445006,8.535943033566928,8.980881365011918,8.985455972806623,8.997658683164467,9.658348334490396,8.862480077486424,8.559000982834686,8.117151839320691,8.117151839320691,7.891483067300475,8.215084095616355,7.749162023350231,8.023009658564305,7.611368724610212,7.8670399849622985,7.8098845680488305,7.959628388308859,8.035823693256571,8.192284115560057,8.854876235170938,8.937221249936433,8.867142798003492,8.350388081400762,7.9699130637998605,8.055571514983573,7.816066062556271,8.271515871008095,8.545064866142148,8.362415991272387,7.942137222809209,8.008548913631074,8.072024173787185,9.197668679268634,9.455224027488107,8.53867142567626,8.53867142567626,8.53867142567626,8.49613998423151,8.073947734153798,8.184187079035144,8.388613100424802,7.992021503580871,8.671738308906662,8.774220242400288,8.684317855089763,8.43597183932847,8.363970186449098,8.358799243125192,8.204885192254352,8.268928056796554,8.348485545215901,8.657561511388078,8.657561511388078,9.0340402052002,9.565095766803267,10.199585862496253,10.37603405610592,10.341615849676344,10.607193113265833,10.447540476350792,10.631844517579525,11.214649941197742,11.616743505738402,11.741551648747484,11.988358530310816,11.598578486756828,11.669293785298773,12.054296192318748,11.377462196820565,11.173800097257946,10.954224817892232,10.761257470900954,10.733876400436081,11.815006507757332,12.490502234967016,11.866479552576937,11.25918153190797,11.030537079887637,11.249140142786462,12.072349228241674,11.568713639795526,11.375173326090326,11.115131494149555,10.517469937126013,10.42162327496361,10.04353339948645,10.04937260446117,9.86576704051978,9.494615428543662,9.507439248072803,9.483879453249312,9.667657450653365,10.067227621261088,10.176272031110623,10.205601462923308,10.664422175345823,10.0281204989908,9.97901272918198,10.21754536975723,9.980002986902825,10.825369460219413,11.351910580945868,11.025594473827226,10.783227293873288,11.55503900487551,11.934246691403395,11.999002005466863,12.10278265903575,11.66379260670032,12.419689189926086,12.585477050915038,12.453216186620942,12.334284402402629,12.282435338366327,12.13313694962206,11.83132531983948,11.365370910913143,10.820229264976522,10.423044880186506,10.279419132831746,10.503336140756847,10.382240881893434,10.513495990352585,10.108244428501578,10.144104292158062,10.080522341411523,9.708280455002093,10.213802804386996,9.9291658990321,9.533050786590525,9.262215101614002,9.316124360791456,9.290574429229558,9.179719918129958,9.290376321342219,9.251095582666814,9.83206276748545,10.292758979630934,10.50707339548782,10.020759810947277,10.16441323520918,10.03959525332403,10.020259714340686,9.784108199584928,8.956295475305653,9.228672871819343,9.04721454396029,8.916673729078584,9.112074161365191,9.512872730189681,9.107495456033487,9.513885042671255,10.13206725086986,10.756812506505153,10.905072629713363,11.259095359028116,11.364336541433318,11.159032110233325,11.071167813919303,10.740283160013497,10.626303224866817,10.385462566020376,10.756051915131671,10.71827346671177,10.461407096656616,10.470337259900319,10.5462765013854,10.83317684193319,10.925416016115408,10.75616177843135,11.048613288583397,11.653035195282403,11.444500082548515,10.99571877616199,11.067598106764898,10.913220618956165,11.235021670882372,11.194831644773462,11.09383057159361,11.929936924998398,12.315180868415542,14.946575114304084,14.985605816800707,14.901102969199776,14.45632156456056,14.786321868441599,14.368160345314717,14.259376906712284,14.355736890342442,14.361660572939062,14.425826314520695,15.279682341661548,15.55554858388648,14.787171490119588,15.158803649491691,15.584746868947107,15.785236411507707,16.01970273437616,15.512874700500468,14.828152242363778,14.40627160316106,13.842324660972793,13.640554927578187,13.640554927578187,14.156383427124887,14.385635871662839,14.220620603803958,13.47037655818637,13.07031070978244,12.821496567821722,12.821496567821722,12.346141960209355,13.02237550051002,12.876178327822686,12.02947544738815,12.556530562893942,12.552094273325643,12.147731638056914,11.795850316536317,11.635806519205794,11.108124038158284,11.262012402134868,10.521809155555562,10.08274710936008,9.258776864814621,8.304905264349859,8.148489312797969,8.057706651312557,8.186313937518207,7.831824292033618,8.74916679233506,7.985970565282718,8.826182002390315,8.851791553306088,8.913245976280892,8.842833195265909,8.98331585719414,8.234838870733974,8.234838870733974,7.746783748166575,7.749903542697245,7.809248381633616,7.453881313911004,7.089117419748003,7.522699628997764,7.177453600732719,6.939766637630096,7.003547207157412,7.2235341704913525,8.265573749585808,8.40533153181131,9.09892139377597,9.17800749088531,9.701933212192948,9.625010577748183,9.700305852663682,10.046202216614454,10.078721644034939,10.387695766263661,10.387695766263661,10.440597850775024,11.028827730955326,10.75444625711619,10.72269641174839,10.989924233662896,10.841002003631495,10.978325192870386,11.137558024980908,10.97180704569305,11.38691177183997,11.138931767536263,10.640810161098702,10.559603572177046,10.306336429316465,10.306336429316465,10.341930423485234,10.143414443164334,10.407419742273527,10.343484310305806,10.386153317995529,10.747471349065796,10.858329143041878,10.712804370466422,10.78271516989342,11.133442470746125,11.453109622412704,11.143027014804584,10.539904011889867,10.777481215323913,11.126082002960214,11.641388182784485,10.587946637658208,11.2418862910155,11.790305347960972,12.01990058034561,12.077460759458901,11.823484449954424,11.630945996491926,11.398586010372092,11.780577445407637,11.738538898513307,11.688770842774021,11.072982234480255,11.25343775913279,10.935348641051679,10.586109031435909,10.343523521139698,10.503654161384702,10.654587836301598,10.95340770637594,10.928581100603708,11.037984733267848,10.891640168001725,10.84542756362663,11.14226223904129,10.78051737125203,10.944533883780604,10.896054362756601,11.074228307326027,12.098263234679596,11.916188371093316,12.25943587101057,12.226423574408685,12.139391305540004,12.409515165250884,12.348160074919656,12.375940941262463,13.502782444326034,14.202308505700723,14.214153019588549,14.124738954504146,13.657791468760028,14.33212040030214,14.543617558769895,13.672441755753596,13.305898354489898,13.319848231678822,12.994778040494293,12.94648760423549,12.94648760423549,12.525996541969553,11.870952940954837,11.896859984179153,12.394001997280002,12.611821985129158,13.146028053451332,13.669617315891092,13.487191538846876,12.94132923728002,13.66282301287236,13.77531039615516,13.321927929907517,13.838792583017035,14.29903868294673,15.345651846785934,15.230387352640795,14.000502560940387,13.920922824451631,13.739742724887183,14.442908310184688,14.178549943866138,13.49098500476078,13.365741870472302,13.66106158852367,13.90084004267469,13.977773742027665,14.571700819156753,15.033879559327001,15.593545997983437,15.221869875084737,15.343333642032132,15.385220670540978,15.385220670540978,14.503107463221543,13.770160336689452,13.272169476457574,13.145550750712554,13.684583716903909,13.918939685432852,13.89795502317126,13.83907440111769,13.648270116451133,13.843329067692967,14.300454475883084,14.539405583007902,14.577407573392588,14.565079903218447,15.144031240827239,15.046740602631981,14.940589617418421,14.603238611656554,14.312779725320034,14.244454902474946,14.244454902474946,13.964247204873569,13.932304064103018,14.463392342462168,14.107249926416854,14.513773953442332,14.470420327863254,14.871192419822776,15.187871298363698,14.505599195404418,14.414425207987636,14.604468801222193,14.476920215298472,14.231443179471647,14.10613499291844,15.058521559726113,14.939937333221165,15.230947157204632,14.928529148609382,14.597277704866052,14.380566810933605,14.426508432953987,14.351186448617215,13.73805970014228,13.395902958135487,13.559370375457513,13.811644163671088,13.811644163671088,13.645790398812752,13.598441783767324,13.598441783767324,13.649787266381663,13.143275118514808,13.291057627116887,13.684566763420136,13.45428784971434,13.258903156941027,13.175250895670754,13.752240560717155,13.721154577872197,13.670028714382187,13.670028714382187,13.564858929396673,13.783209338498835,14.070263431277198,13.978348201508695,13.587412362070882,12.695015344836836,12.253877053196781,12.091395003349303,11.973933370524703,12.110768421610896,11.840570652197012,11.644794065267616,11.710951336434118,11.499352514551875,11.748529965287124,12.061887750610921,12.108127445460436,12.534625227878582,14.088363463753705,13.825687306229039,13.902281247438463,13.722210973527215,14.370147540522193,13.627816759797117,13.070908592142882,12.990509309391296,12.902350384405059,12.678182838100916,12.901583548840723,12.952323547075672,12.889310610532355,12.703305793763175,13.176698828323353,13.068331324698068,13.068331324698068,12.478713772149131,12.247213325218498,12.151176711876111,12.391067771902907,12.647285428851207,13.057295302702965,12.844928386446576,12.833739175453074,12.487385717976718,12.097147738889213,12.344253630927348,11.73006177303526,11.494779861279646,11.396833549796504,11.861859313503587,11.640447959420053,11.72217004561169,11.508897454848487,12.176250497043739,12.288827569062821,12.482579855371178,12.519547663319042,12.199684767204676,11.82263874024898,11.427722088870617,11.389605289915949,11.279473686101893,11.326843659593976,11.400956678860851,11.055545368885822,11.0602708686661,11.0602708686661,10.305800097485761,9.757817777510812,9.542460626627447,9.799396082093859,9.557477612481602,9.634766146516615,9.440435432030148,9.590305755138594,9.988312828058387,10.040224859944447,9.704043735585177,9.033887234422222,8.816532973618884,8.990884017138058,8.563706710854913,8.119560541387894,7.833484620346609,7.828383336680256,8.135423147952103,7.997445960630922,7.797423839605044,7.511268629901502,7.072824685740531,7.23470237412287,6.8014044806135265,6.9513259115051795,7.334903164636519,7.257352585875765,6.2464123333512145,6.428238173362999,6.173249781477663,6.67052861256916,7.078743076388916,7.525186453925792,7.463690062827122,7.180661880645034,6.598879851832562,6.921651528858752,6.921651528858752,6.9919242174656615,6.970065933737035,6.745237681736049,6.74486603700668,6.748060871629469,6.377738474906036,5.793515395448723,6.100796846073786,5.974712831486184,6.1787601479460275,6.917590139008545,7.018619981810992,6.81520195412979,6.557392144038499,6.357830347100979,6.22182092501109,6.298981264503212,6.155726742977974,4.9485014683274375,5.0705679537754955,5.122880324398049,5.415581096065258,5.4515978812864185,5.28807177543047,5.8032743027130795,6.53487952497338,6.703810614533845,6.571279525266638,6.677971218893397,6.677971218893397,6.642698995747387,6.362399881865444,5.622958324827265,5.7175146713556835,5.274060999813912,7.211656137721456,7.204977383489575,6.819963016294728,7.8848899639196945,8.200149312245376,7.700703652575003,8.082206090592514,7.9451772432551415,7.72928343388235,8.59402896639827,8.0987727431308,7.035283363342804,7.035283363342804,6.888294946325213,6.306446277675359,6.316749695196,6.449646357662675,6.297259255810905,6.271381979667012,6.8066610835689545,6.553142236077436,7.2883297593444585,7.2883297593444585,7.2883297593444585,7.306613245909155,7.812004370891112,7.9206329080371285,8.342016667230823,8.06032129981904,8.082386468113857,7.933556633169947,7.919720343257142,7.755484297063342,7.795006469831778,7.715172226994493,7.73782524752491,8.04818224590267,8.347282350155671,8.144495556045527,8.563729110800033,8.748907987827925,8.902993441690143,8.9567273099054,9.498464076993685,9.73303776401291,10.19119534753501,9.76131968265095,9.864258274192196,10.025818060907298,9.546176556277386,10.14050205183672,9.663916952582285,10.807681056000895,11.918512322776852,11.679834569130376,11.743362981065397,11.808554114165414,11.745578831346592,11.878693454841272,11.856169740185596,12.791137737671733,12.956556618717773,12.830650171246049,12.295440578127948,12.03760251453887,12.283395411983777,12.086850365233893,11.81581476644753,12.018169873132312,12.222449663870826,11.901629392771529,11.500813975480462,11.707377454300216,12.143419358006312,11.736288239610104,11.884985591085462,11.79149939912727,11.36124478201761,11.522884707192826,10.900651933733418,10.846500693316452,10.962444560233875,11.11968652305051,11.330312096428298,11.566309131588849,11.78197609507292,11.864015986880915,11.815036152329306,12.292066896325737,12.418326529760648,12.52364263182213,12.763981937584678,12.829896812013342,13.267950696118792,13.246346937582864,13.639959003921408,13.639959003921408,13.443086243792223,13.19387843336961,13.108955971893366,12.736995910144122,12.433551256083742,12.130925866200993,12.191468363073387,12.536259162053721,12.252103360473733,12.241458356037182,11.838866032592609,11.229966147169424,11.439659607382868,11.38963057277731,11.961898652286362,11.84244744812144,11.417595185129393,11.326621866389708,11.583990947185118,11.606588608595757,11.647926094659677,11.732719733815689,11.786687370136107,11.656330351607735,11.560746385094633,11.653701763896818,11.307258844131018,11.156416661396062,11.432865295174555,11.292159811665869,10.777157526963066,10.591601632875026,10.283291162665664,10.14105126914715,10.333741081356496,10.001681605033074,10.147641775426997,8.522391855996547,8.373120701976244,8.43112763213969,8.905906998677438,9.26687966949058,9.459971116692344,9.566734628469264,9.511549600860715,9.468917409750643,9.23121858382383,9.403124143082797,9.585577244181543,9.515110507915182,9.412926374199637,9.767209680354206,9.439795247471894,8.998414978258795,8.57687376029066,9.0342611075378,8.991048022118742,8.833746379980045,8.8506574093681,8.813091607996682,8.185945275195428,8.06200218345936,7.682861535297714,7.52091532270065,6.208888864987805,6.000299257641473,6.069308788311956,6.605586622623427,6.127601906591029,6.211216135038544,5.364420583092389,5.4102588318059475,5.52132680742341,3.8344459351474347,3.8304059987206873,3.2235800228453737,0.278927568509757,1.3738280036297512,1.3738280036297512,1.2915922438224037,-1.4356604580619825,-2.21449802125101,-3.978630634801772,-4.916162382283817,-3.3006486801943957,-3.262355130149397,-2.93769667172763,-7.490920128799372,-6.967022971788872,-5.091712425872375,-3.838696779469253,-3.7954056338263875,-3.985463961045377,-4.119385185685498,-5.418532080216365,-4.348314008929755,-5.658461493143863,-5.658461493143863,-6.236344147793349,-6.398784138731761,-6.398784138731761,-6.387218580810339,-3.860686201285213,-3.831996171900509,-2.593779269385721,-2.593779269385721,-2.8145529558808224,-2.7012051442849128,-2.920855883902418,-2.9116026262358763,-2.9820042297995952,-2.6837184376161227,-1.8071785088607184,-1.6458971385228227,-1.7191153448061325,-1.889606821987555,-2.8165452827925264,-2.5359202827836325,-2.1429312968303416,-2.7102332695609133,-3.0246264835861125,-3.080033584733355,-2.5720109471482178,-2.2490089989356754,-1.7897655252264055,-0.8923684759348682,-0.8923684759348682,-0.8923684759348682,-0.8779158565671796,-2.7736820450891653,-2.8043569745955788,-2.7090510770664933,-2.9435696972672343,-2.8097575446548118,-2.87504530582976,-3.177549123426804,-3.200614212621844,-3.229156216036666,-2.8095052813090327,-3.4579986061830104,-3.5029852663441274,-3.6856267478110216,-3.674538946863104,-4.34887498353167,-4.095691777999733,-3.3844531499217623,-3.1951105507444733,-3.4315251288551285,-3.1330062447840645,-2.924345884998991,-3.4272249959755086,-3.770227649652469,-2.911207621114298,-2.3322193124113433,-1.9541166782892971,-2.0696160166792876,-2.155689101238467,-1.4019616337308083,-1.0784213234411366,-0.9280916978059328,-0.9969814614373185,-0.5417108139567972,-0.3899416940026268,-0.5251991029891934,-0.4175625385770765,-0.8535425358996429,-0.45937149027175384,-1.0888724765932944,-0.8487724362657434,-0.8460209324091972,-0.8962859326294148,-1.2608404121805306,-1.0375081188968793,-1.2484012355526874,-0.6727119432734185,-0.19636868180391565,-0.19991045516003503,-0.15895260597431626,0.2472966427046197,1.0501610839897202,0.840777869184306,0.8552162447100553,1.0884261177177113,1.0884261177177113,1.1120250411499777,0.7451376303539092,0.5696677909534653,0.5449629118899235,0.908386068038558,1.0962895214251311,1.1191222909163523,0.9561406904231795,1.2957672876399595,1.4372865184677286,0.8807811371875474,1.1346880024897255,0.9914734693356131,1.0387270286032368,0.8792078541072224,0.7192096097855538,0.20269740446638984,0.11669115526180551,0.4105759543233889,0.8995573547058155,1.1717314326219919,0.8894610693086724,1.3078079368694207,1.5182171118474308,1.2998483119117443,1.55098367950941,1.4465105363513198,1.4162210389842222,1.2687865354118255,1.086159578422441,1.480699322611967,1.134914585360769,0.8956721246541788,0.9107511023412451,0.8370308612420718,0.9356277434608762,0.7682946346591724,1.1220603451536748,1.0575076714401943,1.3544373594762016,1.4632016488572042,1.7707614451181408,2.1218598493998098,2.936674591895483,3.304156860893248,2.8204426798308146,2.9054580698145482,2.5599117920275916,2.185632667055848,2.185632667055848,2.3530017648751844,2.9668505072538265,3.419583819630634,3.2589181047577798,3.4598553206401705,3.5008206902471306,3.1552683628886857,3.344488990401695,3.129378762142343,3.3382670450941676,3.3870301907069855,3.6036584815285044,3.9961915492327638,3.629563581898365,2.5313483027192607,2.5501912237246405,3.040962759527943,3.0995672757785586,2.5316378655661387,2.3480608785438006,2.4058493579750095,2.313659624867115,2.162267589578648,1.7813633261372308,2.2540972170627116,2.3486267047405196,2.041872651026466,2.1330903350248898,2.2323209087746765,2.5084843397477963,2.4917270865186802,2.257996756360936,2.232158729384226,2.213882793087163,2.264554461791124,1.480937502336488,1.783446239511921,2.101216468175071,1.1688099479754355,1.9594337522360394,1.8953836816116176,2.4255613735325587,2.925319653789238,2.715147423850661,2.548662921760214,2.985712960516018,2.985712960516018,2.985712960516018,2.8103572885961325,3.0093158672878983,3.0718927651995243,3.14392967421524,3.347582313545705,3.4834367835598457,3.3344922972881053,3.5065785787763204,3.1094713226255566,2.8962909763845524,2.8074162598253016,2.053044570039231,2.323753463681677,2.258923911309174,2.326031171666232,2.799026530028015,2.747508259503939,2.8304865793260747,2.789893165727997,2.9138573256527023,2.834077630166365,2.5637596993422385,1.9420829700305786,2.303977391336587,1.671293518758299,1.534066823471747,1.4925969000701755,1.5350820578716728,1.2366120678558579,1.2763499452647098,1.5443208718839196,1.7364325457831509,2.3260184609396273,2.661869970838371,3.0470586873575067,3.2425908044065643,3.617482779199732,3.9022254506938747,4.47301499412196,4.426591059168028,4.57614370849786,4.873275888925699,5.175480273790889,4.821189379447466,4.823217763167165,4.941575599866721,4.574077165916357,4.849652786938119,4.760160363830512,4.721032192609798,4.92518865856828,5.098658478657669,4.497341710411917,4.8227492543078565,4.969847761809532,5.01973245400984,5.0560718576229124,5.399986659336831,6.144098338787685,6.22344897305902,6.3389238512777,6.615595409678199,6.62618928618941,6.8947911065510015,6.739286472114214,6.458378113478758,6.593921892597132,6.467136926852302,6.562770621520353,6.854471552998342,7.068102173992896,7.083442317731037,6.788080209445879,6.883586223019433,6.966139328696297,6.993314648762028,6.650830954290887,6.639439555529281,5.310880117062178,5.502833843346244,5.831421770891554,6.143813546498578,6.143813546498578,6.143813546498578,6.264011641021683,6.614272874624771,6.508772855128342,6.8516114296110375,6.8783725964990605,7.052996390582722,7.1160462735679,7.034658405379646,7.143294581679038,7.118815089037378,6.786344584226955,6.871793331377529,7.352541727343342,7.346973793839551,7.38467269905454,7.553662415138973,7.652886741004572,7.473249861925058,7.5576785762413,7.145277951429696,7.468474700359007,7.194109261849335,6.874468034277315,7.211089312699981,7.262579426382532,7.07754464882957,6.595804953936479,6.271415290507165,6.355110575271361,6.180633879049524,6.146561059383893,5.548609990869635,5.231368569437644,4.799972828843679,5.073189136190903,5.235997966220851,6.707960348449182,8.602858722434203,9.218083991471705,9.551399331250066,9.533562675597729,10.141381600590504,10.078337060200916,10.097190668733958,10.359101937759974,10.028467911164828,10.209746601452242,10.193451527889575,10.279042606134038,10.279042606134038,10.65305300137589,11.047748372290233,11.206416606090652,11.112911593138186,10.737605209151324,10.773493453304962,10.70679458532946,10.148134498257622,9.851367790484545,10.09862847928622,10.429558687815144,9.285885402309546,9.404805676474638,9.563451624889762,10.26619445543757,11.072758312014997,11.793801233296254,11.571637289430225,11.130692157467713,11.523920140777655,11.950527581878557,11.744377783373183,11.97620563339077,11.637444193827529,11.637444193827529,11.350975243082084,11.204265991836216,11.2299805366167,11.054310865534212,11.591542419458477,11.47224915449252,11.031827097710888,11.455960112242924,11.346526415185053,11.227576340882894,11.487688520583061,12.159226967171776,11.017170563577562,10.395068142195797,10.870436809722438,10.60739727757094,10.879766353919852,10.421177472636423,11.14056965423973,10.91822499351489,11.412345269957758,11.412345269957758,11.202216347502336,11.610597114338695,10.375441141805219,10.448993825025088,10.681626108484398,10.859729860915124,10.817727151533752,10.761804147707,10.714987909661279,9.147382907880065,9.55667221728589,9.385208836447578,9.53728647156833,9.717350536784707,9.642824662545625,9.716172237364141,8.878844316004187,8.849488857784582,8.749722679463169,8.979718142654324,8.900462208137006,8.83470618212099,8.991428251537204,9.202178143194683,9.392964765522581,9.645264609279437,9.688604739467976,9.194954720630566,9.39499172323901,9.39499172323901,9.702716129251488,9.612962654717826,9.637820460902136,9.898934508339119,10.077970486347198,10.073880323418628,10.077580920828044,10.615950085711724,10.318223740043365,10.117011887198268,10.117011887198268,9.924040102258447,10.018048279307745,10.164093755778936,10.84581349225202,11.713131393419363,12.03479977951587,11.822877978242087,12.351259718278328,12.199749350284893,12.51165394239675,12.452230003327248,12.045586370383887,11.844936617177538,11.970906746085163,12.115828876682212,12.264585454111998,12.32762685354707,12.394987834645367,12.592450457923409,13.097700141744028,13.398651512675519,13.436493520576477,13.707282362604323,13.313137913189198,13.16974374555626,13.151559660573353,12.80584087548624,13.143896619534544,13.27390634706347,13.056065948696638,13.056266692796626,13.148977686036467,13.350387863440027,13.181496557323458,12.942380105789786,12.83403219714141,13.175327423381255,13.004672001209494,13.3474693146024,13.215779263662132,13.279348816437398,13.405511616229893,13.604860333828018,13.615524375946686,14.039360416936075,14.408406222237225,13.740124201575599,13.9384862932604,13.883633865587486,13.997369169594688,13.8293330488364,13.642706921608806,14.014069183803812,13.866203905309082,13.682050046449534,13.408117677078234,13.394847312255331,13.064949645392709,13.126021394800457,13.037075295780664,13.387168369344792,13.95718673324593,14.121698263064463,14.182662126578904,13.838412327925663,14.025184762814646,13.821620555113778,13.271229298807263,12.956852692742116,13.441895224431,13.48834769406757,13.13983192082626,13.142824990565183,12.958817505297727,12.421252445968722,12.180852325834968,12.358463381190754,12.414708813535281,12.290710040318986,12.286443970651128,12.858390035135404,12.902167264635844,12.891700260025218,12.924554997793457,12.852087573762017,12.869721348565655,12.715268218986896,12.568788483093929,12.626621769431988,12.846281636759581,13.104293855899286,13.355627386413138,13.08439498870333,13.241794482751956,13.256552994950766,13.041953733688905,12.728221183175869,12.728221183175869,12.32262664641921,12.23619463649801,12.19809719385645,12.162145249073042,12.599915646237836,12.272047665274965,12.30748594541231,12.534053903666532,12.432162376991718,12.478174635716721,13.01233468873162,13.36062003180325,13.616078332694048,13.96118107929134,14.154740881112883,14.60156604112013,14.763691386712473,14.685288131071594,14.397833372606893,14.974441513305958,15.059423547383254,15.059423547383254,15.587950160093577,15.374181309270995,14.893477306404602,15.027794011031471,15.706482456618986,15.922666935588726,15.723683739645345,16.133137763651327,16.329691601426344,16.30001062529678,16.611754910725818,17.489536038641585,18.04830587427213,18.013359544768058,17.758262070319077,17.7629035632471,18.179991628854197,18.308338245737055,18.07241053270976,17.98286390059223,17.88166676027314,18.35183458562075,18.35183458562075,19.68539411712349,21.001253711471392,20.72019480437721,21.13249764377363,21.330362725358842,21.517344340809764,20.65209678421438,21.670122929357106,20.87118110898334,21.05269503197169,21.407500094477673,21.407500094477673,21.034141238787573,21.65373538707811,22.50601559124499,22.17532868505987,21.984886283117188,21.772965504927488,21.54202301391073,21.956015982451405,21.642802408237216,21.86177864184289,22.569915972075737,21.607845602661534,20.8345956946008,20.558343510891874,20.604118010612325,19.896614115901222,20.3783064477965,19.834568436380096,19.84789761532739,20.09350322408956,20.09350322408956,20.127791808123142,19.84383999716186,20.157258208289264,20.213490541663305,20.552210975336173,20.26674594190414,20.701927846377522,20.411316662506795,20.420763704084166,20.306744260024413,19.96154320572783,19.51681902684679,19.122672092402926,19.122672092402926,19.531630143492773,19.62002945137964,19.037562353821812,19.09841964318573,18.93712040922102,19.21078116749233,18.036300454914045,17.856904371237704,17.816046165791022,17.29643750613632,17.157551005203707,17.443704454912968,17.942690004503923,17.63298641983171,17.677916018279703,18.05465628239642,18.061643262814542,18.386252436205307,19.786820937933093,19.927978331832218,20.002985829873477,19.66034375921066,18.875071481200912,18.394158529785276,18.278341976350788,17.77168822467603,17.72795979227524,17.03208449108191,16.93253209215595,16.639047462914736,15.69522117349258,16.770779806894897,17.595575224195592,17.893899063176733,17.66260939693989,17.492104727943936,17.492104727943936,17.499091976503323,17.553442996793667,17.46710798138229,17.410837219647068,17.815915608385623,17.696671244302344,18.102529489479547,19.03453171349989,19.155261302454797,19.241137984969868,18.96608198842895,19.117481166401884,19.041063463323194,18.915727440657616,19.329249746887832,19.5117077474384,20.068995711175063,20.204611940194695,20.228437540938238,19.764051493088665,19.757076973565326,19.87354747972665,19.437684431566925,19.113952863903894,18.82739568010352,18.36065493902357,18.464909552650745,18.735562312778153,17.486200454831312,18.14407050483735,18.6641795857684,18.256088536096904,18.372915814062175,18.37713898863167,18.33604421921946,18.33891749435783,18.621645153181852,19.14597485728182,18.73568142900437,18.603613896879878,18.640364166917102,18.27014082941392,17.58960475323663,18.024192062402754,18.750828754030934,19.00295692589873,18.420273417213927,18.60507253280701,18.77120184997214,17.533518352259158,18.81455694862797,19.10055280643581,19.052619178025477,18.887577475186056,18.94217552541122,18.477354292013693,17.92282546604065,17.55174388439167,17.319771211662772,15.314448980560336,16.451952292236925,16.584903504491088,16.615085978515864,16.901993688086826,16.549308506093794,15.677122264123987,15.50347938516461,14.838358235220772,14.838358235220772,14.602110823308356,13.71147978240419,14.167314100248053,14.365715679936741,14.933914890623502,15.063776517516692,14.675503177476479,14.6374686516358,15.017578394865483,14.382315955027437,15.021419266483571,15.653077781975334,15.653077781975334,15.437365343215559,15.506403595824935,15.407036100855787,15.726760838285415,16.011956674856332,16.023008026386275,15.897504043507027,15.486067773097112,15.529806056991724,15.189954844550858,15.168295666779951,15.366099826850132,15.359904052114537,15.855525629776901,15.780789341662892,16.029595836461574,16.914015872017217,16.694874719182963,16.739903061949057,16.417484066123535,16.776702952086463,16.60208083800456,16.823000718691606,16.73320399588867,16.1627634364498,15.928835884323856,15.928835884323856,15.928835884323856,15.671869149446804,15.840679757559206,15.296104700709812,15.331319302656809,15.653207175996787,16.179479924419415,15.768742590616135,15.819034150627974,15.418136743058696,15.075335698280789,15.418638552535736,15.150567120582759,15.559842507351252,15.221666430351032,15.221666430351032,15.328370546381231,15.205891167640374,15.257538522831716,14.723516384396795,14.729228357400359,14.061868275300338,14.38940524834187,14.838935795861975,14.586535185983696,14.253737208729289,14.559875943930777,13.703484135361709,13.721073531608985,13.505047640321276,13.720452786779358,13.746106192825192,14.284348543220382,12.899085760642869,11.89708704439596,12.836456391864504,13.200648231776979,13.124526105858369,13.14237419197033,12.24129275434851,11.489711852599882,11.857184674042509,12.264894123044057,12.224467026179365,12.447731927821382,12.979605276125028,12.925197894454254,12.379959266506212,12.605735183558743,12.36665787951643,12.542355315642295,13.132306479501832,13.068516954649612,12.698274315349089,12.45145684975093,12.694401383540011,12.166914322380041,12.017045411128912,12.227854304734187,11.239662612970625,11.455217129013562,11.924155086950417,11.105005462447481,10.837120227661924,10.807134235625092,10.904562050568734,10.318721670317332,11.387747697908978,10.90824663054686,11.27832664289954,11.681320463481025,11.414994650412291,11.223081289514036,11.525041629720722,11.71180560502143,11.37212716481737,11.288230992076787,11.307347183543914,11.185949442215781,11.13863941972133,11.280422402308954,11.706324312171756,12.99750689572543,13.367390863417516,13.539116500337812,13.507688066076451,13.730840733685268,13.624756182715503,13.36438162272453,13.176002952346444,13.109180599377535,13.349564586652463,13.108393303640199,13.055033847793652,13.931328544534004,14.729674317832497,15.27116983866037,15.561780206423737,15.736415929894608,15.795714731574972,16.102913982912327,15.95405559733556,15.438814944434931,16.12090588758093,16.678775118283173,17.204726914004297,17.657912659694986,17.4803004642063,18.44073769192558,18.483563564735217,18.9861659741813,19.024541260922433,19.045717019460252,18.658926135823073,18.94390044734211,18.63506973604514,18.341907108848197,19.012093657744277,19.300865833663593,19.420348767006,19.420348767006,19.059846420741966,18.981647476529062,19.347121607029628,19.562589129449172,19.628764304990366,19.192420324114522,19.37201029368836,19.78756837555227,19.82688361361664,19.737226350279236,19.08777912463593,18.98346906749877,19.106522434370966,18.852734794033022,19.07907700426168,18.906246137516437,19.512873700532694,20.300589559410078,20.001943893838494,19.976693615577325,19.976693615577325,19.83730983179712,20.020913239782058,19.736288072197272,19.521043575653497,19.835673063264903,19.904706418571894,19.71487596563812,19.71487596563812,20.147227657031408,20.076629959104597,20.161369650307503,20.03220860007733,19.16203169170212,19.854488004482953,19.74728720113481,20.381989300350824,18.784098009834626,17.428087937634416,17.361926298844566,16.64931774332892,16.69792829735204,17.23909722015362,15.960404735127032,16.162568110527566,16.107112413385337,16.059179894608256,16.657087882376096,17.095389158143103,17.256413954179518,16.75122030453555,18.073492534039136,18.295101238564214,18.52454113512465,18.481613438635726,17.88782339570323,17.88782339570323,17.94509614362907,17.129783166865575,17.282438528266077,17.019154418076134,17.24327845313145,16.984245191206938,16.866493589109854,16.6499478267518,16.676822882173536,16.835236715530755,16.947555269120308,16.867534270576744,16.867534270576744,16.824685728406497,17.214498758464703,17.13701139410977,16.942042639252676,17.163168219993395,16.666094357444152,16.666094357444152,16.46743400544539,16.76059751442349,16.988324088070517,16.774414574057907,16.74213062912382,16.85799350867061,17.011888848011615,16.90225320107053,16.941416128086484,17.26657956148705],\"yaxis\":\"y\",\"type\":\"scattergl\"}],                        {\"template\":{\"data\":{\"bar\":[{\"error_x\":{\"color\":\"#2a3f5f\"},\"error_y\":{\"color\":\"#2a3f5f\"},\"marker\":{\"line\":{\"color\":\"#E5ECF6\",\"width\":0.5},\"pattern\":{\"fillmode\":\"overlay\",\"size\":10,\"solidity\":0.2}},\"type\":\"bar\"}],\"barpolar\":[{\"marker\":{\"line\":{\"color\":\"#E5ECF6\",\"width\":0.5},\"pattern\":{\"fillmode\":\"overlay\",\"size\":10,\"solidity\":0.2}},\"type\":\"barpolar\"}],\"carpet\":[{\"aaxis\":{\"endlinecolor\":\"#2a3f5f\",\"gridcolor\":\"white\",\"linecolor\":\"white\",\"minorgridcolor\":\"white\",\"startlinecolor\":\"#2a3f5f\"},\"baxis\":{\"endlinecolor\":\"#2a3f5f\",\"gridcolor\":\"white\",\"linecolor\":\"white\",\"minorgridcolor\":\"white\",\"startlinecolor\":\"#2a3f5f\"},\"type\":\"carpet\"}],\"choropleth\":[{\"colorbar\":{\"outlinewidth\":0,\"ticks\":\"\"},\"type\":\"choropleth\"}],\"contour\":[{\"colorbar\":{\"outlinewidth\":0,\"ticks\":\"\"},\"colorscale\":[[0.0,\"#0d0887\"],[0.1111111111111111,\"#46039f\"],[0.2222222222222222,\"#7201a8\"],[0.3333333333333333,\"#9c179e\"],[0.4444444444444444,\"#bd3786\"],[0.5555555555555556,\"#d8576b\"],[0.6666666666666666,\"#ed7953\"],[0.7777777777777778,\"#fb9f3a\"],[0.8888888888888888,\"#fdca26\"],[1.0,\"#f0f921\"]],\"type\":\"contour\"}],\"contourcarpet\":[{\"colorbar\":{\"outlinewidth\":0,\"ticks\":\"\"},\"type\":\"contourcarpet\"}],\"heatmap\":[{\"colorbar\":{\"outlinewidth\":0,\"ticks\":\"\"},\"colorscale\":[[0.0,\"#0d0887\"],[0.1111111111111111,\"#46039f\"],[0.2222222222222222,\"#7201a8\"],[0.3333333333333333,\"#9c179e\"],[0.4444444444444444,\"#bd3786\"],[0.5555555555555556,\"#d8576b\"],[0.6666666666666666,\"#ed7953\"],[0.7777777777777778,\"#fb9f3a\"],[0.8888888888888888,\"#fdca26\"],[1.0,\"#f0f921\"]],\"type\":\"heatmap\"}],\"heatmapgl\":[{\"colorbar\":{\"outlinewidth\":0,\"ticks\":\"\"},\"colorscale\":[[0.0,\"#0d0887\"],[0.1111111111111111,\"#46039f\"],[0.2222222222222222,\"#7201a8\"],[0.3333333333333333,\"#9c179e\"],[0.4444444444444444,\"#bd3786\"],[0.5555555555555556,\"#d8576b\"],[0.6666666666666666,\"#ed7953\"],[0.7777777777777778,\"#fb9f3a\"],[0.8888888888888888,\"#fdca26\"],[1.0,\"#f0f921\"]],\"type\":\"heatmapgl\"}],\"histogram\":[{\"marker\":{\"pattern\":{\"fillmode\":\"overlay\",\"size\":10,\"solidity\":0.2}},\"type\":\"histogram\"}],\"histogram2d\":[{\"colorbar\":{\"outlinewidth\":0,\"ticks\":\"\"},\"colorscale\":[[0.0,\"#0d0887\"],[0.1111111111111111,\"#46039f\"],[0.2222222222222222,\"#7201a8\"],[0.3333333333333333,\"#9c179e\"],[0.4444444444444444,\"#bd3786\"],[0.5555555555555556,\"#d8576b\"],[0.6666666666666666,\"#ed7953\"],[0.7777777777777778,\"#fb9f3a\"],[0.8888888888888888,\"#fdca26\"],[1.0,\"#f0f921\"]],\"type\":\"histogram2d\"}],\"histogram2dcontour\":[{\"colorbar\":{\"outlinewidth\":0,\"ticks\":\"\"},\"colorscale\":[[0.0,\"#0d0887\"],[0.1111111111111111,\"#46039f\"],[0.2222222222222222,\"#7201a8\"],[0.3333333333333333,\"#9c179e\"],[0.4444444444444444,\"#bd3786\"],[0.5555555555555556,\"#d8576b\"],[0.6666666666666666,\"#ed7953\"],[0.7777777777777778,\"#fb9f3a\"],[0.8888888888888888,\"#fdca26\"],[1.0,\"#f0f921\"]],\"type\":\"histogram2dcontour\"}],\"mesh3d\":[{\"colorbar\":{\"outlinewidth\":0,\"ticks\":\"\"},\"type\":\"mesh3d\"}],\"parcoords\":[{\"line\":{\"colorbar\":{\"outlinewidth\":0,\"ticks\":\"\"}},\"type\":\"parcoords\"}],\"pie\":[{\"automargin\":true,\"type\":\"pie\"}],\"scatter\":[{\"marker\":{\"colorbar\":{\"outlinewidth\":0,\"ticks\":\"\"}},\"type\":\"scatter\"}],\"scatter3d\":[{\"line\":{\"colorbar\":{\"outlinewidth\":0,\"ticks\":\"\"}},\"marker\":{\"colorbar\":{\"outlinewidth\":0,\"ticks\":\"\"}},\"type\":\"scatter3d\"}],\"scattercarpet\":[{\"marker\":{\"colorbar\":{\"outlinewidth\":0,\"ticks\":\"\"}},\"type\":\"scattercarpet\"}],\"scattergeo\":[{\"marker\":{\"colorbar\":{\"outlinewidth\":0,\"ticks\":\"\"}},\"type\":\"scattergeo\"}],\"scattergl\":[{\"marker\":{\"colorbar\":{\"outlinewidth\":0,\"ticks\":\"\"}},\"type\":\"scattergl\"}],\"scattermapbox\":[{\"marker\":{\"colorbar\":{\"outlinewidth\":0,\"ticks\":\"\"}},\"type\":\"scattermapbox\"}],\"scatterpolar\":[{\"marker\":{\"colorbar\":{\"outlinewidth\":0,\"ticks\":\"\"}},\"type\":\"scatterpolar\"}],\"scatterpolargl\":[{\"marker\":{\"colorbar\":{\"outlinewidth\":0,\"ticks\":\"\"}},\"type\":\"scatterpolargl\"}],\"scatterternary\":[{\"marker\":{\"colorbar\":{\"outlinewidth\":0,\"ticks\":\"\"}},\"type\":\"scatterternary\"}],\"surface\":[{\"colorbar\":{\"outlinewidth\":0,\"ticks\":\"\"},\"colorscale\":[[0.0,\"#0d0887\"],[0.1111111111111111,\"#46039f\"],[0.2222222222222222,\"#7201a8\"],[0.3333333333333333,\"#9c179e\"],[0.4444444444444444,\"#bd3786\"],[0.5555555555555556,\"#d8576b\"],[0.6666666666666666,\"#ed7953\"],[0.7777777777777778,\"#fb9f3a\"],[0.8888888888888888,\"#fdca26\"],[1.0,\"#f0f921\"]],\"type\":\"surface\"}],\"table\":[{\"cells\":{\"fill\":{\"color\":\"#EBF0F8\"},\"line\":{\"color\":\"white\"}},\"header\":{\"fill\":{\"color\":\"#C8D4E3\"},\"line\":{\"color\":\"white\"}},\"type\":\"table\"}]},\"layout\":{\"annotationdefaults\":{\"arrowcolor\":\"#2a3f5f\",\"arrowhead\":0,\"arrowwidth\":1},\"autotypenumbers\":\"strict\",\"coloraxis\":{\"colorbar\":{\"outlinewidth\":0,\"ticks\":\"\"}},\"colorscale\":{\"diverging\":[[0,\"#8e0152\"],[0.1,\"#c51b7d\"],[0.2,\"#de77ae\"],[0.3,\"#f1b6da\"],[0.4,\"#fde0ef\"],[0.5,\"#f7f7f7\"],[0.6,\"#e6f5d0\"],[0.7,\"#b8e186\"],[0.8,\"#7fbc41\"],[0.9,\"#4d9221\"],[1,\"#276419\"]],\"sequential\":[[0.0,\"#0d0887\"],[0.1111111111111111,\"#46039f\"],[0.2222222222222222,\"#7201a8\"],[0.3333333333333333,\"#9c179e\"],[0.4444444444444444,\"#bd3786\"],[0.5555555555555556,\"#d8576b\"],[0.6666666666666666,\"#ed7953\"],[0.7777777777777778,\"#fb9f3a\"],[0.8888888888888888,\"#fdca26\"],[1.0,\"#f0f921\"]],\"sequentialminus\":[[0.0,\"#0d0887\"],[0.1111111111111111,\"#46039f\"],[0.2222222222222222,\"#7201a8\"],[0.3333333333333333,\"#9c179e\"],[0.4444444444444444,\"#bd3786\"],[0.5555555555555556,\"#d8576b\"],[0.6666666666666666,\"#ed7953\"],[0.7777777777777778,\"#fb9f3a\"],[0.8888888888888888,\"#fdca26\"],[1.0,\"#f0f921\"]]},\"colorway\":[\"#636efa\",\"#EF553B\",\"#00cc96\",\"#ab63fa\",\"#FFA15A\",\"#19d3f3\",\"#FF6692\",\"#B6E880\",\"#FF97FF\",\"#FECB52\"],\"font\":{\"color\":\"#2a3f5f\"},\"geo\":{\"bgcolor\":\"white\",\"lakecolor\":\"white\",\"landcolor\":\"#E5ECF6\",\"showlakes\":true,\"showland\":true,\"subunitcolor\":\"white\"},\"hoverlabel\":{\"align\":\"left\"},\"hovermode\":\"closest\",\"mapbox\":{\"style\":\"light\"},\"paper_bgcolor\":\"white\",\"plot_bgcolor\":\"#E5ECF6\",\"polar\":{\"angularaxis\":{\"gridcolor\":\"white\",\"linecolor\":\"white\",\"ticks\":\"\"},\"bgcolor\":\"#E5ECF6\",\"radialaxis\":{\"gridcolor\":\"white\",\"linecolor\":\"white\",\"ticks\":\"\"}},\"scene\":{\"xaxis\":{\"backgroundcolor\":\"#E5ECF6\",\"gridcolor\":\"white\",\"gridwidth\":2,\"linecolor\":\"white\",\"showbackground\":true,\"ticks\":\"\",\"zerolinecolor\":\"white\"},\"yaxis\":{\"backgroundcolor\":\"#E5ECF6\",\"gridcolor\":\"white\",\"gridwidth\":2,\"linecolor\":\"white\",\"showbackground\":true,\"ticks\":\"\",\"zerolinecolor\":\"white\"},\"zaxis\":{\"backgroundcolor\":\"#E5ECF6\",\"gridcolor\":\"white\",\"gridwidth\":2,\"linecolor\":\"white\",\"showbackground\":true,\"ticks\":\"\",\"zerolinecolor\":\"white\"}},\"shapedefaults\":{\"line\":{\"color\":\"#2a3f5f\"}},\"ternary\":{\"aaxis\":{\"gridcolor\":\"white\",\"linecolor\":\"white\",\"ticks\":\"\"},\"baxis\":{\"gridcolor\":\"white\",\"linecolor\":\"white\",\"ticks\":\"\"},\"bgcolor\":\"#E5ECF6\",\"caxis\":{\"gridcolor\":\"white\",\"linecolor\":\"white\",\"ticks\":\"\"}},\"title\":{\"x\":0.05},\"xaxis\":{\"automargin\":true,\"gridcolor\":\"white\",\"linecolor\":\"white\",\"ticks\":\"\",\"title\":{\"standoff\":15},\"zerolinecolor\":\"white\",\"zerolinewidth\":2},\"yaxis\":{\"automargin\":true,\"gridcolor\":\"white\",\"linecolor\":\"white\",\"ticks\":\"\",\"title\":{\"standoff\":15},\"zerolinecolor\":\"white\",\"zerolinewidth\":2}}},\"xaxis\":{\"anchor\":\"y\",\"domain\":[0.0,1.0],\"title\":{\"text\":\"index\"}},\"yaxis\":{\"anchor\":\"x\",\"domain\":[0.0,1.0],\"title\":{\"text\":\"rolling_returns\"}},\"legend\":{\"tracegroupgap\":0},\"title\":{\"text\":\"Rolling 3-year returns\"}},                        {\"responsive\": true}                    ).then(function(){\n",
              "                            \n",
              "var gd = document.getElementById('c870592d-ce97-404a-9a14-ceebb2a8e2ee');\n",
              "var x = new MutationObserver(function (mutations, observer) {{\n",
              "        var display = window.getComputedStyle(gd).display;\n",
              "        if (!display || display === 'none') {{\n",
              "            console.log([gd, 'removed!']);\n",
              "            Plotly.purge(gd);\n",
              "            observer.disconnect();\n",
              "        }}\n",
              "}});\n",
              "\n",
              "// Listen for the removal of the full notebook cells\n",
              "var notebookContainer = gd.closest('#notebook-container');\n",
              "if (notebookContainer) {{\n",
              "    x.observe(notebookContainer, {childList: true});\n",
              "}}\n",
              "\n",
              "// Listen for the clearing of the current output cell\n",
              "var outputEl = gd.closest('.output');\n",
              "if (outputEl) {{\n",
              "    x.observe(outputEl, {childList: true});\n",
              "}}\n",
              "\n",
              "                        })                };                            </script>        </div>\n",
              "</body>\n",
              "</html>"
            ]
          },
          "metadata": {},
          "output_type": "display_data"
        }
      ],
      "source": [
        "df_rr_three = n_years_trailing_rolling_returns(df_tri, 3)\n",
        "fig = px.line(df_rr_three, x=df_rr_three.index, y=\"rolling_returns\", title=\"Rolling 3-year returns\")\n",
        "fig.show()"
      ]
    },
    {
      "cell_type": "code",
      "execution_count": null,
      "metadata": {
        "colab": {
          "base_uri": "https://localhost:8080/"
        },
        "id": "MLqrRUsFoYrY",
        "outputId": "0ffcd220-b19a-4b5e-f638-0fb001a354a4"
      },
      "outputs": [
        {
          "data": {
            "text/plain": [
              "(13.696091261819006, 13.094633411762414)"
            ]
          },
          "execution_count": 51,
          "metadata": {},
          "output_type": "execute_result"
        }
      ],
      "source": [
        "mean_and_standard_deviation(df_tri)"
      ]
    },
    {
      "cell_type": "markdown",
      "metadata": {
        "id": "8Vm1Sf1VOUBj"
      },
      "source": [
        "## Alpha and Beta\n",
        "\n",
        "References:\n",
        "- https://scripbox.com/mf/alpha-and-beta-in-mutual-funds/\n",
        "- https://www.morningstar.in/posts/63712/use-fund-risk-measure-tool.aspx\n",
        "- https://www.wallstreetmojo.com/beta-formula/"
      ]
    },
    {
      "cell_type": "markdown",
      "metadata": {
        "id": "hKlq3JrzPsbd"
      },
      "source": [
        "**Risk Free Return**\n",
        "\n",
        "10-yr GOI return rate: 7% (average and not so precise number)\n",
        "\n",
        "The return changes over time\n",
        "\n",
        "Rerence: http://www.worldgovernmentbonds.com/bond-historical-data/india/10-years/"
      ]
    },
    {
      "cell_type": "code",
      "execution_count": null,
      "metadata": {
        "colab": {
          "base_uri": "https://localhost:8080/"
        },
        "id": "YUuVaMf2ogF1",
        "outputId": "53dc8f9e-7163-4565-9ff0-3d2be763bc00"
      },
      "outputs": [
        {
          "data": {
            "text/plain": [
              "(                           rolling_returns\n",
              " 2016-05-28 00:00:00+00:00        20.334470\n",
              " 2016-05-29 00:00:00+00:00        20.299189\n",
              " 2016-05-30 00:00:00+00:00        20.336137\n",
              " 2016-05-31 00:00:00+00:00        20.328428\n",
              " 2016-06-01 00:00:00+00:00        20.148637,\n",
              "                            rolling_returns\n",
              " 2015-01-02 00:00:00+00:00        23.986682\n",
              " 2015-01-03 00:00:00+00:00        22.879045\n",
              " 2015-01-04 00:00:00+00:00        22.943306\n",
              " 2015-01-05 00:00:00+00:00        22.877375\n",
              " 2015-01-06 00:00:00+00:00        21.681585)"
            ]
          },
          "execution_count": 54,
          "metadata": {},
          "output_type": "execute_result"
        }
      ],
      "source": [
        "df_rr_three_fund = n_years_trailing_rolling_returns(df_fund, 3)\n",
        "df_rr_three_tri = n_years_trailing_rolling_returns(df_tri, 3)\n",
        "df_rr_three_fund.head(), df_rr_three_tri.head()"
      ]
    },
    {
      "cell_type": "code",
      "execution_count": null,
      "metadata": {
        "colab": {
          "base_uri": "https://localhost:8080/",
          "height": 424
        },
        "id": "GRD3cp3-OSsk",
        "outputId": "fc61ab71-477c-4dcf-efd5-919f1e317d60"
      },
      "outputs": [
        {
          "data": {
            "text/html": [
              "\n",
              "  <div id=\"df-90dbd60a-f93a-43f8-8c49-785db672d92c\">\n",
              "    <div class=\"colab-df-container\">\n",
              "      <div>\n",
              "<style scoped>\n",
              "    .dataframe tbody tr th:only-of-type {\n",
              "        vertical-align: middle;\n",
              "    }\n",
              "\n",
              "    .dataframe tbody tr th {\n",
              "        vertical-align: top;\n",
              "    }\n",
              "\n",
              "    .dataframe thead th {\n",
              "        text-align: right;\n",
              "    }\n",
              "</style>\n",
              "<table border=\"1\" class=\"dataframe\">\n",
              "  <thead>\n",
              "    <tr style=\"text-align: right;\">\n",
              "      <th></th>\n",
              "      <th>rolling_returns_fund</th>\n",
              "      <th>rolling_returns_tri</th>\n",
              "    </tr>\n",
              "  </thead>\n",
              "  <tbody>\n",
              "    <tr>\n",
              "      <th>2016-05-28 00:00:00+00:00</th>\n",
              "      <td>20.334470</td>\n",
              "      <td>12.474484</td>\n",
              "    </tr>\n",
              "    <tr>\n",
              "      <th>2016-05-29 00:00:00+00:00</th>\n",
              "      <td>20.299189</td>\n",
              "      <td>12.556225</td>\n",
              "    </tr>\n",
              "    <tr>\n",
              "      <th>2016-05-30 00:00:00+00:00</th>\n",
              "      <td>20.336137</td>\n",
              "      <td>12.626439</td>\n",
              "    </tr>\n",
              "    <tr>\n",
              "      <th>2016-05-31 00:00:00+00:00</th>\n",
              "      <td>20.328428</td>\n",
              "      <td>13.273813</td>\n",
              "    </tr>\n",
              "    <tr>\n",
              "      <th>2016-06-01 00:00:00+00:00</th>\n",
              "      <td>20.148637</td>\n",
              "      <td>13.515951</td>\n",
              "    </tr>\n",
              "    <tr>\n",
              "      <th>...</th>\n",
              "      <td>...</td>\n",
              "      <td>...</td>\n",
              "    </tr>\n",
              "    <tr>\n",
              "      <th>2022-11-04 00:00:00+00:00</th>\n",
              "      <td>22.965048</td>\n",
              "      <td>16.857994</td>\n",
              "    </tr>\n",
              "    <tr>\n",
              "      <th>2022-11-05 00:00:00+00:00</th>\n",
              "      <td>22.904849</td>\n",
              "      <td>17.011889</td>\n",
              "    </tr>\n",
              "    <tr>\n",
              "      <th>2022-11-06 00:00:00+00:00</th>\n",
              "      <td>22.771132</td>\n",
              "      <td>16.902253</td>\n",
              "    </tr>\n",
              "    <tr>\n",
              "      <th>2022-11-07 00:00:00+00:00</th>\n",
              "      <td>23.205352</td>\n",
              "      <td>16.941416</td>\n",
              "    </tr>\n",
              "    <tr>\n",
              "      <th>2022-11-08 00:00:00+00:00</th>\n",
              "      <td>23.306130</td>\n",
              "      <td>17.266580</td>\n",
              "    </tr>\n",
              "  </tbody>\n",
              "</table>\n",
              "<p>2358 rows × 2 columns</p>\n",
              "</div>\n",
              "      <button class=\"colab-df-convert\" onclick=\"convertToInteractive('df-90dbd60a-f93a-43f8-8c49-785db672d92c')\"\n",
              "              title=\"Convert this dataframe to an interactive table.\"\n",
              "              style=\"display:none;\">\n",
              "        \n",
              "  <svg xmlns=\"http://www.w3.org/2000/svg\" height=\"24px\"viewBox=\"0 0 24 24\"\n",
              "       width=\"24px\">\n",
              "    <path d=\"M0 0h24v24H0V0z\" fill=\"none\"/>\n",
              "    <path d=\"M18.56 5.44l.94 2.06.94-2.06 2.06-.94-2.06-.94-.94-2.06-.94 2.06-2.06.94zm-11 1L8.5 8.5l.94-2.06 2.06-.94-2.06-.94L8.5 2.5l-.94 2.06-2.06.94zm10 10l.94 2.06.94-2.06 2.06-.94-2.06-.94-.94-2.06-.94 2.06-2.06.94z\"/><path d=\"M17.41 7.96l-1.37-1.37c-.4-.4-.92-.59-1.43-.59-.52 0-1.04.2-1.43.59L10.3 9.45l-7.72 7.72c-.78.78-.78 2.05 0 2.83L4 21.41c.39.39.9.59 1.41.59.51 0 1.02-.2 1.41-.59l7.78-7.78 2.81-2.81c.8-.78.8-2.07 0-2.86zM5.41 20L4 18.59l7.72-7.72 1.47 1.35L5.41 20z\"/>\n",
              "  </svg>\n",
              "      </button>\n",
              "      \n",
              "  <style>\n",
              "    .colab-df-container {\n",
              "      display:flex;\n",
              "      flex-wrap:wrap;\n",
              "      gap: 12px;\n",
              "    }\n",
              "\n",
              "    .colab-df-convert {\n",
              "      background-color: #E8F0FE;\n",
              "      border: none;\n",
              "      border-radius: 50%;\n",
              "      cursor: pointer;\n",
              "      display: none;\n",
              "      fill: #1967D2;\n",
              "      height: 32px;\n",
              "      padding: 0 0 0 0;\n",
              "      width: 32px;\n",
              "    }\n",
              "\n",
              "    .colab-df-convert:hover {\n",
              "      background-color: #E2EBFA;\n",
              "      box-shadow: 0px 1px 2px rgba(60, 64, 67, 0.3), 0px 1px 3px 1px rgba(60, 64, 67, 0.15);\n",
              "      fill: #174EA6;\n",
              "    }\n",
              "\n",
              "    [theme=dark] .colab-df-convert {\n",
              "      background-color: #3B4455;\n",
              "      fill: #D2E3FC;\n",
              "    }\n",
              "\n",
              "    [theme=dark] .colab-df-convert:hover {\n",
              "      background-color: #434B5C;\n",
              "      box-shadow: 0px 1px 3px 1px rgba(0, 0, 0, 0.15);\n",
              "      filter: drop-shadow(0px 1px 2px rgba(0, 0, 0, 0.3));\n",
              "      fill: #FFFFFF;\n",
              "    }\n",
              "  </style>\n",
              "\n",
              "      <script>\n",
              "        const buttonEl =\n",
              "          document.querySelector('#df-90dbd60a-f93a-43f8-8c49-785db672d92c button.colab-df-convert');\n",
              "        buttonEl.style.display =\n",
              "          google.colab.kernel.accessAllowed ? 'block' : 'none';\n",
              "\n",
              "        async function convertToInteractive(key) {\n",
              "          const element = document.querySelector('#df-90dbd60a-f93a-43f8-8c49-785db672d92c');\n",
              "          const dataTable =\n",
              "            await google.colab.kernel.invokeFunction('convertToInteractive',\n",
              "                                                     [key], {});\n",
              "          if (!dataTable) return;\n",
              "\n",
              "          const docLinkHtml = 'Like what you see? Visit the ' +\n",
              "            '<a target=\"_blank\" href=https://colab.research.google.com/notebooks/data_table.ipynb>data table notebook</a>'\n",
              "            + ' to learn more about interactive tables.';\n",
              "          element.innerHTML = '';\n",
              "          dataTable['output_type'] = 'display_data';\n",
              "          await google.colab.output.renderOutput(dataTable, element);\n",
              "          const docLink = document.createElement('div');\n",
              "          docLink.innerHTML = docLinkHtml;\n",
              "          element.appendChild(docLink);\n",
              "        }\n",
              "      </script>\n",
              "    </div>\n",
              "  </div>\n",
              "  "
            ],
            "text/plain": [
              "                           rolling_returns_fund  rolling_returns_tri\n",
              "2016-05-28 00:00:00+00:00             20.334470            12.474484\n",
              "2016-05-29 00:00:00+00:00             20.299189            12.556225\n",
              "2016-05-30 00:00:00+00:00             20.336137            12.626439\n",
              "2016-05-31 00:00:00+00:00             20.328428            13.273813\n",
              "2016-06-01 00:00:00+00:00             20.148637            13.515951\n",
              "...                                         ...                  ...\n",
              "2022-11-04 00:00:00+00:00             22.965048            16.857994\n",
              "2022-11-05 00:00:00+00:00             22.904849            17.011889\n",
              "2022-11-06 00:00:00+00:00             22.771132            16.902253\n",
              "2022-11-07 00:00:00+00:00             23.205352            16.941416\n",
              "2022-11-08 00:00:00+00:00             23.306130            17.266580\n",
              "\n",
              "[2358 rows x 2 columns]"
            ]
          },
          "execution_count": 60,
          "metadata": {},
          "output_type": "execute_result"
        }
      ],
      "source": [
        "# let's join the dataframes by dates\n",
        "df_rr_three_merged = pd.merge(df_rr_three_fund, df_rr_three_tri, how=\"inner\", left_index=True, right_index=True, suffixes=(\"_fund\", \"_tri\"))\n",
        "df_rr_three_merged"
      ]
    },
    {
      "cell_type": "code",
      "execution_count": null,
      "metadata": {
        "colab": {
          "base_uri": "https://localhost:8080/"
        },
        "id": "rR2oqyMo2ZsB",
        "outputId": "e1c839ba-0597-4d01-f5ee-0f17a97111e7"
      },
      "outputs": [
        {
          "data": {
            "text/plain": [
              "rolling_returns_fund    False\n",
              "rolling_returns_tri     False\n",
              "dtype: bool"
            ]
          },
          "execution_count": 61,
          "metadata": {},
          "output_type": "execute_result"
        }
      ],
      "source": [
        "df_rr_three_merged.isna().any()"
      ]
    },
    {
      "cell_type": "code",
      "execution_count": 65,
      "metadata": {
        "colab": {
          "base_uri": "https://localhost:8080/"
        },
        "id": "eohd-zrn21Df",
        "outputId": "779afd8e-495d-4a79-eff3-e49191fbc8de"
      },
      "outputs": [
        {
          "data": {
            "text/plain": [
              "2016-05-28 00:00:00+00:00    2.435749\n",
              "2016-05-29 00:00:00+00:00    2.393566\n",
              "2016-05-30 00:00:00+00:00    2.370262\n",
              "2016-05-31 00:00:00+00:00    2.124454\n",
              "2016-06-01 00:00:00+00:00    2.017915\n",
              "                               ...   \n",
              "2022-11-04 00:00:00+00:00    1.619503\n",
              "2022-11-05 00:00:00+00:00    1.588596\n",
              "2022-11-06 00:00:00+00:00    1.592681\n",
              "2022-11-07 00:00:00+00:00    1.630085\n",
              "2022-11-08 00:00:00+00:00    1.588273\n",
              "Length: 2358, dtype: float64"
            ]
          },
          "execution_count": 65,
          "metadata": {},
          "output_type": "execute_result"
        }
      ],
      "source": [
        "# Beta = (Mutual Fund Return – Risk Free Rate (Rf­)) / (Benchmark Return – Risk Free Rate (Rf­))\n",
        "risk_free_return = 7\n",
        "\n",
        "df_beta = (df_rr_three_merged[\"rolling_returns_fund\"] - risk_free_return) / (df_rr_three_merged[\"rolling_returns_tri\"] - risk_free_return)\n",
        "df_beta"
      ]
    },
    {
      "cell_type": "code",
      "execution_count": 66,
      "metadata": {
        "colab": {
          "base_uri": "https://localhost:8080/",
          "height": 112
        },
        "id": "msqEb99B7aWW",
        "outputId": "b50a8af5-b23d-43e7-93fa-63f317684415"
      },
      "outputs": [
        {
          "data": {
            "text/html": [
              "\n",
              "  <div id=\"df-28161594-8374-4f90-aa3f-adc2aec99117\">\n",
              "    <div class=\"colab-df-container\">\n",
              "      <div>\n",
              "<style scoped>\n",
              "    .dataframe tbody tr th:only-of-type {\n",
              "        vertical-align: middle;\n",
              "    }\n",
              "\n",
              "    .dataframe tbody tr th {\n",
              "        vertical-align: top;\n",
              "    }\n",
              "\n",
              "    .dataframe thead th {\n",
              "        text-align: right;\n",
              "    }\n",
              "</style>\n",
              "<table border=\"1\" class=\"dataframe\">\n",
              "  <thead>\n",
              "    <tr style=\"text-align: right;\">\n",
              "      <th></th>\n",
              "      <th>rolling_returns_fund</th>\n",
              "      <th>rolling_returns_tri</th>\n",
              "    </tr>\n",
              "  </thead>\n",
              "  <tbody>\n",
              "    <tr>\n",
              "      <th>rolling_returns_fund</th>\n",
              "      <td>35.890653</td>\n",
              "      <td>26.079959</td>\n",
              "    </tr>\n",
              "    <tr>\n",
              "      <th>rolling_returns_tri</th>\n",
              "      <td>26.079959</td>\n",
              "      <td>28.507049</td>\n",
              "    </tr>\n",
              "  </tbody>\n",
              "</table>\n",
              "</div>\n",
              "      <button class=\"colab-df-convert\" onclick=\"convertToInteractive('df-28161594-8374-4f90-aa3f-adc2aec99117')\"\n",
              "              title=\"Convert this dataframe to an interactive table.\"\n",
              "              style=\"display:none;\">\n",
              "        \n",
              "  <svg xmlns=\"http://www.w3.org/2000/svg\" height=\"24px\"viewBox=\"0 0 24 24\"\n",
              "       width=\"24px\">\n",
              "    <path d=\"M0 0h24v24H0V0z\" fill=\"none\"/>\n",
              "    <path d=\"M18.56 5.44l.94 2.06.94-2.06 2.06-.94-2.06-.94-.94-2.06-.94 2.06-2.06.94zm-11 1L8.5 8.5l.94-2.06 2.06-.94-2.06-.94L8.5 2.5l-.94 2.06-2.06.94zm10 10l.94 2.06.94-2.06 2.06-.94-2.06-.94-.94-2.06-.94 2.06-2.06.94z\"/><path d=\"M17.41 7.96l-1.37-1.37c-.4-.4-.92-.59-1.43-.59-.52 0-1.04.2-1.43.59L10.3 9.45l-7.72 7.72c-.78.78-.78 2.05 0 2.83L4 21.41c.39.39.9.59 1.41.59.51 0 1.02-.2 1.41-.59l7.78-7.78 2.81-2.81c.8-.78.8-2.07 0-2.86zM5.41 20L4 18.59l7.72-7.72 1.47 1.35L5.41 20z\"/>\n",
              "  </svg>\n",
              "      </button>\n",
              "      \n",
              "  <style>\n",
              "    .colab-df-container {\n",
              "      display:flex;\n",
              "      flex-wrap:wrap;\n",
              "      gap: 12px;\n",
              "    }\n",
              "\n",
              "    .colab-df-convert {\n",
              "      background-color: #E8F0FE;\n",
              "      border: none;\n",
              "      border-radius: 50%;\n",
              "      cursor: pointer;\n",
              "      display: none;\n",
              "      fill: #1967D2;\n",
              "      height: 32px;\n",
              "      padding: 0 0 0 0;\n",
              "      width: 32px;\n",
              "    }\n",
              "\n",
              "    .colab-df-convert:hover {\n",
              "      background-color: #E2EBFA;\n",
              "      box-shadow: 0px 1px 2px rgba(60, 64, 67, 0.3), 0px 1px 3px 1px rgba(60, 64, 67, 0.15);\n",
              "      fill: #174EA6;\n",
              "    }\n",
              "\n",
              "    [theme=dark] .colab-df-convert {\n",
              "      background-color: #3B4455;\n",
              "      fill: #D2E3FC;\n",
              "    }\n",
              "\n",
              "    [theme=dark] .colab-df-convert:hover {\n",
              "      background-color: #434B5C;\n",
              "      box-shadow: 0px 1px 3px 1px rgba(0, 0, 0, 0.15);\n",
              "      filter: drop-shadow(0px 1px 2px rgba(0, 0, 0, 0.3));\n",
              "      fill: #FFFFFF;\n",
              "    }\n",
              "  </style>\n",
              "\n",
              "      <script>\n",
              "        const buttonEl =\n",
              "          document.querySelector('#df-28161594-8374-4f90-aa3f-adc2aec99117 button.colab-df-convert');\n",
              "        buttonEl.style.display =\n",
              "          google.colab.kernel.accessAllowed ? 'block' : 'none';\n",
              "\n",
              "        async function convertToInteractive(key) {\n",
              "          const element = document.querySelector('#df-28161594-8374-4f90-aa3f-adc2aec99117');\n",
              "          const dataTable =\n",
              "            await google.colab.kernel.invokeFunction('convertToInteractive',\n",
              "                                                     [key], {});\n",
              "          if (!dataTable) return;\n",
              "\n",
              "          const docLinkHtml = 'Like what you see? Visit the ' +\n",
              "            '<a target=\"_blank\" href=https://colab.research.google.com/notebooks/data_table.ipynb>data table notebook</a>'\n",
              "            + ' to learn more about interactive tables.';\n",
              "          element.innerHTML = '';\n",
              "          dataTable['output_type'] = 'display_data';\n",
              "          await google.colab.output.renderOutput(dataTable, element);\n",
              "          const docLink = document.createElement('div');\n",
              "          docLink.innerHTML = docLinkHtml;\n",
              "          element.appendChild(docLink);\n",
              "        }\n",
              "      </script>\n",
              "    </div>\n",
              "  </div>\n",
              "  "
            ],
            "text/plain": [
              "                      rolling_returns_fund  rolling_returns_tri\n",
              "rolling_returns_fund             35.890653            26.079959\n",
              "rolling_returns_tri              26.079959            28.507049"
            ]
          },
          "execution_count": 66,
          "metadata": {},
          "output_type": "execute_result"
        }
      ],
      "source": [
        "# Beta = Covariance / Variance\n",
        "\n",
        "df_rr_three_merged.cov()"
      ]
    },
    {
      "cell_type": "code",
      "execution_count": 75,
      "metadata": {
        "colab": {
          "base_uri": "https://localhost:8080/"
        },
        "id": "yKFwppC-8kGD",
        "outputId": "f6e06f3d-8af8-4573-c647-20110a21a6cb"
      },
      "outputs": [
        {
          "data": {
            "text/plain": [
              "0.9148600002235181"
            ]
          },
          "execution_count": 75,
          "metadata": {},
          "output_type": "execute_result"
        }
      ],
      "source": [
        "beta_all_time = df_rr_three_merged.cov().iloc[1,0] / df_rr_three_merged.cov().iloc[1,1]\n",
        "beta_all_time"
      ]
    },
    {
      "cell_type": "code",
      "execution_count": 72,
      "metadata": {
        "id": "YLmbjTLl98pk"
      },
      "outputs": [],
      "source": [
        "def n_years_rolling_beta(df_rr_merged, n_years, stride_timedelta=relativedelta(days=1)):\n",
        "  betas = []\n",
        "  dates = []\n",
        "\n",
        "  start_date = df_rr_merged.index[0]\n",
        "  end_date = start_date + relativedelta(years=n_years)\n",
        "  last_date = df_rr_merged.index[-1]\n",
        "\n",
        "  while end_date < last_date:\n",
        "    df_window = df_rr_merged.loc[start_date:end_date]\n",
        "    beta = df_window.cov().iloc[1,0] / df_window.cov().iloc[1,1]\n",
        "\n",
        "    betas.append(beta)\n",
        "    dates.append(end_date)\n",
        "\n",
        "    start_date = start_date + stride_timedelta\n",
        "    end_date = start_date + relativedelta(years=n_years)\n",
        "\n",
        "  df_beta = pd.DataFrame(betas, columns=[\"beta\"], index=dates)\n",
        "  return df_beta"
      ]
    },
    {
      "cell_type": "code",
      "execution_count": 78,
      "metadata": {
        "colab": {
          "base_uri": "https://localhost:8080/",
          "height": 424
        },
        "id": "Ij1yE00889Fg",
        "outputId": "79cc5999-0616-4906-c8a6-43de9a6c4743"
      },
      "outputs": [
        {
          "data": {
            "text/html": [
              "\n",
              "  <div id=\"df-9ca9fe17-0594-404f-bcf5-86275706e8eb\">\n",
              "    <div class=\"colab-df-container\">\n",
              "      <div>\n",
              "<style scoped>\n",
              "    .dataframe tbody tr th:only-of-type {\n",
              "        vertical-align: middle;\n",
              "    }\n",
              "\n",
              "    .dataframe tbody tr th {\n",
              "        vertical-align: top;\n",
              "    }\n",
              "\n",
              "    .dataframe thead th {\n",
              "        text-align: right;\n",
              "    }\n",
              "</style>\n",
              "<table border=\"1\" class=\"dataframe\">\n",
              "  <thead>\n",
              "    <tr style=\"text-align: right;\">\n",
              "      <th></th>\n",
              "      <th>beta</th>\n",
              "    </tr>\n",
              "  </thead>\n",
              "  <tbody>\n",
              "    <tr>\n",
              "      <th>2017-05-28 00:00:00+00:00</th>\n",
              "      <td>0.762851</td>\n",
              "    </tr>\n",
              "    <tr>\n",
              "      <th>2017-05-29 00:00:00+00:00</th>\n",
              "      <td>0.772355</td>\n",
              "    </tr>\n",
              "    <tr>\n",
              "      <th>2017-05-30 00:00:00+00:00</th>\n",
              "      <td>0.780656</td>\n",
              "    </tr>\n",
              "    <tr>\n",
              "      <th>2017-05-31 00:00:00+00:00</th>\n",
              "      <td>0.789358</td>\n",
              "    </tr>\n",
              "    <tr>\n",
              "      <th>2017-06-01 00:00:00+00:00</th>\n",
              "      <td>0.796426</td>\n",
              "    </tr>\n",
              "    <tr>\n",
              "      <th>...</th>\n",
              "      <td>...</td>\n",
              "    </tr>\n",
              "    <tr>\n",
              "      <th>2022-11-03 00:00:00+00:00</th>\n",
              "      <td>0.938637</td>\n",
              "    </tr>\n",
              "    <tr>\n",
              "      <th>2022-11-04 00:00:00+00:00</th>\n",
              "      <td>0.936218</td>\n",
              "    </tr>\n",
              "    <tr>\n",
              "      <th>2022-11-05 00:00:00+00:00</th>\n",
              "      <td>0.933636</td>\n",
              "    </tr>\n",
              "    <tr>\n",
              "      <th>2022-11-06 00:00:00+00:00</th>\n",
              "      <td>0.931164</td>\n",
              "    </tr>\n",
              "    <tr>\n",
              "      <th>2022-11-07 00:00:00+00:00</th>\n",
              "      <td>0.928051</td>\n",
              "    </tr>\n",
              "  </tbody>\n",
              "</table>\n",
              "<p>1990 rows × 1 columns</p>\n",
              "</div>\n",
              "      <button class=\"colab-df-convert\" onclick=\"convertToInteractive('df-9ca9fe17-0594-404f-bcf5-86275706e8eb')\"\n",
              "              title=\"Convert this dataframe to an interactive table.\"\n",
              "              style=\"display:none;\">\n",
              "        \n",
              "  <svg xmlns=\"http://www.w3.org/2000/svg\" height=\"24px\"viewBox=\"0 0 24 24\"\n",
              "       width=\"24px\">\n",
              "    <path d=\"M0 0h24v24H0V0z\" fill=\"none\"/>\n",
              "    <path d=\"M18.56 5.44l.94 2.06.94-2.06 2.06-.94-2.06-.94-.94-2.06-.94 2.06-2.06.94zm-11 1L8.5 8.5l.94-2.06 2.06-.94-2.06-.94L8.5 2.5l-.94 2.06-2.06.94zm10 10l.94 2.06.94-2.06 2.06-.94-2.06-.94-.94-2.06-.94 2.06-2.06.94z\"/><path d=\"M17.41 7.96l-1.37-1.37c-.4-.4-.92-.59-1.43-.59-.52 0-1.04.2-1.43.59L10.3 9.45l-7.72 7.72c-.78.78-.78 2.05 0 2.83L4 21.41c.39.39.9.59 1.41.59.51 0 1.02-.2 1.41-.59l7.78-7.78 2.81-2.81c.8-.78.8-2.07 0-2.86zM5.41 20L4 18.59l7.72-7.72 1.47 1.35L5.41 20z\"/>\n",
              "  </svg>\n",
              "      </button>\n",
              "      \n",
              "  <style>\n",
              "    .colab-df-container {\n",
              "      display:flex;\n",
              "      flex-wrap:wrap;\n",
              "      gap: 12px;\n",
              "    }\n",
              "\n",
              "    .colab-df-convert {\n",
              "      background-color: #E8F0FE;\n",
              "      border: none;\n",
              "      border-radius: 50%;\n",
              "      cursor: pointer;\n",
              "      display: none;\n",
              "      fill: #1967D2;\n",
              "      height: 32px;\n",
              "      padding: 0 0 0 0;\n",
              "      width: 32px;\n",
              "    }\n",
              "\n",
              "    .colab-df-convert:hover {\n",
              "      background-color: #E2EBFA;\n",
              "      box-shadow: 0px 1px 2px rgba(60, 64, 67, 0.3), 0px 1px 3px 1px rgba(60, 64, 67, 0.15);\n",
              "      fill: #174EA6;\n",
              "    }\n",
              "\n",
              "    [theme=dark] .colab-df-convert {\n",
              "      background-color: #3B4455;\n",
              "      fill: #D2E3FC;\n",
              "    }\n",
              "\n",
              "    [theme=dark] .colab-df-convert:hover {\n",
              "      background-color: #434B5C;\n",
              "      box-shadow: 0px 1px 3px 1px rgba(0, 0, 0, 0.15);\n",
              "      filter: drop-shadow(0px 1px 2px rgba(0, 0, 0, 0.3));\n",
              "      fill: #FFFFFF;\n",
              "    }\n",
              "  </style>\n",
              "\n",
              "      <script>\n",
              "        const buttonEl =\n",
              "          document.querySelector('#df-9ca9fe17-0594-404f-bcf5-86275706e8eb button.colab-df-convert');\n",
              "        buttonEl.style.display =\n",
              "          google.colab.kernel.accessAllowed ? 'block' : 'none';\n",
              "\n",
              "        async function convertToInteractive(key) {\n",
              "          const element = document.querySelector('#df-9ca9fe17-0594-404f-bcf5-86275706e8eb');\n",
              "          const dataTable =\n",
              "            await google.colab.kernel.invokeFunction('convertToInteractive',\n",
              "                                                     [key], {});\n",
              "          if (!dataTable) return;\n",
              "\n",
              "          const docLinkHtml = 'Like what you see? Visit the ' +\n",
              "            '<a target=\"_blank\" href=https://colab.research.google.com/notebooks/data_table.ipynb>data table notebook</a>'\n",
              "            + ' to learn more about interactive tables.';\n",
              "          element.innerHTML = '';\n",
              "          dataTable['output_type'] = 'display_data';\n",
              "          await google.colab.output.renderOutput(dataTable, element);\n",
              "          const docLink = document.createElement('div');\n",
              "          docLink.innerHTML = docLinkHtml;\n",
              "          element.appendChild(docLink);\n",
              "        }\n",
              "      </script>\n",
              "    </div>\n",
              "  </div>\n",
              "  "
            ],
            "text/plain": [
              "                               beta\n",
              "2017-05-28 00:00:00+00:00  0.762851\n",
              "2017-05-29 00:00:00+00:00  0.772355\n",
              "2017-05-30 00:00:00+00:00  0.780656\n",
              "2017-05-31 00:00:00+00:00  0.789358\n",
              "2017-06-01 00:00:00+00:00  0.796426\n",
              "...                             ...\n",
              "2022-11-03 00:00:00+00:00  0.938637\n",
              "2022-11-04 00:00:00+00:00  0.936218\n",
              "2022-11-05 00:00:00+00:00  0.933636\n",
              "2022-11-06 00:00:00+00:00  0.931164\n",
              "2022-11-07 00:00:00+00:00  0.928051\n",
              "\n",
              "[1990 rows x 1 columns]"
            ]
          },
          "execution_count": 78,
          "metadata": {},
          "output_type": "execute_result"
        }
      ],
      "source": [
        "df_beta = n_years_rolling_beta(df_rr_three_merged, n_years=1)\n",
        "df_beta"
      ]
    },
    {
      "cell_type": "code",
      "execution_count": 80,
      "metadata": {
        "colab": {
          "base_uri": "https://localhost:8080/",
          "height": 542
        },
        "id": "i2oyJRI6--Ub",
        "outputId": "aff241fd-3b2f-4a54-8fdb-8cef9f43e2d8"
      },
      "outputs": [
        {
          "data": {
            "text/html": [
              "<html>\n",
              "<head><meta charset=\"utf-8\" /></head>\n",
              "<body>\n",
              "    <div>            <script src=\"https://cdnjs.cloudflare.com/ajax/libs/mathjax/2.7.5/MathJax.js?config=TeX-AMS-MML_SVG\"></script><script type=\"text/javascript\">if (window.MathJax) {MathJax.Hub.Config({SVG: {font: \"STIX-Web\"}});}</script>                <script type=\"text/javascript\">window.PlotlyConfig = {MathJaxConfig: 'local'};</script>\n",
              "        <script src=\"https://cdn.plot.ly/plotly-2.8.3.min.js\"></script>                <div id=\"34b9fe83-0d92-4670-9933-a8fc05ab66f0\" class=\"plotly-graph-div\" style=\"height:525px; width:100%;\"></div>            <script type=\"text/javascript\">                                    window.PLOTLYENV=window.PLOTLYENV || {};                                    if (document.getElementById(\"34b9fe83-0d92-4670-9933-a8fc05ab66f0\")) {                    Plotly.newPlot(                        \"34b9fe83-0d92-4670-9933-a8fc05ab66f0\",                        [{\"hovertemplate\":\"index=%{x}<br>beta=%{y}<extra></extra>\",\"legendgroup\":\"\",\"line\":{\"color\":\"#636efa\",\"dash\":\"solid\"},\"marker\":{\"symbol\":\"circle\"},\"mode\":\"lines\",\"name\":\"\",\"showlegend\":false,\"x\":[\"2017-05-28T00:00:00+00:00\",\"2017-05-29T00:00:00+00:00\",\"2017-05-30T00:00:00+00:00\",\"2017-05-31T00:00:00+00:00\",\"2017-06-01T00:00:00+00:00\",\"2017-06-02T00:00:00+00:00\",\"2017-06-03T00:00:00+00:00\",\"2017-06-04T00:00:00+00:00\",\"2017-06-05T00:00:00+00:00\",\"2017-06-06T00:00:00+00:00\",\"2017-06-07T00:00:00+00:00\",\"2017-06-08T00:00:00+00:00\",\"2017-06-09T00:00:00+00:00\",\"2017-06-10T00:00:00+00:00\",\"2017-06-11T00:00:00+00:00\",\"2017-06-12T00:00:00+00:00\",\"2017-06-13T00:00:00+00:00\",\"2017-06-14T00:00:00+00:00\",\"2017-06-15T00:00:00+00:00\",\"2017-06-16T00:00:00+00:00\",\"2017-06-17T00:00:00+00:00\",\"2017-06-18T00:00:00+00:00\",\"2017-06-19T00:00:00+00:00\",\"2017-06-20T00:00:00+00:00\",\"2017-06-21T00:00:00+00:00\",\"2017-06-22T00:00:00+00:00\",\"2017-06-23T00:00:00+00:00\",\"2017-06-24T00:00:00+00:00\",\"2017-06-25T00:00:00+00:00\",\"2017-06-26T00:00:00+00:00\",\"2017-06-27T00:00:00+00:00\",\"2017-06-28T00:00:00+00:00\",\"2017-06-29T00:00:00+00:00\",\"2017-06-30T00:00:00+00:00\",\"2017-07-01T00:00:00+00:00\",\"2017-07-02T00:00:00+00:00\",\"2017-07-03T00:00:00+00:00\",\"2017-07-04T00:00:00+00:00\",\"2017-07-05T00:00:00+00:00\",\"2017-07-06T00:00:00+00:00\",\"2017-07-07T00:00:00+00:00\",\"2017-07-08T00:00:00+00:00\",\"2017-07-09T00:00:00+00:00\",\"2017-07-10T00:00:00+00:00\",\"2017-07-11T00:00:00+00:00\",\"2017-07-12T00:00:00+00:00\",\"2017-07-13T00:00:00+00:00\",\"2017-07-14T00:00:00+00:00\",\"2017-07-15T00:00:00+00:00\",\"2017-07-16T00:00:00+00:00\",\"2017-07-17T00:00:00+00:00\",\"2017-07-18T00:00:00+00:00\",\"2017-07-19T00:00:00+00:00\",\"2017-07-20T00:00:00+00:00\",\"2017-07-21T00:00:00+00:00\",\"2017-07-22T00:00:00+00:00\",\"2017-07-23T00:00:00+00:00\",\"2017-07-24T00:00:00+00:00\",\"2017-07-25T00:00:00+00:00\",\"2017-07-26T00:00:00+00:00\",\"2017-07-27T00:00:00+00:00\",\"2017-07-28T00:00:00+00:00\",\"2017-07-29T00:00:00+00:00\",\"2017-07-30T00:00:00+00:00\",\"2017-07-31T00:00:00+00:00\",\"2017-08-01T00:00:00+00:00\",\"2017-08-02T00:00:00+00:00\",\"2017-08-03T00:00:00+00:00\",\"2017-08-04T00:00:00+00:00\",\"2017-08-05T00:00:00+00:00\",\"2017-08-06T00:00:00+00:00\",\"2017-08-07T00:00:00+00:00\",\"2017-08-08T00:00:00+00:00\",\"2017-08-09T00:00:00+00:00\",\"2017-08-10T00:00:00+00:00\",\"2017-08-11T00:00:00+00:00\",\"2017-08-12T00:00:00+00:00\",\"2017-08-13T00:00:00+00:00\",\"2017-08-14T00:00:00+00:00\",\"2017-08-15T00:00:00+00:00\",\"2017-08-16T00:00:00+00:00\",\"2017-08-17T00:00:00+00:00\",\"2017-08-18T00:00:00+00:00\",\"2017-08-19T00:00:00+00:00\",\"2017-08-20T00:00:00+00:00\",\"2017-08-21T00:00:00+00:00\",\"2017-08-22T00:00:00+00:00\",\"2017-08-23T00:00:00+00:00\",\"2017-08-24T00:00:00+00:00\",\"2017-08-25T00:00:00+00:00\",\"2017-08-26T00:00:00+00:00\",\"2017-08-27T00:00:00+00:00\",\"2017-08-28T00:00:00+00:00\",\"2017-08-29T00:00:00+00:00\",\"2017-08-30T00:00:00+00:00\",\"2017-08-31T00:00:00+00:00\",\"2017-09-01T00:00:00+00:00\",\"2017-09-02T00:00:00+00:00\",\"2017-09-03T00:00:00+00:00\",\"2017-09-04T00:00:00+00:00\",\"2017-09-05T00:00:00+00:00\",\"2017-09-06T00:00:00+00:00\",\"2017-09-07T00:00:00+00:00\",\"2017-09-08T00:00:00+00:00\",\"2017-09-09T00:00:00+00:00\",\"2017-09-10T00:00:00+00:00\",\"2017-09-11T00:00:00+00:00\",\"2017-09-12T00:00:00+00:00\",\"2017-09-13T00:00:00+00:00\",\"2017-09-14T00:00:00+00:00\",\"2017-09-15T00:00:00+00:00\",\"2017-09-16T00:00:00+00:00\",\"2017-09-17T00:00:00+00:00\",\"2017-09-18T00:00:00+00:00\",\"2017-09-19T00:00:00+00:00\",\"2017-09-20T00:00:00+00:00\",\"2017-09-21T00:00:00+00:00\",\"2017-09-22T00:00:00+00:00\",\"2017-09-23T00:00:00+00:00\",\"2017-09-24T00:00:00+00:00\",\"2017-09-25T00:00:00+00:00\",\"2017-09-26T00:00:00+00:00\",\"2017-09-27T00:00:00+00:00\",\"2017-09-28T00:00:00+00:00\",\"2017-09-29T00:00:00+00:00\",\"2017-09-30T00:00:00+00:00\",\"2017-10-01T00:00:00+00:00\",\"2017-10-02T00:00:00+00:00\",\"2017-10-03T00:00:00+00:00\",\"2017-10-04T00:00:00+00:00\",\"2017-10-05T00:00:00+00:00\",\"2017-10-06T00:00:00+00:00\",\"2017-10-07T00:00:00+00:00\",\"2017-10-08T00:00:00+00:00\",\"2017-10-09T00:00:00+00:00\",\"2017-10-10T00:00:00+00:00\",\"2017-10-11T00:00:00+00:00\",\"2017-10-12T00:00:00+00:00\",\"2017-10-13T00:00:00+00:00\",\"2017-10-14T00:00:00+00:00\",\"2017-10-15T00:00:00+00:00\",\"2017-10-16T00:00:00+00:00\",\"2017-10-17T00:00:00+00:00\",\"2017-10-18T00:00:00+00:00\",\"2017-10-19T00:00:00+00:00\",\"2017-10-20T00:00:00+00:00\",\"2017-10-21T00:00:00+00:00\",\"2017-10-22T00:00:00+00:00\",\"2017-10-23T00:00:00+00:00\",\"2017-10-24T00:00:00+00:00\",\"2017-10-25T00:00:00+00:00\",\"2017-10-26T00:00:00+00:00\",\"2017-10-27T00:00:00+00:00\",\"2017-10-28T00:00:00+00:00\",\"2017-10-29T00:00:00+00:00\",\"2017-10-30T00:00:00+00:00\",\"2017-10-31T00:00:00+00:00\",\"2017-11-01T00:00:00+00:00\",\"2017-11-02T00:00:00+00:00\",\"2017-11-03T00:00:00+00:00\",\"2017-11-04T00:00:00+00:00\",\"2017-11-05T00:00:00+00:00\",\"2017-11-06T00:00:00+00:00\",\"2017-11-07T00:00:00+00:00\",\"2017-11-08T00:00:00+00:00\",\"2017-11-09T00:00:00+00:00\",\"2017-11-10T00:00:00+00:00\",\"2017-11-11T00:00:00+00:00\",\"2017-11-12T00:00:00+00:00\",\"2017-11-13T00:00:00+00:00\",\"2017-11-14T00:00:00+00:00\",\"2017-11-15T00:00:00+00:00\",\"2017-11-16T00:00:00+00:00\",\"2017-11-17T00:00:00+00:00\",\"2017-11-18T00:00:00+00:00\",\"2017-11-19T00:00:00+00:00\",\"2017-11-20T00:00:00+00:00\",\"2017-11-21T00:00:00+00:00\",\"2017-11-22T00:00:00+00:00\",\"2017-11-23T00:00:00+00:00\",\"2017-11-24T00:00:00+00:00\",\"2017-11-25T00:00:00+00:00\",\"2017-11-26T00:00:00+00:00\",\"2017-11-27T00:00:00+00:00\",\"2017-11-28T00:00:00+00:00\",\"2017-11-29T00:00:00+00:00\",\"2017-11-30T00:00:00+00:00\",\"2017-12-01T00:00:00+00:00\",\"2017-12-02T00:00:00+00:00\",\"2017-12-03T00:00:00+00:00\",\"2017-12-04T00:00:00+00:00\",\"2017-12-05T00:00:00+00:00\",\"2017-12-06T00:00:00+00:00\",\"2017-12-07T00:00:00+00:00\",\"2017-12-08T00:00:00+00:00\",\"2017-12-09T00:00:00+00:00\",\"2017-12-10T00:00:00+00:00\",\"2017-12-11T00:00:00+00:00\",\"2017-12-12T00:00:00+00:00\",\"2017-12-13T00:00:00+00:00\",\"2017-12-14T00:00:00+00:00\",\"2017-12-15T00:00:00+00:00\",\"2017-12-16T00:00:00+00:00\",\"2017-12-17T00:00:00+00:00\",\"2017-12-18T00:00:00+00:00\",\"2017-12-19T00:00:00+00:00\",\"2017-12-20T00:00:00+00:00\",\"2017-12-21T00:00:00+00:00\",\"2017-12-22T00:00:00+00:00\",\"2017-12-23T00:00:00+00:00\",\"2017-12-24T00:00:00+00:00\",\"2017-12-25T00:00:00+00:00\",\"2017-12-26T00:00:00+00:00\",\"2017-12-27T00:00:00+00:00\",\"2017-12-28T00:00:00+00:00\",\"2017-12-29T00:00:00+00:00\",\"2017-12-30T00:00:00+00:00\",\"2017-12-31T00:00:00+00:00\",\"2018-01-01T00:00:00+00:00\",\"2018-01-02T00:00:00+00:00\",\"2018-01-03T00:00:00+00:00\",\"2018-01-04T00:00:00+00:00\",\"2018-01-05T00:00:00+00:00\",\"2018-01-06T00:00:00+00:00\",\"2018-01-07T00:00:00+00:00\",\"2018-01-08T00:00:00+00:00\",\"2018-01-09T00:00:00+00:00\",\"2018-01-10T00:00:00+00:00\",\"2018-01-11T00:00:00+00:00\",\"2018-01-12T00:00:00+00:00\",\"2018-01-13T00:00:00+00:00\",\"2018-01-14T00:00:00+00:00\",\"2018-01-15T00:00:00+00:00\",\"2018-01-16T00:00:00+00:00\",\"2018-01-17T00:00:00+00:00\",\"2018-01-18T00:00:00+00:00\",\"2018-01-19T00:00:00+00:00\",\"2018-01-20T00:00:00+00:00\",\"2018-01-21T00:00:00+00:00\",\"2018-01-22T00:00:00+00:00\",\"2018-01-23T00:00:00+00:00\",\"2018-01-24T00:00:00+00:00\",\"2018-01-25T00:00:00+00:00\",\"2018-01-26T00:00:00+00:00\",\"2018-01-27T00:00:00+00:00\",\"2018-01-28T00:00:00+00:00\",\"2018-01-29T00:00:00+00:00\",\"2018-01-30T00:00:00+00:00\",\"2018-01-31T00:00:00+00:00\",\"2018-02-01T00:00:00+00:00\",\"2018-02-02T00:00:00+00:00\",\"2018-02-03T00:00:00+00:00\",\"2018-02-04T00:00:00+00:00\",\"2018-02-05T00:00:00+00:00\",\"2018-02-06T00:00:00+00:00\",\"2018-02-07T00:00:00+00:00\",\"2018-02-08T00:00:00+00:00\",\"2018-02-09T00:00:00+00:00\",\"2018-02-10T00:00:00+00:00\",\"2018-02-11T00:00:00+00:00\",\"2018-02-12T00:00:00+00:00\",\"2018-02-13T00:00:00+00:00\",\"2018-02-14T00:00:00+00:00\",\"2018-02-15T00:00:00+00:00\",\"2018-02-16T00:00:00+00:00\",\"2018-02-17T00:00:00+00:00\",\"2018-02-18T00:00:00+00:00\",\"2018-02-19T00:00:00+00:00\",\"2018-02-20T00:00:00+00:00\",\"2018-02-21T00:00:00+00:00\",\"2018-02-22T00:00:00+00:00\",\"2018-02-23T00:00:00+00:00\",\"2018-02-24T00:00:00+00:00\",\"2018-02-25T00:00:00+00:00\",\"2018-02-26T00:00:00+00:00\",\"2018-02-27T00:00:00+00:00\",\"2018-02-28T00:00:00+00:00\",\"2018-03-01T00:00:00+00:00\",\"2018-03-02T00:00:00+00:00\",\"2018-03-03T00:00:00+00:00\",\"2018-03-04T00:00:00+00:00\",\"2018-03-05T00:00:00+00:00\",\"2018-03-06T00:00:00+00:00\",\"2018-03-07T00:00:00+00:00\",\"2018-03-08T00:00:00+00:00\",\"2018-03-09T00:00:00+00:00\",\"2018-03-10T00:00:00+00:00\",\"2018-03-11T00:00:00+00:00\",\"2018-03-12T00:00:00+00:00\",\"2018-03-13T00:00:00+00:00\",\"2018-03-14T00:00:00+00:00\",\"2018-03-15T00:00:00+00:00\",\"2018-03-16T00:00:00+00:00\",\"2018-03-17T00:00:00+00:00\",\"2018-03-18T00:00:00+00:00\",\"2018-03-19T00:00:00+00:00\",\"2018-03-20T00:00:00+00:00\",\"2018-03-21T00:00:00+00:00\",\"2018-03-22T00:00:00+00:00\",\"2018-03-23T00:00:00+00:00\",\"2018-03-24T00:00:00+00:00\",\"2018-03-25T00:00:00+00:00\",\"2018-03-26T00:00:00+00:00\",\"2018-03-27T00:00:00+00:00\",\"2018-03-28T00:00:00+00:00\",\"2018-03-29T00:00:00+00:00\",\"2018-03-30T00:00:00+00:00\",\"2018-03-31T00:00:00+00:00\",\"2018-04-01T00:00:00+00:00\",\"2018-04-02T00:00:00+00:00\",\"2018-04-03T00:00:00+00:00\",\"2018-04-04T00:00:00+00:00\",\"2018-04-05T00:00:00+00:00\",\"2018-04-06T00:00:00+00:00\",\"2018-04-07T00:00:00+00:00\",\"2018-04-08T00:00:00+00:00\",\"2018-04-09T00:00:00+00:00\",\"2018-04-10T00:00:00+00:00\",\"2018-04-11T00:00:00+00:00\",\"2018-04-12T00:00:00+00:00\",\"2018-04-13T00:00:00+00:00\",\"2018-04-14T00:00:00+00:00\",\"2018-04-15T00:00:00+00:00\",\"2018-04-16T00:00:00+00:00\",\"2018-04-17T00:00:00+00:00\",\"2018-04-18T00:00:00+00:00\",\"2018-04-19T00:00:00+00:00\",\"2018-04-20T00:00:00+00:00\",\"2018-04-21T00:00:00+00:00\",\"2018-04-22T00:00:00+00:00\",\"2018-04-23T00:00:00+00:00\",\"2018-04-24T00:00:00+00:00\",\"2018-04-25T00:00:00+00:00\",\"2018-04-26T00:00:00+00:00\",\"2018-04-27T00:00:00+00:00\",\"2018-04-28T00:00:00+00:00\",\"2018-04-29T00:00:00+00:00\",\"2018-04-30T00:00:00+00:00\",\"2018-05-01T00:00:00+00:00\",\"2018-05-02T00:00:00+00:00\",\"2018-05-03T00:00:00+00:00\",\"2018-05-04T00:00:00+00:00\",\"2018-05-05T00:00:00+00:00\",\"2018-05-06T00:00:00+00:00\",\"2018-05-07T00:00:00+00:00\",\"2018-05-08T00:00:00+00:00\",\"2018-05-09T00:00:00+00:00\",\"2018-05-10T00:00:00+00:00\",\"2018-05-11T00:00:00+00:00\",\"2018-05-12T00:00:00+00:00\",\"2018-05-13T00:00:00+00:00\",\"2018-05-14T00:00:00+00:00\",\"2018-05-15T00:00:00+00:00\",\"2018-05-16T00:00:00+00:00\",\"2018-05-17T00:00:00+00:00\",\"2018-05-18T00:00:00+00:00\",\"2018-05-19T00:00:00+00:00\",\"2018-05-20T00:00:00+00:00\",\"2018-05-21T00:00:00+00:00\",\"2018-05-22T00:00:00+00:00\",\"2018-05-23T00:00:00+00:00\",\"2018-05-24T00:00:00+00:00\",\"2018-05-25T00:00:00+00:00\",\"2018-05-26T00:00:00+00:00\",\"2018-05-27T00:00:00+00:00\",\"2018-05-28T00:00:00+00:00\",\"2018-05-29T00:00:00+00:00\",\"2018-05-30T00:00:00+00:00\",\"2018-05-31T00:00:00+00:00\",\"2018-06-01T00:00:00+00:00\",\"2018-06-02T00:00:00+00:00\",\"2018-06-03T00:00:00+00:00\",\"2018-06-04T00:00:00+00:00\",\"2018-06-05T00:00:00+00:00\",\"2018-06-06T00:00:00+00:00\",\"2018-06-07T00:00:00+00:00\",\"2018-06-08T00:00:00+00:00\",\"2018-06-09T00:00:00+00:00\",\"2018-06-10T00:00:00+00:00\",\"2018-06-11T00:00:00+00:00\",\"2018-06-12T00:00:00+00:00\",\"2018-06-13T00:00:00+00:00\",\"2018-06-14T00:00:00+00:00\",\"2018-06-15T00:00:00+00:00\",\"2018-06-16T00:00:00+00:00\",\"2018-06-17T00:00:00+00:00\",\"2018-06-18T00:00:00+00:00\",\"2018-06-19T00:00:00+00:00\",\"2018-06-20T00:00:00+00:00\",\"2018-06-21T00:00:00+00:00\",\"2018-06-22T00:00:00+00:00\",\"2018-06-23T00:00:00+00:00\",\"2018-06-24T00:00:00+00:00\",\"2018-06-25T00:00:00+00:00\",\"2018-06-26T00:00:00+00:00\",\"2018-06-27T00:00:00+00:00\",\"2018-06-28T00:00:00+00:00\",\"2018-06-29T00:00:00+00:00\",\"2018-06-30T00:00:00+00:00\",\"2018-07-01T00:00:00+00:00\",\"2018-07-02T00:00:00+00:00\",\"2018-07-03T00:00:00+00:00\",\"2018-07-04T00:00:00+00:00\",\"2018-07-05T00:00:00+00:00\",\"2018-07-06T00:00:00+00:00\",\"2018-07-07T00:00:00+00:00\",\"2018-07-08T00:00:00+00:00\",\"2018-07-09T00:00:00+00:00\",\"2018-07-10T00:00:00+00:00\",\"2018-07-11T00:00:00+00:00\",\"2018-07-12T00:00:00+00:00\",\"2018-07-13T00:00:00+00:00\",\"2018-07-14T00:00:00+00:00\",\"2018-07-15T00:00:00+00:00\",\"2018-07-16T00:00:00+00:00\",\"2018-07-17T00:00:00+00:00\",\"2018-07-18T00:00:00+00:00\",\"2018-07-19T00:00:00+00:00\",\"2018-07-20T00:00:00+00:00\",\"2018-07-21T00:00:00+00:00\",\"2018-07-22T00:00:00+00:00\",\"2018-07-23T00:00:00+00:00\",\"2018-07-24T00:00:00+00:00\",\"2018-07-25T00:00:00+00:00\",\"2018-07-26T00:00:00+00:00\",\"2018-07-27T00:00:00+00:00\",\"2018-07-28T00:00:00+00:00\",\"2018-07-29T00:00:00+00:00\",\"2018-07-30T00:00:00+00:00\",\"2018-07-31T00:00:00+00:00\",\"2018-08-01T00:00:00+00:00\",\"2018-08-02T00:00:00+00:00\",\"2018-08-03T00:00:00+00:00\",\"2018-08-04T00:00:00+00:00\",\"2018-08-05T00:00:00+00:00\",\"2018-08-06T00:00:00+00:00\",\"2018-08-07T00:00:00+00:00\",\"2018-08-08T00:00:00+00:00\",\"2018-08-09T00:00:00+00:00\",\"2018-08-10T00:00:00+00:00\",\"2018-08-11T00:00:00+00:00\",\"2018-08-12T00:00:00+00:00\",\"2018-08-13T00:00:00+00:00\",\"2018-08-14T00:00:00+00:00\",\"2018-08-15T00:00:00+00:00\",\"2018-08-16T00:00:00+00:00\",\"2018-08-17T00:00:00+00:00\",\"2018-08-18T00:00:00+00:00\",\"2018-08-19T00:00:00+00:00\",\"2018-08-20T00:00:00+00:00\",\"2018-08-21T00:00:00+00:00\",\"2018-08-22T00:00:00+00:00\",\"2018-08-23T00:00:00+00:00\",\"2018-08-24T00:00:00+00:00\",\"2018-08-25T00:00:00+00:00\",\"2018-08-26T00:00:00+00:00\",\"2018-08-27T00:00:00+00:00\",\"2018-08-28T00:00:00+00:00\",\"2018-08-29T00:00:00+00:00\",\"2018-08-30T00:00:00+00:00\",\"2018-08-31T00:00:00+00:00\",\"2018-09-01T00:00:00+00:00\",\"2018-09-02T00:00:00+00:00\",\"2018-09-03T00:00:00+00:00\",\"2018-09-04T00:00:00+00:00\",\"2018-09-05T00:00:00+00:00\",\"2018-09-06T00:00:00+00:00\",\"2018-09-07T00:00:00+00:00\",\"2018-09-08T00:00:00+00:00\",\"2018-09-09T00:00:00+00:00\",\"2018-09-10T00:00:00+00:00\",\"2018-09-11T00:00:00+00:00\",\"2018-09-12T00:00:00+00:00\",\"2018-09-13T00:00:00+00:00\",\"2018-09-14T00:00:00+00:00\",\"2018-09-15T00:00:00+00:00\",\"2018-09-16T00:00:00+00:00\",\"2018-09-17T00:00:00+00:00\",\"2018-09-18T00:00:00+00:00\",\"2018-09-19T00:00:00+00:00\",\"2018-09-20T00:00:00+00:00\",\"2018-09-21T00:00:00+00:00\",\"2018-09-22T00:00:00+00:00\",\"2018-09-23T00:00:00+00:00\",\"2018-09-24T00:00:00+00:00\",\"2018-09-25T00:00:00+00:00\",\"2018-09-26T00:00:00+00:00\",\"2018-09-27T00:00:00+00:00\",\"2018-09-28T00:00:00+00:00\",\"2018-09-29T00:00:00+00:00\",\"2018-09-30T00:00:00+00:00\",\"2018-10-01T00:00:00+00:00\",\"2018-10-02T00:00:00+00:00\",\"2018-10-03T00:00:00+00:00\",\"2018-10-04T00:00:00+00:00\",\"2018-10-05T00:00:00+00:00\",\"2018-10-06T00:00:00+00:00\",\"2018-10-07T00:00:00+00:00\",\"2018-10-08T00:00:00+00:00\",\"2018-10-09T00:00:00+00:00\",\"2018-10-10T00:00:00+00:00\",\"2018-10-11T00:00:00+00:00\",\"2018-10-12T00:00:00+00:00\",\"2018-10-13T00:00:00+00:00\",\"2018-10-14T00:00:00+00:00\",\"2018-10-15T00:00:00+00:00\",\"2018-10-16T00:00:00+00:00\",\"2018-10-17T00:00:00+00:00\",\"2018-10-18T00:00:00+00:00\",\"2018-10-19T00:00:00+00:00\",\"2018-10-20T00:00:00+00:00\",\"2018-10-21T00:00:00+00:00\",\"2018-10-22T00:00:00+00:00\",\"2018-10-23T00:00:00+00:00\",\"2018-10-24T00:00:00+00:00\",\"2018-10-25T00:00:00+00:00\",\"2018-10-26T00:00:00+00:00\",\"2018-10-27T00:00:00+00:00\",\"2018-10-28T00:00:00+00:00\",\"2018-10-29T00:00:00+00:00\",\"2018-10-30T00:00:00+00:00\",\"2018-10-31T00:00:00+00:00\",\"2018-11-01T00:00:00+00:00\",\"2018-11-02T00:00:00+00:00\",\"2018-11-03T00:00:00+00:00\",\"2018-11-04T00:00:00+00:00\",\"2018-11-05T00:00:00+00:00\",\"2018-11-06T00:00:00+00:00\",\"2018-11-07T00:00:00+00:00\",\"2018-11-08T00:00:00+00:00\",\"2018-11-09T00:00:00+00:00\",\"2018-11-10T00:00:00+00:00\",\"2018-11-11T00:00:00+00:00\",\"2018-11-12T00:00:00+00:00\",\"2018-11-13T00:00:00+00:00\",\"2018-11-14T00:00:00+00:00\",\"2018-11-15T00:00:00+00:00\",\"2018-11-16T00:00:00+00:00\",\"2018-11-17T00:00:00+00:00\",\"2018-11-18T00:00:00+00:00\",\"2018-11-19T00:00:00+00:00\",\"2018-11-20T00:00:00+00:00\",\"2018-11-21T00:00:00+00:00\",\"2018-11-22T00:00:00+00:00\",\"2018-11-23T00:00:00+00:00\",\"2018-11-24T00:00:00+00:00\",\"2018-11-25T00:00:00+00:00\",\"2018-11-26T00:00:00+00:00\",\"2018-11-27T00:00:00+00:00\",\"2018-11-28T00:00:00+00:00\",\"2018-11-29T00:00:00+00:00\",\"2018-11-30T00:00:00+00:00\",\"2018-12-01T00:00:00+00:00\",\"2018-12-02T00:00:00+00:00\",\"2018-12-03T00:00:00+00:00\",\"2018-12-04T00:00:00+00:00\",\"2018-12-05T00:00:00+00:00\",\"2018-12-06T00:00:00+00:00\",\"2018-12-07T00:00:00+00:00\",\"2018-12-08T00:00:00+00:00\",\"2018-12-09T00:00:00+00:00\",\"2018-12-10T00:00:00+00:00\",\"2018-12-11T00:00:00+00:00\",\"2018-12-12T00:00:00+00:00\",\"2018-12-13T00:00:00+00:00\",\"2018-12-14T00:00:00+00:00\",\"2018-12-15T00:00:00+00:00\",\"2018-12-16T00:00:00+00:00\",\"2018-12-17T00:00:00+00:00\",\"2018-12-18T00:00:00+00:00\",\"2018-12-19T00:00:00+00:00\",\"2018-12-20T00:00:00+00:00\",\"2018-12-21T00:00:00+00:00\",\"2018-12-22T00:00:00+00:00\",\"2018-12-23T00:00:00+00:00\",\"2018-12-24T00:00:00+00:00\",\"2018-12-25T00:00:00+00:00\",\"2018-12-26T00:00:00+00:00\",\"2018-12-27T00:00:00+00:00\",\"2018-12-28T00:00:00+00:00\",\"2018-12-29T00:00:00+00:00\",\"2018-12-30T00:00:00+00:00\",\"2018-12-31T00:00:00+00:00\",\"2019-01-01T00:00:00+00:00\",\"2019-01-02T00:00:00+00:00\",\"2019-01-03T00:00:00+00:00\",\"2019-01-04T00:00:00+00:00\",\"2019-01-05T00:00:00+00:00\",\"2019-01-06T00:00:00+00:00\",\"2019-01-07T00:00:00+00:00\",\"2019-01-08T00:00:00+00:00\",\"2019-01-09T00:00:00+00:00\",\"2019-01-10T00:00:00+00:00\",\"2019-01-11T00:00:00+00:00\",\"2019-01-12T00:00:00+00:00\",\"2019-01-13T00:00:00+00:00\",\"2019-01-14T00:00:00+00:00\",\"2019-01-15T00:00:00+00:00\",\"2019-01-16T00:00:00+00:00\",\"2019-01-17T00:00:00+00:00\",\"2019-01-18T00:00:00+00:00\",\"2019-01-19T00:00:00+00:00\",\"2019-01-20T00:00:00+00:00\",\"2019-01-21T00:00:00+00:00\",\"2019-01-22T00:00:00+00:00\",\"2019-01-23T00:00:00+00:00\",\"2019-01-24T00:00:00+00:00\",\"2019-01-25T00:00:00+00:00\",\"2019-01-26T00:00:00+00:00\",\"2019-01-27T00:00:00+00:00\",\"2019-01-28T00:00:00+00:00\",\"2019-01-29T00:00:00+00:00\",\"2019-01-30T00:00:00+00:00\",\"2019-01-31T00:00:00+00:00\",\"2019-02-01T00:00:00+00:00\",\"2019-02-02T00:00:00+00:00\",\"2019-02-03T00:00:00+00:00\",\"2019-02-04T00:00:00+00:00\",\"2019-02-05T00:00:00+00:00\",\"2019-02-06T00:00:00+00:00\",\"2019-02-07T00:00:00+00:00\",\"2019-02-08T00:00:00+00:00\",\"2019-02-09T00:00:00+00:00\",\"2019-02-10T00:00:00+00:00\",\"2019-02-11T00:00:00+00:00\",\"2019-02-12T00:00:00+00:00\",\"2019-02-13T00:00:00+00:00\",\"2019-02-14T00:00:00+00:00\",\"2019-02-15T00:00:00+00:00\",\"2019-02-16T00:00:00+00:00\",\"2019-02-17T00:00:00+00:00\",\"2019-02-18T00:00:00+00:00\",\"2019-02-19T00:00:00+00:00\",\"2019-02-20T00:00:00+00:00\",\"2019-02-21T00:00:00+00:00\",\"2019-02-22T00:00:00+00:00\",\"2019-02-23T00:00:00+00:00\",\"2019-02-24T00:00:00+00:00\",\"2019-02-25T00:00:00+00:00\",\"2019-02-26T00:00:00+00:00\",\"2019-02-27T00:00:00+00:00\",\"2019-02-28T00:00:00+00:00\",\"2019-03-01T00:00:00+00:00\",\"2019-03-02T00:00:00+00:00\",\"2019-03-03T00:00:00+00:00\",\"2019-03-04T00:00:00+00:00\",\"2019-03-05T00:00:00+00:00\",\"2019-03-06T00:00:00+00:00\",\"2019-03-07T00:00:00+00:00\",\"2019-03-08T00:00:00+00:00\",\"2019-03-09T00:00:00+00:00\",\"2019-03-10T00:00:00+00:00\",\"2019-03-11T00:00:00+00:00\",\"2019-03-12T00:00:00+00:00\",\"2019-03-13T00:00:00+00:00\",\"2019-03-14T00:00:00+00:00\",\"2019-03-15T00:00:00+00:00\",\"2019-03-16T00:00:00+00:00\",\"2019-03-17T00:00:00+00:00\",\"2019-03-18T00:00:00+00:00\",\"2019-03-19T00:00:00+00:00\",\"2019-03-20T00:00:00+00:00\",\"2019-03-21T00:00:00+00:00\",\"2019-03-22T00:00:00+00:00\",\"2019-03-23T00:00:00+00:00\",\"2019-03-24T00:00:00+00:00\",\"2019-03-25T00:00:00+00:00\",\"2019-03-26T00:00:00+00:00\",\"2019-03-27T00:00:00+00:00\",\"2019-03-28T00:00:00+00:00\",\"2019-03-29T00:00:00+00:00\",\"2019-03-30T00:00:00+00:00\",\"2019-03-31T00:00:00+00:00\",\"2019-04-01T00:00:00+00:00\",\"2019-04-02T00:00:00+00:00\",\"2019-04-03T00:00:00+00:00\",\"2019-04-04T00:00:00+00:00\",\"2019-04-05T00:00:00+00:00\",\"2019-04-06T00:00:00+00:00\",\"2019-04-07T00:00:00+00:00\",\"2019-04-08T00:00:00+00:00\",\"2019-04-09T00:00:00+00:00\",\"2019-04-10T00:00:00+00:00\",\"2019-04-11T00:00:00+00:00\",\"2019-04-12T00:00:00+00:00\",\"2019-04-13T00:00:00+00:00\",\"2019-04-14T00:00:00+00:00\",\"2019-04-15T00:00:00+00:00\",\"2019-04-16T00:00:00+00:00\",\"2019-04-17T00:00:00+00:00\",\"2019-04-18T00:00:00+00:00\",\"2019-04-19T00:00:00+00:00\",\"2019-04-20T00:00:00+00:00\",\"2019-04-21T00:00:00+00:00\",\"2019-04-22T00:00:00+00:00\",\"2019-04-23T00:00:00+00:00\",\"2019-04-24T00:00:00+00:00\",\"2019-04-25T00:00:00+00:00\",\"2019-04-26T00:00:00+00:00\",\"2019-04-27T00:00:00+00:00\",\"2019-04-28T00:00:00+00:00\",\"2019-04-29T00:00:00+00:00\",\"2019-04-30T00:00:00+00:00\",\"2019-05-01T00:00:00+00:00\",\"2019-05-02T00:00:00+00:00\",\"2019-05-03T00:00:00+00:00\",\"2019-05-04T00:00:00+00:00\",\"2019-05-05T00:00:00+00:00\",\"2019-05-06T00:00:00+00:00\",\"2019-05-07T00:00:00+00:00\",\"2019-05-08T00:00:00+00:00\",\"2019-05-09T00:00:00+00:00\",\"2019-05-10T00:00:00+00:00\",\"2019-05-11T00:00:00+00:00\",\"2019-05-12T00:00:00+00:00\",\"2019-05-13T00:00:00+00:00\",\"2019-05-14T00:00:00+00:00\",\"2019-05-15T00:00:00+00:00\",\"2019-05-16T00:00:00+00:00\",\"2019-05-17T00:00:00+00:00\",\"2019-05-18T00:00:00+00:00\",\"2019-05-19T00:00:00+00:00\",\"2019-05-20T00:00:00+00:00\",\"2019-05-21T00:00:00+00:00\",\"2019-05-22T00:00:00+00:00\",\"2019-05-23T00:00:00+00:00\",\"2019-05-24T00:00:00+00:00\",\"2019-05-25T00:00:00+00:00\",\"2019-05-26T00:00:00+00:00\",\"2019-05-27T00:00:00+00:00\",\"2019-05-28T00:00:00+00:00\",\"2019-05-29T00:00:00+00:00\",\"2019-05-30T00:00:00+00:00\",\"2019-05-31T00:00:00+00:00\",\"2019-06-01T00:00:00+00:00\",\"2019-06-02T00:00:00+00:00\",\"2019-06-03T00:00:00+00:00\",\"2019-06-04T00:00:00+00:00\",\"2019-06-05T00:00:00+00:00\",\"2019-06-06T00:00:00+00:00\",\"2019-06-07T00:00:00+00:00\",\"2019-06-08T00:00:00+00:00\",\"2019-06-09T00:00:00+00:00\",\"2019-06-10T00:00:00+00:00\",\"2019-06-11T00:00:00+00:00\",\"2019-06-12T00:00:00+00:00\",\"2019-06-13T00:00:00+00:00\",\"2019-06-14T00:00:00+00:00\",\"2019-06-15T00:00:00+00:00\",\"2019-06-16T00:00:00+00:00\",\"2019-06-17T00:00:00+00:00\",\"2019-06-18T00:00:00+00:00\",\"2019-06-19T00:00:00+00:00\",\"2019-06-20T00:00:00+00:00\",\"2019-06-21T00:00:00+00:00\",\"2019-06-22T00:00:00+00:00\",\"2019-06-23T00:00:00+00:00\",\"2019-06-24T00:00:00+00:00\",\"2019-06-25T00:00:00+00:00\",\"2019-06-26T00:00:00+00:00\",\"2019-06-27T00:00:00+00:00\",\"2019-06-28T00:00:00+00:00\",\"2019-06-29T00:00:00+00:00\",\"2019-06-30T00:00:00+00:00\",\"2019-07-01T00:00:00+00:00\",\"2019-07-02T00:00:00+00:00\",\"2019-07-03T00:00:00+00:00\",\"2019-07-04T00:00:00+00:00\",\"2019-07-05T00:00:00+00:00\",\"2019-07-06T00:00:00+00:00\",\"2019-07-07T00:00:00+00:00\",\"2019-07-08T00:00:00+00:00\",\"2019-07-09T00:00:00+00:00\",\"2019-07-10T00:00:00+00:00\",\"2019-07-11T00:00:00+00:00\",\"2019-07-12T00:00:00+00:00\",\"2019-07-13T00:00:00+00:00\",\"2019-07-14T00:00:00+00:00\",\"2019-07-15T00:00:00+00:00\",\"2019-07-16T00:00:00+00:00\",\"2019-07-17T00:00:00+00:00\",\"2019-07-18T00:00:00+00:00\",\"2019-07-19T00:00:00+00:00\",\"2019-07-20T00:00:00+00:00\",\"2019-07-21T00:00:00+00:00\",\"2019-07-22T00:00:00+00:00\",\"2019-07-23T00:00:00+00:00\",\"2019-07-24T00:00:00+00:00\",\"2019-07-25T00:00:00+00:00\",\"2019-07-26T00:00:00+00:00\",\"2019-07-27T00:00:00+00:00\",\"2019-07-28T00:00:00+00:00\",\"2019-07-29T00:00:00+00:00\",\"2019-07-30T00:00:00+00:00\",\"2019-07-31T00:00:00+00:00\",\"2019-08-01T00:00:00+00:00\",\"2019-08-02T00:00:00+00:00\",\"2019-08-03T00:00:00+00:00\",\"2019-08-04T00:00:00+00:00\",\"2019-08-05T00:00:00+00:00\",\"2019-08-06T00:00:00+00:00\",\"2019-08-07T00:00:00+00:00\",\"2019-08-08T00:00:00+00:00\",\"2019-08-09T00:00:00+00:00\",\"2019-08-10T00:00:00+00:00\",\"2019-08-11T00:00:00+00:00\",\"2019-08-12T00:00:00+00:00\",\"2019-08-13T00:00:00+00:00\",\"2019-08-14T00:00:00+00:00\",\"2019-08-15T00:00:00+00:00\",\"2019-08-16T00:00:00+00:00\",\"2019-08-17T00:00:00+00:00\",\"2019-08-18T00:00:00+00:00\",\"2019-08-19T00:00:00+00:00\",\"2019-08-20T00:00:00+00:00\",\"2019-08-21T00:00:00+00:00\",\"2019-08-22T00:00:00+00:00\",\"2019-08-23T00:00:00+00:00\",\"2019-08-24T00:00:00+00:00\",\"2019-08-25T00:00:00+00:00\",\"2019-08-26T00:00:00+00:00\",\"2019-08-27T00:00:00+00:00\",\"2019-08-28T00:00:00+00:00\",\"2019-08-29T00:00:00+00:00\",\"2019-08-30T00:00:00+00:00\",\"2019-08-31T00:00:00+00:00\",\"2019-09-01T00:00:00+00:00\",\"2019-09-02T00:00:00+00:00\",\"2019-09-03T00:00:00+00:00\",\"2019-09-04T00:00:00+00:00\",\"2019-09-05T00:00:00+00:00\",\"2019-09-06T00:00:00+00:00\",\"2019-09-07T00:00:00+00:00\",\"2019-09-08T00:00:00+00:00\",\"2019-09-09T00:00:00+00:00\",\"2019-09-10T00:00:00+00:00\",\"2019-09-11T00:00:00+00:00\",\"2019-09-12T00:00:00+00:00\",\"2019-09-13T00:00:00+00:00\",\"2019-09-14T00:00:00+00:00\",\"2019-09-15T00:00:00+00:00\",\"2019-09-16T00:00:00+00:00\",\"2019-09-17T00:00:00+00:00\",\"2019-09-18T00:00:00+00:00\",\"2019-09-19T00:00:00+00:00\",\"2019-09-20T00:00:00+00:00\",\"2019-09-21T00:00:00+00:00\",\"2019-09-22T00:00:00+00:00\",\"2019-09-23T00:00:00+00:00\",\"2019-09-24T00:00:00+00:00\",\"2019-09-25T00:00:00+00:00\",\"2019-09-26T00:00:00+00:00\",\"2019-09-27T00:00:00+00:00\",\"2019-09-28T00:00:00+00:00\",\"2019-09-29T00:00:00+00:00\",\"2019-09-30T00:00:00+00:00\",\"2019-10-01T00:00:00+00:00\",\"2019-10-02T00:00:00+00:00\",\"2019-10-03T00:00:00+00:00\",\"2019-10-04T00:00:00+00:00\",\"2019-10-05T00:00:00+00:00\",\"2019-10-06T00:00:00+00:00\",\"2019-10-07T00:00:00+00:00\",\"2019-10-08T00:00:00+00:00\",\"2019-10-09T00:00:00+00:00\",\"2019-10-10T00:00:00+00:00\",\"2019-10-11T00:00:00+00:00\",\"2019-10-12T00:00:00+00:00\",\"2019-10-13T00:00:00+00:00\",\"2019-10-14T00:00:00+00:00\",\"2019-10-15T00:00:00+00:00\",\"2019-10-16T00:00:00+00:00\",\"2019-10-17T00:00:00+00:00\",\"2019-10-18T00:00:00+00:00\",\"2019-10-19T00:00:00+00:00\",\"2019-10-20T00:00:00+00:00\",\"2019-10-21T00:00:00+00:00\",\"2019-10-22T00:00:00+00:00\",\"2019-10-23T00:00:00+00:00\",\"2019-10-24T00:00:00+00:00\",\"2019-10-25T00:00:00+00:00\",\"2019-10-26T00:00:00+00:00\",\"2019-10-27T00:00:00+00:00\",\"2019-10-28T00:00:00+00:00\",\"2019-10-29T00:00:00+00:00\",\"2019-10-30T00:00:00+00:00\",\"2019-10-31T00:00:00+00:00\",\"2019-11-01T00:00:00+00:00\",\"2019-11-02T00:00:00+00:00\",\"2019-11-03T00:00:00+00:00\",\"2019-11-04T00:00:00+00:00\",\"2019-11-05T00:00:00+00:00\",\"2019-11-06T00:00:00+00:00\",\"2019-11-07T00:00:00+00:00\",\"2019-11-08T00:00:00+00:00\",\"2019-11-09T00:00:00+00:00\",\"2019-11-10T00:00:00+00:00\",\"2019-11-11T00:00:00+00:00\",\"2019-11-12T00:00:00+00:00\",\"2019-11-13T00:00:00+00:00\",\"2019-11-14T00:00:00+00:00\",\"2019-11-15T00:00:00+00:00\",\"2019-11-16T00:00:00+00:00\",\"2019-11-17T00:00:00+00:00\",\"2019-11-18T00:00:00+00:00\",\"2019-11-19T00:00:00+00:00\",\"2019-11-20T00:00:00+00:00\",\"2019-11-21T00:00:00+00:00\",\"2019-11-22T00:00:00+00:00\",\"2019-11-23T00:00:00+00:00\",\"2019-11-24T00:00:00+00:00\",\"2019-11-25T00:00:00+00:00\",\"2019-11-26T00:00:00+00:00\",\"2019-11-27T00:00:00+00:00\",\"2019-11-28T00:00:00+00:00\",\"2019-11-29T00:00:00+00:00\",\"2019-11-30T00:00:00+00:00\",\"2019-12-01T00:00:00+00:00\",\"2019-12-02T00:00:00+00:00\",\"2019-12-03T00:00:00+00:00\",\"2019-12-04T00:00:00+00:00\",\"2019-12-05T00:00:00+00:00\",\"2019-12-06T00:00:00+00:00\",\"2019-12-07T00:00:00+00:00\",\"2019-12-08T00:00:00+00:00\",\"2019-12-09T00:00:00+00:00\",\"2019-12-10T00:00:00+00:00\",\"2019-12-11T00:00:00+00:00\",\"2019-12-12T00:00:00+00:00\",\"2019-12-13T00:00:00+00:00\",\"2019-12-14T00:00:00+00:00\",\"2019-12-15T00:00:00+00:00\",\"2019-12-16T00:00:00+00:00\",\"2019-12-17T00:00:00+00:00\",\"2019-12-18T00:00:00+00:00\",\"2019-12-19T00:00:00+00:00\",\"2019-12-20T00:00:00+00:00\",\"2019-12-21T00:00:00+00:00\",\"2019-12-22T00:00:00+00:00\",\"2019-12-23T00:00:00+00:00\",\"2019-12-24T00:00:00+00:00\",\"2019-12-25T00:00:00+00:00\",\"2019-12-26T00:00:00+00:00\",\"2019-12-27T00:00:00+00:00\",\"2019-12-28T00:00:00+00:00\",\"2019-12-29T00:00:00+00:00\",\"2019-12-30T00:00:00+00:00\",\"2019-12-31T00:00:00+00:00\",\"2020-01-01T00:00:00+00:00\",\"2020-01-02T00:00:00+00:00\",\"2020-01-03T00:00:00+00:00\",\"2020-01-04T00:00:00+00:00\",\"2020-01-05T00:00:00+00:00\",\"2020-01-06T00:00:00+00:00\",\"2020-01-07T00:00:00+00:00\",\"2020-01-08T00:00:00+00:00\",\"2020-01-09T00:00:00+00:00\",\"2020-01-10T00:00:00+00:00\",\"2020-01-11T00:00:00+00:00\",\"2020-01-12T00:00:00+00:00\",\"2020-01-13T00:00:00+00:00\",\"2020-01-14T00:00:00+00:00\",\"2020-01-15T00:00:00+00:00\",\"2020-01-16T00:00:00+00:00\",\"2020-01-17T00:00:00+00:00\",\"2020-01-18T00:00:00+00:00\",\"2020-01-19T00:00:00+00:00\",\"2020-01-20T00:00:00+00:00\",\"2020-01-21T00:00:00+00:00\",\"2020-01-22T00:00:00+00:00\",\"2020-01-23T00:00:00+00:00\",\"2020-01-24T00:00:00+00:00\",\"2020-01-25T00:00:00+00:00\",\"2020-01-26T00:00:00+00:00\",\"2020-01-27T00:00:00+00:00\",\"2020-01-28T00:00:00+00:00\",\"2020-01-29T00:00:00+00:00\",\"2020-01-30T00:00:00+00:00\",\"2020-01-31T00:00:00+00:00\",\"2020-02-01T00:00:00+00:00\",\"2020-02-02T00:00:00+00:00\",\"2020-02-03T00:00:00+00:00\",\"2020-02-04T00:00:00+00:00\",\"2020-02-05T00:00:00+00:00\",\"2020-02-06T00:00:00+00:00\",\"2020-02-07T00:00:00+00:00\",\"2020-02-08T00:00:00+00:00\",\"2020-02-09T00:00:00+00:00\",\"2020-02-10T00:00:00+00:00\",\"2020-02-11T00:00:00+00:00\",\"2020-02-12T00:00:00+00:00\",\"2020-02-13T00:00:00+00:00\",\"2020-02-14T00:00:00+00:00\",\"2020-02-15T00:00:00+00:00\",\"2020-02-16T00:00:00+00:00\",\"2020-02-17T00:00:00+00:00\",\"2020-02-18T00:00:00+00:00\",\"2020-02-19T00:00:00+00:00\",\"2020-02-20T00:00:00+00:00\",\"2020-02-21T00:00:00+00:00\",\"2020-02-22T00:00:00+00:00\",\"2020-02-23T00:00:00+00:00\",\"2020-02-24T00:00:00+00:00\",\"2020-02-25T00:00:00+00:00\",\"2020-02-26T00:00:00+00:00\",\"2020-02-27T00:00:00+00:00\",\"2020-02-28T00:00:00+00:00\",\"2020-03-01T00:00:00+00:00\",\"2020-03-02T00:00:00+00:00\",\"2020-03-03T00:00:00+00:00\",\"2020-03-04T00:00:00+00:00\",\"2020-03-05T00:00:00+00:00\",\"2020-03-06T00:00:00+00:00\",\"2020-03-07T00:00:00+00:00\",\"2020-03-08T00:00:00+00:00\",\"2020-03-09T00:00:00+00:00\",\"2020-03-10T00:00:00+00:00\",\"2020-03-11T00:00:00+00:00\",\"2020-03-12T00:00:00+00:00\",\"2020-03-13T00:00:00+00:00\",\"2020-03-14T00:00:00+00:00\",\"2020-03-15T00:00:00+00:00\",\"2020-03-16T00:00:00+00:00\",\"2020-03-17T00:00:00+00:00\",\"2020-03-18T00:00:00+00:00\",\"2020-03-19T00:00:00+00:00\",\"2020-03-20T00:00:00+00:00\",\"2020-03-21T00:00:00+00:00\",\"2020-03-22T00:00:00+00:00\",\"2020-03-23T00:00:00+00:00\",\"2020-03-24T00:00:00+00:00\",\"2020-03-25T00:00:00+00:00\",\"2020-03-26T00:00:00+00:00\",\"2020-03-27T00:00:00+00:00\",\"2020-03-28T00:00:00+00:00\",\"2020-03-29T00:00:00+00:00\",\"2020-03-30T00:00:00+00:00\",\"2020-03-31T00:00:00+00:00\",\"2020-04-01T00:00:00+00:00\",\"2020-04-02T00:00:00+00:00\",\"2020-04-03T00:00:00+00:00\",\"2020-04-04T00:00:00+00:00\",\"2020-04-05T00:00:00+00:00\",\"2020-04-06T00:00:00+00:00\",\"2020-04-07T00:00:00+00:00\",\"2020-04-08T00:00:00+00:00\",\"2020-04-09T00:00:00+00:00\",\"2020-04-10T00:00:00+00:00\",\"2020-04-11T00:00:00+00:00\",\"2020-04-12T00:00:00+00:00\",\"2020-04-13T00:00:00+00:00\",\"2020-04-14T00:00:00+00:00\",\"2020-04-15T00:00:00+00:00\",\"2020-04-16T00:00:00+00:00\",\"2020-04-17T00:00:00+00:00\",\"2020-04-18T00:00:00+00:00\",\"2020-04-19T00:00:00+00:00\",\"2020-04-20T00:00:00+00:00\",\"2020-04-21T00:00:00+00:00\",\"2020-04-22T00:00:00+00:00\",\"2020-04-23T00:00:00+00:00\",\"2020-04-24T00:00:00+00:00\",\"2020-04-25T00:00:00+00:00\",\"2020-04-26T00:00:00+00:00\",\"2020-04-27T00:00:00+00:00\",\"2020-04-28T00:00:00+00:00\",\"2020-04-29T00:00:00+00:00\",\"2020-04-30T00:00:00+00:00\",\"2020-05-01T00:00:00+00:00\",\"2020-05-02T00:00:00+00:00\",\"2020-05-03T00:00:00+00:00\",\"2020-05-04T00:00:00+00:00\",\"2020-05-05T00:00:00+00:00\",\"2020-05-06T00:00:00+00:00\",\"2020-05-07T00:00:00+00:00\",\"2020-05-08T00:00:00+00:00\",\"2020-05-09T00:00:00+00:00\",\"2020-05-10T00:00:00+00:00\",\"2020-05-11T00:00:00+00:00\",\"2020-05-12T00:00:00+00:00\",\"2020-05-13T00:00:00+00:00\",\"2020-05-14T00:00:00+00:00\",\"2020-05-15T00:00:00+00:00\",\"2020-05-16T00:00:00+00:00\",\"2020-05-17T00:00:00+00:00\",\"2020-05-18T00:00:00+00:00\",\"2020-05-19T00:00:00+00:00\",\"2020-05-20T00:00:00+00:00\",\"2020-05-21T00:00:00+00:00\",\"2020-05-22T00:00:00+00:00\",\"2020-05-23T00:00:00+00:00\",\"2020-05-24T00:00:00+00:00\",\"2020-05-25T00:00:00+00:00\",\"2020-05-26T00:00:00+00:00\",\"2020-05-27T00:00:00+00:00\",\"2020-05-28T00:00:00+00:00\",\"2020-05-29T00:00:00+00:00\",\"2020-05-30T00:00:00+00:00\",\"2020-05-31T00:00:00+00:00\",\"2020-06-01T00:00:00+00:00\",\"2020-06-02T00:00:00+00:00\",\"2020-06-03T00:00:00+00:00\",\"2020-06-04T00:00:00+00:00\",\"2020-06-05T00:00:00+00:00\",\"2020-06-06T00:00:00+00:00\",\"2020-06-07T00:00:00+00:00\",\"2020-06-08T00:00:00+00:00\",\"2020-06-09T00:00:00+00:00\",\"2020-06-10T00:00:00+00:00\",\"2020-06-11T00:00:00+00:00\",\"2020-06-12T00:00:00+00:00\",\"2020-06-13T00:00:00+00:00\",\"2020-06-14T00:00:00+00:00\",\"2020-06-15T00:00:00+00:00\",\"2020-06-16T00:00:00+00:00\",\"2020-06-17T00:00:00+00:00\",\"2020-06-18T00:00:00+00:00\",\"2020-06-19T00:00:00+00:00\",\"2020-06-20T00:00:00+00:00\",\"2020-06-21T00:00:00+00:00\",\"2020-06-22T00:00:00+00:00\",\"2020-06-23T00:00:00+00:00\",\"2020-06-24T00:00:00+00:00\",\"2020-06-25T00:00:00+00:00\",\"2020-06-26T00:00:00+00:00\",\"2020-06-27T00:00:00+00:00\",\"2020-06-28T00:00:00+00:00\",\"2020-06-29T00:00:00+00:00\",\"2020-06-30T00:00:00+00:00\",\"2020-07-01T00:00:00+00:00\",\"2020-07-02T00:00:00+00:00\",\"2020-07-03T00:00:00+00:00\",\"2020-07-04T00:00:00+00:00\",\"2020-07-05T00:00:00+00:00\",\"2020-07-06T00:00:00+00:00\",\"2020-07-07T00:00:00+00:00\",\"2020-07-08T00:00:00+00:00\",\"2020-07-09T00:00:00+00:00\",\"2020-07-10T00:00:00+00:00\",\"2020-07-11T00:00:00+00:00\",\"2020-07-12T00:00:00+00:00\",\"2020-07-13T00:00:00+00:00\",\"2020-07-14T00:00:00+00:00\",\"2020-07-15T00:00:00+00:00\",\"2020-07-16T00:00:00+00:00\",\"2020-07-17T00:00:00+00:00\",\"2020-07-18T00:00:00+00:00\",\"2020-07-19T00:00:00+00:00\",\"2020-07-20T00:00:00+00:00\",\"2020-07-21T00:00:00+00:00\",\"2020-07-22T00:00:00+00:00\",\"2020-07-23T00:00:00+00:00\",\"2020-07-24T00:00:00+00:00\",\"2020-07-25T00:00:00+00:00\",\"2020-07-26T00:00:00+00:00\",\"2020-07-27T00:00:00+00:00\",\"2020-07-28T00:00:00+00:00\",\"2020-07-29T00:00:00+00:00\",\"2020-07-30T00:00:00+00:00\",\"2020-07-31T00:00:00+00:00\",\"2020-08-01T00:00:00+00:00\",\"2020-08-02T00:00:00+00:00\",\"2020-08-03T00:00:00+00:00\",\"2020-08-04T00:00:00+00:00\",\"2020-08-05T00:00:00+00:00\",\"2020-08-06T00:00:00+00:00\",\"2020-08-07T00:00:00+00:00\",\"2020-08-08T00:00:00+00:00\",\"2020-08-09T00:00:00+00:00\",\"2020-08-10T00:00:00+00:00\",\"2020-08-11T00:00:00+00:00\",\"2020-08-12T00:00:00+00:00\",\"2020-08-13T00:00:00+00:00\",\"2020-08-14T00:00:00+00:00\",\"2020-08-15T00:00:00+00:00\",\"2020-08-16T00:00:00+00:00\",\"2020-08-17T00:00:00+00:00\",\"2020-08-18T00:00:00+00:00\",\"2020-08-19T00:00:00+00:00\",\"2020-08-20T00:00:00+00:00\",\"2020-08-21T00:00:00+00:00\",\"2020-08-22T00:00:00+00:00\",\"2020-08-23T00:00:00+00:00\",\"2020-08-24T00:00:00+00:00\",\"2020-08-25T00:00:00+00:00\",\"2020-08-26T00:00:00+00:00\",\"2020-08-27T00:00:00+00:00\",\"2020-08-28T00:00:00+00:00\",\"2020-08-29T00:00:00+00:00\",\"2020-08-30T00:00:00+00:00\",\"2020-08-31T00:00:00+00:00\",\"2020-09-01T00:00:00+00:00\",\"2020-09-02T00:00:00+00:00\",\"2020-09-03T00:00:00+00:00\",\"2020-09-04T00:00:00+00:00\",\"2020-09-05T00:00:00+00:00\",\"2020-09-06T00:00:00+00:00\",\"2020-09-07T00:00:00+00:00\",\"2020-09-08T00:00:00+00:00\",\"2020-09-09T00:00:00+00:00\",\"2020-09-10T00:00:00+00:00\",\"2020-09-11T00:00:00+00:00\",\"2020-09-12T00:00:00+00:00\",\"2020-09-13T00:00:00+00:00\",\"2020-09-14T00:00:00+00:00\",\"2020-09-15T00:00:00+00:00\",\"2020-09-16T00:00:00+00:00\",\"2020-09-17T00:00:00+00:00\",\"2020-09-18T00:00:00+00:00\",\"2020-09-19T00:00:00+00:00\",\"2020-09-20T00:00:00+00:00\",\"2020-09-21T00:00:00+00:00\",\"2020-09-22T00:00:00+00:00\",\"2020-09-23T00:00:00+00:00\",\"2020-09-24T00:00:00+00:00\",\"2020-09-25T00:00:00+00:00\",\"2020-09-26T00:00:00+00:00\",\"2020-09-27T00:00:00+00:00\",\"2020-09-28T00:00:00+00:00\",\"2020-09-29T00:00:00+00:00\",\"2020-09-30T00:00:00+00:00\",\"2020-10-01T00:00:00+00:00\",\"2020-10-02T00:00:00+00:00\",\"2020-10-03T00:00:00+00:00\",\"2020-10-04T00:00:00+00:00\",\"2020-10-05T00:00:00+00:00\",\"2020-10-06T00:00:00+00:00\",\"2020-10-07T00:00:00+00:00\",\"2020-10-08T00:00:00+00:00\",\"2020-10-09T00:00:00+00:00\",\"2020-10-10T00:00:00+00:00\",\"2020-10-11T00:00:00+00:00\",\"2020-10-12T00:00:00+00:00\",\"2020-10-13T00:00:00+00:00\",\"2020-10-14T00:00:00+00:00\",\"2020-10-15T00:00:00+00:00\",\"2020-10-16T00:00:00+00:00\",\"2020-10-17T00:00:00+00:00\",\"2020-10-18T00:00:00+00:00\",\"2020-10-19T00:00:00+00:00\",\"2020-10-20T00:00:00+00:00\",\"2020-10-21T00:00:00+00:00\",\"2020-10-22T00:00:00+00:00\",\"2020-10-23T00:00:00+00:00\",\"2020-10-24T00:00:00+00:00\",\"2020-10-25T00:00:00+00:00\",\"2020-10-26T00:00:00+00:00\",\"2020-10-27T00:00:00+00:00\",\"2020-10-28T00:00:00+00:00\",\"2020-10-29T00:00:00+00:00\",\"2020-10-30T00:00:00+00:00\",\"2020-10-31T00:00:00+00:00\",\"2020-11-01T00:00:00+00:00\",\"2020-11-02T00:00:00+00:00\",\"2020-11-03T00:00:00+00:00\",\"2020-11-04T00:00:00+00:00\",\"2020-11-05T00:00:00+00:00\",\"2020-11-06T00:00:00+00:00\",\"2020-11-07T00:00:00+00:00\",\"2020-11-08T00:00:00+00:00\",\"2020-11-09T00:00:00+00:00\",\"2020-11-10T00:00:00+00:00\",\"2020-11-11T00:00:00+00:00\",\"2020-11-12T00:00:00+00:00\",\"2020-11-13T00:00:00+00:00\",\"2020-11-14T00:00:00+00:00\",\"2020-11-15T00:00:00+00:00\",\"2020-11-16T00:00:00+00:00\",\"2020-11-17T00:00:00+00:00\",\"2020-11-18T00:00:00+00:00\",\"2020-11-19T00:00:00+00:00\",\"2020-11-20T00:00:00+00:00\",\"2020-11-21T00:00:00+00:00\",\"2020-11-22T00:00:00+00:00\",\"2020-11-23T00:00:00+00:00\",\"2020-11-24T00:00:00+00:00\",\"2020-11-25T00:00:00+00:00\",\"2020-11-26T00:00:00+00:00\",\"2020-11-27T00:00:00+00:00\",\"2020-11-28T00:00:00+00:00\",\"2020-11-29T00:00:00+00:00\",\"2020-11-30T00:00:00+00:00\",\"2020-12-01T00:00:00+00:00\",\"2020-12-02T00:00:00+00:00\",\"2020-12-03T00:00:00+00:00\",\"2020-12-04T00:00:00+00:00\",\"2020-12-05T00:00:00+00:00\",\"2020-12-06T00:00:00+00:00\",\"2020-12-07T00:00:00+00:00\",\"2020-12-08T00:00:00+00:00\",\"2020-12-09T00:00:00+00:00\",\"2020-12-10T00:00:00+00:00\",\"2020-12-11T00:00:00+00:00\",\"2020-12-12T00:00:00+00:00\",\"2020-12-13T00:00:00+00:00\",\"2020-12-14T00:00:00+00:00\",\"2020-12-15T00:00:00+00:00\",\"2020-12-16T00:00:00+00:00\",\"2020-12-17T00:00:00+00:00\",\"2020-12-18T00:00:00+00:00\",\"2020-12-19T00:00:00+00:00\",\"2020-12-20T00:00:00+00:00\",\"2020-12-21T00:00:00+00:00\",\"2020-12-22T00:00:00+00:00\",\"2020-12-23T00:00:00+00:00\",\"2020-12-24T00:00:00+00:00\",\"2020-12-25T00:00:00+00:00\",\"2020-12-26T00:00:00+00:00\",\"2020-12-27T00:00:00+00:00\",\"2020-12-28T00:00:00+00:00\",\"2020-12-29T00:00:00+00:00\",\"2020-12-30T00:00:00+00:00\",\"2020-12-31T00:00:00+00:00\",\"2021-01-01T00:00:00+00:00\",\"2021-01-02T00:00:00+00:00\",\"2021-01-03T00:00:00+00:00\",\"2021-01-04T00:00:00+00:00\",\"2021-01-05T00:00:00+00:00\",\"2021-01-06T00:00:00+00:00\",\"2021-01-07T00:00:00+00:00\",\"2021-01-08T00:00:00+00:00\",\"2021-01-09T00:00:00+00:00\",\"2021-01-10T00:00:00+00:00\",\"2021-01-11T00:00:00+00:00\",\"2021-01-12T00:00:00+00:00\",\"2021-01-13T00:00:00+00:00\",\"2021-01-14T00:00:00+00:00\",\"2021-01-15T00:00:00+00:00\",\"2021-01-16T00:00:00+00:00\",\"2021-01-17T00:00:00+00:00\",\"2021-01-18T00:00:00+00:00\",\"2021-01-19T00:00:00+00:00\",\"2021-01-20T00:00:00+00:00\",\"2021-01-21T00:00:00+00:00\",\"2021-01-22T00:00:00+00:00\",\"2021-01-23T00:00:00+00:00\",\"2021-01-24T00:00:00+00:00\",\"2021-01-25T00:00:00+00:00\",\"2021-01-26T00:00:00+00:00\",\"2021-01-27T00:00:00+00:00\",\"2021-01-28T00:00:00+00:00\",\"2021-01-29T00:00:00+00:00\",\"2021-01-30T00:00:00+00:00\",\"2021-01-31T00:00:00+00:00\",\"2021-02-01T00:00:00+00:00\",\"2021-02-02T00:00:00+00:00\",\"2021-02-03T00:00:00+00:00\",\"2021-02-04T00:00:00+00:00\",\"2021-02-05T00:00:00+00:00\",\"2021-02-06T00:00:00+00:00\",\"2021-02-07T00:00:00+00:00\",\"2021-02-08T00:00:00+00:00\",\"2021-02-09T00:00:00+00:00\",\"2021-02-10T00:00:00+00:00\",\"2021-02-11T00:00:00+00:00\",\"2021-02-12T00:00:00+00:00\",\"2021-02-13T00:00:00+00:00\",\"2021-02-14T00:00:00+00:00\",\"2021-02-15T00:00:00+00:00\",\"2021-02-16T00:00:00+00:00\",\"2021-02-17T00:00:00+00:00\",\"2021-02-18T00:00:00+00:00\",\"2021-02-19T00:00:00+00:00\",\"2021-02-20T00:00:00+00:00\",\"2021-02-21T00:00:00+00:00\",\"2021-02-22T00:00:00+00:00\",\"2021-02-23T00:00:00+00:00\",\"2021-02-24T00:00:00+00:00\",\"2021-02-25T00:00:00+00:00\",\"2021-02-26T00:00:00+00:00\",\"2021-02-27T00:00:00+00:00\",\"2021-02-28T00:00:00+00:00\",\"2021-02-28T00:00:00+00:00\",\"2021-03-01T00:00:00+00:00\",\"2021-03-02T00:00:00+00:00\",\"2021-03-03T00:00:00+00:00\",\"2021-03-04T00:00:00+00:00\",\"2021-03-05T00:00:00+00:00\",\"2021-03-06T00:00:00+00:00\",\"2021-03-07T00:00:00+00:00\",\"2021-03-08T00:00:00+00:00\",\"2021-03-09T00:00:00+00:00\",\"2021-03-10T00:00:00+00:00\",\"2021-03-11T00:00:00+00:00\",\"2021-03-12T00:00:00+00:00\",\"2021-03-13T00:00:00+00:00\",\"2021-03-14T00:00:00+00:00\",\"2021-03-15T00:00:00+00:00\",\"2021-03-16T00:00:00+00:00\",\"2021-03-17T00:00:00+00:00\",\"2021-03-18T00:00:00+00:00\",\"2021-03-19T00:00:00+00:00\",\"2021-03-20T00:00:00+00:00\",\"2021-03-21T00:00:00+00:00\",\"2021-03-22T00:00:00+00:00\",\"2021-03-23T00:00:00+00:00\",\"2021-03-24T00:00:00+00:00\",\"2021-03-25T00:00:00+00:00\",\"2021-03-26T00:00:00+00:00\",\"2021-03-27T00:00:00+00:00\",\"2021-03-28T00:00:00+00:00\",\"2021-03-29T00:00:00+00:00\",\"2021-03-30T00:00:00+00:00\",\"2021-03-31T00:00:00+00:00\",\"2021-04-01T00:00:00+00:00\",\"2021-04-02T00:00:00+00:00\",\"2021-04-03T00:00:00+00:00\",\"2021-04-04T00:00:00+00:00\",\"2021-04-05T00:00:00+00:00\",\"2021-04-06T00:00:00+00:00\",\"2021-04-07T00:00:00+00:00\",\"2021-04-08T00:00:00+00:00\",\"2021-04-09T00:00:00+00:00\",\"2021-04-10T00:00:00+00:00\",\"2021-04-11T00:00:00+00:00\",\"2021-04-12T00:00:00+00:00\",\"2021-04-13T00:00:00+00:00\",\"2021-04-14T00:00:00+00:00\",\"2021-04-15T00:00:00+00:00\",\"2021-04-16T00:00:00+00:00\",\"2021-04-17T00:00:00+00:00\",\"2021-04-18T00:00:00+00:00\",\"2021-04-19T00:00:00+00:00\",\"2021-04-20T00:00:00+00:00\",\"2021-04-21T00:00:00+00:00\",\"2021-04-22T00:00:00+00:00\",\"2021-04-23T00:00:00+00:00\",\"2021-04-24T00:00:00+00:00\",\"2021-04-25T00:00:00+00:00\",\"2021-04-26T00:00:00+00:00\",\"2021-04-27T00:00:00+00:00\",\"2021-04-28T00:00:00+00:00\",\"2021-04-29T00:00:00+00:00\",\"2021-04-30T00:00:00+00:00\",\"2021-05-01T00:00:00+00:00\",\"2021-05-02T00:00:00+00:00\",\"2021-05-03T00:00:00+00:00\",\"2021-05-04T00:00:00+00:00\",\"2021-05-05T00:00:00+00:00\",\"2021-05-06T00:00:00+00:00\",\"2021-05-07T00:00:00+00:00\",\"2021-05-08T00:00:00+00:00\",\"2021-05-09T00:00:00+00:00\",\"2021-05-10T00:00:00+00:00\",\"2021-05-11T00:00:00+00:00\",\"2021-05-12T00:00:00+00:00\",\"2021-05-13T00:00:00+00:00\",\"2021-05-14T00:00:00+00:00\",\"2021-05-15T00:00:00+00:00\",\"2021-05-16T00:00:00+00:00\",\"2021-05-17T00:00:00+00:00\",\"2021-05-18T00:00:00+00:00\",\"2021-05-19T00:00:00+00:00\",\"2021-05-20T00:00:00+00:00\",\"2021-05-21T00:00:00+00:00\",\"2021-05-22T00:00:00+00:00\",\"2021-05-23T00:00:00+00:00\",\"2021-05-24T00:00:00+00:00\",\"2021-05-25T00:00:00+00:00\",\"2021-05-26T00:00:00+00:00\",\"2021-05-27T00:00:00+00:00\",\"2021-05-28T00:00:00+00:00\",\"2021-05-29T00:00:00+00:00\",\"2021-05-30T00:00:00+00:00\",\"2021-05-31T00:00:00+00:00\",\"2021-06-01T00:00:00+00:00\",\"2021-06-02T00:00:00+00:00\",\"2021-06-03T00:00:00+00:00\",\"2021-06-04T00:00:00+00:00\",\"2021-06-05T00:00:00+00:00\",\"2021-06-06T00:00:00+00:00\",\"2021-06-07T00:00:00+00:00\",\"2021-06-08T00:00:00+00:00\",\"2021-06-09T00:00:00+00:00\",\"2021-06-10T00:00:00+00:00\",\"2021-06-11T00:00:00+00:00\",\"2021-06-12T00:00:00+00:00\",\"2021-06-13T00:00:00+00:00\",\"2021-06-14T00:00:00+00:00\",\"2021-06-15T00:00:00+00:00\",\"2021-06-16T00:00:00+00:00\",\"2021-06-17T00:00:00+00:00\",\"2021-06-18T00:00:00+00:00\",\"2021-06-19T00:00:00+00:00\",\"2021-06-20T00:00:00+00:00\",\"2021-06-21T00:00:00+00:00\",\"2021-06-22T00:00:00+00:00\",\"2021-06-23T00:00:00+00:00\",\"2021-06-24T00:00:00+00:00\",\"2021-06-25T00:00:00+00:00\",\"2021-06-26T00:00:00+00:00\",\"2021-06-27T00:00:00+00:00\",\"2021-06-28T00:00:00+00:00\",\"2021-06-29T00:00:00+00:00\",\"2021-06-30T00:00:00+00:00\",\"2021-07-01T00:00:00+00:00\",\"2021-07-02T00:00:00+00:00\",\"2021-07-03T00:00:00+00:00\",\"2021-07-04T00:00:00+00:00\",\"2021-07-05T00:00:00+00:00\",\"2021-07-06T00:00:00+00:00\",\"2021-07-07T00:00:00+00:00\",\"2021-07-08T00:00:00+00:00\",\"2021-07-09T00:00:00+00:00\",\"2021-07-10T00:00:00+00:00\",\"2021-07-11T00:00:00+00:00\",\"2021-07-12T00:00:00+00:00\",\"2021-07-13T00:00:00+00:00\",\"2021-07-14T00:00:00+00:00\",\"2021-07-15T00:00:00+00:00\",\"2021-07-16T00:00:00+00:00\",\"2021-07-17T00:00:00+00:00\",\"2021-07-18T00:00:00+00:00\",\"2021-07-19T00:00:00+00:00\",\"2021-07-20T00:00:00+00:00\",\"2021-07-21T00:00:00+00:00\",\"2021-07-22T00:00:00+00:00\",\"2021-07-23T00:00:00+00:00\",\"2021-07-24T00:00:00+00:00\",\"2021-07-25T00:00:00+00:00\",\"2021-07-26T00:00:00+00:00\",\"2021-07-27T00:00:00+00:00\",\"2021-07-28T00:00:00+00:00\",\"2021-07-29T00:00:00+00:00\",\"2021-07-30T00:00:00+00:00\",\"2021-07-31T00:00:00+00:00\",\"2021-08-01T00:00:00+00:00\",\"2021-08-02T00:00:00+00:00\",\"2021-08-03T00:00:00+00:00\",\"2021-08-04T00:00:00+00:00\",\"2021-08-05T00:00:00+00:00\",\"2021-08-06T00:00:00+00:00\",\"2021-08-07T00:00:00+00:00\",\"2021-08-08T00:00:00+00:00\",\"2021-08-09T00:00:00+00:00\",\"2021-08-10T00:00:00+00:00\",\"2021-08-11T00:00:00+00:00\",\"2021-08-12T00:00:00+00:00\",\"2021-08-13T00:00:00+00:00\",\"2021-08-14T00:00:00+00:00\",\"2021-08-15T00:00:00+00:00\",\"2021-08-16T00:00:00+00:00\",\"2021-08-17T00:00:00+00:00\",\"2021-08-18T00:00:00+00:00\",\"2021-08-19T00:00:00+00:00\",\"2021-08-20T00:00:00+00:00\",\"2021-08-21T00:00:00+00:00\",\"2021-08-22T00:00:00+00:00\",\"2021-08-23T00:00:00+00:00\",\"2021-08-24T00:00:00+00:00\",\"2021-08-25T00:00:00+00:00\",\"2021-08-26T00:00:00+00:00\",\"2021-08-27T00:00:00+00:00\",\"2021-08-28T00:00:00+00:00\",\"2021-08-29T00:00:00+00:00\",\"2021-08-30T00:00:00+00:00\",\"2021-08-31T00:00:00+00:00\",\"2021-09-01T00:00:00+00:00\",\"2021-09-02T00:00:00+00:00\",\"2021-09-03T00:00:00+00:00\",\"2021-09-04T00:00:00+00:00\",\"2021-09-05T00:00:00+00:00\",\"2021-09-06T00:00:00+00:00\",\"2021-09-07T00:00:00+00:00\",\"2021-09-08T00:00:00+00:00\",\"2021-09-09T00:00:00+00:00\",\"2021-09-10T00:00:00+00:00\",\"2021-09-11T00:00:00+00:00\",\"2021-09-12T00:00:00+00:00\",\"2021-09-13T00:00:00+00:00\",\"2021-09-14T00:00:00+00:00\",\"2021-09-15T00:00:00+00:00\",\"2021-09-16T00:00:00+00:00\",\"2021-09-17T00:00:00+00:00\",\"2021-09-18T00:00:00+00:00\",\"2021-09-19T00:00:00+00:00\",\"2021-09-20T00:00:00+00:00\",\"2021-09-21T00:00:00+00:00\",\"2021-09-22T00:00:00+00:00\",\"2021-09-23T00:00:00+00:00\",\"2021-09-24T00:00:00+00:00\",\"2021-09-25T00:00:00+00:00\",\"2021-09-26T00:00:00+00:00\",\"2021-09-27T00:00:00+00:00\",\"2021-09-28T00:00:00+00:00\",\"2021-09-29T00:00:00+00:00\",\"2021-09-30T00:00:00+00:00\",\"2021-10-01T00:00:00+00:00\",\"2021-10-02T00:00:00+00:00\",\"2021-10-03T00:00:00+00:00\",\"2021-10-04T00:00:00+00:00\",\"2021-10-05T00:00:00+00:00\",\"2021-10-06T00:00:00+00:00\",\"2021-10-07T00:00:00+00:00\",\"2021-10-08T00:00:00+00:00\",\"2021-10-09T00:00:00+00:00\",\"2021-10-10T00:00:00+00:00\",\"2021-10-11T00:00:00+00:00\",\"2021-10-12T00:00:00+00:00\",\"2021-10-13T00:00:00+00:00\",\"2021-10-14T00:00:00+00:00\",\"2021-10-15T00:00:00+00:00\",\"2021-10-16T00:00:00+00:00\",\"2021-10-17T00:00:00+00:00\",\"2021-10-18T00:00:00+00:00\",\"2021-10-19T00:00:00+00:00\",\"2021-10-20T00:00:00+00:00\",\"2021-10-21T00:00:00+00:00\",\"2021-10-22T00:00:00+00:00\",\"2021-10-23T00:00:00+00:00\",\"2021-10-24T00:00:00+00:00\",\"2021-10-25T00:00:00+00:00\",\"2021-10-26T00:00:00+00:00\",\"2021-10-27T00:00:00+00:00\",\"2021-10-28T00:00:00+00:00\",\"2021-10-29T00:00:00+00:00\",\"2021-10-30T00:00:00+00:00\",\"2021-10-31T00:00:00+00:00\",\"2021-11-01T00:00:00+00:00\",\"2021-11-02T00:00:00+00:00\",\"2021-11-03T00:00:00+00:00\",\"2021-11-04T00:00:00+00:00\",\"2021-11-05T00:00:00+00:00\",\"2021-11-06T00:00:00+00:00\",\"2021-11-07T00:00:00+00:00\",\"2021-11-08T00:00:00+00:00\",\"2021-11-09T00:00:00+00:00\",\"2021-11-10T00:00:00+00:00\",\"2021-11-11T00:00:00+00:00\",\"2021-11-12T00:00:00+00:00\",\"2021-11-13T00:00:00+00:00\",\"2021-11-14T00:00:00+00:00\",\"2021-11-15T00:00:00+00:00\",\"2021-11-16T00:00:00+00:00\",\"2021-11-17T00:00:00+00:00\",\"2021-11-18T00:00:00+00:00\",\"2021-11-19T00:00:00+00:00\",\"2021-11-20T00:00:00+00:00\",\"2021-11-21T00:00:00+00:00\",\"2021-11-22T00:00:00+00:00\",\"2021-11-23T00:00:00+00:00\",\"2021-11-24T00:00:00+00:00\",\"2021-11-25T00:00:00+00:00\",\"2021-11-26T00:00:00+00:00\",\"2021-11-27T00:00:00+00:00\",\"2021-11-28T00:00:00+00:00\",\"2021-11-29T00:00:00+00:00\",\"2021-11-30T00:00:00+00:00\",\"2021-12-01T00:00:00+00:00\",\"2021-12-02T00:00:00+00:00\",\"2021-12-03T00:00:00+00:00\",\"2021-12-04T00:00:00+00:00\",\"2021-12-05T00:00:00+00:00\",\"2021-12-06T00:00:00+00:00\",\"2021-12-07T00:00:00+00:00\",\"2021-12-08T00:00:00+00:00\",\"2021-12-09T00:00:00+00:00\",\"2021-12-10T00:00:00+00:00\",\"2021-12-11T00:00:00+00:00\",\"2021-12-12T00:00:00+00:00\",\"2021-12-13T00:00:00+00:00\",\"2021-12-14T00:00:00+00:00\",\"2021-12-15T00:00:00+00:00\",\"2021-12-16T00:00:00+00:00\",\"2021-12-17T00:00:00+00:00\",\"2021-12-18T00:00:00+00:00\",\"2021-12-19T00:00:00+00:00\",\"2021-12-20T00:00:00+00:00\",\"2021-12-21T00:00:00+00:00\",\"2021-12-22T00:00:00+00:00\",\"2021-12-23T00:00:00+00:00\",\"2021-12-24T00:00:00+00:00\",\"2021-12-25T00:00:00+00:00\",\"2021-12-26T00:00:00+00:00\",\"2021-12-27T00:00:00+00:00\",\"2021-12-28T00:00:00+00:00\",\"2021-12-29T00:00:00+00:00\",\"2021-12-30T00:00:00+00:00\",\"2021-12-31T00:00:00+00:00\",\"2022-01-01T00:00:00+00:00\",\"2022-01-02T00:00:00+00:00\",\"2022-01-03T00:00:00+00:00\",\"2022-01-04T00:00:00+00:00\",\"2022-01-05T00:00:00+00:00\",\"2022-01-06T00:00:00+00:00\",\"2022-01-07T00:00:00+00:00\",\"2022-01-08T00:00:00+00:00\",\"2022-01-09T00:00:00+00:00\",\"2022-01-10T00:00:00+00:00\",\"2022-01-11T00:00:00+00:00\",\"2022-01-12T00:00:00+00:00\",\"2022-01-13T00:00:00+00:00\",\"2022-01-14T00:00:00+00:00\",\"2022-01-15T00:00:00+00:00\",\"2022-01-16T00:00:00+00:00\",\"2022-01-17T00:00:00+00:00\",\"2022-01-18T00:00:00+00:00\",\"2022-01-19T00:00:00+00:00\",\"2022-01-20T00:00:00+00:00\",\"2022-01-21T00:00:00+00:00\",\"2022-01-22T00:00:00+00:00\",\"2022-01-23T00:00:00+00:00\",\"2022-01-24T00:00:00+00:00\",\"2022-01-25T00:00:00+00:00\",\"2022-01-26T00:00:00+00:00\",\"2022-01-27T00:00:00+00:00\",\"2022-01-28T00:00:00+00:00\",\"2022-01-29T00:00:00+00:00\",\"2022-01-30T00:00:00+00:00\",\"2022-01-31T00:00:00+00:00\",\"2022-02-01T00:00:00+00:00\",\"2022-02-02T00:00:00+00:00\",\"2022-02-03T00:00:00+00:00\",\"2022-02-04T00:00:00+00:00\",\"2022-02-05T00:00:00+00:00\",\"2022-02-06T00:00:00+00:00\",\"2022-02-07T00:00:00+00:00\",\"2022-02-08T00:00:00+00:00\",\"2022-02-09T00:00:00+00:00\",\"2022-02-10T00:00:00+00:00\",\"2022-02-11T00:00:00+00:00\",\"2022-02-12T00:00:00+00:00\",\"2022-02-13T00:00:00+00:00\",\"2022-02-14T00:00:00+00:00\",\"2022-02-15T00:00:00+00:00\",\"2022-02-16T00:00:00+00:00\",\"2022-02-17T00:00:00+00:00\",\"2022-02-18T00:00:00+00:00\",\"2022-02-19T00:00:00+00:00\",\"2022-02-20T00:00:00+00:00\",\"2022-02-21T00:00:00+00:00\",\"2022-02-22T00:00:00+00:00\",\"2022-02-23T00:00:00+00:00\",\"2022-02-24T00:00:00+00:00\",\"2022-02-25T00:00:00+00:00\",\"2022-02-26T00:00:00+00:00\",\"2022-02-27T00:00:00+00:00\",\"2022-02-28T00:00:00+00:00\",\"2022-03-01T00:00:00+00:00\",\"2022-03-02T00:00:00+00:00\",\"2022-03-03T00:00:00+00:00\",\"2022-03-04T00:00:00+00:00\",\"2022-03-05T00:00:00+00:00\",\"2022-03-06T00:00:00+00:00\",\"2022-03-07T00:00:00+00:00\",\"2022-03-08T00:00:00+00:00\",\"2022-03-09T00:00:00+00:00\",\"2022-03-10T00:00:00+00:00\",\"2022-03-11T00:00:00+00:00\",\"2022-03-12T00:00:00+00:00\",\"2022-03-13T00:00:00+00:00\",\"2022-03-14T00:00:00+00:00\",\"2022-03-15T00:00:00+00:00\",\"2022-03-16T00:00:00+00:00\",\"2022-03-17T00:00:00+00:00\",\"2022-03-18T00:00:00+00:00\",\"2022-03-19T00:00:00+00:00\",\"2022-03-20T00:00:00+00:00\",\"2022-03-21T00:00:00+00:00\",\"2022-03-22T00:00:00+00:00\",\"2022-03-23T00:00:00+00:00\",\"2022-03-24T00:00:00+00:00\",\"2022-03-25T00:00:00+00:00\",\"2022-03-26T00:00:00+00:00\",\"2022-03-27T00:00:00+00:00\",\"2022-03-28T00:00:00+00:00\",\"2022-03-29T00:00:00+00:00\",\"2022-03-30T00:00:00+00:00\",\"2022-03-31T00:00:00+00:00\",\"2022-04-01T00:00:00+00:00\",\"2022-04-02T00:00:00+00:00\",\"2022-04-03T00:00:00+00:00\",\"2022-04-04T00:00:00+00:00\",\"2022-04-05T00:00:00+00:00\",\"2022-04-06T00:00:00+00:00\",\"2022-04-07T00:00:00+00:00\",\"2022-04-08T00:00:00+00:00\",\"2022-04-09T00:00:00+00:00\",\"2022-04-10T00:00:00+00:00\",\"2022-04-11T00:00:00+00:00\",\"2022-04-12T00:00:00+00:00\",\"2022-04-13T00:00:00+00:00\",\"2022-04-14T00:00:00+00:00\",\"2022-04-15T00:00:00+00:00\",\"2022-04-16T00:00:00+00:00\",\"2022-04-17T00:00:00+00:00\",\"2022-04-18T00:00:00+00:00\",\"2022-04-19T00:00:00+00:00\",\"2022-04-20T00:00:00+00:00\",\"2022-04-21T00:00:00+00:00\",\"2022-04-22T00:00:00+00:00\",\"2022-04-23T00:00:00+00:00\",\"2022-04-24T00:00:00+00:00\",\"2022-04-25T00:00:00+00:00\",\"2022-04-26T00:00:00+00:00\",\"2022-04-27T00:00:00+00:00\",\"2022-04-28T00:00:00+00:00\",\"2022-04-29T00:00:00+00:00\",\"2022-04-30T00:00:00+00:00\",\"2022-05-01T00:00:00+00:00\",\"2022-05-02T00:00:00+00:00\",\"2022-05-03T00:00:00+00:00\",\"2022-05-04T00:00:00+00:00\",\"2022-05-05T00:00:00+00:00\",\"2022-05-06T00:00:00+00:00\",\"2022-05-07T00:00:00+00:00\",\"2022-05-08T00:00:00+00:00\",\"2022-05-09T00:00:00+00:00\",\"2022-05-10T00:00:00+00:00\",\"2022-05-11T00:00:00+00:00\",\"2022-05-12T00:00:00+00:00\",\"2022-05-13T00:00:00+00:00\",\"2022-05-14T00:00:00+00:00\",\"2022-05-15T00:00:00+00:00\",\"2022-05-16T00:00:00+00:00\",\"2022-05-17T00:00:00+00:00\",\"2022-05-18T00:00:00+00:00\",\"2022-05-19T00:00:00+00:00\",\"2022-05-20T00:00:00+00:00\",\"2022-05-21T00:00:00+00:00\",\"2022-05-22T00:00:00+00:00\",\"2022-05-23T00:00:00+00:00\",\"2022-05-24T00:00:00+00:00\",\"2022-05-25T00:00:00+00:00\",\"2022-05-26T00:00:00+00:00\",\"2022-05-27T00:00:00+00:00\",\"2022-05-28T00:00:00+00:00\",\"2022-05-29T00:00:00+00:00\",\"2022-05-30T00:00:00+00:00\",\"2022-05-31T00:00:00+00:00\",\"2022-06-01T00:00:00+00:00\",\"2022-06-02T00:00:00+00:00\",\"2022-06-03T00:00:00+00:00\",\"2022-06-04T00:00:00+00:00\",\"2022-06-05T00:00:00+00:00\",\"2022-06-06T00:00:00+00:00\",\"2022-06-07T00:00:00+00:00\",\"2022-06-08T00:00:00+00:00\",\"2022-06-09T00:00:00+00:00\",\"2022-06-10T00:00:00+00:00\",\"2022-06-11T00:00:00+00:00\",\"2022-06-12T00:00:00+00:00\",\"2022-06-13T00:00:00+00:00\",\"2022-06-14T00:00:00+00:00\",\"2022-06-15T00:00:00+00:00\",\"2022-06-16T00:00:00+00:00\",\"2022-06-17T00:00:00+00:00\",\"2022-06-18T00:00:00+00:00\",\"2022-06-19T00:00:00+00:00\",\"2022-06-20T00:00:00+00:00\",\"2022-06-21T00:00:00+00:00\",\"2022-06-22T00:00:00+00:00\",\"2022-06-23T00:00:00+00:00\",\"2022-06-24T00:00:00+00:00\",\"2022-06-25T00:00:00+00:00\",\"2022-06-26T00:00:00+00:00\",\"2022-06-27T00:00:00+00:00\",\"2022-06-28T00:00:00+00:00\",\"2022-06-29T00:00:00+00:00\",\"2022-06-30T00:00:00+00:00\",\"2022-07-01T00:00:00+00:00\",\"2022-07-02T00:00:00+00:00\",\"2022-07-03T00:00:00+00:00\",\"2022-07-04T00:00:00+00:00\",\"2022-07-05T00:00:00+00:00\",\"2022-07-06T00:00:00+00:00\",\"2022-07-07T00:00:00+00:00\",\"2022-07-08T00:00:00+00:00\",\"2022-07-09T00:00:00+00:00\",\"2022-07-10T00:00:00+00:00\",\"2022-07-11T00:00:00+00:00\",\"2022-07-12T00:00:00+00:00\",\"2022-07-13T00:00:00+00:00\",\"2022-07-14T00:00:00+00:00\",\"2022-07-15T00:00:00+00:00\",\"2022-07-16T00:00:00+00:00\",\"2022-07-17T00:00:00+00:00\",\"2022-07-18T00:00:00+00:00\",\"2022-07-19T00:00:00+00:00\",\"2022-07-20T00:00:00+00:00\",\"2022-07-21T00:00:00+00:00\",\"2022-07-22T00:00:00+00:00\",\"2022-07-23T00:00:00+00:00\",\"2022-07-24T00:00:00+00:00\",\"2022-07-25T00:00:00+00:00\",\"2022-07-26T00:00:00+00:00\",\"2022-07-27T00:00:00+00:00\",\"2022-07-28T00:00:00+00:00\",\"2022-07-29T00:00:00+00:00\",\"2022-07-30T00:00:00+00:00\",\"2022-07-31T00:00:00+00:00\",\"2022-08-01T00:00:00+00:00\",\"2022-08-02T00:00:00+00:00\",\"2022-08-03T00:00:00+00:00\",\"2022-08-04T00:00:00+00:00\",\"2022-08-05T00:00:00+00:00\",\"2022-08-06T00:00:00+00:00\",\"2022-08-07T00:00:00+00:00\",\"2022-08-08T00:00:00+00:00\",\"2022-08-09T00:00:00+00:00\",\"2022-08-10T00:00:00+00:00\",\"2022-08-11T00:00:00+00:00\",\"2022-08-12T00:00:00+00:00\",\"2022-08-13T00:00:00+00:00\",\"2022-08-14T00:00:00+00:00\",\"2022-08-15T00:00:00+00:00\",\"2022-08-16T00:00:00+00:00\",\"2022-08-17T00:00:00+00:00\",\"2022-08-18T00:00:00+00:00\",\"2022-08-19T00:00:00+00:00\",\"2022-08-20T00:00:00+00:00\",\"2022-08-21T00:00:00+00:00\",\"2022-08-22T00:00:00+00:00\",\"2022-08-23T00:00:00+00:00\",\"2022-08-24T00:00:00+00:00\",\"2022-08-25T00:00:00+00:00\",\"2022-08-26T00:00:00+00:00\",\"2022-08-27T00:00:00+00:00\",\"2022-08-28T00:00:00+00:00\",\"2022-08-29T00:00:00+00:00\",\"2022-08-30T00:00:00+00:00\",\"2022-08-31T00:00:00+00:00\",\"2022-09-01T00:00:00+00:00\",\"2022-09-02T00:00:00+00:00\",\"2022-09-03T00:00:00+00:00\",\"2022-09-04T00:00:00+00:00\",\"2022-09-05T00:00:00+00:00\",\"2022-09-06T00:00:00+00:00\",\"2022-09-07T00:00:00+00:00\",\"2022-09-08T00:00:00+00:00\",\"2022-09-09T00:00:00+00:00\",\"2022-09-10T00:00:00+00:00\",\"2022-09-11T00:00:00+00:00\",\"2022-09-12T00:00:00+00:00\",\"2022-09-13T00:00:00+00:00\",\"2022-09-14T00:00:00+00:00\",\"2022-09-15T00:00:00+00:00\",\"2022-09-16T00:00:00+00:00\",\"2022-09-17T00:00:00+00:00\",\"2022-09-18T00:00:00+00:00\",\"2022-09-19T00:00:00+00:00\",\"2022-09-20T00:00:00+00:00\",\"2022-09-21T00:00:00+00:00\",\"2022-09-22T00:00:00+00:00\",\"2022-09-23T00:00:00+00:00\",\"2022-09-24T00:00:00+00:00\",\"2022-09-25T00:00:00+00:00\",\"2022-09-26T00:00:00+00:00\",\"2022-09-27T00:00:00+00:00\",\"2022-09-28T00:00:00+00:00\",\"2022-09-29T00:00:00+00:00\",\"2022-09-30T00:00:00+00:00\",\"2022-10-01T00:00:00+00:00\",\"2022-10-02T00:00:00+00:00\",\"2022-10-03T00:00:00+00:00\",\"2022-10-04T00:00:00+00:00\",\"2022-10-05T00:00:00+00:00\",\"2022-10-06T00:00:00+00:00\",\"2022-10-07T00:00:00+00:00\",\"2022-10-08T00:00:00+00:00\",\"2022-10-09T00:00:00+00:00\",\"2022-10-10T00:00:00+00:00\",\"2022-10-11T00:00:00+00:00\",\"2022-10-12T00:00:00+00:00\",\"2022-10-13T00:00:00+00:00\",\"2022-10-14T00:00:00+00:00\",\"2022-10-15T00:00:00+00:00\",\"2022-10-16T00:00:00+00:00\",\"2022-10-17T00:00:00+00:00\",\"2022-10-18T00:00:00+00:00\",\"2022-10-19T00:00:00+00:00\",\"2022-10-20T00:00:00+00:00\",\"2022-10-21T00:00:00+00:00\",\"2022-10-22T00:00:00+00:00\",\"2022-10-23T00:00:00+00:00\",\"2022-10-24T00:00:00+00:00\",\"2022-10-25T00:00:00+00:00\",\"2022-10-26T00:00:00+00:00\",\"2022-10-27T00:00:00+00:00\",\"2022-10-28T00:00:00+00:00\",\"2022-10-29T00:00:00+00:00\",\"2022-10-30T00:00:00+00:00\",\"2022-10-31T00:00:00+00:00\",\"2022-11-01T00:00:00+00:00\",\"2022-11-02T00:00:00+00:00\",\"2022-11-03T00:00:00+00:00\",\"2022-11-04T00:00:00+00:00\",\"2022-11-05T00:00:00+00:00\",\"2022-11-06T00:00:00+00:00\",\"2022-11-07T00:00:00+00:00\"],\"xaxis\":\"x\",\"y\":[0.7628508476242223,0.7723551408530503,0.7806563103276737,0.789357651028822,0.7964261599133423,0.8026304456928024,0.8077963796509595,0.8137862170031458,0.8198548224291506,0.8259465871763264,0.8318454583914169,0.8369054280210558,0.8415804735366844,0.8479777450497388,0.8541092035374691,0.8595627666614802,0.8638532008494205,0.8675554950959903,0.8716489352121968,0.8754903283133821,0.8798890914304599,0.8840881224379458,0.8872068494321379,0.8902498495737678,0.8923746614631348,0.8944116322722461,0.8961925811996307,0.898176232350889,0.900054858351966,0.9021792637435675,0.904279108865793,0.9066146728910754,0.9088107525293508,0.9114916764155966,0.9143266362220782,0.9178497952638371,0.9219208844376731,0.9262749981624925,0.9310446392232744,0.9356603407073069,0.9402411912776432,0.9442395383718079,0.947884515912987,0.9513165561560845,0.9537774279131814,0.956116087507482,0.958327095610999,0.9606391279881407,0.9633957092334332,0.9665822868905779,0.9700382408363014,0.9735039067159076,0.9769605182071818,0.9801631458410964,0.9831808974925038,0.9858901142482139,0.9883679961841136,0.9912040763284788,0.9934634641406161,0.9957476106571431,0.9976925079255973,0.9997518317182025,1.001346714293812,1.0028849990788329,1.0045357290478205,1.005798049825362,1.0075065416169962,1.0097493520376262,1.0116399174766066,1.0136492515899558,1.0157102906275637,1.0183609776344404,1.0209128705694859,1.0237478048933706,1.0266112110182248,1.028867648246243,1.0305845457455751,1.0320419514545123,1.0328104055503247,1.0334311617259029,1.0361018624667573,1.0390610044770794,1.0429744096257008,1.0473523646945588,1.0519921521547173,1.056840723587654,1.0635195538820685,1.0674002461737369,1.0706215016940699,1.0731806846376595,1.0751031644104816,1.0768720715096296,1.0818759212868123,1.0858540701825299,1.0881868456706154,1.0905004449395765,1.0920834151533267,1.094378562445839,1.0966100971571175,1.1036781882063926,1.1080641941394018,1.110160269860366,1.111305485557507,1.1094313524869344,1.107813308710264,1.1064984751171576,1.1061242030806033,1.1062990295928627,1.1075375103721832,1.1090355132435512,1.1108376862133333,1.1126014195111866,1.1142755493073606,1.1161104439738225,1.1181382267627806,1.1187428660675984,1.1195768573344742,1.120579497249557,1.1224169621414168,1.123575441746674,1.1242853159639348,1.1251990988316065,1.1248758508111507,1.1250644269822696,1.1280340946584035,1.1281640986770043,1.129283090053314,1.1302570482774152,1.1295743582732058,1.1303577235360005,1.130472224450756,1.1303901278248074,1.1295647179544834,1.1282815371167847,1.1262714723297635,1.1232733400483126,1.1199444126921194,1.116908591953113,1.1145499805473367,1.1116235140138249,1.108665038515675,1.1058844916792596,1.1033671982922986,1.0998178917513022,1.096423086923775,1.0933368610146694,1.0900606648895013,1.0865637261223426,1.0832830466165975,1.0806643494146186,1.078169224765754,1.0753759003837209,1.073428108656643,1.0722968411625124,1.0711853207506787,1.0688019678674903,1.0654692562872963,1.0632840728618616,1.0612250635403393,1.0596121179227136,1.0578314613091577,1.0563705609775313,1.0548922064583486,1.052962296955418,1.0506907985924103,1.048040186439611,1.0448887289589583,1.0418599229131644,1.0386623929530243,1.0349308193150883,1.0306810791377499,1.025399821255986,1.0226442227232644,1.0203233340545301,1.0181380980129442,1.0164466074660503,1.0146710473399756,1.0123336626382602,1.0098675573540414,1.0074168767675078,1.0054315701711507,1.0041710274104276,1.0028190376188255,1.0012954794299556,0.9993595644531069,0.9979370775416739,0.9961636541383869,0.9934618731871898,0.9915345195565004,0.9899873199089659,0.988282842505385,0.9865857259873945,0.9855701099066323,0.9850415299145137,0.985449646629987,0.9852181237436103,0.98476045753067,0.9842087555707157,0.9832779839852267,0.9819395572992792,0.9800384164727555,0.9784906565445475,0.9772145016683723,0.9760430188255838,0.9749055494426051,0.9746330822779941,0.9743926567009358,0.9753589224970717,0.9765872591786111,0.9785795623100181,0.9804798198021788,0.9824199620735967,0.9842961710806257,0.987271472468222,0.9896365448155098,0.9915707277060374,0.9929668087339109,0.9941124724234915,0.9954641023899908,0.9971453323585115,0.9980743313012622,0.9987469552589098,0.9991667084959167,0.9985512076522283,0.9979372063553009,0.9974284204586733,0.9971307877777037,0.9966792554099358,0.9960187965721163,0.9952510596794546,0.9944726948671077,0.993669268021031,0.9927913667217645,0.9919624124420469,0.9911163314257228,0.9898221845123035,0.9885197698263697,0.9871215544042158,0.9858926329897552,0.9849110029566354,0.9839920831402581,0.9824424705793219,0.9800663690619923,0.9770592176192776,0.9740136650080687,0.9703361492212361,0.9663121371762727,0.962422445176072,0.9578217288000114,0.9537048467131278,0.9490441043212708,0.9445879013604829,0.9402246739938983,0.9355570885949761,0.9311536766985017,0.9262705046637301,0.9219269241907131,0.917989654238851,0.913220930022643,0.9084002768684276,0.9032721089965577,0.8985014330832216,0.8937259985506597,0.8876470828658646,0.8798656802105354,0.8714526724084576,0.863054265622297,0.8537889012254561,0.8449282534166388,0.8366044700580264,0.8278725077274761,0.8216661952863487,0.8149848741344693,0.808339095826571,0.8029762668803369,0.7969949205841542,0.792581088648443,0.7874725045514694,0.7826840076200505,0.7766000068945853,0.7718891013255685,0.7671833418334413,0.7616664202458082,0.7549959789498434,0.748627096992356,0.7437207084000974,0.7386109998380868,0.7334956326302223,0.7278320465410618,0.7229344777318825,0.717265304121995,0.7105463221075087,0.703936291131926,0.6975466951050586,0.6910239604330102,0.684619954210174,0.6800275597840486,0.6761339707944513,0.6724462085505634,0.6700907265369147,0.6675369971667638,0.6648443285040179,0.6614204891819284,0.6582498307346707,0.6556439118389535,0.6530411584562272,0.6503296154995202,0.6478781424612963,0.6458179875424074,0.6436410713418321,0.6431465448941651,0.642824147060617,0.6429643326051236,0.6420363990708632,0.6416748182500737,0.641560571862394,0.6427887164012593,0.6443722986888946,0.645559670442529,0.6476459862140093,0.6491668899618205,0.6500701263473875,0.6509507814541247,0.6519629126609886,0.6539493008453584,0.6547606815831913,0.654723096687024,0.6549123559622341,0.6554131926669985,0.6558869098735255,0.6563287892764303,0.655448086182033,0.6534608219193421,0.6502018616663967,0.6467570298568539,0.643746230556299,0.6401046959199478,0.6371380128530452,0.6339562427407976,0.6319624695344285,0.6301497033098497,0.6294410989860562,0.6279109067320148,0.6232133780218376,0.6172196172397126,0.6126120134032046,0.6083395680807407,0.603049504771999,0.5967063399698732,0.5884439631041268,0.5814874353305052,0.5754623891693389,0.5706005083204115,0.5646628713794385,0.5578914135182291,0.5540394541816065,0.5515039586757944,0.5495281473107254,0.5495409281223081,0.5487250755423981,0.5490345170857457,0.5500866414027311,0.550444223230849,0.550155792492813,0.5492779279500049,0.5485405849823142,0.5506932987246536,0.5528483680570628,0.5529810782173316,0.5535159896661783,0.5527794347555756,0.5511361310969037,0.5490955956167684,0.5484310337411239,0.5468163431507723,0.5448483820420984,0.54332144754409,0.5418303914414685,0.5408860338278377,0.539094165098054,0.5373375222677449,0.5358557651002985,0.5344684758029269,0.5331916690597939,0.5321865265054637,0.5312569312057606,0.5310348069895332,0.5308477774093385,0.5297956416470154,0.5283206583724125,0.5270170299417424,0.5258105396200351,0.5249367784181215,0.5244459636175229,0.5242359678782036,0.5238293684956637,0.5242851715884623,0.5246570128667446,0.5249293059785507,0.5251091029168946,0.5252927831846639,0.5247522593341668,0.5238300249744705,0.5220793177352449,0.5196478482535798,0.5179753462636021,0.5167077949624587,0.5177635700584239,0.5194651936260584,0.5212047739832176,0.5226396846796932,0.5241737567438395,0.5260505382955346,0.5279870499032305,0.5300151135705808,0.5328362246627465,0.5368715673711099,0.5398752886526553,0.5430809474637791,0.5456366420791677,0.5480821698043026,0.549592599040676,0.5508406603959771,0.5530941190135743,0.555854496658686,0.559713626366032,0.5629905694371843,0.5666083107068453,0.568745791745823,0.5709689526805206,0.5737628832400798,0.5782123389505973,0.5813272073054527,0.5842241625628064,0.5879950843158784,0.5909354004569253,0.5943612628576554,0.5967864130826832,0.5984982382323396,0.599712899351855,0.6007053230159326,0.6014755249867295,0.6016529702689742,0.6017132520958967,0.6014746934212171,0.6018447688910541,0.6021577065529222,0.6025206223459738,0.6027811454386794,0.6030399984635798,0.6036782225588772,0.6065278519603922,0.609559118182827,0.6123583034272206,0.614931024481786,0.6179133160284921,0.6187304016883087,0.6207504512686354,0.6228275101034125,0.625769263091325,0.6277553784270424,0.6297448432559702,0.6325007118482263,0.6346977239113893,0.6376583740372547,0.6401294456146535,0.6426379221452887,0.6444802355063716,0.64597359292606,0.6471068372949142,0.6484975643770613,0.6498036284588562,0.6502024558679089,0.6505763052490645,0.6501426975517429,0.6508319208859861,0.6512708010781283,0.6512122829295077,0.6511788799695964,0.6518258304076705,0.6524894409911295,0.653261534877776,0.6538341471261527,0.6546624314105947,0.6554879896209672,0.6564048530457702,0.6573027184357938,0.6580462636733498,0.6591524113170082,0.660627574034666,0.6614239859338302,0.6624995959525299,0.6626104494163132,0.6618257904031256,0.6593395034687999,0.6554189265499828,0.6515745786670265,0.6472531299701223,0.6443451665674805,0.641019124828628,0.6395912462637354,0.6375416742627654,0.6364808696190474,0.6353671773950325,0.6344421052700122,0.6330610448784383,0.6313417702654829,0.6287597452684686,0.6262493371830987,0.6246422701997747,0.6234892136550718,0.6219982049394592,0.6212783640174075,0.6207385197408662,0.6224357473334513,0.6253790499048106,0.6273364764761641,0.6298510809551315,0.6316144688103899,0.6337194643065647,0.6364770631682827,0.6380137950641491,0.6397120905433906,0.6408339383557835,0.6421246000307023,0.6431656343405626,0.6434702315937325,0.64371934054576,0.6432745408457471,0.6431349834549812,0.6430771352937029,0.6415852421310532,0.6406249739888769,0.6399239783241374,0.638669916998405,0.6380578848950597,0.6376425635939731,0.6379656323989055,0.6378256136707668,0.636335330168574,0.6354003902026265,0.6352993623157333,0.6353476376939878,0.6362353847817808,0.6373471179613488,0.6382688389714486,0.6395492465560545,0.6395875792472254,0.6399133022055167,0.6401700649448825,0.6399316031349398,0.6392913632353154,0.6394955174102561,0.6401070805545547,0.6395487520533419,0.6383684664318842,0.6379240731743366,0.63901141315795,0.6392174921206069,0.6381768372777067,0.6357463140157215,0.6355438335305317,0.6339717881825365,0.6310125610506964,0.627554441947354,0.6239303552896708,0.6206466182481594,0.6173194549950938,0.6130982107096833,0.6074947910520284,0.6034472996496406,0.599718878974461,0.5978219244115637,0.595363711337249,0.5937597608368751,0.5935819727993935,0.5944180863003431,0.5947298798913632,0.5946409032297991,0.5937731143206872,0.5927795399505766,0.5913685893485148,0.5903743789751255,0.5898601409924484,0.5884870301200898,0.5880530956065584,0.5871139253793155,0.5863711240307462,0.5850401778227706,0.5811809457658974,0.5776022686119214,0.5736905716251137,0.5701280850584332,0.566685896565244,0.5628183787933096,0.5593741383326781,0.5566707334878181,0.551990062523472,0.5501256247332945,0.5486226619554133,0.5470610418164469,0.5450227264412769,0.542156559430192,0.539400600908353,0.5371698835247198,0.5344367382010665,0.5318039844212505,0.5298187623620471,0.528148933629056,0.5265146295666255,0.5255614752524025,0.5248036371096888,0.5241451197240481,0.5230657523770113,0.5227926218540379,0.5222163400637299,0.5230413277039996,0.5245880481335856,0.5265644211118262,0.5285307346893848,0.5305101313131527,0.5316363474393623,0.5323977671627699,0.5334966228768689,0.5363313182013648,0.5401156924708906,0.5430536382704839,0.5461595759456265,0.5493977294784756,0.553426364030349,0.5574925763991857,0.5612495241184827,0.5653249353532643,0.570257953807633,0.5748063235480702,0.5783817099440065,0.5819777895204694,0.585724351511659,0.5898844001164225,0.5943024386165153,0.5983123912401418,0.609833573257814,0.613597215797335,0.6168590451406737,0.6201915302135251,0.62380881025004,0.6270359856711655,0.6299822745045863,0.6333982818378527,0.6371827780979814,0.6407578971805339,0.6444820783569158,0.6482616010202161,0.6524187730121258,0.6565037113713219,0.6597045961176081,0.6621338062553257,0.664551912099418,0.6672983861957748,0.6695456807911607,0.6715527843992456,0.6737833483199592,0.6752852438243812,0.6765544152112151,0.6776467365358962,0.6782410939403304,0.6786929293150487,0.6788281975976425,0.6784873615395977,0.678107720995938,0.6766403060420191,0.6755206919557447,0.6743327956437853,0.6726369793611617,0.6716347067690995,0.6714729229899093,0.6709529256316034,0.670349426861247,0.6699390588312432,0.6696022983484728,0.6694457794798837,0.6695832677599557,0.6695708106759137,0.6691480374740078,0.6693511204628327,0.6696304018743863,0.669705610650072,0.6695852518822173,0.6693798660044221,0.668619834832935,0.6678844054598996,0.6673246965082749,0.666645563366677,0.6659641804767781,0.6653670555663462,0.6651375501593253,0.6646952946123389,0.6645081902832987,0.6646285036073493,0.6649308691257506,0.6649770036365542,0.6649940263407433,0.6649279730105706,0.6650891944655524,0.6645634289501422,0.6636872512999167,0.6625494673993658,0.6616925811144229,0.6610676265206747,0.6611369436266655,0.6614232023836812,0.6614252984263236,0.6611252080418677,0.6608033503075698,0.660628024326343,0.6607457688390812,0.6606236336969037,0.6605059350135265,0.6602950500448894,0.6600468969948112,0.6599893713252022,0.6600038231245895,0.659318860225843,0.6585114088488863,0.6577422177885535,0.6577322002318481,0.657221864811261,0.6570431041576558,0.6568692105056466,0.6568377260268456,0.6569168955925335,0.6567426607462559,0.6566305349573321,0.656752917959829,0.6566956773303234,0.6569544658572415,0.6566223303511997,0.6560915038245276,0.6556418496986315,0.6557844959797073,0.6557889303503938,0.6557811732148677,0.6556602950540633,0.6554705547550806,0.6555047476853811,0.6554494574186145,0.6553116923810325,0.6552563575841529,0.6551981244330229,0.6551198475067326,0.6550997991112584,0.6550114216438344,0.6551372847501366,0.6559772920775752,0.6569613401222657,0.6583325007732446,0.6592349489542906,0.6603740660030064,0.6614815115018329,0.6633431880132529,0.6646836278697263,0.6660704428930327,0.6671444121243828,0.667748407163418,0.6688769647895216,0.6704476434936572,0.672275460158377,0.6742075983225065,0.6764508547541115,0.6791389995478933,0.6822896789175148,0.6845786278152051,0.6856720519805074,0.6862249613224064,0.6865583137838193,0.687149999509197,0.6876735332108951,0.687885701023244,0.6880831507203168,0.6888701044144292,0.6909828275516554,0.6915084748999405,0.6917711647227003,0.6921321205323745,0.6929425496941892,0.6933547849487132,0.6936012345391942,0.6930057646647894,0.6916072633322894,0.6909983186156841,0.6900446875583842,0.6886090969603434,0.6857271175408697,0.6827726619778896,0.6802847080274446,0.6781613774855764,0.6758217079604215,0.6740197329718901,0.6718792180751793,0.6695150778797945,0.6689508066841378,0.6671380388203852,0.6660234595128283,0.663842572033348,0.6621416747945306,0.6605839439348058,0.6587157075372455,0.6565600357312993,0.6546482588330507,0.6531722211481836,0.6522305465349917,0.651251387573859,0.6501039634933421,0.6487828901994788,0.6470797816565723,0.64453113435804,0.6406994430150249,0.6361832574234124,0.6320753278416277,0.6284075138218846,0.626202425821611,0.6236021781092429,0.621499485605982,0.619042015107356,0.6162824713588236,0.6135459887753848,0.610518846598351,0.6069462881556034,0.6020382113358916,0.5980312507551678,0.5933645485906494,0.5880961423828953,0.5827105730910952,0.5772148603631029,0.5721967474480706,0.5678602946572019,0.5639107203272921,0.5598655225310105,0.5561092493949966,0.5523960453143121,0.5484768150426907,0.5442108134221689,0.5398332098915204,0.5363215341841411,0.5330235041209522,0.5302864152325975,0.5276722494484245,0.5253047421944163,0.5226626896778838,0.5200846149118533,0.5181966489268496,0.5161807419296135,0.5140443499836876,0.5122231831156978,0.5110043216047159,0.5098695732852471,0.508915250797798,0.5078296805991958,0.5078779722890152,0.5084847569289328,0.5100869552635087,0.5126374839191472,0.5149105408361926,0.517218782840482,0.5192681460096825,0.5214832993798368,0.523206763277145,0.5250498633022885,0.5263212239324943,0.5272733822401215,0.5282660880116747,0.5290880286334533,0.5297466323523882,0.53065445431237,0.5315589228498616,0.5324082927890892,0.5330806717793685,0.5338313076075807,0.5345557784348066,0.5353278955914946,0.5352583780807745,0.5345532913083654,0.5339477629220459,0.5329982189718316,0.5321043211216422,0.5308710864519421,0.5293782080021178,0.5279686967968226,0.5269272766680931,0.5259822298924686,0.5250510360774141,0.5239428893746656,0.5229515037847889,0.5220641435926322,0.5212197342027303,0.5206484557686532,0.5200417631721498,0.5200127278461393,0.5202201836035177,0.5202851169823264,0.5205489140035578,0.5207429093515372,0.5209725153214925,0.5213306296939773,0.5215975518943262,0.5224229029075415,0.5231521939542726,0.523481319267507,0.5234394422532377,0.523173347444519,0.522889470056753,0.5226394166002969,0.522088851675695,0.5217850433463845,0.5215654286242922,0.5212083273771317,0.5210295812513941,0.5209913409902243,0.5208915094588803,0.5207514955452134,0.5209274968854625,0.5213324873972828,0.5214148774454576,0.521018610264915,0.5207390705216514,0.5207349293809485,0.5211588956004156,0.5207894979590819,0.5209089513993366,0.521380832438707,0.5219262686614428,0.5225242094969558,0.5229517809975182,0.5232606597856312,0.5234260303870744,0.5239486688902208,0.5244666871406548,0.5249456787691598,0.5250053805968,0.5252979143732466,0.5254192743740101,0.5251917332428736,0.524653529261172,0.5244541810658099,0.5242970472044112,0.5243873402984984,0.5243947642284003,0.5244632088656462,0.5244225525833103,0.5244348266363603,0.5246470454032122,0.5245279508995762,0.5244369308526962,0.5241811797014791,0.5241167250775179,0.5249265548284089,0.5256133494351946,0.526473122438538,0.5271995488036377,0.5278235813554061,0.5286748399291553,0.5294168238652746,0.5300522841921916,0.5313588356462153,0.5319599963955591,0.5324821996037621,0.5330250271895781,0.5337965680031467,0.5347201026897702,0.535739875717602,0.536665188657334,0.5376478995826047,0.5384131157510106,0.5389857440805903,0.5394666179729756,0.5399490102320017,0.5401548337544863,0.5400781374042947,0.5400004093587919,0.538875501677348,0.5375140735070233,0.5367167013309069,0.5361322658387212,0.535431751822637,0.5345437260888819,0.5337557379857818,0.5329547221656094,0.5322990919046648,0.5314850902653183,0.5306493490313764,0.5294294816552119,0.5278029983140625,0.5264690191165593,0.5252962128214512,0.524037952725519,0.522081538632874,0.5201186456779695,0.5187207610733531,0.5171419017403578,0.5155979364443689,0.5140718213113075,0.5127435726038748,0.5115077723998387,0.5103142237472412,0.5091495006894639,0.5076100411104982,0.5062376861838062,0.5010436271702783,0.500209271142481,0.49932478830490945,0.4988384953679808,0.4979510527498794,0.4974492459292023,0.4969665977226135,0.4964445112126157,0.4969506360320895,0.4972664896042639,0.4974692954361108,0.5001552790847411,0.5051444266145881,0.5100598868462496,0.514622718469458,0.5189497825287158,0.5269931093510696,0.534408023368544,0.543491071811002,0.5521178471276572,0.5597158571332241,0.5662348284297731,0.5757475802276787,0.5853358023095167,0.5917902011047814,0.5980533840677835,0.6024798161275984,0.6067924578806223,0.6111256981058085,0.6163323912930306,0.620113935679804,0.6234735225046505,0.6267244002356934,0.6297911168461899,0.6323528385507001,0.6347243912653451,0.6369263509897731,0.6376408917602598,0.6378302368956611,0.6374880453838595,0.6370877934582387,0.6366265989877886,0.6361926779483961,0.6357027900148186,0.6353136983071287,0.6345757054150368,0.6340627471431489,0.6333102054765228,0.6328373091676714,0.6320864042168524,0.6312049846927285,0.6306582835614621,0.630919080718666,0.630759493119162,0.6300133787066635,0.6295945833902793,0.6293220743131183,0.6288088899889631,0.628223667991254,0.6282588106774657,0.6280314352306418,0.6278536885938981,0.627686556218308,0.6275748117747031,0.6276581245299672,0.627788971091285,0.6274357929709127,0.626780172195547,0.626121165554575,0.6254937137067011,0.6247845803230335,0.6236394059932546,0.6220920011008398,0.6209043140271807,0.6195433885858117,0.6182048331376158,0.6169119986504689,0.6158040904874421,0.6145065041265958,0.6130197023690378,0.6118818288634535,0.61058515278999,0.6094081383526614,0.608296004006295,0.6072760067577773,0.6063832320781258,0.6051631254378681,0.6039195723200421,0.6027068720208153,0.6016472959089435,0.6006261166081925,0.5997835729957335,0.5991844420600032,0.598444632694175,0.5977004766941996,0.5971266535992871,0.5968168006541149,0.5966660676032595,0.5962710216148364,0.5957353438081275,0.5950803265631341,0.5945614104862261,0.5938221508163026,0.593320473881354,0.5927926819429679,0.5923683575811859,0.5917547605347324,0.5910773829844196,0.5904666972457653,0.5898475356983008,0.5891631676531078,0.5885486022845128,0.5880253128519929,0.5874431045310218,0.5869284150757721,0.5862086858581771,0.5856545671540744,0.5850285609255664,0.5845317553758652,0.5839834806345118,0.5833919480361899,0.582824481948228,0.5820721387755569,0.5811714961766103,0.5803998387905944,0.5796045927874559,0.5787941877902568,0.5780145884092607,0.5770347447980808,0.5758754546807014,0.5747833094587526,0.5736782203500587,0.5726213709048038,0.5714954815756743,0.5703662734456569,0.5691943460743711,0.567811695950277,0.5665145535139835,0.5653825850974881,0.5644154471227386,0.5633875965858457,0.5626102855517247,0.5618450983241974,0.561089008323987,0.5604193849410702,0.55966906246825,0.5589216725425593,0.5580477437771806,0.5572451960167449,0.5564243032159863,0.555618580403922,0.5546187242360752,0.5535364523671708,0.5524378415909684,0.551394494274803,0.5501726825877482,0.5490517543202834,0.5479867626878067,0.5469729670182962,0.5460136254111743,0.545119015876459,0.544389968652432,0.5438532687313037,0.5434813450988405,0.5430133647259329,0.5425286599202223,0.5419485612358617,0.5412896568350728,0.5406409182827361,0.5400920609253533,0.5397175483535781,0.5394790070949085,0.5391879865616109,0.5389049752741782,0.5386129706184891,0.5381709470539715,0.537839006609882,0.5374652055174485,0.5371519310834494,0.5369758798032982,0.5369171081915189,0.5369918134532244,0.5369017635619578,0.5364321784331049,0.5360092302002463,0.5356837354113081,0.5353420892267974,0.5347712821625634,0.5341791033992829,0.5335657930371849,0.5330472178642058,0.5325639362062395,0.532080644003942,0.5316897643834538,0.5313761110485665,0.5310285461177674,0.5306301271980415,0.5301349063242392,0.5296919500716363,0.5292192640959548,0.528717989574107,0.5281645154788157,0.5276275383703674,0.5270944809598859,0.5265706969780793,0.5261132516735991,0.5256562817401838,0.5250826381720088,0.5246624375090105,0.5243089703928653,0.5241452465588496,0.524014854993135,0.5238259951304575,0.5236928220896433,0.5237267299692402,0.5236662917724813,0.5236129254320222,0.5235891392857628,0.5235872559915492,0.5236344180522327,0.5237982852257019,0.5239374569672193,0.5241005172625471,0.524372205450664,0.5246516619167856,0.5250145305603363,0.5252962992090919,0.525551521021951,0.5256266913778871,0.5259822168290688,0.5262607602290452,0.5266353944792916,0.5270319915942864,0.527461847677777,0.5278820057167665,0.5282905519851581,0.5286954803380728,0.5291208216227982,0.5294224228732585,0.5296276051371858,0.529973122448914,0.5301157760261808,0.5303492890809437,0.530447339972179,0.530674068150455,0.5308814454991233,0.5311011080920399,0.531413162349025,0.5317515355513246,0.532084937604232,0.5323059795516547,0.5326081782398084,0.5330587067906257,0.5336781600212472,0.5345723537987158,0.5355198309845511,0.5367204023987772,0.5378037820103585,0.5390165957330422,0.5401963425130079,0.5413721550980313,0.5426602061980953,0.5439726538456913,0.5452089809054262,0.5466743500080242,0.5481820597133127,0.5496821443692778,0.5513776207380334,0.5531258390452846,0.5549833021650437,0.5567643782691281,0.5584767429767972,0.5602877525211851,0.5621146079267886,0.5640326857959455,0.5661207665561474,0.5684111918278902,0.5710666860489149,0.5737472476065326,0.5764556076314825,0.5792097049763005,0.5819813071120296,0.5846251879812452,0.5873123986899026,0.5898483321666669,0.5927493257878638,0.5958385340177804,0.5989991351074334,0.6022684291765611,0.6058396685509276,0.6095255504398213,0.6134263491097373,0.617465266220644,0.621595360896946,0.6258716458152547,0.6300007002914487,0.6344233679620129,0.6391603308352176,0.6439124896792473,0.6488656166151305,0.6539755495729199,0.6592376192964864,0.6639675411855815,0.6691707919954616,0.6742533340445375,0.6791468323475887,0.6838571546438503,0.6887498845506547,0.6939032896543401,0.6989331771999251,0.7039505151729882,0.7086878622288612,0.7131586339861511,0.7179939950145929,0.7227739836209812,0.7280280251592672,0.7332734813505228,0.7380186556776783,0.7427557192908979,0.7480224275538323,0.7529886806988727,0.7578752569149229,0.762972366402751,0.7682625670898152,0.7734573709475795,0.7787693910449013,0.7843029236897653,0.7895521681654063,0.7945951727229627,0.7999628442110119,0.8058178399137894,0.8113247511115834,0.8172653727083662,0.8230794057296653,0.8290059323232426,0.8350594328142803,0.8407229969843664,0.8460122291279547,0.8485744851805004,0.8515566089982576,0.8555321734123783,0.8597721017399375,0.8647259680213198,0.8693780034570455,0.8742603611774848,0.8791277169488325,0.8840787571073163,0.888722593680926,0.8933542615650909,0.8977086752070532,0.9018709621476276,0.905819562323348,0.9095534483935142,0.9126983401130836,0.9153156185612128,0.9176101221250853,0.9201967060105963,0.9228425418756734,0.9255474724156839,0.9282453301054603,0.9306123830018976,0.9322307259322862,0.9345667650578073,0.936504117429949,0.9382295568594968,0.9407207410302738,0.9388451223260054,0.9394001897464314,0.9388266032630199,0.9384877753041513,0.9381841346427857,0.937094270063551,0.9350304912449204,0.9337027966456969,0.9315327320280812,0.9292089908080123,0.9269164508917659,0.9250803677209117,0.9222775982858278,0.9198926678593998,0.9173896841456765,0.9149477416944437,0.912369629107758,0.909639898656043,0.906799980391909,0.904036947641288,0.9011749142255757,0.8982985321215171,0.8957258688069573,0.8932092953354575,0.8897510312132487,0.8865232803572493,0.8831955617176157,0.8806500879551398,0.8780364979789108,0.875286047763149,0.8722148768092484,0.8696779725963436,0.8672103451764688,0.8649484249777138,0.8622321376710985,0.8600249527829242,0.8578956686254083,0.8560268269388807,0.855057054928553,0.8547553184635083,0.854819289103911,0.8547715163086264,0.8546824672372088,0.8543601358675,0.8539871737664988,0.8534096756868714,0.8534583970438959,0.8533495493151246,0.8534382262767415,0.8535207848030034,0.8534297983596012,0.8534832057322561,0.8531513416668302,0.8522047752690042,0.8513893309788925,0.850947609679876,0.8504868113840117,0.8496823322055872,0.8489061295324729,0.8482052684985824,0.847376918445822,0.8470203742480193,0.8466230615129275,0.8462041236328238,0.8458176468372433,0.8448301423722193,0.8438594533223439,0.8433355249287158,0.8429114368181675,0.8422802075064715,0.841568485082455,0.8405111645406765,0.8398819890437169,0.83987842374811,0.8394307224250062,0.838993670330446,0.8385262226531003,0.8381331030561452,0.8371585594802265,0.8368083353385402,0.8366191265755463,0.8361068288819049,0.8359886042105288,0.835732595752532,0.8353418893054902,0.835319735672348,0.8355765677545802,0.8362768369290872,0.8368435517592737,0.837085422512097,0.8371838828934604,0.8373064860150262,0.8369778871944049,0.8357615910367803,0.8345685840421976,0.833098286229595,0.831666885314825,0.8303876937594469,0.8292661507415119,0.8281290443840612,0.8270666873531664,0.8261333558332559,0.825476432547881,0.8248001648305725,0.8234138094432155,0.8217423510544966,0.8201381253385207,0.8185234269390436,0.8168096767780643,0.815493238210863,0.8137738913135734,0.8120372889881937,0.8095228516229164,0.8072145026446382,0.8051859954881077,0.8034543384300025,0.8021308288254545,0.8011050427679474,0.7999920168102876,0.799261726349973,0.7989659499828541,0.798107896282233,0.7974022350196966,0.7973141684188929,0.7975088870250694,0.7974453574483739,0.7973693671976717,0.7969991147047076,0.7964775978073342,0.7967170450195004,0.7971048177794321,0.7975392702895134,0.7980870899864139,0.7986970515552655,0.7996702628281241,0.800905530750332,0.8024337134920916,0.8043015745882949,0.8062075519506717,0.807619245098671,0.8090065419587568,0.8098777732772106,0.8107878560008822,0.8118520933087511,0.8132267765339428,0.8145153842474977,0.8156258628084171,0.8171500067611768,0.8190619743883737,0.8208255363239731,0.8230451875658266,0.8250730912174774,0.8273857444681679,0.8299778337505794,0.8325525759881449,0.8347380457522243,0.8373312171957398,0.8400853173675656,0.8426956266457396,0.8451560971702344,0.8478015140958287,0.8502417234618884,0.8525250375400286,0.8545073798713991,0.8564082266599157,0.858309961663158,0.8603457872539071,0.8622605514662854,0.864121476468725,0.8662454814497561,0.868306223858448,0.8701611788838375,0.871935505196918,0.8737241066629742,0.8756810862590048,0.8777287713361073,0.8798120788412369,0.881789592209092,0.8838298795403353,0.8861378125374648,0.888592368499307,0.8906475025306199,0.8924904626693211,0.8948096593785928,0.8977523390775923,0.9004299004511849,0.9031054788579843,0.9058692830521062,0.9086136006708502,0.9115308748485836,0.9147990976725907,0.9176027844119793,0.9201606181780306,0.9223957848274373,0.9243170009338971,0.9261336116684346,0.9282886272179965,0.9306229797308256,0.9338076256076265,0.9374044197623336,0.9410986669169163,0.9449307579028341,0.9488358956441706,0.9523940805295948,0.9557733080432522,0.9588069062043088,0.9615771456146025,0.9646396244055074,0.9679195945557724,0.9707285727062087,0.9736300101003367,0.9752414392111177,0.9770718982238061,0.9793495832731596,0.981566947846662,0.9829011727074008,0.9842344490703535,0.98467742358859,0.9835763863443954,0.9837461510235387,0.9839713759588608,0.9843097416536876,0.9845468898832562,0.9856368735464532,0.9872613213509809,0.9895938252303749,0.9918906152755177,0.9949639072250103,0.9982091006747221,1.0021559574952876,1.0047407066206395,1.0074962192218528,1.0110206903391215,1.013705407197993,1.0156705157660322,1.0176085096486498,1.0192383706234078,1.0212899971907503,1.0232270591805135,1.0244171287082728,1.0276447157345132,1.030420762625662,1.0340126320241743,1.0371512950234256,1.0409954847042044,1.0443638473893644,1.0486733422261785,1.0526343316150941,1.0563309957308078,1.0599911563290294,1.0643746908057699,1.0686746077681852,1.073414442738912,1.0778114117882847,1.0817936816107767,1.08449253248472,1.086558278274592,1.089677807912166,1.0925664501311412,1.0957011970375472,1.0983798963751732,1.1018309389763274,1.1053292475759116,1.108414699785056,1.1119300637043603,1.1153720634755093,1.1186622992484732,1.121873830139169,1.1250463593568234,1.1280727849085255,1.1317857708776373,1.1351211394355432,1.138400959042929,1.141101835071548,1.1440802375139203,1.1464814756856734,1.1480660031116967,1.1499423189745555,1.1517406203761762,1.1534912771316481,1.1547605930457046,1.1560088966794997,1.15729307209266,1.1585933405211126,1.1602108994150326,1.1620045360593667,1.16398323353541,1.165781601319678,1.1674332952753932,1.1689014903663053,1.1704688662010998,1.1716401271916121,1.1729365409651593,1.174062117250569,1.175004462507266,1.176128365260698,1.1785159707269965,1.1811593497197237,1.1838076566442195,1.1862846480648126,1.1887635376137637,1.1910317482196906,1.193376773946465,1.1952196490679576,1.1974555316209297,1.1995949571901137,1.201421617852484,1.2030411631866382,1.2043036903164583,1.205975829187537,1.207129566965898,1.2076278961907794,1.2081183869114154,1.2083129056348114,1.2082652082843661,1.2078917111919587,1.2071295198034315,1.2062899525075486,1.2051779332720163,1.2038827069682316,1.2033119784715196,1.2026920442804028,1.2017065934778695,1.2011695951207935,1.2007037353192953,1.200041783596356,1.1996269321642432,1.1996036155336056,1.1999628547728052,1.2006014217265348,1.2009871429407388,1.2014257287162644,1.2019453724200073,1.2034824873357377,1.205312631979987,1.207813285571398,1.2102928109831077,1.2125478416794786,1.2121837429105036,1.2112813888299776,1.2098106312833485,1.2085373603682679,1.2075391673726017,1.2070685185579566,1.2061024108638831,1.2047789267692486,1.2035265365974765,1.2025863943344912,1.2015713272164308,1.2003022653858808,1.1991069920933446,1.1971334364149098,1.1948304328821793,1.1921217132726452,1.189249106708076,1.1863736988047138,1.1839487521079217,1.1817509844120713,1.1798230211857155,1.1779345244224835,1.1765661853891094,1.1748206930139886,1.1727546470983647,1.170605281159351,1.1680969505458125,1.1658330750099068,1.1638016866437944,1.16215285200621,1.1601324352240026,1.1579767918427453,1.1556778563992849,1.1530600229487897,1.1506586601954851,1.1484446569441271,1.14585644909167,1.143415479935623,1.1409650534771647,1.1387405935080086,1.1365143801696105,1.1344712427637305,1.1321644464103078,1.1301456054182761,1.1283265063122196,1.126766910722442,1.125089343248416,1.1236996057821518,1.122434665323037,1.1211905136291154,1.1201414800768903,1.1195027097126315,1.118621656444135,1.1173921032401666,1.1161004777255188,1.11497345561573,1.113966682785435,1.112904770192147,1.1119846419384238,1.1110565827490706,1.110120137841886,1.1094814258977437,1.1086665325224754,1.1085448674896843,1.108487325466144,1.1084944825626348,1.1085537997373405,1.1089449187936515,1.1092628058622558,1.1094962124932422,1.111229817571684,1.1120894992292008,1.113137180902273,1.113886704067652,1.1150110350615197,1.1162130155268435,1.1172223485369406,1.1196867326797832,1.1215926249185169,1.1241503699406854,1.1263750085866204,1.1287902160093335,1.1312460703423255,1.1338901771407264,1.1370150108696606,1.1393606543242338,1.1411905776400795,1.143192678705485,1.14640088953102,1.1498215191801413,1.1533429219642082,1.156453249234094,1.159693711790281,1.162872207998611,1.1658894266552555,1.1690006186469555,1.1720737004587083,1.1752007743085544,1.1774468704985672,1.1796728572081834,1.1817688151761192,1.183695113580559,1.1857203566434606,1.1872793319226598,1.1887252359448408,1.1882896051130605,1.1857917080147033,1.1846277615828056,1.1836700612882618,1.1827127815382228,1.1814110354710055,1.1785694964411173,1.1754939962485569,1.1735131988070648,1.1718515271201555,1.1701117374932173,1.1684555924321118,1.166673937269544,1.1643465538598279,1.1613485780729818,1.1585178487136054,1.1545615982792874,1.150287461251691,1.1470570205401516,1.1442308213012122,1.1410563798085276,1.1382518747198516,1.1357207433401477,1.1327730775233056,1.1301310182343376,1.127938467707052,1.1250663573780726,1.123263652581933,1.1216408995147604,1.119528272794933,1.1177250808446482,1.1160305476568453,1.1147359321709525,1.1123807733668765,1.1110232980058445,1.1089301471245903,1.107320958117602,1.1055919177106819,1.1036865007991474,1.10155129811264,1.0992944145926848,1.097794603863423,1.0972641291294818,1.0964463051829587,1.095721444412873,1.095000393066418,1.0944911525965064,1.0938497686868447,1.0932816379250763,1.0929144951429985,1.0923301091544566,1.0914047489749215,1.0905281449510664,1.0896961272641124,1.0889507922440478,1.0884100589824162,1.0882867215991323,1.088648896592941,1.0893593475205134,1.0902373105209604,1.0910527022046934,1.0918371036300776,1.0921845581851888,1.0923128577190158,1.0919998558389314,1.0918342051755627,1.0915663244470328,1.0913814382989482,1.0914719803076098,1.091730282094454,1.092171104633903,1.0929029209905903,1.0932410665719179,1.0931772795609405,1.0932580612725884,1.0927306213188956,1.0919855781578538,1.0896385111893174,1.0870117900016911,1.0842795966526664,1.0825826401593137,1.0804787962001146,1.0786638856634119,1.077140327452833,1.0750760634557253,1.0728506909626643,1.0700924477619136,1.0672860501831252,1.0649686197620234,1.0630046780081905,1.0604688357361582,1.05748884847171,1.0547600282692589,1.0526734118662866,1.0501103779074907,1.0471002470257385,1.0435754759576854,1.0402020167519082,1.0384511344806338,1.0366150504822005,1.0349612041891958,1.033679335773662,1.0318527447352155,1.029705653196667,1.0264450249165102,1.0215248745296137,1.0174237551079093,1.0135494146077606,1.0095100240965855,1.0056605536647198,1.0011784027916617,0.9972358846937404,0.9936778685449985,0.9903309424989786,0.9869235658331361,0.98391568584235,0.9809490642318582,0.9769838599880576,0.9733813520435869,0.9697383425828056,0.966341809199763,0.9639213861874194,0.9607315852989521,0.9578915225334397,0.9539010160550838,0.9522676622317627,0.9519932820234542,0.9516876474211614,0.9520391613656649,0.9523667390589275,0.9521668824461315,0.9530170274527265,0.9537522925683342,0.9544937089768112,0.9553934224113978,0.9557949624471346,0.9557215941869518,0.9555603897887104,0.9560015074932922,0.9552162153789547,0.9547382914329587,0.9558318534800078,0.9559192382137146,0.9568077923376246,0.9572729256931045,0.9578301144704573,0.9582771967445355,0.9581372504338612,0.9574098373554368,0.9569213869870283,0.9564201724770651,0.9559886851681855,0.9553729571013311,0.9555955369446896,0.9555623775782333,0.9545014180720345,0.953345143115308,0.9526330977218185,0.951929129820174,0.9512132447100448,0.950097670588336,0.9495097278360659,0.9500055831955806,0.9492991353027677,0.9482604416027481,0.9469575375550112,0.9448998202991791,0.9426778317220172,0.9408484625583707,0.9386371693793997,0.9362175652029725,0.933636212646291,0.9311639494220464,0.9280512434855843],\"yaxis\":\"y\",\"type\":\"scattergl\"}],                        {\"template\":{\"data\":{\"bar\":[{\"error_x\":{\"color\":\"#2a3f5f\"},\"error_y\":{\"color\":\"#2a3f5f\"},\"marker\":{\"line\":{\"color\":\"#E5ECF6\",\"width\":0.5},\"pattern\":{\"fillmode\":\"overlay\",\"size\":10,\"solidity\":0.2}},\"type\":\"bar\"}],\"barpolar\":[{\"marker\":{\"line\":{\"color\":\"#E5ECF6\",\"width\":0.5},\"pattern\":{\"fillmode\":\"overlay\",\"size\":10,\"solidity\":0.2}},\"type\":\"barpolar\"}],\"carpet\":[{\"aaxis\":{\"endlinecolor\":\"#2a3f5f\",\"gridcolor\":\"white\",\"linecolor\":\"white\",\"minorgridcolor\":\"white\",\"startlinecolor\":\"#2a3f5f\"},\"baxis\":{\"endlinecolor\":\"#2a3f5f\",\"gridcolor\":\"white\",\"linecolor\":\"white\",\"minorgridcolor\":\"white\",\"startlinecolor\":\"#2a3f5f\"},\"type\":\"carpet\"}],\"choropleth\":[{\"colorbar\":{\"outlinewidth\":0,\"ticks\":\"\"},\"type\":\"choropleth\"}],\"contour\":[{\"colorbar\":{\"outlinewidth\":0,\"ticks\":\"\"},\"colorscale\":[[0.0,\"#0d0887\"],[0.1111111111111111,\"#46039f\"],[0.2222222222222222,\"#7201a8\"],[0.3333333333333333,\"#9c179e\"],[0.4444444444444444,\"#bd3786\"],[0.5555555555555556,\"#d8576b\"],[0.6666666666666666,\"#ed7953\"],[0.7777777777777778,\"#fb9f3a\"],[0.8888888888888888,\"#fdca26\"],[1.0,\"#f0f921\"]],\"type\":\"contour\"}],\"contourcarpet\":[{\"colorbar\":{\"outlinewidth\":0,\"ticks\":\"\"},\"type\":\"contourcarpet\"}],\"heatmap\":[{\"colorbar\":{\"outlinewidth\":0,\"ticks\":\"\"},\"colorscale\":[[0.0,\"#0d0887\"],[0.1111111111111111,\"#46039f\"],[0.2222222222222222,\"#7201a8\"],[0.3333333333333333,\"#9c179e\"],[0.4444444444444444,\"#bd3786\"],[0.5555555555555556,\"#d8576b\"],[0.6666666666666666,\"#ed7953\"],[0.7777777777777778,\"#fb9f3a\"],[0.8888888888888888,\"#fdca26\"],[1.0,\"#f0f921\"]],\"type\":\"heatmap\"}],\"heatmapgl\":[{\"colorbar\":{\"outlinewidth\":0,\"ticks\":\"\"},\"colorscale\":[[0.0,\"#0d0887\"],[0.1111111111111111,\"#46039f\"],[0.2222222222222222,\"#7201a8\"],[0.3333333333333333,\"#9c179e\"],[0.4444444444444444,\"#bd3786\"],[0.5555555555555556,\"#d8576b\"],[0.6666666666666666,\"#ed7953\"],[0.7777777777777778,\"#fb9f3a\"],[0.8888888888888888,\"#fdca26\"],[1.0,\"#f0f921\"]],\"type\":\"heatmapgl\"}],\"histogram\":[{\"marker\":{\"pattern\":{\"fillmode\":\"overlay\",\"size\":10,\"solidity\":0.2}},\"type\":\"histogram\"}],\"histogram2d\":[{\"colorbar\":{\"outlinewidth\":0,\"ticks\":\"\"},\"colorscale\":[[0.0,\"#0d0887\"],[0.1111111111111111,\"#46039f\"],[0.2222222222222222,\"#7201a8\"],[0.3333333333333333,\"#9c179e\"],[0.4444444444444444,\"#bd3786\"],[0.5555555555555556,\"#d8576b\"],[0.6666666666666666,\"#ed7953\"],[0.7777777777777778,\"#fb9f3a\"],[0.8888888888888888,\"#fdca26\"],[1.0,\"#f0f921\"]],\"type\":\"histogram2d\"}],\"histogram2dcontour\":[{\"colorbar\":{\"outlinewidth\":0,\"ticks\":\"\"},\"colorscale\":[[0.0,\"#0d0887\"],[0.1111111111111111,\"#46039f\"],[0.2222222222222222,\"#7201a8\"],[0.3333333333333333,\"#9c179e\"],[0.4444444444444444,\"#bd3786\"],[0.5555555555555556,\"#d8576b\"],[0.6666666666666666,\"#ed7953\"],[0.7777777777777778,\"#fb9f3a\"],[0.8888888888888888,\"#fdca26\"],[1.0,\"#f0f921\"]],\"type\":\"histogram2dcontour\"}],\"mesh3d\":[{\"colorbar\":{\"outlinewidth\":0,\"ticks\":\"\"},\"type\":\"mesh3d\"}],\"parcoords\":[{\"line\":{\"colorbar\":{\"outlinewidth\":0,\"ticks\":\"\"}},\"type\":\"parcoords\"}],\"pie\":[{\"automargin\":true,\"type\":\"pie\"}],\"scatter\":[{\"marker\":{\"colorbar\":{\"outlinewidth\":0,\"ticks\":\"\"}},\"type\":\"scatter\"}],\"scatter3d\":[{\"line\":{\"colorbar\":{\"outlinewidth\":0,\"ticks\":\"\"}},\"marker\":{\"colorbar\":{\"outlinewidth\":0,\"ticks\":\"\"}},\"type\":\"scatter3d\"}],\"scattercarpet\":[{\"marker\":{\"colorbar\":{\"outlinewidth\":0,\"ticks\":\"\"}},\"type\":\"scattercarpet\"}],\"scattergeo\":[{\"marker\":{\"colorbar\":{\"outlinewidth\":0,\"ticks\":\"\"}},\"type\":\"scattergeo\"}],\"scattergl\":[{\"marker\":{\"colorbar\":{\"outlinewidth\":0,\"ticks\":\"\"}},\"type\":\"scattergl\"}],\"scattermapbox\":[{\"marker\":{\"colorbar\":{\"outlinewidth\":0,\"ticks\":\"\"}},\"type\":\"scattermapbox\"}],\"scatterpolar\":[{\"marker\":{\"colorbar\":{\"outlinewidth\":0,\"ticks\":\"\"}},\"type\":\"scatterpolar\"}],\"scatterpolargl\":[{\"marker\":{\"colorbar\":{\"outlinewidth\":0,\"ticks\":\"\"}},\"type\":\"scatterpolargl\"}],\"scatterternary\":[{\"marker\":{\"colorbar\":{\"outlinewidth\":0,\"ticks\":\"\"}},\"type\":\"scatterternary\"}],\"surface\":[{\"colorbar\":{\"outlinewidth\":0,\"ticks\":\"\"},\"colorscale\":[[0.0,\"#0d0887\"],[0.1111111111111111,\"#46039f\"],[0.2222222222222222,\"#7201a8\"],[0.3333333333333333,\"#9c179e\"],[0.4444444444444444,\"#bd3786\"],[0.5555555555555556,\"#d8576b\"],[0.6666666666666666,\"#ed7953\"],[0.7777777777777778,\"#fb9f3a\"],[0.8888888888888888,\"#fdca26\"],[1.0,\"#f0f921\"]],\"type\":\"surface\"}],\"table\":[{\"cells\":{\"fill\":{\"color\":\"#EBF0F8\"},\"line\":{\"color\":\"white\"}},\"header\":{\"fill\":{\"color\":\"#C8D4E3\"},\"line\":{\"color\":\"white\"}},\"type\":\"table\"}]},\"layout\":{\"annotationdefaults\":{\"arrowcolor\":\"#2a3f5f\",\"arrowhead\":0,\"arrowwidth\":1},\"autotypenumbers\":\"strict\",\"coloraxis\":{\"colorbar\":{\"outlinewidth\":0,\"ticks\":\"\"}},\"colorscale\":{\"diverging\":[[0,\"#8e0152\"],[0.1,\"#c51b7d\"],[0.2,\"#de77ae\"],[0.3,\"#f1b6da\"],[0.4,\"#fde0ef\"],[0.5,\"#f7f7f7\"],[0.6,\"#e6f5d0\"],[0.7,\"#b8e186\"],[0.8,\"#7fbc41\"],[0.9,\"#4d9221\"],[1,\"#276419\"]],\"sequential\":[[0.0,\"#0d0887\"],[0.1111111111111111,\"#46039f\"],[0.2222222222222222,\"#7201a8\"],[0.3333333333333333,\"#9c179e\"],[0.4444444444444444,\"#bd3786\"],[0.5555555555555556,\"#d8576b\"],[0.6666666666666666,\"#ed7953\"],[0.7777777777777778,\"#fb9f3a\"],[0.8888888888888888,\"#fdca26\"],[1.0,\"#f0f921\"]],\"sequentialminus\":[[0.0,\"#0d0887\"],[0.1111111111111111,\"#46039f\"],[0.2222222222222222,\"#7201a8\"],[0.3333333333333333,\"#9c179e\"],[0.4444444444444444,\"#bd3786\"],[0.5555555555555556,\"#d8576b\"],[0.6666666666666666,\"#ed7953\"],[0.7777777777777778,\"#fb9f3a\"],[0.8888888888888888,\"#fdca26\"],[1.0,\"#f0f921\"]]},\"colorway\":[\"#636efa\",\"#EF553B\",\"#00cc96\",\"#ab63fa\",\"#FFA15A\",\"#19d3f3\",\"#FF6692\",\"#B6E880\",\"#FF97FF\",\"#FECB52\"],\"font\":{\"color\":\"#2a3f5f\"},\"geo\":{\"bgcolor\":\"white\",\"lakecolor\":\"white\",\"landcolor\":\"#E5ECF6\",\"showlakes\":true,\"showland\":true,\"subunitcolor\":\"white\"},\"hoverlabel\":{\"align\":\"left\"},\"hovermode\":\"closest\",\"mapbox\":{\"style\":\"light\"},\"paper_bgcolor\":\"white\",\"plot_bgcolor\":\"#E5ECF6\",\"polar\":{\"angularaxis\":{\"gridcolor\":\"white\",\"linecolor\":\"white\",\"ticks\":\"\"},\"bgcolor\":\"#E5ECF6\",\"radialaxis\":{\"gridcolor\":\"white\",\"linecolor\":\"white\",\"ticks\":\"\"}},\"scene\":{\"xaxis\":{\"backgroundcolor\":\"#E5ECF6\",\"gridcolor\":\"white\",\"gridwidth\":2,\"linecolor\":\"white\",\"showbackground\":true,\"ticks\":\"\",\"zerolinecolor\":\"white\"},\"yaxis\":{\"backgroundcolor\":\"#E5ECF6\",\"gridcolor\":\"white\",\"gridwidth\":2,\"linecolor\":\"white\",\"showbackground\":true,\"ticks\":\"\",\"zerolinecolor\":\"white\"},\"zaxis\":{\"backgroundcolor\":\"#E5ECF6\",\"gridcolor\":\"white\",\"gridwidth\":2,\"linecolor\":\"white\",\"showbackground\":true,\"ticks\":\"\",\"zerolinecolor\":\"white\"}},\"shapedefaults\":{\"line\":{\"color\":\"#2a3f5f\"}},\"ternary\":{\"aaxis\":{\"gridcolor\":\"white\",\"linecolor\":\"white\",\"ticks\":\"\"},\"baxis\":{\"gridcolor\":\"white\",\"linecolor\":\"white\",\"ticks\":\"\"},\"bgcolor\":\"#E5ECF6\",\"caxis\":{\"gridcolor\":\"white\",\"linecolor\":\"white\",\"ticks\":\"\"}},\"title\":{\"x\":0.05},\"xaxis\":{\"automargin\":true,\"gridcolor\":\"white\",\"linecolor\":\"white\",\"ticks\":\"\",\"title\":{\"standoff\":15},\"zerolinecolor\":\"white\",\"zerolinewidth\":2},\"yaxis\":{\"automargin\":true,\"gridcolor\":\"white\",\"linecolor\":\"white\",\"ticks\":\"\",\"title\":{\"standoff\":15},\"zerolinecolor\":\"white\",\"zerolinewidth\":2}}},\"xaxis\":{\"anchor\":\"y\",\"domain\":[0.0,1.0],\"title\":{\"text\":\"index\"}},\"yaxis\":{\"anchor\":\"x\",\"domain\":[0.0,1.0],\"title\":{\"text\":\"beta\"}},\"legend\":{\"tracegroupgap\":0},\"title\":{\"text\":\"Parag Parikh Flexi Cap Growth Direct - Beta calculated over 1-year period for 3-years return data\"}},                        {\"responsive\": true}                    ).then(function(){\n",
              "                            \n",
              "var gd = document.getElementById('34b9fe83-0d92-4670-9933-a8fc05ab66f0');\n",
              "var x = new MutationObserver(function (mutations, observer) {{\n",
              "        var display = window.getComputedStyle(gd).display;\n",
              "        if (!display || display === 'none') {{\n",
              "            console.log([gd, 'removed!']);\n",
              "            Plotly.purge(gd);\n",
              "            observer.disconnect();\n",
              "        }}\n",
              "}});\n",
              "\n",
              "// Listen for the removal of the full notebook cells\n",
              "var notebookContainer = gd.closest('#notebook-container');\n",
              "if (notebookContainer) {{\n",
              "    x.observe(notebookContainer, {childList: true});\n",
              "}}\n",
              "\n",
              "// Listen for the clearing of the current output cell\n",
              "var outputEl = gd.closest('.output');\n",
              "if (outputEl) {{\n",
              "    x.observe(outputEl, {childList: true});\n",
              "}}\n",
              "\n",
              "                        })                };                            </script>        </div>\n",
              "</body>\n",
              "</html>"
            ]
          },
          "metadata": {},
          "output_type": "display_data"
        }
      ],
      "source": [
        "fig = px.line(df_beta, x=df_beta.index, y=\"beta\", title=\"Parag Parikh Flexi Cap Growth Direct - Beta calculated over 1-year period for 3-years return data\")\n",
        "fig.show()"
      ]
    },
    {
      "cell_type": "code",
      "execution_count": null,
      "metadata": {
        "id": "1akqnbX-DKOt"
      },
      "outputs": [],
      "source": []
    }
  ],
  "metadata": {
    "colab": {
      "collapsed_sections": [
        "w0Cxo7lwlZMP",
        "WcAZSgybm2UN"
      ],
      "provenance": []
    },
    "kernelspec": {
      "display_name": "Python 3.10.6 ('mutual-fund-analysis')",
      "language": "python",
      "name": "python3"
    },
    "language_info": {
      "name": "python",
      "version": "3.10.6"
    },
    "vscode": {
      "interpreter": {
        "hash": "4c5b7ae1e66911b7c176065c61d8a1e682138fbe078cdc476bcbbd6a1464a1b5"
      }
    }
  },
  "nbformat": 4,
  "nbformat_minor": 0
}
