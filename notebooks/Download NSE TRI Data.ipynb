{
 "cells": [
  {
   "cell_type": "markdown",
   "metadata": {},
   "source": [
    "# Download NSE's historical TRI values for a particular Index "
   ]
  },
  {
   "cell_type": "markdown",
   "metadata": {},
   "source": [
    "## Data Sources\n",
    "1. https://www.niftyindices.com/reports/historical-data\n",
    "2. https://in.investing.com/indices/nifty-total-returns-historical-data"
   ]
  },
  {
   "cell_type": "markdown",
   "metadata": {},
   "source": [
    "## Steps to download\n",
    "As investpy and investiny are not working, I'm doing this manually for now. Follow the below steps:\n",
    "1. Open [Nifty Indices Historical Data](https://www.niftyindices.com/reports/historical-data)\n",
    "2. Select \"Total Returns Index Values\" instead of \"Historical Index Data\".\n",
    "3. Select Index Type and Index as required. I'm opting for \"Equity\" and \"Nifty 500\" as it is the benchmark index for equity flexi cap funds.\n",
    "4. Select date range as required. I prefer collecting data since inception of the fund under consideration.\n",
    "5. Click the download icon with \"csv format\" written beside it.  \n",
    "\n",
    "**NOTE:** Find the benchmark indices [here](https://www.amfiindia.com/research-information/other-data/listofbenchmarkindices)"
   ]
  },
  {
   "cell_type": "markdown",
   "metadata": {},
   "source": [
    "## Save CSV\n",
    "\n",
    "Place the downloaded csv in data folder."
   ]
  },
  {
   "cell_type": "markdown",
   "metadata": {},
   "source": []
  }
 ],
 "metadata": {
  "kernelspec": {
   "display_name": "Python 3.10.6 ('mutual-fund-analysis')",
   "language": "python",
   "name": "python3"
  },
  "language_info": {
   "codemirror_mode": {
    "name": "ipython",
    "version": 3
   },
   "file_extension": ".py",
   "mimetype": "text/x-python",
   "name": "python",
   "nbconvert_exporter": "python",
   "pygments_lexer": "ipython3",
   "version": "3.10.6"
  },
  "orig_nbformat": 4,
  "vscode": {
   "interpreter": {
    "hash": "4c5b7ae1e66911b7c176065c61d8a1e682138fbe078cdc476bcbbd6a1464a1b5"
   }
  }
 },
 "nbformat": 4,
 "nbformat_minor": 2
}
