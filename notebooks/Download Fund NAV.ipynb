{
 "cells": [
  {
   "cell_type": "markdown",
   "metadata": {},
   "source": [
    "# Notebook to download Historical NAV of a selected Fund"
   ]
  },
  {
   "cell_type": "markdown",
   "metadata": {},
   "source": [
    "## Dependencies"
   ]
  },
  {
   "cell_type": "code",
   "execution_count": 1,
   "metadata": {},
   "outputs": [
    {
     "name": "stdout",
     "output_type": "stream",
     "text": [
      "Requirement already satisfied: mftool in /home/kadam/miniconda3/envs/mutual-fund-analysis/lib/python3.10/site-packages (2.5)\n",
      "Requirement already satisfied: yfinance in /home/kadam/miniconda3/envs/mutual-fund-analysis/lib/python3.10/site-packages (from mftool) (0.1.85)\n",
      "Requirement already satisfied: pandas in /home/kadam/miniconda3/envs/mutual-fund-analysis/lib/python3.10/site-packages (from mftool) (1.5.1)\n",
      "Requirement already satisfied: requests in /home/kadam/miniconda3/envs/mutual-fund-analysis/lib/python3.10/site-packages (from mftool) (2.28.1)\n",
      "Requirement already satisfied: bs4 in /home/kadam/miniconda3/envs/mutual-fund-analysis/lib/python3.10/site-packages (from mftool) (0.0.1)\n",
      "Requirement already satisfied: httpx in /home/kadam/miniconda3/envs/mutual-fund-analysis/lib/python3.10/site-packages (from mftool) (0.23.0)\n",
      "Requirement already satisfied: Deprecated in /home/kadam/miniconda3/envs/mutual-fund-analysis/lib/python3.10/site-packages (from mftool) (1.2.13)\n",
      "Requirement already satisfied: beautifulsoup4 in /home/kadam/miniconda3/envs/mutual-fund-analysis/lib/python3.10/site-packages (from bs4->mftool) (4.11.1)\n",
      "Requirement already satisfied: wrapt<2,>=1.10 in /home/kadam/miniconda3/envs/mutual-fund-analysis/lib/python3.10/site-packages (from Deprecated->mftool) (1.14.1)\n",
      "Requirement already satisfied: httpcore<0.16.0,>=0.15.0 in /home/kadam/miniconda3/envs/mutual-fund-analysis/lib/python3.10/site-packages (from httpx->mftool) (0.15.0)\n",
      "Requirement already satisfied: certifi in /home/kadam/miniconda3/envs/mutual-fund-analysis/lib/python3.10/site-packages (from httpx->mftool) (2022.9.24)\n",
      "Requirement already satisfied: rfc3986[idna2008]<2,>=1.3 in /home/kadam/miniconda3/envs/mutual-fund-analysis/lib/python3.10/site-packages (from httpx->mftool) (1.5.0)\n",
      "Requirement already satisfied: sniffio in /home/kadam/miniconda3/envs/mutual-fund-analysis/lib/python3.10/site-packages (from httpx->mftool) (1.3.0)\n",
      "Requirement already satisfied: pytz>=2020.1 in /home/kadam/miniconda3/envs/mutual-fund-analysis/lib/python3.10/site-packages (from pandas->mftool) (2022.6)\n",
      "Requirement already satisfied: python-dateutil>=2.8.1 in /home/kadam/miniconda3/envs/mutual-fund-analysis/lib/python3.10/site-packages (from pandas->mftool) (2.8.2)\n",
      "Requirement already satisfied: numpy>=1.21.0 in /home/kadam/miniconda3/envs/mutual-fund-analysis/lib/python3.10/site-packages (from pandas->mftool) (1.23.4)\n",
      "Requirement already satisfied: charset-normalizer<3,>=2 in /home/kadam/miniconda3/envs/mutual-fund-analysis/lib/python3.10/site-packages (from requests->mftool) (2.1.1)\n",
      "Requirement already satisfied: urllib3<1.27,>=1.21.1 in /home/kadam/miniconda3/envs/mutual-fund-analysis/lib/python3.10/site-packages (from requests->mftool) (1.26.12)\n",
      "Requirement already satisfied: idna<4,>=2.5 in /home/kadam/miniconda3/envs/mutual-fund-analysis/lib/python3.10/site-packages (from requests->mftool) (3.4)\n",
      "Requirement already satisfied: multitasking>=0.0.7 in /home/kadam/miniconda3/envs/mutual-fund-analysis/lib/python3.10/site-packages (from yfinance->mftool) (0.0.11)\n",
      "Requirement already satisfied: lxml>=4.5.1 in /home/kadam/miniconda3/envs/mutual-fund-analysis/lib/python3.10/site-packages (from yfinance->mftool) (4.9.1)\n",
      "Requirement already satisfied: appdirs>=1.4.4 in /home/kadam/miniconda3/envs/mutual-fund-analysis/lib/python3.10/site-packages (from yfinance->mftool) (1.4.4)\n",
      "Requirement already satisfied: h11<0.13,>=0.11 in /home/kadam/miniconda3/envs/mutual-fund-analysis/lib/python3.10/site-packages (from httpcore<0.16.0,>=0.15.0->httpx->mftool) (0.12.0)\n",
      "Requirement already satisfied: anyio==3.* in /home/kadam/miniconda3/envs/mutual-fund-analysis/lib/python3.10/site-packages (from httpcore<0.16.0,>=0.15.0->httpx->mftool) (3.6.2)\n",
      "Requirement already satisfied: six>=1.5 in /home/kadam/miniconda3/envs/mutual-fund-analysis/lib/python3.10/site-packages (from python-dateutil>=2.8.1->pandas->mftool) (1.16.0)\n",
      "Requirement already satisfied: soupsieve>1.2 in /home/kadam/miniconda3/envs/mutual-fund-analysis/lib/python3.10/site-packages (from beautifulsoup4->bs4->mftool) (2.3.2.post1)\n"
     ]
    }
   ],
   "source": [
    "!pip install mftool"
   ]
  },
  {
   "cell_type": "markdown",
   "metadata": {},
   "source": [
    "## Imports"
   ]
  },
  {
   "cell_type": "code",
   "execution_count": 2,
   "metadata": {},
   "outputs": [],
   "source": [
    "from mftool import Mftool\n",
    "import pandas as pd"
   ]
  },
  {
   "cell_type": "markdown",
   "metadata": {},
   "source": [
    "## Select Mutual Fund House and Scheme"
   ]
  },
  {
   "cell_type": "code",
   "execution_count": 4,
   "metadata": {},
   "outputs": [],
   "source": [
    "mf = Mftool()"
   ]
  },
  {
   "cell_type": "code",
   "execution_count": 5,
   "metadata": {},
   "outputs": [],
   "source": [
    "# get all supported amc details\n",
    "amc_details = mf.get_all_amc_profiles(as_json=False)\n",
    "# amc_details"
   ]
  },
  {
   "cell_type": "code",
   "execution_count": 6,
   "metadata": {},
   "outputs": [],
   "source": [
    "df_amcs = pd.DataFrame(amc_details)\n",
    "# df_amcs"
   ]
  },
  {
   "cell_type": "code",
   "execution_count": 7,
   "metadata": {},
   "outputs": [
    {
     "data": {
      "text/html": [
       "<div>\n",
       "<style scoped>\n",
       "    .dataframe tbody tr th:only-of-type {\n",
       "        vertical-align: middle;\n",
       "    }\n",
       "\n",
       "    .dataframe tbody tr th {\n",
       "        vertical-align: top;\n",
       "    }\n",
       "\n",
       "    .dataframe thead th {\n",
       "        text-align: right;\n",
       "    }\n",
       "</style>\n",
       "<table border=\"1\" class=\"dataframe\">\n",
       "  <thead>\n",
       "    <tr style=\"text-align: right;\">\n",
       "      <th></th>\n",
       "      <th>Name of the Mutual Fund</th>\n",
       "      <th>Date of set up of Mutual Fund</th>\n",
       "      <th>Name(s) of Sponsor</th>\n",
       "      <th>Name of Trustee Company</th>\n",
       "      <th>Name of Trustees</th>\n",
       "      <th>Name of Assest Management Co.</th>\n",
       "      <th>Date of Incorporation of AMC</th>\n",
       "      <th>Name(s) of Director</th>\n",
       "      <th>Name of Chairman</th>\n",
       "      <th>Name of Chief Executive Officer</th>\n",
       "      <th>...</th>\n",
       "      <th>Name(s) of Company Secretary</th>\n",
       "      <th>Name(s) of Fund Manager</th>\n",
       "      <th>Name of Compliance Officer</th>\n",
       "      <th>Name of Chief Bussiness Officer</th>\n",
       "      <th>Name of the Chief Investment Officer</th>\n",
       "      <th>Name(s) of the Chief Investment Officer - Dept</th>\n",
       "      <th>Name of Head of Operations</th>\n",
       "      <th>Name(s) of the Chief Investment Officer - Equity</th>\n",
       "      <th>Name of President</th>\n",
       "      <th>Name of Wholetime Director</th>\n",
       "    </tr>\n",
       "  </thead>\n",
       "  <tbody>\n",
       "    <tr>\n",
       "      <th>31</th>\n",
       "      <td>PPFAS Mutual Fund</td>\n",
       "      <td>October 10, 2012</td>\n",
       "      <td>Parag Parikh Financial Advisory Services Ltd.</td>\n",
       "      <td>PPFAS Trustee Company Private Limited</td>\n",
       "      <td>Bhagirat Merchant - Independent Director      ...</td>\n",
       "      <td>PPFAS Asset Management Private Limited</td>\n",
       "      <td>August 08, 2011</td>\n",
       "      <td>Neil Parag Parikh                             ...</td>\n",
       "      <td>NaN</td>\n",
       "      <td>Neil Parag Parikh</td>\n",
       "      <td>...</td>\n",
       "      <td>NaN</td>\n",
       "      <td>Raj Mehta                                     ...</td>\n",
       "      <td>Priya Hariani</td>\n",
       "      <td>NaN</td>\n",
       "      <td>Rajeev Thakkar</td>\n",
       "      <td>NaN</td>\n",
       "      <td>Jignesh Desai                                 ...</td>\n",
       "      <td>NaN</td>\n",
       "      <td>NaN</td>\n",
       "      <td>Rajeev Thakkar</td>\n",
       "    </tr>\n",
       "  </tbody>\n",
       "</table>\n",
       "<p>1 rows × 35 columns</p>\n",
       "</div>"
      ],
      "text/plain": [
       "   Name of the Mutual Fund Date of set up of Mutual Fund  \\\n",
       "31       PPFAS Mutual Fund              October 10, 2012   \n",
       "\n",
       "                               Name(s) of Sponsor  \\\n",
       "31  Parag Parikh Financial Advisory Services Ltd.   \n",
       "\n",
       "                  Name of Trustee Company  \\\n",
       "31  PPFAS Trustee Company Private Limited   \n",
       "\n",
       "                                     Name of Trustees  \\\n",
       "31  Bhagirat Merchant - Independent Director      ...   \n",
       "\n",
       "             Name of Assest Management Co. Date of Incorporation of AMC  \\\n",
       "31  PPFAS Asset Management Private Limited              August 08, 2011   \n",
       "\n",
       "                                  Name(s) of Director Name of Chairman  \\\n",
       "31  Neil Parag Parikh                             ...              NaN   \n",
       "\n",
       "   Name of Chief Executive Officer  ... Name(s) of Company Secretary  \\\n",
       "31               Neil Parag Parikh  ...                          NaN   \n",
       "\n",
       "                              Name(s) of Fund Manager  \\\n",
       "31  Raj Mehta                                     ...   \n",
       "\n",
       "   Name of Compliance Officer Name of Chief Bussiness Officer  \\\n",
       "31              Priya Hariani                             NaN   \n",
       "\n",
       "   Name of the Chief Investment Officer  \\\n",
       "31                       Rajeev Thakkar   \n",
       "\n",
       "   Name(s) of the Chief Investment Officer - Dept  \\\n",
       "31                                            NaN   \n",
       "\n",
       "                           Name of Head of Operations  \\\n",
       "31  Jignesh Desai                                 ...   \n",
       "\n",
       "   Name(s) of the Chief Investment Officer - Equity Name of President  \\\n",
       "31                                              NaN               NaN   \n",
       "\n",
       "   Name of Wholetime Director  \n",
       "31             Rajeev Thakkar  \n",
       "\n",
       "[1 rows x 35 columns]"
      ]
     },
     "execution_count": 7,
     "metadata": {},
     "output_type": "execute_result"
    }
   ],
   "source": [
    "# let's select a reputed fund house\n",
    "df_amc = df_amcs[df_amcs[\"Name of the Mutual Fund\"] == \"PPFAS Mutual Fund\"]\n",
    "df_amc"
   ]
  },
  {
   "cell_type": "code",
   "execution_count": 8,
   "metadata": {},
   "outputs": [
    {
     "data": {
      "text/plain": [
       "['Name of the Mutual Fund',\n",
       " 'Date of set up of Mutual Fund',\n",
       " 'Name(s) of Sponsor',\n",
       " 'Name of Trustee Company',\n",
       " 'Name of Trustees',\n",
       " 'Name of Assest Management Co.',\n",
       " 'Date of Incorporation of AMC',\n",
       " 'Name(s) of Director',\n",
       " 'Name of Chairman',\n",
       " 'Name of Chief Executive Officer',\n",
       " 'Name of Managing Director',\n",
       " 'Name of Compliance Officer & Company Secretary',\n",
       " 'Name of Investor Service Officer',\n",
       " 'Address of AMC',\n",
       " 'Telephone Number',\n",
       " 'Fax Number',\n",
       " 'Website',\n",
       " 'Email',\n",
       " 'Name(s) of Auditors ',\n",
       " 'Name(s) of Custodian ',\n",
       " 'Name(s) of Registrar and Transfer Agent',\n",
       " 'Name of Head Equity',\n",
       " 'Name of Head-Fixed Income',\n",
       " 'Name of Sales Head',\n",
       " 'Name(s) of the Chief Operating Officer',\n",
       " 'Name(s) of Company Secretary',\n",
       " 'Name(s) of Fund Manager',\n",
       " 'Name of Compliance Officer',\n",
       " 'Name of Chief Bussiness Officer',\n",
       " 'Name of the Chief Investment Officer',\n",
       " 'Name(s) of the Chief Investment Officer - Dept',\n",
       " 'Name of Head of Operations',\n",
       " 'Name(s) of the Chief Investment Officer - Equity',\n",
       " 'Name of President',\n",
       " 'Name of Wholetime Director']"
      ]
     },
     "execution_count": 8,
     "metadata": {},
     "output_type": "execute_result"
    }
   ],
   "source": [
    "# what is the fund house ID?\n",
    "df_amc.columns.to_list()"
   ]
  },
  {
   "cell_type": "code",
   "execution_count": 9,
   "metadata": {},
   "outputs": [],
   "source": [
    "# no ID here\n",
    "# let's fetch funds now\n",
    "\n",
    "df_schemes = pd.Series(mf.get_scheme_codes())\n",
    "# df_schemes"
   ]
  },
  {
   "cell_type": "code",
   "execution_count": 10,
   "metadata": {},
   "outputs": [
    {
     "data": {
      "text/plain": [
       "143263    Parag Parikh Liquid Fund- Direct Plan- Daily R...\n",
       "143269        Parag Parikh Liquid Fund- Direct Plan- Growth\n",
       "143262    Parag Parikh Liquid Fund- Direct Plan- Monthly...\n",
       "143265    Parag Parikh Liquid Fund- Direct Plan- Weekly ...\n",
       "143264    Parag Parikh Liquid Fund- Regular Plan- Daily ...\n",
       "143260       Parag Parikh Liquid Fund- Regular Plan- Growth\n",
       "143261    Parag Parikh Liquid Fund- Regular Plan- Monthl...\n",
       "143266    Parag Parikh Liquid Fund- Regular Plan- Weekly...\n",
       "147481           Parag Parikh Tax Saver Fund- Direct Growth\n",
       "147482          Parag Parikh Tax Saver Fund- Regular Growth\n",
       "122639    Parag Parikh Flexi Cap Fund - Direct Plan - Gr...\n",
       "122640    Parag Parikh Flexi Cap Fund - Regular Plan - G...\n",
       "148958    Parag Parikh Conservative Hybrid Fund - Direct...\n",
       "148961    Parag Parikh Conservative Hybrid Fund - Direct...\n",
       "148959    Parag Parikh Conservative Hybrid Fund - Regula...\n",
       "148960    Parag Parikh Conservative Hybrid Fund - Regula...\n",
       "dtype: object"
      ]
     },
     "execution_count": 10,
     "metadata": {},
     "output_type": "execute_result"
    }
   ],
   "source": [
    "# filter the funds from selected fund house\n",
    "df_schemes[df_schemes.str.contains(\"Parag Parikh\")]"
   ]
  },
  {
   "cell_type": "code",
   "execution_count": 11,
   "metadata": {},
   "outputs": [
    {
     "data": {
      "text/plain": [
       "122639    Parag Parikh Flexi Cap Fund - Direct Plan - Gr...\n",
       "dtype: object"
      ]
     },
     "execution_count": 11,
     "metadata": {},
     "output_type": "execute_result"
    }
   ],
   "source": [
    "# let's select the fund category\n",
    "df_fund = df_schemes[(df_schemes.str.contains(\"Parag Parikh\")) & (df_schemes.str.contains(\"Flexi\")) & (df_schemes.str.contains(\"Direct\"))]\n",
    "df_fund"
   ]
  },
  {
   "cell_type": "markdown",
   "metadata": {},
   "source": [
    "## Download and Save Historical NAVs"
   ]
  },
  {
   "cell_type": "code",
   "execution_count": 12,
   "metadata": {},
   "outputs": [
    {
     "data": {
      "text/html": [
       "<div>\n",
       "<style scoped>\n",
       "    .dataframe tbody tr th:only-of-type {\n",
       "        vertical-align: middle;\n",
       "    }\n",
       "\n",
       "    .dataframe tbody tr th {\n",
       "        vertical-align: top;\n",
       "    }\n",
       "\n",
       "    .dataframe thead th {\n",
       "        text-align: right;\n",
       "    }\n",
       "</style>\n",
       "<table border=\"1\" class=\"dataframe\">\n",
       "  <thead>\n",
       "    <tr style=\"text-align: right;\">\n",
       "      <th></th>\n",
       "      <th>nav</th>\n",
       "      <th>dayChange</th>\n",
       "    </tr>\n",
       "    <tr>\n",
       "      <th>date</th>\n",
       "      <th></th>\n",
       "      <th></th>\n",
       "    </tr>\n",
       "  </thead>\n",
       "  <tbody>\n",
       "    <tr>\n",
       "      <th>09-11-2022</th>\n",
       "      <td>51.72790</td>\n",
       "      <td>0.2760</td>\n",
       "    </tr>\n",
       "    <tr>\n",
       "      <th>07-11-2022</th>\n",
       "      <td>51.45190</td>\n",
       "      <td>0.4838</td>\n",
       "    </tr>\n",
       "    <tr>\n",
       "      <th>04-11-2022</th>\n",
       "      <td>50.96810</td>\n",
       "      <td>-0.3444</td>\n",
       "    </tr>\n",
       "    <tr>\n",
       "      <th>03-11-2022</th>\n",
       "      <td>51.31250</td>\n",
       "      <td>-0.3929</td>\n",
       "    </tr>\n",
       "    <tr>\n",
       "      <th>02-11-2022</th>\n",
       "      <td>51.70540</td>\n",
       "      <td>-0.2795</td>\n",
       "    </tr>\n",
       "    <tr>\n",
       "      <th>...</th>\n",
       "      <td>...</td>\n",
       "      <td>...</td>\n",
       "    </tr>\n",
       "    <tr>\n",
       "      <th>03-06-2013</th>\n",
       "      <td>10.05720</td>\n",
       "      <td>0.0418</td>\n",
       "    </tr>\n",
       "    <tr>\n",
       "      <th>31-05-2013</th>\n",
       "      <td>10.01540</td>\n",
       "      <td>-0.0173</td>\n",
       "    </tr>\n",
       "    <tr>\n",
       "      <th>30-05-2013</th>\n",
       "      <td>10.03270</td>\n",
       "      <td>0.0247</td>\n",
       "    </tr>\n",
       "    <tr>\n",
       "      <th>29-05-2013</th>\n",
       "      <td>10.00800</td>\n",
       "      <td>0.0088</td>\n",
       "    </tr>\n",
       "    <tr>\n",
       "      <th>28-05-2013</th>\n",
       "      <td>9.99920</td>\n",
       "      <td>NaN</td>\n",
       "    </tr>\n",
       "  </tbody>\n",
       "</table>\n",
       "<p>2325 rows × 2 columns</p>\n",
       "</div>"
      ],
      "text/plain": [
       "                 nav  dayChange\n",
       "date                           \n",
       "09-11-2022  51.72790     0.2760\n",
       "07-11-2022  51.45190     0.4838\n",
       "04-11-2022  50.96810    -0.3444\n",
       "03-11-2022  51.31250    -0.3929\n",
       "02-11-2022  51.70540    -0.2795\n",
       "...              ...        ...\n",
       "03-06-2013  10.05720     0.0418\n",
       "31-05-2013  10.01540    -0.0173\n",
       "30-05-2013  10.03270     0.0247\n",
       "29-05-2013  10.00800     0.0088\n",
       "28-05-2013   9.99920        NaN\n",
       "\n",
       "[2325 rows x 2 columns]"
      ]
     },
     "execution_count": 12,
     "metadata": {},
     "output_type": "execute_result"
    }
   ],
   "source": [
    "df_nav = mf.get_scheme_historical_nav(df_fund.index.item(), as_Dataframe=True)\n",
    "df_nav"
   ]
  },
  {
   "cell_type": "code",
   "execution_count": 13,
   "metadata": {},
   "outputs": [],
   "source": [
    "df_nav.to_csv(f\"../data/{df_fund.item()}.csv\")"
   ]
  },
  {
   "cell_type": "code",
   "execution_count": null,
   "metadata": {},
   "outputs": [],
   "source": []
  }
 ],
 "metadata": {
  "kernelspec": {
   "display_name": "Python 3.10.6 ('mutual-fund-analysis')",
   "language": "python",
   "name": "python3"
  },
  "language_info": {
   "codemirror_mode": {
    "name": "ipython",
    "version": 3
   },
   "file_extension": ".py",
   "mimetype": "text/x-python",
   "name": "python",
   "nbconvert_exporter": "python",
   "pygments_lexer": "ipython3",
   "version": "3.10.6"
  },
  "orig_nbformat": 4,
  "vscode": {
   "interpreter": {
    "hash": "4c5b7ae1e66911b7c176065c61d8a1e682138fbe078cdc476bcbbd6a1464a1b5"
   }
  }
 },
 "nbformat": 4,
 "nbformat_minor": 2
}
