{
  "nbformat": 4,
  "nbformat_minor": 0,
  "metadata": {
    "colab": {
      "provenance": [],
      "collapsed_sections": [
        "aB4aZf0lqrIt",
        "WOK-aJ-yqlVG",
        "JN7HjDuRquwS"
      ]
    },
    "kernelspec": {
      "name": "python3",
      "display_name": "Python 3"
    },
    "language_info": {
      "name": "python"
    }
  },
  "cells": [
    {
      "cell_type": "markdown",
      "source": [
        "## Dependencies\n",
        "\n"
      ],
      "metadata": {
        "id": "aB4aZf0lqrIt"
      }
    },
    {
      "cell_type": "code",
      "execution_count": 1,
      "metadata": {
        "id": "4CmUNbJEpO2S",
        "outputId": "7cac6093-6c1e-4773-f3d6-6b62f76d8dc6",
        "colab": {
          "base_uri": "https://localhost:8080/"
        }
      },
      "outputs": [
        {
          "output_type": "stream",
          "name": "stdout",
          "text": [
            "Looking in indexes: https://pypi.org/simple, https://us-python.pkg.dev/colab-wheels/public/simple/\n",
            "Requirement already satisfied: mftool in /usr/local/lib/python3.7/dist-packages (2.5)\n",
            "Requirement already satisfied: pandas in /usr/local/lib/python3.7/dist-packages (from mftool) (1.3.5)\n",
            "Requirement already satisfied: yfinance in /usr/local/lib/python3.7/dist-packages (from mftool) (0.1.85)\n",
            "Requirement already satisfied: requests in /usr/local/lib/python3.7/dist-packages (from mftool) (2.28.1)\n",
            "Requirement already satisfied: httpx in /usr/local/lib/python3.7/dist-packages (from mftool) (0.23.0)\n",
            "Requirement already satisfied: bs4 in /usr/local/lib/python3.7/dist-packages (from mftool) (0.0.1)\n",
            "Requirement already satisfied: Deprecated in /usr/local/lib/python3.7/dist-packages (from mftool) (1.2.13)\n",
            "Requirement already satisfied: beautifulsoup4 in /usr/local/lib/python3.7/dist-packages (from bs4->mftool) (4.6.3)\n",
            "Requirement already satisfied: wrapt<2,>=1.10 in /usr/local/lib/python3.7/dist-packages (from Deprecated->mftool) (1.14.1)\n",
            "Requirement already satisfied: rfc3986[idna2008]<2,>=1.3 in /usr/local/lib/python3.7/dist-packages (from httpx->mftool) (1.5.0)\n",
            "Requirement already satisfied: httpcore<0.16.0,>=0.15.0 in /usr/local/lib/python3.7/dist-packages (from httpx->mftool) (0.15.0)\n",
            "Requirement already satisfied: sniffio in /usr/local/lib/python3.7/dist-packages (from httpx->mftool) (1.3.0)\n",
            "Requirement already satisfied: certifi in /usr/local/lib/python3.7/dist-packages (from httpx->mftool) (2022.9.24)\n",
            "Requirement already satisfied: anyio==3.* in /usr/local/lib/python3.7/dist-packages (from httpcore<0.16.0,>=0.15.0->httpx->mftool) (3.6.2)\n",
            "Requirement already satisfied: h11<0.13,>=0.11 in /usr/local/lib/python3.7/dist-packages (from httpcore<0.16.0,>=0.15.0->httpx->mftool) (0.12.0)\n",
            "Requirement already satisfied: typing-extensions in /usr/local/lib/python3.7/dist-packages (from anyio==3.*->httpcore<0.16.0,>=0.15.0->httpx->mftool) (4.1.1)\n",
            "Requirement already satisfied: idna>=2.8 in /usr/local/lib/python3.7/dist-packages (from anyio==3.*->httpcore<0.16.0,>=0.15.0->httpx->mftool) (2.10)\n",
            "Requirement already satisfied: python-dateutil>=2.7.3 in /usr/local/lib/python3.7/dist-packages (from pandas->mftool) (2.8.2)\n",
            "Requirement already satisfied: pytz>=2017.3 in /usr/local/lib/python3.7/dist-packages (from pandas->mftool) (2022.5)\n",
            "Requirement already satisfied: numpy>=1.17.3 in /usr/local/lib/python3.7/dist-packages (from pandas->mftool) (1.21.6)\n",
            "Requirement already satisfied: six>=1.5 in /usr/local/lib/python3.7/dist-packages (from python-dateutil>=2.7.3->pandas->mftool) (1.15.0)\n",
            "Requirement already satisfied: urllib3<1.27,>=1.21.1 in /usr/local/lib/python3.7/dist-packages (from requests->mftool) (1.24.3)\n",
            "Requirement already satisfied: charset-normalizer<3,>=2 in /usr/local/lib/python3.7/dist-packages (from requests->mftool) (2.1.1)\n",
            "Requirement already satisfied: lxml>=4.5.1 in /usr/local/lib/python3.7/dist-packages (from yfinance->mftool) (4.9.1)\n",
            "Requirement already satisfied: appdirs>=1.4.4 in /usr/local/lib/python3.7/dist-packages (from yfinance->mftool) (1.4.4)\n",
            "Requirement already satisfied: multitasking>=0.0.7 in /usr/local/lib/python3.7/dist-packages (from yfinance->mftool) (0.0.11)\n"
          ]
        }
      ],
      "source": [
        "!pip install mftool"
      ]
    },
    {
      "cell_type": "markdown",
      "source": [
        "## Imports"
      ],
      "metadata": {
        "id": "WOK-aJ-yqlVG"
      }
    },
    {
      "cell_type": "code",
      "source": [
        "from mftool import Mftool\n",
        "import pandas as pd\n",
        "import datetime"
      ],
      "metadata": {
        "id": "t27qmyWAqnVl"
      },
      "execution_count": 2,
      "outputs": []
    },
    {
      "cell_type": "markdown",
      "source": [
        "## Select Mutual Fund House and Scheme"
      ],
      "metadata": {
        "id": "JN7HjDuRquwS"
      }
    },
    {
      "cell_type": "code",
      "source": [
        "mf = Mftool()"
      ],
      "metadata": {
        "id": "dx5yfc7VqgjT"
      },
      "execution_count": 3,
      "outputs": []
    },
    {
      "cell_type": "code",
      "source": [
        "# get all supported amc details\n",
        "amc_details = mf.get_all_amc_profiles(as_json=False)\n",
        "# amc_details"
      ],
      "metadata": {
        "id": "oeodhpUsqDHf"
      },
      "execution_count": 4,
      "outputs": []
    },
    {
      "cell_type": "code",
      "source": [
        "df_amcs = pd.DataFrame(amc_details)\n",
        "# df_amcs"
      ],
      "metadata": {
        "id": "01uFBTz4qU4y"
      },
      "execution_count": 5,
      "outputs": []
    },
    {
      "cell_type": "code",
      "source": [
        "# let's select a reputed fund house\n",
        "df_amc = df_amcs[df_amcs[\"Name of the Mutual Fund\"] == \"PPFAS Mutual Fund\"]\n",
        "df_amc"
      ],
      "metadata": {
        "colab": {
          "base_uri": "https://localhost:8080/",
          "height": 330
        },
        "id": "M8E3rcEirNFv",
        "outputId": "29d77482-88ba-4189-fcb6-f1b6f85daa5f"
      },
      "execution_count": 6,
      "outputs": [
        {
          "output_type": "execute_result",
          "data": {
            "text/plain": [
              "   Name of the Mutual Fund Date of set up of Mutual Fund  \\\n",
              "31       PPFAS Mutual Fund              October 10, 2012   \n",
              "\n",
              "                               Name(s) of Sponsor  \\\n",
              "31  Parag Parikh Financial Advisory Services Ltd.   \n",
              "\n",
              "                  Name of Trustee Company  \\\n",
              "31  PPFAS Trustee Company Private Limited   \n",
              "\n",
              "                                     Name of Trustees  \\\n",
              "31  Bhagirat Merchant - Independent Director      ...   \n",
              "\n",
              "             Name of Assest Management Co. Date of Incorporation of AMC  \\\n",
              "31  PPFAS Asset Management Private Limited              August 08, 2011   \n",
              "\n",
              "                                  Name(s) of Director Name of Chairman  \\\n",
              "31  Neil Parag Parikh                             ...              NaN   \n",
              "\n",
              "   Name of Chief Executive Officer  ... Name(s) of Company Secretary  \\\n",
              "31               Neil Parag Parikh  ...                          NaN   \n",
              "\n",
              "                              Name(s) of Fund Manager  \\\n",
              "31  Raj Mehta                                     ...   \n",
              "\n",
              "   Name of Compliance Officer Name of Chief Bussiness Officer  \\\n",
              "31              Priya Hariani                             NaN   \n",
              "\n",
              "   Name of the Chief Investment Officer  \\\n",
              "31                       Rajeev Thakkar   \n",
              "\n",
              "   Name(s) of the Chief Investment Officer - Dept  \\\n",
              "31                                            NaN   \n",
              "\n",
              "                           Name of Head of Operations  \\\n",
              "31  Jignesh Desai                                 ...   \n",
              "\n",
              "   Name(s) of the Chief Investment Officer - Equity Name of President  \\\n",
              "31                                              NaN               NaN   \n",
              "\n",
              "   Name of Wholetime Director  \n",
              "31             Rajeev Thakkar  \n",
              "\n",
              "[1 rows x 35 columns]"
            ],
            "text/html": [
              "\n",
              "  <div id=\"df-fa265dd3-8b08-4237-b9b2-a5497297219a\">\n",
              "    <div class=\"colab-df-container\">\n",
              "      <div>\n",
              "<style scoped>\n",
              "    .dataframe tbody tr th:only-of-type {\n",
              "        vertical-align: middle;\n",
              "    }\n",
              "\n",
              "    .dataframe tbody tr th {\n",
              "        vertical-align: top;\n",
              "    }\n",
              "\n",
              "    .dataframe thead th {\n",
              "        text-align: right;\n",
              "    }\n",
              "</style>\n",
              "<table border=\"1\" class=\"dataframe\">\n",
              "  <thead>\n",
              "    <tr style=\"text-align: right;\">\n",
              "      <th></th>\n",
              "      <th>Name of the Mutual Fund</th>\n",
              "      <th>Date of set up of Mutual Fund</th>\n",
              "      <th>Name(s) of Sponsor</th>\n",
              "      <th>Name of Trustee Company</th>\n",
              "      <th>Name of Trustees</th>\n",
              "      <th>Name of Assest Management Co.</th>\n",
              "      <th>Date of Incorporation of AMC</th>\n",
              "      <th>Name(s) of Director</th>\n",
              "      <th>Name of Chairman</th>\n",
              "      <th>Name of Chief Executive Officer</th>\n",
              "      <th>...</th>\n",
              "      <th>Name(s) of Company Secretary</th>\n",
              "      <th>Name(s) of Fund Manager</th>\n",
              "      <th>Name of Compliance Officer</th>\n",
              "      <th>Name of Chief Bussiness Officer</th>\n",
              "      <th>Name of the Chief Investment Officer</th>\n",
              "      <th>Name(s) of the Chief Investment Officer - Dept</th>\n",
              "      <th>Name of Head of Operations</th>\n",
              "      <th>Name(s) of the Chief Investment Officer - Equity</th>\n",
              "      <th>Name of President</th>\n",
              "      <th>Name of Wholetime Director</th>\n",
              "    </tr>\n",
              "  </thead>\n",
              "  <tbody>\n",
              "    <tr>\n",
              "      <th>31</th>\n",
              "      <td>PPFAS Mutual Fund</td>\n",
              "      <td>October 10, 2012</td>\n",
              "      <td>Parag Parikh Financial Advisory Services Ltd.</td>\n",
              "      <td>PPFAS Trustee Company Private Limited</td>\n",
              "      <td>Bhagirat Merchant - Independent Director      ...</td>\n",
              "      <td>PPFAS Asset Management Private Limited</td>\n",
              "      <td>August 08, 2011</td>\n",
              "      <td>Neil Parag Parikh                             ...</td>\n",
              "      <td>NaN</td>\n",
              "      <td>Neil Parag Parikh</td>\n",
              "      <td>...</td>\n",
              "      <td>NaN</td>\n",
              "      <td>Raj Mehta                                     ...</td>\n",
              "      <td>Priya Hariani</td>\n",
              "      <td>NaN</td>\n",
              "      <td>Rajeev Thakkar</td>\n",
              "      <td>NaN</td>\n",
              "      <td>Jignesh Desai                                 ...</td>\n",
              "      <td>NaN</td>\n",
              "      <td>NaN</td>\n",
              "      <td>Rajeev Thakkar</td>\n",
              "    </tr>\n",
              "  </tbody>\n",
              "</table>\n",
              "<p>1 rows × 35 columns</p>\n",
              "</div>\n",
              "      <button class=\"colab-df-convert\" onclick=\"convertToInteractive('df-fa265dd3-8b08-4237-b9b2-a5497297219a')\"\n",
              "              title=\"Convert this dataframe to an interactive table.\"\n",
              "              style=\"display:none;\">\n",
              "        \n",
              "  <svg xmlns=\"http://www.w3.org/2000/svg\" height=\"24px\"viewBox=\"0 0 24 24\"\n",
              "       width=\"24px\">\n",
              "    <path d=\"M0 0h24v24H0V0z\" fill=\"none\"/>\n",
              "    <path d=\"M18.56 5.44l.94 2.06.94-2.06 2.06-.94-2.06-.94-.94-2.06-.94 2.06-2.06.94zm-11 1L8.5 8.5l.94-2.06 2.06-.94-2.06-.94L8.5 2.5l-.94 2.06-2.06.94zm10 10l.94 2.06.94-2.06 2.06-.94-2.06-.94-.94-2.06-.94 2.06-2.06.94z\"/><path d=\"M17.41 7.96l-1.37-1.37c-.4-.4-.92-.59-1.43-.59-.52 0-1.04.2-1.43.59L10.3 9.45l-7.72 7.72c-.78.78-.78 2.05 0 2.83L4 21.41c.39.39.9.59 1.41.59.51 0 1.02-.2 1.41-.59l7.78-7.78 2.81-2.81c.8-.78.8-2.07 0-2.86zM5.41 20L4 18.59l7.72-7.72 1.47 1.35L5.41 20z\"/>\n",
              "  </svg>\n",
              "      </button>\n",
              "      \n",
              "  <style>\n",
              "    .colab-df-container {\n",
              "      display:flex;\n",
              "      flex-wrap:wrap;\n",
              "      gap: 12px;\n",
              "    }\n",
              "\n",
              "    .colab-df-convert {\n",
              "      background-color: #E8F0FE;\n",
              "      border: none;\n",
              "      border-radius: 50%;\n",
              "      cursor: pointer;\n",
              "      display: none;\n",
              "      fill: #1967D2;\n",
              "      height: 32px;\n",
              "      padding: 0 0 0 0;\n",
              "      width: 32px;\n",
              "    }\n",
              "\n",
              "    .colab-df-convert:hover {\n",
              "      background-color: #E2EBFA;\n",
              "      box-shadow: 0px 1px 2px rgba(60, 64, 67, 0.3), 0px 1px 3px 1px rgba(60, 64, 67, 0.15);\n",
              "      fill: #174EA6;\n",
              "    }\n",
              "\n",
              "    [theme=dark] .colab-df-convert {\n",
              "      background-color: #3B4455;\n",
              "      fill: #D2E3FC;\n",
              "    }\n",
              "\n",
              "    [theme=dark] .colab-df-convert:hover {\n",
              "      background-color: #434B5C;\n",
              "      box-shadow: 0px 1px 3px 1px rgba(0, 0, 0, 0.15);\n",
              "      filter: drop-shadow(0px 1px 2px rgba(0, 0, 0, 0.3));\n",
              "      fill: #FFFFFF;\n",
              "    }\n",
              "  </style>\n",
              "\n",
              "      <script>\n",
              "        const buttonEl =\n",
              "          document.querySelector('#df-fa265dd3-8b08-4237-b9b2-a5497297219a button.colab-df-convert');\n",
              "        buttonEl.style.display =\n",
              "          google.colab.kernel.accessAllowed ? 'block' : 'none';\n",
              "\n",
              "        async function convertToInteractive(key) {\n",
              "          const element = document.querySelector('#df-fa265dd3-8b08-4237-b9b2-a5497297219a');\n",
              "          const dataTable =\n",
              "            await google.colab.kernel.invokeFunction('convertToInteractive',\n",
              "                                                     [key], {});\n",
              "          if (!dataTable) return;\n",
              "\n",
              "          const docLinkHtml = 'Like what you see? Visit the ' +\n",
              "            '<a target=\"_blank\" href=https://colab.research.google.com/notebooks/data_table.ipynb>data table notebook</a>'\n",
              "            + ' to learn more about interactive tables.';\n",
              "          element.innerHTML = '';\n",
              "          dataTable['output_type'] = 'display_data';\n",
              "          await google.colab.output.renderOutput(dataTable, element);\n",
              "          const docLink = document.createElement('div');\n",
              "          docLink.innerHTML = docLinkHtml;\n",
              "          element.appendChild(docLink);\n",
              "        }\n",
              "      </script>\n",
              "    </div>\n",
              "  </div>\n",
              "  "
            ]
          },
          "metadata": {},
          "execution_count": 6
        }
      ]
    },
    {
      "cell_type": "code",
      "source": [
        "# what is the fund house ID?\n",
        "df_amc.columns.to_list()"
      ],
      "metadata": {
        "colab": {
          "base_uri": "https://localhost:8080/"
        },
        "id": "9BZjhVSssg_z",
        "outputId": "134991eb-6fe5-4bc0-d78a-8bf7263b7507"
      },
      "execution_count": 7,
      "outputs": [
        {
          "output_type": "execute_result",
          "data": {
            "text/plain": [
              "['Name of the Mutual Fund',\n",
              " 'Date of set up of Mutual Fund',\n",
              " 'Name(s) of Sponsor',\n",
              " 'Name of Trustee Company',\n",
              " 'Name of Trustees',\n",
              " 'Name of Assest Management Co.',\n",
              " 'Date of Incorporation of AMC',\n",
              " 'Name(s) of Director',\n",
              " 'Name of Chairman',\n",
              " 'Name of Chief Executive Officer',\n",
              " 'Name of Managing Director',\n",
              " 'Name of Compliance Officer & Company Secretary',\n",
              " 'Name of Investor Service Officer',\n",
              " 'Address of AMC',\n",
              " 'Telephone Number',\n",
              " 'Fax Number',\n",
              " 'Website',\n",
              " 'Email',\n",
              " 'Name(s) of Auditors ',\n",
              " 'Name(s) of Custodian ',\n",
              " 'Name(s) of Registrar and Transfer Agent',\n",
              " 'Name of Head Equity',\n",
              " 'Name of Head-Fixed Income',\n",
              " 'Name of Sales Head',\n",
              " 'Name(s) of the Chief Operating Officer',\n",
              " 'Name(s) of Company Secretary',\n",
              " 'Name(s) of Fund Manager',\n",
              " 'Name of Compliance Officer',\n",
              " 'Name of Chief Bussiness Officer',\n",
              " 'Name of the Chief Investment Officer',\n",
              " 'Name(s) of the Chief Investment Officer - Dept',\n",
              " 'Name of Head of Operations',\n",
              " 'Name(s) of the Chief Investment Officer - Equity',\n",
              " 'Name of President',\n",
              " 'Name of Wholetime Director']"
            ]
          },
          "metadata": {},
          "execution_count": 7
        }
      ]
    },
    {
      "cell_type": "code",
      "source": [
        "# no ID here\n",
        "# let's fetch funds now\n",
        "\n",
        "df_schemes = pd.Series(mf.get_scheme_codes())\n",
        "# df_schemes"
      ],
      "metadata": {
        "id": "Zu4kZ3IZsokw"
      },
      "execution_count": 8,
      "outputs": []
    },
    {
      "cell_type": "code",
      "source": [
        "# filter the funds from selected fund house\n",
        "df_schemes[df_schemes.str.contains(\"Parag Parikh\")]"
      ],
      "metadata": {
        "colab": {
          "base_uri": "https://localhost:8080/"
        },
        "id": "cQxI_xGnuS-5",
        "outputId": "75a9ed3f-9eca-4229-b99c-451d98fda0da"
      },
      "execution_count": 9,
      "outputs": [
        {
          "output_type": "execute_result",
          "data": {
            "text/plain": [
              "143263    Parag Parikh Liquid Fund- Direct Plan- Daily R...\n",
              "143269        Parag Parikh Liquid Fund- Direct Plan- Growth\n",
              "143262    Parag Parikh Liquid Fund- Direct Plan- Monthly...\n",
              "143265    Parag Parikh Liquid Fund- Direct Plan- Weekly ...\n",
              "143264    Parag Parikh Liquid Fund- Regular Plan- Daily ...\n",
              "143260       Parag Parikh Liquid Fund- Regular Plan- Growth\n",
              "143261    Parag Parikh Liquid Fund- Regular Plan- Monthl...\n",
              "143266    Parag Parikh Liquid Fund- Regular Plan- Weekly...\n",
              "147481           Parag Parikh Tax Saver Fund- Direct Growth\n",
              "147482          Parag Parikh Tax Saver Fund- Regular Growth\n",
              "122639    Parag Parikh Flexi Cap Fund - Direct Plan - Gr...\n",
              "122640    Parag Parikh Flexi Cap Fund - Regular Plan - G...\n",
              "148958    Parag Parikh Conservative Hybrid Fund - Direct...\n",
              "148961    Parag Parikh Conservative Hybrid Fund - Direct...\n",
              "148959    Parag Parikh Conservative Hybrid Fund - Regula...\n",
              "148960    Parag Parikh Conservative Hybrid Fund - Regula...\n",
              "dtype: object"
            ]
          },
          "metadata": {},
          "execution_count": 9
        }
      ]
    },
    {
      "cell_type": "code",
      "source": [
        "# let's select the fund category\n",
        "df_fund = df_schemes[(df_schemes.str.contains(\"Parag Parikh\")) & (df_schemes.str.contains(\"Flexi\")) & (df_schemes.str.contains(\"Direct\"))]\n",
        "df_fund"
      ],
      "metadata": {
        "colab": {
          "base_uri": "https://localhost:8080/"
        },
        "id": "HmvB9-j-ucBy",
        "outputId": "80f7bb5d-283d-4611-cf3d-7119c33378d9"
      },
      "execution_count": 10,
      "outputs": [
        {
          "output_type": "execute_result",
          "data": {
            "text/plain": [
              "122639    Parag Parikh Flexi Cap Fund - Direct Plan - Gr...\n",
              "dtype: object"
            ]
          },
          "metadata": {},
          "execution_count": 10
        }
      ]
    },
    {
      "cell_type": "markdown",
      "source": [
        "## Collect Historic Data & Make Ready To Access"
      ],
      "metadata": {
        "id": "GB1niLYXva-0"
      }
    },
    {
      "cell_type": "code",
      "source": [
        "df_nav = mf.get_scheme_historical_nav(df_fund.index.item(), as_Dataframe=True)\n",
        "df_nav"
      ],
      "metadata": {
        "colab": {
          "base_uri": "https://localhost:8080/",
          "height": 455
        },
        "id": "7aUdP0C3vS-W",
        "outputId": "f7b68fc3-fbb9-45f7-9a10-c624bd89e121"
      },
      "execution_count": 11,
      "outputs": [
        {
          "output_type": "execute_result",
          "data": {
            "text/plain": [
              "                 nav  dayChange\n",
              "date                           \n",
              "04-11-2022  50.96810    -0.3444\n",
              "03-11-2022  51.31250    -0.3929\n",
              "02-11-2022  51.70540    -0.2795\n",
              "01-11-2022  51.98490     0.0385\n",
              "31-10-2022  51.94640     0.4248\n",
              "...              ...        ...\n",
              "03-06-2013  10.05720     0.0418\n",
              "31-05-2013  10.01540    -0.0173\n",
              "30-05-2013  10.03270     0.0247\n",
              "29-05-2013  10.00800     0.0088\n",
              "28-05-2013   9.99920        NaN\n",
              "\n",
              "[2323 rows x 2 columns]"
            ],
            "text/html": [
              "\n",
              "  <div id=\"df-81dcdaad-78fc-45aa-8d85-6a872a783614\">\n",
              "    <div class=\"colab-df-container\">\n",
              "      <div>\n",
              "<style scoped>\n",
              "    .dataframe tbody tr th:only-of-type {\n",
              "        vertical-align: middle;\n",
              "    }\n",
              "\n",
              "    .dataframe tbody tr th {\n",
              "        vertical-align: top;\n",
              "    }\n",
              "\n",
              "    .dataframe thead th {\n",
              "        text-align: right;\n",
              "    }\n",
              "</style>\n",
              "<table border=\"1\" class=\"dataframe\">\n",
              "  <thead>\n",
              "    <tr style=\"text-align: right;\">\n",
              "      <th></th>\n",
              "      <th>nav</th>\n",
              "      <th>dayChange</th>\n",
              "    </tr>\n",
              "    <tr>\n",
              "      <th>date</th>\n",
              "      <th></th>\n",
              "      <th></th>\n",
              "    </tr>\n",
              "  </thead>\n",
              "  <tbody>\n",
              "    <tr>\n",
              "      <th>04-11-2022</th>\n",
              "      <td>50.96810</td>\n",
              "      <td>-0.3444</td>\n",
              "    </tr>\n",
              "    <tr>\n",
              "      <th>03-11-2022</th>\n",
              "      <td>51.31250</td>\n",
              "      <td>-0.3929</td>\n",
              "    </tr>\n",
              "    <tr>\n",
              "      <th>02-11-2022</th>\n",
              "      <td>51.70540</td>\n",
              "      <td>-0.2795</td>\n",
              "    </tr>\n",
              "    <tr>\n",
              "      <th>01-11-2022</th>\n",
              "      <td>51.98490</td>\n",
              "      <td>0.0385</td>\n",
              "    </tr>\n",
              "    <tr>\n",
              "      <th>31-10-2022</th>\n",
              "      <td>51.94640</td>\n",
              "      <td>0.4248</td>\n",
              "    </tr>\n",
              "    <tr>\n",
              "      <th>...</th>\n",
              "      <td>...</td>\n",
              "      <td>...</td>\n",
              "    </tr>\n",
              "    <tr>\n",
              "      <th>03-06-2013</th>\n",
              "      <td>10.05720</td>\n",
              "      <td>0.0418</td>\n",
              "    </tr>\n",
              "    <tr>\n",
              "      <th>31-05-2013</th>\n",
              "      <td>10.01540</td>\n",
              "      <td>-0.0173</td>\n",
              "    </tr>\n",
              "    <tr>\n",
              "      <th>30-05-2013</th>\n",
              "      <td>10.03270</td>\n",
              "      <td>0.0247</td>\n",
              "    </tr>\n",
              "    <tr>\n",
              "      <th>29-05-2013</th>\n",
              "      <td>10.00800</td>\n",
              "      <td>0.0088</td>\n",
              "    </tr>\n",
              "    <tr>\n",
              "      <th>28-05-2013</th>\n",
              "      <td>9.99920</td>\n",
              "      <td>NaN</td>\n",
              "    </tr>\n",
              "  </tbody>\n",
              "</table>\n",
              "<p>2323 rows × 2 columns</p>\n",
              "</div>\n",
              "      <button class=\"colab-df-convert\" onclick=\"convertToInteractive('df-81dcdaad-78fc-45aa-8d85-6a872a783614')\"\n",
              "              title=\"Convert this dataframe to an interactive table.\"\n",
              "              style=\"display:none;\">\n",
              "        \n",
              "  <svg xmlns=\"http://www.w3.org/2000/svg\" height=\"24px\"viewBox=\"0 0 24 24\"\n",
              "       width=\"24px\">\n",
              "    <path d=\"M0 0h24v24H0V0z\" fill=\"none\"/>\n",
              "    <path d=\"M18.56 5.44l.94 2.06.94-2.06 2.06-.94-2.06-.94-.94-2.06-.94 2.06-2.06.94zm-11 1L8.5 8.5l.94-2.06 2.06-.94-2.06-.94L8.5 2.5l-.94 2.06-2.06.94zm10 10l.94 2.06.94-2.06 2.06-.94-2.06-.94-.94-2.06-.94 2.06-2.06.94z\"/><path d=\"M17.41 7.96l-1.37-1.37c-.4-.4-.92-.59-1.43-.59-.52 0-1.04.2-1.43.59L10.3 9.45l-7.72 7.72c-.78.78-.78 2.05 0 2.83L4 21.41c.39.39.9.59 1.41.59.51 0 1.02-.2 1.41-.59l7.78-7.78 2.81-2.81c.8-.78.8-2.07 0-2.86zM5.41 20L4 18.59l7.72-7.72 1.47 1.35L5.41 20z\"/>\n",
              "  </svg>\n",
              "      </button>\n",
              "      \n",
              "  <style>\n",
              "    .colab-df-container {\n",
              "      display:flex;\n",
              "      flex-wrap:wrap;\n",
              "      gap: 12px;\n",
              "    }\n",
              "\n",
              "    .colab-df-convert {\n",
              "      background-color: #E8F0FE;\n",
              "      border: none;\n",
              "      border-radius: 50%;\n",
              "      cursor: pointer;\n",
              "      display: none;\n",
              "      fill: #1967D2;\n",
              "      height: 32px;\n",
              "      padding: 0 0 0 0;\n",
              "      width: 32px;\n",
              "    }\n",
              "\n",
              "    .colab-df-convert:hover {\n",
              "      background-color: #E2EBFA;\n",
              "      box-shadow: 0px 1px 2px rgba(60, 64, 67, 0.3), 0px 1px 3px 1px rgba(60, 64, 67, 0.15);\n",
              "      fill: #174EA6;\n",
              "    }\n",
              "\n",
              "    [theme=dark] .colab-df-convert {\n",
              "      background-color: #3B4455;\n",
              "      fill: #D2E3FC;\n",
              "    }\n",
              "\n",
              "    [theme=dark] .colab-df-convert:hover {\n",
              "      background-color: #434B5C;\n",
              "      box-shadow: 0px 1px 3px 1px rgba(0, 0, 0, 0.15);\n",
              "      filter: drop-shadow(0px 1px 2px rgba(0, 0, 0, 0.3));\n",
              "      fill: #FFFFFF;\n",
              "    }\n",
              "  </style>\n",
              "\n",
              "      <script>\n",
              "        const buttonEl =\n",
              "          document.querySelector('#df-81dcdaad-78fc-45aa-8d85-6a872a783614 button.colab-df-convert');\n",
              "        buttonEl.style.display =\n",
              "          google.colab.kernel.accessAllowed ? 'block' : 'none';\n",
              "\n",
              "        async function convertToInteractive(key) {\n",
              "          const element = document.querySelector('#df-81dcdaad-78fc-45aa-8d85-6a872a783614');\n",
              "          const dataTable =\n",
              "            await google.colab.kernel.invokeFunction('convertToInteractive',\n",
              "                                                     [key], {});\n",
              "          if (!dataTable) return;\n",
              "\n",
              "          const docLinkHtml = 'Like what you see? Visit the ' +\n",
              "            '<a target=\"_blank\" href=https://colab.research.google.com/notebooks/data_table.ipynb>data table notebook</a>'\n",
              "            + ' to learn more about interactive tables.';\n",
              "          element.innerHTML = '';\n",
              "          dataTable['output_type'] = 'display_data';\n",
              "          await google.colab.output.renderOutput(dataTable, element);\n",
              "          const docLink = document.createElement('div');\n",
              "          docLink.innerHTML = docLinkHtml;\n",
              "          element.appendChild(docLink);\n",
              "        }\n",
              "      </script>\n",
              "    </div>\n",
              "  </div>\n",
              "  "
            ]
          },
          "metadata": {},
          "execution_count": 11
        }
      ]
    },
    {
      "cell_type": "code",
      "source": [
        "# df_nav.dtypes"
      ],
      "metadata": {
        "id": "utHLVKuh-yG2"
      },
      "execution_count": 12,
      "outputs": []
    },
    {
      "cell_type": "code",
      "source": [
        "# # cast nav to float64\n",
        "\n",
        "# df_nav[\"nav\"] = df_nav[\"nav\"].astype(\"float64\")\n",
        "# df_nav.dtypes"
      ],
      "metadata": {
        "id": "dbPzWa6L-4b8"
      },
      "execution_count": 13,
      "outputs": []
    },
    {
      "cell_type": "code",
      "source": [
        "# df_nav.index.dtype"
      ],
      "metadata": {
        "id": "WYhQ7BlNSnTw"
      },
      "execution_count": 14,
      "outputs": []
    },
    {
      "cell_type": "code",
      "source": [
        "# df_nav.index[0]"
      ],
      "metadata": {
        "id": "NDnUqQFJasKR"
      },
      "execution_count": 15,
      "outputs": []
    },
    {
      "cell_type": "code",
      "source": [
        "# # done below\n",
        "# # cast index to datetime\n",
        "\n",
        "# df_nav.index = pd.to_datetime(df_nav.index, infer_datetime_format=True, utc=True)\n",
        "# df_nav.index"
      ],
      "metadata": {
        "id": "4g3rZ5rUGJNe"
      },
      "execution_count": 16,
      "outputs": []
    },
    {
      "cell_type": "code",
      "source": [
        "# ways to access the datetimeindex\n",
        "\n",
        "# print(df_nav.loc[\"2013-05-28\"])\n",
        "# print(df_nav.loc[datetime.datetime.strptime(\"2013-05-28\", \"%Y-%m-%d\").replace(tzinfo=datetime.timezone.utc)])"
      ],
      "metadata": {
        "id": "9OG692kxRoz4"
      },
      "execution_count": 17,
      "outputs": []
    },
    {
      "cell_type": "code",
      "source": [
        "# one time check done\n",
        "\n",
        "# check for saturday and sunday nav\n",
        "\n",
        "today = datetime.datetime.now().replace(tzinfo=datetime.timezone.utc)\n",
        "sunday_idx = (today.weekday() + 1) % 7\n",
        "\n",
        "sun = today - datetime.timedelta(days=sunday_idx, hours=today.hour, minutes=today.minute, seconds=today.second, microseconds=today.microsecond)\n",
        "sun"
      ],
      "metadata": {
        "colab": {
          "base_uri": "https://localhost:8080/"
        },
        "id": "8jc6GSHNBqGi",
        "outputId": "46a22825-f430-45a9-a540-2e7b03037ea5"
      },
      "execution_count": 18,
      "outputs": [
        {
          "output_type": "execute_result",
          "data": {
            "text/plain": [
              "datetime.datetime(2022, 11, 6, 0, 0, tzinfo=datetime.timezone.utc)"
            ]
          },
          "metadata": {},
          "execution_count": 18
        }
      ]
    },
    {
      "cell_type": "code",
      "source": [
        "# one time check done\n",
        "\n",
        "# try:\n",
        "#   df_nav.loc[sun]\n",
        "# except:\n",
        "#   print(\"Data missing for Sunday. As expected!\")"
      ],
      "metadata": {
        "id": "QFJvjlZuDv4A"
      },
      "execution_count": 19,
      "outputs": []
    },
    {
      "cell_type": "code",
      "source": [
        "# way to access individual attribute\n",
        "\n",
        "# df_nav.index.month"
      ],
      "metadata": {
        "id": "pZDL2e8-WuFt"
      },
      "execution_count": 20,
      "outputs": []
    },
    {
      "cell_type": "code",
      "source": [
        "# way to search in datetimeindex\n",
        "\n",
        "# \"2013-05-28\" in df_nav.index"
      ],
      "metadata": {
        "id": "Tg0ZSDm_X5XK"
      },
      "execution_count": 21,
      "outputs": []
    },
    {
      "cell_type": "code",
      "source": [
        "# data will always be missing for holidays, and weekends\n",
        "# on holidays, the nav stays the same as previous day's nav\n",
        "\n",
        "# refer: https://pandas.pydata.org/pandas-docs/stable/development/extending.html\n",
        "\n",
        "@pd.api.extensions.register_dataframe_accessor(\"safe_nav\")\n",
        "class NAVAccessor:\n",
        "    def __init__(self, pandas_obj):\n",
        "        self._validate(pandas_obj)\n",
        "        pandas_obj = self._preprocess(pandas_obj)\n",
        "        self.start_date = pandas_obj.index[0]\n",
        "        self._obj = pandas_obj\n",
        "\n",
        "    @staticmethod\n",
        "    def _validate(obj):\n",
        "        # verify there is a column nav and a column dayChange,\n",
        "        # and index must be datetime\n",
        "        if \"nav\" not in obj.columns or \"dayChange\" not in obj.columns:\n",
        "        # or not pd.api.types.is_datetime64_any_dtype(obj.index):\n",
        "            raise AttributeError(\"Must have 'nav' and 'dayChange'\") #. Index must be 'datetimeindex'.\")\n",
        "\n",
        "    @staticmethod\n",
        "    def _preprocess(obj):\n",
        "        # search, sort, type conversions, etc.\n",
        "        \n",
        "        # cast to datetimeindex\n",
        "        obj.index = pd.to_datetime(obj.index, format=\"%d-%m-%Y\", utc=True)\n",
        "\n",
        "        # other conversions\n",
        "        obj[\"nav\"] = obj[\"nav\"].astype(\"float64\")\n",
        "\n",
        "        # # sort ascending by date\n",
        "        # # assumption: data is already sorted in descending order\n",
        "        # obj = obj[::-1]\n",
        "\n",
        "        return obj\n",
        "\n",
        "    def is_date_available(self, date):\n",
        "      return date in self._obj.index\n",
        "\n",
        "    # let's create a separate function which handles this\n",
        "    def for_date(self, date):\n",
        "      if date > self.start_date:\n",
        "        # go back by a day till holidays are not over \n",
        "        while not self.is_date_available(date):\n",
        "          date -= datetime.timedelta(days=1)\n",
        "        \n",
        "        # return the data of the day before holidays\n",
        "        return self._obj.loc[date]\n",
        "\n",
        "      # return the data of inception if data is from very past\n",
        "      return self._obj.loc[self.start_date]"
      ],
      "metadata": {
        "id": "RxTpOSB9EDw7"
      },
      "execution_count": 22,
      "outputs": []
    },
    {
      "cell_type": "code",
      "source": [
        "df_nav.safe_nav._obj.index"
      ],
      "metadata": {
        "colab": {
          "base_uri": "https://localhost:8080/"
        },
        "id": "6kVtiTirYbTm",
        "outputId": "8acd5edc-19ad-413d-9108-2302dce66eb3"
      },
      "execution_count": 23,
      "outputs": [
        {
          "output_type": "execute_result",
          "data": {
            "text/plain": [
              "DatetimeIndex(['2022-11-04 00:00:00+00:00', '2022-11-03 00:00:00+00:00',\n",
              "               '2022-11-02 00:00:00+00:00', '2022-11-01 00:00:00+00:00',\n",
              "               '2022-10-31 00:00:00+00:00', '2022-10-28 00:00:00+00:00',\n",
              "               '2022-10-27 00:00:00+00:00', '2022-10-25 00:00:00+00:00',\n",
              "               '2022-10-21 00:00:00+00:00', '2022-10-20 00:00:00+00:00',\n",
              "               ...\n",
              "               '2013-06-10 00:00:00+00:00', '2013-06-07 00:00:00+00:00',\n",
              "               '2013-06-06 00:00:00+00:00', '2013-06-05 00:00:00+00:00',\n",
              "               '2013-06-04 00:00:00+00:00', '2013-06-03 00:00:00+00:00',\n",
              "               '2013-05-31 00:00:00+00:00', '2013-05-30 00:00:00+00:00',\n",
              "               '2013-05-29 00:00:00+00:00', '2013-05-28 00:00:00+00:00'],\n",
              "              dtype='datetime64[ns, UTC]', name='date', length=2323, freq=None)"
            ]
          },
          "metadata": {},
          "execution_count": 23
        }
      ]
    },
    {
      "cell_type": "code",
      "source": [
        "# sort df_nav\n",
        "df_nav = df_nav[::-1]\n",
        "df_nav.index"
      ],
      "metadata": {
        "colab": {
          "base_uri": "https://localhost:8080/"
        },
        "id": "twKDMHJqqTZO",
        "outputId": "1ab588e9-ec60-445d-9145-86d6602bcfc3"
      },
      "execution_count": 24,
      "outputs": [
        {
          "output_type": "execute_result",
          "data": {
            "text/plain": [
              "DatetimeIndex(['2013-05-28 00:00:00+00:00', '2013-05-29 00:00:00+00:00',\n",
              "               '2013-05-30 00:00:00+00:00', '2013-05-31 00:00:00+00:00',\n",
              "               '2013-06-03 00:00:00+00:00', '2013-06-04 00:00:00+00:00',\n",
              "               '2013-06-05 00:00:00+00:00', '2013-06-06 00:00:00+00:00',\n",
              "               '2013-06-07 00:00:00+00:00', '2013-06-10 00:00:00+00:00',\n",
              "               ...\n",
              "               '2022-10-20 00:00:00+00:00', '2022-10-21 00:00:00+00:00',\n",
              "               '2022-10-25 00:00:00+00:00', '2022-10-27 00:00:00+00:00',\n",
              "               '2022-10-28 00:00:00+00:00', '2022-10-31 00:00:00+00:00',\n",
              "               '2022-11-01 00:00:00+00:00', '2022-11-02 00:00:00+00:00',\n",
              "               '2022-11-03 00:00:00+00:00', '2022-11-04 00:00:00+00:00'],\n",
              "              dtype='datetime64[ns, UTC]', name='date', length=2323, freq=None)"
            ]
          },
          "metadata": {},
          "execution_count": 24
        }
      ]
    },
    {
      "cell_type": "code",
      "source": [
        "df_nav.safe_nav._obj.index[0].day, df_nav.safe_nav._obj.index[0].month"
      ],
      "metadata": {
        "colab": {
          "base_uri": "https://localhost:8080/"
        },
        "id": "N-7kP9LvkYCz",
        "outputId": "c14667a8-6544-47d4-a2d1-0dd51c343ecb"
      },
      "execution_count": 25,
      "outputs": [
        {
          "output_type": "execute_result",
          "data": {
            "text/plain": [
              "(28, 5)"
            ]
          },
          "metadata": {},
          "execution_count": 25
        }
      ]
    },
    {
      "cell_type": "code",
      "source": [
        "# check if it works\n",
        "df_nav.safe_nav.for_date(sun).name.day"
      ],
      "metadata": {
        "colab": {
          "base_uri": "https://localhost:8080/"
        },
        "id": "LT20S4WALxbR",
        "outputId": "e63923ac-8633-47e0-dbb4-d81c54d339ec"
      },
      "execution_count": 26,
      "outputs": [
        {
          "output_type": "execute_result",
          "data": {
            "text/plain": [
              "4"
            ]
          },
          "metadata": {},
          "execution_count": 26
        }
      ]
    },
    {
      "cell_type": "code",
      "source": [
        "def get_date(year, month, day):\n",
        "  return datetime.datetime(year=2022, month=11, day=7, tzinfo=datetime.timezone.utc)"
      ],
      "metadata": {
        "id": "oOdmTJZtmV0k"
      },
      "execution_count": 27,
      "outputs": []
    },
    {
      "cell_type": "code",
      "source": [
        "def get_yesterday():\n",
        "  today = datetime.datetime.now()\n",
        "  yesterday = today - datetime.timedelta(days=1)\n",
        "  yesterday = get_date(yesterday.year, yesterday.month, yesterday.day)\n",
        "  return yesterday"
      ],
      "metadata": {
        "id": "BoWu-I1UnsAF"
      },
      "execution_count": 28,
      "outputs": []
    },
    {
      "cell_type": "markdown",
      "source": [
        "## Calculate Returns"
      ],
      "metadata": {
        "id": "0N04vx4L-Yu9"
      }
    },
    {
      "cell_type": "markdown",
      "source": [
        "### Absolute Returns"
      ],
      "metadata": {
        "id": "w0Cxo7lwlZMP"
      }
    },
    {
      "cell_type": "code",
      "source": [
        "def one_day_absolute_return(df_nav):\n",
        "  yesterday = get_yesterday()\n",
        "\n",
        "  day_before_yesterday = yesterday - datetime.timedelta(days=1)\n",
        "\n",
        "  return df_nav.safe_nav.for_date(yesterday)[\"dayChange\"]*100 / df_nav.safe_nav.for_date(day_before_yesterday)[\"nav\"]\n",
        "\n",
        "one_day_absolute_return(df_nav)"
      ],
      "metadata": {
        "colab": {
          "base_uri": "https://localhost:8080/"
        },
        "id": "XTcWRr-WvpwU",
        "outputId": "d106fac3-7f13-4fdc-ffcf-4e724accf913"
      },
      "execution_count": 29,
      "outputs": [
        {
          "output_type": "execute_result",
          "data": {
            "text/plain": [
              "-0.6757167718631856"
            ]
          },
          "metadata": {},
          "execution_count": 29
        }
      ]
    },
    {
      "cell_type": "code",
      "source": [
        "def absolute_return(initial_value, final_value):\n",
        "  return (final_value - initial_value) * 100 / initial_value"
      ],
      "metadata": {
        "id": "VOE7gOpcHGTd"
      },
      "execution_count": 30,
      "outputs": []
    },
    {
      "cell_type": "code",
      "source": [
        "def one_year_absolute_return(df_nav):\n",
        "  yesterday = get_yesterday()\n",
        "\n",
        "  one_year_before_yesterday = (yesterday - datetime.timedelta(days=365))\n",
        "\n",
        "  return absolute_return(df_nav.safe_nav.for_date(one_year_before_yesterday)[\"nav\"], df_nav.safe_nav.for_date(yesterday)[\"nav\"])\n",
        "\n",
        "one_year_absolute_return(df_nav)"
      ],
      "metadata": {
        "colab": {
          "base_uri": "https://localhost:8080/"
        },
        "id": "D_GLJmG8-v7C",
        "outputId": "25a53b0a-77da-4770-8fba-e142a54394f8"
      },
      "execution_count": 31,
      "outputs": [
        {
          "output_type": "execute_result",
          "data": {
            "text/plain": [
              "-4.817920370508706"
            ]
          },
          "metadata": {},
          "execution_count": 31
        }
      ]
    },
    {
      "cell_type": "code",
      "source": [
        "df_nav.index[-1]"
      ],
      "metadata": {
        "colab": {
          "base_uri": "https://localhost:8080/"
        },
        "id": "s5d324jQ0LHL",
        "outputId": "7874ef42-e84e-455f-eeab-17a56956ea20"
      },
      "execution_count": 33,
      "outputs": [
        {
          "output_type": "execute_result",
          "data": {
            "text/plain": [
              "Timestamp('2022-11-04 00:00:00+0000', tz='UTC')"
            ]
          },
          "metadata": {},
          "execution_count": 33
        }
      ]
    },
    {
      "cell_type": "code",
      "source": [
        "def year_to_date_absolute_return(df_nav):\n",
        "  yesterday = get_yesterday()\n",
        "  \n",
        "  year_start = datetime.datetime(year=datetime.datetime.now().year, month=1, day=1, tzinfo=datetime.timezone.utc)\n",
        "\n",
        "  # handling holidays at the start of the year\n",
        "  while not df_nav.safe_nav.is_date_available(year_start):\n",
        "    year_start += datetime.timedelta(days=1)\n",
        "\n",
        "  return (df_nav.safe_nav.for_date(yesterday)[\"nav\"] - df_nav.safe_nav.for_date(year_start)[\"nav\"])*100 / df_nav.safe_nav.for_date(year_start)[\"nav\"]\n",
        "\n",
        "year_to_date_absolute_return(df_nav)"
      ],
      "metadata": {
        "colab": {
          "base_uri": "https://localhost:8080/"
        },
        "id": "cnKUCefAw04d",
        "outputId": "603e241a-29b0-4ed6-a8a4-0e05f4cd846c"
      },
      "execution_count": 34,
      "outputs": [
        {
          "output_type": "execute_result",
          "data": {
            "text/plain": [
              "-6.631995075876927"
            ]
          },
          "metadata": {},
          "execution_count": 34
        }
      ]
    },
    {
      "cell_type": "code",
      "source": [
        "# generic function\n",
        "\n",
        "def n_years_absolute_return(df_nav, n_years=7):\n",
        "  yesterday = get_yesterday()\n",
        "  n_years_before_yesterday = (yesterday - datetime.timedelta(days=365*n_years))\n",
        "\n",
        "  return (df_nav.safe_nav.for_date(yesterday)[\"nav\"] - df_nav.safe_nav.for_date(n_years_before_yesterday)[\"nav\"])*100 / df_nav.safe_nav.for_date(n_years_before_yesterday)[\"nav\"]"
      ],
      "metadata": {
        "id": "tQ4GQ5sZ_oyR"
      },
      "execution_count": 35,
      "outputs": []
    },
    {
      "cell_type": "code",
      "source": [
        "for n_years in (1, 3, 5, 7):\n",
        "  return_ = n_years_absolute_return(df_nav, n_years=n_years)\n",
        "  print(\"Years:\", n_years, \"\\t\", \"Abs. Return:\", return_)"
      ],
      "metadata": {
        "colab": {
          "base_uri": "https://localhost:8080/"
        },
        "id": "W5oQaf2Ha3Ja",
        "outputId": "80f82245-2aad-4d72-f5d8-70148152cd0e"
      },
      "execution_count": 36,
      "outputs": [
        {
          "output_type": "stream",
          "name": "stdout",
          "text": [
            "Years: 1 \t Abs. Return: -4.817920370508706\n",
            "Years: 3 \t Abs. Return: 85.71673225477335\n",
            "Years: 5 \t Abs. Return: 120.00492083498801\n",
            "Years: 7 \t Abs. Return: 196.4778491321141\n"
          ]
        }
      ]
    },
    {
      "cell_type": "markdown",
      "source": [
        "### Trailing Returns (AKA. CAGR i.e. Compounded Annual Growth Rate)"
      ],
      "metadata": {
        "id": "WcAZSgybm2UN"
      }
    },
    {
      "cell_type": "markdown",
      "source": [
        "**Understanding**\n",
        "\n",
        "Trailing Return cancels the compounding effect from the absolute return.\n",
        "\n",
        "If it is a year-on-year compounding, trailing return tells you the yearly simple interest rate that would have applied to compound and reach the final amount in the given time span.\n",
        "\n",
        "For example, the absolute return for 7 years, which is 196.37% does not consider the time that you'll have to wait to earn this much profit.\n",
        "\n",
        "Like if we want to compare the return of this mutual fund with a typical compound interest scheme, we want to know the yearly simple interest rate that applies. What if a compound interest scheme for 7 years would generate more than 196.37% absolute return? You'd never know.\n",
        "\n",
        "Trailing return helps us with calculating the yearly rate of interest that you'd need to reach upto 196.37% in 7 years. Basically, it remove the timefactor from the absolute return and gets you the yearly interest rate."
      ],
      "metadata": {
        "id": "9BJoPNTrm7KF"
      }
    },
    {
      "cell_type": "code",
      "source": [
        "# formulation\n",
        "\n",
        "# compound interest formula\n",
        "\n",
        "# final_value = initial_value * (1 + (interest_rate / num_times_interest_applied_per_period) ^ (num_times_interest_applied_per_period*num_periods))\n",
        "\n",
        "# for 5 year compounding and interest applied yearly\n",
        "# num_times_interest_applied_per_period = 1, num_periods=5\n",
        "\n",
        "# for 5 year compounding and interest applied mothly\n",
        "# num_times_interest_applied_per_period = 12, num_periods=5\n",
        "\n",
        "\n",
        "# deriving the formula of trailing returns from above, we get\n",
        "\n",
        "# trailing_return = ((final_value / initial_value) ^ (1 / num_times_interest_applied_per_period*num_periods) - 1) * num_times_interest_applied_per_period)"
      ],
      "metadata": {
        "id": "ab3rbpK9pnX-"
      },
      "execution_count": 28,
      "outputs": []
    },
    {
      "cell_type": "code",
      "source": [
        "# for most of the compounding schemes, num_times_interest_applied_per_period = 1\n",
        "\n",
        "def n_years_trailing_return(df_nav, n_years):\n",
        "  yesterday = get_yesterday()\n",
        "  n_years_before_yesterday = (yesterday - datetime.timedelta(days=365*n_years))\n",
        "\n",
        "  final_value = df_nav.safe_nav.for_date(yesterday)[\"nav\"]\n",
        "  initial_value = df_nav.safe_nav.for_date(n_years_before_yesterday)[\"nav\"]\n",
        "\n",
        "  return (((final_value / initial_value) ** (1 / n_years)) - 1)*100"
      ],
      "metadata": {
        "id": "RVlsHMTsmOlD"
      },
      "execution_count": 37,
      "outputs": []
    },
    {
      "cell_type": "code",
      "source": [
        "for n_years in (1, 3, 5, 7):\n",
        "  return_ = n_years_trailing_return(df_nav, n_years=n_years)\n",
        "  print(\"Years:\", n_years, \"\\t\", \"Trl. Return:\", return_)"
      ],
      "metadata": {
        "colab": {
          "base_uri": "https://localhost:8080/"
        },
        "id": "9X9-QMS_sfjE",
        "outputId": "628cb430-b1c7-42a0-a2fd-df0efbdeb45d"
      },
      "execution_count": 38,
      "outputs": [
        {
          "output_type": "stream",
          "name": "stdout",
          "text": [
            "Years: 1 \t Trl. Return: -4.817920370508711\n",
            "Years: 3 \t Trl. Return: 22.918431885817746\n",
            "Years: 5 \t Trl. Return: 17.081015049783232\n",
            "Years: 7 \t Trl. Return: 16.79586420189654\n"
          ]
        }
      ]
    },
    {
      "cell_type": "markdown",
      "source": [
        "**Output for future**\n",
        "\n",
        "```\n",
        "Years: 1 \t Abs. Return: -4.817920370508706\n",
        "Years: 3 \t Abs. Return: 85.65517191136884\n",
        "Years: 5 \t Abs. Return: 119.47250570555055\n",
        "Years: 7 \t Abs. Return: 196.37096305255452\n",
        "```\n",
        "\n",
        "```\n",
        "Years: 1 \t Trl. Return: -4.817920370508711\n",
        "Years: 3 \t Trl. Return: 22.904848946865954\n",
        "Years: 5 \t Trl. Return: 17.024292561361843\n",
        "Years: 7 \t Trl. Return: 16.789847958013524\n",
        "```"
      ],
      "metadata": {
        "id": "yHB_q0Vk1Chm"
      }
    },
    {
      "cell_type": "markdown",
      "source": [
        "**Observations:**\n",
        "1. The fund has performed significantly well over the past 3 years, however, it's performance dropped last year. Basically, the fund performed very well from November 2019 to November 2021, and it's performance dropped after November 2021 till November 2022.\n",
        "2. We can confirm the same by looking at absolute returns. Out of 119.47% over 5 years, 85.65% alone was generate in the last 3 years.\n",
        "3. The fund is not able to maintain it's yearly interest rate i.e. trailing return value in the last year. If you had to invest in this fund, ignoring the last year, you could expect an average annual return of 16% or more in this fund, given that you stay invested for more than 3 years.\n",
        "\n",
        "**NOTE:** For 1 year, trailing return = absolute return as there is no compounding effect"
      ],
      "metadata": {
        "id": "kZ1ac2ZftTZx"
      }
    },
    {
      "cell_type": "markdown",
      "source": [
        "### Rolling Returns"
      ],
      "metadata": {
        "id": "WSj9FaGd37_N"
      }
    },
    {
      "cell_type": "markdown",
      "source": [
        "**Understanding**\n",
        "\n",
        "Trailing Return gives you an estimate about the year-on-year performance of the fund, if invested for a long term.\n",
        "\n",
        "Now, let's say for example that you have two funds having the same CAGR of 15% over the period of 5 years. How would you select one of them?\n",
        "\n",
        "Or let's say we consider absolute returns, and both the funds have same return value of 100% over the period of 5 years. Again, how would you select a fund of these two?\n",
        "\n",
        "What a professional would do is check for consistency.\n",
        "\n",
        "For example, if fund A had +300% in the first 2 years, -100% in the 3rd year, +100% in the 4th year and -200% in the last year, and fund B had +50% in the first 2 years, -10% in the 3rd year, +20% in the 4th year and +40% in the fifth year, which one would you select?\n",
        "\n",
        "I'd have opted for Fund B, as it is more stable and hence, less risky.\n",
        "\n",
        "Rolling returns give you a way to check on the stability of returns by calculating the returns over a certain time period.\n",
        "\n",
        "In the above case, we would select a 5 year time span and calculate different values of returns\n",
        "- jan 2017 - jan 2018\n",
        "- feb 2017 - feb 2018\n",
        "- mar 2017 - mar 2018\n",
        "- .\n",
        "- .\n",
        "- .\n",
        "- dec 2020 - dec 2021\n",
        "- jan 2021 - jan 2022\n",
        "\n",
        "\n",
        "By having a look at these values, we will be able to understand how volatile/stable a fund is over the period of 5 years. The above values are calculated using 1 year data, hence they are called \"rolling 1-year returns for a period of 5 years\"."
      ],
      "metadata": {
        "id": "UySYxeJGAhu7"
      }
    },
    {
      "cell_type": "code",
      "source": [
        "df_nav"
      ],
      "metadata": {
        "colab": {
          "base_uri": "https://localhost:8080/",
          "height": 455
        },
        "id": "_3amzS1ap10o",
        "outputId": "208a0cfa-66d0-4816-f320-4c9007c1dade"
      },
      "execution_count": 39,
      "outputs": [
        {
          "output_type": "execute_result",
          "data": {
            "text/plain": [
              "                               nav  dayChange\n",
              "date                                         \n",
              "2013-05-28 00:00:00+00:00   9.9992        NaN\n",
              "2013-05-29 00:00:00+00:00  10.0080     0.0088\n",
              "2013-05-30 00:00:00+00:00  10.0327     0.0247\n",
              "2013-05-31 00:00:00+00:00  10.0154    -0.0173\n",
              "2013-06-03 00:00:00+00:00  10.0572     0.0418\n",
              "...                            ...        ...\n",
              "2022-10-31 00:00:00+00:00  51.9464     0.4248\n",
              "2022-11-01 00:00:00+00:00  51.9849     0.0385\n",
              "2022-11-02 00:00:00+00:00  51.7054    -0.2795\n",
              "2022-11-03 00:00:00+00:00  51.3125    -0.3929\n",
              "2022-11-04 00:00:00+00:00  50.9681    -0.3444\n",
              "\n",
              "[2323 rows x 2 columns]"
            ],
            "text/html": [
              "\n",
              "  <div id=\"df-5027241c-de98-4bf9-97ed-b599b3e75e77\">\n",
              "    <div class=\"colab-df-container\">\n",
              "      <div>\n",
              "<style scoped>\n",
              "    .dataframe tbody tr th:only-of-type {\n",
              "        vertical-align: middle;\n",
              "    }\n",
              "\n",
              "    .dataframe tbody tr th {\n",
              "        vertical-align: top;\n",
              "    }\n",
              "\n",
              "    .dataframe thead th {\n",
              "        text-align: right;\n",
              "    }\n",
              "</style>\n",
              "<table border=\"1\" class=\"dataframe\">\n",
              "  <thead>\n",
              "    <tr style=\"text-align: right;\">\n",
              "      <th></th>\n",
              "      <th>nav</th>\n",
              "      <th>dayChange</th>\n",
              "    </tr>\n",
              "    <tr>\n",
              "      <th>date</th>\n",
              "      <th></th>\n",
              "      <th></th>\n",
              "    </tr>\n",
              "  </thead>\n",
              "  <tbody>\n",
              "    <tr>\n",
              "      <th>2013-05-28 00:00:00+00:00</th>\n",
              "      <td>9.9992</td>\n",
              "      <td>NaN</td>\n",
              "    </tr>\n",
              "    <tr>\n",
              "      <th>2013-05-29 00:00:00+00:00</th>\n",
              "      <td>10.0080</td>\n",
              "      <td>0.0088</td>\n",
              "    </tr>\n",
              "    <tr>\n",
              "      <th>2013-05-30 00:00:00+00:00</th>\n",
              "      <td>10.0327</td>\n",
              "      <td>0.0247</td>\n",
              "    </tr>\n",
              "    <tr>\n",
              "      <th>2013-05-31 00:00:00+00:00</th>\n",
              "      <td>10.0154</td>\n",
              "      <td>-0.0173</td>\n",
              "    </tr>\n",
              "    <tr>\n",
              "      <th>2013-06-03 00:00:00+00:00</th>\n",
              "      <td>10.0572</td>\n",
              "      <td>0.0418</td>\n",
              "    </tr>\n",
              "    <tr>\n",
              "      <th>...</th>\n",
              "      <td>...</td>\n",
              "      <td>...</td>\n",
              "    </tr>\n",
              "    <tr>\n",
              "      <th>2022-10-31 00:00:00+00:00</th>\n",
              "      <td>51.9464</td>\n",
              "      <td>0.4248</td>\n",
              "    </tr>\n",
              "    <tr>\n",
              "      <th>2022-11-01 00:00:00+00:00</th>\n",
              "      <td>51.9849</td>\n",
              "      <td>0.0385</td>\n",
              "    </tr>\n",
              "    <tr>\n",
              "      <th>2022-11-02 00:00:00+00:00</th>\n",
              "      <td>51.7054</td>\n",
              "      <td>-0.2795</td>\n",
              "    </tr>\n",
              "    <tr>\n",
              "      <th>2022-11-03 00:00:00+00:00</th>\n",
              "      <td>51.3125</td>\n",
              "      <td>-0.3929</td>\n",
              "    </tr>\n",
              "    <tr>\n",
              "      <th>2022-11-04 00:00:00+00:00</th>\n",
              "      <td>50.9681</td>\n",
              "      <td>-0.3444</td>\n",
              "    </tr>\n",
              "  </tbody>\n",
              "</table>\n",
              "<p>2323 rows × 2 columns</p>\n",
              "</div>\n",
              "      <button class=\"colab-df-convert\" onclick=\"convertToInteractive('df-5027241c-de98-4bf9-97ed-b599b3e75e77')\"\n",
              "              title=\"Convert this dataframe to an interactive table.\"\n",
              "              style=\"display:none;\">\n",
              "        \n",
              "  <svg xmlns=\"http://www.w3.org/2000/svg\" height=\"24px\"viewBox=\"0 0 24 24\"\n",
              "       width=\"24px\">\n",
              "    <path d=\"M0 0h24v24H0V0z\" fill=\"none\"/>\n",
              "    <path d=\"M18.56 5.44l.94 2.06.94-2.06 2.06-.94-2.06-.94-.94-2.06-.94 2.06-2.06.94zm-11 1L8.5 8.5l.94-2.06 2.06-.94-2.06-.94L8.5 2.5l-.94 2.06-2.06.94zm10 10l.94 2.06.94-2.06 2.06-.94-2.06-.94-.94-2.06-.94 2.06-2.06.94z\"/><path d=\"M17.41 7.96l-1.37-1.37c-.4-.4-.92-.59-1.43-.59-.52 0-1.04.2-1.43.59L10.3 9.45l-7.72 7.72c-.78.78-.78 2.05 0 2.83L4 21.41c.39.39.9.59 1.41.59.51 0 1.02-.2 1.41-.59l7.78-7.78 2.81-2.81c.8-.78.8-2.07 0-2.86zM5.41 20L4 18.59l7.72-7.72 1.47 1.35L5.41 20z\"/>\n",
              "  </svg>\n",
              "      </button>\n",
              "      \n",
              "  <style>\n",
              "    .colab-df-container {\n",
              "      display:flex;\n",
              "      flex-wrap:wrap;\n",
              "      gap: 12px;\n",
              "    }\n",
              "\n",
              "    .colab-df-convert {\n",
              "      background-color: #E8F0FE;\n",
              "      border: none;\n",
              "      border-radius: 50%;\n",
              "      cursor: pointer;\n",
              "      display: none;\n",
              "      fill: #1967D2;\n",
              "      height: 32px;\n",
              "      padding: 0 0 0 0;\n",
              "      width: 32px;\n",
              "    }\n",
              "\n",
              "    .colab-df-convert:hover {\n",
              "      background-color: #E2EBFA;\n",
              "      box-shadow: 0px 1px 2px rgba(60, 64, 67, 0.3), 0px 1px 3px 1px rgba(60, 64, 67, 0.15);\n",
              "      fill: #174EA6;\n",
              "    }\n",
              "\n",
              "    [theme=dark] .colab-df-convert {\n",
              "      background-color: #3B4455;\n",
              "      fill: #D2E3FC;\n",
              "    }\n",
              "\n",
              "    [theme=dark] .colab-df-convert:hover {\n",
              "      background-color: #434B5C;\n",
              "      box-shadow: 0px 1px 3px 1px rgba(0, 0, 0, 0.15);\n",
              "      filter: drop-shadow(0px 1px 2px rgba(0, 0, 0, 0.3));\n",
              "      fill: #FFFFFF;\n",
              "    }\n",
              "  </style>\n",
              "\n",
              "      <script>\n",
              "        const buttonEl =\n",
              "          document.querySelector('#df-5027241c-de98-4bf9-97ed-b599b3e75e77 button.colab-df-convert');\n",
              "        buttonEl.style.display =\n",
              "          google.colab.kernel.accessAllowed ? 'block' : 'none';\n",
              "\n",
              "        async function convertToInteractive(key) {\n",
              "          const element = document.querySelector('#df-5027241c-de98-4bf9-97ed-b599b3e75e77');\n",
              "          const dataTable =\n",
              "            await google.colab.kernel.invokeFunction('convertToInteractive',\n",
              "                                                     [key], {});\n",
              "          if (!dataTable) return;\n",
              "\n",
              "          const docLinkHtml = 'Like what you see? Visit the ' +\n",
              "            '<a target=\"_blank\" href=https://colab.research.google.com/notebooks/data_table.ipynb>data table notebook</a>'\n",
              "            + ' to learn more about interactive tables.';\n",
              "          element.innerHTML = '';\n",
              "          dataTable['output_type'] = 'display_data';\n",
              "          await google.colab.output.renderOutput(dataTable, element);\n",
              "          const docLink = document.createElement('div');\n",
              "          docLink.innerHTML = docLinkHtml;\n",
              "          element.appendChild(docLink);\n",
              "        }\n",
              "      </script>\n",
              "    </div>\n",
              "  </div>\n",
              "  "
            ]
          },
          "metadata": {},
          "execution_count": 39
        }
      ]
    },
    {
      "cell_type": "code",
      "source": [
        "# rolling returns over 5 year time span on a monthly basis\n",
        "df_nav[\"nav\"].rolling(365*5, closed=\"both\").apply(lambda x: absolute_return(x.iloc[0], x.iloc[-1])).dropna()[::30]"
      ],
      "metadata": {
        "colab": {
          "base_uri": "https://localhost:8080/"
        },
        "id": "tQ0iQprCL4dK",
        "outputId": "a1f47f33-9658-4ef2-ba93-8596766c7588"
      },
      "execution_count": 40,
      "outputs": [
        {
          "output_type": "execute_result",
          "data": {
            "text/plain": [
              "date\n",
              "2020-10-28 00:00:00+00:00    229.343347\n",
              "2020-12-11 00:00:00+00:00    263.226753\n",
              "2021-01-25 00:00:00+00:00    291.480866\n",
              "2021-03-09 00:00:00+00:00    285.547260\n",
              "2021-04-27 00:00:00+00:00    282.437033\n",
              "2021-06-09 00:00:00+00:00    295.856433\n",
              "2021-07-22 00:00:00+00:00    347.012985\n",
              "2021-09-03 00:00:00+00:00    330.642390\n",
              "2021-10-19 00:00:00+00:00    326.438323\n",
              "2021-12-03 00:00:00+00:00    277.889376\n",
              "2022-01-14 00:00:00+00:00    283.357544\n",
              "2022-02-28 00:00:00+00:00    241.070993\n",
              "2022-04-13 00:00:00+00:00    244.654482\n",
              "2022-05-30 00:00:00+00:00    203.480677\n",
              "2022-07-11 00:00:00+00:00    203.687845\n",
              "2022-08-24 00:00:00+00:00    213.405936\n",
              "2022-10-07 00:00:00+00:00    203.834941\n",
              "Name: nav, dtype: float64"
            ]
          },
          "metadata": {},
          "execution_count": 40
        }
      ]
    },
    {
      "cell_type": "code",
      "source": [
        "# having a look at the above, it seems like the missing dates are causing issues\n",
        "\n",
        "df_rr_temp = df_nav[\"nav\"].rolling(365*5, closed=\"both\").apply(lambda x: absolute_return(x.iloc[0], x.iloc[-1])).dropna()\n",
        "df_rr_temp.groupby([df_rr_temp.index.year, df_rr_temp.index.month]).first()"
      ],
      "metadata": {
        "colab": {
          "base_uri": "https://localhost:8080/"
        },
        "id": "tFl-EOkbPIpk",
        "outputId": "9a203b93-b5e2-414c-8025-82055aeff649"
      },
      "execution_count": 41,
      "outputs": [
        {
          "output_type": "execute_result",
          "data": {
            "text/plain": [
              "date  date\n",
              "2020  10      229.343347\n",
              "      11      223.336689\n",
              "      12      264.029197\n",
              "2021  1       272.589714\n",
              "      2       290.988640\n",
              "      3       288.613027\n",
              "      4       282.199661\n",
              "      5       291.710946\n",
              "      6       294.743545\n",
              "      7       316.695727\n",
              "      8       339.457820\n",
              "      9       333.976606\n",
              "      10      318.451892\n",
              "      11      299.578808\n",
              "      12      279.207291\n",
              "2022  1       273.721648\n",
              "      2       267.496191\n",
              "      3       237.565468\n",
              "      4       250.457457\n",
              "      5       215.633134\n",
              "      6       201.490579\n",
              "      7       188.307505\n",
              "      8       202.738981\n",
              "      9       206.373022\n",
              "      10      197.192762\n",
              "      11      213.819936\n",
              "Name: nav, dtype: float64"
            ]
          },
          "metadata": {},
          "execution_count": 41
        }
      ]
    },
    {
      "cell_type": "code",
      "source": [
        "df_rr_temp.groupby([df_rr_temp.index.year, df_rr_temp.index.month]).last()"
      ],
      "metadata": {
        "colab": {
          "base_uri": "https://localhost:8080/"
        },
        "id": "0maJmQsYGuXl",
        "outputId": "34bfefd6-0064-46a4-b904-120ffc0c02cf"
      },
      "execution_count": 42,
      "outputs": [
        {
          "output_type": "execute_result",
          "data": {
            "text/plain": [
              "date  date\n",
              "2020  10      225.738409\n",
              "      11      262.256205\n",
              "      12      271.648662\n",
              "2021  1       283.905749\n",
              "      2       285.969350\n",
              "      3       278.649799\n",
              "      4       289.454252\n",
              "      5       296.878502\n",
              "      6       312.579515\n",
              "      7       348.108853\n",
              "      8       333.393185\n",
              "      9       323.650311\n",
              "      10      291.209099\n",
              "      11      279.675418\n",
              "      12      270.644806\n",
              "2022  1       261.441171\n",
              "      2       241.070993\n",
              "      3       246.371659\n",
              "      4       222.141278\n",
              "      5       204.804605\n",
              "      6       188.035676\n",
              "      7       195.195596\n",
              "      8       209.110783\n",
              "      9       197.432963\n",
              "      10      211.894855\n",
              "      11      209.287465\n",
              "Name: nav, dtype: float64"
            ]
          },
          "metadata": {},
          "execution_count": 42
        }
      ]
    },
    {
      "cell_type": "code",
      "source": [
        "# todo: take daywise and then average of a month"
      ],
      "metadata": {
        "id": "aUznGejAtxlt"
      },
      "execution_count": null,
      "outputs": []
    }
  ]
}