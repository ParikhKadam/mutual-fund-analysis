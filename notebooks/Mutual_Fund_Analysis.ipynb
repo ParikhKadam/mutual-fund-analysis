{
  "nbformat": 4,
  "nbformat_minor": 0,
  "metadata": {
    "colab": {
      "provenance": [],
      "collapsed_sections": []
    },
    "kernelspec": {
      "name": "python3",
      "display_name": "Python 3"
    },
    "language_info": {
      "name": "python"
    }
  },
  "cells": [
    {
      "cell_type": "markdown",
      "source": [
        "## Dependencies\n",
        "\n"
      ],
      "metadata": {
        "id": "aB4aZf0lqrIt"
      }
    },
    {
      "cell_type": "code",
      "execution_count": 1,
      "metadata": {
        "id": "4CmUNbJEpO2S",
        "outputId": "624a3be4-5c9e-4c9e-e6ff-a5e0162bbdc0",
        "colab": {
          "base_uri": "https://localhost:8080/"
        }
      },
      "outputs": [
        {
          "output_type": "stream",
          "name": "stdout",
          "text": [
            "Looking in indexes: https://pypi.org/simple, https://us-python.pkg.dev/colab-wheels/public/simple/\n",
            "Requirement already satisfied: mftool in /usr/local/lib/python3.7/dist-packages (2.5)\n",
            "Requirement already satisfied: pandas in /usr/local/lib/python3.7/dist-packages (from mftool) (1.3.5)\n",
            "Requirement already satisfied: bs4 in /usr/local/lib/python3.7/dist-packages (from mftool) (0.0.1)\n",
            "Requirement already satisfied: httpx in /usr/local/lib/python3.7/dist-packages (from mftool) (0.23.0)\n",
            "Requirement already satisfied: yfinance in /usr/local/lib/python3.7/dist-packages (from mftool) (0.1.85)\n",
            "Requirement already satisfied: requests in /usr/local/lib/python3.7/dist-packages (from mftool) (2.28.1)\n",
            "Requirement already satisfied: Deprecated in /usr/local/lib/python3.7/dist-packages (from mftool) (1.2.13)\n",
            "Requirement already satisfied: beautifulsoup4 in /usr/local/lib/python3.7/dist-packages (from bs4->mftool) (4.6.3)\n",
            "Requirement already satisfied: wrapt<2,>=1.10 in /usr/local/lib/python3.7/dist-packages (from Deprecated->mftool) (1.14.1)\n",
            "Requirement already satisfied: certifi in /usr/local/lib/python3.7/dist-packages (from httpx->mftool) (2022.9.24)\n",
            "Requirement already satisfied: httpcore<0.16.0,>=0.15.0 in /usr/local/lib/python3.7/dist-packages (from httpx->mftool) (0.15.0)\n",
            "Requirement already satisfied: sniffio in /usr/local/lib/python3.7/dist-packages (from httpx->mftool) (1.3.0)\n",
            "Requirement already satisfied: rfc3986[idna2008]<2,>=1.3 in /usr/local/lib/python3.7/dist-packages (from httpx->mftool) (1.5.0)\n",
            "Requirement already satisfied: h11<0.13,>=0.11 in /usr/local/lib/python3.7/dist-packages (from httpcore<0.16.0,>=0.15.0->httpx->mftool) (0.12.0)\n",
            "Requirement already satisfied: anyio==3.* in /usr/local/lib/python3.7/dist-packages (from httpcore<0.16.0,>=0.15.0->httpx->mftool) (3.6.2)\n",
            "Requirement already satisfied: typing-extensions in /usr/local/lib/python3.7/dist-packages (from anyio==3.*->httpcore<0.16.0,>=0.15.0->httpx->mftool) (4.1.1)\n",
            "Requirement already satisfied: idna>=2.8 in /usr/local/lib/python3.7/dist-packages (from anyio==3.*->httpcore<0.16.0,>=0.15.0->httpx->mftool) (2.10)\n",
            "Requirement already satisfied: numpy>=1.17.3 in /usr/local/lib/python3.7/dist-packages (from pandas->mftool) (1.21.6)\n",
            "Requirement already satisfied: python-dateutil>=2.7.3 in /usr/local/lib/python3.7/dist-packages (from pandas->mftool) (2.8.2)\n",
            "Requirement already satisfied: pytz>=2017.3 in /usr/local/lib/python3.7/dist-packages (from pandas->mftool) (2022.5)\n",
            "Requirement already satisfied: six>=1.5 in /usr/local/lib/python3.7/dist-packages (from python-dateutil>=2.7.3->pandas->mftool) (1.15.0)\n",
            "Requirement already satisfied: urllib3<1.27,>=1.21.1 in /usr/local/lib/python3.7/dist-packages (from requests->mftool) (1.24.3)\n",
            "Requirement already satisfied: charset-normalizer<3,>=2 in /usr/local/lib/python3.7/dist-packages (from requests->mftool) (2.1.1)\n",
            "Requirement already satisfied: appdirs>=1.4.4 in /usr/local/lib/python3.7/dist-packages (from yfinance->mftool) (1.4.4)\n",
            "Requirement already satisfied: multitasking>=0.0.7 in /usr/local/lib/python3.7/dist-packages (from yfinance->mftool) (0.0.11)\n",
            "Requirement already satisfied: lxml>=4.5.1 in /usr/local/lib/python3.7/dist-packages (from yfinance->mftool) (4.9.1)\n"
          ]
        }
      ],
      "source": [
        "!pip install mftool"
      ]
    },
    {
      "cell_type": "markdown",
      "source": [
        "## Imports"
      ],
      "metadata": {
        "id": "WOK-aJ-yqlVG"
      }
    },
    {
      "cell_type": "code",
      "source": [
        "from mftool import Mftool\n",
        "import pandas as pd\n",
        "import datetime"
      ],
      "metadata": {
        "id": "t27qmyWAqnVl"
      },
      "execution_count": 2,
      "outputs": []
    },
    {
      "cell_type": "markdown",
      "source": [
        "## Select Mutual Fund House and Scheme"
      ],
      "metadata": {
        "id": "JN7HjDuRquwS"
      }
    },
    {
      "cell_type": "code",
      "source": [
        "mf = Mftool()"
      ],
      "metadata": {
        "id": "dx5yfc7VqgjT"
      },
      "execution_count": 3,
      "outputs": []
    },
    {
      "cell_type": "code",
      "source": [
        "# get all supported amc details\n",
        "amc_details = mf.get_all_amc_profiles(as_json=False)\n",
        "# amc_details"
      ],
      "metadata": {
        "id": "oeodhpUsqDHf"
      },
      "execution_count": 4,
      "outputs": []
    },
    {
      "cell_type": "code",
      "source": [
        "df_amcs = pd.DataFrame(amc_details)\n",
        "# df_amcs"
      ],
      "metadata": {
        "id": "01uFBTz4qU4y"
      },
      "execution_count": 5,
      "outputs": []
    },
    {
      "cell_type": "code",
      "source": [
        "# let's select a reputed fund house\n",
        "df_amc = df_amcs[df_amcs[\"Name of the Mutual Fund\"] == \"PPFAS Mutual Fund\"]\n",
        "df_amc"
      ],
      "metadata": {
        "colab": {
          "base_uri": "https://localhost:8080/",
          "height": 330
        },
        "id": "M8E3rcEirNFv",
        "outputId": "dd51330a-f789-49c6-fed6-c000e0a2df85"
      },
      "execution_count": 6,
      "outputs": [
        {
          "output_type": "execute_result",
          "data": {
            "text/plain": [
              "   Name of the Mutual Fund Date of set up of Mutual Fund  \\\n",
              "31       PPFAS Mutual Fund              October 10, 2012   \n",
              "\n",
              "                               Name(s) of Sponsor  \\\n",
              "31  Parag Parikh Financial Advisory Services Ltd.   \n",
              "\n",
              "                  Name of Trustee Company  \\\n",
              "31  PPFAS Trustee Company Private Limited   \n",
              "\n",
              "                                     Name of Trustees  \\\n",
              "31  Bhagirat Merchant - Independent Director      ...   \n",
              "\n",
              "             Name of Assest Management Co. Date of Incorporation of AMC  \\\n",
              "31  PPFAS Asset Management Private Limited              August 08, 2011   \n",
              "\n",
              "                                  Name(s) of Director Name of Chairman  \\\n",
              "31  Neil Parag Parikh                             ...              NaN   \n",
              "\n",
              "   Name of Chief Executive Officer  ... Name(s) of Company Secretary  \\\n",
              "31               Neil Parag Parikh  ...                          NaN   \n",
              "\n",
              "                              Name(s) of Fund Manager  \\\n",
              "31  Raj Mehta                                     ...   \n",
              "\n",
              "   Name of Compliance Officer Name of Chief Bussiness Officer  \\\n",
              "31              Priya Hariani                             NaN   \n",
              "\n",
              "   Name of the Chief Investment Officer  \\\n",
              "31                       Rajeev Thakkar   \n",
              "\n",
              "   Name(s) of the Chief Investment Officer - Dept  \\\n",
              "31                                            NaN   \n",
              "\n",
              "                           Name of Head of Operations  \\\n",
              "31  Jignesh Desai                                 ...   \n",
              "\n",
              "   Name(s) of the Chief Investment Officer - Equity Name of President  \\\n",
              "31                                              NaN               NaN   \n",
              "\n",
              "   Name of Wholetime Director  \n",
              "31             Rajeev Thakkar  \n",
              "\n",
              "[1 rows x 35 columns]"
            ],
            "text/html": [
              "\n",
              "  <div id=\"df-fca23f2c-805e-480f-8788-835d0057ef7d\">\n",
              "    <div class=\"colab-df-container\">\n",
              "      <div>\n",
              "<style scoped>\n",
              "    .dataframe tbody tr th:only-of-type {\n",
              "        vertical-align: middle;\n",
              "    }\n",
              "\n",
              "    .dataframe tbody tr th {\n",
              "        vertical-align: top;\n",
              "    }\n",
              "\n",
              "    .dataframe thead th {\n",
              "        text-align: right;\n",
              "    }\n",
              "</style>\n",
              "<table border=\"1\" class=\"dataframe\">\n",
              "  <thead>\n",
              "    <tr style=\"text-align: right;\">\n",
              "      <th></th>\n",
              "      <th>Name of the Mutual Fund</th>\n",
              "      <th>Date of set up of Mutual Fund</th>\n",
              "      <th>Name(s) of Sponsor</th>\n",
              "      <th>Name of Trustee Company</th>\n",
              "      <th>Name of Trustees</th>\n",
              "      <th>Name of Assest Management Co.</th>\n",
              "      <th>Date of Incorporation of AMC</th>\n",
              "      <th>Name(s) of Director</th>\n",
              "      <th>Name of Chairman</th>\n",
              "      <th>Name of Chief Executive Officer</th>\n",
              "      <th>...</th>\n",
              "      <th>Name(s) of Company Secretary</th>\n",
              "      <th>Name(s) of Fund Manager</th>\n",
              "      <th>Name of Compliance Officer</th>\n",
              "      <th>Name of Chief Bussiness Officer</th>\n",
              "      <th>Name of the Chief Investment Officer</th>\n",
              "      <th>Name(s) of the Chief Investment Officer - Dept</th>\n",
              "      <th>Name of Head of Operations</th>\n",
              "      <th>Name(s) of the Chief Investment Officer - Equity</th>\n",
              "      <th>Name of President</th>\n",
              "      <th>Name of Wholetime Director</th>\n",
              "    </tr>\n",
              "  </thead>\n",
              "  <tbody>\n",
              "    <tr>\n",
              "      <th>31</th>\n",
              "      <td>PPFAS Mutual Fund</td>\n",
              "      <td>October 10, 2012</td>\n",
              "      <td>Parag Parikh Financial Advisory Services Ltd.</td>\n",
              "      <td>PPFAS Trustee Company Private Limited</td>\n",
              "      <td>Bhagirat Merchant - Independent Director      ...</td>\n",
              "      <td>PPFAS Asset Management Private Limited</td>\n",
              "      <td>August 08, 2011</td>\n",
              "      <td>Neil Parag Parikh                             ...</td>\n",
              "      <td>NaN</td>\n",
              "      <td>Neil Parag Parikh</td>\n",
              "      <td>...</td>\n",
              "      <td>NaN</td>\n",
              "      <td>Raj Mehta                                     ...</td>\n",
              "      <td>Priya Hariani</td>\n",
              "      <td>NaN</td>\n",
              "      <td>Rajeev Thakkar</td>\n",
              "      <td>NaN</td>\n",
              "      <td>Jignesh Desai                                 ...</td>\n",
              "      <td>NaN</td>\n",
              "      <td>NaN</td>\n",
              "      <td>Rajeev Thakkar</td>\n",
              "    </tr>\n",
              "  </tbody>\n",
              "</table>\n",
              "<p>1 rows × 35 columns</p>\n",
              "</div>\n",
              "      <button class=\"colab-df-convert\" onclick=\"convertToInteractive('df-fca23f2c-805e-480f-8788-835d0057ef7d')\"\n",
              "              title=\"Convert this dataframe to an interactive table.\"\n",
              "              style=\"display:none;\">\n",
              "        \n",
              "  <svg xmlns=\"http://www.w3.org/2000/svg\" height=\"24px\"viewBox=\"0 0 24 24\"\n",
              "       width=\"24px\">\n",
              "    <path d=\"M0 0h24v24H0V0z\" fill=\"none\"/>\n",
              "    <path d=\"M18.56 5.44l.94 2.06.94-2.06 2.06-.94-2.06-.94-.94-2.06-.94 2.06-2.06.94zm-11 1L8.5 8.5l.94-2.06 2.06-.94-2.06-.94L8.5 2.5l-.94 2.06-2.06.94zm10 10l.94 2.06.94-2.06 2.06-.94-2.06-.94-.94-2.06-.94 2.06-2.06.94z\"/><path d=\"M17.41 7.96l-1.37-1.37c-.4-.4-.92-.59-1.43-.59-.52 0-1.04.2-1.43.59L10.3 9.45l-7.72 7.72c-.78.78-.78 2.05 0 2.83L4 21.41c.39.39.9.59 1.41.59.51 0 1.02-.2 1.41-.59l7.78-7.78 2.81-2.81c.8-.78.8-2.07 0-2.86zM5.41 20L4 18.59l7.72-7.72 1.47 1.35L5.41 20z\"/>\n",
              "  </svg>\n",
              "      </button>\n",
              "      \n",
              "  <style>\n",
              "    .colab-df-container {\n",
              "      display:flex;\n",
              "      flex-wrap:wrap;\n",
              "      gap: 12px;\n",
              "    }\n",
              "\n",
              "    .colab-df-convert {\n",
              "      background-color: #E8F0FE;\n",
              "      border: none;\n",
              "      border-radius: 50%;\n",
              "      cursor: pointer;\n",
              "      display: none;\n",
              "      fill: #1967D2;\n",
              "      height: 32px;\n",
              "      padding: 0 0 0 0;\n",
              "      width: 32px;\n",
              "    }\n",
              "\n",
              "    .colab-df-convert:hover {\n",
              "      background-color: #E2EBFA;\n",
              "      box-shadow: 0px 1px 2px rgba(60, 64, 67, 0.3), 0px 1px 3px 1px rgba(60, 64, 67, 0.15);\n",
              "      fill: #174EA6;\n",
              "    }\n",
              "\n",
              "    [theme=dark] .colab-df-convert {\n",
              "      background-color: #3B4455;\n",
              "      fill: #D2E3FC;\n",
              "    }\n",
              "\n",
              "    [theme=dark] .colab-df-convert:hover {\n",
              "      background-color: #434B5C;\n",
              "      box-shadow: 0px 1px 3px 1px rgba(0, 0, 0, 0.15);\n",
              "      filter: drop-shadow(0px 1px 2px rgba(0, 0, 0, 0.3));\n",
              "      fill: #FFFFFF;\n",
              "    }\n",
              "  </style>\n",
              "\n",
              "      <script>\n",
              "        const buttonEl =\n",
              "          document.querySelector('#df-fca23f2c-805e-480f-8788-835d0057ef7d button.colab-df-convert');\n",
              "        buttonEl.style.display =\n",
              "          google.colab.kernel.accessAllowed ? 'block' : 'none';\n",
              "\n",
              "        async function convertToInteractive(key) {\n",
              "          const element = document.querySelector('#df-fca23f2c-805e-480f-8788-835d0057ef7d');\n",
              "          const dataTable =\n",
              "            await google.colab.kernel.invokeFunction('convertToInteractive',\n",
              "                                                     [key], {});\n",
              "          if (!dataTable) return;\n",
              "\n",
              "          const docLinkHtml = 'Like what you see? Visit the ' +\n",
              "            '<a target=\"_blank\" href=https://colab.research.google.com/notebooks/data_table.ipynb>data table notebook</a>'\n",
              "            + ' to learn more about interactive tables.';\n",
              "          element.innerHTML = '';\n",
              "          dataTable['output_type'] = 'display_data';\n",
              "          await google.colab.output.renderOutput(dataTable, element);\n",
              "          const docLink = document.createElement('div');\n",
              "          docLink.innerHTML = docLinkHtml;\n",
              "          element.appendChild(docLink);\n",
              "        }\n",
              "      </script>\n",
              "    </div>\n",
              "  </div>\n",
              "  "
            ]
          },
          "metadata": {},
          "execution_count": 6
        }
      ]
    },
    {
      "cell_type": "code",
      "source": [
        "# what is the fund house ID?\n",
        "df_amc.columns.to_list()"
      ],
      "metadata": {
        "colab": {
          "base_uri": "https://localhost:8080/"
        },
        "id": "9BZjhVSssg_z",
        "outputId": "495be8bf-89f2-44a1-d4a1-55d60929859e"
      },
      "execution_count": 7,
      "outputs": [
        {
          "output_type": "execute_result",
          "data": {
            "text/plain": [
              "['Name of the Mutual Fund',\n",
              " 'Date of set up of Mutual Fund',\n",
              " 'Name(s) of Sponsor',\n",
              " 'Name of Trustee Company',\n",
              " 'Name of Trustees',\n",
              " 'Name of Assest Management Co.',\n",
              " 'Date of Incorporation of AMC',\n",
              " 'Name(s) of Director',\n",
              " 'Name of Chairman',\n",
              " 'Name of Chief Executive Officer',\n",
              " 'Name of Managing Director',\n",
              " 'Name of Compliance Officer & Company Secretary',\n",
              " 'Name of Investor Service Officer',\n",
              " 'Address of AMC',\n",
              " 'Telephone Number',\n",
              " 'Fax Number',\n",
              " 'Website',\n",
              " 'Email',\n",
              " 'Name(s) of Auditors ',\n",
              " 'Name(s) of Custodian ',\n",
              " 'Name(s) of Registrar and Transfer Agent',\n",
              " 'Name of Head Equity',\n",
              " 'Name of Head-Fixed Income',\n",
              " 'Name of Sales Head',\n",
              " 'Name(s) of the Chief Operating Officer',\n",
              " 'Name(s) of Company Secretary',\n",
              " 'Name(s) of Fund Manager',\n",
              " 'Name of Compliance Officer',\n",
              " 'Name of Chief Bussiness Officer',\n",
              " 'Name of the Chief Investment Officer',\n",
              " 'Name(s) of the Chief Investment Officer - Dept',\n",
              " 'Name of Head of Operations',\n",
              " 'Name(s) of the Chief Investment Officer - Equity',\n",
              " 'Name of President',\n",
              " 'Name of Wholetime Director']"
            ]
          },
          "metadata": {},
          "execution_count": 7
        }
      ]
    },
    {
      "cell_type": "code",
      "source": [
        "# no ID here\n",
        "# let's fetch funds now\n",
        "\n",
        "df_schemes = pd.Series(mf.get_scheme_codes())\n",
        "# df_schemes"
      ],
      "metadata": {
        "id": "Zu4kZ3IZsokw"
      },
      "execution_count": 8,
      "outputs": []
    },
    {
      "cell_type": "code",
      "source": [
        "# filter the funds from selected fund house\n",
        "df_schemes[df_schemes.str.contains(\"Parag Parikh\")]"
      ],
      "metadata": {
        "colab": {
          "base_uri": "https://localhost:8080/"
        },
        "id": "cQxI_xGnuS-5",
        "outputId": "386f809f-edc7-455c-aee6-dcc221c3c0bd"
      },
      "execution_count": 9,
      "outputs": [
        {
          "output_type": "execute_result",
          "data": {
            "text/plain": [
              "143263    Parag Parikh Liquid Fund- Direct Plan- Daily R...\n",
              "143269        Parag Parikh Liquid Fund- Direct Plan- Growth\n",
              "143262    Parag Parikh Liquid Fund- Direct Plan- Monthly...\n",
              "143265    Parag Parikh Liquid Fund- Direct Plan- Weekly ...\n",
              "143264    Parag Parikh Liquid Fund- Regular Plan- Daily ...\n",
              "143260       Parag Parikh Liquid Fund- Regular Plan- Growth\n",
              "143261    Parag Parikh Liquid Fund- Regular Plan- Monthl...\n",
              "143266    Parag Parikh Liquid Fund- Regular Plan- Weekly...\n",
              "147481           Parag Parikh Tax Saver Fund- Direct Growth\n",
              "147482          Parag Parikh Tax Saver Fund- Regular Growth\n",
              "122639    Parag Parikh Flexi Cap Fund - Direct Plan - Gr...\n",
              "122640    Parag Parikh Flexi Cap Fund - Regular Plan - G...\n",
              "148958    Parag Parikh Conservative Hybrid Fund - Direct...\n",
              "148961    Parag Parikh Conservative Hybrid Fund - Direct...\n",
              "148959    Parag Parikh Conservative Hybrid Fund - Regula...\n",
              "148960    Parag Parikh Conservative Hybrid Fund - Regula...\n",
              "dtype: object"
            ]
          },
          "metadata": {},
          "execution_count": 9
        }
      ]
    },
    {
      "cell_type": "code",
      "source": [
        "# let's select the fund category\n",
        "df_fund = df_schemes[(df_schemes.str.contains(\"Parag Parikh\")) & (df_schemes.str.contains(\"Flexi\")) & (df_schemes.str.contains(\"Direct\"))]\n",
        "df_fund"
      ],
      "metadata": {
        "colab": {
          "base_uri": "https://localhost:8080/"
        },
        "id": "HmvB9-j-ucBy",
        "outputId": "d93d850f-f96d-4dc5-fde2-b2b9ccc94f9c"
      },
      "execution_count": 10,
      "outputs": [
        {
          "output_type": "execute_result",
          "data": {
            "text/plain": [
              "122639    Parag Parikh Flexi Cap Fund - Direct Plan - Gr...\n",
              "dtype: object"
            ]
          },
          "metadata": {},
          "execution_count": 10
        }
      ]
    },
    {
      "cell_type": "markdown",
      "source": [
        "## Collect Historic Data & Make Ready To Access"
      ],
      "metadata": {
        "id": "GB1niLYXva-0"
      }
    },
    {
      "cell_type": "code",
      "source": [
        "df_nav = mf.get_scheme_historical_nav(df_fund.index.item(), as_Dataframe=True)\n",
        "df_nav"
      ],
      "metadata": {
        "colab": {
          "base_uri": "https://localhost:8080/",
          "height": 455
        },
        "id": "7aUdP0C3vS-W",
        "outputId": "b285afa2-623e-42a2-e0d7-8d14b299abd0"
      },
      "execution_count": 11,
      "outputs": [
        {
          "output_type": "execute_result",
          "data": {
            "text/plain": [
              "                 nav  dayChange\n",
              "date                           \n",
              "04-11-2022  50.96810    -0.3444\n",
              "03-11-2022  51.31250    -0.3929\n",
              "02-11-2022  51.70540    -0.2795\n",
              "01-11-2022  51.98490     0.0385\n",
              "31-10-2022  51.94640     0.4248\n",
              "...              ...        ...\n",
              "03-06-2013  10.05720     0.0418\n",
              "31-05-2013  10.01540    -0.0173\n",
              "30-05-2013  10.03270     0.0247\n",
              "29-05-2013  10.00800     0.0088\n",
              "28-05-2013   9.99920        NaN\n",
              "\n",
              "[2323 rows x 2 columns]"
            ],
            "text/html": [
              "\n",
              "  <div id=\"df-3c116699-1f2a-4aaa-843e-dc1568008831\">\n",
              "    <div class=\"colab-df-container\">\n",
              "      <div>\n",
              "<style scoped>\n",
              "    .dataframe tbody tr th:only-of-type {\n",
              "        vertical-align: middle;\n",
              "    }\n",
              "\n",
              "    .dataframe tbody tr th {\n",
              "        vertical-align: top;\n",
              "    }\n",
              "\n",
              "    .dataframe thead th {\n",
              "        text-align: right;\n",
              "    }\n",
              "</style>\n",
              "<table border=\"1\" class=\"dataframe\">\n",
              "  <thead>\n",
              "    <tr style=\"text-align: right;\">\n",
              "      <th></th>\n",
              "      <th>nav</th>\n",
              "      <th>dayChange</th>\n",
              "    </tr>\n",
              "    <tr>\n",
              "      <th>date</th>\n",
              "      <th></th>\n",
              "      <th></th>\n",
              "    </tr>\n",
              "  </thead>\n",
              "  <tbody>\n",
              "    <tr>\n",
              "      <th>04-11-2022</th>\n",
              "      <td>50.96810</td>\n",
              "      <td>-0.3444</td>\n",
              "    </tr>\n",
              "    <tr>\n",
              "      <th>03-11-2022</th>\n",
              "      <td>51.31250</td>\n",
              "      <td>-0.3929</td>\n",
              "    </tr>\n",
              "    <tr>\n",
              "      <th>02-11-2022</th>\n",
              "      <td>51.70540</td>\n",
              "      <td>-0.2795</td>\n",
              "    </tr>\n",
              "    <tr>\n",
              "      <th>01-11-2022</th>\n",
              "      <td>51.98490</td>\n",
              "      <td>0.0385</td>\n",
              "    </tr>\n",
              "    <tr>\n",
              "      <th>31-10-2022</th>\n",
              "      <td>51.94640</td>\n",
              "      <td>0.4248</td>\n",
              "    </tr>\n",
              "    <tr>\n",
              "      <th>...</th>\n",
              "      <td>...</td>\n",
              "      <td>...</td>\n",
              "    </tr>\n",
              "    <tr>\n",
              "      <th>03-06-2013</th>\n",
              "      <td>10.05720</td>\n",
              "      <td>0.0418</td>\n",
              "    </tr>\n",
              "    <tr>\n",
              "      <th>31-05-2013</th>\n",
              "      <td>10.01540</td>\n",
              "      <td>-0.0173</td>\n",
              "    </tr>\n",
              "    <tr>\n",
              "      <th>30-05-2013</th>\n",
              "      <td>10.03270</td>\n",
              "      <td>0.0247</td>\n",
              "    </tr>\n",
              "    <tr>\n",
              "      <th>29-05-2013</th>\n",
              "      <td>10.00800</td>\n",
              "      <td>0.0088</td>\n",
              "    </tr>\n",
              "    <tr>\n",
              "      <th>28-05-2013</th>\n",
              "      <td>9.99920</td>\n",
              "      <td>NaN</td>\n",
              "    </tr>\n",
              "  </tbody>\n",
              "</table>\n",
              "<p>2323 rows × 2 columns</p>\n",
              "</div>\n",
              "      <button class=\"colab-df-convert\" onclick=\"convertToInteractive('df-3c116699-1f2a-4aaa-843e-dc1568008831')\"\n",
              "              title=\"Convert this dataframe to an interactive table.\"\n",
              "              style=\"display:none;\">\n",
              "        \n",
              "  <svg xmlns=\"http://www.w3.org/2000/svg\" height=\"24px\"viewBox=\"0 0 24 24\"\n",
              "       width=\"24px\">\n",
              "    <path d=\"M0 0h24v24H0V0z\" fill=\"none\"/>\n",
              "    <path d=\"M18.56 5.44l.94 2.06.94-2.06 2.06-.94-2.06-.94-.94-2.06-.94 2.06-2.06.94zm-11 1L8.5 8.5l.94-2.06 2.06-.94-2.06-.94L8.5 2.5l-.94 2.06-2.06.94zm10 10l.94 2.06.94-2.06 2.06-.94-2.06-.94-.94-2.06-.94 2.06-2.06.94z\"/><path d=\"M17.41 7.96l-1.37-1.37c-.4-.4-.92-.59-1.43-.59-.52 0-1.04.2-1.43.59L10.3 9.45l-7.72 7.72c-.78.78-.78 2.05 0 2.83L4 21.41c.39.39.9.59 1.41.59.51 0 1.02-.2 1.41-.59l7.78-7.78 2.81-2.81c.8-.78.8-2.07 0-2.86zM5.41 20L4 18.59l7.72-7.72 1.47 1.35L5.41 20z\"/>\n",
              "  </svg>\n",
              "      </button>\n",
              "      \n",
              "  <style>\n",
              "    .colab-df-container {\n",
              "      display:flex;\n",
              "      flex-wrap:wrap;\n",
              "      gap: 12px;\n",
              "    }\n",
              "\n",
              "    .colab-df-convert {\n",
              "      background-color: #E8F0FE;\n",
              "      border: none;\n",
              "      border-radius: 50%;\n",
              "      cursor: pointer;\n",
              "      display: none;\n",
              "      fill: #1967D2;\n",
              "      height: 32px;\n",
              "      padding: 0 0 0 0;\n",
              "      width: 32px;\n",
              "    }\n",
              "\n",
              "    .colab-df-convert:hover {\n",
              "      background-color: #E2EBFA;\n",
              "      box-shadow: 0px 1px 2px rgba(60, 64, 67, 0.3), 0px 1px 3px 1px rgba(60, 64, 67, 0.15);\n",
              "      fill: #174EA6;\n",
              "    }\n",
              "\n",
              "    [theme=dark] .colab-df-convert {\n",
              "      background-color: #3B4455;\n",
              "      fill: #D2E3FC;\n",
              "    }\n",
              "\n",
              "    [theme=dark] .colab-df-convert:hover {\n",
              "      background-color: #434B5C;\n",
              "      box-shadow: 0px 1px 3px 1px rgba(0, 0, 0, 0.15);\n",
              "      filter: drop-shadow(0px 1px 2px rgba(0, 0, 0, 0.3));\n",
              "      fill: #FFFFFF;\n",
              "    }\n",
              "  </style>\n",
              "\n",
              "      <script>\n",
              "        const buttonEl =\n",
              "          document.querySelector('#df-3c116699-1f2a-4aaa-843e-dc1568008831 button.colab-df-convert');\n",
              "        buttonEl.style.display =\n",
              "          google.colab.kernel.accessAllowed ? 'block' : 'none';\n",
              "\n",
              "        async function convertToInteractive(key) {\n",
              "          const element = document.querySelector('#df-3c116699-1f2a-4aaa-843e-dc1568008831');\n",
              "          const dataTable =\n",
              "            await google.colab.kernel.invokeFunction('convertToInteractive',\n",
              "                                                     [key], {});\n",
              "          if (!dataTable) return;\n",
              "\n",
              "          const docLinkHtml = 'Like what you see? Visit the ' +\n",
              "            '<a target=\"_blank\" href=https://colab.research.google.com/notebooks/data_table.ipynb>data table notebook</a>'\n",
              "            + ' to learn more about interactive tables.';\n",
              "          element.innerHTML = '';\n",
              "          dataTable['output_type'] = 'display_data';\n",
              "          await google.colab.output.renderOutput(dataTable, element);\n",
              "          const docLink = document.createElement('div');\n",
              "          docLink.innerHTML = docLinkHtml;\n",
              "          element.appendChild(docLink);\n",
              "        }\n",
              "      </script>\n",
              "    </div>\n",
              "  </div>\n",
              "  "
            ]
          },
          "metadata": {},
          "execution_count": 11
        }
      ]
    },
    {
      "cell_type": "code",
      "source": [
        "df_nav.dtypes"
      ],
      "metadata": {
        "colab": {
          "base_uri": "https://localhost:8080/"
        },
        "id": "utHLVKuh-yG2",
        "outputId": "fe47f7e6-79ad-49f3-cb2d-550fde28e1c3"
      },
      "execution_count": 12,
      "outputs": [
        {
          "output_type": "execute_result",
          "data": {
            "text/plain": [
              "nav           object\n",
              "dayChange    float64\n",
              "dtype: object"
            ]
          },
          "metadata": {},
          "execution_count": 12
        }
      ]
    },
    {
      "cell_type": "code",
      "source": [
        "# code in NAVAccessor below\n",
        "# # cast nav to float64\n",
        "\n",
        "# df_nav[\"nav\"] = df_nav[\"nav\"].astype(\"float64\")\n",
        "# df_nav.dtypes"
      ],
      "metadata": {
        "id": "dbPzWa6L-4b8"
      },
      "execution_count": 13,
      "outputs": []
    },
    {
      "cell_type": "code",
      "source": [
        "# code in NAVAccessor below\n",
        "# # cast index to datetime\n",
        "\n",
        "# df_nav.index = pd.to_datetime(df_nav.index)\n",
        "# df_nav.index.dtype"
      ],
      "metadata": {
        "id": "4g3rZ5rUGJNe"
      },
      "execution_count": 14,
      "outputs": []
    },
    {
      "cell_type": "code",
      "source": [
        "# check for saturday and sunday nav\n",
        "\n",
        "today = datetime.datetime.today().date()\n",
        "sunday_idx = (today.weekday() + 1) % 7\n",
        "\n",
        "sun = today - datetime.timedelta(days=sunday_idx)\n",
        "sun"
      ],
      "metadata": {
        "colab": {
          "base_uri": "https://localhost:8080/"
        },
        "id": "8jc6GSHNBqGi",
        "outputId": "710594fe-4b15-492a-cb7b-066c7e608605"
      },
      "execution_count": 15,
      "outputs": [
        {
          "output_type": "execute_result",
          "data": {
            "text/plain": [
              "datetime.date(2022, 10, 30)"
            ]
          },
          "metadata": {},
          "execution_count": 15
        }
      ]
    },
    {
      "cell_type": "code",
      "source": [
        "try:\n",
        "  df_nav.loc[str(sun)]\n",
        "except:\n",
        "  print(\"Data missing for Sunday. As expected!\")"
      ],
      "metadata": {
        "colab": {
          "base_uri": "https://localhost:8080/"
        },
        "id": "QFJvjlZuDv4A",
        "outputId": "6539968c-c91a-4c82-d00d-a3e8f5073f59"
      },
      "execution_count": 16,
      "outputs": [
        {
          "output_type": "stream",
          "name": "stdout",
          "text": [
            "Data missing for Sunday. As expected!\n"
          ]
        }
      ]
    },
    {
      "cell_type": "code",
      "source": [
        "# data will always be missing for holidays, and weekends\n",
        "# on holidays, the nav stays the same as previous day's nav\n",
        "\n",
        "# refer: https://pandas.pydata.org/pandas-docs/stable/development/extending.html\n",
        "\n",
        "@pd.api.extensions.register_dataframe_accessor(\"safe_nav\")\n",
        "class NAVAccessor:\n",
        "    def __init__(self, pandas_obj):\n",
        "        self._validate(pandas_obj)\n",
        "        pandas_obj = self._preprocess(pandas_obj)\n",
        "        self.start_date = pandas_obj.index[-1]\n",
        "        self._obj = pandas_obj\n",
        "\n",
        "    @staticmethod\n",
        "    def _validate(obj):\n",
        "        # verify there is a column nav and a column dayChange,\n",
        "        # and index must be datetime\n",
        "        if \"nav\" not in obj.columns or \"dayChange\" not in obj.columns:\n",
        "            raise AttributeError(\"Must have 'nav' and 'dayChange'.\")\n",
        "\n",
        "    @staticmethod\n",
        "    def _preprocess(obj):\n",
        "        # search, sort, type conversions, etc.\n",
        "        # assumption: dataframe will always be sorted by date in descending order\n",
        "        \n",
        "        # todo: note: datetime index will be better as it is faster then object index\n",
        "        # this will convert index's dtype to datetime.date object\n",
        "        obj.index = pd.to_datetime(obj.index, format=\"%d-%m-%Y\")\n",
        "\n",
        "        obj.index = obj.index.date\n",
        "\n",
        "        # other conversions\n",
        "        obj[\"nav\"] = obj[\"nav\"].astype(\"float64\")\n",
        "\n",
        "        return obj\n",
        "\n",
        "    def is_date_available(self, date):\n",
        "      return date in self._obj.index\n",
        "\n",
        "    # let's create a separate function which handles this\n",
        "    def for_date(self, date):\n",
        "      if date > self.start_date:\n",
        "        # go back by a day till holidays are not over \n",
        "        while not self.is_date_available(date):\n",
        "          date -= datetime.timedelta(days=1)\n",
        "        \n",
        "        # return the data of the day before holidays\n",
        "        return self._obj.loc[date]\n",
        "\n",
        "      # return the data of inception if data is from very past\n",
        "      return self._obj.loc[self.start_date]"
      ],
      "metadata": {
        "id": "RxTpOSB9EDw7"
      },
      "execution_count": 17,
      "outputs": []
    },
    {
      "cell_type": "code",
      "source": [
        "# verify index and format\n",
        "df_nav.index"
      ],
      "metadata": {
        "colab": {
          "base_uri": "https://localhost:8080/"
        },
        "id": "9Dy8LMhaYqAb",
        "outputId": "44f3b926-f764-475b-f36c-0b76f55c620a"
      },
      "execution_count": 18,
      "outputs": [
        {
          "output_type": "execute_result",
          "data": {
            "text/plain": [
              "Index(['04-11-2022', '03-11-2022', '02-11-2022', '01-11-2022', '31-10-2022',\n",
              "       '28-10-2022', '27-10-2022', '25-10-2022', '21-10-2022', '20-10-2022',\n",
              "       ...\n",
              "       '10-06-2013', '07-06-2013', '06-06-2013', '05-06-2013', '04-06-2013',\n",
              "       '03-06-2013', '31-05-2013', '30-05-2013', '29-05-2013', '28-05-2013'],\n",
              "      dtype='object', name='date', length=2323)"
            ]
          },
          "metadata": {},
          "execution_count": 18
        }
      ]
    },
    {
      "cell_type": "code",
      "source": [
        "df_nav.safe_nav._obj.index"
      ],
      "metadata": {
        "colab": {
          "base_uri": "https://localhost:8080/"
        },
        "id": "6kVtiTirYbTm",
        "outputId": "62104aa9-2b9e-47f8-b129-8241156b1083"
      },
      "execution_count": 19,
      "outputs": [
        {
          "output_type": "execute_result",
          "data": {
            "text/plain": [
              "Index([2022-11-04, 2022-11-03, 2022-11-02, 2022-11-01, 2022-10-31, 2022-10-28,\n",
              "       2022-10-27, 2022-10-25, 2022-10-21, 2022-10-20,\n",
              "       ...\n",
              "       2013-06-10, 2013-06-07, 2013-06-06, 2013-06-05, 2013-06-04, 2013-06-03,\n",
              "       2013-05-31, 2013-05-30, 2013-05-29, 2013-05-28],\n",
              "      dtype='object', length=2323)"
            ]
          },
          "metadata": {},
          "execution_count": 19
        }
      ]
    },
    {
      "cell_type": "code",
      "source": [
        "# check if it works\n",
        "df_nav.safe_nav.for_date(sun)"
      ],
      "metadata": {
        "colab": {
          "base_uri": "https://localhost:8080/"
        },
        "id": "LT20S4WALxbR",
        "outputId": "85322d41-b66b-4c49-cd2f-4b383ac8b5a6"
      },
      "execution_count": 20,
      "outputs": [
        {
          "output_type": "execute_result",
          "data": {
            "text/plain": [
              "nav          51.5216\n",
              "dayChange    -0.5891\n",
              "Name: 2022-10-28, dtype: float64"
            ]
          },
          "metadata": {},
          "execution_count": 20
        }
      ]
    },
    {
      "cell_type": "code",
      "source": [
        "# shortcut\n",
        "df_nav = df_nav.safe_nav\n",
        "df_nav.for_date(sun)"
      ],
      "metadata": {
        "colab": {
          "base_uri": "https://localhost:8080/"
        },
        "id": "by-DHFWrSdho",
        "outputId": "4daffc8b-d719-481d-a2e7-f7326d078a46"
      },
      "execution_count": 21,
      "outputs": [
        {
          "output_type": "execute_result",
          "data": {
            "text/plain": [
              "nav          51.5216\n",
              "dayChange    -0.5891\n",
              "Name: 2022-10-28, dtype: float64"
            ]
          },
          "metadata": {},
          "execution_count": 21
        }
      ]
    },
    {
      "cell_type": "markdown",
      "source": [
        "## Calculate Returns"
      ],
      "metadata": {
        "id": "0N04vx4L-Yu9"
      }
    },
    {
      "cell_type": "markdown",
      "source": [
        "### Absolute Returns"
      ],
      "metadata": {
        "id": "w0Cxo7lwlZMP"
      }
    },
    {
      "cell_type": "code",
      "source": [
        "def one_day_absolute_return(df_nav):\n",
        "  today_date = datetime.datetime.today().date()\n",
        "  yesterday_date = (today_date - datetime.timedelta(days=1))\n",
        "  day_before_yesterday_date = (today_date - datetime.timedelta(days=2))\n",
        "  \n",
        "  return df_nav.for_date(yesterday_date)[\"dayChange\"]*100 / df_nav.for_date(day_before_yesterday_date)[\"nav\"]\n",
        "\n",
        "one_day_absolute_return(df_nav)"
      ],
      "metadata": {
        "colab": {
          "base_uri": "https://localhost:8080/"
        },
        "id": "XTcWRr-WvpwU",
        "outputId": "d68ebd4f-bbb0-498f-ebce-1c468f2ce3ab"
      },
      "execution_count": 22,
      "outputs": [
        {
          "output_type": "execute_result",
          "data": {
            "text/plain": [
              "-0.6711814859926923"
            ]
          },
          "metadata": {},
          "execution_count": 22
        }
      ]
    },
    {
      "cell_type": "code",
      "source": [
        "def one_year_absolute_return(df_nav):\n",
        "  today_date = datetime.datetime.today().date()\n",
        "  yesterday_date = (today_date - datetime.timedelta(days=1))\n",
        "  one_year_before_yesterday_date = (today_date - datetime.timedelta(days=366))\n",
        "\n",
        "  return (df_nav.for_date(yesterday_date)[\"nav\"] - df_nav.for_date(one_year_before_yesterday_date)[\"nav\"])*100 / df_nav.for_date(one_year_before_yesterday_date)[\"nav\"]\n",
        "\n",
        "one_year_absolute_return(df_nav)"
      ],
      "metadata": {
        "colab": {
          "base_uri": "https://localhost:8080/"
        },
        "id": "D_GLJmG8-v7C",
        "outputId": "ab1e0e73-2d98-4e6a-a1ad-40f2259a524f"
      },
      "execution_count": 23,
      "outputs": [
        {
          "output_type": "execute_result",
          "data": {
            "text/plain": [
              "-4.817920370508706"
            ]
          },
          "metadata": {},
          "execution_count": 23
        }
      ]
    },
    {
      "cell_type": "code",
      "source": [
        "df_nav._obj.index[0]"
      ],
      "metadata": {
        "colab": {
          "base_uri": "https://localhost:8080/"
        },
        "id": "s5d324jQ0LHL",
        "outputId": "6034c8e2-b9d9-447d-d5cb-d5017895842b"
      },
      "execution_count": 24,
      "outputs": [
        {
          "output_type": "execute_result",
          "data": {
            "text/plain": [
              "datetime.date(2022, 11, 4)"
            ]
          },
          "metadata": {},
          "execution_count": 24
        }
      ]
    },
    {
      "cell_type": "code",
      "source": [
        "def year_to_date_absolute_return(df_nav):\n",
        "  today_date = datetime.datetime.today().date()\n",
        "  yesterday_date = (today_date - datetime.timedelta(days=1))\n",
        "  \n",
        "  year_start_date_str =  f\"01-01-{yesterday_date.year}\"\n",
        "  year_start_date = datetime.datetime.strptime(year_start_date_str, \"%d-%m-%Y\").date()\n",
        "\n",
        "  # handling holidays at the start of the year\n",
        "  while not df_nav.is_date_available(year_start_date):\n",
        "    year_start_date += datetime.timedelta(days=1)\n",
        "\n",
        "  return (df_nav.for_date(yesterday_date)[\"nav\"] - df_nav.for_date(year_start_date)[\"nav\"])*100 / df_nav.for_date(year_start_date)[\"nav\"]\n",
        "\n",
        "year_to_date_absolute_return(df_nav)"
      ],
      "metadata": {
        "colab": {
          "base_uri": "https://localhost:8080/"
        },
        "id": "cnKUCefAw04d",
        "outputId": "4ed5f443-3950-4d7a-ae4b-be7e566427e5"
      },
      "execution_count": 25,
      "outputs": [
        {
          "output_type": "execute_result",
          "data": {
            "text/plain": [
              "-6.631995075876927"
            ]
          },
          "metadata": {},
          "execution_count": 25
        }
      ]
    },
    {
      "cell_type": "code",
      "source": [
        "# generic function\n",
        "\n",
        "def n_years_absolute_return(df_nav, n_years=7):\n",
        "  today_date = datetime.datetime.today().date()\n",
        "  yesterday_date = (today_date - datetime.timedelta(days=1))\n",
        "  n_years_before_yesterday_date = (yesterday_date - datetime.timedelta(days=365*n_years))\n",
        "\n",
        "  return (df_nav.for_date(yesterday_date)[\"nav\"] - df_nav.for_date(n_years_before_yesterday_date)[\"nav\"])*100 / df_nav.for_date(n_years_before_yesterday_date)[\"nav\"]"
      ],
      "metadata": {
        "id": "tQ4GQ5sZ_oyR"
      },
      "execution_count": 26,
      "outputs": []
    },
    {
      "cell_type": "code",
      "source": [
        "for n_years in (1, 3, 5, 7):\n",
        "  return_ = n_years_absolute_return(df_nav, n_years=n_years)\n",
        "  print(\"Years:\", n_years, \"\\t\", \"Abs. Return:\", return_)"
      ],
      "metadata": {
        "colab": {
          "base_uri": "https://localhost:8080/"
        },
        "id": "W5oQaf2Ha3Ja",
        "outputId": "3b9467ac-0035-410c-8547-c3a47ca46fbf"
      },
      "execution_count": 27,
      "outputs": [
        {
          "output_type": "stream",
          "name": "stdout",
          "text": [
            "Years: 1 \t Abs. Return: -4.817920370508706\n",
            "Years: 3 \t Abs. Return: 85.65517191136884\n",
            "Years: 5 \t Abs. Return: 119.47250570555055\n",
            "Years: 7 \t Abs. Return: 196.37096305255452\n"
          ]
        }
      ]
    },
    {
      "cell_type": "markdown",
      "source": [
        "### Trailing Returns"
      ],
      "metadata": {
        "id": "WcAZSgybm2UN"
      }
    },
    {
      "cell_type": "markdown",
      "source": [
        "**Understanding**\n",
        "\n",
        "Trailing Return cancels the compounding effect from the absolute return.\n",
        "\n",
        "If it is a year-on-year compounding, trailing return tells you the yearly simple interest rate that would have applied to compound and reach the final amount in the given time span.\n",
        "\n",
        "For example, the absolute return for 7 years, which is 196.37% does not consider the time that you'll have to wait to earn this much profit.\n",
        "\n",
        "Like if we want to compare the return of this mutual fund with a typical compound interest scheme, we want to know the yearly simple interest rate that applies. What if a compound interest scheme for 7 years would generate more than 196.37% absolute return? You'd never know.\n",
        "\n",
        "Trailing return helps us with calculating the yearly rate of interest that you'd need to reach upto 196.37% in 7 years. Basically, it remove the timefactor from the absolute return and gets you the yearly interest rate."
      ],
      "metadata": {
        "id": "9BJoPNTrm7KF"
      }
    },
    {
      "cell_type": "code",
      "source": [
        "# formulation\n",
        "\n",
        "# compound interest formula\n",
        "\n",
        "# final_value = initial_value * (1 + (interest_rate / num_times_interest_applied_per_period) ^ (num_times_interest_applied_per_period*num_periods))\n",
        "\n",
        "# for 5 year compounding and interest applied yearly\n",
        "# num_times_interest_applied_per_period = 1, num_periods=5\n",
        "\n",
        "# for 5 year compounding and interest applied mothly\n",
        "# num_times_interest_applied_per_period = 12, num_periods=5\n",
        "\n",
        "\n",
        "# deriving the formula of trailing returns from above, we get\n",
        "\n",
        "# trailing_return = ((final_value / initial_value) ^ (1 / num_times_interest_applied_per_period*num_periods) - 1) * num_times_interest_applied_per_period)"
      ],
      "metadata": {
        "id": "ab3rbpK9pnX-"
      },
      "execution_count": 28,
      "outputs": []
    },
    {
      "cell_type": "code",
      "source": [
        "# for most of the compounding schemes, num_times_interest_applied_per_period = 1\n",
        "\n",
        "def n_years_trailing_return(df_nav, n_years):\n",
        "  # redundancy count: 2\n",
        "  today_date = datetime.datetime.today().date()\n",
        "  yesterday_date = (today_date - datetime.timedelta(days=1))\n",
        "  n_years_before_yesterday_date = (yesterday_date - datetime.timedelta(days=365*n_years))\n",
        "\n",
        "  final_value = df_nav.for_date(yesterday_date)[\"nav\"]\n",
        "  initial_value = df_nav.for_date(n_years_before_yesterday_date)[\"nav\"]\n",
        "\n",
        "  return (((final_value / initial_value) ** (1 / n_years)) - 1)*100"
      ],
      "metadata": {
        "id": "RVlsHMTsmOlD"
      },
      "execution_count": 29,
      "outputs": []
    },
    {
      "cell_type": "code",
      "source": [
        "for n_years in (1, 3, 5, 7):\n",
        "  return_ = n_years_trailing_return(df_nav, n_years=n_years)\n",
        "  print(\"Years:\", n_years, \"\\t\", \"Trl. Return:\", return_)"
      ],
      "metadata": {
        "colab": {
          "base_uri": "https://localhost:8080/"
        },
        "id": "9X9-QMS_sfjE",
        "outputId": "a8f8e202-7933-4878-88f4-d62f748dbf65"
      },
      "execution_count": 30,
      "outputs": [
        {
          "output_type": "stream",
          "name": "stdout",
          "text": [
            "Years: 1 \t Trl. Return: -4.817920370508711\n",
            "Years: 3 \t Trl. Return: 22.904848946865954\n",
            "Years: 5 \t Trl. Return: 17.024292561361843\n",
            "Years: 7 \t Trl. Return: 16.789847958013524\n"
          ]
        }
      ]
    },
    {
      "cell_type": "markdown",
      "source": [
        "**Output for future**\n",
        "\n",
        "```\n",
        "Years: 1 \t Abs. Return: -4.817920370508706\n",
        "Years: 3 \t Abs. Return: 85.65517191136884\n",
        "Years: 5 \t Abs. Return: 119.47250570555055\n",
        "Years: 7 \t Abs. Return: 196.37096305255452\n",
        "```\n",
        "\n",
        "```\n",
        "Years: 1 \t Trl. Return: -4.817920370508711\n",
        "Years: 3 \t Trl. Return: 22.904848946865954\n",
        "Years: 5 \t Trl. Return: 17.024292561361843\n",
        "Years: 7 \t Trl. Return: 16.789847958013524\n",
        "```"
      ],
      "metadata": {
        "id": "yHB_q0Vk1Chm"
      }
    },
    {
      "cell_type": "markdown",
      "source": [
        "**Observations:**\n",
        "1. The fund has performed significantly well over the past 3 years, however, it's performance dropped last year. Basically, the fund performed very well from November 2019 to November 2021, and it's performance dropped after November 2021 till November 2022.\n",
        "2. We can confirm the same by looking at absolute returns. Out of 119.47% over 5 years, 85.65% alone was generate in the last 3 years.\n",
        "3. The fund is not able to maintain it's yearly interest rate i.e. trailing return value in the last year. If you had to invest in this fund, ignoring the last year, you could expect an average annual return of 16% or more in this fund, given that you stay invested for more than 3 years.\n",
        "\n",
        "**NOTE:** For 1 year, trailing return = absolute return as there is no compounding effect"
      ],
      "metadata": {
        "id": "kZ1ac2ZftTZx"
      }
    },
    {
      "cell_type": "code",
      "source": [],
      "metadata": {
        "id": "YNzXLmKktS84"
      },
      "execution_count": 30,
      "outputs": []
    }
  ]
}