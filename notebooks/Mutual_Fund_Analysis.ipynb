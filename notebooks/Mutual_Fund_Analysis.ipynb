{
  "nbformat": 4,
  "nbformat_minor": 0,
  "metadata": {
    "colab": {
      "provenance": [],
      "collapsed_sections": [
        "JN7HjDuRquwS"
      ]
    },
    "kernelspec": {
      "name": "python3",
      "display_name": "Python 3"
    },
    "language_info": {
      "name": "python"
    }
  },
  "cells": [
    {
      "cell_type": "markdown",
      "source": [
        "## Dependencies\n",
        "\n"
      ],
      "metadata": {
        "id": "aB4aZf0lqrIt"
      }
    },
    {
      "cell_type": "code",
      "execution_count": 65,
      "metadata": {
        "id": "4CmUNbJEpO2S",
        "outputId": "b12a5e76-c614-4f5a-98c9-cdeee31f36b3",
        "colab": {
          "base_uri": "https://localhost:8080/"
        }
      },
      "outputs": [
        {
          "output_type": "stream",
          "name": "stdout",
          "text": [
            "Looking in indexes: https://pypi.org/simple, https://us-python.pkg.dev/colab-wheels/public/simple/\n",
            "Requirement already satisfied: mftool in /usr/local/lib/python3.7/dist-packages (2.5)\n",
            "Requirement already satisfied: python-dateutil in /usr/local/lib/python3.7/dist-packages (2.8.2)\n",
            "Requirement already satisfied: Deprecated in /usr/local/lib/python3.7/dist-packages (from mftool) (1.2.13)\n",
            "Requirement already satisfied: bs4 in /usr/local/lib/python3.7/dist-packages (from mftool) (0.0.1)\n",
            "Requirement already satisfied: yfinance in /usr/local/lib/python3.7/dist-packages (from mftool) (0.1.85)\n",
            "Requirement already satisfied: pandas in /usr/local/lib/python3.7/dist-packages (from mftool) (1.3.5)\n",
            "Requirement already satisfied: requests in /usr/local/lib/python3.7/dist-packages (from mftool) (2.28.1)\n",
            "Requirement already satisfied: httpx in /usr/local/lib/python3.7/dist-packages (from mftool) (0.23.0)\n",
            "Requirement already satisfied: six>=1.5 in /usr/local/lib/python3.7/dist-packages (from python-dateutil) (1.15.0)\n",
            "Requirement already satisfied: beautifulsoup4 in /usr/local/lib/python3.7/dist-packages (from bs4->mftool) (4.6.3)\n",
            "Requirement already satisfied: wrapt<2,>=1.10 in /usr/local/lib/python3.7/dist-packages (from Deprecated->mftool) (1.14.1)\n",
            "Requirement already satisfied: rfc3986[idna2008]<2,>=1.3 in /usr/local/lib/python3.7/dist-packages (from httpx->mftool) (1.5.0)\n",
            "Requirement already satisfied: httpcore<0.16.0,>=0.15.0 in /usr/local/lib/python3.7/dist-packages (from httpx->mftool) (0.15.0)\n",
            "Requirement already satisfied: certifi in /usr/local/lib/python3.7/dist-packages (from httpx->mftool) (2022.9.24)\n",
            "Requirement already satisfied: sniffio in /usr/local/lib/python3.7/dist-packages (from httpx->mftool) (1.3.0)\n",
            "Requirement already satisfied: anyio==3.* in /usr/local/lib/python3.7/dist-packages (from httpcore<0.16.0,>=0.15.0->httpx->mftool) (3.6.2)\n",
            "Requirement already satisfied: h11<0.13,>=0.11 in /usr/local/lib/python3.7/dist-packages (from httpcore<0.16.0,>=0.15.0->httpx->mftool) (0.12.0)\n",
            "Requirement already satisfied: idna>=2.8 in /usr/local/lib/python3.7/dist-packages (from anyio==3.*->httpcore<0.16.0,>=0.15.0->httpx->mftool) (2.10)\n",
            "Requirement already satisfied: typing-extensions in /usr/local/lib/python3.7/dist-packages (from anyio==3.*->httpcore<0.16.0,>=0.15.0->httpx->mftool) (4.1.1)\n",
            "Requirement already satisfied: numpy>=1.17.3 in /usr/local/lib/python3.7/dist-packages (from pandas->mftool) (1.21.6)\n",
            "Requirement already satisfied: pytz>=2017.3 in /usr/local/lib/python3.7/dist-packages (from pandas->mftool) (2022.5)\n",
            "Requirement already satisfied: urllib3<1.27,>=1.21.1 in /usr/local/lib/python3.7/dist-packages (from requests->mftool) (1.24.3)\n",
            "Requirement already satisfied: charset-normalizer<3,>=2 in /usr/local/lib/python3.7/dist-packages (from requests->mftool) (2.1.1)\n",
            "Requirement already satisfied: appdirs>=1.4.4 in /usr/local/lib/python3.7/dist-packages (from yfinance->mftool) (1.4.4)\n",
            "Requirement already satisfied: multitasking>=0.0.7 in /usr/local/lib/python3.7/dist-packages (from yfinance->mftool) (0.0.11)\n",
            "Requirement already satisfied: lxml>=4.5.1 in /usr/local/lib/python3.7/dist-packages (from yfinance->mftool) (4.9.1)\n"
          ]
        }
      ],
      "source": [
        "!pip install mftool python-dateutil"
      ]
    },
    {
      "cell_type": "markdown",
      "source": [
        "## Imports"
      ],
      "metadata": {
        "id": "WOK-aJ-yqlVG"
      }
    },
    {
      "cell_type": "code",
      "source": [
        "from mftool import Mftool\n",
        "import pandas as pd\n",
        "import datetime\n",
        "from dateutil.relativedelta import relativedelta\n",
        "import plotly.express as px"
      ],
      "metadata": {
        "id": "t27qmyWAqnVl"
      },
      "execution_count": 105,
      "outputs": []
    },
    {
      "cell_type": "markdown",
      "source": [
        "## Select Mutual Fund House and Scheme"
      ],
      "metadata": {
        "id": "JN7HjDuRquwS"
      }
    },
    {
      "cell_type": "code",
      "source": [
        "mf = Mftool()"
      ],
      "metadata": {
        "id": "dx5yfc7VqgjT"
      },
      "execution_count": 3,
      "outputs": []
    },
    {
      "cell_type": "code",
      "source": [
        "# get all supported amc details\n",
        "amc_details = mf.get_all_amc_profiles(as_json=False)\n",
        "# amc_details"
      ],
      "metadata": {
        "id": "oeodhpUsqDHf"
      },
      "execution_count": 4,
      "outputs": []
    },
    {
      "cell_type": "code",
      "source": [
        "df_amcs = pd.DataFrame(amc_details)\n",
        "# df_amcs"
      ],
      "metadata": {
        "id": "01uFBTz4qU4y"
      },
      "execution_count": 5,
      "outputs": []
    },
    {
      "cell_type": "code",
      "source": [
        "# let's select a reputed fund house\n",
        "df_amc = df_amcs[df_amcs[\"Name of the Mutual Fund\"] == \"PPFAS Mutual Fund\"]\n",
        "df_amc"
      ],
      "metadata": {
        "colab": {
          "base_uri": "https://localhost:8080/",
          "height": 330
        },
        "id": "M8E3rcEirNFv",
        "outputId": "11abf04e-e9e2-4708-e2f7-3a7ce1b2f4e1"
      },
      "execution_count": 6,
      "outputs": [
        {
          "output_type": "execute_result",
          "data": {
            "text/plain": [
              "   Name of the Mutual Fund Date of set up of Mutual Fund  \\\n",
              "31       PPFAS Mutual Fund              October 10, 2012   \n",
              "\n",
              "                               Name(s) of Sponsor  \\\n",
              "31  Parag Parikh Financial Advisory Services Ltd.   \n",
              "\n",
              "                  Name of Trustee Company  \\\n",
              "31  PPFAS Trustee Company Private Limited   \n",
              "\n",
              "                                     Name of Trustees  \\\n",
              "31  Bhagirat Merchant - Independent Director      ...   \n",
              "\n",
              "             Name of Assest Management Co. Date of Incorporation of AMC  \\\n",
              "31  PPFAS Asset Management Private Limited              August 08, 2011   \n",
              "\n",
              "                                  Name(s) of Director Name of Chairman  \\\n",
              "31  Neil Parag Parikh                             ...              NaN   \n",
              "\n",
              "   Name of Chief Executive Officer  ... Name(s) of Company Secretary  \\\n",
              "31               Neil Parag Parikh  ...                          NaN   \n",
              "\n",
              "                              Name(s) of Fund Manager  \\\n",
              "31  Raj Mehta                                     ...   \n",
              "\n",
              "   Name of Compliance Officer Name of Chief Bussiness Officer  \\\n",
              "31              Priya Hariani                             NaN   \n",
              "\n",
              "   Name of the Chief Investment Officer  \\\n",
              "31                       Rajeev Thakkar   \n",
              "\n",
              "   Name(s) of the Chief Investment Officer - Dept  \\\n",
              "31                                            NaN   \n",
              "\n",
              "                           Name of Head of Operations  \\\n",
              "31  Jignesh Desai                                 ...   \n",
              "\n",
              "   Name(s) of the Chief Investment Officer - Equity Name of President  \\\n",
              "31                                              NaN               NaN   \n",
              "\n",
              "   Name of Wholetime Director  \n",
              "31             Rajeev Thakkar  \n",
              "\n",
              "[1 rows x 35 columns]"
            ],
            "text/html": [
              "\n",
              "  <div id=\"df-029954c4-f0d2-425c-8b91-e78e17c3a8d9\">\n",
              "    <div class=\"colab-df-container\">\n",
              "      <div>\n",
              "<style scoped>\n",
              "    .dataframe tbody tr th:only-of-type {\n",
              "        vertical-align: middle;\n",
              "    }\n",
              "\n",
              "    .dataframe tbody tr th {\n",
              "        vertical-align: top;\n",
              "    }\n",
              "\n",
              "    .dataframe thead th {\n",
              "        text-align: right;\n",
              "    }\n",
              "</style>\n",
              "<table border=\"1\" class=\"dataframe\">\n",
              "  <thead>\n",
              "    <tr style=\"text-align: right;\">\n",
              "      <th></th>\n",
              "      <th>Name of the Mutual Fund</th>\n",
              "      <th>Date of set up of Mutual Fund</th>\n",
              "      <th>Name(s) of Sponsor</th>\n",
              "      <th>Name of Trustee Company</th>\n",
              "      <th>Name of Trustees</th>\n",
              "      <th>Name of Assest Management Co.</th>\n",
              "      <th>Date of Incorporation of AMC</th>\n",
              "      <th>Name(s) of Director</th>\n",
              "      <th>Name of Chairman</th>\n",
              "      <th>Name of Chief Executive Officer</th>\n",
              "      <th>...</th>\n",
              "      <th>Name(s) of Company Secretary</th>\n",
              "      <th>Name(s) of Fund Manager</th>\n",
              "      <th>Name of Compliance Officer</th>\n",
              "      <th>Name of Chief Bussiness Officer</th>\n",
              "      <th>Name of the Chief Investment Officer</th>\n",
              "      <th>Name(s) of the Chief Investment Officer - Dept</th>\n",
              "      <th>Name of Head of Operations</th>\n",
              "      <th>Name(s) of the Chief Investment Officer - Equity</th>\n",
              "      <th>Name of President</th>\n",
              "      <th>Name of Wholetime Director</th>\n",
              "    </tr>\n",
              "  </thead>\n",
              "  <tbody>\n",
              "    <tr>\n",
              "      <th>31</th>\n",
              "      <td>PPFAS Mutual Fund</td>\n",
              "      <td>October 10, 2012</td>\n",
              "      <td>Parag Parikh Financial Advisory Services Ltd.</td>\n",
              "      <td>PPFAS Trustee Company Private Limited</td>\n",
              "      <td>Bhagirat Merchant - Independent Director      ...</td>\n",
              "      <td>PPFAS Asset Management Private Limited</td>\n",
              "      <td>August 08, 2011</td>\n",
              "      <td>Neil Parag Parikh                             ...</td>\n",
              "      <td>NaN</td>\n",
              "      <td>Neil Parag Parikh</td>\n",
              "      <td>...</td>\n",
              "      <td>NaN</td>\n",
              "      <td>Raj Mehta                                     ...</td>\n",
              "      <td>Priya Hariani</td>\n",
              "      <td>NaN</td>\n",
              "      <td>Rajeev Thakkar</td>\n",
              "      <td>NaN</td>\n",
              "      <td>Jignesh Desai                                 ...</td>\n",
              "      <td>NaN</td>\n",
              "      <td>NaN</td>\n",
              "      <td>Rajeev Thakkar</td>\n",
              "    </tr>\n",
              "  </tbody>\n",
              "</table>\n",
              "<p>1 rows × 35 columns</p>\n",
              "</div>\n",
              "      <button class=\"colab-df-convert\" onclick=\"convertToInteractive('df-029954c4-f0d2-425c-8b91-e78e17c3a8d9')\"\n",
              "              title=\"Convert this dataframe to an interactive table.\"\n",
              "              style=\"display:none;\">\n",
              "        \n",
              "  <svg xmlns=\"http://www.w3.org/2000/svg\" height=\"24px\"viewBox=\"0 0 24 24\"\n",
              "       width=\"24px\">\n",
              "    <path d=\"M0 0h24v24H0V0z\" fill=\"none\"/>\n",
              "    <path d=\"M18.56 5.44l.94 2.06.94-2.06 2.06-.94-2.06-.94-.94-2.06-.94 2.06-2.06.94zm-11 1L8.5 8.5l.94-2.06 2.06-.94-2.06-.94L8.5 2.5l-.94 2.06-2.06.94zm10 10l.94 2.06.94-2.06 2.06-.94-2.06-.94-.94-2.06-.94 2.06-2.06.94z\"/><path d=\"M17.41 7.96l-1.37-1.37c-.4-.4-.92-.59-1.43-.59-.52 0-1.04.2-1.43.59L10.3 9.45l-7.72 7.72c-.78.78-.78 2.05 0 2.83L4 21.41c.39.39.9.59 1.41.59.51 0 1.02-.2 1.41-.59l7.78-7.78 2.81-2.81c.8-.78.8-2.07 0-2.86zM5.41 20L4 18.59l7.72-7.72 1.47 1.35L5.41 20z\"/>\n",
              "  </svg>\n",
              "      </button>\n",
              "      \n",
              "  <style>\n",
              "    .colab-df-container {\n",
              "      display:flex;\n",
              "      flex-wrap:wrap;\n",
              "      gap: 12px;\n",
              "    }\n",
              "\n",
              "    .colab-df-convert {\n",
              "      background-color: #E8F0FE;\n",
              "      border: none;\n",
              "      border-radius: 50%;\n",
              "      cursor: pointer;\n",
              "      display: none;\n",
              "      fill: #1967D2;\n",
              "      height: 32px;\n",
              "      padding: 0 0 0 0;\n",
              "      width: 32px;\n",
              "    }\n",
              "\n",
              "    .colab-df-convert:hover {\n",
              "      background-color: #E2EBFA;\n",
              "      box-shadow: 0px 1px 2px rgba(60, 64, 67, 0.3), 0px 1px 3px 1px rgba(60, 64, 67, 0.15);\n",
              "      fill: #174EA6;\n",
              "    }\n",
              "\n",
              "    [theme=dark] .colab-df-convert {\n",
              "      background-color: #3B4455;\n",
              "      fill: #D2E3FC;\n",
              "    }\n",
              "\n",
              "    [theme=dark] .colab-df-convert:hover {\n",
              "      background-color: #434B5C;\n",
              "      box-shadow: 0px 1px 3px 1px rgba(0, 0, 0, 0.15);\n",
              "      filter: drop-shadow(0px 1px 2px rgba(0, 0, 0, 0.3));\n",
              "      fill: #FFFFFF;\n",
              "    }\n",
              "  </style>\n",
              "\n",
              "      <script>\n",
              "        const buttonEl =\n",
              "          document.querySelector('#df-029954c4-f0d2-425c-8b91-e78e17c3a8d9 button.colab-df-convert');\n",
              "        buttonEl.style.display =\n",
              "          google.colab.kernel.accessAllowed ? 'block' : 'none';\n",
              "\n",
              "        async function convertToInteractive(key) {\n",
              "          const element = document.querySelector('#df-029954c4-f0d2-425c-8b91-e78e17c3a8d9');\n",
              "          const dataTable =\n",
              "            await google.colab.kernel.invokeFunction('convertToInteractive',\n",
              "                                                     [key], {});\n",
              "          if (!dataTable) return;\n",
              "\n",
              "          const docLinkHtml = 'Like what you see? Visit the ' +\n",
              "            '<a target=\"_blank\" href=https://colab.research.google.com/notebooks/data_table.ipynb>data table notebook</a>'\n",
              "            + ' to learn more about interactive tables.';\n",
              "          element.innerHTML = '';\n",
              "          dataTable['output_type'] = 'display_data';\n",
              "          await google.colab.output.renderOutput(dataTable, element);\n",
              "          const docLink = document.createElement('div');\n",
              "          docLink.innerHTML = docLinkHtml;\n",
              "          element.appendChild(docLink);\n",
              "        }\n",
              "      </script>\n",
              "    </div>\n",
              "  </div>\n",
              "  "
            ]
          },
          "metadata": {},
          "execution_count": 6
        }
      ]
    },
    {
      "cell_type": "code",
      "source": [
        "# what is the fund house ID?\n",
        "df_amc.columns.to_list()"
      ],
      "metadata": {
        "colab": {
          "base_uri": "https://localhost:8080/"
        },
        "id": "9BZjhVSssg_z",
        "outputId": "59919b27-20fc-441e-cbe5-47d5ec2bb2b0"
      },
      "execution_count": 7,
      "outputs": [
        {
          "output_type": "execute_result",
          "data": {
            "text/plain": [
              "['Name of the Mutual Fund',\n",
              " 'Date of set up of Mutual Fund',\n",
              " 'Name(s) of Sponsor',\n",
              " 'Name of Trustee Company',\n",
              " 'Name of Trustees',\n",
              " 'Name of Assest Management Co.',\n",
              " 'Date of Incorporation of AMC',\n",
              " 'Name(s) of Director',\n",
              " 'Name of Chairman',\n",
              " 'Name of Chief Executive Officer',\n",
              " 'Name of Managing Director',\n",
              " 'Name of Compliance Officer & Company Secretary',\n",
              " 'Name of Investor Service Officer',\n",
              " 'Address of AMC',\n",
              " 'Telephone Number',\n",
              " 'Fax Number',\n",
              " 'Website',\n",
              " 'Email',\n",
              " 'Name(s) of Auditors ',\n",
              " 'Name(s) of Custodian ',\n",
              " 'Name(s) of Registrar and Transfer Agent',\n",
              " 'Name of Head Equity',\n",
              " 'Name of Head-Fixed Income',\n",
              " 'Name of Sales Head',\n",
              " 'Name(s) of the Chief Operating Officer',\n",
              " 'Name(s) of Company Secretary',\n",
              " 'Name(s) of Fund Manager',\n",
              " 'Name of Compliance Officer',\n",
              " 'Name of Chief Bussiness Officer',\n",
              " 'Name of the Chief Investment Officer',\n",
              " 'Name(s) of the Chief Investment Officer - Dept',\n",
              " 'Name of Head of Operations',\n",
              " 'Name(s) of the Chief Investment Officer - Equity',\n",
              " 'Name of President',\n",
              " 'Name of Wholetime Director']"
            ]
          },
          "metadata": {},
          "execution_count": 7
        }
      ]
    },
    {
      "cell_type": "code",
      "source": [
        "# no ID here\n",
        "# let's fetch funds now\n",
        "\n",
        "df_schemes = pd.Series(mf.get_scheme_codes())\n",
        "# df_schemes"
      ],
      "metadata": {
        "id": "Zu4kZ3IZsokw"
      },
      "execution_count": 8,
      "outputs": []
    },
    {
      "cell_type": "code",
      "source": [
        "# filter the funds from selected fund house\n",
        "df_schemes[df_schemes.str.contains(\"Parag Parikh\")]"
      ],
      "metadata": {
        "colab": {
          "base_uri": "https://localhost:8080/"
        },
        "id": "cQxI_xGnuS-5",
        "outputId": "e6203f00-83bf-4163-dd99-a8e00c3daa2e"
      },
      "execution_count": 9,
      "outputs": [
        {
          "output_type": "execute_result",
          "data": {
            "text/plain": [
              "143263    Parag Parikh Liquid Fund- Direct Plan- Daily R...\n",
              "143269        Parag Parikh Liquid Fund- Direct Plan- Growth\n",
              "143262    Parag Parikh Liquid Fund- Direct Plan- Monthly...\n",
              "143265    Parag Parikh Liquid Fund- Direct Plan- Weekly ...\n",
              "143264    Parag Parikh Liquid Fund- Regular Plan- Daily ...\n",
              "143260       Parag Parikh Liquid Fund- Regular Plan- Growth\n",
              "143261    Parag Parikh Liquid Fund- Regular Plan- Monthl...\n",
              "143266    Parag Parikh Liquid Fund- Regular Plan- Weekly...\n",
              "147481           Parag Parikh Tax Saver Fund- Direct Growth\n",
              "147482          Parag Parikh Tax Saver Fund- Regular Growth\n",
              "122639    Parag Parikh Flexi Cap Fund - Direct Plan - Gr...\n",
              "122640    Parag Parikh Flexi Cap Fund - Regular Plan - G...\n",
              "148958    Parag Parikh Conservative Hybrid Fund - Direct...\n",
              "148961    Parag Parikh Conservative Hybrid Fund - Direct...\n",
              "148959    Parag Parikh Conservative Hybrid Fund - Regula...\n",
              "148960    Parag Parikh Conservative Hybrid Fund - Regula...\n",
              "dtype: object"
            ]
          },
          "metadata": {},
          "execution_count": 9
        }
      ]
    },
    {
      "cell_type": "code",
      "source": [
        "# let's select the fund category\n",
        "df_fund = df_schemes[(df_schemes.str.contains(\"Parag Parikh\")) & (df_schemes.str.contains(\"Flexi\")) & (df_schemes.str.contains(\"Direct\"))]\n",
        "df_fund"
      ],
      "metadata": {
        "colab": {
          "base_uri": "https://localhost:8080/"
        },
        "id": "HmvB9-j-ucBy",
        "outputId": "77b6d385-2a19-4e7c-822b-04a2fceb9d79"
      },
      "execution_count": 10,
      "outputs": [
        {
          "output_type": "execute_result",
          "data": {
            "text/plain": [
              "122639    Parag Parikh Flexi Cap Fund - Direct Plan - Gr...\n",
              "dtype: object"
            ]
          },
          "metadata": {},
          "execution_count": 10
        }
      ]
    },
    {
      "cell_type": "markdown",
      "source": [
        "## Collect Historic Data & Make Ready To Access"
      ],
      "metadata": {
        "id": "GB1niLYXva-0"
      }
    },
    {
      "cell_type": "code",
      "source": [
        "df_nav = mf.get_scheme_historical_nav(df_fund.index.item(), as_Dataframe=True)\n",
        "df_nav"
      ],
      "metadata": {
        "colab": {
          "base_uri": "https://localhost:8080/",
          "height": 455
        },
        "id": "7aUdP0C3vS-W",
        "outputId": "d7774f32-df97-42ea-86c5-f3917559cf9f"
      },
      "execution_count": 11,
      "outputs": [
        {
          "output_type": "execute_result",
          "data": {
            "text/plain": [
              "                 nav  dayChange\n",
              "date                           \n",
              "07-11-2022  51.45190     0.4838\n",
              "04-11-2022  50.96810    -0.3444\n",
              "03-11-2022  51.31250    -0.3929\n",
              "02-11-2022  51.70540    -0.2795\n",
              "01-11-2022  51.98490     0.0385\n",
              "...              ...        ...\n",
              "03-06-2013  10.05720     0.0418\n",
              "31-05-2013  10.01540    -0.0173\n",
              "30-05-2013  10.03270     0.0247\n",
              "29-05-2013  10.00800     0.0088\n",
              "28-05-2013   9.99920        NaN\n",
              "\n",
              "[2324 rows x 2 columns]"
            ],
            "text/html": [
              "\n",
              "  <div id=\"df-5a912198-0be3-4a07-a8f1-5821ce62c68a\">\n",
              "    <div class=\"colab-df-container\">\n",
              "      <div>\n",
              "<style scoped>\n",
              "    .dataframe tbody tr th:only-of-type {\n",
              "        vertical-align: middle;\n",
              "    }\n",
              "\n",
              "    .dataframe tbody tr th {\n",
              "        vertical-align: top;\n",
              "    }\n",
              "\n",
              "    .dataframe thead th {\n",
              "        text-align: right;\n",
              "    }\n",
              "</style>\n",
              "<table border=\"1\" class=\"dataframe\">\n",
              "  <thead>\n",
              "    <tr style=\"text-align: right;\">\n",
              "      <th></th>\n",
              "      <th>nav</th>\n",
              "      <th>dayChange</th>\n",
              "    </tr>\n",
              "    <tr>\n",
              "      <th>date</th>\n",
              "      <th></th>\n",
              "      <th></th>\n",
              "    </tr>\n",
              "  </thead>\n",
              "  <tbody>\n",
              "    <tr>\n",
              "      <th>07-11-2022</th>\n",
              "      <td>51.45190</td>\n",
              "      <td>0.4838</td>\n",
              "    </tr>\n",
              "    <tr>\n",
              "      <th>04-11-2022</th>\n",
              "      <td>50.96810</td>\n",
              "      <td>-0.3444</td>\n",
              "    </tr>\n",
              "    <tr>\n",
              "      <th>03-11-2022</th>\n",
              "      <td>51.31250</td>\n",
              "      <td>-0.3929</td>\n",
              "    </tr>\n",
              "    <tr>\n",
              "      <th>02-11-2022</th>\n",
              "      <td>51.70540</td>\n",
              "      <td>-0.2795</td>\n",
              "    </tr>\n",
              "    <tr>\n",
              "      <th>01-11-2022</th>\n",
              "      <td>51.98490</td>\n",
              "      <td>0.0385</td>\n",
              "    </tr>\n",
              "    <tr>\n",
              "      <th>...</th>\n",
              "      <td>...</td>\n",
              "      <td>...</td>\n",
              "    </tr>\n",
              "    <tr>\n",
              "      <th>03-06-2013</th>\n",
              "      <td>10.05720</td>\n",
              "      <td>0.0418</td>\n",
              "    </tr>\n",
              "    <tr>\n",
              "      <th>31-05-2013</th>\n",
              "      <td>10.01540</td>\n",
              "      <td>-0.0173</td>\n",
              "    </tr>\n",
              "    <tr>\n",
              "      <th>30-05-2013</th>\n",
              "      <td>10.03270</td>\n",
              "      <td>0.0247</td>\n",
              "    </tr>\n",
              "    <tr>\n",
              "      <th>29-05-2013</th>\n",
              "      <td>10.00800</td>\n",
              "      <td>0.0088</td>\n",
              "    </tr>\n",
              "    <tr>\n",
              "      <th>28-05-2013</th>\n",
              "      <td>9.99920</td>\n",
              "      <td>NaN</td>\n",
              "    </tr>\n",
              "  </tbody>\n",
              "</table>\n",
              "<p>2324 rows × 2 columns</p>\n",
              "</div>\n",
              "      <button class=\"colab-df-convert\" onclick=\"convertToInteractive('df-5a912198-0be3-4a07-a8f1-5821ce62c68a')\"\n",
              "              title=\"Convert this dataframe to an interactive table.\"\n",
              "              style=\"display:none;\">\n",
              "        \n",
              "  <svg xmlns=\"http://www.w3.org/2000/svg\" height=\"24px\"viewBox=\"0 0 24 24\"\n",
              "       width=\"24px\">\n",
              "    <path d=\"M0 0h24v24H0V0z\" fill=\"none\"/>\n",
              "    <path d=\"M18.56 5.44l.94 2.06.94-2.06 2.06-.94-2.06-.94-.94-2.06-.94 2.06-2.06.94zm-11 1L8.5 8.5l.94-2.06 2.06-.94-2.06-.94L8.5 2.5l-.94 2.06-2.06.94zm10 10l.94 2.06.94-2.06 2.06-.94-2.06-.94-.94-2.06-.94 2.06-2.06.94z\"/><path d=\"M17.41 7.96l-1.37-1.37c-.4-.4-.92-.59-1.43-.59-.52 0-1.04.2-1.43.59L10.3 9.45l-7.72 7.72c-.78.78-.78 2.05 0 2.83L4 21.41c.39.39.9.59 1.41.59.51 0 1.02-.2 1.41-.59l7.78-7.78 2.81-2.81c.8-.78.8-2.07 0-2.86zM5.41 20L4 18.59l7.72-7.72 1.47 1.35L5.41 20z\"/>\n",
              "  </svg>\n",
              "      </button>\n",
              "      \n",
              "  <style>\n",
              "    .colab-df-container {\n",
              "      display:flex;\n",
              "      flex-wrap:wrap;\n",
              "      gap: 12px;\n",
              "    }\n",
              "\n",
              "    .colab-df-convert {\n",
              "      background-color: #E8F0FE;\n",
              "      border: none;\n",
              "      border-radius: 50%;\n",
              "      cursor: pointer;\n",
              "      display: none;\n",
              "      fill: #1967D2;\n",
              "      height: 32px;\n",
              "      padding: 0 0 0 0;\n",
              "      width: 32px;\n",
              "    }\n",
              "\n",
              "    .colab-df-convert:hover {\n",
              "      background-color: #E2EBFA;\n",
              "      box-shadow: 0px 1px 2px rgba(60, 64, 67, 0.3), 0px 1px 3px 1px rgba(60, 64, 67, 0.15);\n",
              "      fill: #174EA6;\n",
              "    }\n",
              "\n",
              "    [theme=dark] .colab-df-convert {\n",
              "      background-color: #3B4455;\n",
              "      fill: #D2E3FC;\n",
              "    }\n",
              "\n",
              "    [theme=dark] .colab-df-convert:hover {\n",
              "      background-color: #434B5C;\n",
              "      box-shadow: 0px 1px 3px 1px rgba(0, 0, 0, 0.15);\n",
              "      filter: drop-shadow(0px 1px 2px rgba(0, 0, 0, 0.3));\n",
              "      fill: #FFFFFF;\n",
              "    }\n",
              "  </style>\n",
              "\n",
              "      <script>\n",
              "        const buttonEl =\n",
              "          document.querySelector('#df-5a912198-0be3-4a07-a8f1-5821ce62c68a button.colab-df-convert');\n",
              "        buttonEl.style.display =\n",
              "          google.colab.kernel.accessAllowed ? 'block' : 'none';\n",
              "\n",
              "        async function convertToInteractive(key) {\n",
              "          const element = document.querySelector('#df-5a912198-0be3-4a07-a8f1-5821ce62c68a');\n",
              "          const dataTable =\n",
              "            await google.colab.kernel.invokeFunction('convertToInteractive',\n",
              "                                                     [key], {});\n",
              "          if (!dataTable) return;\n",
              "\n",
              "          const docLinkHtml = 'Like what you see? Visit the ' +\n",
              "            '<a target=\"_blank\" href=https://colab.research.google.com/notebooks/data_table.ipynb>data table notebook</a>'\n",
              "            + ' to learn more about interactive tables.';\n",
              "          element.innerHTML = '';\n",
              "          dataTable['output_type'] = 'display_data';\n",
              "          await google.colab.output.renderOutput(dataTable, element);\n",
              "          const docLink = document.createElement('div');\n",
              "          docLink.innerHTML = docLinkHtml;\n",
              "          element.appendChild(docLink);\n",
              "        }\n",
              "      </script>\n",
              "    </div>\n",
              "  </div>\n",
              "  "
            ]
          },
          "metadata": {},
          "execution_count": 11
        }
      ]
    },
    {
      "cell_type": "code",
      "source": [
        "# df_nav.dtypes"
      ],
      "metadata": {
        "id": "utHLVKuh-yG2"
      },
      "execution_count": 12,
      "outputs": []
    },
    {
      "cell_type": "code",
      "source": [
        "# # cast nav to float64\n",
        "\n",
        "# df_nav[\"nav\"] = df_nav[\"nav\"].astype(\"float64\")\n",
        "# df_nav.dtypes"
      ],
      "metadata": {
        "id": "dbPzWa6L-4b8"
      },
      "execution_count": 13,
      "outputs": []
    },
    {
      "cell_type": "code",
      "source": [
        "# df_nav.index.dtype"
      ],
      "metadata": {
        "id": "WYhQ7BlNSnTw"
      },
      "execution_count": 14,
      "outputs": []
    },
    {
      "cell_type": "code",
      "source": [
        "# df_nav.index[0]"
      ],
      "metadata": {
        "id": "NDnUqQFJasKR"
      },
      "execution_count": 15,
      "outputs": []
    },
    {
      "cell_type": "code",
      "source": [
        "# # done below\n",
        "# # cast index to datetime\n",
        "\n",
        "# df_nav.index = pd.to_datetime(df_nav.index, infer_datetime_format=True, utc=True)\n",
        "# df_nav.index"
      ],
      "metadata": {
        "id": "4g3rZ5rUGJNe"
      },
      "execution_count": 16,
      "outputs": []
    },
    {
      "cell_type": "code",
      "source": [
        "# ways to access the datetimeindex\n",
        "\n",
        "# print(df_nav.loc[\"2013-05-28\"])\n",
        "# print(df_nav.loc[datetime.datetime.strptime(\"2013-05-28\", \"%Y-%m-%d\").replace(tzinfo=datetime.timezone.utc)])"
      ],
      "metadata": {
        "id": "9OG692kxRoz4"
      },
      "execution_count": 17,
      "outputs": []
    },
    {
      "cell_type": "code",
      "source": [
        "# one time check done\n",
        "\n",
        "# check for saturday and sunday nav\n",
        "\n",
        "today = datetime.datetime.now().replace(tzinfo=datetime.timezone.utc)\n",
        "sunday_idx = (today.weekday() + 1) % 7\n",
        "\n",
        "sun = today - datetime.timedelta(days=sunday_idx, hours=today.hour, minutes=today.minute, seconds=today.second, microseconds=today.microsecond)\n",
        "sun"
      ],
      "metadata": {
        "colab": {
          "base_uri": "https://localhost:8080/"
        },
        "id": "8jc6GSHNBqGi",
        "outputId": "d11890a6-d2e2-484d-a7e5-fd4a5cb874d6"
      },
      "execution_count": 18,
      "outputs": [
        {
          "output_type": "execute_result",
          "data": {
            "text/plain": [
              "datetime.datetime(2022, 11, 6, 0, 0, tzinfo=datetime.timezone.utc)"
            ]
          },
          "metadata": {},
          "execution_count": 18
        }
      ]
    },
    {
      "cell_type": "code",
      "source": [
        "# one time check done\n",
        "\n",
        "# try:\n",
        "#   df_nav.loc[sun]\n",
        "# except:\n",
        "#   print(\"Data missing for Sunday. As expected!\")"
      ],
      "metadata": {
        "id": "QFJvjlZuDv4A"
      },
      "execution_count": 19,
      "outputs": []
    },
    {
      "cell_type": "code",
      "source": [
        "# way to access individual attribute\n",
        "\n",
        "# df_nav.index.month"
      ],
      "metadata": {
        "id": "pZDL2e8-WuFt"
      },
      "execution_count": 20,
      "outputs": []
    },
    {
      "cell_type": "code",
      "source": [
        "# way to search in datetimeindex\n",
        "\n",
        "# \"2013-05-28\" in df_nav.index"
      ],
      "metadata": {
        "id": "Tg0ZSDm_X5XK"
      },
      "execution_count": 21,
      "outputs": []
    },
    {
      "cell_type": "code",
      "source": [
        "# data will always be missing for holidays, and weekends\n",
        "# on holidays, the nav stays the same as previous day's nav\n",
        "\n",
        "# refer: https://pandas.pydata.org/pandas-docs/stable/development/extending.html\n",
        "\n",
        "@pd.api.extensions.register_dataframe_accessor(\"safe_nav\")\n",
        "class NAVAccessor:\n",
        "    def __init__(self, pandas_obj):\n",
        "        self._validate(pandas_obj)\n",
        "        pandas_obj = self._preprocess(pandas_obj)\n",
        "        self.start_date = pandas_obj.index[0]\n",
        "        self._obj = pandas_obj\n",
        "\n",
        "    @staticmethod\n",
        "    def _validate(obj):\n",
        "        # verify there is a column nav and a column dayChange,\n",
        "        # and index must be datetime\n",
        "        if \"nav\" not in obj.columns or \"dayChange\" not in obj.columns:\n",
        "        # or not pd.api.types.is_datetime64_any_dtype(obj.index):\n",
        "            raise AttributeError(\"Must have 'nav' and 'dayChange'\") #. Index must be 'datetimeindex'.\")\n",
        "\n",
        "    @staticmethod\n",
        "    def _preprocess(obj):\n",
        "        # search, sort, type conversions, etc.\n",
        "        \n",
        "        # cast to datetimeindex\n",
        "        obj.index = pd.to_datetime(obj.index, format=\"%d-%m-%Y\", utc=True)\n",
        "\n",
        "        # other conversions\n",
        "        obj[\"nav\"] = obj[\"nav\"].astype(\"float64\")\n",
        "\n",
        "        # # sort ascending by date\n",
        "        # # assumption: data is already sorted in descending order\n",
        "        # obj = obj[::-1]\n",
        "\n",
        "        return obj\n",
        "\n",
        "    def is_date_available(self, date):\n",
        "      return date in self._obj.index\n",
        "\n",
        "    # let's create a separate function which handles this\n",
        "    def for_date(self, date):\n",
        "      if date > self.start_date:\n",
        "        # go back by a day till holidays are not over \n",
        "        while not self.is_date_available(date):\n",
        "          date -= datetime.timedelta(days=1)\n",
        "        \n",
        "        # return the data of the day before holidays\n",
        "        return self._obj.loc[date]\n",
        "\n",
        "      # return the data of inception if data is from very past\n",
        "      return self._obj.loc[self.start_date]"
      ],
      "metadata": {
        "id": "RxTpOSB9EDw7"
      },
      "execution_count": 22,
      "outputs": []
    },
    {
      "cell_type": "code",
      "source": [
        "df_nav.safe_nav._obj.index"
      ],
      "metadata": {
        "colab": {
          "base_uri": "https://localhost:8080/"
        },
        "id": "6kVtiTirYbTm",
        "outputId": "e2505d7a-2f7a-43cf-f086-7703eb511768"
      },
      "execution_count": 23,
      "outputs": [
        {
          "output_type": "execute_result",
          "data": {
            "text/plain": [
              "DatetimeIndex(['2022-11-07 00:00:00+00:00', '2022-11-04 00:00:00+00:00',\n",
              "               '2022-11-03 00:00:00+00:00', '2022-11-02 00:00:00+00:00',\n",
              "               '2022-11-01 00:00:00+00:00', '2022-10-31 00:00:00+00:00',\n",
              "               '2022-10-28 00:00:00+00:00', '2022-10-27 00:00:00+00:00',\n",
              "               '2022-10-25 00:00:00+00:00', '2022-10-21 00:00:00+00:00',\n",
              "               ...\n",
              "               '2013-06-10 00:00:00+00:00', '2013-06-07 00:00:00+00:00',\n",
              "               '2013-06-06 00:00:00+00:00', '2013-06-05 00:00:00+00:00',\n",
              "               '2013-06-04 00:00:00+00:00', '2013-06-03 00:00:00+00:00',\n",
              "               '2013-05-31 00:00:00+00:00', '2013-05-30 00:00:00+00:00',\n",
              "               '2013-05-29 00:00:00+00:00', '2013-05-28 00:00:00+00:00'],\n",
              "              dtype='datetime64[ns, UTC]', name='date', length=2324, freq=None)"
            ]
          },
          "metadata": {},
          "execution_count": 23
        }
      ]
    },
    {
      "cell_type": "code",
      "source": [
        "# sort df_nav\n",
        "df_nav = df_nav[::-1]\n",
        "df_nav.index"
      ],
      "metadata": {
        "colab": {
          "base_uri": "https://localhost:8080/"
        },
        "id": "twKDMHJqqTZO",
        "outputId": "795b6ba6-51c6-44b3-aa69-be6497a7ae29"
      },
      "execution_count": 24,
      "outputs": [
        {
          "output_type": "execute_result",
          "data": {
            "text/plain": [
              "DatetimeIndex(['2013-05-28 00:00:00+00:00', '2013-05-29 00:00:00+00:00',\n",
              "               '2013-05-30 00:00:00+00:00', '2013-05-31 00:00:00+00:00',\n",
              "               '2013-06-03 00:00:00+00:00', '2013-06-04 00:00:00+00:00',\n",
              "               '2013-06-05 00:00:00+00:00', '2013-06-06 00:00:00+00:00',\n",
              "               '2013-06-07 00:00:00+00:00', '2013-06-10 00:00:00+00:00',\n",
              "               ...\n",
              "               '2022-10-21 00:00:00+00:00', '2022-10-25 00:00:00+00:00',\n",
              "               '2022-10-27 00:00:00+00:00', '2022-10-28 00:00:00+00:00',\n",
              "               '2022-10-31 00:00:00+00:00', '2022-11-01 00:00:00+00:00',\n",
              "               '2022-11-02 00:00:00+00:00', '2022-11-03 00:00:00+00:00',\n",
              "               '2022-11-04 00:00:00+00:00', '2022-11-07 00:00:00+00:00'],\n",
              "              dtype='datetime64[ns, UTC]', name='date', length=2324, freq=None)"
            ]
          },
          "metadata": {},
          "execution_count": 24
        }
      ]
    },
    {
      "cell_type": "code",
      "source": [
        "df_nav.safe_nav._obj.index[0].day, df_nav.safe_nav._obj.index[0].month"
      ],
      "metadata": {
        "colab": {
          "base_uri": "https://localhost:8080/"
        },
        "id": "N-7kP9LvkYCz",
        "outputId": "5af20cce-e012-439c-f2e4-1d9da435f261"
      },
      "execution_count": 25,
      "outputs": [
        {
          "output_type": "execute_result",
          "data": {
            "text/plain": [
              "(28, 5)"
            ]
          },
          "metadata": {},
          "execution_count": 25
        }
      ]
    },
    {
      "cell_type": "code",
      "source": [
        "# check if it works\n",
        "df_nav.safe_nav.for_date(sun).name.day"
      ],
      "metadata": {
        "colab": {
          "base_uri": "https://localhost:8080/"
        },
        "id": "LT20S4WALxbR",
        "outputId": "e7f2b5e7-02ea-4e52-c3ff-85f8450559fe"
      },
      "execution_count": 26,
      "outputs": [
        {
          "output_type": "execute_result",
          "data": {
            "text/plain": [
              "4"
            ]
          },
          "metadata": {},
          "execution_count": 26
        }
      ]
    },
    {
      "cell_type": "code",
      "source": [
        "def get_date(year, month, day):\n",
        "  return datetime.datetime(year=year, month=month, day=day, tzinfo=datetime.timezone.utc)"
      ],
      "metadata": {
        "id": "oOdmTJZtmV0k"
      },
      "execution_count": 100,
      "outputs": []
    },
    {
      "cell_type": "code",
      "source": [
        "def get_yesterday():\n",
        "  today = datetime.datetime.now()\n",
        "  yesterday = today - datetime.timedelta(days=1)\n",
        "  yesterday = get_date(yesterday.year, yesterday.month, yesterday.day)\n",
        "  return yesterday"
      ],
      "metadata": {
        "id": "BoWu-I1UnsAF"
      },
      "execution_count": 28,
      "outputs": []
    },
    {
      "cell_type": "markdown",
      "source": [
        "## Calculate Returns"
      ],
      "metadata": {
        "id": "0N04vx4L-Yu9"
      }
    },
    {
      "cell_type": "markdown",
      "source": [
        "### Absolute Returns"
      ],
      "metadata": {
        "id": "w0Cxo7lwlZMP"
      }
    },
    {
      "cell_type": "code",
      "source": [
        "def one_day_absolute_return(df_nav):\n",
        "  yesterday = get_yesterday()\n",
        "\n",
        "  day_before_yesterday = yesterday - datetime.timedelta(days=1)\n",
        "\n",
        "  return df_nav.safe_nav.for_date(yesterday)[\"dayChange\"]*100 / df_nav.safe_nav.for_date(day_before_yesterday)[\"nav\"]\n",
        "\n",
        "one_day_absolute_return(df_nav)"
      ],
      "metadata": {
        "colab": {
          "base_uri": "https://localhost:8080/"
        },
        "id": "XTcWRr-WvpwU",
        "outputId": "5c9909dd-0e7c-4756-d107-300a356b50b9"
      },
      "execution_count": 29,
      "outputs": [
        {
          "output_type": "execute_result",
          "data": {
            "text/plain": [
              "0.9492211795220976"
            ]
          },
          "metadata": {},
          "execution_count": 29
        }
      ]
    },
    {
      "cell_type": "code",
      "source": [
        "def absolute_return(initial_value, final_value):\n",
        "  return (final_value - initial_value) * 100 / initial_value"
      ],
      "metadata": {
        "id": "VOE7gOpcHGTd"
      },
      "execution_count": 30,
      "outputs": []
    },
    {
      "cell_type": "code",
      "source": [
        "def one_year_absolute_return(df_nav):\n",
        "  yesterday = get_yesterday()\n",
        "\n",
        "  one_year_before_yesterday = (yesterday - datetime.timedelta(days=365))\n",
        "\n",
        "  return absolute_return(df_nav.safe_nav.for_date(one_year_before_yesterday)[\"nav\"], df_nav.safe_nav.for_date(yesterday)[\"nav\"])\n",
        "\n",
        "one_year_absolute_return(df_nav)"
      ],
      "metadata": {
        "colab": {
          "base_uri": "https://localhost:8080/"
        },
        "id": "D_GLJmG8-v7C",
        "outputId": "b67f90c4-d4be-437f-bb25-9adf18420fb4"
      },
      "execution_count": 31,
      "outputs": [
        {
          "output_type": "execute_result",
          "data": {
            "text/plain": [
              "-3.9144319115559867"
            ]
          },
          "metadata": {},
          "execution_count": 31
        }
      ]
    },
    {
      "cell_type": "code",
      "source": [
        "df_nav.index[-1]"
      ],
      "metadata": {
        "colab": {
          "base_uri": "https://localhost:8080/"
        },
        "id": "s5d324jQ0LHL",
        "outputId": "ffcff8bc-ac5d-444c-9ec6-9f7773f3a70f"
      },
      "execution_count": 32,
      "outputs": [
        {
          "output_type": "execute_result",
          "data": {
            "text/plain": [
              "Timestamp('2022-11-07 00:00:00+0000', tz='UTC')"
            ]
          },
          "metadata": {},
          "execution_count": 32
        }
      ]
    },
    {
      "cell_type": "code",
      "source": [
        "def year_to_date_absolute_return(df_nav):\n",
        "  yesterday = get_yesterday()\n",
        "  \n",
        "  year_start = datetime.datetime(year=datetime.datetime.now().year, month=1, day=1, tzinfo=datetime.timezone.utc)\n",
        "\n",
        "  # handling holidays at the start of the year\n",
        "  while not df_nav.safe_nav.is_date_available(year_start):\n",
        "    year_start += datetime.timedelta(days=1)\n",
        "\n",
        "  return (df_nav.safe_nav.for_date(yesterday)[\"nav\"] - df_nav.safe_nav.for_date(year_start)[\"nav\"])*100 / df_nav.safe_nav.for_date(year_start)[\"nav\"]\n",
        "\n",
        "year_to_date_absolute_return(df_nav)"
      ],
      "metadata": {
        "colab": {
          "base_uri": "https://localhost:8080/"
        },
        "id": "cnKUCefAw04d",
        "outputId": "bc779c87-7a89-42c5-d0c1-0ece537a4de7"
      },
      "execution_count": 33,
      "outputs": [
        {
          "output_type": "execute_result",
          "data": {
            "text/plain": [
              "-5.7457261982399155"
            ]
          },
          "metadata": {},
          "execution_count": 33
        }
      ]
    },
    {
      "cell_type": "code",
      "source": [
        "# generic function\n",
        "\n",
        "def n_years_absolute_return(df_nav, n_years=7):\n",
        "  yesterday = get_yesterday()\n",
        "  n_years_before_yesterday = (yesterday - datetime.timedelta(days=365*n_years))\n",
        "\n",
        "  return (df_nav.safe_nav.for_date(yesterday)[\"nav\"] - df_nav.safe_nav.for_date(n_years_before_yesterday)[\"nav\"])*100 / df_nav.safe_nav.for_date(n_years_before_yesterday)[\"nav\"]"
      ],
      "metadata": {
        "id": "tQ4GQ5sZ_oyR"
      },
      "execution_count": 34,
      "outputs": []
    },
    {
      "cell_type": "code",
      "source": [
        "for n_years in (1, 3, 5, 7):\n",
        "  return_ = n_years_absolute_return(df_nav, n_years=n_years)\n",
        "  print(\"Years:\", n_years, \"\\t\", \"Abs. Return:\", return_)"
      ],
      "metadata": {
        "colab": {
          "base_uri": "https://localhost:8080/"
        },
        "id": "W5oQaf2Ha3Ja",
        "outputId": "cfbc6c08-ee59-4d62-f79f-abc79e7c0668"
      },
      "execution_count": 35,
      "outputs": [
        {
          "output_type": "stream",
          "name": "stdout",
          "text": [
            "Years: 1 \t Abs. Return: -3.9144319115559867\n",
            "Years: 3 \t Abs. Return: 87.47959481125203\n",
            "Years: 5 \t Abs. Return: 122.09325413954454\n",
            "Years: 7 \t Abs. Return: 199.29207966866772\n"
          ]
        }
      ]
    },
    {
      "cell_type": "markdown",
      "source": [
        "### Trailing Returns (AKA. CAGR i.e. Compounded Annual Growth Rate)"
      ],
      "metadata": {
        "id": "WcAZSgybm2UN"
      }
    },
    {
      "cell_type": "markdown",
      "source": [
        "**Understanding**\n",
        "\n",
        "Trailing Return cancels the compounding effect from the absolute return.\n",
        "\n",
        "If it is a year-on-year compounding, trailing return tells you the yearly simple interest rate that would have applied to compound and reach the final amount in the given time span.\n",
        "\n",
        "For example, the absolute return for 7 years, which is 196.37% does not consider the time that you'll have to wait to earn this much profit.\n",
        "\n",
        "Like if we want to compare the return of this mutual fund with a typical compound interest scheme, we want to know the yearly simple interest rate that applies. What if a compound interest scheme for 7 years would generate more than 196.37% absolute return? You'd never know.\n",
        "\n",
        "Trailing return helps us with calculating the yearly rate of interest that you'd need to reach upto 196.37% in 7 years. Basically, it remove the timefactor from the absolute return and gets you the yearly interest rate."
      ],
      "metadata": {
        "id": "9BJoPNTrm7KF"
      }
    },
    {
      "cell_type": "code",
      "source": [
        "# formulation\n",
        "\n",
        "# compound interest formula\n",
        "\n",
        "# final_value = initial_value * (1 + (interest_rate / num_times_interest_applied_per_period) ^ (num_times_interest_applied_per_period*num_periods))\n",
        "\n",
        "# for 5 year compounding and interest applied yearly\n",
        "# num_times_interest_applied_per_period = 1, num_periods=5\n",
        "\n",
        "# for 5 year compounding and interest applied mothly\n",
        "# num_times_interest_applied_per_period = 12, num_periods=5\n",
        "\n",
        "\n",
        "# deriving the formula of trailing returns from above, we get\n",
        "\n",
        "# trailing_return = ((final_value / initial_value) ^ (1 / num_times_interest_applied_per_period*num_periods) - 1) * num_times_interest_applied_per_period)"
      ],
      "metadata": {
        "id": "ab3rbpK9pnX-"
      },
      "execution_count": 36,
      "outputs": []
    },
    {
      "cell_type": "code",
      "source": [
        "# for most of the compounding schemes, num_times_interest_applied_per_period = 1\n",
        "\n",
        "def trailing_return(initial_value, final_value, n_years):\n",
        "  return (((final_value / initial_value) ** (1 / n_years)) - 1)*100"
      ],
      "metadata": {
        "id": "GFMprfARQsxx"
      },
      "execution_count": 47,
      "outputs": []
    },
    {
      "cell_type": "code",
      "source": [
        "def n_years_trailing_return(df_nav, n_years):\n",
        "  yesterday = get_yesterday()\n",
        "  n_years_before_yesterday = (yesterday - datetime.timedelta(days=365*n_years))\n",
        "\n",
        "  final_value = df_nav.safe_nav.for_date(yesterday)[\"nav\"]\n",
        "  initial_value = df_nav.safe_nav.for_date(n_years_before_yesterday)[\"nav\"]\n",
        "\n",
        "  return trailing_return(initial_value, final_value, n_years)"
      ],
      "metadata": {
        "id": "RVlsHMTsmOlD"
      },
      "execution_count": 48,
      "outputs": []
    },
    {
      "cell_type": "code",
      "source": [
        "for n_years in (1, 3, 5, 7):\n",
        "  return_ = n_years_trailing_return(df_nav, n_years=n_years)\n",
        "  print(\"Years:\", n_years, \"\\t\", \"Trl. Return:\", return_)"
      ],
      "metadata": {
        "colab": {
          "base_uri": "https://localhost:8080/"
        },
        "id": "9X9-QMS_sfjE",
        "outputId": "b5af1a3b-8553-4515-dbb8-296161bb50ca"
      },
      "execution_count": 49,
      "outputs": [
        {
          "output_type": "stream",
          "name": "stdout",
          "text": [
            "Years: 1 \t Trl. Return: -3.9144319115559822\n",
            "Years: 3 \t Trl. Return: 23.306130352211476\n",
            "Years: 5 \t Trl. Return: 17.30244744351319\n",
            "Years: 7 \t Trl. Return: 16.953602389054232\n"
          ]
        }
      ]
    },
    {
      "cell_type": "markdown",
      "source": [
        "**Output for future**\n",
        "\n",
        "```\n",
        "Years: 1 \t Abs. Return: -4.817920370508706\n",
        "Years: 3 \t Abs. Return: 85.65517191136884\n",
        "Years: 5 \t Abs. Return: 119.47250570555055\n",
        "Years: 7 \t Abs. Return: 196.37096305255452\n",
        "```\n",
        "\n",
        "```\n",
        "Years: 1 \t Trl. Return: -4.817920370508711\n",
        "Years: 3 \t Trl. Return: 22.904848946865954\n",
        "Years: 5 \t Trl. Return: 17.024292561361843\n",
        "Years: 7 \t Trl. Return: 16.789847958013524\n",
        "```"
      ],
      "metadata": {
        "id": "yHB_q0Vk1Chm"
      }
    },
    {
      "cell_type": "markdown",
      "source": [
        "**Observations:**\n",
        "1. The fund has performed significantly well over the past 3 years, however, it's performance dropped last year. Basically, the fund performed very well from November 2019 to November 2021, and it's performance dropped after November 2021 till November 2022.\n",
        "2. We can confirm the same by looking at absolute returns. Out of 119.47% over 5 years, 85.65% alone was generate in the last 3 years.\n",
        "3. The fund is not able to maintain it's yearly interest rate i.e. trailing return value in the last year. If you had to invest in this fund, ignoring the last year, you could expect an average annual return of 16% or more in this fund, given that you stay invested for more than 3 years.\n",
        "\n",
        "**NOTE:** For 1 year, trailing return = absolute return as there is no compounding effect"
      ],
      "metadata": {
        "id": "kZ1ac2ZftTZx"
      }
    },
    {
      "cell_type": "markdown",
      "source": [
        "### Rolling Returns"
      ],
      "metadata": {
        "id": "WSj9FaGd37_N"
      }
    },
    {
      "cell_type": "markdown",
      "source": [
        "**Understanding**\n",
        "\n",
        "Trailing Return gives you an estimate about the year-on-year performance of the fund, if invested for a long term.\n",
        "\n",
        "Now, let's say for example that you have two funds having the same CAGR of 15% over the period of 5 years. How would you select one of them?\n",
        "\n",
        "Or let's say we consider absolute returns, and both the funds have same return value of 100% over the period of 5 years. Again, how would you select a fund of these two?\n",
        "\n",
        "What a professional would do is check for consistency.\n",
        "\n",
        "For example, if fund A had +300% in the first 2 years, -100% in the 3rd year, +100% in the 4th year and -200% in the last year, and fund B had +50% in the first 2 years, -10% in the 3rd year, +20% in the 4th year and +40% in the fifth year, which one would you select?\n",
        "\n",
        "I'd have opted for Fund B, as it is more stable and hence, less risky.\n",
        "\n",
        "Rolling returns give you a way to check on the stability of returns by calculating the returns over a certain time period.\n",
        "\n",
        "In the above case, we would select a 5 year time span and calculate different values of returns\n",
        "- jan 2017 - jan 2018\n",
        "- feb 2017 - feb 2018\n",
        "- mar 2017 - mar 2018\n",
        "- .\n",
        "- .\n",
        "- .\n",
        "- dec 2020 - dec 2021\n",
        "- jan 2021 - jan 2022\n",
        "\n",
        "\n",
        "By having a look at these values, we will be able to understand how volatile/stable a fund is over the period of 5 years. The above values are calculated using 1 year data, hence they are called \"rolling 1-year returns for a period of 5 years\"."
      ],
      "metadata": {
        "id": "UySYxeJGAhu7"
      }
    },
    {
      "cell_type": "code",
      "source": [
        "df_nav"
      ],
      "metadata": {
        "colab": {
          "base_uri": "https://localhost:8080/",
          "height": 455
        },
        "id": "_3amzS1ap10o",
        "outputId": "6f99ee93-a691-4d21-a1ac-fb0f8d7d5256"
      },
      "execution_count": 39,
      "outputs": [
        {
          "output_type": "execute_result",
          "data": {
            "text/plain": [
              "                               nav  dayChange\n",
              "date                                         \n",
              "2013-05-28 00:00:00+00:00   9.9992        NaN\n",
              "2013-05-29 00:00:00+00:00  10.0080     0.0088\n",
              "2013-05-30 00:00:00+00:00  10.0327     0.0247\n",
              "2013-05-31 00:00:00+00:00  10.0154    -0.0173\n",
              "2013-06-03 00:00:00+00:00  10.0572     0.0418\n",
              "...                            ...        ...\n",
              "2022-11-01 00:00:00+00:00  51.9849     0.0385\n",
              "2022-11-02 00:00:00+00:00  51.7054    -0.2795\n",
              "2022-11-03 00:00:00+00:00  51.3125    -0.3929\n",
              "2022-11-04 00:00:00+00:00  50.9681    -0.3444\n",
              "2022-11-07 00:00:00+00:00  51.4519     0.4838\n",
              "\n",
              "[2324 rows x 2 columns]"
            ],
            "text/html": [
              "\n",
              "  <div id=\"df-0cf38699-713c-476f-80f5-ccb57020a1fd\">\n",
              "    <div class=\"colab-df-container\">\n",
              "      <div>\n",
              "<style scoped>\n",
              "    .dataframe tbody tr th:only-of-type {\n",
              "        vertical-align: middle;\n",
              "    }\n",
              "\n",
              "    .dataframe tbody tr th {\n",
              "        vertical-align: top;\n",
              "    }\n",
              "\n",
              "    .dataframe thead th {\n",
              "        text-align: right;\n",
              "    }\n",
              "</style>\n",
              "<table border=\"1\" class=\"dataframe\">\n",
              "  <thead>\n",
              "    <tr style=\"text-align: right;\">\n",
              "      <th></th>\n",
              "      <th>nav</th>\n",
              "      <th>dayChange</th>\n",
              "    </tr>\n",
              "    <tr>\n",
              "      <th>date</th>\n",
              "      <th></th>\n",
              "      <th></th>\n",
              "    </tr>\n",
              "  </thead>\n",
              "  <tbody>\n",
              "    <tr>\n",
              "      <th>2013-05-28 00:00:00+00:00</th>\n",
              "      <td>9.9992</td>\n",
              "      <td>NaN</td>\n",
              "    </tr>\n",
              "    <tr>\n",
              "      <th>2013-05-29 00:00:00+00:00</th>\n",
              "      <td>10.0080</td>\n",
              "      <td>0.0088</td>\n",
              "    </tr>\n",
              "    <tr>\n",
              "      <th>2013-05-30 00:00:00+00:00</th>\n",
              "      <td>10.0327</td>\n",
              "      <td>0.0247</td>\n",
              "    </tr>\n",
              "    <tr>\n",
              "      <th>2013-05-31 00:00:00+00:00</th>\n",
              "      <td>10.0154</td>\n",
              "      <td>-0.0173</td>\n",
              "    </tr>\n",
              "    <tr>\n",
              "      <th>2013-06-03 00:00:00+00:00</th>\n",
              "      <td>10.0572</td>\n",
              "      <td>0.0418</td>\n",
              "    </tr>\n",
              "    <tr>\n",
              "      <th>...</th>\n",
              "      <td>...</td>\n",
              "      <td>...</td>\n",
              "    </tr>\n",
              "    <tr>\n",
              "      <th>2022-11-01 00:00:00+00:00</th>\n",
              "      <td>51.9849</td>\n",
              "      <td>0.0385</td>\n",
              "    </tr>\n",
              "    <tr>\n",
              "      <th>2022-11-02 00:00:00+00:00</th>\n",
              "      <td>51.7054</td>\n",
              "      <td>-0.2795</td>\n",
              "    </tr>\n",
              "    <tr>\n",
              "      <th>2022-11-03 00:00:00+00:00</th>\n",
              "      <td>51.3125</td>\n",
              "      <td>-0.3929</td>\n",
              "    </tr>\n",
              "    <tr>\n",
              "      <th>2022-11-04 00:00:00+00:00</th>\n",
              "      <td>50.9681</td>\n",
              "      <td>-0.3444</td>\n",
              "    </tr>\n",
              "    <tr>\n",
              "      <th>2022-11-07 00:00:00+00:00</th>\n",
              "      <td>51.4519</td>\n",
              "      <td>0.4838</td>\n",
              "    </tr>\n",
              "  </tbody>\n",
              "</table>\n",
              "<p>2324 rows × 2 columns</p>\n",
              "</div>\n",
              "      <button class=\"colab-df-convert\" onclick=\"convertToInteractive('df-0cf38699-713c-476f-80f5-ccb57020a1fd')\"\n",
              "              title=\"Convert this dataframe to an interactive table.\"\n",
              "              style=\"display:none;\">\n",
              "        \n",
              "  <svg xmlns=\"http://www.w3.org/2000/svg\" height=\"24px\"viewBox=\"0 0 24 24\"\n",
              "       width=\"24px\">\n",
              "    <path d=\"M0 0h24v24H0V0z\" fill=\"none\"/>\n",
              "    <path d=\"M18.56 5.44l.94 2.06.94-2.06 2.06-.94-2.06-.94-.94-2.06-.94 2.06-2.06.94zm-11 1L8.5 8.5l.94-2.06 2.06-.94-2.06-.94L8.5 2.5l-.94 2.06-2.06.94zm10 10l.94 2.06.94-2.06 2.06-.94-2.06-.94-.94-2.06-.94 2.06-2.06.94z\"/><path d=\"M17.41 7.96l-1.37-1.37c-.4-.4-.92-.59-1.43-.59-.52 0-1.04.2-1.43.59L10.3 9.45l-7.72 7.72c-.78.78-.78 2.05 0 2.83L4 21.41c.39.39.9.59 1.41.59.51 0 1.02-.2 1.41-.59l7.78-7.78 2.81-2.81c.8-.78.8-2.07 0-2.86zM5.41 20L4 18.59l7.72-7.72 1.47 1.35L5.41 20z\"/>\n",
              "  </svg>\n",
              "      </button>\n",
              "      \n",
              "  <style>\n",
              "    .colab-df-container {\n",
              "      display:flex;\n",
              "      flex-wrap:wrap;\n",
              "      gap: 12px;\n",
              "    }\n",
              "\n",
              "    .colab-df-convert {\n",
              "      background-color: #E8F0FE;\n",
              "      border: none;\n",
              "      border-radius: 50%;\n",
              "      cursor: pointer;\n",
              "      display: none;\n",
              "      fill: #1967D2;\n",
              "      height: 32px;\n",
              "      padding: 0 0 0 0;\n",
              "      width: 32px;\n",
              "    }\n",
              "\n",
              "    .colab-df-convert:hover {\n",
              "      background-color: #E2EBFA;\n",
              "      box-shadow: 0px 1px 2px rgba(60, 64, 67, 0.3), 0px 1px 3px 1px rgba(60, 64, 67, 0.15);\n",
              "      fill: #174EA6;\n",
              "    }\n",
              "\n",
              "    [theme=dark] .colab-df-convert {\n",
              "      background-color: #3B4455;\n",
              "      fill: #D2E3FC;\n",
              "    }\n",
              "\n",
              "    [theme=dark] .colab-df-convert:hover {\n",
              "      background-color: #434B5C;\n",
              "      box-shadow: 0px 1px 3px 1px rgba(0, 0, 0, 0.15);\n",
              "      filter: drop-shadow(0px 1px 2px rgba(0, 0, 0, 0.3));\n",
              "      fill: #FFFFFF;\n",
              "    }\n",
              "  </style>\n",
              "\n",
              "      <script>\n",
              "        const buttonEl =\n",
              "          document.querySelector('#df-0cf38699-713c-476f-80f5-ccb57020a1fd button.colab-df-convert');\n",
              "        buttonEl.style.display =\n",
              "          google.colab.kernel.accessAllowed ? 'block' : 'none';\n",
              "\n",
              "        async function convertToInteractive(key) {\n",
              "          const element = document.querySelector('#df-0cf38699-713c-476f-80f5-ccb57020a1fd');\n",
              "          const dataTable =\n",
              "            await google.colab.kernel.invokeFunction('convertToInteractive',\n",
              "                                                     [key], {});\n",
              "          if (!dataTable) return;\n",
              "\n",
              "          const docLinkHtml = 'Like what you see? Visit the ' +\n",
              "            '<a target=\"_blank\" href=https://colab.research.google.com/notebooks/data_table.ipynb>data table notebook</a>'\n",
              "            + ' to learn more about interactive tables.';\n",
              "          element.innerHTML = '';\n",
              "          dataTable['output_type'] = 'display_data';\n",
              "          await google.colab.output.renderOutput(dataTable, element);\n",
              "          const docLink = document.createElement('div');\n",
              "          docLink.innerHTML = docLinkHtml;\n",
              "          element.appendChild(docLink);\n",
              "        }\n",
              "      </script>\n",
              "    </div>\n",
              "  </div>\n",
              "  "
            ]
          },
          "metadata": {},
          "execution_count": 39
        }
      ]
    },
    {
      "cell_type": "code",
      "source": [
        "# rolling returns over 5 year time span on a monthly basis\n",
        "df_nav[\"nav\"].rolling(365*5, closed=\"both\").apply(lambda x: absolute_return(x.iloc[0], x.iloc[-1])).dropna()[::30]"
      ],
      "metadata": {
        "colab": {
          "base_uri": "https://localhost:8080/"
        },
        "id": "tQ0iQprCL4dK",
        "outputId": "7350a19d-447f-4e26-8c10-f9d75e4c51eb"
      },
      "execution_count": 40,
      "outputs": [
        {
          "output_type": "execute_result",
          "data": {
            "text/plain": [
              "date\n",
              "2020-10-28 00:00:00+00:00    229.343347\n",
              "2020-12-11 00:00:00+00:00    263.226753\n",
              "2021-01-25 00:00:00+00:00    291.480866\n",
              "2021-03-09 00:00:00+00:00    285.547260\n",
              "2021-04-27 00:00:00+00:00    282.437033\n",
              "2021-06-09 00:00:00+00:00    295.856433\n",
              "2021-07-22 00:00:00+00:00    347.012985\n",
              "2021-09-03 00:00:00+00:00    330.642390\n",
              "2021-10-19 00:00:00+00:00    326.438323\n",
              "2021-12-03 00:00:00+00:00    277.889376\n",
              "2022-01-14 00:00:00+00:00    283.357544\n",
              "2022-02-28 00:00:00+00:00    241.070993\n",
              "2022-04-13 00:00:00+00:00    244.654482\n",
              "2022-05-30 00:00:00+00:00    203.480677\n",
              "2022-07-11 00:00:00+00:00    203.687845\n",
              "2022-08-24 00:00:00+00:00    213.405936\n",
              "2022-10-07 00:00:00+00:00    203.834941\n",
              "Name: nav, dtype: float64"
            ]
          },
          "metadata": {},
          "execution_count": 40
        }
      ]
    },
    {
      "cell_type": "code",
      "source": [
        "# having a look at the above, it seems like the missing dates are causing issues\n",
        "\n",
        "df_rr_temp = df_nav[\"nav\"].rolling(365*5, closed=\"both\").apply(lambda x: absolute_return(x.iloc[0], x.iloc[-1])).dropna()\n",
        "df_rr_temp.groupby([df_rr_temp.index.year, df_rr_temp.index.month]).first()"
      ],
      "metadata": {
        "colab": {
          "base_uri": "https://localhost:8080/"
        },
        "id": "tFl-EOkbPIpk",
        "outputId": "a284cbb6-1225-430b-e827-25f674b82390"
      },
      "execution_count": 41,
      "outputs": [
        {
          "output_type": "execute_result",
          "data": {
            "text/plain": [
              "date  date\n",
              "2020  10      229.343347\n",
              "      11      223.336689\n",
              "      12      264.029197\n",
              "2021  1       272.589714\n",
              "      2       290.988640\n",
              "      3       288.613027\n",
              "      4       282.199661\n",
              "      5       291.710946\n",
              "      6       294.743545\n",
              "      7       316.695727\n",
              "      8       339.457820\n",
              "      9       333.976606\n",
              "      10      318.451892\n",
              "      11      299.578808\n",
              "      12      279.207291\n",
              "2022  1       273.721648\n",
              "      2       267.496191\n",
              "      3       237.565468\n",
              "      4       250.457457\n",
              "      5       215.633134\n",
              "      6       201.490579\n",
              "      7       188.307505\n",
              "      8       202.738981\n",
              "      9       206.373022\n",
              "      10      197.192762\n",
              "      11      213.819936\n",
              "Name: nav, dtype: float64"
            ]
          },
          "metadata": {},
          "execution_count": 41
        }
      ]
    },
    {
      "cell_type": "code",
      "source": [
        "df_rr_temp.groupby([df_rr_temp.index.year, df_rr_temp.index.month]).last()"
      ],
      "metadata": {
        "colab": {
          "base_uri": "https://localhost:8080/"
        },
        "id": "0maJmQsYGuXl",
        "outputId": "46a973e8-87fc-4a05-8a65-42be0183767d"
      },
      "execution_count": 42,
      "outputs": [
        {
          "output_type": "execute_result",
          "data": {
            "text/plain": [
              "date  date\n",
              "2020  10      225.738409\n",
              "      11      262.256205\n",
              "      12      271.648662\n",
              "2021  1       283.905749\n",
              "      2       285.969350\n",
              "      3       278.649799\n",
              "      4       289.454252\n",
              "      5       296.878502\n",
              "      6       312.579515\n",
              "      7       348.108853\n",
              "      8       333.393185\n",
              "      9       323.650311\n",
              "      10      291.209099\n",
              "      11      279.675418\n",
              "      12      270.644806\n",
              "2022  1       261.441171\n",
              "      2       241.070993\n",
              "      3       246.371659\n",
              "      4       222.141278\n",
              "      5       204.804605\n",
              "      6       188.035676\n",
              "      7       195.195596\n",
              "      8       209.110783\n",
              "      9       197.432963\n",
              "      10      211.894855\n",
              "      11      212.416662\n",
              "Name: nav, dtype: float64"
            ]
          },
          "metadata": {},
          "execution_count": 42
        }
      ]
    },
    {
      "cell_type": "code",
      "source": [
        "# in reality, it must be daywise. so no need to group values \n",
        "\n",
        "def n_years_absolute_rolling_returns(df_nav, n_years):\n",
        "  df_rr = df_nav[\"nav\"].rolling(365*n_years, closed=\"both\").apply(lambda window: absolute_return(window.iloc[0], window.iloc[-1])).dropna()\n",
        "  return df_rr"
      ],
      "metadata": {
        "id": "4S8zHhQPOg0t"
      },
      "execution_count": 58,
      "outputs": []
    },
    {
      "cell_type": "code",
      "source": [
        "df_rr_temp = n_years_absolute_rolling_returns(df_nav, 5)\n",
        "df_rr_temp.index"
      ],
      "metadata": {
        "colab": {
          "base_uri": "https://localhost:8080/"
        },
        "id": "J7R1kEvjQfi_",
        "outputId": "ffd71158-41a7-4977-c331-c989dd1abd87"
      },
      "execution_count": 59,
      "outputs": [
        {
          "output_type": "execute_result",
          "data": {
            "text/plain": [
              "DatetimeIndex(['2020-10-28 00:00:00+00:00', '2020-10-29 00:00:00+00:00',\n",
              "               '2020-10-30 00:00:00+00:00', '2020-11-02 00:00:00+00:00',\n",
              "               '2020-11-03 00:00:00+00:00', '2020-11-04 00:00:00+00:00',\n",
              "               '2020-11-05 00:00:00+00:00', '2020-11-06 00:00:00+00:00',\n",
              "               '2020-11-09 00:00:00+00:00', '2020-11-10 00:00:00+00:00',\n",
              "               ...\n",
              "               '2022-10-21 00:00:00+00:00', '2022-10-25 00:00:00+00:00',\n",
              "               '2022-10-27 00:00:00+00:00', '2022-10-28 00:00:00+00:00',\n",
              "               '2022-10-31 00:00:00+00:00', '2022-11-01 00:00:00+00:00',\n",
              "               '2022-11-02 00:00:00+00:00', '2022-11-03 00:00:00+00:00',\n",
              "               '2022-11-04 00:00:00+00:00', '2022-11-07 00:00:00+00:00'],\n",
              "              dtype='datetime64[ns, UTC]', name='date', length=500, freq=None)"
            ]
          },
          "metadata": {},
          "execution_count": 59
        }
      ]
    },
    {
      "cell_type": "code",
      "source": [
        "def n_years_trailing_rolling_returns(df_nav, n_years):\n",
        "  df_rr = df_nav[\"nav\"].rolling(365*n_years, closed=\"both\").apply(lambda window: trailing_return(window.iloc[0], window.iloc[-1], n_years)).dropna()\n",
        "  return df_rr"
      ],
      "metadata": {
        "id": "JfC6PgcMQkyU"
      },
      "execution_count": 60,
      "outputs": []
    },
    {
      "cell_type": "code",
      "source": [
        "n_years_trailing_rolling_returns(df_nav, 5)"
      ],
      "metadata": {
        "colab": {
          "base_uri": "https://localhost:8080/"
        },
        "id": "kyz_IdmHRSYS",
        "outputId": "894e8a52-2e37-4d3c-9e34-c65c2f7a1c5a"
      },
      "execution_count": 61,
      "outputs": [
        {
          "output_type": "execute_result",
          "data": {
            "text/plain": [
              "date\n",
              "2020-10-28 00:00:00+00:00    26.919917\n",
              "2020-10-29 00:00:00+00:00    26.409720\n",
              "2020-10-30 00:00:00+00:00    26.640843\n",
              "2020-11-02 00:00:00+00:00    26.453542\n",
              "2020-11-03 00:00:00+00:00    26.681263\n",
              "                               ...    \n",
              "2022-11-01 00:00:00+00:00    25.700240\n",
              "2022-11-02 00:00:00+00:00    25.698006\n",
              "2022-11-03 00:00:00+00:00    25.580864\n",
              "2022-11-04 00:00:00+00:00    25.335028\n",
              "2022-11-07 00:00:00+00:00    25.587622\n",
              "Name: nav, Length: 500, dtype: float64"
            ]
          },
          "metadata": {},
          "execution_count": 61
        }
      ]
    },
    {
      "cell_type": "code",
      "source": [
        "df_nav.head()"
      ],
      "metadata": {
        "colab": {
          "base_uri": "https://localhost:8080/",
          "height": 238
        },
        "id": "w7vP7F37RVmZ",
        "outputId": "4b88bfca-0b91-43db-aec3-97eb33b8e215"
      },
      "execution_count": 62,
      "outputs": [
        {
          "output_type": "execute_result",
          "data": {
            "text/plain": [
              "                               nav  dayChange\n",
              "date                                         \n",
              "2013-05-28 00:00:00+00:00   9.9992        NaN\n",
              "2013-05-29 00:00:00+00:00  10.0080     0.0088\n",
              "2013-05-30 00:00:00+00:00  10.0327     0.0247\n",
              "2013-05-31 00:00:00+00:00  10.0154    -0.0173\n",
              "2013-06-03 00:00:00+00:00  10.0572     0.0418"
            ],
            "text/html": [
              "\n",
              "  <div id=\"df-f7b70ad0-c3ef-4da7-a666-eb3c3876c29b\">\n",
              "    <div class=\"colab-df-container\">\n",
              "      <div>\n",
              "<style scoped>\n",
              "    .dataframe tbody tr th:only-of-type {\n",
              "        vertical-align: middle;\n",
              "    }\n",
              "\n",
              "    .dataframe tbody tr th {\n",
              "        vertical-align: top;\n",
              "    }\n",
              "\n",
              "    .dataframe thead th {\n",
              "        text-align: right;\n",
              "    }\n",
              "</style>\n",
              "<table border=\"1\" class=\"dataframe\">\n",
              "  <thead>\n",
              "    <tr style=\"text-align: right;\">\n",
              "      <th></th>\n",
              "      <th>nav</th>\n",
              "      <th>dayChange</th>\n",
              "    </tr>\n",
              "    <tr>\n",
              "      <th>date</th>\n",
              "      <th></th>\n",
              "      <th></th>\n",
              "    </tr>\n",
              "  </thead>\n",
              "  <tbody>\n",
              "    <tr>\n",
              "      <th>2013-05-28 00:00:00+00:00</th>\n",
              "      <td>9.9992</td>\n",
              "      <td>NaN</td>\n",
              "    </tr>\n",
              "    <tr>\n",
              "      <th>2013-05-29 00:00:00+00:00</th>\n",
              "      <td>10.0080</td>\n",
              "      <td>0.0088</td>\n",
              "    </tr>\n",
              "    <tr>\n",
              "      <th>2013-05-30 00:00:00+00:00</th>\n",
              "      <td>10.0327</td>\n",
              "      <td>0.0247</td>\n",
              "    </tr>\n",
              "    <tr>\n",
              "      <th>2013-05-31 00:00:00+00:00</th>\n",
              "      <td>10.0154</td>\n",
              "      <td>-0.0173</td>\n",
              "    </tr>\n",
              "    <tr>\n",
              "      <th>2013-06-03 00:00:00+00:00</th>\n",
              "      <td>10.0572</td>\n",
              "      <td>0.0418</td>\n",
              "    </tr>\n",
              "  </tbody>\n",
              "</table>\n",
              "</div>\n",
              "      <button class=\"colab-df-convert\" onclick=\"convertToInteractive('df-f7b70ad0-c3ef-4da7-a666-eb3c3876c29b')\"\n",
              "              title=\"Convert this dataframe to an interactive table.\"\n",
              "              style=\"display:none;\">\n",
              "        \n",
              "  <svg xmlns=\"http://www.w3.org/2000/svg\" height=\"24px\"viewBox=\"0 0 24 24\"\n",
              "       width=\"24px\">\n",
              "    <path d=\"M0 0h24v24H0V0z\" fill=\"none\"/>\n",
              "    <path d=\"M18.56 5.44l.94 2.06.94-2.06 2.06-.94-2.06-.94-.94-2.06-.94 2.06-2.06.94zm-11 1L8.5 8.5l.94-2.06 2.06-.94-2.06-.94L8.5 2.5l-.94 2.06-2.06.94zm10 10l.94 2.06.94-2.06 2.06-.94-2.06-.94-.94-2.06-.94 2.06-2.06.94z\"/><path d=\"M17.41 7.96l-1.37-1.37c-.4-.4-.92-.59-1.43-.59-.52 0-1.04.2-1.43.59L10.3 9.45l-7.72 7.72c-.78.78-.78 2.05 0 2.83L4 21.41c.39.39.9.59 1.41.59.51 0 1.02-.2 1.41-.59l7.78-7.78 2.81-2.81c.8-.78.8-2.07 0-2.86zM5.41 20L4 18.59l7.72-7.72 1.47 1.35L5.41 20z\"/>\n",
              "  </svg>\n",
              "      </button>\n",
              "      \n",
              "  <style>\n",
              "    .colab-df-container {\n",
              "      display:flex;\n",
              "      flex-wrap:wrap;\n",
              "      gap: 12px;\n",
              "    }\n",
              "\n",
              "    .colab-df-convert {\n",
              "      background-color: #E8F0FE;\n",
              "      border: none;\n",
              "      border-radius: 50%;\n",
              "      cursor: pointer;\n",
              "      display: none;\n",
              "      fill: #1967D2;\n",
              "      height: 32px;\n",
              "      padding: 0 0 0 0;\n",
              "      width: 32px;\n",
              "    }\n",
              "\n",
              "    .colab-df-convert:hover {\n",
              "      background-color: #E2EBFA;\n",
              "      box-shadow: 0px 1px 2px rgba(60, 64, 67, 0.3), 0px 1px 3px 1px rgba(60, 64, 67, 0.15);\n",
              "      fill: #174EA6;\n",
              "    }\n",
              "\n",
              "    [theme=dark] .colab-df-convert {\n",
              "      background-color: #3B4455;\n",
              "      fill: #D2E3FC;\n",
              "    }\n",
              "\n",
              "    [theme=dark] .colab-df-convert:hover {\n",
              "      background-color: #434B5C;\n",
              "      box-shadow: 0px 1px 3px 1px rgba(0, 0, 0, 0.15);\n",
              "      filter: drop-shadow(0px 1px 2px rgba(0, 0, 0, 0.3));\n",
              "      fill: #FFFFFF;\n",
              "    }\n",
              "  </style>\n",
              "\n",
              "      <script>\n",
              "        const buttonEl =\n",
              "          document.querySelector('#df-f7b70ad0-c3ef-4da7-a666-eb3c3876c29b button.colab-df-convert');\n",
              "        buttonEl.style.display =\n",
              "          google.colab.kernel.accessAllowed ? 'block' : 'none';\n",
              "\n",
              "        async function convertToInteractive(key) {\n",
              "          const element = document.querySelector('#df-f7b70ad0-c3ef-4da7-a666-eb3c3876c29b');\n",
              "          const dataTable =\n",
              "            await google.colab.kernel.invokeFunction('convertToInteractive',\n",
              "                                                     [key], {});\n",
              "          if (!dataTable) return;\n",
              "\n",
              "          const docLinkHtml = 'Like what you see? Visit the ' +\n",
              "            '<a target=\"_blank\" href=https://colab.research.google.com/notebooks/data_table.ipynb>data table notebook</a>'\n",
              "            + ' to learn more about interactive tables.';\n",
              "          element.innerHTML = '';\n",
              "          dataTable['output_type'] = 'display_data';\n",
              "          await google.colab.output.renderOutput(dataTable, element);\n",
              "          const docLink = document.createElement('div');\n",
              "          docLink.innerHTML = docLinkHtml;\n",
              "          element.appendChild(docLink);\n",
              "        }\n",
              "      </script>\n",
              "    </div>\n",
              "  </div>\n",
              "  "
            ]
          },
          "metadata": {},
          "execution_count": 62
        }
      ]
    },
    {
      "cell_type": "code",
      "source": [
        "# the start year should be 2018, not 2020\n",
        "# this happens because the window size does not account for holidays\n",
        "\n",
        "def n_years_absolute_rolling_returns(df_nav, n_years):\n",
        "  rolling_returns = []\n",
        "  dates = []\n",
        "\n",
        "  start_date = df_nav.index[0]\n",
        "  end_date = start_date + relativedelta(years=n_years)\n",
        "  last_date = df_nav.index[-1]\n",
        "\n",
        "  while end_date < last_date:\n",
        "    df_window = df_nav.loc[start_date:end_date, \"nav\"]\n",
        "    rolling_return = absolute_return(df_window.iloc[0], df_window.iloc[-1])\n",
        "\n",
        "    rolling_returns.append(rolling_return)\n",
        "    dates.append(end_date)\n",
        "\n",
        "    start_date = start_date + datetime.timedelta(days=1)\n",
        "    end_date = start_date + relativedelta(years=n_years)\n",
        "\n",
        "  df_rr = pd.DataFrame(rolling_returns, columns=[\"rolling_returns\"], index=dates)\n",
        "  return df_rr"
      ],
      "metadata": {
        "id": "BXfnX9ZbSYOg"
      },
      "execution_count": 88,
      "outputs": []
    },
    {
      "cell_type": "code",
      "source": [
        "df_rr_temp = n_years_absolute_rolling_returns(df_nav, 5)\n",
        "df_rr_temp.index"
      ],
      "metadata": {
        "colab": {
          "base_uri": "https://localhost:8080/"
        },
        "id": "36eEk8A1Spqo",
        "outputId": "929d0af7-edf2-4fc3-c523-12be56adef23"
      },
      "execution_count": 89,
      "outputs": [
        {
          "output_type": "execute_result",
          "data": {
            "text/plain": [
              "DatetimeIndex(['2018-05-28 00:00:00+00:00', '2018-05-29 00:00:00+00:00',\n",
              "               '2018-05-30 00:00:00+00:00', '2018-05-31 00:00:00+00:00',\n",
              "               '2018-06-01 00:00:00+00:00', '2018-06-02 00:00:00+00:00',\n",
              "               '2018-06-03 00:00:00+00:00', '2018-06-04 00:00:00+00:00',\n",
              "               '2018-06-05 00:00:00+00:00', '2018-06-06 00:00:00+00:00',\n",
              "               ...\n",
              "               '2022-10-28 00:00:00+00:00', '2022-10-29 00:00:00+00:00',\n",
              "               '2022-10-30 00:00:00+00:00', '2022-10-31 00:00:00+00:00',\n",
              "               '2022-11-01 00:00:00+00:00', '2022-11-02 00:00:00+00:00',\n",
              "               '2022-11-03 00:00:00+00:00', '2022-11-04 00:00:00+00:00',\n",
              "               '2022-11-05 00:00:00+00:00', '2022-11-06 00:00:00+00:00'],\n",
              "              dtype='datetime64[ns, UTC]', length=1624, freq=None)"
            ]
          },
          "metadata": {},
          "execution_count": 89
        }
      ]
    },
    {
      "cell_type": "code",
      "source": [
        "def n_years_trailing_rolling_returns(df_nav, n_years):\n",
        "  rolling_returns = []\n",
        "  dates = []\n",
        "\n",
        "  start_date = df_nav.index[0]\n",
        "  end_date = start_date + relativedelta(years=n_years)\n",
        "  last_date = df_nav.index[-1]\n",
        "\n",
        "  while end_date < last_date:\n",
        "    df_window = df_nav.loc[start_date:end_date, \"nav\"]\n",
        "    rolling_return = trailing_return(df_window.iloc[0], df_window.iloc[-1], n_years)\n",
        "\n",
        "    rolling_returns.append(rolling_return)\n",
        "    dates.append(end_date)\n",
        "\n",
        "    start_date = start_date + datetime.timedelta(days=1)\n",
        "    end_date = start_date + relativedelta(years=n_years)\n",
        "\n",
        "  df_rr = pd.DataFrame(rolling_returns, columns=[\"rolling_returns\"], index=dates)\n",
        "  return df_rr"
      ],
      "metadata": {
        "id": "pkfKE-1JUUYI"
      },
      "execution_count": 93,
      "outputs": []
    },
    {
      "cell_type": "code",
      "source": [
        "df_rr_temp = n_years_trailing_rolling_returns(df_nav, 5)\n",
        "df_rr_temp"
      ],
      "metadata": {
        "colab": {
          "base_uri": "https://localhost:8080/",
          "height": 424
        },
        "id": "1CKdVv5EVrCz",
        "outputId": "6325daa3-d508-4f96-8027-017c5a853a23"
      },
      "execution_count": 94,
      "outputs": [
        {
          "output_type": "execute_result",
          "data": {
            "text/plain": [
              "                           rolling_returns\n",
              "2018-05-28 00:00:00+00:00        19.449295\n",
              "2018-05-29 00:00:00+00:00        19.407547\n",
              "2018-05-30 00:00:00+00:00        19.348890\n",
              "2018-05-31 00:00:00+00:00        19.388520\n",
              "2018-06-01 00:00:00+00:00        19.262094\n",
              "...                                    ...\n",
              "2022-11-02 00:00:00+00:00        17.344859\n",
              "2022-11-03 00:00:00+00:00        17.182017\n",
              "2022-11-04 00:00:00+00:00        16.997805\n",
              "2022-11-05 00:00:00+00:00        16.997805\n",
              "2022-11-06 00:00:00+00:00        16.997805\n",
              "\n",
              "[1624 rows x 1 columns]"
            ],
            "text/html": [
              "\n",
              "  <div id=\"df-11a9d6a8-4075-49f1-8c06-ef7f3f17edd8\">\n",
              "    <div class=\"colab-df-container\">\n",
              "      <div>\n",
              "<style scoped>\n",
              "    .dataframe tbody tr th:only-of-type {\n",
              "        vertical-align: middle;\n",
              "    }\n",
              "\n",
              "    .dataframe tbody tr th {\n",
              "        vertical-align: top;\n",
              "    }\n",
              "\n",
              "    .dataframe thead th {\n",
              "        text-align: right;\n",
              "    }\n",
              "</style>\n",
              "<table border=\"1\" class=\"dataframe\">\n",
              "  <thead>\n",
              "    <tr style=\"text-align: right;\">\n",
              "      <th></th>\n",
              "      <th>rolling_returns</th>\n",
              "    </tr>\n",
              "  </thead>\n",
              "  <tbody>\n",
              "    <tr>\n",
              "      <th>2018-05-28 00:00:00+00:00</th>\n",
              "      <td>19.449295</td>\n",
              "    </tr>\n",
              "    <tr>\n",
              "      <th>2018-05-29 00:00:00+00:00</th>\n",
              "      <td>19.407547</td>\n",
              "    </tr>\n",
              "    <tr>\n",
              "      <th>2018-05-30 00:00:00+00:00</th>\n",
              "      <td>19.348890</td>\n",
              "    </tr>\n",
              "    <tr>\n",
              "      <th>2018-05-31 00:00:00+00:00</th>\n",
              "      <td>19.388520</td>\n",
              "    </tr>\n",
              "    <tr>\n",
              "      <th>2018-06-01 00:00:00+00:00</th>\n",
              "      <td>19.262094</td>\n",
              "    </tr>\n",
              "    <tr>\n",
              "      <th>...</th>\n",
              "      <td>...</td>\n",
              "    </tr>\n",
              "    <tr>\n",
              "      <th>2022-11-02 00:00:00+00:00</th>\n",
              "      <td>17.344859</td>\n",
              "    </tr>\n",
              "    <tr>\n",
              "      <th>2022-11-03 00:00:00+00:00</th>\n",
              "      <td>17.182017</td>\n",
              "    </tr>\n",
              "    <tr>\n",
              "      <th>2022-11-04 00:00:00+00:00</th>\n",
              "      <td>16.997805</td>\n",
              "    </tr>\n",
              "    <tr>\n",
              "      <th>2022-11-05 00:00:00+00:00</th>\n",
              "      <td>16.997805</td>\n",
              "    </tr>\n",
              "    <tr>\n",
              "      <th>2022-11-06 00:00:00+00:00</th>\n",
              "      <td>16.997805</td>\n",
              "    </tr>\n",
              "  </tbody>\n",
              "</table>\n",
              "<p>1624 rows × 1 columns</p>\n",
              "</div>\n",
              "      <button class=\"colab-df-convert\" onclick=\"convertToInteractive('df-11a9d6a8-4075-49f1-8c06-ef7f3f17edd8')\"\n",
              "              title=\"Convert this dataframe to an interactive table.\"\n",
              "              style=\"display:none;\">\n",
              "        \n",
              "  <svg xmlns=\"http://www.w3.org/2000/svg\" height=\"24px\"viewBox=\"0 0 24 24\"\n",
              "       width=\"24px\">\n",
              "    <path d=\"M0 0h24v24H0V0z\" fill=\"none\"/>\n",
              "    <path d=\"M18.56 5.44l.94 2.06.94-2.06 2.06-.94-2.06-.94-.94-2.06-.94 2.06-2.06.94zm-11 1L8.5 8.5l.94-2.06 2.06-.94-2.06-.94L8.5 2.5l-.94 2.06-2.06.94zm10 10l.94 2.06.94-2.06 2.06-.94-2.06-.94-.94-2.06-.94 2.06-2.06.94z\"/><path d=\"M17.41 7.96l-1.37-1.37c-.4-.4-.92-.59-1.43-.59-.52 0-1.04.2-1.43.59L10.3 9.45l-7.72 7.72c-.78.78-.78 2.05 0 2.83L4 21.41c.39.39.9.59 1.41.59.51 0 1.02-.2 1.41-.59l7.78-7.78 2.81-2.81c.8-.78.8-2.07 0-2.86zM5.41 20L4 18.59l7.72-7.72 1.47 1.35L5.41 20z\"/>\n",
              "  </svg>\n",
              "      </button>\n",
              "      \n",
              "  <style>\n",
              "    .colab-df-container {\n",
              "      display:flex;\n",
              "      flex-wrap:wrap;\n",
              "      gap: 12px;\n",
              "    }\n",
              "\n",
              "    .colab-df-convert {\n",
              "      background-color: #E8F0FE;\n",
              "      border: none;\n",
              "      border-radius: 50%;\n",
              "      cursor: pointer;\n",
              "      display: none;\n",
              "      fill: #1967D2;\n",
              "      height: 32px;\n",
              "      padding: 0 0 0 0;\n",
              "      width: 32px;\n",
              "    }\n",
              "\n",
              "    .colab-df-convert:hover {\n",
              "      background-color: #E2EBFA;\n",
              "      box-shadow: 0px 1px 2px rgba(60, 64, 67, 0.3), 0px 1px 3px 1px rgba(60, 64, 67, 0.15);\n",
              "      fill: #174EA6;\n",
              "    }\n",
              "\n",
              "    [theme=dark] .colab-df-convert {\n",
              "      background-color: #3B4455;\n",
              "      fill: #D2E3FC;\n",
              "    }\n",
              "\n",
              "    [theme=dark] .colab-df-convert:hover {\n",
              "      background-color: #434B5C;\n",
              "      box-shadow: 0px 1px 3px 1px rgba(0, 0, 0, 0.15);\n",
              "      filter: drop-shadow(0px 1px 2px rgba(0, 0, 0, 0.3));\n",
              "      fill: #FFFFFF;\n",
              "    }\n",
              "  </style>\n",
              "\n",
              "      <script>\n",
              "        const buttonEl =\n",
              "          document.querySelector('#df-11a9d6a8-4075-49f1-8c06-ef7f3f17edd8 button.colab-df-convert');\n",
              "        buttonEl.style.display =\n",
              "          google.colab.kernel.accessAllowed ? 'block' : 'none';\n",
              "\n",
              "        async function convertToInteractive(key) {\n",
              "          const element = document.querySelector('#df-11a9d6a8-4075-49f1-8c06-ef7f3f17edd8');\n",
              "          const dataTable =\n",
              "            await google.colab.kernel.invokeFunction('convertToInteractive',\n",
              "                                                     [key], {});\n",
              "          if (!dataTable) return;\n",
              "\n",
              "          const docLinkHtml = 'Like what you see? Visit the ' +\n",
              "            '<a target=\"_blank\" href=https://colab.research.google.com/notebooks/data_table.ipynb>data table notebook</a>'\n",
              "            + ' to learn more about interactive tables.';\n",
              "          element.innerHTML = '';\n",
              "          dataTable['output_type'] = 'display_data';\n",
              "          await google.colab.output.renderOutput(dataTable, element);\n",
              "          const docLink = document.createElement('div');\n",
              "          docLink.innerHTML = docLinkHtml;\n",
              "          element.appendChild(docLink);\n",
              "        }\n",
              "      </script>\n",
              "    </div>\n",
              "  </div>\n",
              "  "
            ]
          },
          "metadata": {},
          "execution_count": 94
        }
      ]
    },
    {
      "cell_type": "code",
      "source": [
        "df_rr_temp.loc[get_date(2018, 9, 9)]"
      ],
      "metadata": {
        "colab": {
          "base_uri": "https://localhost:8080/"
        },
        "id": "Wq_Cm4hRWjIW",
        "outputId": "90701c4a-2790-43e0-b497-c38d777c4857"
      },
      "execution_count": 103,
      "outputs": [
        {
          "output_type": "execute_result",
          "data": {
            "text/plain": [
              "rolling_returns    21.440297\n",
              "Name: 2018-09-09 00:00:00+00:00, dtype: float64"
            ]
          },
          "metadata": {},
          "execution_count": 103
        }
      ]
    },
    {
      "cell_type": "code",
      "source": [
        "df_rr_temp = n_years_trailing_rolling_returns(df_nav, 3)\n",
        "df_rr_temp.loc[get_date(2018, 9, 9)]"
      ],
      "metadata": {
        "colab": {
          "base_uri": "https://localhost:8080/"
        },
        "id": "u1FjtE1HZ19w",
        "outputId": "c8c7512e-9ec6-4084-d8ba-dccb6f14f494"
      },
      "execution_count": 104,
      "outputs": [
        {
          "output_type": "execute_result",
          "data": {
            "text/plain": [
              "rolling_returns    16.985412\n",
              "Name: 2018-09-09 00:00:00+00:00, dtype: float64"
            ]
          },
          "metadata": {},
          "execution_count": 104
        }
      ]
    },
    {
      "cell_type": "code",
      "source": [
        "fig = px.line(df_rr_temp, x=df_rr_temp.index, y=\"rolling_returns\", title=\"Rolling 5-year returns\")\n",
        "fig.show()"
      ],
      "metadata": {
        "colab": {
          "base_uri": "https://localhost:8080/",
          "height": 542
        },
        "id": "JE-SjLgea4E3",
        "outputId": "3abc7050-31cf-4287-d921-027b0d2f4527"
      },
      "execution_count": 106,
      "outputs": [
        {
          "output_type": "display_data",
          "data": {
            "text/html": [
              "<html>\n",
              "<head><meta charset=\"utf-8\" /></head>\n",
              "<body>\n",
              "    <div>            <script src=\"https://cdnjs.cloudflare.com/ajax/libs/mathjax/2.7.5/MathJax.js?config=TeX-AMS-MML_SVG\"></script><script type=\"text/javascript\">if (window.MathJax) {MathJax.Hub.Config({SVG: {font: \"STIX-Web\"}});}</script>                <script type=\"text/javascript\">window.PlotlyConfig = {MathJaxConfig: 'local'};</script>\n",
              "        <script src=\"https://cdn.plot.ly/plotly-2.8.3.min.js\"></script>                <div id=\"e1f334d5-857b-4b47-806a-37e54ee1c6ff\" class=\"plotly-graph-div\" style=\"height:525px; width:100%;\"></div>            <script type=\"text/javascript\">                                    window.PLOTLYENV=window.PLOTLYENV || {};                                    if (document.getElementById(\"e1f334d5-857b-4b47-806a-37e54ee1c6ff\")) {                    Plotly.newPlot(                        \"e1f334d5-857b-4b47-806a-37e54ee1c6ff\",                        [{\"hovertemplate\":\"index=%{x}<br>rolling_returns=%{y}<extra></extra>\",\"legendgroup\":\"\",\"line\":{\"color\":\"#636efa\",\"dash\":\"solid\"},\"marker\":{\"symbol\":\"circle\"},\"mode\":\"lines\",\"name\":\"\",\"showlegend\":false,\"x\":[\"2016-05-28T00:00:00+00:00\",\"2016-05-29T00:00:00+00:00\",\"2016-05-30T00:00:00+00:00\",\"2016-05-31T00:00:00+00:00\",\"2016-06-01T00:00:00+00:00\",\"2016-06-02T00:00:00+00:00\",\"2016-06-03T00:00:00+00:00\",\"2016-06-04T00:00:00+00:00\",\"2016-06-05T00:00:00+00:00\",\"2016-06-06T00:00:00+00:00\",\"2016-06-07T00:00:00+00:00\",\"2016-06-08T00:00:00+00:00\",\"2016-06-09T00:00:00+00:00\",\"2016-06-10T00:00:00+00:00\",\"2016-06-11T00:00:00+00:00\",\"2016-06-12T00:00:00+00:00\",\"2016-06-13T00:00:00+00:00\",\"2016-06-14T00:00:00+00:00\",\"2016-06-15T00:00:00+00:00\",\"2016-06-16T00:00:00+00:00\",\"2016-06-17T00:00:00+00:00\",\"2016-06-18T00:00:00+00:00\",\"2016-06-19T00:00:00+00:00\",\"2016-06-20T00:00:00+00:00\",\"2016-06-21T00:00:00+00:00\",\"2016-06-22T00:00:00+00:00\",\"2016-06-23T00:00:00+00:00\",\"2016-06-24T00:00:00+00:00\",\"2016-06-25T00:00:00+00:00\",\"2016-06-26T00:00:00+00:00\",\"2016-06-27T00:00:00+00:00\",\"2016-06-28T00:00:00+00:00\",\"2016-06-29T00:00:00+00:00\",\"2016-06-30T00:00:00+00:00\",\"2016-07-01T00:00:00+00:00\",\"2016-07-02T00:00:00+00:00\",\"2016-07-03T00:00:00+00:00\",\"2016-07-04T00:00:00+00:00\",\"2016-07-05T00:00:00+00:00\",\"2016-07-06T00:00:00+00:00\",\"2016-07-07T00:00:00+00:00\",\"2016-07-08T00:00:00+00:00\",\"2016-07-09T00:00:00+00:00\",\"2016-07-10T00:00:00+00:00\",\"2016-07-11T00:00:00+00:00\",\"2016-07-12T00:00:00+00:00\",\"2016-07-13T00:00:00+00:00\",\"2016-07-14T00:00:00+00:00\",\"2016-07-15T00:00:00+00:00\",\"2016-07-16T00:00:00+00:00\",\"2016-07-17T00:00:00+00:00\",\"2016-07-18T00:00:00+00:00\",\"2016-07-19T00:00:00+00:00\",\"2016-07-20T00:00:00+00:00\",\"2016-07-21T00:00:00+00:00\",\"2016-07-22T00:00:00+00:00\",\"2016-07-23T00:00:00+00:00\",\"2016-07-24T00:00:00+00:00\",\"2016-07-25T00:00:00+00:00\",\"2016-07-26T00:00:00+00:00\",\"2016-07-27T00:00:00+00:00\",\"2016-07-28T00:00:00+00:00\",\"2016-07-29T00:00:00+00:00\",\"2016-07-30T00:00:00+00:00\",\"2016-07-31T00:00:00+00:00\",\"2016-08-01T00:00:00+00:00\",\"2016-08-02T00:00:00+00:00\",\"2016-08-03T00:00:00+00:00\",\"2016-08-04T00:00:00+00:00\",\"2016-08-05T00:00:00+00:00\",\"2016-08-06T00:00:00+00:00\",\"2016-08-07T00:00:00+00:00\",\"2016-08-08T00:00:00+00:00\",\"2016-08-09T00:00:00+00:00\",\"2016-08-10T00:00:00+00:00\",\"2016-08-11T00:00:00+00:00\",\"2016-08-12T00:00:00+00:00\",\"2016-08-13T00:00:00+00:00\",\"2016-08-14T00:00:00+00:00\",\"2016-08-15T00:00:00+00:00\",\"2016-08-16T00:00:00+00:00\",\"2016-08-17T00:00:00+00:00\",\"2016-08-18T00:00:00+00:00\",\"2016-08-19T00:00:00+00:00\",\"2016-08-20T00:00:00+00:00\",\"2016-08-21T00:00:00+00:00\",\"2016-08-22T00:00:00+00:00\",\"2016-08-23T00:00:00+00:00\",\"2016-08-24T00:00:00+00:00\",\"2016-08-25T00:00:00+00:00\",\"2016-08-26T00:00:00+00:00\",\"2016-08-27T00:00:00+00:00\",\"2016-08-28T00:00:00+00:00\",\"2016-08-29T00:00:00+00:00\",\"2016-08-30T00:00:00+00:00\",\"2016-08-31T00:00:00+00:00\",\"2016-09-01T00:00:00+00:00\",\"2016-09-02T00:00:00+00:00\",\"2016-09-03T00:00:00+00:00\",\"2016-09-04T00:00:00+00:00\",\"2016-09-05T00:00:00+00:00\",\"2016-09-06T00:00:00+00:00\",\"2016-09-07T00:00:00+00:00\",\"2016-09-08T00:00:00+00:00\",\"2016-09-09T00:00:00+00:00\",\"2016-09-10T00:00:00+00:00\",\"2016-09-11T00:00:00+00:00\",\"2016-09-12T00:00:00+00:00\",\"2016-09-13T00:00:00+00:00\",\"2016-09-14T00:00:00+00:00\",\"2016-09-15T00:00:00+00:00\",\"2016-09-16T00:00:00+00:00\",\"2016-09-17T00:00:00+00:00\",\"2016-09-18T00:00:00+00:00\",\"2016-09-19T00:00:00+00:00\",\"2016-09-20T00:00:00+00:00\",\"2016-09-21T00:00:00+00:00\",\"2016-09-22T00:00:00+00:00\",\"2016-09-23T00:00:00+00:00\",\"2016-09-24T00:00:00+00:00\",\"2016-09-25T00:00:00+00:00\",\"2016-09-26T00:00:00+00:00\",\"2016-09-27T00:00:00+00:00\",\"2016-09-28T00:00:00+00:00\",\"2016-09-29T00:00:00+00:00\",\"2016-09-30T00:00:00+00:00\",\"2016-10-01T00:00:00+00:00\",\"2016-10-02T00:00:00+00:00\",\"2016-10-03T00:00:00+00:00\",\"2016-10-04T00:00:00+00:00\",\"2016-10-05T00:00:00+00:00\",\"2016-10-06T00:00:00+00:00\",\"2016-10-07T00:00:00+00:00\",\"2016-10-08T00:00:00+00:00\",\"2016-10-09T00:00:00+00:00\",\"2016-10-10T00:00:00+00:00\",\"2016-10-11T00:00:00+00:00\",\"2016-10-12T00:00:00+00:00\",\"2016-10-13T00:00:00+00:00\",\"2016-10-14T00:00:00+00:00\",\"2016-10-15T00:00:00+00:00\",\"2016-10-16T00:00:00+00:00\",\"2016-10-17T00:00:00+00:00\",\"2016-10-18T00:00:00+00:00\",\"2016-10-19T00:00:00+00:00\",\"2016-10-20T00:00:00+00:00\",\"2016-10-21T00:00:00+00:00\",\"2016-10-22T00:00:00+00:00\",\"2016-10-23T00:00:00+00:00\",\"2016-10-24T00:00:00+00:00\",\"2016-10-25T00:00:00+00:00\",\"2016-10-26T00:00:00+00:00\",\"2016-10-27T00:00:00+00:00\",\"2016-10-28T00:00:00+00:00\",\"2016-10-29T00:00:00+00:00\",\"2016-10-30T00:00:00+00:00\",\"2016-10-31T00:00:00+00:00\",\"2016-11-01T00:00:00+00:00\",\"2016-11-02T00:00:00+00:00\",\"2016-11-03T00:00:00+00:00\",\"2016-11-04T00:00:00+00:00\",\"2016-11-05T00:00:00+00:00\",\"2016-11-06T00:00:00+00:00\",\"2016-11-07T00:00:00+00:00\",\"2016-11-08T00:00:00+00:00\",\"2016-11-09T00:00:00+00:00\",\"2016-11-10T00:00:00+00:00\",\"2016-11-11T00:00:00+00:00\",\"2016-11-12T00:00:00+00:00\",\"2016-11-13T00:00:00+00:00\",\"2016-11-14T00:00:00+00:00\",\"2016-11-15T00:00:00+00:00\",\"2016-11-16T00:00:00+00:00\",\"2016-11-17T00:00:00+00:00\",\"2016-11-18T00:00:00+00:00\",\"2016-11-19T00:00:00+00:00\",\"2016-11-20T00:00:00+00:00\",\"2016-11-21T00:00:00+00:00\",\"2016-11-22T00:00:00+00:00\",\"2016-11-23T00:00:00+00:00\",\"2016-11-24T00:00:00+00:00\",\"2016-11-25T00:00:00+00:00\",\"2016-11-26T00:00:00+00:00\",\"2016-11-27T00:00:00+00:00\",\"2016-11-28T00:00:00+00:00\",\"2016-11-29T00:00:00+00:00\",\"2016-11-30T00:00:00+00:00\",\"2016-12-01T00:00:00+00:00\",\"2016-12-02T00:00:00+00:00\",\"2016-12-03T00:00:00+00:00\",\"2016-12-04T00:00:00+00:00\",\"2016-12-05T00:00:00+00:00\",\"2016-12-06T00:00:00+00:00\",\"2016-12-07T00:00:00+00:00\",\"2016-12-08T00:00:00+00:00\",\"2016-12-09T00:00:00+00:00\",\"2016-12-10T00:00:00+00:00\",\"2016-12-11T00:00:00+00:00\",\"2016-12-12T00:00:00+00:00\",\"2016-12-13T00:00:00+00:00\",\"2016-12-14T00:00:00+00:00\",\"2016-12-15T00:00:00+00:00\",\"2016-12-16T00:00:00+00:00\",\"2016-12-17T00:00:00+00:00\",\"2016-12-18T00:00:00+00:00\",\"2016-12-19T00:00:00+00:00\",\"2016-12-20T00:00:00+00:00\",\"2016-12-21T00:00:00+00:00\",\"2016-12-22T00:00:00+00:00\",\"2016-12-23T00:00:00+00:00\",\"2016-12-24T00:00:00+00:00\",\"2016-12-25T00:00:00+00:00\",\"2016-12-26T00:00:00+00:00\",\"2016-12-27T00:00:00+00:00\",\"2016-12-28T00:00:00+00:00\",\"2016-12-29T00:00:00+00:00\",\"2016-12-30T00:00:00+00:00\",\"2016-12-31T00:00:00+00:00\",\"2017-01-01T00:00:00+00:00\",\"2017-01-02T00:00:00+00:00\",\"2017-01-03T00:00:00+00:00\",\"2017-01-04T00:00:00+00:00\",\"2017-01-05T00:00:00+00:00\",\"2017-01-06T00:00:00+00:00\",\"2017-01-07T00:00:00+00:00\",\"2017-01-08T00:00:00+00:00\",\"2017-01-09T00:00:00+00:00\",\"2017-01-10T00:00:00+00:00\",\"2017-01-11T00:00:00+00:00\",\"2017-01-12T00:00:00+00:00\",\"2017-01-13T00:00:00+00:00\",\"2017-01-14T00:00:00+00:00\",\"2017-01-15T00:00:00+00:00\",\"2017-01-16T00:00:00+00:00\",\"2017-01-17T00:00:00+00:00\",\"2017-01-18T00:00:00+00:00\",\"2017-01-19T00:00:00+00:00\",\"2017-01-20T00:00:00+00:00\",\"2017-01-21T00:00:00+00:00\",\"2017-01-22T00:00:00+00:00\",\"2017-01-23T00:00:00+00:00\",\"2017-01-24T00:00:00+00:00\",\"2017-01-25T00:00:00+00:00\",\"2017-01-26T00:00:00+00:00\",\"2017-01-27T00:00:00+00:00\",\"2017-01-28T00:00:00+00:00\",\"2017-01-29T00:00:00+00:00\",\"2017-01-30T00:00:00+00:00\",\"2017-01-31T00:00:00+00:00\",\"2017-02-01T00:00:00+00:00\",\"2017-02-02T00:00:00+00:00\",\"2017-02-03T00:00:00+00:00\",\"2017-02-04T00:00:00+00:00\",\"2017-02-05T00:00:00+00:00\",\"2017-02-06T00:00:00+00:00\",\"2017-02-07T00:00:00+00:00\",\"2017-02-08T00:00:00+00:00\",\"2017-02-09T00:00:00+00:00\",\"2017-02-10T00:00:00+00:00\",\"2017-02-11T00:00:00+00:00\",\"2017-02-12T00:00:00+00:00\",\"2017-02-13T00:00:00+00:00\",\"2017-02-14T00:00:00+00:00\",\"2017-02-15T00:00:00+00:00\",\"2017-02-16T00:00:00+00:00\",\"2017-02-17T00:00:00+00:00\",\"2017-02-18T00:00:00+00:00\",\"2017-02-19T00:00:00+00:00\",\"2017-02-20T00:00:00+00:00\",\"2017-02-21T00:00:00+00:00\",\"2017-02-22T00:00:00+00:00\",\"2017-02-23T00:00:00+00:00\",\"2017-02-24T00:00:00+00:00\",\"2017-02-25T00:00:00+00:00\",\"2017-02-26T00:00:00+00:00\",\"2017-02-27T00:00:00+00:00\",\"2017-02-28T00:00:00+00:00\",\"2017-03-01T00:00:00+00:00\",\"2017-03-02T00:00:00+00:00\",\"2017-03-03T00:00:00+00:00\",\"2017-03-04T00:00:00+00:00\",\"2017-03-05T00:00:00+00:00\",\"2017-03-06T00:00:00+00:00\",\"2017-03-07T00:00:00+00:00\",\"2017-03-08T00:00:00+00:00\",\"2017-03-09T00:00:00+00:00\",\"2017-03-10T00:00:00+00:00\",\"2017-03-11T00:00:00+00:00\",\"2017-03-12T00:00:00+00:00\",\"2017-03-13T00:00:00+00:00\",\"2017-03-14T00:00:00+00:00\",\"2017-03-15T00:00:00+00:00\",\"2017-03-16T00:00:00+00:00\",\"2017-03-17T00:00:00+00:00\",\"2017-03-18T00:00:00+00:00\",\"2017-03-19T00:00:00+00:00\",\"2017-03-20T00:00:00+00:00\",\"2017-03-21T00:00:00+00:00\",\"2017-03-22T00:00:00+00:00\",\"2017-03-23T00:00:00+00:00\",\"2017-03-24T00:00:00+00:00\",\"2017-03-25T00:00:00+00:00\",\"2017-03-26T00:00:00+00:00\",\"2017-03-27T00:00:00+00:00\",\"2017-03-28T00:00:00+00:00\",\"2017-03-29T00:00:00+00:00\",\"2017-03-30T00:00:00+00:00\",\"2017-03-31T00:00:00+00:00\",\"2017-04-01T00:00:00+00:00\",\"2017-04-02T00:00:00+00:00\",\"2017-04-03T00:00:00+00:00\",\"2017-04-04T00:00:00+00:00\",\"2017-04-05T00:00:00+00:00\",\"2017-04-06T00:00:00+00:00\",\"2017-04-07T00:00:00+00:00\",\"2017-04-08T00:00:00+00:00\",\"2017-04-09T00:00:00+00:00\",\"2017-04-10T00:00:00+00:00\",\"2017-04-11T00:00:00+00:00\",\"2017-04-12T00:00:00+00:00\",\"2017-04-13T00:00:00+00:00\",\"2017-04-14T00:00:00+00:00\",\"2017-04-15T00:00:00+00:00\",\"2017-04-16T00:00:00+00:00\",\"2017-04-17T00:00:00+00:00\",\"2017-04-18T00:00:00+00:00\",\"2017-04-19T00:00:00+00:00\",\"2017-04-20T00:00:00+00:00\",\"2017-04-21T00:00:00+00:00\",\"2017-04-22T00:00:00+00:00\",\"2017-04-23T00:00:00+00:00\",\"2017-04-24T00:00:00+00:00\",\"2017-04-25T00:00:00+00:00\",\"2017-04-26T00:00:00+00:00\",\"2017-04-27T00:00:00+00:00\",\"2017-04-28T00:00:00+00:00\",\"2017-04-29T00:00:00+00:00\",\"2017-04-30T00:00:00+00:00\",\"2017-05-01T00:00:00+00:00\",\"2017-05-02T00:00:00+00:00\",\"2017-05-03T00:00:00+00:00\",\"2017-05-04T00:00:00+00:00\",\"2017-05-05T00:00:00+00:00\",\"2017-05-06T00:00:00+00:00\",\"2017-05-07T00:00:00+00:00\",\"2017-05-08T00:00:00+00:00\",\"2017-05-09T00:00:00+00:00\",\"2017-05-10T00:00:00+00:00\",\"2017-05-11T00:00:00+00:00\",\"2017-05-12T00:00:00+00:00\",\"2017-05-13T00:00:00+00:00\",\"2017-05-14T00:00:00+00:00\",\"2017-05-15T00:00:00+00:00\",\"2017-05-16T00:00:00+00:00\",\"2017-05-17T00:00:00+00:00\",\"2017-05-18T00:00:00+00:00\",\"2017-05-19T00:00:00+00:00\",\"2017-05-20T00:00:00+00:00\",\"2017-05-21T00:00:00+00:00\",\"2017-05-22T00:00:00+00:00\",\"2017-05-23T00:00:00+00:00\",\"2017-05-24T00:00:00+00:00\",\"2017-05-25T00:00:00+00:00\",\"2017-05-26T00:00:00+00:00\",\"2017-05-27T00:00:00+00:00\",\"2017-05-28T00:00:00+00:00\",\"2017-05-29T00:00:00+00:00\",\"2017-05-30T00:00:00+00:00\",\"2017-05-31T00:00:00+00:00\",\"2017-06-01T00:00:00+00:00\",\"2017-06-02T00:00:00+00:00\",\"2017-06-03T00:00:00+00:00\",\"2017-06-04T00:00:00+00:00\",\"2017-06-05T00:00:00+00:00\",\"2017-06-06T00:00:00+00:00\",\"2017-06-07T00:00:00+00:00\",\"2017-06-08T00:00:00+00:00\",\"2017-06-09T00:00:00+00:00\",\"2017-06-10T00:00:00+00:00\",\"2017-06-11T00:00:00+00:00\",\"2017-06-12T00:00:00+00:00\",\"2017-06-13T00:00:00+00:00\",\"2017-06-14T00:00:00+00:00\",\"2017-06-15T00:00:00+00:00\",\"2017-06-16T00:00:00+00:00\",\"2017-06-17T00:00:00+00:00\",\"2017-06-18T00:00:00+00:00\",\"2017-06-19T00:00:00+00:00\",\"2017-06-20T00:00:00+00:00\",\"2017-06-21T00:00:00+00:00\",\"2017-06-22T00:00:00+00:00\",\"2017-06-23T00:00:00+00:00\",\"2017-06-24T00:00:00+00:00\",\"2017-06-25T00:00:00+00:00\",\"2017-06-26T00:00:00+00:00\",\"2017-06-27T00:00:00+00:00\",\"2017-06-28T00:00:00+00:00\",\"2017-06-29T00:00:00+00:00\",\"2017-06-30T00:00:00+00:00\",\"2017-07-01T00:00:00+00:00\",\"2017-07-02T00:00:00+00:00\",\"2017-07-03T00:00:00+00:00\",\"2017-07-04T00:00:00+00:00\",\"2017-07-05T00:00:00+00:00\",\"2017-07-06T00:00:00+00:00\",\"2017-07-07T00:00:00+00:00\",\"2017-07-08T00:00:00+00:00\",\"2017-07-09T00:00:00+00:00\",\"2017-07-10T00:00:00+00:00\",\"2017-07-11T00:00:00+00:00\",\"2017-07-12T00:00:00+00:00\",\"2017-07-13T00:00:00+00:00\",\"2017-07-14T00:00:00+00:00\",\"2017-07-15T00:00:00+00:00\",\"2017-07-16T00:00:00+00:00\",\"2017-07-17T00:00:00+00:00\",\"2017-07-18T00:00:00+00:00\",\"2017-07-19T00:00:00+00:00\",\"2017-07-20T00:00:00+00:00\",\"2017-07-21T00:00:00+00:00\",\"2017-07-22T00:00:00+00:00\",\"2017-07-23T00:00:00+00:00\",\"2017-07-24T00:00:00+00:00\",\"2017-07-25T00:00:00+00:00\",\"2017-07-26T00:00:00+00:00\",\"2017-07-27T00:00:00+00:00\",\"2017-07-28T00:00:00+00:00\",\"2017-07-29T00:00:00+00:00\",\"2017-07-30T00:00:00+00:00\",\"2017-07-31T00:00:00+00:00\",\"2017-08-01T00:00:00+00:00\",\"2017-08-02T00:00:00+00:00\",\"2017-08-03T00:00:00+00:00\",\"2017-08-04T00:00:00+00:00\",\"2017-08-05T00:00:00+00:00\",\"2017-08-06T00:00:00+00:00\",\"2017-08-07T00:00:00+00:00\",\"2017-08-08T00:00:00+00:00\",\"2017-08-09T00:00:00+00:00\",\"2017-08-10T00:00:00+00:00\",\"2017-08-11T00:00:00+00:00\",\"2017-08-12T00:00:00+00:00\",\"2017-08-13T00:00:00+00:00\",\"2017-08-14T00:00:00+00:00\",\"2017-08-15T00:00:00+00:00\",\"2017-08-16T00:00:00+00:00\",\"2017-08-17T00:00:00+00:00\",\"2017-08-18T00:00:00+00:00\",\"2017-08-19T00:00:00+00:00\",\"2017-08-20T00:00:00+00:00\",\"2017-08-21T00:00:00+00:00\",\"2017-08-22T00:00:00+00:00\",\"2017-08-23T00:00:00+00:00\",\"2017-08-24T00:00:00+00:00\",\"2017-08-25T00:00:00+00:00\",\"2017-08-26T00:00:00+00:00\",\"2017-08-27T00:00:00+00:00\",\"2017-08-28T00:00:00+00:00\",\"2017-08-29T00:00:00+00:00\",\"2017-08-30T00:00:00+00:00\",\"2017-08-31T00:00:00+00:00\",\"2017-09-01T00:00:00+00:00\",\"2017-09-02T00:00:00+00:00\",\"2017-09-03T00:00:00+00:00\",\"2017-09-04T00:00:00+00:00\",\"2017-09-05T00:00:00+00:00\",\"2017-09-06T00:00:00+00:00\",\"2017-09-07T00:00:00+00:00\",\"2017-09-08T00:00:00+00:00\",\"2017-09-09T00:00:00+00:00\",\"2017-09-10T00:00:00+00:00\",\"2017-09-11T00:00:00+00:00\",\"2017-09-12T00:00:00+00:00\",\"2017-09-13T00:00:00+00:00\",\"2017-09-14T00:00:00+00:00\",\"2017-09-15T00:00:00+00:00\",\"2017-09-16T00:00:00+00:00\",\"2017-09-17T00:00:00+00:00\",\"2017-09-18T00:00:00+00:00\",\"2017-09-19T00:00:00+00:00\",\"2017-09-20T00:00:00+00:00\",\"2017-09-21T00:00:00+00:00\",\"2017-09-22T00:00:00+00:00\",\"2017-09-23T00:00:00+00:00\",\"2017-09-24T00:00:00+00:00\",\"2017-09-25T00:00:00+00:00\",\"2017-09-26T00:00:00+00:00\",\"2017-09-27T00:00:00+00:00\",\"2017-09-28T00:00:00+00:00\",\"2017-09-29T00:00:00+00:00\",\"2017-09-30T00:00:00+00:00\",\"2017-10-01T00:00:00+00:00\",\"2017-10-02T00:00:00+00:00\",\"2017-10-03T00:00:00+00:00\",\"2017-10-04T00:00:00+00:00\",\"2017-10-05T00:00:00+00:00\",\"2017-10-06T00:00:00+00:00\",\"2017-10-07T00:00:00+00:00\",\"2017-10-08T00:00:00+00:00\",\"2017-10-09T00:00:00+00:00\",\"2017-10-10T00:00:00+00:00\",\"2017-10-11T00:00:00+00:00\",\"2017-10-12T00:00:00+00:00\",\"2017-10-13T00:00:00+00:00\",\"2017-10-14T00:00:00+00:00\",\"2017-10-15T00:00:00+00:00\",\"2017-10-16T00:00:00+00:00\",\"2017-10-17T00:00:00+00:00\",\"2017-10-18T00:00:00+00:00\",\"2017-10-19T00:00:00+00:00\",\"2017-10-20T00:00:00+00:00\",\"2017-10-21T00:00:00+00:00\",\"2017-10-22T00:00:00+00:00\",\"2017-10-23T00:00:00+00:00\",\"2017-10-24T00:00:00+00:00\",\"2017-10-25T00:00:00+00:00\",\"2017-10-26T00:00:00+00:00\",\"2017-10-27T00:00:00+00:00\",\"2017-10-28T00:00:00+00:00\",\"2017-10-29T00:00:00+00:00\",\"2017-10-30T00:00:00+00:00\",\"2017-10-31T00:00:00+00:00\",\"2017-11-01T00:00:00+00:00\",\"2017-11-02T00:00:00+00:00\",\"2017-11-03T00:00:00+00:00\",\"2017-11-04T00:00:00+00:00\",\"2017-11-05T00:00:00+00:00\",\"2017-11-06T00:00:00+00:00\",\"2017-11-07T00:00:00+00:00\",\"2017-11-08T00:00:00+00:00\",\"2017-11-09T00:00:00+00:00\",\"2017-11-10T00:00:00+00:00\",\"2017-11-11T00:00:00+00:00\",\"2017-11-12T00:00:00+00:00\",\"2017-11-13T00:00:00+00:00\",\"2017-11-14T00:00:00+00:00\",\"2017-11-15T00:00:00+00:00\",\"2017-11-16T00:00:00+00:00\",\"2017-11-17T00:00:00+00:00\",\"2017-11-18T00:00:00+00:00\",\"2017-11-19T00:00:00+00:00\",\"2017-11-20T00:00:00+00:00\",\"2017-11-21T00:00:00+00:00\",\"2017-11-22T00:00:00+00:00\",\"2017-11-23T00:00:00+00:00\",\"2017-11-24T00:00:00+00:00\",\"2017-11-25T00:00:00+00:00\",\"2017-11-26T00:00:00+00:00\",\"2017-11-27T00:00:00+00:00\",\"2017-11-28T00:00:00+00:00\",\"2017-11-29T00:00:00+00:00\",\"2017-11-30T00:00:00+00:00\",\"2017-12-01T00:00:00+00:00\",\"2017-12-02T00:00:00+00:00\",\"2017-12-03T00:00:00+00:00\",\"2017-12-04T00:00:00+00:00\",\"2017-12-05T00:00:00+00:00\",\"2017-12-06T00:00:00+00:00\",\"2017-12-07T00:00:00+00:00\",\"2017-12-08T00:00:00+00:00\",\"2017-12-09T00:00:00+00:00\",\"2017-12-10T00:00:00+00:00\",\"2017-12-11T00:00:00+00:00\",\"2017-12-12T00:00:00+00:00\",\"2017-12-13T00:00:00+00:00\",\"2017-12-14T00:00:00+00:00\",\"2017-12-15T00:00:00+00:00\",\"2017-12-16T00:00:00+00:00\",\"2017-12-17T00:00:00+00:00\",\"2017-12-18T00:00:00+00:00\",\"2017-12-19T00:00:00+00:00\",\"2017-12-20T00:00:00+00:00\",\"2017-12-21T00:00:00+00:00\",\"2017-12-22T00:00:00+00:00\",\"2017-12-23T00:00:00+00:00\",\"2017-12-24T00:00:00+00:00\",\"2017-12-25T00:00:00+00:00\",\"2017-12-26T00:00:00+00:00\",\"2017-12-27T00:00:00+00:00\",\"2017-12-28T00:00:00+00:00\",\"2017-12-29T00:00:00+00:00\",\"2017-12-30T00:00:00+00:00\",\"2017-12-31T00:00:00+00:00\",\"2018-01-01T00:00:00+00:00\",\"2018-01-02T00:00:00+00:00\",\"2018-01-03T00:00:00+00:00\",\"2018-01-04T00:00:00+00:00\",\"2018-01-05T00:00:00+00:00\",\"2018-01-06T00:00:00+00:00\",\"2018-01-07T00:00:00+00:00\",\"2018-01-08T00:00:00+00:00\",\"2018-01-09T00:00:00+00:00\",\"2018-01-10T00:00:00+00:00\",\"2018-01-11T00:00:00+00:00\",\"2018-01-12T00:00:00+00:00\",\"2018-01-13T00:00:00+00:00\",\"2018-01-14T00:00:00+00:00\",\"2018-01-15T00:00:00+00:00\",\"2018-01-16T00:00:00+00:00\",\"2018-01-17T00:00:00+00:00\",\"2018-01-18T00:00:00+00:00\",\"2018-01-19T00:00:00+00:00\",\"2018-01-20T00:00:00+00:00\",\"2018-01-21T00:00:00+00:00\",\"2018-01-22T00:00:00+00:00\",\"2018-01-23T00:00:00+00:00\",\"2018-01-24T00:00:00+00:00\",\"2018-01-25T00:00:00+00:00\",\"2018-01-26T00:00:00+00:00\",\"2018-01-27T00:00:00+00:00\",\"2018-01-28T00:00:00+00:00\",\"2018-01-29T00:00:00+00:00\",\"2018-01-30T00:00:00+00:00\",\"2018-01-31T00:00:00+00:00\",\"2018-02-01T00:00:00+00:00\",\"2018-02-02T00:00:00+00:00\",\"2018-02-03T00:00:00+00:00\",\"2018-02-04T00:00:00+00:00\",\"2018-02-05T00:00:00+00:00\",\"2018-02-06T00:00:00+00:00\",\"2018-02-07T00:00:00+00:00\",\"2018-02-08T00:00:00+00:00\",\"2018-02-09T00:00:00+00:00\",\"2018-02-10T00:00:00+00:00\",\"2018-02-11T00:00:00+00:00\",\"2018-02-12T00:00:00+00:00\",\"2018-02-13T00:00:00+00:00\",\"2018-02-14T00:00:00+00:00\",\"2018-02-15T00:00:00+00:00\",\"2018-02-16T00:00:00+00:00\",\"2018-02-17T00:00:00+00:00\",\"2018-02-18T00:00:00+00:00\",\"2018-02-19T00:00:00+00:00\",\"2018-02-20T00:00:00+00:00\",\"2018-02-21T00:00:00+00:00\",\"2018-02-22T00:00:00+00:00\",\"2018-02-23T00:00:00+00:00\",\"2018-02-24T00:00:00+00:00\",\"2018-02-25T00:00:00+00:00\",\"2018-02-26T00:00:00+00:00\",\"2018-02-27T00:00:00+00:00\",\"2018-02-28T00:00:00+00:00\",\"2018-03-01T00:00:00+00:00\",\"2018-03-02T00:00:00+00:00\",\"2018-03-03T00:00:00+00:00\",\"2018-03-04T00:00:00+00:00\",\"2018-03-05T00:00:00+00:00\",\"2018-03-06T00:00:00+00:00\",\"2018-03-07T00:00:00+00:00\",\"2018-03-08T00:00:00+00:00\",\"2018-03-09T00:00:00+00:00\",\"2018-03-10T00:00:00+00:00\",\"2018-03-11T00:00:00+00:00\",\"2018-03-12T00:00:00+00:00\",\"2018-03-13T00:00:00+00:00\",\"2018-03-14T00:00:00+00:00\",\"2018-03-15T00:00:00+00:00\",\"2018-03-16T00:00:00+00:00\",\"2018-03-17T00:00:00+00:00\",\"2018-03-18T00:00:00+00:00\",\"2018-03-19T00:00:00+00:00\",\"2018-03-20T00:00:00+00:00\",\"2018-03-21T00:00:00+00:00\",\"2018-03-22T00:00:00+00:00\",\"2018-03-23T00:00:00+00:00\",\"2018-03-24T00:00:00+00:00\",\"2018-03-25T00:00:00+00:00\",\"2018-03-26T00:00:00+00:00\",\"2018-03-27T00:00:00+00:00\",\"2018-03-28T00:00:00+00:00\",\"2018-03-29T00:00:00+00:00\",\"2018-03-30T00:00:00+00:00\",\"2018-03-31T00:00:00+00:00\",\"2018-04-01T00:00:00+00:00\",\"2018-04-02T00:00:00+00:00\",\"2018-04-03T00:00:00+00:00\",\"2018-04-04T00:00:00+00:00\",\"2018-04-05T00:00:00+00:00\",\"2018-04-06T00:00:00+00:00\",\"2018-04-07T00:00:00+00:00\",\"2018-04-08T00:00:00+00:00\",\"2018-04-09T00:00:00+00:00\",\"2018-04-10T00:00:00+00:00\",\"2018-04-11T00:00:00+00:00\",\"2018-04-12T00:00:00+00:00\",\"2018-04-13T00:00:00+00:00\",\"2018-04-14T00:00:00+00:00\",\"2018-04-15T00:00:00+00:00\",\"2018-04-16T00:00:00+00:00\",\"2018-04-17T00:00:00+00:00\",\"2018-04-18T00:00:00+00:00\",\"2018-04-19T00:00:00+00:00\",\"2018-04-20T00:00:00+00:00\",\"2018-04-21T00:00:00+00:00\",\"2018-04-22T00:00:00+00:00\",\"2018-04-23T00:00:00+00:00\",\"2018-04-24T00:00:00+00:00\",\"2018-04-25T00:00:00+00:00\",\"2018-04-26T00:00:00+00:00\",\"2018-04-27T00:00:00+00:00\",\"2018-04-28T00:00:00+00:00\",\"2018-04-29T00:00:00+00:00\",\"2018-04-30T00:00:00+00:00\",\"2018-05-01T00:00:00+00:00\",\"2018-05-02T00:00:00+00:00\",\"2018-05-03T00:00:00+00:00\",\"2018-05-04T00:00:00+00:00\",\"2018-05-05T00:00:00+00:00\",\"2018-05-06T00:00:00+00:00\",\"2018-05-07T00:00:00+00:00\",\"2018-05-08T00:00:00+00:00\",\"2018-05-09T00:00:00+00:00\",\"2018-05-10T00:00:00+00:00\",\"2018-05-11T00:00:00+00:00\",\"2018-05-12T00:00:00+00:00\",\"2018-05-13T00:00:00+00:00\",\"2018-05-14T00:00:00+00:00\",\"2018-05-15T00:00:00+00:00\",\"2018-05-16T00:00:00+00:00\",\"2018-05-17T00:00:00+00:00\",\"2018-05-18T00:00:00+00:00\",\"2018-05-19T00:00:00+00:00\",\"2018-05-20T00:00:00+00:00\",\"2018-05-21T00:00:00+00:00\",\"2018-05-22T00:00:00+00:00\",\"2018-05-23T00:00:00+00:00\",\"2018-05-24T00:00:00+00:00\",\"2018-05-25T00:00:00+00:00\",\"2018-05-26T00:00:00+00:00\",\"2018-05-27T00:00:00+00:00\",\"2018-05-28T00:00:00+00:00\",\"2018-05-29T00:00:00+00:00\",\"2018-05-30T00:00:00+00:00\",\"2018-05-31T00:00:00+00:00\",\"2018-06-01T00:00:00+00:00\",\"2018-06-02T00:00:00+00:00\",\"2018-06-03T00:00:00+00:00\",\"2018-06-04T00:00:00+00:00\",\"2018-06-05T00:00:00+00:00\",\"2018-06-06T00:00:00+00:00\",\"2018-06-07T00:00:00+00:00\",\"2018-06-08T00:00:00+00:00\",\"2018-06-09T00:00:00+00:00\",\"2018-06-10T00:00:00+00:00\",\"2018-06-11T00:00:00+00:00\",\"2018-06-12T00:00:00+00:00\",\"2018-06-13T00:00:00+00:00\",\"2018-06-14T00:00:00+00:00\",\"2018-06-15T00:00:00+00:00\",\"2018-06-16T00:00:00+00:00\",\"2018-06-17T00:00:00+00:00\",\"2018-06-18T00:00:00+00:00\",\"2018-06-19T00:00:00+00:00\",\"2018-06-20T00:00:00+00:00\",\"2018-06-21T00:00:00+00:00\",\"2018-06-22T00:00:00+00:00\",\"2018-06-23T00:00:00+00:00\",\"2018-06-24T00:00:00+00:00\",\"2018-06-25T00:00:00+00:00\",\"2018-06-26T00:00:00+00:00\",\"2018-06-27T00:00:00+00:00\",\"2018-06-28T00:00:00+00:00\",\"2018-06-29T00:00:00+00:00\",\"2018-06-30T00:00:00+00:00\",\"2018-07-01T00:00:00+00:00\",\"2018-07-02T00:00:00+00:00\",\"2018-07-03T00:00:00+00:00\",\"2018-07-04T00:00:00+00:00\",\"2018-07-05T00:00:00+00:00\",\"2018-07-06T00:00:00+00:00\",\"2018-07-07T00:00:00+00:00\",\"2018-07-08T00:00:00+00:00\",\"2018-07-09T00:00:00+00:00\",\"2018-07-10T00:00:00+00:00\",\"2018-07-11T00:00:00+00:00\",\"2018-07-12T00:00:00+00:00\",\"2018-07-13T00:00:00+00:00\",\"2018-07-14T00:00:00+00:00\",\"2018-07-15T00:00:00+00:00\",\"2018-07-16T00:00:00+00:00\",\"2018-07-17T00:00:00+00:00\",\"2018-07-18T00:00:00+00:00\",\"2018-07-19T00:00:00+00:00\",\"2018-07-20T00:00:00+00:00\",\"2018-07-21T00:00:00+00:00\",\"2018-07-22T00:00:00+00:00\",\"2018-07-23T00:00:00+00:00\",\"2018-07-24T00:00:00+00:00\",\"2018-07-25T00:00:00+00:00\",\"2018-07-26T00:00:00+00:00\",\"2018-07-27T00:00:00+00:00\",\"2018-07-28T00:00:00+00:00\",\"2018-07-29T00:00:00+00:00\",\"2018-07-30T00:00:00+00:00\",\"2018-07-31T00:00:00+00:00\",\"2018-08-01T00:00:00+00:00\",\"2018-08-02T00:00:00+00:00\",\"2018-08-03T00:00:00+00:00\",\"2018-08-04T00:00:00+00:00\",\"2018-08-05T00:00:00+00:00\",\"2018-08-06T00:00:00+00:00\",\"2018-08-07T00:00:00+00:00\",\"2018-08-08T00:00:00+00:00\",\"2018-08-09T00:00:00+00:00\",\"2018-08-10T00:00:00+00:00\",\"2018-08-11T00:00:00+00:00\",\"2018-08-12T00:00:00+00:00\",\"2018-08-13T00:00:00+00:00\",\"2018-08-14T00:00:00+00:00\",\"2018-08-15T00:00:00+00:00\",\"2018-08-16T00:00:00+00:00\",\"2018-08-17T00:00:00+00:00\",\"2018-08-18T00:00:00+00:00\",\"2018-08-19T00:00:00+00:00\",\"2018-08-20T00:00:00+00:00\",\"2018-08-21T00:00:00+00:00\",\"2018-08-22T00:00:00+00:00\",\"2018-08-23T00:00:00+00:00\",\"2018-08-24T00:00:00+00:00\",\"2018-08-25T00:00:00+00:00\",\"2018-08-26T00:00:00+00:00\",\"2018-08-27T00:00:00+00:00\",\"2018-08-28T00:00:00+00:00\",\"2018-08-29T00:00:00+00:00\",\"2018-08-30T00:00:00+00:00\",\"2018-08-31T00:00:00+00:00\",\"2018-09-01T00:00:00+00:00\",\"2018-09-02T00:00:00+00:00\",\"2018-09-03T00:00:00+00:00\",\"2018-09-04T00:00:00+00:00\",\"2018-09-05T00:00:00+00:00\",\"2018-09-06T00:00:00+00:00\",\"2018-09-07T00:00:00+00:00\",\"2018-09-08T00:00:00+00:00\",\"2018-09-09T00:00:00+00:00\",\"2018-09-10T00:00:00+00:00\",\"2018-09-11T00:00:00+00:00\",\"2018-09-12T00:00:00+00:00\",\"2018-09-13T00:00:00+00:00\",\"2018-09-14T00:00:00+00:00\",\"2018-09-15T00:00:00+00:00\",\"2018-09-16T00:00:00+00:00\",\"2018-09-17T00:00:00+00:00\",\"2018-09-18T00:00:00+00:00\",\"2018-09-19T00:00:00+00:00\",\"2018-09-20T00:00:00+00:00\",\"2018-09-21T00:00:00+00:00\",\"2018-09-22T00:00:00+00:00\",\"2018-09-23T00:00:00+00:00\",\"2018-09-24T00:00:00+00:00\",\"2018-09-25T00:00:00+00:00\",\"2018-09-26T00:00:00+00:00\",\"2018-09-27T00:00:00+00:00\",\"2018-09-28T00:00:00+00:00\",\"2018-09-29T00:00:00+00:00\",\"2018-09-30T00:00:00+00:00\",\"2018-10-01T00:00:00+00:00\",\"2018-10-02T00:00:00+00:00\",\"2018-10-03T00:00:00+00:00\",\"2018-10-04T00:00:00+00:00\",\"2018-10-05T00:00:00+00:00\",\"2018-10-06T00:00:00+00:00\",\"2018-10-07T00:00:00+00:00\",\"2018-10-08T00:00:00+00:00\",\"2018-10-09T00:00:00+00:00\",\"2018-10-10T00:00:00+00:00\",\"2018-10-11T00:00:00+00:00\",\"2018-10-12T00:00:00+00:00\",\"2018-10-13T00:00:00+00:00\",\"2018-10-14T00:00:00+00:00\",\"2018-10-15T00:00:00+00:00\",\"2018-10-16T00:00:00+00:00\",\"2018-10-17T00:00:00+00:00\",\"2018-10-18T00:00:00+00:00\",\"2018-10-19T00:00:00+00:00\",\"2018-10-20T00:00:00+00:00\",\"2018-10-21T00:00:00+00:00\",\"2018-10-22T00:00:00+00:00\",\"2018-10-23T00:00:00+00:00\",\"2018-10-24T00:00:00+00:00\",\"2018-10-25T00:00:00+00:00\",\"2018-10-26T00:00:00+00:00\",\"2018-10-27T00:00:00+00:00\",\"2018-10-28T00:00:00+00:00\",\"2018-10-29T00:00:00+00:00\",\"2018-10-30T00:00:00+00:00\",\"2018-10-31T00:00:00+00:00\",\"2018-11-01T00:00:00+00:00\",\"2018-11-02T00:00:00+00:00\",\"2018-11-03T00:00:00+00:00\",\"2018-11-04T00:00:00+00:00\",\"2018-11-05T00:00:00+00:00\",\"2018-11-06T00:00:00+00:00\",\"2018-11-07T00:00:00+00:00\",\"2018-11-08T00:00:00+00:00\",\"2018-11-09T00:00:00+00:00\",\"2018-11-10T00:00:00+00:00\",\"2018-11-11T00:00:00+00:00\",\"2018-11-12T00:00:00+00:00\",\"2018-11-13T00:00:00+00:00\",\"2018-11-14T00:00:00+00:00\",\"2018-11-15T00:00:00+00:00\",\"2018-11-16T00:00:00+00:00\",\"2018-11-17T00:00:00+00:00\",\"2018-11-18T00:00:00+00:00\",\"2018-11-19T00:00:00+00:00\",\"2018-11-20T00:00:00+00:00\",\"2018-11-21T00:00:00+00:00\",\"2018-11-22T00:00:00+00:00\",\"2018-11-23T00:00:00+00:00\",\"2018-11-24T00:00:00+00:00\",\"2018-11-25T00:00:00+00:00\",\"2018-11-26T00:00:00+00:00\",\"2018-11-27T00:00:00+00:00\",\"2018-11-28T00:00:00+00:00\",\"2018-11-29T00:00:00+00:00\",\"2018-11-30T00:00:00+00:00\",\"2018-12-01T00:00:00+00:00\",\"2018-12-02T00:00:00+00:00\",\"2018-12-03T00:00:00+00:00\",\"2018-12-04T00:00:00+00:00\",\"2018-12-05T00:00:00+00:00\",\"2018-12-06T00:00:00+00:00\",\"2018-12-07T00:00:00+00:00\",\"2018-12-08T00:00:00+00:00\",\"2018-12-09T00:00:00+00:00\",\"2018-12-10T00:00:00+00:00\",\"2018-12-11T00:00:00+00:00\",\"2018-12-12T00:00:00+00:00\",\"2018-12-13T00:00:00+00:00\",\"2018-12-14T00:00:00+00:00\",\"2018-12-15T00:00:00+00:00\",\"2018-12-16T00:00:00+00:00\",\"2018-12-17T00:00:00+00:00\",\"2018-12-18T00:00:00+00:00\",\"2018-12-19T00:00:00+00:00\",\"2018-12-20T00:00:00+00:00\",\"2018-12-21T00:00:00+00:00\",\"2018-12-22T00:00:00+00:00\",\"2018-12-23T00:00:00+00:00\",\"2018-12-24T00:00:00+00:00\",\"2018-12-25T00:00:00+00:00\",\"2018-12-26T00:00:00+00:00\",\"2018-12-27T00:00:00+00:00\",\"2018-12-28T00:00:00+00:00\",\"2018-12-29T00:00:00+00:00\",\"2018-12-30T00:00:00+00:00\",\"2018-12-31T00:00:00+00:00\",\"2019-01-01T00:00:00+00:00\",\"2019-01-02T00:00:00+00:00\",\"2019-01-03T00:00:00+00:00\",\"2019-01-04T00:00:00+00:00\",\"2019-01-05T00:00:00+00:00\",\"2019-01-06T00:00:00+00:00\",\"2019-01-07T00:00:00+00:00\",\"2019-01-08T00:00:00+00:00\",\"2019-01-09T00:00:00+00:00\",\"2019-01-10T00:00:00+00:00\",\"2019-01-11T00:00:00+00:00\",\"2019-01-12T00:00:00+00:00\",\"2019-01-13T00:00:00+00:00\",\"2019-01-14T00:00:00+00:00\",\"2019-01-15T00:00:00+00:00\",\"2019-01-16T00:00:00+00:00\",\"2019-01-17T00:00:00+00:00\",\"2019-01-18T00:00:00+00:00\",\"2019-01-19T00:00:00+00:00\",\"2019-01-20T00:00:00+00:00\",\"2019-01-21T00:00:00+00:00\",\"2019-01-22T00:00:00+00:00\",\"2019-01-23T00:00:00+00:00\",\"2019-01-24T00:00:00+00:00\",\"2019-01-25T00:00:00+00:00\",\"2019-01-26T00:00:00+00:00\",\"2019-01-27T00:00:00+00:00\",\"2019-01-28T00:00:00+00:00\",\"2019-01-29T00:00:00+00:00\",\"2019-01-30T00:00:00+00:00\",\"2019-01-31T00:00:00+00:00\",\"2019-02-01T00:00:00+00:00\",\"2019-02-02T00:00:00+00:00\",\"2019-02-03T00:00:00+00:00\",\"2019-02-04T00:00:00+00:00\",\"2019-02-05T00:00:00+00:00\",\"2019-02-06T00:00:00+00:00\",\"2019-02-07T00:00:00+00:00\",\"2019-02-08T00:00:00+00:00\",\"2019-02-09T00:00:00+00:00\",\"2019-02-10T00:00:00+00:00\",\"2019-02-11T00:00:00+00:00\",\"2019-02-12T00:00:00+00:00\",\"2019-02-13T00:00:00+00:00\",\"2019-02-14T00:00:00+00:00\",\"2019-02-15T00:00:00+00:00\",\"2019-02-16T00:00:00+00:00\",\"2019-02-17T00:00:00+00:00\",\"2019-02-18T00:00:00+00:00\",\"2019-02-19T00:00:00+00:00\",\"2019-02-20T00:00:00+00:00\",\"2019-02-21T00:00:00+00:00\",\"2019-02-22T00:00:00+00:00\",\"2019-02-23T00:00:00+00:00\",\"2019-02-24T00:00:00+00:00\",\"2019-02-25T00:00:00+00:00\",\"2019-02-26T00:00:00+00:00\",\"2019-02-27T00:00:00+00:00\",\"2019-02-28T00:00:00+00:00\",\"2019-02-28T00:00:00+00:00\",\"2019-03-01T00:00:00+00:00\",\"2019-03-02T00:00:00+00:00\",\"2019-03-03T00:00:00+00:00\",\"2019-03-04T00:00:00+00:00\",\"2019-03-05T00:00:00+00:00\",\"2019-03-06T00:00:00+00:00\",\"2019-03-07T00:00:00+00:00\",\"2019-03-08T00:00:00+00:00\",\"2019-03-09T00:00:00+00:00\",\"2019-03-10T00:00:00+00:00\",\"2019-03-11T00:00:00+00:00\",\"2019-03-12T00:00:00+00:00\",\"2019-03-13T00:00:00+00:00\",\"2019-03-14T00:00:00+00:00\",\"2019-03-15T00:00:00+00:00\",\"2019-03-16T00:00:00+00:00\",\"2019-03-17T00:00:00+00:00\",\"2019-03-18T00:00:00+00:00\",\"2019-03-19T00:00:00+00:00\",\"2019-03-20T00:00:00+00:00\",\"2019-03-21T00:00:00+00:00\",\"2019-03-22T00:00:00+00:00\",\"2019-03-23T00:00:00+00:00\",\"2019-03-24T00:00:00+00:00\",\"2019-03-25T00:00:00+00:00\",\"2019-03-26T00:00:00+00:00\",\"2019-03-27T00:00:00+00:00\",\"2019-03-28T00:00:00+00:00\",\"2019-03-29T00:00:00+00:00\",\"2019-03-30T00:00:00+00:00\",\"2019-03-31T00:00:00+00:00\",\"2019-04-01T00:00:00+00:00\",\"2019-04-02T00:00:00+00:00\",\"2019-04-03T00:00:00+00:00\",\"2019-04-04T00:00:00+00:00\",\"2019-04-05T00:00:00+00:00\",\"2019-04-06T00:00:00+00:00\",\"2019-04-07T00:00:00+00:00\",\"2019-04-08T00:00:00+00:00\",\"2019-04-09T00:00:00+00:00\",\"2019-04-10T00:00:00+00:00\",\"2019-04-11T00:00:00+00:00\",\"2019-04-12T00:00:00+00:00\",\"2019-04-13T00:00:00+00:00\",\"2019-04-14T00:00:00+00:00\",\"2019-04-15T00:00:00+00:00\",\"2019-04-16T00:00:00+00:00\",\"2019-04-17T00:00:00+00:00\",\"2019-04-18T00:00:00+00:00\",\"2019-04-19T00:00:00+00:00\",\"2019-04-20T00:00:00+00:00\",\"2019-04-21T00:00:00+00:00\",\"2019-04-22T00:00:00+00:00\",\"2019-04-23T00:00:00+00:00\",\"2019-04-24T00:00:00+00:00\",\"2019-04-25T00:00:00+00:00\",\"2019-04-26T00:00:00+00:00\",\"2019-04-27T00:00:00+00:00\",\"2019-04-28T00:00:00+00:00\",\"2019-04-29T00:00:00+00:00\",\"2019-04-30T00:00:00+00:00\",\"2019-05-01T00:00:00+00:00\",\"2019-05-02T00:00:00+00:00\",\"2019-05-03T00:00:00+00:00\",\"2019-05-04T00:00:00+00:00\",\"2019-05-05T00:00:00+00:00\",\"2019-05-06T00:00:00+00:00\",\"2019-05-07T00:00:00+00:00\",\"2019-05-08T00:00:00+00:00\",\"2019-05-09T00:00:00+00:00\",\"2019-05-10T00:00:00+00:00\",\"2019-05-11T00:00:00+00:00\",\"2019-05-12T00:00:00+00:00\",\"2019-05-13T00:00:00+00:00\",\"2019-05-14T00:00:00+00:00\",\"2019-05-15T00:00:00+00:00\",\"2019-05-16T00:00:00+00:00\",\"2019-05-17T00:00:00+00:00\",\"2019-05-18T00:00:00+00:00\",\"2019-05-19T00:00:00+00:00\",\"2019-05-20T00:00:00+00:00\",\"2019-05-21T00:00:00+00:00\",\"2019-05-22T00:00:00+00:00\",\"2019-05-23T00:00:00+00:00\",\"2019-05-24T00:00:00+00:00\",\"2019-05-25T00:00:00+00:00\",\"2019-05-26T00:00:00+00:00\",\"2019-05-27T00:00:00+00:00\",\"2019-05-28T00:00:00+00:00\",\"2019-05-29T00:00:00+00:00\",\"2019-05-30T00:00:00+00:00\",\"2019-05-31T00:00:00+00:00\",\"2019-06-01T00:00:00+00:00\",\"2019-06-02T00:00:00+00:00\",\"2019-06-03T00:00:00+00:00\",\"2019-06-04T00:00:00+00:00\",\"2019-06-05T00:00:00+00:00\",\"2019-06-06T00:00:00+00:00\",\"2019-06-07T00:00:00+00:00\",\"2019-06-08T00:00:00+00:00\",\"2019-06-09T00:00:00+00:00\",\"2019-06-10T00:00:00+00:00\",\"2019-06-11T00:00:00+00:00\",\"2019-06-12T00:00:00+00:00\",\"2019-06-13T00:00:00+00:00\",\"2019-06-14T00:00:00+00:00\",\"2019-06-15T00:00:00+00:00\",\"2019-06-16T00:00:00+00:00\",\"2019-06-17T00:00:00+00:00\",\"2019-06-18T00:00:00+00:00\",\"2019-06-19T00:00:00+00:00\",\"2019-06-20T00:00:00+00:00\",\"2019-06-21T00:00:00+00:00\",\"2019-06-22T00:00:00+00:00\",\"2019-06-23T00:00:00+00:00\",\"2019-06-24T00:00:00+00:00\",\"2019-06-25T00:00:00+00:00\",\"2019-06-26T00:00:00+00:00\",\"2019-06-27T00:00:00+00:00\",\"2019-06-28T00:00:00+00:00\",\"2019-06-29T00:00:00+00:00\",\"2019-06-30T00:00:00+00:00\",\"2019-07-01T00:00:00+00:00\",\"2019-07-02T00:00:00+00:00\",\"2019-07-03T00:00:00+00:00\",\"2019-07-04T00:00:00+00:00\",\"2019-07-05T00:00:00+00:00\",\"2019-07-06T00:00:00+00:00\",\"2019-07-07T00:00:00+00:00\",\"2019-07-08T00:00:00+00:00\",\"2019-07-09T00:00:00+00:00\",\"2019-07-10T00:00:00+00:00\",\"2019-07-11T00:00:00+00:00\",\"2019-07-12T00:00:00+00:00\",\"2019-07-13T00:00:00+00:00\",\"2019-07-14T00:00:00+00:00\",\"2019-07-15T00:00:00+00:00\",\"2019-07-16T00:00:00+00:00\",\"2019-07-17T00:00:00+00:00\",\"2019-07-18T00:00:00+00:00\",\"2019-07-19T00:00:00+00:00\",\"2019-07-20T00:00:00+00:00\",\"2019-07-21T00:00:00+00:00\",\"2019-07-22T00:00:00+00:00\",\"2019-07-23T00:00:00+00:00\",\"2019-07-24T00:00:00+00:00\",\"2019-07-25T00:00:00+00:00\",\"2019-07-26T00:00:00+00:00\",\"2019-07-27T00:00:00+00:00\",\"2019-07-28T00:00:00+00:00\",\"2019-07-29T00:00:00+00:00\",\"2019-07-30T00:00:00+00:00\",\"2019-07-31T00:00:00+00:00\",\"2019-08-01T00:00:00+00:00\",\"2019-08-02T00:00:00+00:00\",\"2019-08-03T00:00:00+00:00\",\"2019-08-04T00:00:00+00:00\",\"2019-08-05T00:00:00+00:00\",\"2019-08-06T00:00:00+00:00\",\"2019-08-07T00:00:00+00:00\",\"2019-08-08T00:00:00+00:00\",\"2019-08-09T00:00:00+00:00\",\"2019-08-10T00:00:00+00:00\",\"2019-08-11T00:00:00+00:00\",\"2019-08-12T00:00:00+00:00\",\"2019-08-13T00:00:00+00:00\",\"2019-08-14T00:00:00+00:00\",\"2019-08-15T00:00:00+00:00\",\"2019-08-16T00:00:00+00:00\",\"2019-08-17T00:00:00+00:00\",\"2019-08-18T00:00:00+00:00\",\"2019-08-19T00:00:00+00:00\",\"2019-08-20T00:00:00+00:00\",\"2019-08-21T00:00:00+00:00\",\"2019-08-22T00:00:00+00:00\",\"2019-08-23T00:00:00+00:00\",\"2019-08-24T00:00:00+00:00\",\"2019-08-25T00:00:00+00:00\",\"2019-08-26T00:00:00+00:00\",\"2019-08-27T00:00:00+00:00\",\"2019-08-28T00:00:00+00:00\",\"2019-08-29T00:00:00+00:00\",\"2019-08-30T00:00:00+00:00\",\"2019-08-31T00:00:00+00:00\",\"2019-09-01T00:00:00+00:00\",\"2019-09-02T00:00:00+00:00\",\"2019-09-03T00:00:00+00:00\",\"2019-09-04T00:00:00+00:00\",\"2019-09-05T00:00:00+00:00\",\"2019-09-06T00:00:00+00:00\",\"2019-09-07T00:00:00+00:00\",\"2019-09-08T00:00:00+00:00\",\"2019-09-09T00:00:00+00:00\",\"2019-09-10T00:00:00+00:00\",\"2019-09-11T00:00:00+00:00\",\"2019-09-12T00:00:00+00:00\",\"2019-09-13T00:00:00+00:00\",\"2019-09-14T00:00:00+00:00\",\"2019-09-15T00:00:00+00:00\",\"2019-09-16T00:00:00+00:00\",\"2019-09-17T00:00:00+00:00\",\"2019-09-18T00:00:00+00:00\",\"2019-09-19T00:00:00+00:00\",\"2019-09-20T00:00:00+00:00\",\"2019-09-21T00:00:00+00:00\",\"2019-09-22T00:00:00+00:00\",\"2019-09-23T00:00:00+00:00\",\"2019-09-24T00:00:00+00:00\",\"2019-09-25T00:00:00+00:00\",\"2019-09-26T00:00:00+00:00\",\"2019-09-27T00:00:00+00:00\",\"2019-09-28T00:00:00+00:00\",\"2019-09-29T00:00:00+00:00\",\"2019-09-30T00:00:00+00:00\",\"2019-10-01T00:00:00+00:00\",\"2019-10-02T00:00:00+00:00\",\"2019-10-03T00:00:00+00:00\",\"2019-10-04T00:00:00+00:00\",\"2019-10-05T00:00:00+00:00\",\"2019-10-06T00:00:00+00:00\",\"2019-10-07T00:00:00+00:00\",\"2019-10-08T00:00:00+00:00\",\"2019-10-09T00:00:00+00:00\",\"2019-10-10T00:00:00+00:00\",\"2019-10-11T00:00:00+00:00\",\"2019-10-12T00:00:00+00:00\",\"2019-10-13T00:00:00+00:00\",\"2019-10-14T00:00:00+00:00\",\"2019-10-15T00:00:00+00:00\",\"2019-10-16T00:00:00+00:00\",\"2019-10-17T00:00:00+00:00\",\"2019-10-18T00:00:00+00:00\",\"2019-10-19T00:00:00+00:00\",\"2019-10-20T00:00:00+00:00\",\"2019-10-21T00:00:00+00:00\",\"2019-10-22T00:00:00+00:00\",\"2019-10-23T00:00:00+00:00\",\"2019-10-24T00:00:00+00:00\",\"2019-10-25T00:00:00+00:00\",\"2019-10-26T00:00:00+00:00\",\"2019-10-27T00:00:00+00:00\",\"2019-10-28T00:00:00+00:00\",\"2019-10-29T00:00:00+00:00\",\"2019-10-30T00:00:00+00:00\",\"2019-10-31T00:00:00+00:00\",\"2019-11-01T00:00:00+00:00\",\"2019-11-02T00:00:00+00:00\",\"2019-11-03T00:00:00+00:00\",\"2019-11-04T00:00:00+00:00\",\"2019-11-05T00:00:00+00:00\",\"2019-11-06T00:00:00+00:00\",\"2019-11-07T00:00:00+00:00\",\"2019-11-08T00:00:00+00:00\",\"2019-11-09T00:00:00+00:00\",\"2019-11-10T00:00:00+00:00\",\"2019-11-11T00:00:00+00:00\",\"2019-11-12T00:00:00+00:00\",\"2019-11-13T00:00:00+00:00\",\"2019-11-14T00:00:00+00:00\",\"2019-11-15T00:00:00+00:00\",\"2019-11-16T00:00:00+00:00\",\"2019-11-17T00:00:00+00:00\",\"2019-11-18T00:00:00+00:00\",\"2019-11-19T00:00:00+00:00\",\"2019-11-20T00:00:00+00:00\",\"2019-11-21T00:00:00+00:00\",\"2019-11-22T00:00:00+00:00\",\"2019-11-23T00:00:00+00:00\",\"2019-11-24T00:00:00+00:00\",\"2019-11-25T00:00:00+00:00\",\"2019-11-26T00:00:00+00:00\",\"2019-11-27T00:00:00+00:00\",\"2019-11-28T00:00:00+00:00\",\"2019-11-29T00:00:00+00:00\",\"2019-11-30T00:00:00+00:00\",\"2019-12-01T00:00:00+00:00\",\"2019-12-02T00:00:00+00:00\",\"2019-12-03T00:00:00+00:00\",\"2019-12-04T00:00:00+00:00\",\"2019-12-05T00:00:00+00:00\",\"2019-12-06T00:00:00+00:00\",\"2019-12-07T00:00:00+00:00\",\"2019-12-08T00:00:00+00:00\",\"2019-12-09T00:00:00+00:00\",\"2019-12-10T00:00:00+00:00\",\"2019-12-11T00:00:00+00:00\",\"2019-12-12T00:00:00+00:00\",\"2019-12-13T00:00:00+00:00\",\"2019-12-14T00:00:00+00:00\",\"2019-12-15T00:00:00+00:00\",\"2019-12-16T00:00:00+00:00\",\"2019-12-17T00:00:00+00:00\",\"2019-12-18T00:00:00+00:00\",\"2019-12-19T00:00:00+00:00\",\"2019-12-20T00:00:00+00:00\",\"2019-12-21T00:00:00+00:00\",\"2019-12-22T00:00:00+00:00\",\"2019-12-23T00:00:00+00:00\",\"2019-12-24T00:00:00+00:00\",\"2019-12-25T00:00:00+00:00\",\"2019-12-26T00:00:00+00:00\",\"2019-12-27T00:00:00+00:00\",\"2019-12-28T00:00:00+00:00\",\"2019-12-29T00:00:00+00:00\",\"2019-12-30T00:00:00+00:00\",\"2019-12-31T00:00:00+00:00\",\"2020-01-01T00:00:00+00:00\",\"2020-01-02T00:00:00+00:00\",\"2020-01-03T00:00:00+00:00\",\"2020-01-04T00:00:00+00:00\",\"2020-01-05T00:00:00+00:00\",\"2020-01-06T00:00:00+00:00\",\"2020-01-07T00:00:00+00:00\",\"2020-01-08T00:00:00+00:00\",\"2020-01-09T00:00:00+00:00\",\"2020-01-10T00:00:00+00:00\",\"2020-01-11T00:00:00+00:00\",\"2020-01-12T00:00:00+00:00\",\"2020-01-13T00:00:00+00:00\",\"2020-01-14T00:00:00+00:00\",\"2020-01-15T00:00:00+00:00\",\"2020-01-16T00:00:00+00:00\",\"2020-01-17T00:00:00+00:00\",\"2020-01-18T00:00:00+00:00\",\"2020-01-19T00:00:00+00:00\",\"2020-01-20T00:00:00+00:00\",\"2020-01-21T00:00:00+00:00\",\"2020-01-22T00:00:00+00:00\",\"2020-01-23T00:00:00+00:00\",\"2020-01-24T00:00:00+00:00\",\"2020-01-25T00:00:00+00:00\",\"2020-01-26T00:00:00+00:00\",\"2020-01-27T00:00:00+00:00\",\"2020-01-28T00:00:00+00:00\",\"2020-01-29T00:00:00+00:00\",\"2020-01-30T00:00:00+00:00\",\"2020-01-31T00:00:00+00:00\",\"2020-02-01T00:00:00+00:00\",\"2020-02-02T00:00:00+00:00\",\"2020-02-03T00:00:00+00:00\",\"2020-02-04T00:00:00+00:00\",\"2020-02-05T00:00:00+00:00\",\"2020-02-06T00:00:00+00:00\",\"2020-02-07T00:00:00+00:00\",\"2020-02-08T00:00:00+00:00\",\"2020-02-09T00:00:00+00:00\",\"2020-02-10T00:00:00+00:00\",\"2020-02-11T00:00:00+00:00\",\"2020-02-12T00:00:00+00:00\",\"2020-02-13T00:00:00+00:00\",\"2020-02-14T00:00:00+00:00\",\"2020-02-15T00:00:00+00:00\",\"2020-02-16T00:00:00+00:00\",\"2020-02-17T00:00:00+00:00\",\"2020-02-18T00:00:00+00:00\",\"2020-02-19T00:00:00+00:00\",\"2020-02-20T00:00:00+00:00\",\"2020-02-21T00:00:00+00:00\",\"2020-02-22T00:00:00+00:00\",\"2020-02-23T00:00:00+00:00\",\"2020-02-24T00:00:00+00:00\",\"2020-02-25T00:00:00+00:00\",\"2020-02-26T00:00:00+00:00\",\"2020-02-27T00:00:00+00:00\",\"2020-02-28T00:00:00+00:00\",\"2020-03-01T00:00:00+00:00\",\"2020-03-02T00:00:00+00:00\",\"2020-03-03T00:00:00+00:00\",\"2020-03-04T00:00:00+00:00\",\"2020-03-05T00:00:00+00:00\",\"2020-03-06T00:00:00+00:00\",\"2020-03-07T00:00:00+00:00\",\"2020-03-08T00:00:00+00:00\",\"2020-03-09T00:00:00+00:00\",\"2020-03-10T00:00:00+00:00\",\"2020-03-11T00:00:00+00:00\",\"2020-03-12T00:00:00+00:00\",\"2020-03-13T00:00:00+00:00\",\"2020-03-14T00:00:00+00:00\",\"2020-03-15T00:00:00+00:00\",\"2020-03-16T00:00:00+00:00\",\"2020-03-17T00:00:00+00:00\",\"2020-03-18T00:00:00+00:00\",\"2020-03-19T00:00:00+00:00\",\"2020-03-20T00:00:00+00:00\",\"2020-03-21T00:00:00+00:00\",\"2020-03-22T00:00:00+00:00\",\"2020-03-23T00:00:00+00:00\",\"2020-03-24T00:00:00+00:00\",\"2020-03-25T00:00:00+00:00\",\"2020-03-26T00:00:00+00:00\",\"2020-03-27T00:00:00+00:00\",\"2020-03-28T00:00:00+00:00\",\"2020-03-29T00:00:00+00:00\",\"2020-03-30T00:00:00+00:00\",\"2020-03-31T00:00:00+00:00\",\"2020-04-01T00:00:00+00:00\",\"2020-04-02T00:00:00+00:00\",\"2020-04-03T00:00:00+00:00\",\"2020-04-04T00:00:00+00:00\",\"2020-04-05T00:00:00+00:00\",\"2020-04-06T00:00:00+00:00\",\"2020-04-07T00:00:00+00:00\",\"2020-04-08T00:00:00+00:00\",\"2020-04-09T00:00:00+00:00\",\"2020-04-10T00:00:00+00:00\",\"2020-04-11T00:00:00+00:00\",\"2020-04-12T00:00:00+00:00\",\"2020-04-13T00:00:00+00:00\",\"2020-04-14T00:00:00+00:00\",\"2020-04-15T00:00:00+00:00\",\"2020-04-16T00:00:00+00:00\",\"2020-04-17T00:00:00+00:00\",\"2020-04-18T00:00:00+00:00\",\"2020-04-19T00:00:00+00:00\",\"2020-04-20T00:00:00+00:00\",\"2020-04-21T00:00:00+00:00\",\"2020-04-22T00:00:00+00:00\",\"2020-04-23T00:00:00+00:00\",\"2020-04-24T00:00:00+00:00\",\"2020-04-25T00:00:00+00:00\",\"2020-04-26T00:00:00+00:00\",\"2020-04-27T00:00:00+00:00\",\"2020-04-28T00:00:00+00:00\",\"2020-04-29T00:00:00+00:00\",\"2020-04-30T00:00:00+00:00\",\"2020-05-01T00:00:00+00:00\",\"2020-05-02T00:00:00+00:00\",\"2020-05-03T00:00:00+00:00\",\"2020-05-04T00:00:00+00:00\",\"2020-05-05T00:00:00+00:00\",\"2020-05-06T00:00:00+00:00\",\"2020-05-07T00:00:00+00:00\",\"2020-05-08T00:00:00+00:00\",\"2020-05-09T00:00:00+00:00\",\"2020-05-10T00:00:00+00:00\",\"2020-05-11T00:00:00+00:00\",\"2020-05-12T00:00:00+00:00\",\"2020-05-13T00:00:00+00:00\",\"2020-05-14T00:00:00+00:00\",\"2020-05-15T00:00:00+00:00\",\"2020-05-16T00:00:00+00:00\",\"2020-05-17T00:00:00+00:00\",\"2020-05-18T00:00:00+00:00\",\"2020-05-19T00:00:00+00:00\",\"2020-05-20T00:00:00+00:00\",\"2020-05-21T00:00:00+00:00\",\"2020-05-22T00:00:00+00:00\",\"2020-05-23T00:00:00+00:00\",\"2020-05-24T00:00:00+00:00\",\"2020-05-25T00:00:00+00:00\",\"2020-05-26T00:00:00+00:00\",\"2020-05-27T00:00:00+00:00\",\"2020-05-28T00:00:00+00:00\",\"2020-05-29T00:00:00+00:00\",\"2020-05-30T00:00:00+00:00\",\"2020-05-31T00:00:00+00:00\",\"2020-06-01T00:00:00+00:00\",\"2020-06-02T00:00:00+00:00\",\"2020-06-03T00:00:00+00:00\",\"2020-06-04T00:00:00+00:00\",\"2020-06-05T00:00:00+00:00\",\"2020-06-06T00:00:00+00:00\",\"2020-06-07T00:00:00+00:00\",\"2020-06-08T00:00:00+00:00\",\"2020-06-09T00:00:00+00:00\",\"2020-06-10T00:00:00+00:00\",\"2020-06-11T00:00:00+00:00\",\"2020-06-12T00:00:00+00:00\",\"2020-06-13T00:00:00+00:00\",\"2020-06-14T00:00:00+00:00\",\"2020-06-15T00:00:00+00:00\",\"2020-06-16T00:00:00+00:00\",\"2020-06-17T00:00:00+00:00\",\"2020-06-18T00:00:00+00:00\",\"2020-06-19T00:00:00+00:00\",\"2020-06-20T00:00:00+00:00\",\"2020-06-21T00:00:00+00:00\",\"2020-06-22T00:00:00+00:00\",\"2020-06-23T00:00:00+00:00\",\"2020-06-24T00:00:00+00:00\",\"2020-06-25T00:00:00+00:00\",\"2020-06-26T00:00:00+00:00\",\"2020-06-27T00:00:00+00:00\",\"2020-06-28T00:00:00+00:00\",\"2020-06-29T00:00:00+00:00\",\"2020-06-30T00:00:00+00:00\",\"2020-07-01T00:00:00+00:00\",\"2020-07-02T00:00:00+00:00\",\"2020-07-03T00:00:00+00:00\",\"2020-07-04T00:00:00+00:00\",\"2020-07-05T00:00:00+00:00\",\"2020-07-06T00:00:00+00:00\",\"2020-07-07T00:00:00+00:00\",\"2020-07-08T00:00:00+00:00\",\"2020-07-09T00:00:00+00:00\",\"2020-07-10T00:00:00+00:00\",\"2020-07-11T00:00:00+00:00\",\"2020-07-12T00:00:00+00:00\",\"2020-07-13T00:00:00+00:00\",\"2020-07-14T00:00:00+00:00\",\"2020-07-15T00:00:00+00:00\",\"2020-07-16T00:00:00+00:00\",\"2020-07-17T00:00:00+00:00\",\"2020-07-18T00:00:00+00:00\",\"2020-07-19T00:00:00+00:00\",\"2020-07-20T00:00:00+00:00\",\"2020-07-21T00:00:00+00:00\",\"2020-07-22T00:00:00+00:00\",\"2020-07-23T00:00:00+00:00\",\"2020-07-24T00:00:00+00:00\",\"2020-07-25T00:00:00+00:00\",\"2020-07-26T00:00:00+00:00\",\"2020-07-27T00:00:00+00:00\",\"2020-07-28T00:00:00+00:00\",\"2020-07-29T00:00:00+00:00\",\"2020-07-30T00:00:00+00:00\",\"2020-07-31T00:00:00+00:00\",\"2020-08-01T00:00:00+00:00\",\"2020-08-02T00:00:00+00:00\",\"2020-08-03T00:00:00+00:00\",\"2020-08-04T00:00:00+00:00\",\"2020-08-05T00:00:00+00:00\",\"2020-08-06T00:00:00+00:00\",\"2020-08-07T00:00:00+00:00\",\"2020-08-08T00:00:00+00:00\",\"2020-08-09T00:00:00+00:00\",\"2020-08-10T00:00:00+00:00\",\"2020-08-11T00:00:00+00:00\",\"2020-08-12T00:00:00+00:00\",\"2020-08-13T00:00:00+00:00\",\"2020-08-14T00:00:00+00:00\",\"2020-08-15T00:00:00+00:00\",\"2020-08-16T00:00:00+00:00\",\"2020-08-17T00:00:00+00:00\",\"2020-08-18T00:00:00+00:00\",\"2020-08-19T00:00:00+00:00\",\"2020-08-20T00:00:00+00:00\",\"2020-08-21T00:00:00+00:00\",\"2020-08-22T00:00:00+00:00\",\"2020-08-23T00:00:00+00:00\",\"2020-08-24T00:00:00+00:00\",\"2020-08-25T00:00:00+00:00\",\"2020-08-26T00:00:00+00:00\",\"2020-08-27T00:00:00+00:00\",\"2020-08-28T00:00:00+00:00\",\"2020-08-29T00:00:00+00:00\",\"2020-08-30T00:00:00+00:00\",\"2020-08-31T00:00:00+00:00\",\"2020-09-01T00:00:00+00:00\",\"2020-09-02T00:00:00+00:00\",\"2020-09-03T00:00:00+00:00\",\"2020-09-04T00:00:00+00:00\",\"2020-09-05T00:00:00+00:00\",\"2020-09-06T00:00:00+00:00\",\"2020-09-07T00:00:00+00:00\",\"2020-09-08T00:00:00+00:00\",\"2020-09-09T00:00:00+00:00\",\"2020-09-10T00:00:00+00:00\",\"2020-09-11T00:00:00+00:00\",\"2020-09-12T00:00:00+00:00\",\"2020-09-13T00:00:00+00:00\",\"2020-09-14T00:00:00+00:00\",\"2020-09-15T00:00:00+00:00\",\"2020-09-16T00:00:00+00:00\",\"2020-09-17T00:00:00+00:00\",\"2020-09-18T00:00:00+00:00\",\"2020-09-19T00:00:00+00:00\",\"2020-09-20T00:00:00+00:00\",\"2020-09-21T00:00:00+00:00\",\"2020-09-22T00:00:00+00:00\",\"2020-09-23T00:00:00+00:00\",\"2020-09-24T00:00:00+00:00\",\"2020-09-25T00:00:00+00:00\",\"2020-09-26T00:00:00+00:00\",\"2020-09-27T00:00:00+00:00\",\"2020-09-28T00:00:00+00:00\",\"2020-09-29T00:00:00+00:00\",\"2020-09-30T00:00:00+00:00\",\"2020-10-01T00:00:00+00:00\",\"2020-10-02T00:00:00+00:00\",\"2020-10-03T00:00:00+00:00\",\"2020-10-04T00:00:00+00:00\",\"2020-10-05T00:00:00+00:00\",\"2020-10-06T00:00:00+00:00\",\"2020-10-07T00:00:00+00:00\",\"2020-10-08T00:00:00+00:00\",\"2020-10-09T00:00:00+00:00\",\"2020-10-10T00:00:00+00:00\",\"2020-10-11T00:00:00+00:00\",\"2020-10-12T00:00:00+00:00\",\"2020-10-13T00:00:00+00:00\",\"2020-10-14T00:00:00+00:00\",\"2020-10-15T00:00:00+00:00\",\"2020-10-16T00:00:00+00:00\",\"2020-10-17T00:00:00+00:00\",\"2020-10-18T00:00:00+00:00\",\"2020-10-19T00:00:00+00:00\",\"2020-10-20T00:00:00+00:00\",\"2020-10-21T00:00:00+00:00\",\"2020-10-22T00:00:00+00:00\",\"2020-10-23T00:00:00+00:00\",\"2020-10-24T00:00:00+00:00\",\"2020-10-25T00:00:00+00:00\",\"2020-10-26T00:00:00+00:00\",\"2020-10-27T00:00:00+00:00\",\"2020-10-28T00:00:00+00:00\",\"2020-10-29T00:00:00+00:00\",\"2020-10-30T00:00:00+00:00\",\"2020-10-31T00:00:00+00:00\",\"2020-11-01T00:00:00+00:00\",\"2020-11-02T00:00:00+00:00\",\"2020-11-03T00:00:00+00:00\",\"2020-11-04T00:00:00+00:00\",\"2020-11-05T00:00:00+00:00\",\"2020-11-06T00:00:00+00:00\",\"2020-11-07T00:00:00+00:00\",\"2020-11-08T00:00:00+00:00\",\"2020-11-09T00:00:00+00:00\",\"2020-11-10T00:00:00+00:00\",\"2020-11-11T00:00:00+00:00\",\"2020-11-12T00:00:00+00:00\",\"2020-11-13T00:00:00+00:00\",\"2020-11-14T00:00:00+00:00\",\"2020-11-15T00:00:00+00:00\",\"2020-11-16T00:00:00+00:00\",\"2020-11-17T00:00:00+00:00\",\"2020-11-18T00:00:00+00:00\",\"2020-11-19T00:00:00+00:00\",\"2020-11-20T00:00:00+00:00\",\"2020-11-21T00:00:00+00:00\",\"2020-11-22T00:00:00+00:00\",\"2020-11-23T00:00:00+00:00\",\"2020-11-24T00:00:00+00:00\",\"2020-11-25T00:00:00+00:00\",\"2020-11-26T00:00:00+00:00\",\"2020-11-27T00:00:00+00:00\",\"2020-11-28T00:00:00+00:00\",\"2020-11-29T00:00:00+00:00\",\"2020-11-30T00:00:00+00:00\",\"2020-12-01T00:00:00+00:00\",\"2020-12-02T00:00:00+00:00\",\"2020-12-03T00:00:00+00:00\",\"2020-12-04T00:00:00+00:00\",\"2020-12-05T00:00:00+00:00\",\"2020-12-06T00:00:00+00:00\",\"2020-12-07T00:00:00+00:00\",\"2020-12-08T00:00:00+00:00\",\"2020-12-09T00:00:00+00:00\",\"2020-12-10T00:00:00+00:00\",\"2020-12-11T00:00:00+00:00\",\"2020-12-12T00:00:00+00:00\",\"2020-12-13T00:00:00+00:00\",\"2020-12-14T00:00:00+00:00\",\"2020-12-15T00:00:00+00:00\",\"2020-12-16T00:00:00+00:00\",\"2020-12-17T00:00:00+00:00\",\"2020-12-18T00:00:00+00:00\",\"2020-12-19T00:00:00+00:00\",\"2020-12-20T00:00:00+00:00\",\"2020-12-21T00:00:00+00:00\",\"2020-12-22T00:00:00+00:00\",\"2020-12-23T00:00:00+00:00\",\"2020-12-24T00:00:00+00:00\",\"2020-12-25T00:00:00+00:00\",\"2020-12-26T00:00:00+00:00\",\"2020-12-27T00:00:00+00:00\",\"2020-12-28T00:00:00+00:00\",\"2020-12-29T00:00:00+00:00\",\"2020-12-30T00:00:00+00:00\",\"2020-12-31T00:00:00+00:00\",\"2021-01-01T00:00:00+00:00\",\"2021-01-02T00:00:00+00:00\",\"2021-01-03T00:00:00+00:00\",\"2021-01-04T00:00:00+00:00\",\"2021-01-05T00:00:00+00:00\",\"2021-01-06T00:00:00+00:00\",\"2021-01-07T00:00:00+00:00\",\"2021-01-08T00:00:00+00:00\",\"2021-01-09T00:00:00+00:00\",\"2021-01-10T00:00:00+00:00\",\"2021-01-11T00:00:00+00:00\",\"2021-01-12T00:00:00+00:00\",\"2021-01-13T00:00:00+00:00\",\"2021-01-14T00:00:00+00:00\",\"2021-01-15T00:00:00+00:00\",\"2021-01-16T00:00:00+00:00\",\"2021-01-17T00:00:00+00:00\",\"2021-01-18T00:00:00+00:00\",\"2021-01-19T00:00:00+00:00\",\"2021-01-20T00:00:00+00:00\",\"2021-01-21T00:00:00+00:00\",\"2021-01-22T00:00:00+00:00\",\"2021-01-23T00:00:00+00:00\",\"2021-01-24T00:00:00+00:00\",\"2021-01-25T00:00:00+00:00\",\"2021-01-26T00:00:00+00:00\",\"2021-01-27T00:00:00+00:00\",\"2021-01-28T00:00:00+00:00\",\"2021-01-29T00:00:00+00:00\",\"2021-01-30T00:00:00+00:00\",\"2021-01-31T00:00:00+00:00\",\"2021-02-01T00:00:00+00:00\",\"2021-02-02T00:00:00+00:00\",\"2021-02-03T00:00:00+00:00\",\"2021-02-04T00:00:00+00:00\",\"2021-02-05T00:00:00+00:00\",\"2021-02-06T00:00:00+00:00\",\"2021-02-07T00:00:00+00:00\",\"2021-02-08T00:00:00+00:00\",\"2021-02-09T00:00:00+00:00\",\"2021-02-10T00:00:00+00:00\",\"2021-02-11T00:00:00+00:00\",\"2021-02-12T00:00:00+00:00\",\"2021-02-13T00:00:00+00:00\",\"2021-02-14T00:00:00+00:00\",\"2021-02-15T00:00:00+00:00\",\"2021-02-16T00:00:00+00:00\",\"2021-02-17T00:00:00+00:00\",\"2021-02-18T00:00:00+00:00\",\"2021-02-19T00:00:00+00:00\",\"2021-02-20T00:00:00+00:00\",\"2021-02-21T00:00:00+00:00\",\"2021-02-22T00:00:00+00:00\",\"2021-02-23T00:00:00+00:00\",\"2021-02-24T00:00:00+00:00\",\"2021-02-25T00:00:00+00:00\",\"2021-02-26T00:00:00+00:00\",\"2021-02-27T00:00:00+00:00\",\"2021-02-28T00:00:00+00:00\",\"2021-03-01T00:00:00+00:00\",\"2021-03-02T00:00:00+00:00\",\"2021-03-03T00:00:00+00:00\",\"2021-03-04T00:00:00+00:00\",\"2021-03-05T00:00:00+00:00\",\"2021-03-06T00:00:00+00:00\",\"2021-03-07T00:00:00+00:00\",\"2021-03-08T00:00:00+00:00\",\"2021-03-09T00:00:00+00:00\",\"2021-03-10T00:00:00+00:00\",\"2021-03-11T00:00:00+00:00\",\"2021-03-12T00:00:00+00:00\",\"2021-03-13T00:00:00+00:00\",\"2021-03-14T00:00:00+00:00\",\"2021-03-15T00:00:00+00:00\",\"2021-03-16T00:00:00+00:00\",\"2021-03-17T00:00:00+00:00\",\"2021-03-18T00:00:00+00:00\",\"2021-03-19T00:00:00+00:00\",\"2021-03-20T00:00:00+00:00\",\"2021-03-21T00:00:00+00:00\",\"2021-03-22T00:00:00+00:00\",\"2021-03-23T00:00:00+00:00\",\"2021-03-24T00:00:00+00:00\",\"2021-03-25T00:00:00+00:00\",\"2021-03-26T00:00:00+00:00\",\"2021-03-27T00:00:00+00:00\",\"2021-03-28T00:00:00+00:00\",\"2021-03-29T00:00:00+00:00\",\"2021-03-30T00:00:00+00:00\",\"2021-03-31T00:00:00+00:00\",\"2021-04-01T00:00:00+00:00\",\"2021-04-02T00:00:00+00:00\",\"2021-04-03T00:00:00+00:00\",\"2021-04-04T00:00:00+00:00\",\"2021-04-05T00:00:00+00:00\",\"2021-04-06T00:00:00+00:00\",\"2021-04-07T00:00:00+00:00\",\"2021-04-08T00:00:00+00:00\",\"2021-04-09T00:00:00+00:00\",\"2021-04-10T00:00:00+00:00\",\"2021-04-11T00:00:00+00:00\",\"2021-04-12T00:00:00+00:00\",\"2021-04-13T00:00:00+00:00\",\"2021-04-14T00:00:00+00:00\",\"2021-04-15T00:00:00+00:00\",\"2021-04-16T00:00:00+00:00\",\"2021-04-17T00:00:00+00:00\",\"2021-04-18T00:00:00+00:00\",\"2021-04-19T00:00:00+00:00\",\"2021-04-20T00:00:00+00:00\",\"2021-04-21T00:00:00+00:00\",\"2021-04-22T00:00:00+00:00\",\"2021-04-23T00:00:00+00:00\",\"2021-04-24T00:00:00+00:00\",\"2021-04-25T00:00:00+00:00\",\"2021-04-26T00:00:00+00:00\",\"2021-04-27T00:00:00+00:00\",\"2021-04-28T00:00:00+00:00\",\"2021-04-29T00:00:00+00:00\",\"2021-04-30T00:00:00+00:00\",\"2021-05-01T00:00:00+00:00\",\"2021-05-02T00:00:00+00:00\",\"2021-05-03T00:00:00+00:00\",\"2021-05-04T00:00:00+00:00\",\"2021-05-05T00:00:00+00:00\",\"2021-05-06T00:00:00+00:00\",\"2021-05-07T00:00:00+00:00\",\"2021-05-08T00:00:00+00:00\",\"2021-05-09T00:00:00+00:00\",\"2021-05-10T00:00:00+00:00\",\"2021-05-11T00:00:00+00:00\",\"2021-05-12T00:00:00+00:00\",\"2021-05-13T00:00:00+00:00\",\"2021-05-14T00:00:00+00:00\",\"2021-05-15T00:00:00+00:00\",\"2021-05-16T00:00:00+00:00\",\"2021-05-17T00:00:00+00:00\",\"2021-05-18T00:00:00+00:00\",\"2021-05-19T00:00:00+00:00\",\"2021-05-20T00:00:00+00:00\",\"2021-05-21T00:00:00+00:00\",\"2021-05-22T00:00:00+00:00\",\"2021-05-23T00:00:00+00:00\",\"2021-05-24T00:00:00+00:00\",\"2021-05-25T00:00:00+00:00\",\"2021-05-26T00:00:00+00:00\",\"2021-05-27T00:00:00+00:00\",\"2021-05-28T00:00:00+00:00\",\"2021-05-29T00:00:00+00:00\",\"2021-05-30T00:00:00+00:00\",\"2021-05-31T00:00:00+00:00\",\"2021-06-01T00:00:00+00:00\",\"2021-06-02T00:00:00+00:00\",\"2021-06-03T00:00:00+00:00\",\"2021-06-04T00:00:00+00:00\",\"2021-06-05T00:00:00+00:00\",\"2021-06-06T00:00:00+00:00\",\"2021-06-07T00:00:00+00:00\",\"2021-06-08T00:00:00+00:00\",\"2021-06-09T00:00:00+00:00\",\"2021-06-10T00:00:00+00:00\",\"2021-06-11T00:00:00+00:00\",\"2021-06-12T00:00:00+00:00\",\"2021-06-13T00:00:00+00:00\",\"2021-06-14T00:00:00+00:00\",\"2021-06-15T00:00:00+00:00\",\"2021-06-16T00:00:00+00:00\",\"2021-06-17T00:00:00+00:00\",\"2021-06-18T00:00:00+00:00\",\"2021-06-19T00:00:00+00:00\",\"2021-06-20T00:00:00+00:00\",\"2021-06-21T00:00:00+00:00\",\"2021-06-22T00:00:00+00:00\",\"2021-06-23T00:00:00+00:00\",\"2021-06-24T00:00:00+00:00\",\"2021-06-25T00:00:00+00:00\",\"2021-06-26T00:00:00+00:00\",\"2021-06-27T00:00:00+00:00\",\"2021-06-28T00:00:00+00:00\",\"2021-06-29T00:00:00+00:00\",\"2021-06-30T00:00:00+00:00\",\"2021-07-01T00:00:00+00:00\",\"2021-07-02T00:00:00+00:00\",\"2021-07-03T00:00:00+00:00\",\"2021-07-04T00:00:00+00:00\",\"2021-07-05T00:00:00+00:00\",\"2021-07-06T00:00:00+00:00\",\"2021-07-07T00:00:00+00:00\",\"2021-07-08T00:00:00+00:00\",\"2021-07-09T00:00:00+00:00\",\"2021-07-10T00:00:00+00:00\",\"2021-07-11T00:00:00+00:00\",\"2021-07-12T00:00:00+00:00\",\"2021-07-13T00:00:00+00:00\",\"2021-07-14T00:00:00+00:00\",\"2021-07-15T00:00:00+00:00\",\"2021-07-16T00:00:00+00:00\",\"2021-07-17T00:00:00+00:00\",\"2021-07-18T00:00:00+00:00\",\"2021-07-19T00:00:00+00:00\",\"2021-07-20T00:00:00+00:00\",\"2021-07-21T00:00:00+00:00\",\"2021-07-22T00:00:00+00:00\",\"2021-07-23T00:00:00+00:00\",\"2021-07-24T00:00:00+00:00\",\"2021-07-25T00:00:00+00:00\",\"2021-07-26T00:00:00+00:00\",\"2021-07-27T00:00:00+00:00\",\"2021-07-28T00:00:00+00:00\",\"2021-07-29T00:00:00+00:00\",\"2021-07-30T00:00:00+00:00\",\"2021-07-31T00:00:00+00:00\",\"2021-08-01T00:00:00+00:00\",\"2021-08-02T00:00:00+00:00\",\"2021-08-03T00:00:00+00:00\",\"2021-08-04T00:00:00+00:00\",\"2021-08-05T00:00:00+00:00\",\"2021-08-06T00:00:00+00:00\",\"2021-08-07T00:00:00+00:00\",\"2021-08-08T00:00:00+00:00\",\"2021-08-09T00:00:00+00:00\",\"2021-08-10T00:00:00+00:00\",\"2021-08-11T00:00:00+00:00\",\"2021-08-12T00:00:00+00:00\",\"2021-08-13T00:00:00+00:00\",\"2021-08-14T00:00:00+00:00\",\"2021-08-15T00:00:00+00:00\",\"2021-08-16T00:00:00+00:00\",\"2021-08-17T00:00:00+00:00\",\"2021-08-18T00:00:00+00:00\",\"2021-08-19T00:00:00+00:00\",\"2021-08-20T00:00:00+00:00\",\"2021-08-21T00:00:00+00:00\",\"2021-08-22T00:00:00+00:00\",\"2021-08-23T00:00:00+00:00\",\"2021-08-24T00:00:00+00:00\",\"2021-08-25T00:00:00+00:00\",\"2021-08-26T00:00:00+00:00\",\"2021-08-27T00:00:00+00:00\",\"2021-08-28T00:00:00+00:00\",\"2021-08-29T00:00:00+00:00\",\"2021-08-30T00:00:00+00:00\",\"2021-08-31T00:00:00+00:00\",\"2021-09-01T00:00:00+00:00\",\"2021-09-02T00:00:00+00:00\",\"2021-09-03T00:00:00+00:00\",\"2021-09-04T00:00:00+00:00\",\"2021-09-05T00:00:00+00:00\",\"2021-09-06T00:00:00+00:00\",\"2021-09-07T00:00:00+00:00\",\"2021-09-08T00:00:00+00:00\",\"2021-09-09T00:00:00+00:00\",\"2021-09-10T00:00:00+00:00\",\"2021-09-11T00:00:00+00:00\",\"2021-09-12T00:00:00+00:00\",\"2021-09-13T00:00:00+00:00\",\"2021-09-14T00:00:00+00:00\",\"2021-09-15T00:00:00+00:00\",\"2021-09-16T00:00:00+00:00\",\"2021-09-17T00:00:00+00:00\",\"2021-09-18T00:00:00+00:00\",\"2021-09-19T00:00:00+00:00\",\"2021-09-20T00:00:00+00:00\",\"2021-09-21T00:00:00+00:00\",\"2021-09-22T00:00:00+00:00\",\"2021-09-23T00:00:00+00:00\",\"2021-09-24T00:00:00+00:00\",\"2021-09-25T00:00:00+00:00\",\"2021-09-26T00:00:00+00:00\",\"2021-09-27T00:00:00+00:00\",\"2021-09-28T00:00:00+00:00\",\"2021-09-29T00:00:00+00:00\",\"2021-09-30T00:00:00+00:00\",\"2021-10-01T00:00:00+00:00\",\"2021-10-02T00:00:00+00:00\",\"2021-10-03T00:00:00+00:00\",\"2021-10-04T00:00:00+00:00\",\"2021-10-05T00:00:00+00:00\",\"2021-10-06T00:00:00+00:00\",\"2021-10-07T00:00:00+00:00\",\"2021-10-08T00:00:00+00:00\",\"2021-10-09T00:00:00+00:00\",\"2021-10-10T00:00:00+00:00\",\"2021-10-11T00:00:00+00:00\",\"2021-10-12T00:00:00+00:00\",\"2021-10-13T00:00:00+00:00\",\"2021-10-14T00:00:00+00:00\",\"2021-10-15T00:00:00+00:00\",\"2021-10-16T00:00:00+00:00\",\"2021-10-17T00:00:00+00:00\",\"2021-10-18T00:00:00+00:00\",\"2021-10-19T00:00:00+00:00\",\"2021-10-20T00:00:00+00:00\",\"2021-10-21T00:00:00+00:00\",\"2021-10-22T00:00:00+00:00\",\"2021-10-23T00:00:00+00:00\",\"2021-10-24T00:00:00+00:00\",\"2021-10-25T00:00:00+00:00\",\"2021-10-26T00:00:00+00:00\",\"2021-10-27T00:00:00+00:00\",\"2021-10-28T00:00:00+00:00\",\"2021-10-29T00:00:00+00:00\",\"2021-10-30T00:00:00+00:00\",\"2021-10-31T00:00:00+00:00\",\"2021-11-01T00:00:00+00:00\",\"2021-11-02T00:00:00+00:00\",\"2021-11-03T00:00:00+00:00\",\"2021-11-04T00:00:00+00:00\",\"2021-11-05T00:00:00+00:00\",\"2021-11-06T00:00:00+00:00\",\"2021-11-07T00:00:00+00:00\",\"2021-11-08T00:00:00+00:00\",\"2021-11-09T00:00:00+00:00\",\"2021-11-10T00:00:00+00:00\",\"2021-11-11T00:00:00+00:00\",\"2021-11-12T00:00:00+00:00\",\"2021-11-13T00:00:00+00:00\",\"2021-11-14T00:00:00+00:00\",\"2021-11-15T00:00:00+00:00\",\"2021-11-16T00:00:00+00:00\",\"2021-11-17T00:00:00+00:00\",\"2021-11-18T00:00:00+00:00\",\"2021-11-19T00:00:00+00:00\",\"2021-11-20T00:00:00+00:00\",\"2021-11-21T00:00:00+00:00\",\"2021-11-22T00:00:00+00:00\",\"2021-11-23T00:00:00+00:00\",\"2021-11-24T00:00:00+00:00\",\"2021-11-25T00:00:00+00:00\",\"2021-11-26T00:00:00+00:00\",\"2021-11-27T00:00:00+00:00\",\"2021-11-28T00:00:00+00:00\",\"2021-11-29T00:00:00+00:00\",\"2021-11-30T00:00:00+00:00\",\"2021-12-01T00:00:00+00:00\",\"2021-12-02T00:00:00+00:00\",\"2021-12-03T00:00:00+00:00\",\"2021-12-04T00:00:00+00:00\",\"2021-12-05T00:00:00+00:00\",\"2021-12-06T00:00:00+00:00\",\"2021-12-07T00:00:00+00:00\",\"2021-12-08T00:00:00+00:00\",\"2021-12-09T00:00:00+00:00\",\"2021-12-10T00:00:00+00:00\",\"2021-12-11T00:00:00+00:00\",\"2021-12-12T00:00:00+00:00\",\"2021-12-13T00:00:00+00:00\",\"2021-12-14T00:00:00+00:00\",\"2021-12-15T00:00:00+00:00\",\"2021-12-16T00:00:00+00:00\",\"2021-12-17T00:00:00+00:00\",\"2021-12-18T00:00:00+00:00\",\"2021-12-19T00:00:00+00:00\",\"2021-12-20T00:00:00+00:00\",\"2021-12-21T00:00:00+00:00\",\"2021-12-22T00:00:00+00:00\",\"2021-12-23T00:00:00+00:00\",\"2021-12-24T00:00:00+00:00\",\"2021-12-25T00:00:00+00:00\",\"2021-12-26T00:00:00+00:00\",\"2021-12-27T00:00:00+00:00\",\"2021-12-28T00:00:00+00:00\",\"2021-12-29T00:00:00+00:00\",\"2021-12-30T00:00:00+00:00\",\"2021-12-31T00:00:00+00:00\",\"2022-01-01T00:00:00+00:00\",\"2022-01-02T00:00:00+00:00\",\"2022-01-03T00:00:00+00:00\",\"2022-01-04T00:00:00+00:00\",\"2022-01-05T00:00:00+00:00\",\"2022-01-06T00:00:00+00:00\",\"2022-01-07T00:00:00+00:00\",\"2022-01-08T00:00:00+00:00\",\"2022-01-09T00:00:00+00:00\",\"2022-01-10T00:00:00+00:00\",\"2022-01-11T00:00:00+00:00\",\"2022-01-12T00:00:00+00:00\",\"2022-01-13T00:00:00+00:00\",\"2022-01-14T00:00:00+00:00\",\"2022-01-15T00:00:00+00:00\",\"2022-01-16T00:00:00+00:00\",\"2022-01-17T00:00:00+00:00\",\"2022-01-18T00:00:00+00:00\",\"2022-01-19T00:00:00+00:00\",\"2022-01-20T00:00:00+00:00\",\"2022-01-21T00:00:00+00:00\",\"2022-01-22T00:00:00+00:00\",\"2022-01-23T00:00:00+00:00\",\"2022-01-24T00:00:00+00:00\",\"2022-01-25T00:00:00+00:00\",\"2022-01-26T00:00:00+00:00\",\"2022-01-27T00:00:00+00:00\",\"2022-01-28T00:00:00+00:00\",\"2022-01-29T00:00:00+00:00\",\"2022-01-30T00:00:00+00:00\",\"2022-01-31T00:00:00+00:00\",\"2022-02-01T00:00:00+00:00\",\"2022-02-02T00:00:00+00:00\",\"2022-02-03T00:00:00+00:00\",\"2022-02-04T00:00:00+00:00\",\"2022-02-05T00:00:00+00:00\",\"2022-02-06T00:00:00+00:00\",\"2022-02-07T00:00:00+00:00\",\"2022-02-08T00:00:00+00:00\",\"2022-02-09T00:00:00+00:00\",\"2022-02-10T00:00:00+00:00\",\"2022-02-11T00:00:00+00:00\",\"2022-02-12T00:00:00+00:00\",\"2022-02-13T00:00:00+00:00\",\"2022-02-14T00:00:00+00:00\",\"2022-02-15T00:00:00+00:00\",\"2022-02-16T00:00:00+00:00\",\"2022-02-17T00:00:00+00:00\",\"2022-02-18T00:00:00+00:00\",\"2022-02-19T00:00:00+00:00\",\"2022-02-20T00:00:00+00:00\",\"2022-02-21T00:00:00+00:00\",\"2022-02-22T00:00:00+00:00\",\"2022-02-23T00:00:00+00:00\",\"2022-02-24T00:00:00+00:00\",\"2022-02-25T00:00:00+00:00\",\"2022-02-26T00:00:00+00:00\",\"2022-02-27T00:00:00+00:00\",\"2022-02-28T00:00:00+00:00\",\"2022-03-01T00:00:00+00:00\",\"2022-03-02T00:00:00+00:00\",\"2022-03-03T00:00:00+00:00\",\"2022-03-04T00:00:00+00:00\",\"2022-03-05T00:00:00+00:00\",\"2022-03-06T00:00:00+00:00\",\"2022-03-07T00:00:00+00:00\",\"2022-03-08T00:00:00+00:00\",\"2022-03-09T00:00:00+00:00\",\"2022-03-10T00:00:00+00:00\",\"2022-03-11T00:00:00+00:00\",\"2022-03-12T00:00:00+00:00\",\"2022-03-13T00:00:00+00:00\",\"2022-03-14T00:00:00+00:00\",\"2022-03-15T00:00:00+00:00\",\"2022-03-16T00:00:00+00:00\",\"2022-03-17T00:00:00+00:00\",\"2022-03-18T00:00:00+00:00\",\"2022-03-19T00:00:00+00:00\",\"2022-03-20T00:00:00+00:00\",\"2022-03-21T00:00:00+00:00\",\"2022-03-22T00:00:00+00:00\",\"2022-03-23T00:00:00+00:00\",\"2022-03-24T00:00:00+00:00\",\"2022-03-25T00:00:00+00:00\",\"2022-03-26T00:00:00+00:00\",\"2022-03-27T00:00:00+00:00\",\"2022-03-28T00:00:00+00:00\",\"2022-03-29T00:00:00+00:00\",\"2022-03-30T00:00:00+00:00\",\"2022-03-31T00:00:00+00:00\",\"2022-04-01T00:00:00+00:00\",\"2022-04-02T00:00:00+00:00\",\"2022-04-03T00:00:00+00:00\",\"2022-04-04T00:00:00+00:00\",\"2022-04-05T00:00:00+00:00\",\"2022-04-06T00:00:00+00:00\",\"2022-04-07T00:00:00+00:00\",\"2022-04-08T00:00:00+00:00\",\"2022-04-09T00:00:00+00:00\",\"2022-04-10T00:00:00+00:00\",\"2022-04-11T00:00:00+00:00\",\"2022-04-12T00:00:00+00:00\",\"2022-04-13T00:00:00+00:00\",\"2022-04-14T00:00:00+00:00\",\"2022-04-15T00:00:00+00:00\",\"2022-04-16T00:00:00+00:00\",\"2022-04-17T00:00:00+00:00\",\"2022-04-18T00:00:00+00:00\",\"2022-04-19T00:00:00+00:00\",\"2022-04-20T00:00:00+00:00\",\"2022-04-21T00:00:00+00:00\",\"2022-04-22T00:00:00+00:00\",\"2022-04-23T00:00:00+00:00\",\"2022-04-24T00:00:00+00:00\",\"2022-04-25T00:00:00+00:00\",\"2022-04-26T00:00:00+00:00\",\"2022-04-27T00:00:00+00:00\",\"2022-04-28T00:00:00+00:00\",\"2022-04-29T00:00:00+00:00\",\"2022-04-30T00:00:00+00:00\",\"2022-05-01T00:00:00+00:00\",\"2022-05-02T00:00:00+00:00\",\"2022-05-03T00:00:00+00:00\",\"2022-05-04T00:00:00+00:00\",\"2022-05-05T00:00:00+00:00\",\"2022-05-06T00:00:00+00:00\",\"2022-05-07T00:00:00+00:00\",\"2022-05-08T00:00:00+00:00\",\"2022-05-09T00:00:00+00:00\",\"2022-05-10T00:00:00+00:00\",\"2022-05-11T00:00:00+00:00\",\"2022-05-12T00:00:00+00:00\",\"2022-05-13T00:00:00+00:00\",\"2022-05-14T00:00:00+00:00\",\"2022-05-15T00:00:00+00:00\",\"2022-05-16T00:00:00+00:00\",\"2022-05-17T00:00:00+00:00\",\"2022-05-18T00:00:00+00:00\",\"2022-05-19T00:00:00+00:00\",\"2022-05-20T00:00:00+00:00\",\"2022-05-21T00:00:00+00:00\",\"2022-05-22T00:00:00+00:00\",\"2022-05-23T00:00:00+00:00\",\"2022-05-24T00:00:00+00:00\",\"2022-05-25T00:00:00+00:00\",\"2022-05-26T00:00:00+00:00\",\"2022-05-27T00:00:00+00:00\",\"2022-05-28T00:00:00+00:00\",\"2022-05-29T00:00:00+00:00\",\"2022-05-30T00:00:00+00:00\",\"2022-05-31T00:00:00+00:00\",\"2022-06-01T00:00:00+00:00\",\"2022-06-02T00:00:00+00:00\",\"2022-06-03T00:00:00+00:00\",\"2022-06-04T00:00:00+00:00\",\"2022-06-05T00:00:00+00:00\",\"2022-06-06T00:00:00+00:00\",\"2022-06-07T00:00:00+00:00\",\"2022-06-08T00:00:00+00:00\",\"2022-06-09T00:00:00+00:00\",\"2022-06-10T00:00:00+00:00\",\"2022-06-11T00:00:00+00:00\",\"2022-06-12T00:00:00+00:00\",\"2022-06-13T00:00:00+00:00\",\"2022-06-14T00:00:00+00:00\",\"2022-06-15T00:00:00+00:00\",\"2022-06-16T00:00:00+00:00\",\"2022-06-17T00:00:00+00:00\",\"2022-06-18T00:00:00+00:00\",\"2022-06-19T00:00:00+00:00\",\"2022-06-20T00:00:00+00:00\",\"2022-06-21T00:00:00+00:00\",\"2022-06-22T00:00:00+00:00\",\"2022-06-23T00:00:00+00:00\",\"2022-06-24T00:00:00+00:00\",\"2022-06-25T00:00:00+00:00\",\"2022-06-26T00:00:00+00:00\",\"2022-06-27T00:00:00+00:00\",\"2022-06-28T00:00:00+00:00\",\"2022-06-29T00:00:00+00:00\",\"2022-06-30T00:00:00+00:00\",\"2022-07-01T00:00:00+00:00\",\"2022-07-02T00:00:00+00:00\",\"2022-07-03T00:00:00+00:00\",\"2022-07-04T00:00:00+00:00\",\"2022-07-05T00:00:00+00:00\",\"2022-07-06T00:00:00+00:00\",\"2022-07-07T00:00:00+00:00\",\"2022-07-08T00:00:00+00:00\",\"2022-07-09T00:00:00+00:00\",\"2022-07-10T00:00:00+00:00\",\"2022-07-11T00:00:00+00:00\",\"2022-07-12T00:00:00+00:00\",\"2022-07-13T00:00:00+00:00\",\"2022-07-14T00:00:00+00:00\",\"2022-07-15T00:00:00+00:00\",\"2022-07-16T00:00:00+00:00\",\"2022-07-17T00:00:00+00:00\",\"2022-07-18T00:00:00+00:00\",\"2022-07-19T00:00:00+00:00\",\"2022-07-20T00:00:00+00:00\",\"2022-07-21T00:00:00+00:00\",\"2022-07-22T00:00:00+00:00\",\"2022-07-23T00:00:00+00:00\",\"2022-07-24T00:00:00+00:00\",\"2022-07-25T00:00:00+00:00\",\"2022-07-26T00:00:00+00:00\",\"2022-07-27T00:00:00+00:00\",\"2022-07-28T00:00:00+00:00\",\"2022-07-29T00:00:00+00:00\",\"2022-07-30T00:00:00+00:00\",\"2022-07-31T00:00:00+00:00\",\"2022-08-01T00:00:00+00:00\",\"2022-08-02T00:00:00+00:00\",\"2022-08-03T00:00:00+00:00\",\"2022-08-04T00:00:00+00:00\",\"2022-08-05T00:00:00+00:00\",\"2022-08-06T00:00:00+00:00\",\"2022-08-07T00:00:00+00:00\",\"2022-08-08T00:00:00+00:00\",\"2022-08-09T00:00:00+00:00\",\"2022-08-10T00:00:00+00:00\",\"2022-08-11T00:00:00+00:00\",\"2022-08-12T00:00:00+00:00\",\"2022-08-13T00:00:00+00:00\",\"2022-08-14T00:00:00+00:00\",\"2022-08-15T00:00:00+00:00\",\"2022-08-16T00:00:00+00:00\",\"2022-08-17T00:00:00+00:00\",\"2022-08-18T00:00:00+00:00\",\"2022-08-19T00:00:00+00:00\",\"2022-08-20T00:00:00+00:00\",\"2022-08-21T00:00:00+00:00\",\"2022-08-22T00:00:00+00:00\",\"2022-08-23T00:00:00+00:00\",\"2022-08-24T00:00:00+00:00\",\"2022-08-25T00:00:00+00:00\",\"2022-08-26T00:00:00+00:00\",\"2022-08-27T00:00:00+00:00\",\"2022-08-28T00:00:00+00:00\",\"2022-08-29T00:00:00+00:00\",\"2022-08-30T00:00:00+00:00\",\"2022-08-31T00:00:00+00:00\",\"2022-09-01T00:00:00+00:00\",\"2022-09-02T00:00:00+00:00\",\"2022-09-03T00:00:00+00:00\",\"2022-09-04T00:00:00+00:00\",\"2022-09-05T00:00:00+00:00\",\"2022-09-06T00:00:00+00:00\",\"2022-09-07T00:00:00+00:00\",\"2022-09-08T00:00:00+00:00\",\"2022-09-09T00:00:00+00:00\",\"2022-09-10T00:00:00+00:00\",\"2022-09-11T00:00:00+00:00\",\"2022-09-12T00:00:00+00:00\",\"2022-09-13T00:00:00+00:00\",\"2022-09-14T00:00:00+00:00\",\"2022-09-15T00:00:00+00:00\",\"2022-09-16T00:00:00+00:00\",\"2022-09-17T00:00:00+00:00\",\"2022-09-18T00:00:00+00:00\",\"2022-09-19T00:00:00+00:00\",\"2022-09-20T00:00:00+00:00\",\"2022-09-21T00:00:00+00:00\",\"2022-09-22T00:00:00+00:00\",\"2022-09-23T00:00:00+00:00\",\"2022-09-24T00:00:00+00:00\",\"2022-09-25T00:00:00+00:00\",\"2022-09-26T00:00:00+00:00\",\"2022-09-27T00:00:00+00:00\",\"2022-09-28T00:00:00+00:00\",\"2022-09-29T00:00:00+00:00\",\"2022-09-30T00:00:00+00:00\",\"2022-10-01T00:00:00+00:00\",\"2022-10-02T00:00:00+00:00\",\"2022-10-03T00:00:00+00:00\",\"2022-10-04T00:00:00+00:00\",\"2022-10-05T00:00:00+00:00\",\"2022-10-06T00:00:00+00:00\",\"2022-10-07T00:00:00+00:00\",\"2022-10-08T00:00:00+00:00\",\"2022-10-09T00:00:00+00:00\",\"2022-10-10T00:00:00+00:00\",\"2022-10-11T00:00:00+00:00\",\"2022-10-12T00:00:00+00:00\",\"2022-10-13T00:00:00+00:00\",\"2022-10-14T00:00:00+00:00\",\"2022-10-15T00:00:00+00:00\",\"2022-10-16T00:00:00+00:00\",\"2022-10-17T00:00:00+00:00\",\"2022-10-18T00:00:00+00:00\",\"2022-10-19T00:00:00+00:00\",\"2022-10-20T00:00:00+00:00\",\"2022-10-21T00:00:00+00:00\",\"2022-10-22T00:00:00+00:00\",\"2022-10-23T00:00:00+00:00\",\"2022-10-24T00:00:00+00:00\",\"2022-10-25T00:00:00+00:00\",\"2022-10-26T00:00:00+00:00\",\"2022-10-27T00:00:00+00:00\",\"2022-10-28T00:00:00+00:00\",\"2022-10-29T00:00:00+00:00\",\"2022-10-30T00:00:00+00:00\",\"2022-10-31T00:00:00+00:00\",\"2022-11-01T00:00:00+00:00\",\"2022-11-02T00:00:00+00:00\",\"2022-11-03T00:00:00+00:00\",\"2022-11-04T00:00:00+00:00\",\"2022-11-05T00:00:00+00:00\",\"2022-11-06T00:00:00+00:00\"],\"xaxis\":\"x\",\"y\":[20.334469642495435,20.299189404697728,20.336136787075176,20.32842832362396,20.148636782837315,20.051899078193358,20.125672812747354,20.21858332867592,20.24495362548093,20.142008135598566,20.49606298361293,20.710514331146502,20.857722421316872,20.768388883780364,20.936797754272128,21.039026710603448,20.775725647908637,20.560640997936886,20.507228186590897,20.73491352477468,20.727353116195513,20.66854934118776,20.619901417084918,20.775448371374416,20.984670056768984,21.471641299454003,21.494219928907942,21.163225493951575,21.248211815023033,21.366184196561065,20.99314486384065,20.35527595193758,20.592073976993564,20.88941629444301,20.971319251770094,20.969289981083826,21.05382281441237,21.23505725016448,21.015144825888086,21.09413407753882,21.075629367679017,21.056204760792706,20.854143646944156,20.829584378496826,21.05673377749897,20.926049057162842,20.76223908409027,20.63281475995824,20.551783322774696,20.849996485607747,20.67000204396965,20.311720254537402,21.02474939462273,20.91168783976265,20.925781362706374,21.002678593934142,21.09980203894024,21.622846896866555,22.056977865047898,22.26240250019358,22.58362520106698,22.87938863708392,22.871130193626943,23.074281021734432,23.366602173700525,23.278259013600877,23.15809299870899,22.974243392356296,22.929868278008115,23.399697972776433,23.863281508506716,23.812989135616093,23.52937049560191,22.905378513271167,22.69548344941923,22.76143206930048,22.983793322653455,22.705118531271307,22.7379661420936,23.24746955942647,23.113684704754323,23.554490518000605,23.807500921566003,23.90532932449969,23.87853374032416,23.965384510537426,23.900000555915057,23.60416343105234,23.991912429043595,23.960127038773727,24.043445695487865,24.471004115394045,24.607071520127132,24.571149303466775,24.85232757280622,24.699095101574798,24.441329198571736,24.539388263698434,24.795925336859483,24.788172592518443,24.359192488726045,24.667902036298607,24.118643529573202,24.186007681096868,23.952764976848684,23.952764976848684,23.611578351396332,22.85212214643333,22.695297821311655,22.815885061827434,22.758581170965698,22.999558034997204,22.945246916615638,22.621381685545437,22.088879850696564,22.237228247104056,22.738373010436106,23.061981066462845,23.065263261949156,23.132627170775777,22.93991063507068,22.60037743082004,22.479157481866153,22.554796959662447,22.219941322472557,22.41655647379681,22.22602924268069,22.167305899201505,22.570033958672077,23.090937642376687,23.231403324315437,23.373427332603747,23.445178258780054,23.510467003655265,23.5783350470369,23.329313368575132,23.049854696761308,22.669550640269655,22.50977980347355,22.846634514404542,22.891010088537666,22.880702901052487,23.116727151419525,22.826832311713076,22.492456121151783,22.544064004896992,22.545327326227206,22.428917606864964,22.360285033685834,22.500031098629147,22.748281753127685,22.251818054030338,21.64442356431191,21.751325768083916,21.64514533812014,21.602700310367506,21.27508537834317,21.0864709633382,20.500534996815077,20.30434409720714,19.907459316863907,19.907459316863907,19.908937283822237,20.116864948265366,20.763716135160813,20.793950956090846,21.072776849122032,20.43617217521747,20.48735771450907,20.528067108382086,20.221093073047026,18.753698671857123,18.879814209221223,18.798599483409873,18.84368409725714,18.806432112597737,18.631027765059784,18.401990102927247,18.899376270414535,18.996487595274147,19.051710948876057,19.170061137379935,19.363413139945006,19.209147920204206,19.143685601655335,19.084939322066585,19.28500429728488,19.2120885294371,18.91671790370417,19.24477930456092,19.31399722606035,19.12233419146412,19.37712516269805,19.13864711396034,19.574205599105056,19.598716441375185,19.96166371039645,19.90959717095404,20.21563221963114,20.461606560185032,20.456430567903872,20.462046081146788,20.48730941416592,20.42582262185544,20.123990035622107,19.639724513720445,19.036295178576434,18.581322773838572,18.19940151746975,18.166186713915057,18.141635029398206,17.91699491699472,17.690509658072664,18.019933781213403,18.147101829527745,18.261785306806043,18.445373680951292,18.281268688273087,18.125452038889623,18.302459594488774,18.601946110488644,18.576500769388282,18.760812891238498,18.782747151393387,18.845258758131322,18.606283328918295,18.96030171670693,19.131130413481976,19.222173219492646,19.177207887364567,19.117555268965813,19.379681799650704,19.256804735399236,19.310429159936838,19.714338687348622,19.774392059073897,19.743620546900907,19.498582264189636,19.314384889997438,19.321253735969023,19.3763174882311,20.013232123546576,21.00143733344675,21.00143733344675,21.341476693485983,21.429985026005305,21.43339435259344,21.895155141881983,21.30714839594834,21.676608279670194,21.732053435544852,21.834737807804427,22.00427009193553,21.807531433619975,22.21670720471156,21.913993534087407,21.88232422123775,21.996165671238742,21.873493677049805,21.878061520674553,21.72048675306122,21.801297337648773,21.923673552626187,21.96599052177335,22.110531488379735,22.158356282721158,21.824595889042662,21.742289345841503,22.041241092385498,21.882738318801653,21.107200509428203,21.18184592085455,21.18184592085455,20.93822365164204,20.60214473821038,20.383259615201666,20.445779827257038,20.59237515440031,20.67568477936501,20.587075295613634,20.510321883118433,20.433052253741057,20.55776455067999,20.40294636479072,19.661425096719864,19.65008652389686,19.572683867833575,19.66711692464753,19.625071276543316,20.00105323373489,20.35785060810249,20.114798527872303,20.309184859211115,20.393163818628235,20.393163818628235,19.922071526018126,19.839350377006415,19.72099540481913,19.376244113178863,19.374629144771017,19.379272061175158,19.409165070029722,19.198833498686785,19.181138308297463,19.116602203684852,19.120299464596613,19.139584599429437,19.059022760848187,18.835793890540884,18.2269222743612,18.223653589159184,18.039759866971373,18.25969207507885,18.104102365670304,17.972082875115625,17.356833925441116,17.356833925441116,17.336569749469312,17.216361350433473,17.44215841340835,17.47739198817351,17.47739198817351,17.47739198817351,17.336081746741815,17.06282665120977,17.02976674368879,16.97274572366738,16.921535666927177,16.97137809896132,16.91171538881331,16.952935257106084,17.419996361271693,17.859940436790488,17.889426300586564,17.831659612712023,17.852145252721343,17.62184285876225,18.048898011986083,17.840128816585366,17.91581751620164,17.76674842762698,17.99346171877232,17.877995145476035,17.784278109756514,17.882420149387013,18.030962561615716,17.77098294512498,17.67012275734445,17.547192750564044,17.447206333823285,17.130887797716543,16.92972154344867,17.401960291686546,17.462187934431704,16.82187691090389,16.388895535320547,16.29663003306372,15.91955280387456,15.888300726054627,15.368956837299642,14.708077449280378,14.955327194611456,15.275428987775497,15.528328338615127,15.339444890212238,14.621207728565588,14.79120979487032,15.379547493289913,15.043211566010228,15.105809125031433,15.196169223133026,15.444550389750834,15.007220988871971,14.854494047317313,14.546858494136572,14.433522329515935,14.499698337779531,14.59185462235082,13.998356451555537,14.223204279541314,13.980845215870573,14.673117723384511,14.803241869543804,14.787064641561942,14.805604453851707,14.43701609226098,14.579626378734666,15.183210928578838,15.339317582350809,15.299056339708518,15.26038763166837,15.08913859594545,14.64923053148568,14.747104865658024,14.790013039495697,14.473693313125647,13.996246201387642,14.267925000094618,14.187877074255862,13.841880275039454,13.092240890676244,12.969706189166153,12.591598396347425,12.325742992911426,12.44153078193866,12.352280353385293,13.03656549780914,13.317588940886393,13.57401166353418,14.44589826721787,14.52239941994089,14.677906091467396,14.643841420322556,14.084564409216638,13.61787064523028,13.250000214593992,13.146863235648665,13.238664629009268,13.29966225610586,13.403155435412128,13.520117214236805,13.58837624964291,13.324511893439528,13.683705242411515,13.649561592641724,13.80532180714864,13.687839560831328,13.910781834504293,13.910781834504293,14.183444502738517,14.394532867779652,14.231688679755194,14.03719310642555,14.037546694227366,13.959522151357584,14.192393831332684,14.744241502015122,15.054621683200352,14.663905054092407,14.200822956527448,14.016114938572489,14.085151013346376,14.535696022919598,14.783689345054496,14.124823010982613,14.447310837812122,14.388972647876951,14.224244052309999,13.884464907743865,13.73413682247422,13.531585500665866,13.63542644612592,14.33015761787435,14.41481875351267,14.41481875351267,14.532550195215133,14.292061054964966,14.443272222177939,14.270896796834155,14.418216777182668,14.454682318156674,14.677506717392475,14.195271932757713,14.231107163621282,14.028874556136351,14.250001764390174,13.744810531815954,14.101461118669679,14.356449233868318,14.39040419659774,14.300203674677103,13.947436604830443,13.971331472133697,13.711748291037896,13.749153474094665,13.828812505727095,14.742216811351438,14.524899535963787,14.036419343942752,13.855139121126282,13.714491489461356,13.843702850467032,13.343082430210096,13.794306819119573,14.254845330285981,14.580826876026975,14.59333635927611,14.234999451953566,14.615540343127286,14.771881831724244,15.020049470817497,14.914425965417411,15.377842866719305,15.525715616480905,15.46702166473397,15.392373715323448,15.5439600101841,15.5439600101841,15.737633052813905,15.245552235122982,15.938406421302332,16.08703392019455,16.31796348486192,16.415128327881234,16.561716993497132,16.76283089022985,16.79646866648752,16.73903486199535,16.402647721530062,16.402647721530062,16.402647721530062,16.31459788094436,16.017367014923888,15.89399164056493,15.74426112402847,15.768088603810115,15.787852898781551,15.87645588253852,15.935816140238114,15.811456861710148,16.041455690850825,15.763457196989727,15.279294839899826,15.299475081128433,15.27317320629491,15.47102597883705,15.47102597883705,15.494949913386646,15.365479710382669,15.394636969387875,15.499309758782731,15.700491293145259,15.46559838072632,15.393628443109009,15.568014638735095,15.477082721206802,15.25970476385603,15.167241582806845,15.319055294459115,15.232533873862476,15.21505816638886,15.410237853888887,15.423542152347224,15.372770152578298,15.26883243886521,15.308097923616359,15.46919127557722,15.041178335181149,15.012423726022806,14.817522450531563,14.594063700678905,14.483561562606972,14.463684359859496,14.142177989618698,13.93895077710907,13.8147583736141,13.81375891498553,13.727570903103814,13.927033621189167,14.27772058239345,14.55834168713781,14.516181620018664,14.76363314694975,15.053861536872336,15.282428379873302,15.321174565261387,15.53997588166176,16.177874449640008,16.26133136511305,15.486073781834087,15.189193273439617,14.912476405603403,14.848096693917201,14.796797518956083,14.381048469053702,14.270066962898099,14.239830675555588,14.339495848246697,14.108677685900073,14.228867343226725,14.393438423455995,14.34285747157169,13.953570892092483,13.862883622201515,13.378124053823747,13.476769645715315,13.645107795633947,13.944924590065643,14.783277569948904,15.013401251003543,14.873289030403258,14.733424938943273,14.792484285798402,14.773077192645424,14.894420236760308,14.807840263089588,14.946588716056297,14.692287058529185,14.599629509339017,14.557293022756834,14.529306484369364,14.735154168121056,14.454268239969824,14.544801011950526,14.511127380396216,14.591603066940163,14.734840891024348,14.667141737455847,14.667141737455847,14.667141737455847,14.755048592872221,14.861192108244769,14.896299200669993,14.721319209965733,14.662654888776604,14.175819026595104,14.340387239869079,14.39271436645122,14.078221238490451,13.576046367141693,14.063494896046969,14.292102716334142,13.829305941051473,13.98477070691353,13.803714339790085,13.83065472622318,13.336473540345528,13.605194505454786,13.637979353679697,13.595212751376916,13.544392129835092,13.544392129835092,13.625408698198038,13.569716689312262,13.67196097618677,13.718487717048088,13.990217514097125,14.08044418364085,13.99630175992872,14.28326624393106,14.063689761961351,12.994389311561672,12.786177527298936,12.786177527298936,12.718455573659316,12.550527456257953,12.001801012772795,12.478110275086141,12.347262813837867,12.481259471334205,12.497475040154328,12.70012581116331,12.82727180877663,13.113599661672893,13.339810811753882,13.325715865225906,13.413416605658846,13.181883298166785,12.621188737438338,12.581177453959548,12.317034846532282,12.400862303172456,12.372321070908665,12.216477554249284,11.68936782578931,11.712160884119683,11.783820531842304,12.37627637740455,12.538484428610431,11.833294193193233,11.833294193193233,11.833294193193233,11.653743613664602,11.452895911428973,11.746831209946818,11.67312955824016,11.638260760316221,11.94889064922624,12.296919698006237,12.202834618830693,12.012921349767458,11.792209303448953,11.61699217484009,11.719530797396072,11.744657831497452,11.83101495914256,12.007189125393491,12.007189125393491,11.984582896337725,12.094083081619655,12.547003105749566,12.515453250747433,12.640759490511044,12.462216049812236,12.432047526434985,12.359133700750302,12.84954360681947,12.963776324887121,12.988098532912673,13.439573226379942,12.938578645843556,12.779380435157051,12.919389280567128,12.512919085948603,12.272954911762524,12.165974151972293,12.068513003076697,12.168684398253848,12.93055029240553,13.536892845866099,13.179370870151686,12.71770258904521,12.754445957821602,12.98312325642037,13.110712394106617,12.94430838613061,12.98089989043627,12.907103245268225,12.69251384123471,12.844258277212116,12.710924187761075,12.745275114519394,12.600619989391525,12.224256029703584,12.675460647213853,12.68237859217538,12.699766243230858,12.849048102667204,12.862400333479451,13.011930880431644,12.975560614329783,12.727360284359811,12.878288814924122,12.875810771421548,12.833202381873775,13.21337692146194,13.452013567169008,13.355781008444678,13.39326758190651,13.726802849933172,13.911221554704433,14.117884287604854,14.230764267496788,14.114190853366892,14.324033735596409,14.477190427032149,14.449123058692326,14.495253860536806,14.556243202078312,14.556243202078312,14.380202222668647,14.307901489448827,14.208342222295922,13.87461755779702,13.98240578137868,13.942142087417665,13.803528661710263,13.889129122349475,13.969115518920638,13.592155102608938,13.594204764915174,13.093107751721366,13.379329767612669,13.522291465302905,13.323378914427696,13.170570942692517,13.264439337469568,13.517433696913272,13.596338934473184,13.952109484770547,13.721824512105973,13.990484908576173,14.505809138098446,14.688788389151352,14.283716571893713,14.288081872358017,14.312762126188417,14.179348982497132,13.959406368073402,13.496764890593882,13.24753633075173,12.870334002682338,12.871375151367426,13.101443817224734,13.431905852317282,13.350711831344686,13.535817797337435,14.084224940706601,14.810430242251904,14.99236849160357,14.708423797377712,14.71698612855976,14.521144405041797,14.197856195499647,13.986953601628095,13.65327855056664,13.657587724685971,14.064002893976223,13.95692366753547,14.031618176127193,13.896289637809666,14.14539887230768,14.376068615480108,14.400124072752064,14.262107782001344,14.37416894984278,14.749123133534049,14.631322121466294,14.601207886391476,14.56641833474055,14.694840793829611,14.730242433165163,14.684815239937832,14.556457711446914,14.937016766607991,15.240015760116709,17.10601680000776,17.18015189848836,17.12774286165777,16.894693721429334,17.149656558352632,16.599119474387834,16.745734545720236,16.83332492460139,16.92629511608592,16.8580529567693,17.359472806113608,17.67675753888782,17.16947230589132,17.514156773816158,17.689680297527467,17.83699761959774,17.88772695137506,17.507839534151493,16.985411559797203,16.79501782148631,16.531675833861392,16.213934363245876,16.213934363245876,16.303140451614606,16.756751168310814,16.592560578850325,15.970570052485433,15.691403945547954,15.863758219867364,15.863758219867364,15.764336255377343,15.982504165210475,16.160610256061013,15.810981651623223,15.950120811049029,15.951954275428637,15.654941520661737,15.638660593796327,16.015231275547848,15.856355087492013,15.70888476275476,15.13599354261106,14.956796133435724,14.756343923726556,14.118578923423897,13.933013911564473,13.953316247212522,13.547282991828213,13.31219998829627,13.596285065041647,12.896217058396386,13.10288991330979,12.853664215225047,12.629724382050679,12.726312445717202,12.687001436875356,12.695621235060784,12.695621235060784,12.249571261823222,12.090402981273996,12.248239270518013,11.83967541896953,11.736390970145782,11.176685931931685,10.633104557811235,10.84471044632853,10.66207752074324,10.919566737742237,10.855867755341531,10.52525305186267,10.737009391199436,11.065509334809875,11.06178199159591,10.936534691040611,11.08370525942204,11.101633956988465,11.029414254328064,11.042760222614255,11.042760222614255,11.304123907889597,11.587633713309465,11.476662873304445,11.356772790809577,11.188428698280205,11.204027745052624,11.337027086900498,11.688845535860537,11.479165680533798,11.689933817738506,11.357980911037103,10.790680081774195,10.51413048236316,10.633067302983633,10.633067302983633,10.632432254494994,10.178112950811213,10.221376327001108,10.434029137407919,10.253940682550166,10.509011170589844,10.677591552291844,10.875856231599613,10.787147512467786,10.943912315270277,11.174842865358304,10.646813659180232,10.572567676657263,10.662820476254552,10.901806646846124,11.327240917900117,10.886870477189191,11.262875845916431,11.789136833848346,12.027451386963595,11.95904562745782,11.736161024886616,11.575075475091534,11.195181277498744,11.18438725914508,11.395602346568978,11.262817142532633,10.988861353924051,10.789351428901494,10.626133577478857,10.34943492396554,10.175528236564668,10.105554124737948,10.528540928002394,10.700979588042458,10.641661654495271,10.542873106944374,10.614954803542398,10.834616998238044,10.905821370619595,10.850578036889203,10.514857934547361,10.6025987559216,10.641007467595088,11.539803596048959,11.68941455005459,12.160289755199782,12.244998093677474,12.317701950023263,12.437298011418974,12.7130288654556,13.107658237712826,13.469049793213351,14.923256894278957,14.971989281593823,14.883799129255614,14.355793145049912,14.619528784293689,14.662080375843246,14.16730730998388,13.64751853626618,13.723554268885497,13.61990101238979,13.63187491505482,13.63187491505482,13.66721137688629,13.15397423608269,13.214152228198262,13.49923702353375,14.027001364309456,14.159167994781917,14.522678116141163,14.81313966454505,14.919094359107433,15.20568910984803,15.229839763201714,14.839575531947746,15.10177693522552,15.397216567947037,16.335746887444856,16.50463396736448,15.808562848570418,15.886623035735559,15.724620392820675,16.24740209853808,15.989594810474284,15.432261658815062,15.572327258506391,15.598225776227626,15.681134032901012,15.550327935995668,15.702436637169237,16.189700992483314,16.573042811693895,16.557783353869127,16.80183966540978,16.769526614225107,16.769526614225107,16.405692259024086,15.655972920265949,15.522109791092964,15.443321014177759,15.937963674700795,15.98998776447138,15.979433708906242,15.838069012200751,15.774973905594102,15.8256772376822,15.987737341695096,16.23276005560419,16.112746561386015,16.158667800194127,16.226615102182773,16.05189983445907,15.816674079438853,15.441277803422837,15.216753477628785,15.285786090214426,15.285786090214426,15.251784601441475,15.091789295727143,15.384798296329215,15.056655037904854,15.180435600835661,15.198182763212632,15.526719846004555,15.280469645250694,14.804641540287022,14.667469965031854,14.719380640838597,14.85106740171991,14.841430814699198,14.788771665054213,15.27153696814867,15.459874230875958,15.499428441248586,15.335217073391739,15.184427828644754,15.10101157201651,15.100118765895076,15.126185626337163,14.698388915354311,14.131180822368549,14.23561229516832,14.413148352372552,14.413148352372552,14.573483676928035,14.595243895698529,14.595243895698529,14.520580838122775,14.403900858036822,14.906942979678162,15.045660766799497,14.883497636407682,14.981897386711541,15.107372480803116,15.073442457995956,15.162818015968638,15.061063381239649,15.061063381239649,14.752081166568566,14.775572727708862,14.912566247041337,15.13547895416898,15.017370699218958,14.646450016812862,14.260027144204823,14.24240027902226,13.96354217303939,13.818076179543514,13.517372594641097,13.465692191853629,13.465992196748221,13.341078540047313,13.627343321994424,13.79775875010003,13.892046808409297,14.102086880809605,14.711578134135973,14.35805737565703,14.618421798675406,14.492702053028971,14.701957824195455,14.361716090017463,13.98527845866937,14.236248419425479,14.064895726176797,14.059326773738444,14.035579347066962,14.061542913341807,14.073747579818473,14.165668095743156,14.117288428051932,13.785914516667086,13.785914516667086,13.788134131961804,13.658333092086327,13.561494619284954,13.423173538886623,13.775644149124243,14.432004864603009,14.393944127145208,14.274639784445963,14.220420392024957,14.168304470963623,13.953002631135746,13.751224931985595,14.049730998663712,14.090877072195894,14.258084335079669,14.101922748890505,14.078324128830587,14.05712367821872,14.345902918553687,14.617904714379382,14.527424023589909,14.585711138346436,14.754316678597279,14.39048325836616,14.109125862253325,14.256751432030379,14.011377228616539,14.111188711221523,14.203045744350096,14.082299960956268,14.099735838613391,14.099735838613391,13.64475490395436,13.233930785343716,13.167478932766642,13.44529980692859,13.318052520160473,13.267481593775997,13.389003812092625,13.488726098389115,13.724002041361194,13.683715899198301,13.51966822931605,12.734286251188177,12.610031471619031,12.596907123408464,12.259060429826295,12.204509815362607,12.021219220246081,12.150886567795727,12.028347533810857,11.990623337718231,11.721068517113874,11.935426564882423,11.623170726184306,11.611790031002567,11.208761235147557,11.377444369635882,11.64376280346322,11.684063869510574,10.897530264327958,10.620756071787474,10.775894278687815,11.004862571376538,11.68218038765534,11.873235002907357,11.813135627022554,11.61097151817836,11.109210605059584,11.350976188069218,11.350976188069218,11.166995221351383,11.260831822146411,11.033461527529308,11.120200680301595,11.308362774295722,11.152002916804982,11.093199520037356,10.998306039208416,10.737691380167647,10.766086323139934,10.773726728143561,10.893435173211131,10.821890438725923,10.738158926689811,10.702526456583916,10.565261473649112,10.794284698071976,10.707048168887567,10.234605820686248,10.248380397953017,10.400107841744077,10.804602432190835,10.82433023181526,10.764214063225497,11.178099445021195,11.746330490341595,11.80430999035087,11.94548227562331,12.074109027832879,12.074109027832879,12.126425390981588,11.83369624128865,11.441917232041444,11.438883065108318,11.170500829088216,12.332077088195238,12.254715455495301,11.959526560163214,12.775530326641139,12.959199922964949,12.43281204209794,12.570906335725462,12.570239632870583,12.40194707699307,12.709903579038361,12.26764647510754,11.764718052450785,11.764718052450785,11.283463148667572,10.819530694830327,10.673593996285536,10.546189677779827,10.64547313901909,10.67791862472598,10.737038411787614,10.607319554372419,10.762141532043735,10.762141532043735,10.762141532043735,10.863439122981022,10.860009496416678,11.173592989179904,11.413194998551713,11.5859327634952,11.60109632122721,11.554096930015966,11.552946917418993,11.492821377824836,11.402187663284735,11.502760010347512,11.357803085789818,11.726035236313948,12.283905265799898,12.185315810241072,12.685719873160295,12.609111450023992,12.662996229433187,12.829286584457812,13.101249979015162,13.285694158040284,13.700216604494964,13.732737628072345,13.85661051342395,13.813189143462367,13.348040560012752,13.406643469014433,13.145472382798062,13.674421549740634,14.699161406658035,14.461544721591846,14.660208915554884,14.699021839233328,14.577341561798374,14.65567049344909,14.669604175627104,15.172824503480985,15.238555979146962,15.183435932943045,14.706352166400304,14.571261073339459,14.518116022231474,14.597962369341877,14.588159788221077,14.658586865547463,14.856624283790643,14.634793417968606,14.25986650910065,14.329753263065514,14.374386742725376,14.12008652577259,14.28059181399679,14.23067416271313,13.843386970104499,13.992644124752074,13.577416917982399,13.70767967019062,13.471105835947306,13.475427567542653,13.618277590744077,13.738157183158407,13.646716435794627,13.641418629042024,13.491144431524216,13.876877808634092,13.955373153727301,14.047183571146782,14.351649975842085,14.359293360856885,14.728806610815038,14.837249979808686,15.167306106183553,15.167306106183553,15.01911473086881,15.271538195192601,15.022248485658608,14.910706524859663,14.758107132323595,14.678874740609205,14.756389515160805,14.960483100257193,14.858258879753183,14.787228954587972,14.609083679097967,14.141422698726046,14.214140727825143,14.268690413444386,14.559200651293436,14.62574487763768,14.419693575832149,14.462863906928437,14.53636208195861,14.815592308588489,14.916442387062379,14.980969209774031,14.992954274056181,14.877548145681295,14.907069182835686,15.104067739936244,15.03392846334124,15.087534611482202,15.230330268976733,14.913157816815858,14.636705735275047,14.315455383643872,14.046989995808357,13.884161173616661,14.16893300979365,14.139277074666357,14.38547314758356,14.217999595303699,14.16597685673544,13.852187664478134,14.243438933038345,14.384098808122525,14.478206994006948,14.574475223062699,14.596012893311027,14.489076940034717,14.511107116996858,14.797098985033564,14.852725035762738,14.894834100393094,14.640486351428294,14.655905221860976,14.520188218864583,14.52942246385951,14.240486297032785,14.514083590893968,14.488126497421838,14.327251576715906,14.344973712922581,14.274539667769414,13.646498609788793,13.071675669094773,12.534945507374061,12.55907582399911,11.422017676636331,11.308337820474579,11.094859277169755,11.827517454549774,11.29683209498098,11.622038369366706,10.75267000644522,10.762207832108551,10.831314837779015,9.663841329874145,9.734829722193062,9.511375892960338,7.39771133675684,6.889230438885585,6.889230438885585,6.880413630172333,5.9709152575097235,4.564086086752361,3.9487612512384196,2.9906838841376793,3.5023975291540665,3.58355061682627,3.8782106947557793,0.8253567378653459,0.7420260178524041,2.2942283818474296,2.7697998652369993,3.4241625737355896,3.249196910673513,3.054241003903835,2.121864875706536,3.1138850791935235,2.5078327771400843,2.5078327771400843,2.092073878666878,2.0733450427955935,2.0733450427955935,2.2078159187046698,4.379584139229631,4.792625491066582,5.94473856020179,5.94473856020179,5.8078311766565305,5.908669632268504,5.772954907122174,5.70076759644258,6.036482190135173,6.136145063756371,7.015758761407986,6.934845722528182,6.986973540347674,6.968975870186389,6.052285080621478,5.672627393719698,6.154383586264189,6.091022633353549,5.695009223705627,5.549900032862309,6.000108011183669,6.2138526767264946,6.188213912943263,6.999773600896897,6.999773600896897,6.999773600896897,7.111367213643538,5.721927114204051,5.717946240377114,6.07506464674854,6.117235737882498,6.100574192527652,6.077910817992294,5.922042220694634,6.429564671145793,6.942872678205125,6.99357231701081,6.659304760418205,6.668741397406919,6.507338087758319,6.341764734092736,6.093013759011701,6.48870930066292,6.776720894763311,7.486771236037604,7.304848034900302,7.386927874335192,7.481092178656068,7.182634036797708,7.145262373981809,7.879196926958021,8.165719480688093,8.398295074724981,8.172224587482324,8.034811641177475,8.354837470609278,8.82306295648334,8.80097011223262,8.854681644663987,9.076102180998792,8.969361801070953,8.869595594750246,9.191755563400505,9.062414887996573,9.50902480266944,9.216999350257925,8.750566945683257,8.715352809297361,8.630611865536553,8.497057184829337,8.622205181369601,8.698970808470818,9.016952857384064,9.169498769592078,8.958015797990516,8.954430978893235,9.452669875887798,10.149910544651085,10.330278315650808,10.152308267445376,10.321549788342189,10.321549788342189,10.456932724207778,9.71528485311941,9.688713703284545,10.162514258127175,10.727864418958589,10.854919026433429,10.88211003214492,10.707326104490345,10.914691612428328,11.679529151895363,11.485283710280836,11.673906664605415,11.638651370516385,11.538590506035584,11.432972224102045,11.263909375205294,10.88223954447296,11.108791365222404,11.274501401599778,11.46283578923606,11.448480379668569,11.275415424781432,11.503576241611114,11.76081889916263,11.609570683390835,11.74190054630493,11.662490834289807,11.632567509957713,11.77265761200379,11.610536760804857,12.204467624082183,11.794938552327894,11.796169486719421,12.094119198345442,12.15402381519366,12.190339597874544,12.496954538291671,12.815428619614956,12.514521924206568,12.8021996721724,13.061649881301275,13.194009328796707,13.406272326403212,14.04782262574573,14.260945894929167,13.63000022541987,13.991216302483945,13.717599817036131,13.397168158408235,13.397168158408235,13.547180687696581,13.95577324677635,14.406981270531949,14.231433159031305,14.6873115965787,14.69982671705219,14.245651642488365,14.40827575433461,14.196417264322303,14.726250657588235,15.099148945091345,14.940278134149354,14.896787899207165,14.748851731242052,13.972957378499151,13.75852686209127,14.38898018799286,14.672874263963465,13.72569579339753,13.544843737242385,13.823074877260332,13.17290959081092,12.748530516995672,12.11315671891735,12.51594305879613,12.341812160937504,12.150294477147261,12.352397083247336,13.016794275358222,13.312537153178173,13.413022698959786,13.232453794870924,13.368713565759638,13.32501674023192,13.35694240578218,12.252730603523098,12.523045921481746,13.133308152061506,12.099151612390568,12.644004156971022,12.562054918452748,12.660084043462948,13.337448122083462,13.40092070128338,13.402080507795855,13.457380975178612,13.457380975178612,13.457380975178612,13.515053390629216,13.590208983197805,13.653585340746034,13.289734377086027,13.663507694943045,13.778512662518638,13.568600765983053,13.57976811456072,13.64761460700381,13.93613249552903,14.018533947112143,13.355749378252169,13.390141740830952,13.440146132435071,13.540917447868583,13.318026658173011,13.001307939652062,13.068821789605778,13.152504409263898,13.27212826251638,13.418660748094702,13.395316829417037,13.175884616443522,12.947039211512635,12.494140203526971,11.741470616782724,12.115056435606597,12.058246979449528,11.963444909135678,11.759834142037873,12.056563115998253,12.24236366993563,13.169130210053481,13.56993501220467,13.6973901450407,13.704587756111808,13.823153869484518,13.354372691020489,13.694073604337209,14.14430776394411,14.136291132816158,14.200701684715566,14.359074863845024,14.450889200095741,14.642775478351622,14.387329662188787,14.133310475465443,14.438698994389876,14.228467292431679,14.122306039135356,14.423638246929539,14.644694066693798,14.2977484022762,14.5134613440153,14.72329321649568,14.625050839221565,14.685029754861944,14.795726354616367,14.890883957551049,15.15323468721521,15.27654069397646,15.391452975879183,15.431754778179684,15.495200110262752,15.35784154044011,14.898252442830696,15.215322016139353,15.101787630032515,15.19928344999919,15.287767319095114,15.277669030091822,15.206729552426989,15.04021902431083,14.988331429300207,15.112724333797779,15.079199547362032,14.881717902174119,14.977966865735514,14.23739278426568,14.630756210416651,15.015419660579798,15.155661336609572,15.155661336609572,15.155661336609572,15.29237853403249,15.340336862478443,15.535099075907599,15.779814129161318,15.573280859775917,15.630125110819959,15.816195342029516,15.694107758762165,15.751824612192777,15.40259812045317,15.12336184772758,14.97277074020853,15.381177386087419,15.370926257992945,15.270657592106751,15.593178536323848,15.34462505880465,15.351789871491928,15.5991128782349,15.241334132840901,15.320805426980488,15.20175868999576,14.972850760120027,14.998668942081327,15.313324842838538,15.485353980031924,15.272617798888755,15.068071285817354,15.020198470289593,15.09953317943522,15.131775415947368,15.099602898608877,14.792248940265985,14.63790181691149,14.798653803295437,14.962953689451064,15.327317149815055,16.58808478298326,17.595960193619376,18.323996082120342,18.327674946037178,19.043070643748816,18.646312779592634,18.798920576293398,19.102119419176965,18.862595008370132,19.112882286102682,19.158105347864197,18.875277303000203,18.875277303000203,18.980120165598425,18.825786340277606,18.890805331739614,18.966209254301013,18.623105782149718,18.594765823866766,18.61564527200126,18.16102686965777,17.859304849548074,17.86007882927119,17.909664625363277,16.94482143394429,16.828919015539824,17.068937683325203,17.73649704190381,18.728559485781204,18.629265607902923,18.39219921050144,18.084274779481913,18.04574437378723,18.183228684269004,18.397307717726854,18.0010108032818,18.217282811906422,18.217282811906422,18.46629215660083,18.388828967558357,18.630916085854675,18.318118762690272,18.9509002168208,19.17141074641289,19.213399882038917,19.38778969513304,19.684062458798458,19.756759132348932,19.940662808650835,20.684238485433593,20.259231633014842,19.48023021823433,19.587979773584774,19.387940723391473,19.819839559060036,19.49528872147588,20.117559246325524,19.991276982730554,20.45557161485776,20.45557161485776,20.535069472761492,20.572717076294246,20.109629708432596,20.32449439180011,20.642837358151468,20.867881812320444,21.131315368754034,21.071834792082743,20.968109826909288,20.14554262606452,20.049143469734922,19.950577440082107,19.91467413792545,20.374409797983617,20.283924561457777,20.205330633614405,20.036638626583535,19.706295755843996,19.826840074773887,19.902658745737245,19.79988523885452,19.629058844763,19.958856308844307,20.39071622541162,20.229917550434863,20.2186995160325,20.338661929422575,20.315357289671574,20.57251071879982,20.57251071879982,20.72429490927592,20.67053974800541,20.576237872957815,20.767247555381687,21.05168421896211,20.983680099191226,20.92069399862586,21.135851903773094,20.589459477303016,20.27268402604141,20.27268402604141,20.010462296040068,19.920971583262936,19.94451322819637,20.563400540918874,20.87110732488704,21.389587243077223,21.12721339506052,21.56061834478127,21.128996712029323,21.260379134717855,21.28784611737271,21.400094588635497,21.42193929907188,21.611420734664954,21.54334599247587,21.578523132145744,21.5781895083315,21.818121329509953,21.670491895691946,21.576457542324047,21.633044543478896,21.56297668011582,21.742229136856107,21.599913367647993,21.791718069019296,21.790606155724788,21.35926608622043,21.60231937326158,21.791097138599326,21.44726304349376,21.476801853711947,21.35579638878864,21.64637682762025,21.40770351567003,21.156497591276402,21.206094388014197,21.21046807683731,21.204312695760997,21.02213446202459,21.123028986593884,21.17838785388897,21.328031660480672,21.61766352060446,22.04123035360159,22.27269463888102,22.872721724814227,22.68057814607247,22.792025727091826,22.855371249916413,23.068928757259833,22.936864305968484,22.58920270602345,22.840939723977026,22.548794872374177,22.29095188127563,22.265446725613415,22.212460839512293,22.04408004282772,22.139333527490535,22.29558888315326,22.890233487921407,23.549475366442472,23.923274406049934,23.984824084375077,23.92477894615672,23.774684072813844,23.872465860445182,23.018933229229212,22.999283031514594,23.345375248315325,23.707331213309146,23.52487556831626,23.350694500424908,23.77737276083871,23.796172811910555,23.58565761470701,23.885344369588914,23.829135736007913,23.905590191451687,23.86037502462621,23.82226317356586,23.440100427974176,23.271187151544794,23.511094600939273,23.61942919736011,23.43512049948828,23.37809516505638,23.28269258776805,23.283987992400657,23.222379244809677,23.431918947008,23.73437959789544,23.462754541273956,23.324514752680493,23.1987063641917,23.38474013607108,23.154835579593637,23.154835579593637,22.857738018522845,22.84971910733118,22.77199710512534,22.936427634777345,23.283712696465763,23.03032056894745,23.114049583909903,23.20259955784969,22.942815693029004,22.898027382861198,23.45264941095857,23.98225348522476,24.346857739830675,24.51743526872663,24.53636856541919,24.70752053388989,25.1015767574851,25.19656828923913,25.12549475676453,25.634137782578303,25.75547170966257,25.75547170966257,25.90005850988657,25.944505927815097,25.859920559668815,25.988054374685188,26.571963284248913,27.06963486727425,26.922985086080907,27.22925326521064,27.261620660324603,26.987022321886723,27.104799004798274,27.776723676588855,28.122895581906036,28.07229224245664,27.995289168527894,27.993265271605104,28.42848051426998,28.10288347340748,27.930837739187808,27.922123914375607,27.622444562883896,27.821385488409934,27.821385488409934,28.573881496410202,28.905962572044118,29.37781952878844,29.828515456764837,30.362218809957795,30.39783917682768,30.051788577237403,31.380523686955787,31.197348354184818,31.03368202016874,31.492008205002243,31.492008205002243,31.41234119294536,31.3934531681237,32.25126052333771,32.39310071333779,32.29543751873398,31.847194731535744,31.641448036712248,31.76313188818427,31.759972813856365,31.730427315467622,31.75479188242567,31.676070588639995,31.19563726338179,31.2607930875473,31.544471504822358,31.02147782133744,31.161708078297366,31.12919754423311,31.109113857715,31.109113857715,31.109113857715,31.51908295176309,31.2102506192544,32.2387388836463,32.242759366259776,32.53982514057006,31.99463680844341,32.1691408903392,32.36925068903007,32.36718731414121,32.758196467062994,32.26057911452944,32.18814271173298,31.76100987362762,31.76100987362762,32.322100249400584,32.36935332462143,31.887630006403956,31.922043590713933,31.71158580358371,31.769729907774447,31.20638021101523,30.87363981799971,30.730058083629807,29.796338161782998,30.091086405847143,29.901921511174834,30.236438496940977,30.20719925812927,30.159889107822615,30.644106727260322,29.999269824514418,30.54104838089533,31.844767156077115,32.14017282761317,32.39967591401276,32.25723397949647,31.846896710417873,31.571990937874396,31.613193895339762,31.19213555513307,31.14513591407695,30.42801783227911,30.598475069974373,30.34339186960313,29.591024343858187,29.925936222438708,30.95725177526585,31.230766350629246,31.151695446883075,31.23504476996144,31.23504476996144,30.89222842160122,31.06449564445537,30.88244424821498,30.93540746491663,31.306161633463645,31.15005488704943,31.340750716743248,31.510925711919647,32.140796229283744,31.719874169905495,31.077769732244075,31.096533394955994,31.002836061903814,30.763356124708974,30.851397250344405,30.803873095580435,31.255213151152937,31.51711463263016,31.169387503519495,31.201013659745392,31.035450596260915,31.113325479369045,30.901365400355374,30.455311123096564,30.414606177766057,29.87360194769948,29.93260672724749,30.159280357731543,28.85970186848763,29.45867935557125,29.542482878664032,28.97552073044176,28.95771230523274,29.037596163362124,28.790722180791416,29.167082157995104,29.229791285832963,29.670891677661928,29.988632887434854,28.55225430324646,28.395272709947285,28.19553923279916,28.088755124289342,28.313105404538064,28.660885232772728,29.09873640654459,28.542014280334648,28.636679165696457,28.446935717004717,27.147737229551282,27.99870764870187,28.33006410217922,28.218964957494673,27.767488609915382,27.711136201177446,27.609573110034514,27.132065795380434,26.924206193355047,26.572663739863135,24.935952820868845,26.31429539095267,26.191344880731137,26.086723811352197,26.37464955153799,26.283527098019334,25.486938935491832,25.670132907225863,25.09557035983572,25.09557035983572,25.03946221371265,24.34290322782551,24.21446490254735,24.230430217267962,25.085187703652245,25.371483498810086,24.84436179938765,24.973400242940947,24.976199129531352,24.465448500384635,25.48190637844008,26.173900429674624,26.173900429674624,26.14626826219386,26.07073244150513,26.136133459520792,26.253189918087138,26.97965935445472,26.95828482453728,26.93487023629153,26.798457575483003,26.77892330192273,26.599048701487817,26.641136762943308,26.915036095401423,26.879448834230214,27.158137700188977,26.96910968319093,26.979763929360857,27.92770238496334,28.32297632612768,28.221272455049885,27.688077961463176,27.87009209695366,27.855245003990014,27.94790453654197,27.532716994608265,26.709845345857786,26.339366530624496,26.339366530624496,26.339366530624496,26.14332443820302,25.96679815816656,25.49325430950786,25.244739083514702,25.610217338466068,25.66860367912347,25.069696705642876,24.961648456143237,24.81097433915931,24.35695320971556,24.940209678857705,24.463163134912524,24.751706691445197,24.790510376580134,24.790510376580134,25.126522132306995,24.499817858379224,24.5458557114532,24.3150057641766,24.560987682733003,23.778440618811647,23.910279227965738,24.329338869746707,24.171759046040986,23.724060562208706,23.888307961722877,22.93216126470734,23.0450893069327,23.09309431304176,23.228755705392444,23.3403107508952,23.58643050527265,23.533765331331335,22.732748849285024,23.24195307178334,23.493581859174984,23.21305683812982,23.1904133648094,23.04355152532147,22.21212731341673,22.49407288321983,23.09375299680041,23.139597679836534,23.145609976964288,23.852251676435188,24.159063292989693,24.01314683324358,23.898597732851144,23.9378094137495,24.382518293922306,24.38009201861595,23.995007954055758,23.793405022607228,23.393048051026067,23.524106867548443,22.972610683027806,22.603829066380165,22.644621366925666,21.74268375098727,21.390416026340866,21.672178673905318,21.224598796763615,20.67734752061796,20.51998016258265,20.47651547817384,20.349173526043174,20.97573702514839,20.76668125511658,20.952248858671286,21.477670196650255,21.407237191063054,21.50315317609057,22.178225041035727,21.963174209990743,21.207350374025236,21.30448401554872,21.287125452904434,21.205711968550855,21.09969500432145,21.318228008754293,21.57509270927762,22.675700608057635,23.043686536558972,23.433467528274644,23.428069419722664,23.500546282778224,23.31091915183725,22.922765623525066,22.52831106877653,22.281245176974274,22.246955958957383,22.1057109762683,22.148981624068487,22.80861739308888,23.301037299490424,24.141109382853678,24.429708116076032,24.64536582974388,24.535598142850112,24.739364929675723,24.254665609627523,23.950536093540876,23.62392259782333,24.505101975814767,24.764100431524504,25.138356118509854,25.151116074121482,26.17036150850125,25.974695276032158,26.32362360550653,26.587027261242735,26.67279119292809,26.790830651422294,26.613264022448103,26.52704843541325,25.99169488483575,26.70916363754767,27.204827147835744,27.24147438025677,27.24147438025677,26.965207298551164,27.175334247937567,27.58563056422465,27.663055944961947,27.583405357536318,27.249992078395735,27.057364286165388,27.236098549620834,26.679991182448546,26.642642005722507,26.605313739054083,26.49052203403206,26.758428751177888,26.553446357311607,26.63514711771171,26.038098855588586,26.315573677932647,26.527249369361172,26.366481464131585,26.392261465823385,26.392261465823385,26.376469850879047,26.34454472052383,25.989330562722767,25.68510713132033,26.408071413951117,26.569416358313845,26.50377996667961,26.50377996667961,26.629910284775793,26.649210353134656,26.451356058718602,26.383292460648498,25.585927454391122,26.230625381877836,26.234062286295277,26.565475459215214,25.744507782929425,24.578335037119658,24.267897012354812,23.77880436185915,23.83147776820158,24.41123191632899,23.565839721930672,23.538731638102206,23.48162269157168,23.619315565352927,23.750832442615355,23.899259511704727,24.43507251148045,24.261241216274577,25.203174582003985,25.018120887921015,25.54120814242036,25.59282857645744,25.525777647622803,25.525777647622803,25.192580752020977,24.81266295006519,24.54170716952413,24.491264165064173,24.81182350341782,24.576403468049946,24.225015133239204,23.830840784056505,23.9787097503801,24.201541554676552,24.125402659546435,24.19809001797164,24.19809001797164,24.29913412198095,24.187019806107912,24.72325654922003,24.190018360527056,24.07813061415107,23.6087989249391,23.6087989249391,23.69289047889489,23.972590905945523,23.820451974827694,23.555145053098215,23.241391239357178,22.96504759128466,22.904848946865954,22.771131825004566],\"yaxis\":\"y\",\"type\":\"scattergl\"}],                        {\"template\":{\"data\":{\"bar\":[{\"error_x\":{\"color\":\"#2a3f5f\"},\"error_y\":{\"color\":\"#2a3f5f\"},\"marker\":{\"line\":{\"color\":\"#E5ECF6\",\"width\":0.5},\"pattern\":{\"fillmode\":\"overlay\",\"size\":10,\"solidity\":0.2}},\"type\":\"bar\"}],\"barpolar\":[{\"marker\":{\"line\":{\"color\":\"#E5ECF6\",\"width\":0.5},\"pattern\":{\"fillmode\":\"overlay\",\"size\":10,\"solidity\":0.2}},\"type\":\"barpolar\"}],\"carpet\":[{\"aaxis\":{\"endlinecolor\":\"#2a3f5f\",\"gridcolor\":\"white\",\"linecolor\":\"white\",\"minorgridcolor\":\"white\",\"startlinecolor\":\"#2a3f5f\"},\"baxis\":{\"endlinecolor\":\"#2a3f5f\",\"gridcolor\":\"white\",\"linecolor\":\"white\",\"minorgridcolor\":\"white\",\"startlinecolor\":\"#2a3f5f\"},\"type\":\"carpet\"}],\"choropleth\":[{\"colorbar\":{\"outlinewidth\":0,\"ticks\":\"\"},\"type\":\"choropleth\"}],\"contour\":[{\"colorbar\":{\"outlinewidth\":0,\"ticks\":\"\"},\"colorscale\":[[0.0,\"#0d0887\"],[0.1111111111111111,\"#46039f\"],[0.2222222222222222,\"#7201a8\"],[0.3333333333333333,\"#9c179e\"],[0.4444444444444444,\"#bd3786\"],[0.5555555555555556,\"#d8576b\"],[0.6666666666666666,\"#ed7953\"],[0.7777777777777778,\"#fb9f3a\"],[0.8888888888888888,\"#fdca26\"],[1.0,\"#f0f921\"]],\"type\":\"contour\"}],\"contourcarpet\":[{\"colorbar\":{\"outlinewidth\":0,\"ticks\":\"\"},\"type\":\"contourcarpet\"}],\"heatmap\":[{\"colorbar\":{\"outlinewidth\":0,\"ticks\":\"\"},\"colorscale\":[[0.0,\"#0d0887\"],[0.1111111111111111,\"#46039f\"],[0.2222222222222222,\"#7201a8\"],[0.3333333333333333,\"#9c179e\"],[0.4444444444444444,\"#bd3786\"],[0.5555555555555556,\"#d8576b\"],[0.6666666666666666,\"#ed7953\"],[0.7777777777777778,\"#fb9f3a\"],[0.8888888888888888,\"#fdca26\"],[1.0,\"#f0f921\"]],\"type\":\"heatmap\"}],\"heatmapgl\":[{\"colorbar\":{\"outlinewidth\":0,\"ticks\":\"\"},\"colorscale\":[[0.0,\"#0d0887\"],[0.1111111111111111,\"#46039f\"],[0.2222222222222222,\"#7201a8\"],[0.3333333333333333,\"#9c179e\"],[0.4444444444444444,\"#bd3786\"],[0.5555555555555556,\"#d8576b\"],[0.6666666666666666,\"#ed7953\"],[0.7777777777777778,\"#fb9f3a\"],[0.8888888888888888,\"#fdca26\"],[1.0,\"#f0f921\"]],\"type\":\"heatmapgl\"}],\"histogram\":[{\"marker\":{\"pattern\":{\"fillmode\":\"overlay\",\"size\":10,\"solidity\":0.2}},\"type\":\"histogram\"}],\"histogram2d\":[{\"colorbar\":{\"outlinewidth\":0,\"ticks\":\"\"},\"colorscale\":[[0.0,\"#0d0887\"],[0.1111111111111111,\"#46039f\"],[0.2222222222222222,\"#7201a8\"],[0.3333333333333333,\"#9c179e\"],[0.4444444444444444,\"#bd3786\"],[0.5555555555555556,\"#d8576b\"],[0.6666666666666666,\"#ed7953\"],[0.7777777777777778,\"#fb9f3a\"],[0.8888888888888888,\"#fdca26\"],[1.0,\"#f0f921\"]],\"type\":\"histogram2d\"}],\"histogram2dcontour\":[{\"colorbar\":{\"outlinewidth\":0,\"ticks\":\"\"},\"colorscale\":[[0.0,\"#0d0887\"],[0.1111111111111111,\"#46039f\"],[0.2222222222222222,\"#7201a8\"],[0.3333333333333333,\"#9c179e\"],[0.4444444444444444,\"#bd3786\"],[0.5555555555555556,\"#d8576b\"],[0.6666666666666666,\"#ed7953\"],[0.7777777777777778,\"#fb9f3a\"],[0.8888888888888888,\"#fdca26\"],[1.0,\"#f0f921\"]],\"type\":\"histogram2dcontour\"}],\"mesh3d\":[{\"colorbar\":{\"outlinewidth\":0,\"ticks\":\"\"},\"type\":\"mesh3d\"}],\"parcoords\":[{\"line\":{\"colorbar\":{\"outlinewidth\":0,\"ticks\":\"\"}},\"type\":\"parcoords\"}],\"pie\":[{\"automargin\":true,\"type\":\"pie\"}],\"scatter\":[{\"marker\":{\"colorbar\":{\"outlinewidth\":0,\"ticks\":\"\"}},\"type\":\"scatter\"}],\"scatter3d\":[{\"line\":{\"colorbar\":{\"outlinewidth\":0,\"ticks\":\"\"}},\"marker\":{\"colorbar\":{\"outlinewidth\":0,\"ticks\":\"\"}},\"type\":\"scatter3d\"}],\"scattercarpet\":[{\"marker\":{\"colorbar\":{\"outlinewidth\":0,\"ticks\":\"\"}},\"type\":\"scattercarpet\"}],\"scattergeo\":[{\"marker\":{\"colorbar\":{\"outlinewidth\":0,\"ticks\":\"\"}},\"type\":\"scattergeo\"}],\"scattergl\":[{\"marker\":{\"colorbar\":{\"outlinewidth\":0,\"ticks\":\"\"}},\"type\":\"scattergl\"}],\"scattermapbox\":[{\"marker\":{\"colorbar\":{\"outlinewidth\":0,\"ticks\":\"\"}},\"type\":\"scattermapbox\"}],\"scatterpolar\":[{\"marker\":{\"colorbar\":{\"outlinewidth\":0,\"ticks\":\"\"}},\"type\":\"scatterpolar\"}],\"scatterpolargl\":[{\"marker\":{\"colorbar\":{\"outlinewidth\":0,\"ticks\":\"\"}},\"type\":\"scatterpolargl\"}],\"scatterternary\":[{\"marker\":{\"colorbar\":{\"outlinewidth\":0,\"ticks\":\"\"}},\"type\":\"scatterternary\"}],\"surface\":[{\"colorbar\":{\"outlinewidth\":0,\"ticks\":\"\"},\"colorscale\":[[0.0,\"#0d0887\"],[0.1111111111111111,\"#46039f\"],[0.2222222222222222,\"#7201a8\"],[0.3333333333333333,\"#9c179e\"],[0.4444444444444444,\"#bd3786\"],[0.5555555555555556,\"#d8576b\"],[0.6666666666666666,\"#ed7953\"],[0.7777777777777778,\"#fb9f3a\"],[0.8888888888888888,\"#fdca26\"],[1.0,\"#f0f921\"]],\"type\":\"surface\"}],\"table\":[{\"cells\":{\"fill\":{\"color\":\"#EBF0F8\"},\"line\":{\"color\":\"white\"}},\"header\":{\"fill\":{\"color\":\"#C8D4E3\"},\"line\":{\"color\":\"white\"}},\"type\":\"table\"}]},\"layout\":{\"annotationdefaults\":{\"arrowcolor\":\"#2a3f5f\",\"arrowhead\":0,\"arrowwidth\":1},\"autotypenumbers\":\"strict\",\"coloraxis\":{\"colorbar\":{\"outlinewidth\":0,\"ticks\":\"\"}},\"colorscale\":{\"diverging\":[[0,\"#8e0152\"],[0.1,\"#c51b7d\"],[0.2,\"#de77ae\"],[0.3,\"#f1b6da\"],[0.4,\"#fde0ef\"],[0.5,\"#f7f7f7\"],[0.6,\"#e6f5d0\"],[0.7,\"#b8e186\"],[0.8,\"#7fbc41\"],[0.9,\"#4d9221\"],[1,\"#276419\"]],\"sequential\":[[0.0,\"#0d0887\"],[0.1111111111111111,\"#46039f\"],[0.2222222222222222,\"#7201a8\"],[0.3333333333333333,\"#9c179e\"],[0.4444444444444444,\"#bd3786\"],[0.5555555555555556,\"#d8576b\"],[0.6666666666666666,\"#ed7953\"],[0.7777777777777778,\"#fb9f3a\"],[0.8888888888888888,\"#fdca26\"],[1.0,\"#f0f921\"]],\"sequentialminus\":[[0.0,\"#0d0887\"],[0.1111111111111111,\"#46039f\"],[0.2222222222222222,\"#7201a8\"],[0.3333333333333333,\"#9c179e\"],[0.4444444444444444,\"#bd3786\"],[0.5555555555555556,\"#d8576b\"],[0.6666666666666666,\"#ed7953\"],[0.7777777777777778,\"#fb9f3a\"],[0.8888888888888888,\"#fdca26\"],[1.0,\"#f0f921\"]]},\"colorway\":[\"#636efa\",\"#EF553B\",\"#00cc96\",\"#ab63fa\",\"#FFA15A\",\"#19d3f3\",\"#FF6692\",\"#B6E880\",\"#FF97FF\",\"#FECB52\"],\"font\":{\"color\":\"#2a3f5f\"},\"geo\":{\"bgcolor\":\"white\",\"lakecolor\":\"white\",\"landcolor\":\"#E5ECF6\",\"showlakes\":true,\"showland\":true,\"subunitcolor\":\"white\"},\"hoverlabel\":{\"align\":\"left\"},\"hovermode\":\"closest\",\"mapbox\":{\"style\":\"light\"},\"paper_bgcolor\":\"white\",\"plot_bgcolor\":\"#E5ECF6\",\"polar\":{\"angularaxis\":{\"gridcolor\":\"white\",\"linecolor\":\"white\",\"ticks\":\"\"},\"bgcolor\":\"#E5ECF6\",\"radialaxis\":{\"gridcolor\":\"white\",\"linecolor\":\"white\",\"ticks\":\"\"}},\"scene\":{\"xaxis\":{\"backgroundcolor\":\"#E5ECF6\",\"gridcolor\":\"white\",\"gridwidth\":2,\"linecolor\":\"white\",\"showbackground\":true,\"ticks\":\"\",\"zerolinecolor\":\"white\"},\"yaxis\":{\"backgroundcolor\":\"#E5ECF6\",\"gridcolor\":\"white\",\"gridwidth\":2,\"linecolor\":\"white\",\"showbackground\":true,\"ticks\":\"\",\"zerolinecolor\":\"white\"},\"zaxis\":{\"backgroundcolor\":\"#E5ECF6\",\"gridcolor\":\"white\",\"gridwidth\":2,\"linecolor\":\"white\",\"showbackground\":true,\"ticks\":\"\",\"zerolinecolor\":\"white\"}},\"shapedefaults\":{\"line\":{\"color\":\"#2a3f5f\"}},\"ternary\":{\"aaxis\":{\"gridcolor\":\"white\",\"linecolor\":\"white\",\"ticks\":\"\"},\"baxis\":{\"gridcolor\":\"white\",\"linecolor\":\"white\",\"ticks\":\"\"},\"bgcolor\":\"#E5ECF6\",\"caxis\":{\"gridcolor\":\"white\",\"linecolor\":\"white\",\"ticks\":\"\"}},\"title\":{\"x\":0.05},\"xaxis\":{\"automargin\":true,\"gridcolor\":\"white\",\"linecolor\":\"white\",\"ticks\":\"\",\"title\":{\"standoff\":15},\"zerolinecolor\":\"white\",\"zerolinewidth\":2},\"yaxis\":{\"automargin\":true,\"gridcolor\":\"white\",\"linecolor\":\"white\",\"ticks\":\"\",\"title\":{\"standoff\":15},\"zerolinecolor\":\"white\",\"zerolinewidth\":2}}},\"xaxis\":{\"anchor\":\"y\",\"domain\":[0.0,1.0],\"title\":{\"text\":\"index\"}},\"yaxis\":{\"anchor\":\"x\",\"domain\":[0.0,1.0],\"title\":{\"text\":\"rolling_returns\"}},\"legend\":{\"tracegroupgap\":0},\"title\":{\"text\":\"Rolling 5-year returns\"}},                        {\"responsive\": true}                    ).then(function(){\n",
              "                            \n",
              "var gd = document.getElementById('e1f334d5-857b-4b47-806a-37e54ee1c6ff');\n",
              "var x = new MutationObserver(function (mutations, observer) {{\n",
              "        var display = window.getComputedStyle(gd).display;\n",
              "        if (!display || display === 'none') {{\n",
              "            console.log([gd, 'removed!']);\n",
              "            Plotly.purge(gd);\n",
              "            observer.disconnect();\n",
              "        }}\n",
              "}});\n",
              "\n",
              "// Listen for the removal of the full notebook cells\n",
              "var notebookContainer = gd.closest('#notebook-container');\n",
              "if (notebookContainer) {{\n",
              "    x.observe(notebookContainer, {childList: true});\n",
              "}}\n",
              "\n",
              "// Listen for the clearing of the current output cell\n",
              "var outputEl = gd.closest('.output');\n",
              "if (outputEl) {{\n",
              "    x.observe(outputEl, {childList: true});\n",
              "}}\n",
              "\n",
              "                        })                };                            </script>        </div>\n",
              "</body>\n",
              "</html>"
            ]
          },
          "metadata": {}
        }
      ]
    },
    {
      "cell_type": "code",
      "source": [],
      "metadata": {
        "id": "5_SQzDgAbsOP"
      },
      "execution_count": null,
      "outputs": []
    }
  ]
}